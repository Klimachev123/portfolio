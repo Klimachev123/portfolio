{
 "cells": [
  {
   "cell_type": "markdown",
   "metadata": {
    "toc": true
   },
   "source": [
    "<h1>Содержание<span class=\"tocSkip\"></span></h1>\n",
    "<div class=\"toc\"><ul class=\"toc-item\"><li><span><a href=\"#Подготовка-данных\" data-toc-modified-id=\"Подготовка-данных-1\"><span class=\"toc-item-num\">1&nbsp;&nbsp;</span>Подготовка данных</a></span><ul class=\"toc-item\"><li><span><a href=\"#Откройтие-и-изучение-файлов.\" data-toc-modified-id=\"Откройтие-и-изучение-файлов.-1.1\"><span class=\"toc-item-num\">1.1&nbsp;&nbsp;</span>Откройтие и изучение файлов.</a></span></li><li><span><a href=\"#Проверка-расчетов-эффективности-обогащения\" data-toc-modified-id=\"Проверка-расчетов-эффективности-обогащения-1.2\"><span class=\"toc-item-num\">1.2&nbsp;&nbsp;</span>Проверка расчетов эффективности обогащения</a></span></li><li><span><a href=\"#анализ-признаков,-недоступных-в-тестовой-выборке.\" data-toc-modified-id=\"анализ-признаков,-недоступных-в-тестовой-выборке.-1.3\"><span class=\"toc-item-num\">1.3&nbsp;&nbsp;</span>анализ признаков, недоступных в тестовой выборке.</a></span></li></ul></li><li><span><a href=\"#Анализ-данных\" data-toc-modified-id=\"Анализ-данных-2\"><span class=\"toc-item-num\">2&nbsp;&nbsp;</span>Анализ данных</a></span><ul class=\"toc-item\"><li><span><a href=\"#изучение-изменений-концетрации-металлов--(Au,-Ag,-Pb)-на-различных-этапах-очистки\" data-toc-modified-id=\"изучение-изменений-концетрации-металлов--(Au,-Ag,-Pb)-на-различных-этапах-очистки-2.1\"><span class=\"toc-item-num\">2.1&nbsp;&nbsp;</span>изучение изменений концетрации металлов  (Au, Ag, Pb) на различных этапах очистки</a></span></li><li><span><a href=\"#распределения-размеров-гранул-сырья-на-обучающей-и-тестовой-выборках\" data-toc-modified-id=\"распределения-размеров-гранул-сырья-на-обучающей-и-тестовой-выборках-2.2\"><span class=\"toc-item-num\">2.2&nbsp;&nbsp;</span>распределения размеров гранул сырья на обучающей и тестовой выборках</a></span></li><li><span><a href=\"#\" data-toc-modified-id=\"-2.3\"><span class=\"toc-item-num\">2.3&nbsp;&nbsp;</span></a></span></li></ul></li><li><span><a href=\"#Модель\" data-toc-modified-id=\"Модель-3\"><span class=\"toc-item-num\">3&nbsp;&nbsp;</span>Модель</a></span><ul class=\"toc-item\"><li><span><a href=\"#функция-для-вычисления-итоговой-sMAPE\" data-toc-modified-id=\"функция-для-вычисления-итоговой-sMAPE-3.1\"><span class=\"toc-item-num\">3.1&nbsp;&nbsp;</span>функция для вычисления итоговой sMAPE</a></span></li><li><span><a href=\"#обучение-моделей,-проверка-кросс-валидацией-и-проверка-лучшей-на-тестовой-выборке\" data-toc-modified-id=\"обучение-моделей,-проверка-кросс-валидацией-и-проверка-лучшей-на-тестовой-выборке-3.2\"><span class=\"toc-item-num\">3.2&nbsp;&nbsp;</span>обучение моделей, проверка кросс-валидацией и проверка лучшей на тестовой выборке</a></span><ul class=\"toc-item\"><li><span><a href=\"#обучение-моделей\" data-toc-modified-id=\"обучение-моделей-3.2.1\"><span class=\"toc-item-num\">3.2.1&nbsp;&nbsp;</span>обучение моделей</a></span></li><li><span><a href=\"#Дерево-решений\" data-toc-modified-id=\"Дерево-решений-3.2.2\"><span class=\"toc-item-num\">3.2.2&nbsp;&nbsp;</span>Дерево решений</a></span></li><li><span><a href=\"#случайных-лес\" data-toc-modified-id=\"случайных-лес-3.2.3\"><span class=\"toc-item-num\">3.2.3&nbsp;&nbsp;</span>случайных лес</a></span></li><li><span><a href=\"#Линейная-регрессия\" data-toc-modified-id=\"Линейная-регрессия-3.2.4\"><span class=\"toc-item-num\">3.2.4&nbsp;&nbsp;</span>Линейная регрессия</a></span></li></ul></li><li><span><a href=\"#проверка-на-тестовой-выборке\" data-toc-modified-id=\"проверка-на-тестовой-выборке-3.3\"><span class=\"toc-item-num\">3.3&nbsp;&nbsp;</span>проверка на тестовой выборке</a></span></li></ul></li><li><span><a href=\"#общий-вывод\" data-toc-modified-id=\"общий-вывод-4\"><span class=\"toc-item-num\">4&nbsp;&nbsp;</span>общий вывод</a></span></li></ul></div>"
   ]
  },
  {
   "cell_type": "markdown",
   "metadata": {},
   "source": [
    "# Восстановление золота из руды"
   ]
  },
  {
   "cell_type": "markdown",
   "metadata": {},
   "source": [
    "Подготовьте прототип модели машинного обучения для «Цифры». Компания разрабатывает решения для эффективной работы промышленных предприятий.\n",
    "\n",
    "Модель должна предсказать коэффициент восстановления золота из золотосодержащей руды. Используйте данные с параметрами добычи и очистки. \n",
    "\n",
    "Модель поможет оптимизировать производство, чтобы не запускать предприятие с убыточными характеристиками.\n",
    "\n",
    "Вам нужно:\n",
    "\n",
    "1. Подготовить данные;\n",
    "2. Провести исследовательский анализ данных;\n",
    "3. Построить и обучить модель.\n",
    "\n",
    "Чтобы выполнить проект, обращайтесь к библиотекам *pandas*, *matplotlib* и *sklearn.* Вам поможет их документация."
   ]
  },
  {
   "cell_type": "markdown",
   "metadata": {},
   "source": [
    "## Подготовка данных"
   ]
  },
  {
   "cell_type": "markdown",
   "metadata": {},
   "source": [
    "###  Откройтие и изучение файлов."
   ]
  },
  {
   "cell_type": "code",
   "execution_count": 43,
   "metadata": {},
   "outputs": [],
   "source": [
    "import pandas as pd\n",
    "from sklearn.metrics import mean_absolute_error\n",
    "import matplotlib.pyplot as plt\n",
    "import numpy as np\n",
    "from scipy import stats as st\n",
    "import seaborn as sns\n",
    "from sklearn.metrics import make_scorer\n",
    "from sklearn.model_selection import GridSearchCV\n",
    "from sklearn.model_selection import cross_val_score\n",
    "from sklearn.tree import DecisionTreeRegressor\n",
    "from sklearn.ensemble import RandomForestRegressor\n",
    "from sklearn.linear_model import LinearRegression\n",
    "from sklearn.dummy import DummyRegressor"
   ]
  },
  {
   "cell_type": "code",
   "execution_count": 2,
   "metadata": {},
   "outputs": [],
   "source": [
    "train_data = pd.read_csv('/datasets/gold_recovery_train_new.csv')"
   ]
  },
  {
   "cell_type": "code",
   "execution_count": 3,
   "metadata": {},
   "outputs": [],
   "source": [
    "test_data = pd.read_csv('/datasets/gold_recovery_test_new.csv')"
   ]
  },
  {
   "cell_type": "code",
   "execution_count": 4,
   "metadata": {},
   "outputs": [],
   "source": [
    "data = pd.read_csv('/datasets/gold_recovery_full_new.csv')"
   ]
  },
  {
   "cell_type": "code",
   "execution_count": 5,
   "metadata": {},
   "outputs": [
    {
     "data": {
      "text/html": [
       "<div>\n",
       "<style scoped>\n",
       "    .dataframe tbody tr th:only-of-type {\n",
       "        vertical-align: middle;\n",
       "    }\n",
       "\n",
       "    .dataframe tbody tr th {\n",
       "        vertical-align: top;\n",
       "    }\n",
       "\n",
       "    .dataframe thead th {\n",
       "        text-align: right;\n",
       "    }\n",
       "</style>\n",
       "<table border=\"1\" class=\"dataframe\">\n",
       "  <thead>\n",
       "    <tr style=\"text-align: right;\">\n",
       "      <th></th>\n",
       "      <th>date</th>\n",
       "      <th>final.output.concentrate_ag</th>\n",
       "      <th>final.output.concentrate_pb</th>\n",
       "      <th>final.output.concentrate_sol</th>\n",
       "      <th>final.output.concentrate_au</th>\n",
       "      <th>final.output.recovery</th>\n",
       "      <th>final.output.tail_ag</th>\n",
       "      <th>final.output.tail_pb</th>\n",
       "      <th>final.output.tail_sol</th>\n",
       "      <th>final.output.tail_au</th>\n",
       "      <th>...</th>\n",
       "      <th>secondary_cleaner.state.floatbank4_a_air</th>\n",
       "      <th>secondary_cleaner.state.floatbank4_a_level</th>\n",
       "      <th>secondary_cleaner.state.floatbank4_b_air</th>\n",
       "      <th>secondary_cleaner.state.floatbank4_b_level</th>\n",
       "      <th>secondary_cleaner.state.floatbank5_a_air</th>\n",
       "      <th>secondary_cleaner.state.floatbank5_a_level</th>\n",
       "      <th>secondary_cleaner.state.floatbank5_b_air</th>\n",
       "      <th>secondary_cleaner.state.floatbank5_b_level</th>\n",
       "      <th>secondary_cleaner.state.floatbank6_a_air</th>\n",
       "      <th>secondary_cleaner.state.floatbank6_a_level</th>\n",
       "    </tr>\n",
       "  </thead>\n",
       "  <tbody>\n",
       "    <tr>\n",
       "      <th>0</th>\n",
       "      <td>2016-01-15 00:00:00</td>\n",
       "      <td>6.055403</td>\n",
       "      <td>9.889648</td>\n",
       "      <td>5.507324</td>\n",
       "      <td>42.192020</td>\n",
       "      <td>70.541216</td>\n",
       "      <td>10.411962</td>\n",
       "      <td>0.895447</td>\n",
       "      <td>16.904297</td>\n",
       "      <td>2.143149</td>\n",
       "      <td>...</td>\n",
       "      <td>14.016835</td>\n",
       "      <td>-502.488007</td>\n",
       "      <td>12.099931</td>\n",
       "      <td>-504.715942</td>\n",
       "      <td>9.925633</td>\n",
       "      <td>-498.310211</td>\n",
       "      <td>8.079666</td>\n",
       "      <td>-500.470978</td>\n",
       "      <td>14.151341</td>\n",
       "      <td>-605.841980</td>\n",
       "    </tr>\n",
       "    <tr>\n",
       "      <th>1</th>\n",
       "      <td>2016-01-15 01:00:00</td>\n",
       "      <td>6.029369</td>\n",
       "      <td>9.968944</td>\n",
       "      <td>5.257781</td>\n",
       "      <td>42.701629</td>\n",
       "      <td>69.266198</td>\n",
       "      <td>10.462676</td>\n",
       "      <td>0.927452</td>\n",
       "      <td>16.634514</td>\n",
       "      <td>2.224930</td>\n",
       "      <td>...</td>\n",
       "      <td>13.992281</td>\n",
       "      <td>-505.503262</td>\n",
       "      <td>11.950531</td>\n",
       "      <td>-501.331529</td>\n",
       "      <td>10.039245</td>\n",
       "      <td>-500.169983</td>\n",
       "      <td>7.984757</td>\n",
       "      <td>-500.582168</td>\n",
       "      <td>13.998353</td>\n",
       "      <td>-599.787184</td>\n",
       "    </tr>\n",
       "    <tr>\n",
       "      <th>2</th>\n",
       "      <td>2016-01-15 02:00:00</td>\n",
       "      <td>6.055926</td>\n",
       "      <td>10.213995</td>\n",
       "      <td>5.383759</td>\n",
       "      <td>42.657501</td>\n",
       "      <td>68.116445</td>\n",
       "      <td>10.507046</td>\n",
       "      <td>0.953716</td>\n",
       "      <td>16.208849</td>\n",
       "      <td>2.257889</td>\n",
       "      <td>...</td>\n",
       "      <td>14.015015</td>\n",
       "      <td>-502.520901</td>\n",
       "      <td>11.912783</td>\n",
       "      <td>-501.133383</td>\n",
       "      <td>10.070913</td>\n",
       "      <td>-500.129135</td>\n",
       "      <td>8.013877</td>\n",
       "      <td>-500.517572</td>\n",
       "      <td>14.028663</td>\n",
       "      <td>-601.427363</td>\n",
       "    </tr>\n",
       "    <tr>\n",
       "      <th>3</th>\n",
       "      <td>2016-01-15 03:00:00</td>\n",
       "      <td>6.047977</td>\n",
       "      <td>9.977019</td>\n",
       "      <td>4.858634</td>\n",
       "      <td>42.689819</td>\n",
       "      <td>68.347543</td>\n",
       "      <td>10.422762</td>\n",
       "      <td>0.883763</td>\n",
       "      <td>16.532835</td>\n",
       "      <td>2.146849</td>\n",
       "      <td>...</td>\n",
       "      <td>14.036510</td>\n",
       "      <td>-500.857308</td>\n",
       "      <td>11.999550</td>\n",
       "      <td>-501.193686</td>\n",
       "      <td>9.970366</td>\n",
       "      <td>-499.201640</td>\n",
       "      <td>7.977324</td>\n",
       "      <td>-500.255908</td>\n",
       "      <td>14.005551</td>\n",
       "      <td>-599.996129</td>\n",
       "    </tr>\n",
       "    <tr>\n",
       "      <th>4</th>\n",
       "      <td>2016-01-15 04:00:00</td>\n",
       "      <td>6.148599</td>\n",
       "      <td>10.142511</td>\n",
       "      <td>4.939416</td>\n",
       "      <td>42.774141</td>\n",
       "      <td>66.927016</td>\n",
       "      <td>10.360302</td>\n",
       "      <td>0.792826</td>\n",
       "      <td>16.525686</td>\n",
       "      <td>2.055292</td>\n",
       "      <td>...</td>\n",
       "      <td>14.027298</td>\n",
       "      <td>-499.838632</td>\n",
       "      <td>11.953070</td>\n",
       "      <td>-501.053894</td>\n",
       "      <td>9.925709</td>\n",
       "      <td>-501.686727</td>\n",
       "      <td>7.894242</td>\n",
       "      <td>-500.356035</td>\n",
       "      <td>13.996647</td>\n",
       "      <td>-601.496691</td>\n",
       "    </tr>\n",
       "  </tbody>\n",
       "</table>\n",
       "<p>5 rows × 87 columns</p>\n",
       "</div>"
      ],
      "text/plain": [
       "                  date  final.output.concentrate_ag  \\\n",
       "0  2016-01-15 00:00:00                     6.055403   \n",
       "1  2016-01-15 01:00:00                     6.029369   \n",
       "2  2016-01-15 02:00:00                     6.055926   \n",
       "3  2016-01-15 03:00:00                     6.047977   \n",
       "4  2016-01-15 04:00:00                     6.148599   \n",
       "\n",
       "   final.output.concentrate_pb  final.output.concentrate_sol  \\\n",
       "0                     9.889648                      5.507324   \n",
       "1                     9.968944                      5.257781   \n",
       "2                    10.213995                      5.383759   \n",
       "3                     9.977019                      4.858634   \n",
       "4                    10.142511                      4.939416   \n",
       "\n",
       "   final.output.concentrate_au  final.output.recovery  final.output.tail_ag  \\\n",
       "0                    42.192020              70.541216             10.411962   \n",
       "1                    42.701629              69.266198             10.462676   \n",
       "2                    42.657501              68.116445             10.507046   \n",
       "3                    42.689819              68.347543             10.422762   \n",
       "4                    42.774141              66.927016             10.360302   \n",
       "\n",
       "   final.output.tail_pb  final.output.tail_sol  final.output.tail_au  ...  \\\n",
       "0              0.895447              16.904297              2.143149  ...   \n",
       "1              0.927452              16.634514              2.224930  ...   \n",
       "2              0.953716              16.208849              2.257889  ...   \n",
       "3              0.883763              16.532835              2.146849  ...   \n",
       "4              0.792826              16.525686              2.055292  ...   \n",
       "\n",
       "   secondary_cleaner.state.floatbank4_a_air  \\\n",
       "0                                 14.016835   \n",
       "1                                 13.992281   \n",
       "2                                 14.015015   \n",
       "3                                 14.036510   \n",
       "4                                 14.027298   \n",
       "\n",
       "   secondary_cleaner.state.floatbank4_a_level  \\\n",
       "0                                 -502.488007   \n",
       "1                                 -505.503262   \n",
       "2                                 -502.520901   \n",
       "3                                 -500.857308   \n",
       "4                                 -499.838632   \n",
       "\n",
       "   secondary_cleaner.state.floatbank4_b_air  \\\n",
       "0                                 12.099931   \n",
       "1                                 11.950531   \n",
       "2                                 11.912783   \n",
       "3                                 11.999550   \n",
       "4                                 11.953070   \n",
       "\n",
       "   secondary_cleaner.state.floatbank4_b_level  \\\n",
       "0                                 -504.715942   \n",
       "1                                 -501.331529   \n",
       "2                                 -501.133383   \n",
       "3                                 -501.193686   \n",
       "4                                 -501.053894   \n",
       "\n",
       "   secondary_cleaner.state.floatbank5_a_air  \\\n",
       "0                                  9.925633   \n",
       "1                                 10.039245   \n",
       "2                                 10.070913   \n",
       "3                                  9.970366   \n",
       "4                                  9.925709   \n",
       "\n",
       "   secondary_cleaner.state.floatbank5_a_level  \\\n",
       "0                                 -498.310211   \n",
       "1                                 -500.169983   \n",
       "2                                 -500.129135   \n",
       "3                                 -499.201640   \n",
       "4                                 -501.686727   \n",
       "\n",
       "   secondary_cleaner.state.floatbank5_b_air  \\\n",
       "0                                  8.079666   \n",
       "1                                  7.984757   \n",
       "2                                  8.013877   \n",
       "3                                  7.977324   \n",
       "4                                  7.894242   \n",
       "\n",
       "   secondary_cleaner.state.floatbank5_b_level  \\\n",
       "0                                 -500.470978   \n",
       "1                                 -500.582168   \n",
       "2                                 -500.517572   \n",
       "3                                 -500.255908   \n",
       "4                                 -500.356035   \n",
       "\n",
       "   secondary_cleaner.state.floatbank6_a_air  \\\n",
       "0                                 14.151341   \n",
       "1                                 13.998353   \n",
       "2                                 14.028663   \n",
       "3                                 14.005551   \n",
       "4                                 13.996647   \n",
       "\n",
       "   secondary_cleaner.state.floatbank6_a_level  \n",
       "0                                 -605.841980  \n",
       "1                                 -599.787184  \n",
       "2                                 -601.427363  \n",
       "3                                 -599.996129  \n",
       "4                                 -601.496691  \n",
       "\n",
       "[5 rows x 87 columns]"
      ]
     },
     "execution_count": 5,
     "metadata": {},
     "output_type": "execute_result"
    }
   ],
   "source": [
    "data.head()"
   ]
  },
  {
   "cell_type": "code",
   "execution_count": 6,
   "metadata": {
    "scrolled": true
   },
   "outputs": [
    {
     "name": "stdout",
     "output_type": "stream",
     "text": [
      "<class 'pandas.core.frame.DataFrame'>\n",
      "RangeIndex: 14149 entries, 0 to 14148\n",
      "Data columns (total 87 columns):\n",
      " #   Column                                              Non-Null Count  Dtype  \n",
      "---  ------                                              --------------  -----  \n",
      " 0   date                                                14149 non-null  object \n",
      " 1   final.output.concentrate_ag                         14148 non-null  float64\n",
      " 2   final.output.concentrate_pb                         14148 non-null  float64\n",
      " 3   final.output.concentrate_sol                        13938 non-null  float64\n",
      " 4   final.output.concentrate_au                         14149 non-null  float64\n",
      " 5   final.output.recovery                               14149 non-null  float64\n",
      " 6   final.output.tail_ag                                14149 non-null  float64\n",
      " 7   final.output.tail_pb                                14049 non-null  float64\n",
      " 8   final.output.tail_sol                               14144 non-null  float64\n",
      " 9   final.output.tail_au                                14149 non-null  float64\n",
      " 10  primary_cleaner.input.sulfate                       14129 non-null  float64\n",
      " 11  primary_cleaner.input.depressant                    14117 non-null  float64\n",
      " 12  primary_cleaner.input.feed_size                     14149 non-null  float64\n",
      " 13  primary_cleaner.input.xanthate                      14049 non-null  float64\n",
      " 14  primary_cleaner.output.concentrate_ag               14149 non-null  float64\n",
      " 15  primary_cleaner.output.concentrate_pb               14063 non-null  float64\n",
      " 16  primary_cleaner.output.concentrate_sol              13863 non-null  float64\n",
      " 17  primary_cleaner.output.concentrate_au               14149 non-null  float64\n",
      " 18  primary_cleaner.output.tail_ag                      14148 non-null  float64\n",
      " 19  primary_cleaner.output.tail_pb                      14134 non-null  float64\n",
      " 20  primary_cleaner.output.tail_sol                     14103 non-null  float64\n",
      " 21  primary_cleaner.output.tail_au                      14149 non-null  float64\n",
      " 22  primary_cleaner.state.floatbank8_a_air              14145 non-null  float64\n",
      " 23  primary_cleaner.state.floatbank8_a_level            14148 non-null  float64\n",
      " 24  primary_cleaner.state.floatbank8_b_air              14145 non-null  float64\n",
      " 25  primary_cleaner.state.floatbank8_b_level            14148 non-null  float64\n",
      " 26  primary_cleaner.state.floatbank8_c_air              14147 non-null  float64\n",
      " 27  primary_cleaner.state.floatbank8_c_level            14148 non-null  float64\n",
      " 28  primary_cleaner.state.floatbank8_d_air              14146 non-null  float64\n",
      " 29  primary_cleaner.state.floatbank8_d_level            14148 non-null  float64\n",
      " 30  rougher.calculation.sulfate_to_au_concentrate       14148 non-null  float64\n",
      " 31  rougher.calculation.floatbank10_sulfate_to_au_feed  14148 non-null  float64\n",
      " 32  rougher.calculation.floatbank11_sulfate_to_au_feed  14148 non-null  float64\n",
      " 33  rougher.calculation.au_pb_ratio                     14149 non-null  float64\n",
      " 34  rougher.input.feed_ag                               14149 non-null  float64\n",
      " 35  rougher.input.feed_pb                               14049 non-null  float64\n",
      " 36  rougher.input.feed_rate                             14141 non-null  float64\n",
      " 37  rougher.input.feed_size                             14005 non-null  float64\n",
      " 38  rougher.input.feed_sol                              14071 non-null  float64\n",
      " 39  rougher.input.feed_au                               14149 non-null  float64\n",
      " 40  rougher.input.floatbank10_sulfate                   14120 non-null  float64\n",
      " 41  rougher.input.floatbank10_xanthate                  14141 non-null  float64\n",
      " 42  rougher.input.floatbank11_sulfate                   14113 non-null  float64\n",
      " 43  rougher.input.floatbank11_xanthate                  13721 non-null  float64\n",
      " 44  rougher.output.concentrate_ag                       14149 non-null  float64\n",
      " 45  rougher.output.concentrate_pb                       14149 non-null  float64\n",
      " 46  rougher.output.concentrate_sol                      14127 non-null  float64\n",
      " 47  rougher.output.concentrate_au                       14149 non-null  float64\n",
      " 48  rougher.output.recovery                             14149 non-null  float64\n",
      " 49  rougher.output.tail_ag                              14148 non-null  float64\n",
      " 50  rougher.output.tail_pb                              14149 non-null  float64\n",
      " 51  rougher.output.tail_sol                             14149 non-null  float64\n",
      " 52  rougher.output.tail_au                              14149 non-null  float64\n",
      " 53  rougher.state.floatbank10_a_air                     14148 non-null  float64\n",
      " 54  rougher.state.floatbank10_a_level                   14148 non-null  float64\n",
      " 55  rougher.state.floatbank10_b_air                     14148 non-null  float64\n",
      " 56  rougher.state.floatbank10_b_level                   14148 non-null  float64\n",
      " 57  rougher.state.floatbank10_c_air                     14148 non-null  float64\n",
      " 58  rougher.state.floatbank10_c_level                   14148 non-null  float64\n",
      " 59  rougher.state.floatbank10_d_air                     14149 non-null  float64\n",
      " 60  rougher.state.floatbank10_d_level                   14149 non-null  float64\n",
      " 61  rougher.state.floatbank10_e_air                     13713 non-null  float64\n",
      " 62  rougher.state.floatbank10_e_level                   14149 non-null  float64\n",
      " 63  rougher.state.floatbank10_f_air                     14149 non-null  float64\n",
      " 64  rougher.state.floatbank10_f_level                   14149 non-null  float64\n",
      " 65  secondary_cleaner.output.tail_ag                    14147 non-null  float64\n",
      " 66  secondary_cleaner.output.tail_pb                    14139 non-null  float64\n",
      " 67  secondary_cleaner.output.tail_sol                   12544 non-null  float64\n",
      " 68  secondary_cleaner.output.tail_au                    14149 non-null  float64\n",
      " 69  secondary_cleaner.state.floatbank2_a_air            13932 non-null  float64\n",
      " 70  secondary_cleaner.state.floatbank2_a_level          14148 non-null  float64\n",
      " 71  secondary_cleaner.state.floatbank2_b_air            14128 non-null  float64\n",
      " 72  secondary_cleaner.state.floatbank2_b_level          14148 non-null  float64\n",
      " 73  secondary_cleaner.state.floatbank3_a_air            14145 non-null  float64\n",
      " 74  secondary_cleaner.state.floatbank3_a_level          14148 non-null  float64\n",
      " 75  secondary_cleaner.state.floatbank3_b_air            14148 non-null  float64\n",
      " 76  secondary_cleaner.state.floatbank3_b_level          14148 non-null  float64\n",
      " 77  secondary_cleaner.state.floatbank4_a_air            14143 non-null  float64\n",
      " 78  secondary_cleaner.state.floatbank4_a_level          14148 non-null  float64\n",
      " 79  secondary_cleaner.state.floatbank4_b_air            14148 non-null  float64\n",
      " 80  secondary_cleaner.state.floatbank4_b_level          14148 non-null  float64\n",
      " 81  secondary_cleaner.state.floatbank5_a_air            14148 non-null  float64\n",
      " 82  secondary_cleaner.state.floatbank5_a_level          14148 non-null  float64\n",
      " 83  secondary_cleaner.state.floatbank5_b_air            14148 non-null  float64\n",
      " 84  secondary_cleaner.state.floatbank5_b_level          14148 non-null  float64\n",
      " 85  secondary_cleaner.state.floatbank6_a_air            14147 non-null  float64\n",
      " 86  secondary_cleaner.state.floatbank6_a_level          14148 non-null  float64\n",
      "dtypes: float64(86), object(1)\n",
      "memory usage: 9.4+ MB\n"
     ]
    }
   ],
   "source": [
    "\n",
    "train_data.info()"
   ]
  },
  {
   "cell_type": "code",
   "execution_count": 7,
   "metadata": {
    "scrolled": true
   },
   "outputs": [
    {
     "name": "stdout",
     "output_type": "stream",
     "text": [
      "<class 'pandas.core.frame.DataFrame'>\n",
      "RangeIndex: 5290 entries, 0 to 5289\n",
      "Data columns (total 53 columns):\n",
      " #   Column                                      Non-Null Count  Dtype  \n",
      "---  ------                                      --------------  -----  \n",
      " 0   date                                        5290 non-null   object \n",
      " 1   primary_cleaner.input.sulfate               5286 non-null   float64\n",
      " 2   primary_cleaner.input.depressant            5285 non-null   float64\n",
      " 3   primary_cleaner.input.feed_size             5290 non-null   float64\n",
      " 4   primary_cleaner.input.xanthate              5286 non-null   float64\n",
      " 5   primary_cleaner.state.floatbank8_a_air      5290 non-null   float64\n",
      " 6   primary_cleaner.state.floatbank8_a_level    5290 non-null   float64\n",
      " 7   primary_cleaner.state.floatbank8_b_air      5290 non-null   float64\n",
      " 8   primary_cleaner.state.floatbank8_b_level    5290 non-null   float64\n",
      " 9   primary_cleaner.state.floatbank8_c_air      5290 non-null   float64\n",
      " 10  primary_cleaner.state.floatbank8_c_level    5290 non-null   float64\n",
      " 11  primary_cleaner.state.floatbank8_d_air      5290 non-null   float64\n",
      " 12  primary_cleaner.state.floatbank8_d_level    5290 non-null   float64\n",
      " 13  rougher.input.feed_ag                       5290 non-null   float64\n",
      " 14  rougher.input.feed_pb                       5290 non-null   float64\n",
      " 15  rougher.input.feed_rate                     5287 non-null   float64\n",
      " 16  rougher.input.feed_size                     5289 non-null   float64\n",
      " 17  rougher.input.feed_sol                      5269 non-null   float64\n",
      " 18  rougher.input.feed_au                       5290 non-null   float64\n",
      " 19  rougher.input.floatbank10_sulfate           5285 non-null   float64\n",
      " 20  rougher.input.floatbank10_xanthate          5290 non-null   float64\n",
      " 21  rougher.input.floatbank11_sulfate           5282 non-null   float64\n",
      " 22  rougher.input.floatbank11_xanthate          5265 non-null   float64\n",
      " 23  rougher.state.floatbank10_a_air             5290 non-null   float64\n",
      " 24  rougher.state.floatbank10_a_level           5290 non-null   float64\n",
      " 25  rougher.state.floatbank10_b_air             5290 non-null   float64\n",
      " 26  rougher.state.floatbank10_b_level           5290 non-null   float64\n",
      " 27  rougher.state.floatbank10_c_air             5290 non-null   float64\n",
      " 28  rougher.state.floatbank10_c_level           5290 non-null   float64\n",
      " 29  rougher.state.floatbank10_d_air             5290 non-null   float64\n",
      " 30  rougher.state.floatbank10_d_level           5290 non-null   float64\n",
      " 31  rougher.state.floatbank10_e_air             5290 non-null   float64\n",
      " 32  rougher.state.floatbank10_e_level           5290 non-null   float64\n",
      " 33  rougher.state.floatbank10_f_air             5290 non-null   float64\n",
      " 34  rougher.state.floatbank10_f_level           5290 non-null   float64\n",
      " 35  secondary_cleaner.state.floatbank2_a_air    5287 non-null   float64\n",
      " 36  secondary_cleaner.state.floatbank2_a_level  5290 non-null   float64\n",
      " 37  secondary_cleaner.state.floatbank2_b_air    5288 non-null   float64\n",
      " 38  secondary_cleaner.state.floatbank2_b_level  5290 non-null   float64\n",
      " 39  secondary_cleaner.state.floatbank3_a_air    5281 non-null   float64\n",
      " 40  secondary_cleaner.state.floatbank3_a_level  5290 non-null   float64\n",
      " 41  secondary_cleaner.state.floatbank3_b_air    5290 non-null   float64\n",
      " 42  secondary_cleaner.state.floatbank3_b_level  5290 non-null   float64\n",
      " 43  secondary_cleaner.state.floatbank4_a_air    5290 non-null   float64\n",
      " 44  secondary_cleaner.state.floatbank4_a_level  5290 non-null   float64\n",
      " 45  secondary_cleaner.state.floatbank4_b_air    5290 non-null   float64\n",
      " 46  secondary_cleaner.state.floatbank4_b_level  5290 non-null   float64\n",
      " 47  secondary_cleaner.state.floatbank5_a_air    5290 non-null   float64\n",
      " 48  secondary_cleaner.state.floatbank5_a_level  5290 non-null   float64\n",
      " 49  secondary_cleaner.state.floatbank5_b_air    5290 non-null   float64\n",
      " 50  secondary_cleaner.state.floatbank5_b_level  5290 non-null   float64\n",
      " 51  secondary_cleaner.state.floatbank6_a_air    5290 non-null   float64\n",
      " 52  secondary_cleaner.state.floatbank6_a_level  5290 non-null   float64\n",
      "dtypes: float64(52), object(1)\n",
      "memory usage: 2.1+ MB\n"
     ]
    }
   ],
   "source": [
    "\n",
    "test_data.info()"
   ]
  },
  {
   "cell_type": "code",
   "execution_count": 8,
   "metadata": {
    "scrolled": true
   },
   "outputs": [
    {
     "name": "stdout",
     "output_type": "stream",
     "text": [
      "<class 'pandas.core.frame.DataFrame'>\n",
      "RangeIndex: 19439 entries, 0 to 19438\n",
      "Data columns (total 87 columns):\n",
      " #   Column                                              Non-Null Count  Dtype  \n",
      "---  ------                                              --------------  -----  \n",
      " 0   date                                                19439 non-null  object \n",
      " 1   final.output.concentrate_ag                         19438 non-null  float64\n",
      " 2   final.output.concentrate_pb                         19438 non-null  float64\n",
      " 3   final.output.concentrate_sol                        19228 non-null  float64\n",
      " 4   final.output.concentrate_au                         19439 non-null  float64\n",
      " 5   final.output.recovery                               19439 non-null  float64\n",
      " 6   final.output.tail_ag                                19438 non-null  float64\n",
      " 7   final.output.tail_pb                                19338 non-null  float64\n",
      " 8   final.output.tail_sol                               19433 non-null  float64\n",
      " 9   final.output.tail_au                                19439 non-null  float64\n",
      " 10  primary_cleaner.input.sulfate                       19415 non-null  float64\n",
      " 11  primary_cleaner.input.depressant                    19402 non-null  float64\n",
      " 12  primary_cleaner.input.feed_size                     19439 non-null  float64\n",
      " 13  primary_cleaner.input.xanthate                      19335 non-null  float64\n",
      " 14  primary_cleaner.output.concentrate_ag               19439 non-null  float64\n",
      " 15  primary_cleaner.output.concentrate_pb               19323 non-null  float64\n",
      " 16  primary_cleaner.output.concentrate_sol              19069 non-null  float64\n",
      " 17  primary_cleaner.output.concentrate_au               19439 non-null  float64\n",
      " 18  primary_cleaner.output.tail_ag                      19435 non-null  float64\n",
      " 19  primary_cleaner.output.tail_pb                      19418 non-null  float64\n",
      " 20  primary_cleaner.output.tail_sol                     19377 non-null  float64\n",
      " 21  primary_cleaner.output.tail_au                      19439 non-null  float64\n",
      " 22  primary_cleaner.state.floatbank8_a_air              19435 non-null  float64\n",
      " 23  primary_cleaner.state.floatbank8_a_level            19438 non-null  float64\n",
      " 24  primary_cleaner.state.floatbank8_b_air              19435 non-null  float64\n",
      " 25  primary_cleaner.state.floatbank8_b_level            19438 non-null  float64\n",
      " 26  primary_cleaner.state.floatbank8_c_air              19437 non-null  float64\n",
      " 27  primary_cleaner.state.floatbank8_c_level            19438 non-null  float64\n",
      " 28  primary_cleaner.state.floatbank8_d_air              19436 non-null  float64\n",
      " 29  primary_cleaner.state.floatbank8_d_level            19438 non-null  float64\n",
      " 30  rougher.calculation.sulfate_to_au_concentrate       19437 non-null  float64\n",
      " 31  rougher.calculation.floatbank10_sulfate_to_au_feed  19437 non-null  float64\n",
      " 32  rougher.calculation.floatbank11_sulfate_to_au_feed  19437 non-null  float64\n",
      " 33  rougher.calculation.au_pb_ratio                     19439 non-null  float64\n",
      " 34  rougher.input.feed_ag                               19439 non-null  float64\n",
      " 35  rougher.input.feed_pb                               19339 non-null  float64\n",
      " 36  rougher.input.feed_rate                             19428 non-null  float64\n",
      " 37  rougher.input.feed_size                             19294 non-null  float64\n",
      " 38  rougher.input.feed_sol                              19340 non-null  float64\n",
      " 39  rougher.input.feed_au                               19439 non-null  float64\n",
      " 40  rougher.input.floatbank10_sulfate                   19405 non-null  float64\n",
      " 41  rougher.input.floatbank10_xanthate                  19431 non-null  float64\n",
      " 42  rougher.input.floatbank11_sulfate                   19395 non-null  float64\n",
      " 43  rougher.input.floatbank11_xanthate                  18986 non-null  float64\n",
      " 44  rougher.output.concentrate_ag                       19439 non-null  float64\n",
      " 45  rougher.output.concentrate_pb                       19439 non-null  float64\n",
      " 46  rougher.output.concentrate_sol                      19416 non-null  float64\n",
      " 47  rougher.output.concentrate_au                       19439 non-null  float64\n",
      " 48  rougher.output.recovery                             19439 non-null  float64\n",
      " 49  rougher.output.tail_ag                              19438 non-null  float64\n",
      " 50  rougher.output.tail_pb                              19439 non-null  float64\n",
      " 51  rougher.output.tail_sol                             19439 non-null  float64\n",
      " 52  rougher.output.tail_au                              19439 non-null  float64\n",
      " 53  rougher.state.floatbank10_a_air                     19438 non-null  float64\n",
      " 54  rougher.state.floatbank10_a_level                   19438 non-null  float64\n",
      " 55  rougher.state.floatbank10_b_air                     19438 non-null  float64\n",
      " 56  rougher.state.floatbank10_b_level                   19438 non-null  float64\n",
      " 57  rougher.state.floatbank10_c_air                     19438 non-null  float64\n",
      " 58  rougher.state.floatbank10_c_level                   19438 non-null  float64\n",
      " 59  rougher.state.floatbank10_d_air                     19439 non-null  float64\n",
      " 60  rougher.state.floatbank10_d_level                   19439 non-null  float64\n",
      " 61  rougher.state.floatbank10_e_air                     19003 non-null  float64\n",
      " 62  rougher.state.floatbank10_e_level                   19439 non-null  float64\n",
      " 63  rougher.state.floatbank10_f_air                     19439 non-null  float64\n",
      " 64  rougher.state.floatbank10_f_level                   19439 non-null  float64\n",
      " 65  secondary_cleaner.output.tail_ag                    19437 non-null  float64\n",
      " 66  secondary_cleaner.output.tail_pb                    19427 non-null  float64\n",
      " 67  secondary_cleaner.output.tail_sol                   17691 non-null  float64\n",
      " 68  secondary_cleaner.output.tail_au                    19439 non-null  float64\n",
      " 69  secondary_cleaner.state.floatbank2_a_air            19219 non-null  float64\n",
      " 70  secondary_cleaner.state.floatbank2_a_level          19438 non-null  float64\n",
      " 71  secondary_cleaner.state.floatbank2_b_air            19416 non-null  float64\n",
      " 72  secondary_cleaner.state.floatbank2_b_level          19438 non-null  float64\n",
      " 73  secondary_cleaner.state.floatbank3_a_air            19426 non-null  float64\n",
      " 74  secondary_cleaner.state.floatbank3_a_level          19438 non-null  float64\n",
      " 75  secondary_cleaner.state.floatbank3_b_air            19438 non-null  float64\n",
      " 76  secondary_cleaner.state.floatbank3_b_level          19438 non-null  float64\n",
      " 77  secondary_cleaner.state.floatbank4_a_air            19433 non-null  float64\n",
      " 78  secondary_cleaner.state.floatbank4_a_level          19438 non-null  float64\n",
      " 79  secondary_cleaner.state.floatbank4_b_air            19438 non-null  float64\n",
      " 80  secondary_cleaner.state.floatbank4_b_level          19438 non-null  float64\n",
      " 81  secondary_cleaner.state.floatbank5_a_air            19438 non-null  float64\n",
      " 82  secondary_cleaner.state.floatbank5_a_level          19438 non-null  float64\n",
      " 83  secondary_cleaner.state.floatbank5_b_air            19438 non-null  float64\n",
      " 84  secondary_cleaner.state.floatbank5_b_level          19438 non-null  float64\n",
      " 85  secondary_cleaner.state.floatbank6_a_air            19437 non-null  float64\n",
      " 86  secondary_cleaner.state.floatbank6_a_level          19438 non-null  float64\n",
      "dtypes: float64(86), object(1)\n",
      "memory usage: 12.9+ MB\n"
     ]
    }
   ],
   "source": [
    "data.info()"
   ]
  },
  {
   "cell_type": "code",
   "execution_count": 9,
   "metadata": {},
   "outputs": [
    {
     "name": "stdout",
     "output_type": "stream",
     "text": [
      " дубликаты full датасета 0\n",
      " дубликаты тренировочного датасета 0\n",
      " дубликаты тестового датасета 0\n"
     ]
    }
   ],
   "source": [
    "print(\" дубликаты full датасета\", data.duplicated().sum())\n",
    "print(\" дубликаты тренировочного датасета\", train_data.duplicated().sum())\n",
    "print(\" дубликаты тестового датасета\", test_data.duplicated().sum())"
   ]
  },
  {
   "cell_type": "code",
   "execution_count": 10,
   "metadata": {},
   "outputs": [
    {
     "name": "stdout",
     "output_type": "stream",
     "text": [
      "количество пропусков в общем массиве 4481\n",
      "количество пропусков в тренировочной выборке 4100\n",
      "количество пропусков в тестовой выборке 90\n"
     ]
    }
   ],
   "source": [
    "print(\"количество пропусков в общем массиве\",data.isnull().sum().sum())\n",
    "print(\"количество пропусков в тренировочной выборке\",train_data.isnull().sum().sum())\n",
    "print(\"количество пропусков в тестовой выборке\",test_data.isnull().sum().sum())"
   ]
  },
  {
   "cell_type": "code",
   "execution_count": 11,
   "metadata": {
    "scrolled": true
   },
   "outputs": [
    {
     "name": "stdout",
     "output_type": "stream",
     "text": [
      "количество пропусков в общем массиве 0\n",
      "количество пропусков в тренировочной выборке 0\n",
      "количество пропусков в тестовой выборке 0\n"
     ]
    }
   ],
   "source": [
    "data = data.fillna(method='ffill')\n",
    "train_data = train_data.fillna(method='ffill')\n",
    "test_data = test_data.fillna(method='ffill')\n",
    "print(\"количество пропусков в общем массиве\",data.isnull().sum().sum())\n",
    "print(\"количество пропусков в тренировочной выборке\",train_data.isnull().sum().sum())\n",
    "print(\"количество пропусков в тестовой выборке\",test_data.isnull().sum().sum())"
   ]
  },
  {
   "cell_type": "markdown",
   "metadata": {},
   "source": [
    "заполняем пропуски сосендими значениями, т.к. они идут по времени и ближе всего отражают дейставительность "
   ]
  },
  {
   "cell_type": "markdown",
   "metadata": {},
   "source": [
    "###  Проверка расчетов эффективности обогащения "
   ]
  },
  {
   "cell_type": "code",
   "execution_count": 12,
   "metadata": {},
   "outputs": [],
   "source": [
    "rec = ((train_data['rougher.output.concentrate_au'] *(train_data['rougher.input.feed_au'] - train_data['rougher.output.tail_au']))/(train_data['rougher.input.feed_au']*(train_data['rougher.output.concentrate_au']-train_data['rougher.output.tail_au'])))*100 "
   ]
  },
  {
   "cell_type": "code",
   "execution_count": 13,
   "metadata": {
    "scrolled": true
   },
   "outputs": [
    {
     "name": "stdout",
     "output_type": "stream",
     "text": [
      "0    87.107763\n",
      "1    86.843261\n",
      "2    86.842308\n",
      "3    87.226430\n",
      "4    86.688794\n",
      "dtype: float64\n",
      "0    87.107763\n",
      "1    86.843261\n",
      "2    86.842308\n",
      "3    87.226430\n",
      "4    86.688794\n",
      "Name: rougher.output.recovery, dtype: float64\n",
      "среднее ручного вычесления 82.70450164550293\n",
      "среднее rougher.output.recovery 82.70450164550293\n",
      "Среднее абсолютное отклонение между значениями признака 'rougher.output.recovery' и их вычисленным аналогам 9.73512347450521e-15\n"
     ]
    }
   ],
   "source": [
    "print(rec.head())\n",
    "print(train_data['rougher.output.recovery'].head())\n",
    "\n",
    "print(\"среднее ручного вычесления\",rec.mean())\n",
    "print(\"среднее rougher.output.recovery\",train_data['rougher.output.recovery'].mean())\n",
    "\n",
    "print(\"Среднее абсолютное отклонение между значениями признака 'rougher.output.recovery' и их вычисленным аналогам\",mean_absolute_error(train_data['rougher.output.recovery'],rec))"
   ]
  },
  {
   "cell_type": "markdown",
   "metadata": {},
   "source": [
    "### анализ признаков, недоступных в тестовой выборке."
   ]
  },
  {
   "cell_type": "code",
   "execution_count": 14,
   "metadata": {
    "scrolled": true
   },
   "outputs": [
    {
     "data": {
      "text/plain": [
       "['rougher.output.recovery',\n",
       " 'primary_cleaner.output.tail_ag',\n",
       " 'primary_cleaner.output.concentrate_sol',\n",
       " 'rougher.calculation.floatbank10_sulfate_to_au_feed',\n",
       " 'secondary_cleaner.output.tail_pb',\n",
       " 'final.output.concentrate_au',\n",
       " 'rougher.output.concentrate_pb',\n",
       " 'primary_cleaner.output.concentrate_au',\n",
       " 'final.output.tail_au',\n",
       " 'rougher.calculation.sulfate_to_au_concentrate',\n",
       " 'final.output.concentrate_sol',\n",
       " 'secondary_cleaner.output.tail_ag',\n",
       " 'primary_cleaner.output.concentrate_ag',\n",
       " 'rougher.output.tail_sol',\n",
       " 'final.output.concentrate_ag',\n",
       " 'final.output.concentrate_pb',\n",
       " 'rougher.output.tail_pb',\n",
       " 'primary_cleaner.output.concentrate_pb',\n",
       " 'rougher.output.concentrate_au',\n",
       " 'rougher.output.concentrate_ag',\n",
       " 'rougher.calculation.au_pb_ratio',\n",
       " 'final.output.tail_ag',\n",
       " 'rougher.calculation.floatbank11_sulfate_to_au_feed',\n",
       " 'rougher.output.tail_ag',\n",
       " 'final.output.tail_pb',\n",
       " 'final.output.recovery',\n",
       " 'primary_cleaner.output.tail_pb',\n",
       " 'primary_cleaner.output.tail_sol',\n",
       " 'primary_cleaner.output.tail_au',\n",
       " 'secondary_cleaner.output.tail_au',\n",
       " 'rougher.output.tail_au',\n",
       " 'secondary_cleaner.output.tail_sol',\n",
       " 'final.output.tail_sol',\n",
       " 'rougher.output.concentrate_sol']"
      ]
     },
     "execution_count": 14,
     "metadata": {},
     "output_type": "execute_result"
    }
   ],
   "source": [
    "list_data = list(data)\n",
    "list_test_data = list(test_data)\n",
    "\n",
    "list_out = list(set(list_data) - set(list_test_data))\n",
    "list_out"
   ]
  },
  {
   "cell_type": "markdown",
   "metadata": {},
   "source": [
    "мы получили список столбцов, которых нет в тестовой выборке, но есть в общей. большинство столбцов это это выходные (output) и расчетные (calculation) характеристики, их нельзя использовать при обучении, так как они еще не будут доступны к моменту начала процесса. из них всех нас интересует лишь `rougher.output.recovery`.\n"
   ]
  },
  {
   "cell_type": "code",
   "execution_count": 15,
   "metadata": {},
   "outputs": [],
   "source": [
    "test_data['rougher.output.recovery'] = data['rougher.output.recovery'].loc[test_data.index]\n",
    "test_data['final.output.recovery'] = data['final.output.recovery'].loc[test_data.index]\n"
   ]
  },
  {
   "cell_type": "markdown",
   "metadata": {},
   "source": [
    "- данные были проверены на дубликаты, заменены пропуски\n",
    "- ручной расчет эффективности показывает, что `rougher.output.recovery` правильный\n",
    "- так же были добавлены нужные там столбцы (будущие таргеты) в `test_data` из общего `data`"
   ]
  },
  {
   "cell_type": "markdown",
   "metadata": {},
   "source": [
    "## Анализ данных"
   ]
  },
  {
   "cell_type": "markdown",
   "metadata": {},
   "source": [
    "### изучение изменений концетрации металлов  (Au, Ag, Pb) на различных этапах очистки "
   ]
  },
  {
   "cell_type": "code",
   "execution_count": 16,
   "metadata": {},
   "outputs": [
    {
     "name": "stdout",
     "output_type": "stream",
     "text": [
      "AxesSubplot(0.125,0.125;0.775x0.755)\n",
      "AxesSubplot(0.125,0.125;0.775x0.755)\n",
      "AxesSubplot(0.125,0.125;0.775x0.755)\n"
     ]
    },
    {
     "data": {
      "image/png": "[encoded data removed]",
      "text/plain": [
       "<Figure size 432x288 with 1 Axes>"
      ]
     },
     "metadata": {
      "needs_background": "light"
     },
     "output_type": "display_data"
    },
    {
     "data": {
      "image/png": "[encoded data removed]",
      "text/plain": [
       "<Figure size 432x288 with 1 Axes>"
      ]
     },
     "metadata": {
      "needs_background": "light"
     },
     "output_type": "display_data"
    },
    {
     "data": {
      "image/png": "[encoded data removed]",
      "text/plain": [
       "<Figure size 432x288 with 1 Axes>"
      ]
     },
     "metadata": {
      "needs_background": "light"
     },
     "output_type": "display_data"
    }
   ],
   "source": [
    "data_au = pd.DataFrame({'этап': ['флотация', 'первичная очистка', 'финальные характеристики'], 'данные': [data['rougher.output.concentrate_au'].mean(), data['primary_cleaner.output.concentrate_au'].mean(), data['final.output.concentrate_au'].mean()]})\n",
    "print(data_au.plot(x='этап', kind='bar',title= 'концентрация золота на различных этапах очистки'))\n",
    "data_pb = pd.DataFrame({'этап': ['флотация', 'первичная очистка', 'финальные характеристики'], 'данные': [data['rougher.output.concentrate_pb'].mean(), data['primary_cleaner.output.concentrate_pb'].mean(), data['final.output.concentrate_pb'].mean()]})\n",
    "print(data_pb.plot(x='этап', kind='bar',title= 'концентрация свинца на разных этапах очистки'))\n",
    "data_ag = pd.DataFrame({'этап': ['флотация', 'первичная очистка', 'финальные характеристики'], 'данные': [data['rougher.output.concentrate_ag'].mean(), data['primary_cleaner.output.concentrate_ag'].mean(), data['final.output.concentrate_ag'].mean()]})\n",
    "print(data_ag.plot(x='этап', kind='bar',title= 'концентрация серебра на разных этапах очистки'))"
   ]
  },
  {
   "cell_type": "markdown",
   "metadata": {},
   "source": [
    "по средним показателям концетрации металлов на разных этапах очистки можно сказать следущее:\n",
    "- концетрация золота к финальной стадии увеличилась чуть больше чем в два раза\n",
    "- концентрация свинца немного увеличилась после флотации, однако к финальной стадии почти не изменилась\n",
    "- концентрация серебра от флотации до финальной стадии уменьшилась почти в 3 раза"
   ]
  },
  {
   "cell_type": "markdown",
   "metadata": {},
   "source": [
    "### распределения размеров гранул сырья на обучающей и тестовой выборках "
   ]
  },
  {
   "cell_type": "code",
   "execution_count": 17,
   "metadata": {},
   "outputs": [
    {
     "name": "stdout",
     "output_type": "stream",
     "text": [
      "среднее = 55.952754028895136 \n",
      "медиана = 50.8468431600362 \n",
      "стандартное отклонение = 19.07853057739454\n",
      "распределения после флотации на тестовой выборке None\n"
     ]
    }
   ],
   "source": [
    "def distributions(INPUT):\n",
    "    MEAN = INPUT.mean()\n",
    "    MEDIAN = INPUT.median()\n",
    "    STD = np.std(INPUT)\n",
    "    \n",
    "    return print('среднее =',MEAN, \"\\nмедиана =\", MEDIAN, \"\\nстандартное отклонение =\",STD)\n",
    "\n",
    "res = distributions(test_data['rougher.input.feed_size'])\n",
    "print(\"распределения после флотации на тестовой выборке\", res)\n"
   ]
  },
  {
   "cell_type": "code",
   "execution_count": 18,
   "metadata": {},
   "outputs": [
    {
     "name": "stdout",
     "output_type": "stream",
     "text": [
      "среднее = 7.266339191270906 \n",
      "медиана = 7.25 \n",
      "стандартное отклонение = 0.6101610916571282\n",
      "распределения после очистки на тестовой выборке None\n"
     ]
    }
   ],
   "source": [
    "res = distributions(test_data['primary_cleaner.input.feed_size'])\n",
    "print(\"распределения после очистки на тестовой выборке\", res)"
   ]
  },
  {
   "cell_type": "code",
   "execution_count": 19,
   "metadata": {},
   "outputs": [
    {
     "name": "stdout",
     "output_type": "stream",
     "text": [
      "среднее = 60.23985599255732 \n",
      "медиана = 55.269783890501536 \n",
      "стандартное отклонение = 23.00449662459302\n",
      "распределения после флотации на тренировочной выборке None\n"
     ]
    }
   ],
   "source": [
    "res = distributions(train_data['rougher.input.feed_size'])\n",
    "print(\"распределения после флотации на тренировочной выборке\", res)"
   ]
  },
  {
   "cell_type": "code",
   "execution_count": 20,
   "metadata": {},
   "outputs": [
    {
     "name": "stdout",
     "output_type": "stream",
     "text": [
      "среднее = 7.322309906901314 \n",
      "медиана = 7.289999961853027 \n",
      "стандартное отклонение = 0.6140405639148665\n",
      "распределения после очистки на тренировочной выборке None\n"
     ]
    }
   ],
   "source": [
    "res = distributions(train_data['primary_cleaner.input.feed_size'])\n",
    "print(\"распределения после очистки на тренировочной выборке\", res)"
   ]
  },
  {
   "cell_type": "code",
   "execution_count": 21,
   "metadata": {},
   "outputs": [
    {
     "data": {
      "text/plain": [
       "<AxesSubplot:ylabel='Density'>"
      ]
     },
     "execution_count": 21,
     "metadata": {},
     "output_type": "execute_result"
    },
    {
     "data": {
      "image/png": "[encoded data removed]",
      "text/plain": [
       "<Figure size 432x288 with 1 Axes>"
      ]
     },
     "metadata": {
      "needs_background": "light"
     },
     "output_type": "display_data"
    }
   ],
   "source": [
    "\n",
    "DISRT_rougher = pd.concat([train_data['rougher.input.feed_size'], test_data['rougher.input.feed_size']],axis= 1) \n",
    "DISRT_rougher.plot.kde(xlim = [0, 170])\n"
   ]
  },
  {
   "cell_type": "code",
   "execution_count": 22,
   "metadata": {},
   "outputs": [
    {
     "data": {
      "text/plain": [
       "<AxesSubplot:ylabel='Density'>"
      ]
     },
     "execution_count": 22,
     "metadata": {},
     "output_type": "execute_result"
    },
    {
     "data": {
      "image/png": "[encoded data removed]",
      "text/plain": [
       "<Figure size 432x288 with 1 Axes>"
      ]
     },
     "metadata": {
      "needs_background": "light"
     },
     "output_type": "display_data"
    }
   ],
   "source": [
    "DISRT_primary_cleaner = pd.concat([train_data['primary_cleaner.input.feed_size'], test_data['primary_cleaner.input.feed_size']],axis= 1) \n",
    "DISRT_primary_cleaner.plot.kde(xlim = [0, 13])"
   ]
  },
  {
   "cell_type": "markdown",
   "metadata": {},
   "source": [
    "значимых отличий (выбросов или данных, не встречающихся в тестовой выборке) нет, поэтому можем приступать к обучению модели"
   ]
  },
  {
   "cell_type": "markdown",
   "metadata": {},
   "source": [
    "### \n",
    "\n"
   ]
  },
  {
   "cell_type": "code",
   "execution_count": 23,
   "metadata": {},
   "outputs": [
    {
     "data": {
      "text/plain": [
       "array([[<AxesSubplot:title={'center':'rougher.input.feed'}>,\n",
       "        <AxesSubplot:title={'center':'rougher.output.concentrate'}>],\n",
       "       [<AxesSubplot:title={'center':'final.output.concentrate'}>,\n",
       "        <AxesSubplot:>]], dtype=object)"
      ]
     },
     "execution_count": 23,
     "metadata": {},
     "output_type": "execute_result"
    },
    {
     "data": {
      "image/png": "[encoded data removed]",
      "text/plain": [
       "<Figure size 1440x1440 with 4 Axes>"
      ]
     },
     "metadata": {
      "needs_background": "light"
     },
     "output_type": "display_data"
    }
   ],
   "source": [
    "CONCENTRETION = pd.DataFrame()\n",
    "#CONCENTRETION['date'] = \n",
    "CONCENTRETION['rougher.input.feed'] = (data['rougher.input.feed_ag']+\n",
    "                                       data['rougher.input.feed_pb']+\n",
    "                                       data['rougher.input.feed_sol']+\n",
    "                                       data['rougher.input.feed_au'])\n",
    "CONCENTRETION['rougher.output.concentrate'] = (data['rougher.output.concentrate_ag']+\n",
    "                                       data['rougher.output.concentrate_pb']+\n",
    "                                       data['rougher.output.concentrate_sol']+\n",
    "                                       data['rougher.output.concentrate_au'])\n",
    "CONCENTRETION['final.output.concentrate'] = (data['final.output.concentrate_ag']+\n",
    "                                       data['final.output.concentrate_pb']+\n",
    "                                       data['final.output.concentrate_sol']+\n",
    "                                       data['final.output.concentrate_au'])\n",
    "CONCENTRETION.hist(figsize=(20,20), bins= 100)"
   ]
  },
  {
   "cell_type": "code",
   "execution_count": 24,
   "metadata": {},
   "outputs": [
    {
     "data": {
      "text/plain": [
       "array([[<AxesSubplot:title={'center':'rougher.input.feed'}>,\n",
       "        <AxesSubplot:title={'center':'rougher.output.concentrate'}>],\n",
       "       [<AxesSubplot:title={'center':'final.output.concentrate'}>,\n",
       "        <AxesSubplot:title={'center':'rougher.output.concentrate.traine'}>]],\n",
       "      dtype=object)"
      ]
     },
     "execution_count": 24,
     "metadata": {},
     "output_type": "execute_result"
    },
    {
     "data": {
      "image/png": "[encoded data removed]",
      "text/plain": [
       "<Figure size 1440x1440 with 4 Axes>"
      ]
     },
     "metadata": {
      "needs_background": "light"
     },
     "output_type": "display_data"
    }
   ],
   "source": [
    "rougher_output_concentrate = ['rougher.output.concentrate_ag','rougher.output.concentrate_pb',\n",
    "                              'rougher.output.concentrate_sol','rougher.output.concentrate_au']\n",
    "\n",
    "for i in rougher_output_concentrate:\n",
    "    for col in train_data:\n",
    "        if i == col:\n",
    "            train_data = train_data.loc[train_data[col] > 0] \n",
    "\n",
    "CONCENTRETION['rougher.output.concentrate.traine'] = (train_data['rougher.output.concentrate_ag']+\n",
    "                                       train_data['rougher.output.concentrate_pb']+\n",
    "                                       train_data['rougher.output.concentrate_sol']+\n",
    "                                       train_data['rougher.output.concentrate_au'])\n",
    "\n",
    "CONCENTRETION.hist(figsize=(20,20), bins= 100)"
   ]
  },
  {
   "cell_type": "markdown",
   "metadata": {},
   "source": [
    "мы видим значительные выбросы на стадии rougher.output.concentrate, поэтому устраним их из тренировочной выборки. тестовую выборку мы оставляем как есть, так как в этом проекте мы имитируем рабочие условия, где тестовая выборка поступает не вся сразу(поэтому у нас и отсутсвуют в тестовой выборке некоторые данные)"
   ]
  },
  {
   "cell_type": "code",
   "execution_count": null,
   "metadata": {},
   "outputs": [],
   "source": []
  },
  {
   "cell_type": "markdown",
   "metadata": {},
   "source": [
    "## Модель"
   ]
  },
  {
   "cell_type": "markdown",
   "metadata": {},
   "source": [
    "### функция для вычисления итоговой sMAPE "
   ]
  },
  {
   "cell_type": "code",
   "execution_count": 25,
   "metadata": {},
   "outputs": [],
   "source": [
    "def final_smape(predict_rougher,target_rougher,predict_final,target_final):\n",
    "    smape_rougher = (sum(abs(target_rougher-predict_rougher) / ((abs(target_rougher) + abs(predict_rougher))/2)*100))/len(target_rougher)\n",
    "    smape_final = 1/len(target_final) * sum(abs(target_final-predict_final) / ((abs(target_final) + abs(predict_final))/2)*100)\n",
    "    return 0.25 * smape_rougher + 0.75 * smape_final"
   ]
  },
  {
   "cell_type": "markdown",
   "metadata": {},
   "source": [
    "###  обучение моделей, проверка кросс-валидацией и проверка лучшей на тестовой выборке\n"
   ]
  },
  {
   "cell_type": "markdown",
   "metadata": {},
   "source": [
    "#### обучение моделей"
   ]
  },
  {
   "cell_type": "code",
   "execution_count": 26,
   "metadata": {},
   "outputs": [],
   "source": [
    "train = train_data[test_data.columns]"
   ]
  },
  {
   "cell_type": "markdown",
   "metadata": {},
   "source": [
    "убираем все данные из тренировочной выборки, которых нет в тестовой"
   ]
  },
  {
   "cell_type": "code",
   "execution_count": 27,
   "metadata": {},
   "outputs": [],
   "source": [
    "features = train.drop(['rougher.output.recovery','final.output.recovery','date'], axis=1)\n",
    "target_rougher = train['rougher.output.recovery']\n",
    "target_final = train['final.output.recovery']\n",
    "features_vallid = features.copy()"
   ]
  },
  {
   "cell_type": "code",
   "execution_count": 28,
   "metadata": {},
   "outputs": [],
   "source": [
    "def smape_func(predict,target):\n",
    "    smape = (sum(abs(target-predict) / ((abs(target) + abs(predict))/2)*100)/len(target))\n",
    "    return smape\n",
    "\n",
    "\n",
    "my_smape_func = make_scorer(smape_func,greater_is_better = False) "
   ]
  },
  {
   "cell_type": "markdown",
   "metadata": {},
   "source": [
    "#### Дерево решений"
   ]
  },
  {
   "cell_type": "code",
   "execution_count": 29,
   "metadata": {
    "scrolled": true
   },
   "outputs": [
    {
     "name": "stdout",
     "output_type": "stream",
     "text": [
      "лучшие параметры rougher {'max_depth': 3, 'min_samples_leaf': 3}\n",
      "лучшие параметры final {'max_depth': 2, 'min_samples_leaf': 1}\n"
     ]
    }
   ],
   "source": [
    "DTC = DecisionTreeRegressor(random_state=123)\n",
    "PAR_DTC = {'max_depth':  [x for x in range(1, 6)],\n",
    "           'min_samples_leaf' : [x for x in range (1, 4)]}\n",
    "\n",
    "DTC_rougher = GridSearchCV(DTC,PAR_DTC,cv=5, scoring =my_smape_func)\n",
    "DTC_final = GridSearchCV(DTC,PAR_DTC,cv=5, scoring =my_smape_func)\n",
    "DTC_rougher.fit(features,target_rougher)\n",
    "DTC_final.fit(features,target_final)\n",
    "\n",
    "print(\"лучшие параметры rougher\",DTC_rougher.best_params_)\n",
    "print(\"лучшие параметры final\",DTC_final.best_params_)\n"
   ]
  },
  {
   "cell_type": "code",
   "execution_count": 30,
   "metadata": {},
   "outputs": [
    {
     "name": "stdout",
     "output_type": "stream",
     "text": [
      "smape rougher 5.228989856394085\n",
      "smape final 9.289644301178432\n"
     ]
    }
   ],
   "source": [
    "DTC_model_rougher = DecisionTreeRegressor(random_state=123,max_depth= 3, min_samples_leaf = 2)\n",
    "DTC_model_rougher.fit(features,target_rougher)\n",
    "predictions_rougher = DTC_model_rougher.predict(features_vallid)\n",
    "\n",
    "DTC_model_final = DecisionTreeRegressor(random_state=123,max_depth= 3, min_samples_leaf = 1)\n",
    "DTC_model_final.fit(features,target_final)\n",
    "predictions_final = DTC_model_final.predict(features_vallid)\n",
    "\n",
    "smape_rougher = smape_func(predictions_rougher,target_rougher)\n",
    "smape_final = smape_func(predictions_final,target_final)\n",
    "\n",
    "print(\"smape rougher\",smape_rougher )\n",
    "print(\"smape final\",smape_final )"
   ]
  },
  {
   "cell_type": "markdown",
   "metadata": {},
   "source": [
    "#### случайных лес"
   ]
  },
  {
   "cell_type": "code",
   "execution_count": 32,
   "metadata": {},
   "outputs": [],
   "source": [
    "RFR = RandomForestRegressor(random_state=123)\n",
    "RFR_rougher = cross_val_score(RFR, features, target_rougher, cv=5, scoring = my_smape_func)\n"
   ]
  },
  {
   "cell_type": "code",
   "execution_count": 33,
   "metadata": {},
   "outputs": [],
   "source": [
    "RFR_final = cross_val_score(RFR, features, target_final, cv=5, scoring = my_smape_func)\n"
   ]
  },
  {
   "cell_type": "code",
   "execution_count": 34,
   "metadata": {},
   "outputs": [
    {
     "name": "stdout",
     "output_type": "stream",
     "text": [
      "smape rougher 6.95830097089642\n",
      "smape final 11.859223571713368\n"
     ]
    }
   ],
   "source": [
    "print(\"smape rougher\",RFR_rougher.mean()*-1 )\n",
    "print(\"smape final\",RFR_final.mean()*-1 )\n"
   ]
  },
  {
   "cell_type": "markdown",
   "metadata": {},
   "source": [
    "#### Линейная регрессия "
   ]
  },
  {
   "cell_type": "code",
   "execution_count": 36,
   "metadata": {},
   "outputs": [],
   "source": [
    "LR = LinearRegression()\n",
    "LR_rougher = cross_val_score(LR, features, target_rougher, cv=5, scoring = my_smape_func)\n",
    "LR_final = cross_val_score(LR, features, target_final, cv=5, scoring = my_smape_func)"
   ]
  },
  {
   "cell_type": "code",
   "execution_count": 37,
   "metadata": {},
   "outputs": [
    {
     "name": "stdout",
     "output_type": "stream",
     "text": [
      "smape rougher 7.314565450275964\n",
      "smape final 12.249018925547414\n"
     ]
    }
   ],
   "source": [
    "print(\"smape rougher\",LR_rougher.mean()*-1 )\n",
    "print(\"smape final\",LR_final.mean()*-1 )"
   ]
  },
  {
   "cell_type": "markdown",
   "metadata": {},
   "source": [
    "Дерево решений оказалось лучшей моделью из трех опробованных. мы проверим эту модель на тестовой выборке"
   ]
  },
  {
   "cell_type": "markdown",
   "metadata": {},
   "source": [
    "### проверка на тестовой выборке"
   ]
  },
  {
   "cell_type": "code",
   "execution_count": 41,
   "metadata": {},
   "outputs": [],
   "source": [
    "features_test = test_data.drop(['rougher.output.recovery','final.output.recovery','date'], axis=1)\n",
    "test_data.loc[test_data['rougher.output.recovery'] == 0, 'rougher.output.recovery'] = 0.00001\n",
    "target_rougher_test = test_data['rougher.output.recovery']\n",
    "target_final_test = test_data['final.output.recovery']"
   ]
  },
  {
   "cell_type": "code",
   "execution_count": 39,
   "metadata": {},
   "outputs": [
    {
     "name": "stdout",
     "output_type": "stream",
     "text": [
      "smape rougher 8.477776655828785\n",
      "smape final 10.034872272298088\n"
     ]
    }
   ],
   "source": [
    "DTC_test_rougher = DecisionTreeRegressor(random_state=123,max_depth= 3, min_samples_leaf = 2)\n",
    "DTC_test_rougher.fit(features_test,target_rougher_test)\n",
    "predictions_rougher_test = DTC_test_rougher.predict(features_test)\n",
    "\n",
    "DTC_test_final = DecisionTreeRegressor(random_state=123,max_depth= 3, min_samples_leaf = 2)\n",
    "DTC_test_final.fit(features_test,target_final_test)\n",
    "predictions_final_test = DTC_test_final.predict(features_test)\n",
    "\n",
    "smape_rougher_test = smape_func(predictions_rougher_test,target_rougher_test)\n",
    "smape_final_test = smape_func(predictions_final_test,target_final_test)\n",
    "\n",
    "print(\"smape rougher\", smape_rougher_test)\n",
    "print(\"smape final\", smape_final_test)\n"
   ]
  },
  {
   "cell_type": "markdown",
   "metadata": {},
   "source": [
    "перед вычислением финального `smape` проверим выбранную модель на адекватность с помощью DummyRegressor"
   ]
  },
  {
   "cell_type": "code",
   "execution_count": 48,
   "metadata": {},
   "outputs": [
    {
     "name": "stdout",
     "output_type": "stream",
     "text": [
      "smape rougher 11.777405088891115\n",
      "smape final 20.882240574757947\n"
     ]
    }
   ],
   "source": [
    "dummy_regr_rougher = DummyRegressor(strategy=\"mean\")\n",
    "dummy_regr_rougher.fit(features_test, target_rougher_test)\n",
    "dummy_predictions_rougher = dummy_regr.predict(features_test)\n",
    "\n",
    "dummy_regr_final = DummyRegressor(strategy=\"mean\")\n",
    "dummy_regr_final.fit(features_test, target_final_test)\n",
    "dummy_predictions_final = dummy_regr.predict(features_test)\n",
    "\n",
    "smape_rougher_dummy = smape_func(dummy_predictions_rougher,target_rougher_test)\n",
    "smape_final_dummy = smape_func(dummy_predictions_final,target_final_test)\n",
    "\n",
    "print(\"smape rougher\", smape_rougher_dummy)\n",
    "print(\"smape final\", smape_final_dummy)"
   ]
  },
  {
   "cell_type": "markdown",
   "metadata": {},
   "source": [
    "значения smape нашей модели меньше чем в dummy => следовательно можно сказать что модель прошла проверку на адекватность "
   ]
  },
  {
   "cell_type": "code",
   "execution_count": 50,
   "metadata": {},
   "outputs": [
    {
     "name": "stdout",
     "output_type": "stream",
     "text": [
      "итоговая sMAPE 9.645598368180762\n"
     ]
    }
   ],
   "source": [
    "print(\"итоговая sMAPE\",0.25 * smape_rougher_test + 0.75 * smape_final_test)"
   ]
  },
  {
   "cell_type": "markdown",
   "metadata": {},
   "source": [
    "## общий вывод"
   ]
  },
  {
   "cell_type": "markdown",
   "metadata": {},
   "source": [
    "нами было обработано три массива данных, общая выборка, тренировочная и тестовая.\n",
    "\n",
    "1. \n",
    "- была проведена проверка на дубликаты\n",
    "- заполнены пропуски \n",
    "- проведена проверка расчетов эффективности обогащения\n",
    "- были изучены признаки, недоступные в тестовой выборке\n",
    "2. \n",
    "- выявлены изменения концетрации металлов (Au, Ag, Pb) на различных этапах очистки - концетрация золота к финальной стадии увеличилась чуть больше чем в два раза\n",
    "- описаны в графиках распределения размеров гранул сырья на обучающей и тестовой выборках. мы смогли увидеть, что значения не сильно отличаються, следовательно мы можем спокойно обучать модель и проверять её на тестовой выборке. Т.к. значения уже встречались в тренировочной выборке, мы можем расчитывать на адекватный результат \n",
    "- Исследована суммарнуя концентрация всех веществ на разных стадиях: в сырье, в черновом и финальном концентратах. Были выявлены и удалены аномальные значения, которые помешали бы нам при обучении\n",
    "3. \n",
    "- была построена функция для вычисления итоговой sMAPE\n",
    "- удалены все данные из тренировочной выборки, которых нет в тестовой\n",
    "- была построена функция для вычисления sMAPE для отдельных таргетов\n",
    "- были построены три модели: дерево решений, случайный лес и линейная регрессия\n",
    "- была выявлена лучшая модель на основе sMAPE для отдельных таргетов - ей оказалась \"Дерево решений\"\n",
    "- проведена проверка данной модели на тестовой выборке\n",
    "- проведена проверка на адекватность с помощью DummyRegressor\n",
    "- получен итоговый sMAPE `9.64`"
   ]
  },
  {
   "cell_type": "code",
   "execution_count": null,
   "metadata": {},
   "outputs": [],
   "source": []
  }
 ],
 "metadata": {
  "ExecuteTimeLog": [
   {
    "duration": 403,
    "start_time": "2023-04-19T19:15:57.082Z"
   },
   {
    "duration": 1168,
    "start_time": "2023-04-19T19:15:57.487Z"
   },
   {
    "duration": 154,
    "start_time": "2023-04-19T19:15:58.661Z"
   },
   {
    "duration": 0,
    "start_time": "2023-04-19T19:15:58.817Z"
   },
   {
    "duration": 294,
    "start_time": "2023-04-19T19:16:28.482Z"
   },
   {
    "duration": 987,
    "start_time": "2023-04-19T19:16:39.895Z"
   },
   {
    "duration": 2287,
    "start_time": "2023-04-19T19:16:42.804Z"
   },
   {
    "duration": 33,
    "start_time": "2023-04-19T19:17:21.329Z"
   },
   {
    "duration": 20,
    "start_time": "2023-04-19T19:17:55.054Z"
   },
   {
    "duration": 18,
    "start_time": "2023-04-19T19:18:17.258Z"
   },
   {
    "duration": 27,
    "start_time": "2023-04-19T19:27:20.933Z"
   },
   {
    "duration": 18,
    "start_time": "2023-04-19T19:28:21.104Z"
   },
   {
    "duration": 10,
    "start_time": "2023-04-19T19:28:34.417Z"
   },
   {
    "duration": 16,
    "start_time": "2023-04-19T19:28:54.680Z"
   },
   {
    "duration": 5,
    "start_time": "2023-04-19T20:07:49.960Z"
   },
   {
    "duration": 5,
    "start_time": "2023-04-19T20:08:00.694Z"
   },
   {
    "duration": 5,
    "start_time": "2023-04-19T20:08:41.063Z"
   },
   {
    "duration": 5,
    "start_time": "2023-04-19T20:09:26.190Z"
   },
   {
    "duration": 4,
    "start_time": "2023-04-19T20:09:28.198Z"
   },
   {
    "duration": 842,
    "start_time": "2023-04-19T20:10:01.711Z"
   },
   {
    "duration": 5,
    "start_time": "2023-04-19T20:10:38.214Z"
   },
   {
    "duration": 4,
    "start_time": "2023-04-19T20:12:14.204Z"
   },
   {
    "duration": 4,
    "start_time": "2023-04-19T20:12:25.250Z"
   },
   {
    "duration": 2,
    "start_time": "2023-04-19T20:20:58.621Z"
   },
   {
    "duration": 289,
    "start_time": "2023-04-19T20:20:58.625Z"
   },
   {
    "duration": 75,
    "start_time": "2023-04-19T20:20:58.915Z"
   },
   {
    "duration": 347,
    "start_time": "2023-04-19T20:20:58.992Z"
   },
   {
    "duration": 15,
    "start_time": "2023-04-19T20:20:59.342Z"
   },
   {
    "duration": 12,
    "start_time": "2023-04-19T20:20:59.358Z"
   },
   {
    "duration": 16,
    "start_time": "2023-04-19T20:20:59.371Z"
   },
   {
    "duration": 58,
    "start_time": "2023-04-19T20:20:59.388Z"
   },
   {
    "duration": 0,
    "start_time": "2023-04-19T20:20:59.448Z"
   },
   {
    "duration": 0,
    "start_time": "2023-04-19T20:20:59.449Z"
   },
   {
    "duration": 0,
    "start_time": "2023-04-19T20:20:59.450Z"
   },
   {
    "duration": 0,
    "start_time": "2023-04-19T20:20:59.451Z"
   },
   {
    "duration": 0,
    "start_time": "2023-04-19T20:20:59.451Z"
   },
   {
    "duration": 0,
    "start_time": "2023-04-19T20:20:59.453Z"
   },
   {
    "duration": 2,
    "start_time": "2023-04-19T20:21:11.902Z"
   },
   {
    "duration": 272,
    "start_time": "2023-04-19T20:21:11.906Z"
   },
   {
    "duration": 76,
    "start_time": "2023-04-19T20:21:12.179Z"
   },
   {
    "duration": 333,
    "start_time": "2023-04-19T20:21:12.257Z"
   },
   {
    "duration": 14,
    "start_time": "2023-04-19T20:21:12.592Z"
   },
   {
    "duration": 10,
    "start_time": "2023-04-19T20:21:12.608Z"
   },
   {
    "duration": 28,
    "start_time": "2023-04-19T20:21:12.619Z"
   },
   {
    "duration": 4,
    "start_time": "2023-04-19T20:21:12.649Z"
   },
   {
    "duration": 7,
    "start_time": "2023-04-19T20:21:12.654Z"
   },
   {
    "duration": 9,
    "start_time": "2023-04-19T20:21:12.662Z"
   },
   {
    "duration": 6,
    "start_time": "2023-04-19T20:21:12.672Z"
   },
   {
    "duration": 5,
    "start_time": "2023-04-19T20:21:12.680Z"
   },
   {
    "duration": 16,
    "start_time": "2023-04-19T20:21:12.687Z"
   },
   {
    "duration": 5,
    "start_time": "2023-04-19T20:21:40.118Z"
   },
   {
    "duration": 5,
    "start_time": "2023-04-19T20:21:42.526Z"
   },
   {
    "duration": 4,
    "start_time": "2023-04-19T20:21:55.249Z"
   },
   {
    "duration": 4,
    "start_time": "2023-04-19T20:21:58.329Z"
   },
   {
    "duration": 54,
    "start_time": "2023-04-20T18:37:47.153Z"
   },
   {
    "duration": 1095,
    "start_time": "2023-04-20T18:37:54.138Z"
   },
   {
    "duration": 1150,
    "start_time": "2023-04-20T18:37:55.236Z"
   },
   {
    "duration": 164,
    "start_time": "2023-04-20T18:37:56.388Z"
   },
   {
    "duration": 526,
    "start_time": "2023-04-20T18:37:56.554Z"
   },
   {
    "duration": 21,
    "start_time": "2023-04-20T18:37:57.083Z"
   },
   {
    "duration": 13,
    "start_time": "2023-04-20T18:37:57.106Z"
   },
   {
    "duration": 19,
    "start_time": "2023-04-20T18:37:57.122Z"
   },
   {
    "duration": 127,
    "start_time": "2023-04-20T18:37:57.143Z"
   },
   {
    "duration": 12,
    "start_time": "2023-04-20T18:37:57.272Z"
   },
   {
    "duration": 25,
    "start_time": "2023-04-20T18:37:57.290Z"
   },
   {
    "duration": 5,
    "start_time": "2023-04-20T18:37:57.317Z"
   },
   {
    "duration": 12,
    "start_time": "2023-04-20T18:37:57.324Z"
   },
   {
    "duration": 5,
    "start_time": "2023-04-20T18:37:57.338Z"
   },
   {
    "duration": 6,
    "start_time": "2023-04-20T18:37:57.345Z"
   },
   {
    "duration": 106,
    "start_time": "2023-04-20T18:40:57.629Z"
   },
   {
    "duration": 151,
    "start_time": "2023-04-20T18:41:24.002Z"
   },
   {
    "duration": 296,
    "start_time": "2023-04-20T18:43:14.741Z"
   },
   {
    "duration": 283,
    "start_time": "2023-04-20T18:45:45.020Z"
   },
   {
    "duration": 891,
    "start_time": "2023-04-20T18:48:54.288Z"
   },
   {
    "duration": 536,
    "start_time": "2023-04-20T18:49:10.213Z"
   },
   {
    "duration": 49,
    "start_time": "2023-04-20T18:53:28.503Z"
   },
   {
    "duration": 16,
    "start_time": "2023-04-20T18:53:38.655Z"
   },
   {
    "duration": 117,
    "start_time": "2023-04-20T18:54:18.966Z"
   },
   {
    "duration": 13,
    "start_time": "2023-04-20T18:54:23.868Z"
   },
   {
    "duration": 10,
    "start_time": "2023-04-20T19:46:48.983Z"
   },
   {
    "duration": 6,
    "start_time": "2023-04-20T19:53:20.507Z"
   },
   {
    "duration": 7,
    "start_time": "2023-04-20T20:02:21.875Z"
   },
   {
    "duration": 6,
    "start_time": "2023-04-20T20:07:45.741Z"
   },
   {
    "duration": 9,
    "start_time": "2023-04-20T20:07:52.470Z"
   },
   {
    "duration": 7,
    "start_time": "2023-04-20T20:08:00.356Z"
   },
   {
    "duration": 9,
    "start_time": "2023-04-20T20:08:57.863Z"
   },
   {
    "duration": 250,
    "start_time": "2023-04-20T20:09:48.439Z"
   },
   {
    "duration": 24,
    "start_time": "2023-04-20T20:11:38.751Z"
   },
   {
    "duration": 9,
    "start_time": "2023-04-20T20:12:21.562Z"
   },
   {
    "duration": 15,
    "start_time": "2023-04-20T20:15:54.895Z"
   },
   {
    "duration": 10,
    "start_time": "2023-04-20T20:17:47.381Z"
   },
   {
    "duration": 10,
    "start_time": "2023-04-20T20:19:11.936Z"
   },
   {
    "duration": 22,
    "start_time": "2023-04-20T20:20:41.149Z"
   },
   {
    "duration": 23,
    "start_time": "2023-04-20T20:21:02.024Z"
   },
   {
    "duration": 19,
    "start_time": "2023-04-20T20:23:23.192Z"
   },
   {
    "duration": 21,
    "start_time": "2023-04-20T20:29:59.422Z"
   },
   {
    "duration": 23,
    "start_time": "2023-04-20T20:30:06.419Z"
   },
   {
    "duration": 34,
    "start_time": "2023-04-20T20:30:13.556Z"
   },
   {
    "duration": 24,
    "start_time": "2023-04-20T20:30:57.202Z"
   },
   {
    "duration": 38,
    "start_time": "2023-04-20T20:31:04.836Z"
   },
   {
    "duration": 3,
    "start_time": "2023-04-20T20:37:41.790Z"
   },
   {
    "duration": 302,
    "start_time": "2023-04-20T20:37:41.795Z"
   },
   {
    "duration": 71,
    "start_time": "2023-04-20T20:37:42.099Z"
   },
   {
    "duration": 360,
    "start_time": "2023-04-20T20:37:42.172Z"
   },
   {
    "duration": 24,
    "start_time": "2023-04-20T20:37:42.534Z"
   },
   {
    "duration": 34,
    "start_time": "2023-04-20T20:37:42.560Z"
   },
   {
    "duration": 14,
    "start_time": "2023-04-20T20:37:42.596Z"
   },
   {
    "duration": 20,
    "start_time": "2023-04-20T20:37:42.611Z"
   },
   {
    "duration": 269,
    "start_time": "2023-04-20T20:37:42.633Z"
   },
   {
    "duration": 16,
    "start_time": "2023-04-20T20:37:42.905Z"
   },
   {
    "duration": 32,
    "start_time": "2023-04-20T20:37:42.923Z"
   },
   {
    "duration": 7,
    "start_time": "2023-04-20T20:37:42.957Z"
   },
   {
    "duration": 9,
    "start_time": "2023-04-20T20:37:42.993Z"
   },
   {
    "duration": 12,
    "start_time": "2023-04-20T20:37:43.005Z"
   },
   {
    "duration": 21,
    "start_time": "2023-04-20T20:37:43.019Z"
   },
   {
    "duration": 1077,
    "start_time": "2023-04-21T18:55:00.646Z"
   },
   {
    "duration": 829,
    "start_time": "2023-04-21T18:55:01.725Z"
   },
   {
    "duration": 774,
    "start_time": "2023-04-21T18:55:02.556Z"
   },
   {
    "duration": 1855,
    "start_time": "2023-04-21T18:55:03.332Z"
   },
   {
    "duration": 27,
    "start_time": "2023-04-21T18:55:05.188Z"
   },
   {
    "duration": 17,
    "start_time": "2023-04-21T18:55:05.217Z"
   },
   {
    "duration": 17,
    "start_time": "2023-04-21T18:55:05.235Z"
   },
   {
    "duration": 19,
    "start_time": "2023-04-21T18:55:05.254Z"
   },
   {
    "duration": 246,
    "start_time": "2023-04-21T18:55:05.275Z"
   },
   {
    "duration": 26,
    "start_time": "2023-04-21T18:55:05.523Z"
   },
   {
    "duration": 33,
    "start_time": "2023-04-21T18:55:05.550Z"
   },
   {
    "duration": 6,
    "start_time": "2023-04-21T18:55:05.584Z"
   },
   {
    "duration": 10,
    "start_time": "2023-04-21T18:55:05.592Z"
   },
   {
    "duration": 20,
    "start_time": "2023-04-21T18:55:05.604Z"
   },
   {
    "duration": 10,
    "start_time": "2023-04-21T18:55:05.626Z"
   },
   {
    "duration": 106,
    "start_time": "2023-04-21T19:07:24.568Z"
   },
   {
    "duration": 8,
    "start_time": "2023-04-21T19:16:33.809Z"
   },
   {
    "duration": 10,
    "start_time": "2023-04-21T19:20:11.927Z"
   },
   {
    "duration": 12,
    "start_time": "2023-04-21T19:31:54.097Z"
   },
   {
    "duration": 413,
    "start_time": "2023-04-21T19:32:53.556Z"
   },
   {
    "duration": 133,
    "start_time": "2023-04-21T19:33:31.741Z"
   },
   {
    "duration": 118,
    "start_time": "2023-04-21T19:38:26.668Z"
   },
   {
    "duration": 140,
    "start_time": "2023-04-21T19:39:54.473Z"
   },
   {
    "duration": 123,
    "start_time": "2023-04-21T19:41:03.264Z"
   },
   {
    "duration": 123,
    "start_time": "2023-04-21T19:41:06.127Z"
   },
   {
    "duration": 147,
    "start_time": "2023-04-21T19:41:08.277Z"
   },
   {
    "duration": 481,
    "start_time": "2023-04-21T19:48:18.213Z"
   },
   {
    "duration": 401,
    "start_time": "2023-04-21T20:10:00.000Z"
   },
   {
    "duration": 3,
    "start_time": "2023-04-21T20:45:55.853Z"
   },
   {
    "duration": 6,
    "start_time": "2023-04-21T20:58:42.197Z"
   },
   {
    "duration": 6,
    "start_time": "2023-04-21T20:58:50.651Z"
   },
   {
    "duration": 6,
    "start_time": "2023-04-21T20:58:53.773Z"
   },
   {
    "duration": 24,
    "start_time": "2023-04-21T20:59:01.215Z"
   },
   {
    "duration": 6,
    "start_time": "2023-04-21T20:59:05.822Z"
   },
   {
    "duration": 104,
    "start_time": "2023-04-21T20:59:13.395Z"
   },
   {
    "duration": 87,
    "start_time": "2023-04-21T20:59:39.368Z"
   },
   {
    "duration": 5,
    "start_time": "2023-04-21T20:59:45.200Z"
   },
   {
    "duration": 6,
    "start_time": "2023-04-21T21:00:28.445Z"
   },
   {
    "duration": 7,
    "start_time": "2023-04-21T21:00:36.505Z"
   },
   {
    "duration": 6,
    "start_time": "2023-04-21T21:00:48.540Z"
   },
   {
    "duration": 6,
    "start_time": "2023-04-21T21:01:00.307Z"
   },
   {
    "duration": 6,
    "start_time": "2023-04-21T21:01:44.119Z"
   },
   {
    "duration": 6,
    "start_time": "2023-04-21T21:02:53.529Z"
   },
   {
    "duration": 6,
    "start_time": "2023-04-21T21:04:08.015Z"
   },
   {
    "duration": 8,
    "start_time": "2023-04-21T21:08:32.231Z"
   },
   {
    "duration": 4,
    "start_time": "2023-04-21T21:08:46.422Z"
   },
   {
    "duration": 5,
    "start_time": "2023-04-21T21:09:00.727Z"
   },
   {
    "duration": 5,
    "start_time": "2023-04-21T21:10:38.255Z"
   },
   {
    "duration": 5,
    "start_time": "2023-04-21T21:11:05.073Z"
   },
   {
    "duration": 3,
    "start_time": "2023-04-21T21:15:13.225Z"
   },
   {
    "duration": 5,
    "start_time": "2023-04-21T21:16:04.360Z"
   },
   {
    "duration": 1494,
    "start_time": "2023-04-22T14:22:22.278Z"
   },
   {
    "duration": 1621,
    "start_time": "2023-04-22T14:22:23.774Z"
   },
   {
    "duration": 158,
    "start_time": "2023-04-22T14:22:25.397Z"
   },
   {
    "duration": 498,
    "start_time": "2023-04-22T14:22:25.557Z"
   },
   {
    "duration": 23,
    "start_time": "2023-04-22T14:22:26.057Z"
   },
   {
    "duration": 15,
    "start_time": "2023-04-22T14:22:26.081Z"
   },
   {
    "duration": 11,
    "start_time": "2023-04-22T14:22:26.098Z"
   },
   {
    "duration": 15,
    "start_time": "2023-04-22T14:22:26.110Z"
   },
   {
    "duration": 223,
    "start_time": "2023-04-22T14:22:26.126Z"
   },
   {
    "duration": 14,
    "start_time": "2023-04-22T14:22:26.351Z"
   },
   {
    "duration": 51,
    "start_time": "2023-04-22T14:22:26.366Z"
   },
   {
    "duration": 5,
    "start_time": "2023-04-22T14:22:26.419Z"
   },
   {
    "duration": 8,
    "start_time": "2023-04-22T14:22:26.425Z"
   },
   {
    "duration": 4,
    "start_time": "2023-04-22T14:22:26.435Z"
   },
   {
    "duration": 8,
    "start_time": "2023-04-22T14:22:26.441Z"
   },
   {
    "duration": 423,
    "start_time": "2023-04-22T14:22:26.451Z"
   },
   {
    "duration": 6,
    "start_time": "2023-04-22T14:22:26.875Z"
   },
   {
    "duration": 5,
    "start_time": "2023-04-22T14:22:26.894Z"
   },
   {
    "duration": 12,
    "start_time": "2023-04-22T14:22:26.900Z"
   },
   {
    "duration": 7,
    "start_time": "2023-04-22T14:22:26.913Z"
   },
   {
    "duration": 481,
    "start_time": "2023-04-22T14:33:13.415Z"
   },
   {
    "duration": 172,
    "start_time": "2023-04-22T14:36:53.770Z"
   },
   {
    "duration": 467,
    "start_time": "2023-04-22T14:44:17.835Z"
   },
   {
    "duration": 245,
    "start_time": "2023-04-22T14:44:26.734Z"
   },
   {
    "duration": 24,
    "start_time": "2023-04-22T14:44:40.676Z"
   },
   {
    "duration": 17,
    "start_time": "2023-04-22T14:47:20.547Z"
   },
   {
    "duration": 5,
    "start_time": "2023-04-22T14:51:43.566Z"
   },
   {
    "duration": 6,
    "start_time": "2023-04-22T14:51:53.294Z"
   },
   {
    "duration": 7,
    "start_time": "2023-04-22T14:51:56.423Z"
   },
   {
    "duration": 5,
    "start_time": "2023-04-22T14:54:12.221Z"
   },
   {
    "duration": 5,
    "start_time": "2023-04-22T14:54:19.537Z"
   },
   {
    "duration": 1262,
    "start_time": "2023-04-22T14:54:26.367Z"
   },
   {
    "duration": 275,
    "start_time": "2023-04-22T14:54:27.632Z"
   },
   {
    "duration": 75,
    "start_time": "2023-04-22T14:54:27.908Z"
   },
   {
    "duration": 321,
    "start_time": "2023-04-22T14:54:27.984Z"
   },
   {
    "duration": 25,
    "start_time": "2023-04-22T14:54:28.307Z"
   },
   {
    "duration": 16,
    "start_time": "2023-04-22T14:54:28.333Z"
   },
   {
    "duration": 12,
    "start_time": "2023-04-22T14:54:28.350Z"
   },
   {
    "duration": 44,
    "start_time": "2023-04-22T14:54:28.363Z"
   },
   {
    "duration": 231,
    "start_time": "2023-04-22T14:54:28.409Z"
   },
   {
    "duration": 13,
    "start_time": "2023-04-22T14:54:28.642Z"
   },
   {
    "duration": 45,
    "start_time": "2023-04-22T14:54:28.656Z"
   },
   {
    "duration": 7,
    "start_time": "2023-04-22T14:54:28.703Z"
   },
   {
    "duration": 7,
    "start_time": "2023-04-22T14:54:28.711Z"
   },
   {
    "duration": 5,
    "start_time": "2023-04-22T14:54:28.721Z"
   },
   {
    "duration": 8,
    "start_time": "2023-04-22T14:54:28.727Z"
   },
   {
    "duration": 421,
    "start_time": "2023-04-22T14:54:28.737Z"
   },
   {
    "duration": 6,
    "start_time": "2023-04-22T14:54:29.159Z"
   },
   {
    "duration": 6,
    "start_time": "2023-04-22T14:54:29.167Z"
   },
   {
    "duration": 20,
    "start_time": "2023-04-22T14:54:29.174Z"
   },
   {
    "duration": 5,
    "start_time": "2023-04-22T14:54:29.195Z"
   },
   {
    "duration": 9,
    "start_time": "2023-04-22T14:54:29.201Z"
   },
   {
    "duration": 199,
    "start_time": "2023-04-22T14:54:29.211Z"
   },
   {
    "duration": 95,
    "start_time": "2023-04-22T14:54:52.865Z"
   },
   {
    "duration": 6,
    "start_time": "2023-04-22T14:55:12.412Z"
   },
   {
    "duration": 6,
    "start_time": "2023-04-22T14:55:32.727Z"
   },
   {
    "duration": 8,
    "start_time": "2023-04-22T14:55:54.373Z"
   },
   {
    "duration": 7,
    "start_time": "2023-04-22T14:56:02.087Z"
   },
   {
    "duration": 6,
    "start_time": "2023-04-22T14:56:08.457Z"
   },
   {
    "duration": 4,
    "start_time": "2023-04-22T14:56:20.743Z"
   },
   {
    "duration": 9,
    "start_time": "2023-04-22T14:56:24.236Z"
   },
   {
    "duration": 29,
    "start_time": "2023-04-22T14:59:38.088Z"
   },
   {
    "duration": 606,
    "start_time": "2023-04-22T14:59:57.360Z"
   },
   {
    "duration": 28,
    "start_time": "2023-04-22T15:06:09.023Z"
   },
   {
    "duration": 16,
    "start_time": "2023-04-22T15:15:09.107Z"
   },
   {
    "duration": 13,
    "start_time": "2023-04-22T15:15:21.477Z"
   },
   {
    "duration": 15,
    "start_time": "2023-04-22T15:15:41.153Z"
   },
   {
    "duration": 695,
    "start_time": "2023-04-22T15:15:54.491Z"
   },
   {
    "duration": 12,
    "start_time": "2023-04-22T15:20:06.664Z"
   },
   {
    "duration": 673,
    "start_time": "2023-04-22T15:20:15.448Z"
   },
   {
    "duration": 582,
    "start_time": "2023-04-22T15:20:29.952Z"
   },
   {
    "duration": 614,
    "start_time": "2023-04-22T15:20:45.684Z"
   },
   {
    "duration": 504,
    "start_time": "2023-04-22T15:21:52.938Z"
   },
   {
    "duration": 651,
    "start_time": "2023-04-22T15:22:33.851Z"
   },
   {
    "duration": 537,
    "start_time": "2023-04-22T15:22:41.147Z"
   },
   {
    "duration": 578,
    "start_time": "2023-04-22T15:22:48.916Z"
   },
   {
    "duration": 608,
    "start_time": "2023-04-22T15:29:57.669Z"
   },
   {
    "duration": 4,
    "start_time": "2023-04-22T16:44:10.580Z"
   },
   {
    "duration": 849,
    "start_time": "2023-04-22T16:44:29.863Z"
   },
   {
    "duration": 13,
    "start_time": "2023-04-22T16:44:53.343Z"
   },
   {
    "duration": 6,
    "start_time": "2023-04-22T16:46:02.387Z"
   },
   {
    "duration": 7,
    "start_time": "2023-04-22T16:46:47.687Z"
   },
   {
    "duration": 7,
    "start_time": "2023-04-22T16:46:54.365Z"
   },
   {
    "duration": 8,
    "start_time": "2023-04-22T16:47:27.693Z"
   },
   {
    "duration": 135,
    "start_time": "2023-04-22T17:03:59.760Z"
   },
   {
    "duration": 4041,
    "start_time": "2023-04-24T16:13:30.349Z"
   },
   {
    "duration": 1506,
    "start_time": "2023-04-24T16:13:34.393Z"
   },
   {
    "duration": 548,
    "start_time": "2023-04-24T16:13:35.902Z"
   },
   {
    "duration": 2598,
    "start_time": "2023-04-24T16:13:36.452Z"
   },
   {
    "duration": 30,
    "start_time": "2023-04-24T16:13:39.053Z"
   },
   {
    "duration": 29,
    "start_time": "2023-04-24T16:13:39.086Z"
   },
   {
    "duration": 23,
    "start_time": "2023-04-24T16:13:39.118Z"
   },
   {
    "duration": 33,
    "start_time": "2023-04-24T16:13:39.144Z"
   },
   {
    "duration": 283,
    "start_time": "2023-04-24T16:13:39.179Z"
   },
   {
    "duration": 19,
    "start_time": "2023-04-24T16:13:39.464Z"
   },
   {
    "duration": 193,
    "start_time": "2023-04-24T16:13:39.485Z"
   },
   {
    "duration": 9,
    "start_time": "2023-04-24T16:13:39.680Z"
   },
   {
    "duration": 13,
    "start_time": "2023-04-24T16:13:39.691Z"
   },
   {
    "duration": 34,
    "start_time": "2023-04-24T16:13:39.707Z"
   },
   {
    "duration": 17,
    "start_time": "2023-04-24T16:13:39.743Z"
   },
   {
    "duration": 577,
    "start_time": "2023-04-24T16:13:39.762Z"
   },
   {
    "duration": 9,
    "start_time": "2023-04-24T16:13:40.343Z"
   },
   {
    "duration": 22,
    "start_time": "2023-04-24T16:13:40.354Z"
   },
   {
    "duration": 10,
    "start_time": "2023-04-24T16:13:40.378Z"
   },
   {
    "duration": 13,
    "start_time": "2023-04-24T16:13:40.391Z"
   },
   {
    "duration": 732,
    "start_time": "2023-04-24T16:13:40.407Z"
   },
   {
    "duration": 694,
    "start_time": "2023-04-24T16:13:41.142Z"
   },
   {
    "duration": 11,
    "start_time": "2023-04-24T16:13:41.841Z"
   },
   {
    "duration": 217,
    "start_time": "2023-04-24T16:13:41.854Z"
   },
   {
    "duration": 5,
    "start_time": "2023-04-24T16:13:42.073Z"
   },
   {
    "duration": 10,
    "start_time": "2023-04-24T17:04:36.106Z"
   },
   {
    "duration": 4,
    "start_time": "2023-04-24T17:18:59.954Z"
   },
   {
    "duration": 3,
    "start_time": "2023-04-24T18:52:14.392Z"
   },
   {
    "duration": 128,
    "start_time": "2023-04-24T18:52:26.709Z"
   },
   {
    "duration": 17,
    "start_time": "2023-04-24T18:52:35.908Z"
   },
   {
    "duration": 9,
    "start_time": "2023-04-24T18:55:37.987Z"
   },
   {
    "duration": 5,
    "start_time": "2023-04-24T18:56:13.269Z"
   },
   {
    "duration": 549,
    "start_time": "2023-04-24T18:56:15.613Z"
   },
   {
    "duration": 9,
    "start_time": "2023-04-24T18:56:28.758Z"
   },
   {
    "duration": 6,
    "start_time": "2023-04-24T18:56:32.952Z"
   },
   {
    "duration": 6,
    "start_time": "2023-04-24T18:56:34.660Z"
   },
   {
    "duration": 8,
    "start_time": "2023-04-24T18:56:36.185Z"
   },
   {
    "duration": 661,
    "start_time": "2023-04-24T18:56:39.200Z"
   },
   {
    "duration": 620,
    "start_time": "2023-04-24T18:56:42.683Z"
   },
   {
    "duration": 8,
    "start_time": "2023-04-24T18:56:47.852Z"
   },
   {
    "duration": 176,
    "start_time": "2023-04-24T18:56:50.518Z"
   },
   {
    "duration": 5,
    "start_time": "2023-04-24T18:56:59.998Z"
   },
   {
    "duration": 15,
    "start_time": "2023-04-24T18:57:02.712Z"
   },
   {
    "duration": 1529,
    "start_time": "2023-04-24T18:57:21.051Z"
   },
   {
    "duration": 491,
    "start_time": "2023-04-24T18:57:22.583Z"
   },
   {
    "duration": 446,
    "start_time": "2023-04-24T18:57:23.076Z"
   },
   {
    "duration": 1889,
    "start_time": "2023-04-24T18:57:23.524Z"
   },
   {
    "duration": 29,
    "start_time": "2023-04-24T18:57:25.415Z"
   },
   {
    "duration": 36,
    "start_time": "2023-04-24T18:57:25.446Z"
   },
   {
    "duration": 15,
    "start_time": "2023-04-24T18:57:25.484Z"
   },
   {
    "duration": 22,
    "start_time": "2023-04-24T18:57:25.500Z"
   },
   {
    "duration": 271,
    "start_time": "2023-04-24T18:57:25.524Z"
   },
   {
    "duration": 18,
    "start_time": "2023-04-24T18:57:25.797Z"
   },
   {
    "duration": 62,
    "start_time": "2023-04-24T18:57:25.817Z"
   },
   {
    "duration": 6,
    "start_time": "2023-04-24T18:57:25.882Z"
   },
   {
    "duration": 13,
    "start_time": "2023-04-24T18:57:25.891Z"
   },
   {
    "duration": 7,
    "start_time": "2023-04-24T18:57:25.908Z"
   },
   {
    "duration": 10,
    "start_time": "2023-04-24T18:57:25.942Z"
   },
   {
    "duration": 551,
    "start_time": "2023-04-24T18:57:25.954Z"
   },
   {
    "duration": 7,
    "start_time": "2023-04-24T18:57:26.507Z"
   },
   {
    "duration": 13,
    "start_time": "2023-04-24T18:57:26.516Z"
   },
   {
    "duration": 7,
    "start_time": "2023-04-24T18:57:26.542Z"
   },
   {
    "duration": 8,
    "start_time": "2023-04-24T18:57:26.551Z"
   },
   {
    "duration": 618,
    "start_time": "2023-04-24T18:57:26.562Z"
   },
   {
    "duration": 595,
    "start_time": "2023-04-24T18:57:27.182Z"
   },
   {
    "duration": 8,
    "start_time": "2023-04-24T18:57:27.779Z"
   },
   {
    "duration": 189,
    "start_time": "2023-04-24T18:57:27.789Z"
   },
   {
    "duration": 4,
    "start_time": "2023-04-24T18:57:27.980Z"
   },
   {
    "duration": 139,
    "start_time": "2023-04-24T18:57:27.985Z"
   },
   {
    "duration": 0,
    "start_time": "2023-04-24T18:57:28.126Z"
   },
   {
    "duration": 0,
    "start_time": "2023-04-24T18:57:28.127Z"
   },
   {
    "duration": 0,
    "start_time": "2023-04-24T18:57:28.128Z"
   },
   {
    "duration": 6,
    "start_time": "2023-04-24T18:57:48.369Z"
   },
   {
    "duration": 1458,
    "start_time": "2023-04-24T18:57:56.021Z"
   },
   {
    "duration": 294,
    "start_time": "2023-04-24T18:57:57.481Z"
   },
   {
    "duration": 79,
    "start_time": "2023-04-24T18:57:57.777Z"
   },
   {
    "duration": 367,
    "start_time": "2023-04-24T18:57:57.857Z"
   },
   {
    "duration": 32,
    "start_time": "2023-04-24T18:57:58.227Z"
   },
   {
    "duration": 20,
    "start_time": "2023-04-24T18:57:58.260Z"
   },
   {
    "duration": 14,
    "start_time": "2023-04-24T18:57:58.282Z"
   },
   {
    "duration": 51,
    "start_time": "2023-04-24T18:57:58.298Z"
   },
   {
    "duration": 269,
    "start_time": "2023-04-24T18:57:58.351Z"
   },
   {
    "duration": 25,
    "start_time": "2023-04-24T18:57:58.621Z"
   },
   {
    "duration": 46,
    "start_time": "2023-04-24T18:57:58.648Z"
   },
   {
    "duration": 9,
    "start_time": "2023-04-24T18:57:58.696Z"
   },
   {
    "duration": 39,
    "start_time": "2023-04-24T18:57:58.707Z"
   },
   {
    "duration": 6,
    "start_time": "2023-04-24T18:57:58.751Z"
   },
   {
    "duration": 8,
    "start_time": "2023-04-24T18:57:58.759Z"
   },
   {
    "duration": 510,
    "start_time": "2023-04-24T18:57:58.768Z"
   },
   {
    "duration": 7,
    "start_time": "2023-04-24T18:57:59.280Z"
   },
   {
    "duration": 8,
    "start_time": "2023-04-24T18:57:59.289Z"
   },
   {
    "duration": 16,
    "start_time": "2023-04-24T18:57:59.299Z"
   },
   {
    "duration": 30,
    "start_time": "2023-04-24T18:57:59.317Z"
   },
   {
    "duration": 731,
    "start_time": "2023-04-24T18:57:59.350Z"
   },
   {
    "duration": 610,
    "start_time": "2023-04-24T18:58:00.084Z"
   },
   {
    "duration": 9,
    "start_time": "2023-04-24T18:58:00.696Z"
   },
   {
    "duration": 249,
    "start_time": "2023-04-24T18:58:00.707Z"
   },
   {
    "duration": 4,
    "start_time": "2023-04-24T18:58:00.958Z"
   },
   {
    "duration": 68,
    "start_time": "2023-04-24T18:58:00.964Z"
   },
   {
    "duration": 54,
    "start_time": "2023-04-24T18:58:01.034Z"
   },
   {
    "duration": 71,
    "start_time": "2023-04-24T18:58:01.090Z"
   },
   {
    "duration": 0,
    "start_time": "2023-04-24T18:58:01.162Z"
   },
   {
    "duration": 3,
    "start_time": "2023-04-24T18:58:33.538Z"
   },
   {
    "duration": 9,
    "start_time": "2023-04-24T18:58:40.236Z"
   },
   {
    "duration": 3,
    "start_time": "2023-04-24T19:04:26.418Z"
   },
   {
    "duration": 4,
    "start_time": "2023-04-24T19:04:49.127Z"
   },
   {
    "duration": 152,
    "start_time": "2023-04-24T19:07:53.600Z"
   },
   {
    "duration": 4,
    "start_time": "2023-04-24T19:10:20.423Z"
   },
   {
    "duration": 5,
    "start_time": "2023-04-24T19:22:39.730Z"
   },
   {
    "duration": 30237,
    "start_time": "2023-04-24T19:31:07.381Z"
   },
   {
    "duration": 0,
    "start_time": "2023-04-24T19:32:44.519Z"
   },
   {
    "duration": 5,
    "start_time": "2023-04-24T19:36:20.683Z"
   },
   {
    "duration": 4,
    "start_time": "2023-04-24T19:36:28.095Z"
   },
   {
    "duration": 0,
    "start_time": "2023-04-24T19:40:00.504Z"
   },
   {
    "duration": 87,
    "start_time": "2023-04-24T19:48:25.036Z"
   },
   {
    "duration": 0,
    "start_time": "2023-04-24T19:49:06.782Z"
   },
   {
    "duration": 9,
    "start_time": "2023-04-24T19:54:25.616Z"
   },
   {
    "duration": 3,
    "start_time": "2023-04-24T19:56:46.615Z"
   },
   {
    "duration": 7,
    "start_time": "2023-04-24T19:56:49.011Z"
   },
   {
    "duration": 0,
    "start_time": "2023-04-24T19:57:50.494Z"
   },
   {
    "duration": 61,
    "start_time": "2023-04-24T20:13:10.976Z"
   },
   {
    "duration": 1519,
    "start_time": "2023-04-24T20:32:54.576Z"
   },
   {
    "duration": 324,
    "start_time": "2023-04-24T20:32:56.098Z"
   },
   {
    "duration": 88,
    "start_time": "2023-04-24T20:32:56.425Z"
   },
   {
    "duration": 419,
    "start_time": "2023-04-24T20:32:56.515Z"
   },
   {
    "duration": 30,
    "start_time": "2023-04-24T20:32:56.937Z"
   },
   {
    "duration": 24,
    "start_time": "2023-04-24T20:32:56.969Z"
   },
   {
    "duration": 17,
    "start_time": "2023-04-24T20:32:56.995Z"
   },
   {
    "duration": 22,
    "start_time": "2023-04-24T20:32:57.042Z"
   },
   {
    "duration": 289,
    "start_time": "2023-04-24T20:32:57.066Z"
   },
   {
    "duration": 18,
    "start_time": "2023-04-24T20:32:57.357Z"
   },
   {
    "duration": 69,
    "start_time": "2023-04-24T20:32:57.377Z"
   },
   {
    "duration": 8,
    "start_time": "2023-04-24T20:32:57.449Z"
   },
   {
    "duration": 10,
    "start_time": "2023-04-24T20:32:57.459Z"
   },
   {
    "duration": 6,
    "start_time": "2023-04-24T20:32:57.473Z"
   },
   {
    "duration": 18,
    "start_time": "2023-04-24T20:32:57.481Z"
   },
   {
    "duration": 511,
    "start_time": "2023-04-24T20:32:57.501Z"
   },
   {
    "duration": 9,
    "start_time": "2023-04-24T20:32:58.015Z"
   },
   {
    "duration": 6,
    "start_time": "2023-04-24T20:32:58.042Z"
   },
   {
    "duration": 18,
    "start_time": "2023-04-24T20:32:58.050Z"
   },
   {
    "duration": 22,
    "start_time": "2023-04-24T20:32:58.070Z"
   },
   {
    "duration": 642,
    "start_time": "2023-04-24T20:32:58.094Z"
   },
   {
    "duration": 654,
    "start_time": "2023-04-24T20:32:58.741Z"
   },
   {
    "duration": 8,
    "start_time": "2023-04-24T20:32:59.398Z"
   },
   {
    "duration": 288,
    "start_time": "2023-04-24T20:32:59.408Z"
   },
   {
    "duration": 5,
    "start_time": "2023-04-24T20:32:59.698Z"
   },
   {
    "duration": 14,
    "start_time": "2023-04-24T20:32:59.705Z"
   },
   {
    "duration": 20,
    "start_time": "2023-04-24T20:32:59.721Z"
   },
   {
    "duration": 4,
    "start_time": "2023-04-24T20:32:59.743Z"
   },
   {
    "duration": 198,
    "start_time": "2023-04-24T20:32:59.748Z"
   },
   {
    "duration": 0,
    "start_time": "2023-04-24T20:32:59.947Z"
   },
   {
    "duration": 6,
    "start_time": "2023-04-24T20:34:46.241Z"
   },
   {
    "duration": 1253,
    "start_time": "2023-04-24T20:34:50.998Z"
   },
   {
    "duration": 1578,
    "start_time": "2023-04-24T20:35:46.943Z"
   },
   {
    "duration": 319,
    "start_time": "2023-04-24T20:35:48.524Z"
   },
   {
    "duration": 86,
    "start_time": "2023-04-24T20:35:48.846Z"
   },
   {
    "duration": 407,
    "start_time": "2023-04-24T20:35:48.934Z"
   },
   {
    "duration": 29,
    "start_time": "2023-04-24T20:35:49.344Z"
   },
   {
    "duration": 20,
    "start_time": "2023-04-24T20:35:49.375Z"
   },
   {
    "duration": 15,
    "start_time": "2023-04-24T20:35:49.397Z"
   },
   {
    "duration": 23,
    "start_time": "2023-04-24T20:35:49.442Z"
   },
   {
    "duration": 290,
    "start_time": "2023-04-24T20:35:49.468Z"
   },
   {
    "duration": 18,
    "start_time": "2023-04-24T20:35:49.761Z"
   },
   {
    "duration": 61,
    "start_time": "2023-04-24T20:35:49.781Z"
   },
   {
    "duration": 8,
    "start_time": "2023-04-24T20:35:49.844Z"
   },
   {
    "duration": 16,
    "start_time": "2023-04-24T20:35:49.853Z"
   },
   {
    "duration": 8,
    "start_time": "2023-04-24T20:35:49.872Z"
   },
   {
    "duration": 10,
    "start_time": "2023-04-24T20:35:49.882Z"
   },
   {
    "duration": 511,
    "start_time": "2023-04-24T20:35:49.894Z"
   },
   {
    "duration": 8,
    "start_time": "2023-04-24T20:35:50.408Z"
   },
   {
    "duration": 23,
    "start_time": "2023-04-24T20:35:50.418Z"
   },
   {
    "duration": 14,
    "start_time": "2023-04-24T20:35:50.443Z"
   },
   {
    "duration": 21,
    "start_time": "2023-04-24T20:35:50.459Z"
   },
   {
    "duration": 701,
    "start_time": "2023-04-24T20:35:50.483Z"
   },
   {
    "duration": 690,
    "start_time": "2023-04-24T20:35:51.186Z"
   },
   {
    "duration": 7,
    "start_time": "2023-04-24T20:35:51.878Z"
   },
   {
    "duration": 284,
    "start_time": "2023-04-24T20:35:51.887Z"
   },
   {
    "duration": 4,
    "start_time": "2023-04-24T20:35:52.174Z"
   },
   {
    "duration": 21,
    "start_time": "2023-04-24T20:35:52.180Z"
   },
   {
    "duration": 13,
    "start_time": "2023-04-24T20:35:52.203Z"
   },
   {
    "duration": 10,
    "start_time": "2023-04-24T20:35:52.218Z"
   },
   {
    "duration": 11,
    "start_time": "2023-04-24T20:35:52.230Z"
   },
   {
    "duration": 1604,
    "start_time": "2023-04-24T20:46:47.706Z"
   },
   {
    "duration": 324,
    "start_time": "2023-04-24T20:46:49.312Z"
   },
   {
    "duration": 89,
    "start_time": "2023-04-24T20:46:49.640Z"
   },
   {
    "duration": 400,
    "start_time": "2023-04-24T20:46:49.731Z"
   },
   {
    "duration": 28,
    "start_time": "2023-04-24T20:46:50.134Z"
   },
   {
    "duration": 34,
    "start_time": "2023-04-24T20:46:50.164Z"
   },
   {
    "duration": 16,
    "start_time": "2023-04-24T20:46:50.200Z"
   },
   {
    "duration": 39,
    "start_time": "2023-04-24T20:46:50.218Z"
   },
   {
    "duration": 287,
    "start_time": "2023-04-24T20:46:50.259Z"
   },
   {
    "duration": 18,
    "start_time": "2023-04-24T20:46:50.548Z"
   },
   {
    "duration": 43,
    "start_time": "2023-04-24T20:46:50.567Z"
   },
   {
    "duration": 33,
    "start_time": "2023-04-24T20:46:50.612Z"
   },
   {
    "duration": 20,
    "start_time": "2023-04-24T20:46:50.647Z"
   },
   {
    "duration": 10,
    "start_time": "2023-04-24T20:46:50.670Z"
   },
   {
    "duration": 21,
    "start_time": "2023-04-24T20:46:50.683Z"
   },
   {
    "duration": 493,
    "start_time": "2023-04-24T20:46:50.706Z"
   },
   {
    "duration": 9,
    "start_time": "2023-04-24T20:46:51.202Z"
   },
   {
    "duration": 14,
    "start_time": "2023-04-24T20:46:51.213Z"
   },
   {
    "duration": 11,
    "start_time": "2023-04-24T20:46:51.240Z"
   },
   {
    "duration": 10,
    "start_time": "2023-04-24T20:46:51.253Z"
   },
   {
    "duration": 619,
    "start_time": "2023-04-24T20:46:51.266Z"
   },
   {
    "duration": 615,
    "start_time": "2023-04-24T20:46:51.887Z"
   },
   {
    "duration": 9,
    "start_time": "2023-04-24T20:46:52.503Z"
   },
   {
    "duration": 280,
    "start_time": "2023-04-24T20:46:52.515Z"
   },
   {
    "duration": 5,
    "start_time": "2023-04-24T20:46:52.797Z"
   },
   {
    "duration": 31,
    "start_time": "2023-04-24T20:46:52.804Z"
   },
   {
    "duration": 16,
    "start_time": "2023-04-24T20:46:52.838Z"
   },
   {
    "duration": 19,
    "start_time": "2023-04-24T20:46:52.856Z"
   },
   {
    "duration": 12,
    "start_time": "2023-04-24T20:46:52.878Z"
   },
   {
    "duration": 6286,
    "start_time": "2023-04-24T20:46:52.893Z"
   },
   {
    "duration": 6190,
    "start_time": "2023-04-24T20:48:47.639Z"
   },
   {
    "duration": 14573,
    "start_time": "2023-04-24T20:54:41.911Z"
   },
   {
    "duration": 14491,
    "start_time": "2023-04-24T20:57:23.715Z"
   },
   {
    "duration": 14787,
    "start_time": "2023-04-24T20:57:57.054Z"
   },
   {
    "duration": 1282,
    "start_time": "2023-04-24T20:59:33.029Z"
   },
   {
    "duration": 1270,
    "start_time": "2023-04-24T21:00:08.267Z"
   },
   {
    "duration": 1280,
    "start_time": "2023-04-24T21:01:06.684Z"
   },
   {
    "duration": 1331,
    "start_time": "2023-04-24T21:02:01.145Z"
   },
   {
    "duration": 1253,
    "start_time": "2023-04-24T21:02:38.045Z"
   },
   {
    "duration": 14520,
    "start_time": "2023-04-24T21:02:42.212Z"
   },
   {
    "duration": 14807,
    "start_time": "2023-04-24T21:04:55.287Z"
   },
   {
    "duration": 14350,
    "start_time": "2023-04-24T21:12:55.214Z"
   },
   {
    "duration": 14325,
    "start_time": "2023-04-24T21:13:34.473Z"
   },
   {
    "duration": 14273,
    "start_time": "2023-04-24T21:14:35.974Z"
   },
   {
    "duration": 14429,
    "start_time": "2023-04-24T21:16:21.113Z"
   },
   {
    "duration": 14370,
    "start_time": "2023-04-24T21:16:47.381Z"
   },
   {
    "duration": 14806,
    "start_time": "2023-04-24T21:24:34.013Z"
   },
   {
    "duration": 1599,
    "start_time": "2023-04-24T21:26:17.757Z"
   },
   {
    "duration": 339,
    "start_time": "2023-04-24T21:26:19.359Z"
   },
   {
    "duration": 93,
    "start_time": "2023-04-24T21:26:19.700Z"
   },
   {
    "duration": 407,
    "start_time": "2023-04-24T21:26:19.795Z"
   },
   {
    "duration": 27,
    "start_time": "2023-04-24T21:26:20.205Z"
   },
   {
    "duration": 29,
    "start_time": "2023-04-24T21:26:20.243Z"
   },
   {
    "duration": 15,
    "start_time": "2023-04-24T21:26:20.274Z"
   },
   {
    "duration": 31,
    "start_time": "2023-04-24T21:26:20.292Z"
   },
   {
    "duration": 306,
    "start_time": "2023-04-24T21:26:20.325Z"
   },
   {
    "duration": 25,
    "start_time": "2023-04-24T21:26:20.634Z"
   },
   {
    "duration": 83,
    "start_time": "2023-04-24T21:26:20.662Z"
   },
   {
    "duration": 10,
    "start_time": "2023-04-24T21:26:20.747Z"
   },
   {
    "duration": 20,
    "start_time": "2023-04-24T21:26:20.759Z"
   },
   {
    "duration": 17,
    "start_time": "2023-04-24T21:26:20.782Z"
   },
   {
    "duration": 13,
    "start_time": "2023-04-24T21:26:20.801Z"
   },
   {
    "duration": 527,
    "start_time": "2023-04-24T21:26:20.815Z"
   },
   {
    "duration": 9,
    "start_time": "2023-04-24T21:26:21.344Z"
   },
   {
    "duration": 17,
    "start_time": "2023-04-24T21:26:21.355Z"
   },
   {
    "duration": 23,
    "start_time": "2023-04-24T21:26:21.374Z"
   },
   {
    "duration": 45,
    "start_time": "2023-04-24T21:26:21.399Z"
   },
   {
    "duration": 824,
    "start_time": "2023-04-24T21:26:21.447Z"
   },
   {
    "duration": 635,
    "start_time": "2023-04-24T21:26:22.274Z"
   },
   {
    "duration": 9,
    "start_time": "2023-04-24T21:26:22.910Z"
   },
   {
    "duration": 209,
    "start_time": "2023-04-24T21:26:22.921Z"
   },
   {
    "duration": 12,
    "start_time": "2023-04-24T21:26:23.132Z"
   },
   {
    "duration": 13,
    "start_time": "2023-04-24T21:26:23.146Z"
   },
   {
    "duration": 52,
    "start_time": "2023-04-24T21:26:23.162Z"
   },
   {
    "duration": 53,
    "start_time": "2023-04-24T21:26:23.216Z"
   },
   {
    "duration": 19,
    "start_time": "2023-04-24T21:26:23.271Z"
   },
   {
    "duration": 14997,
    "start_time": "2023-04-24T21:26:23.292Z"
   },
   {
    "duration": 1628,
    "start_time": "2023-04-25T16:11:58.894Z"
   },
   {
    "duration": 1573,
    "start_time": "2023-04-25T16:12:00.525Z"
   },
   {
    "duration": 176,
    "start_time": "2023-04-25T16:12:02.100Z"
   },
   {
    "duration": 625,
    "start_time": "2023-04-25T16:12:02.279Z"
   },
   {
    "duration": 27,
    "start_time": "2023-04-25T16:12:02.906Z"
   },
   {
    "duration": 30,
    "start_time": "2023-04-25T16:12:02.935Z"
   },
   {
    "duration": 13,
    "start_time": "2023-04-25T16:12:02.968Z"
   },
   {
    "duration": 33,
    "start_time": "2023-04-25T16:12:02.983Z"
   },
   {
    "duration": 297,
    "start_time": "2023-04-25T16:12:03.018Z"
   },
   {
    "duration": 16,
    "start_time": "2023-04-25T16:12:03.319Z"
   },
   {
    "duration": 62,
    "start_time": "2023-04-25T16:12:03.337Z"
   },
   {
    "duration": 7,
    "start_time": "2023-04-25T16:12:03.402Z"
   },
   {
    "duration": 17,
    "start_time": "2023-04-25T16:12:03.413Z"
   },
   {
    "duration": 8,
    "start_time": "2023-04-25T16:12:03.433Z"
   },
   {
    "duration": 39,
    "start_time": "2023-04-25T16:12:03.442Z"
   },
   {
    "duration": 469,
    "start_time": "2023-04-25T16:12:03.483Z"
   },
   {
    "duration": 9,
    "start_time": "2023-04-25T16:12:03.954Z"
   },
   {
    "duration": 11,
    "start_time": "2023-04-25T16:12:03.965Z"
   },
   {
    "duration": 7,
    "start_time": "2023-04-25T16:12:03.993Z"
   },
   {
    "duration": 7,
    "start_time": "2023-04-25T16:12:04.003Z"
   },
   {
    "duration": 928,
    "start_time": "2023-04-25T16:12:04.012Z"
   },
   {
    "duration": 842,
    "start_time": "2023-04-25T16:12:04.942Z"
   },
   {
    "duration": 13,
    "start_time": "2023-04-25T16:12:05.787Z"
   },
   {
    "duration": 209,
    "start_time": "2023-04-25T16:12:05.803Z"
   },
   {
    "duration": 5,
    "start_time": "2023-04-25T16:12:06.014Z"
   },
   {
    "duration": 12,
    "start_time": "2023-04-25T16:12:06.021Z"
   },
   {
    "duration": 10,
    "start_time": "2023-04-25T16:12:06.035Z"
   },
   {
    "duration": 10,
    "start_time": "2023-04-25T16:12:06.047Z"
   },
   {
    "duration": 7,
    "start_time": "2023-04-25T16:12:06.059Z"
   },
   {
    "duration": 14377,
    "start_time": "2023-04-25T16:12:06.067Z"
   },
   {
    "duration": 13986,
    "start_time": "2023-04-25T17:10:17.216Z"
   },
   {
    "duration": 28305,
    "start_time": "2023-04-25T17:15:43.575Z"
   },
   {
    "duration": 1426,
    "start_time": "2023-04-25T17:16:31.876Z"
   },
   {
    "duration": 299,
    "start_time": "2023-04-25T17:16:33.304Z"
   },
   {
    "duration": 81,
    "start_time": "2023-04-25T17:16:33.605Z"
   },
   {
    "duration": 394,
    "start_time": "2023-04-25T17:16:33.688Z"
   },
   {
    "duration": 31,
    "start_time": "2023-04-25T17:16:34.085Z"
   },
   {
    "duration": 17,
    "start_time": "2023-04-25T17:16:34.117Z"
   },
   {
    "duration": 15,
    "start_time": "2023-04-25T17:16:34.136Z"
   },
   {
    "duration": 56,
    "start_time": "2023-04-25T17:16:34.153Z"
   },
   {
    "duration": 262,
    "start_time": "2023-04-25T17:16:34.211Z"
   },
   {
    "duration": 30,
    "start_time": "2023-04-25T17:16:34.475Z"
   },
   {
    "duration": 38,
    "start_time": "2023-04-25T17:16:34.507Z"
   },
   {
    "duration": 7,
    "start_time": "2023-04-25T17:16:34.547Z"
   },
   {
    "duration": 8,
    "start_time": "2023-04-25T17:16:34.556Z"
   },
   {
    "duration": 33,
    "start_time": "2023-04-25T17:16:34.567Z"
   },
   {
    "duration": 9,
    "start_time": "2023-04-25T17:16:34.602Z"
   },
   {
    "duration": 455,
    "start_time": "2023-04-25T17:16:34.613Z"
   },
   {
    "duration": 7,
    "start_time": "2023-04-25T17:16:35.070Z"
   },
   {
    "duration": 29,
    "start_time": "2023-04-25T17:16:35.078Z"
   },
   {
    "duration": 7,
    "start_time": "2023-04-25T17:16:35.111Z"
   },
   {
    "duration": 6,
    "start_time": "2023-04-25T17:16:35.120Z"
   },
   {
    "duration": 603,
    "start_time": "2023-04-25T17:16:35.128Z"
   },
   {
    "duration": 610,
    "start_time": "2023-04-25T17:16:35.732Z"
   },
   {
    "duration": 7,
    "start_time": "2023-04-25T17:16:36.344Z"
   },
   {
    "duration": 184,
    "start_time": "2023-04-25T17:16:36.352Z"
   },
   {
    "duration": 4,
    "start_time": "2023-04-25T17:16:36.538Z"
   },
   {
    "duration": 30,
    "start_time": "2023-04-25T17:16:36.543Z"
   },
   {
    "duration": 32,
    "start_time": "2023-04-25T17:16:36.575Z"
   },
   {
    "duration": 6,
    "start_time": "2023-04-25T17:16:36.609Z"
   },
   {
    "duration": 14,
    "start_time": "2023-04-25T17:16:36.617Z"
   },
   {
    "duration": 28376,
    "start_time": "2023-04-25T17:16:36.633Z"
   },
   {
    "duration": 118,
    "start_time": "2023-04-25T17:18:41.299Z"
   },
   {
    "duration": 8,
    "start_time": "2023-04-25T17:21:07.933Z"
   },
   {
    "duration": 20,
    "start_time": "2023-04-25T17:21:14.342Z"
   },
   {
    "duration": 1484,
    "start_time": "2023-04-25T17:21:20.787Z"
   },
   {
    "duration": 317,
    "start_time": "2023-04-25T17:21:22.274Z"
   },
   {
    "duration": 82,
    "start_time": "2023-04-25T17:21:22.592Z"
   },
   {
    "duration": 367,
    "start_time": "2023-04-25T17:21:22.676Z"
   },
   {
    "duration": 25,
    "start_time": "2023-04-25T17:21:23.045Z"
   },
   {
    "duration": 39,
    "start_time": "2023-04-25T17:21:23.072Z"
   },
   {
    "duration": 13,
    "start_time": "2023-04-25T17:21:23.113Z"
   },
   {
    "duration": 19,
    "start_time": "2023-04-25T17:21:23.127Z"
   },
   {
    "duration": 279,
    "start_time": "2023-04-25T17:21:23.148Z"
   },
   {
    "duration": 15,
    "start_time": "2023-04-25T17:21:23.428Z"
   },
   {
    "duration": 56,
    "start_time": "2023-04-25T17:21:23.445Z"
   },
   {
    "duration": 10,
    "start_time": "2023-04-25T17:21:23.503Z"
   },
   {
    "duration": 8,
    "start_time": "2023-04-25T17:21:23.515Z"
   },
   {
    "duration": 5,
    "start_time": "2023-04-25T17:21:23.526Z"
   },
   {
    "duration": 7,
    "start_time": "2023-04-25T17:21:23.533Z"
   },
   {
    "duration": 496,
    "start_time": "2023-04-25T17:21:23.541Z"
   },
   {
    "duration": 8,
    "start_time": "2023-04-25T17:21:24.038Z"
   },
   {
    "duration": 11,
    "start_time": "2023-04-25T17:21:24.048Z"
   },
   {
    "duration": 10,
    "start_time": "2023-04-25T17:21:24.060Z"
   },
   {
    "duration": 6,
    "start_time": "2023-04-25T17:21:24.072Z"
   },
   {
    "duration": 634,
    "start_time": "2023-04-25T17:21:24.093Z"
   },
   {
    "duration": 621,
    "start_time": "2023-04-25T17:21:24.729Z"
   },
   {
    "duration": 8,
    "start_time": "2023-04-25T17:21:25.352Z"
   },
   {
    "duration": 261,
    "start_time": "2023-04-25T17:21:25.363Z"
   },
   {
    "duration": 5,
    "start_time": "2023-04-25T17:21:25.626Z"
   },
   {
    "duration": 14,
    "start_time": "2023-04-25T17:21:25.633Z"
   },
   {
    "duration": 99,
    "start_time": "2023-04-25T17:21:25.649Z"
   },
   {
    "duration": 6,
    "start_time": "2023-04-25T17:21:25.749Z"
   },
   {
    "duration": 9,
    "start_time": "2023-04-25T17:21:25.757Z"
   },
   {
    "duration": 28461,
    "start_time": "2023-04-25T17:21:25.768Z"
   },
   {
    "duration": 132,
    "start_time": "2023-04-25T17:21:54.231Z"
   },
   {
    "duration": 16,
    "start_time": "2023-04-25T17:22:18.779Z"
   },
   {
    "duration": 1450,
    "start_time": "2023-04-25T17:22:24.085Z"
   },
   {
    "duration": 309,
    "start_time": "2023-04-25T17:22:25.538Z"
   },
   {
    "duration": 83,
    "start_time": "2023-04-25T17:22:25.848Z"
   },
   {
    "duration": 378,
    "start_time": "2023-04-25T17:22:25.933Z"
   },
   {
    "duration": 26,
    "start_time": "2023-04-25T17:22:26.313Z"
   },
   {
    "duration": 19,
    "start_time": "2023-04-25T17:22:26.341Z"
   },
   {
    "duration": 14,
    "start_time": "2023-04-25T17:22:26.362Z"
   },
   {
    "duration": 24,
    "start_time": "2023-04-25T17:22:26.395Z"
   },
   {
    "duration": 290,
    "start_time": "2023-04-25T17:22:26.422Z"
   },
   {
    "duration": 14,
    "start_time": "2023-04-25T17:22:26.715Z"
   },
   {
    "duration": 42,
    "start_time": "2023-04-25T17:22:26.730Z"
   },
   {
    "duration": 27,
    "start_time": "2023-04-25T17:22:26.774Z"
   },
   {
    "duration": 14,
    "start_time": "2023-04-25T17:22:26.805Z"
   },
   {
    "duration": 4,
    "start_time": "2023-04-25T17:22:26.821Z"
   },
   {
    "duration": 9,
    "start_time": "2023-04-25T17:22:26.827Z"
   },
   {
    "duration": 466,
    "start_time": "2023-04-25T17:22:26.838Z"
   },
   {
    "duration": 9,
    "start_time": "2023-04-25T17:22:27.309Z"
   },
   {
    "duration": 8,
    "start_time": "2023-04-25T17:22:27.319Z"
   },
   {
    "duration": 6,
    "start_time": "2023-04-25T17:22:27.329Z"
   },
   {
    "duration": 9,
    "start_time": "2023-04-25T17:22:27.337Z"
   },
   {
    "duration": 665,
    "start_time": "2023-04-25T17:22:27.348Z"
   },
   {
    "duration": 629,
    "start_time": "2023-04-25T17:22:28.015Z"
   },
   {
    "duration": 7,
    "start_time": "2023-04-25T17:22:28.645Z"
   },
   {
    "duration": 171,
    "start_time": "2023-04-25T17:22:28.653Z"
   },
   {
    "duration": 4,
    "start_time": "2023-04-25T17:22:28.826Z"
   },
   {
    "duration": 17,
    "start_time": "2023-04-25T17:22:28.832Z"
   },
   {
    "duration": 20,
    "start_time": "2023-04-25T17:22:28.851Z"
   },
   {
    "duration": 6,
    "start_time": "2023-04-25T17:22:28.873Z"
   },
   {
    "duration": 22,
    "start_time": "2023-04-25T17:22:28.880Z"
   },
   {
    "duration": 29061,
    "start_time": "2023-04-25T17:22:28.903Z"
   },
   {
    "duration": 131,
    "start_time": "2023-04-25T17:22:57.966Z"
   },
   {
    "duration": 15,
    "start_time": "2023-04-25T17:31:47.319Z"
   },
   {
    "duration": 28890,
    "start_time": "2023-04-25T17:31:54.721Z"
   },
   {
    "duration": 501,
    "start_time": "2023-04-25T17:33:05.503Z"
   },
   {
    "duration": 632,
    "start_time": "2023-04-25T17:33:31.730Z"
   },
   {
    "duration": 15,
    "start_time": "2023-04-25T17:35:41.926Z"
   },
   {
    "duration": 1219,
    "start_time": "2023-04-25T17:39:59.490Z"
   },
   {
    "duration": 1279,
    "start_time": "2023-04-25T17:41:51.421Z"
   },
   {
    "duration": 487,
    "start_time": "2023-04-25T17:42:10.082Z"
   },
   {
    "duration": 471,
    "start_time": "2023-04-25T17:42:44.366Z"
   },
   {
    "duration": 28722,
    "start_time": "2023-04-25T17:43:45.271Z"
   },
   {
    "duration": 480,
    "start_time": "2023-04-25T17:44:33.562Z"
   },
   {
    "duration": 467,
    "start_time": "2023-04-25T17:44:36.219Z"
   },
   {
    "duration": 4,
    "start_time": "2023-04-25T17:46:40.935Z"
   },
   {
    "duration": 609,
    "start_time": "2023-04-25T17:47:52.033Z"
   },
   {
    "duration": 46,
    "start_time": "2023-04-25T17:48:55.788Z"
   },
   {
    "duration": 538,
    "start_time": "2023-04-25T17:49:13.979Z"
   },
   {
    "duration": 534,
    "start_time": "2023-04-25T17:51:56.919Z"
   },
   {
    "duration": 498,
    "start_time": "2023-04-25T17:52:46.922Z"
   },
   {
    "duration": 265,
    "start_time": "2023-04-25T17:53:22.149Z"
   },
   {
    "duration": 555,
    "start_time": "2023-04-25T17:53:36.183Z"
   },
   {
    "duration": 475,
    "start_time": "2023-04-25T17:57:46.100Z"
   },
   {
    "duration": 487,
    "start_time": "2023-04-25T17:58:34.983Z"
   },
   {
    "duration": 1174,
    "start_time": "2023-04-25T17:58:49.047Z"
   },
   {
    "duration": 153,
    "start_time": "2023-04-25T18:00:47.710Z"
   },
   {
    "duration": 124,
    "start_time": "2023-04-25T18:01:48.950Z"
   },
   {
    "duration": 161,
    "start_time": "2023-04-25T18:01:59.009Z"
   },
   {
    "duration": 177,
    "start_time": "2023-04-25T18:05:08.702Z"
   },
   {
    "duration": 173,
    "start_time": "2023-04-25T18:08:19.667Z"
   },
   {
    "duration": 8,
    "start_time": "2023-04-25T18:15:37.173Z"
   },
   {
    "duration": 19,
    "start_time": "2023-04-25T18:28:17.466Z"
   },
   {
    "duration": 17,
    "start_time": "2023-04-25T18:28:41.326Z"
   },
   {
    "duration": 13,
    "start_time": "2023-04-25T18:29:03.049Z"
   },
   {
    "duration": 11,
    "start_time": "2023-04-25T18:38:37.494Z"
   },
   {
    "duration": 808,
    "start_time": "2023-04-25T18:40:08.157Z"
   },
   {
    "duration": 12,
    "start_time": "2023-04-25T18:40:17.445Z"
   },
   {
    "duration": 18,
    "start_time": "2023-04-25T18:43:46.933Z"
   },
   {
    "duration": 17,
    "start_time": "2023-04-25T18:45:27.108Z"
   },
   {
    "duration": 18,
    "start_time": "2023-04-25T18:45:48.067Z"
   },
   {
    "duration": 11,
    "start_time": "2023-04-25T18:47:42.642Z"
   },
   {
    "duration": 16,
    "start_time": "2023-04-25T18:49:38.991Z"
   },
   {
    "duration": 7,
    "start_time": "2023-04-25T18:49:42.712Z"
   },
   {
    "duration": 7,
    "start_time": "2023-04-25T18:50:23.152Z"
   },
   {
    "duration": 10,
    "start_time": "2023-04-25T18:51:26.683Z"
   },
   {
    "duration": 169,
    "start_time": "2023-04-25T18:53:23.581Z"
   },
   {
    "duration": 175,
    "start_time": "2023-04-25T18:53:48.093Z"
   },
   {
    "duration": 139,
    "start_time": "2023-04-25T18:53:58.454Z"
   },
   {
    "duration": 162,
    "start_time": "2023-04-25T18:54:16.949Z"
   },
   {
    "duration": 131,
    "start_time": "2023-04-25T18:55:57.928Z"
   },
   {
    "duration": 146,
    "start_time": "2023-04-25T18:57:15.442Z"
   },
   {
    "duration": 14,
    "start_time": "2023-04-25T19:00:39.223Z"
   },
   {
    "duration": 18,
    "start_time": "2023-04-25T19:03:54.305Z"
   },
   {
    "duration": 15,
    "start_time": "2023-04-25T19:04:59.685Z"
   },
   {
    "duration": 15,
    "start_time": "2023-04-25T19:05:37.163Z"
   },
   {
    "duration": 176,
    "start_time": "2023-04-25T19:07:14.284Z"
   },
   {
    "duration": 145,
    "start_time": "2023-04-25T19:17:28.815Z"
   },
   {
    "duration": 1550,
    "start_time": "2023-04-26T18:59:09.955Z"
   },
   {
    "duration": 1430,
    "start_time": "2023-04-26T18:59:11.507Z"
   },
   {
    "duration": 184,
    "start_time": "2023-04-26T18:59:12.939Z"
   },
   {
    "duration": 665,
    "start_time": "2023-04-26T18:59:13.124Z"
   },
   {
    "duration": 25,
    "start_time": "2023-04-26T18:59:13.792Z"
   },
   {
    "duration": 20,
    "start_time": "2023-04-26T18:59:13.819Z"
   },
   {
    "duration": 14,
    "start_time": "2023-04-26T18:59:13.842Z"
   },
   {
    "duration": 23,
    "start_time": "2023-04-26T18:59:13.858Z"
   },
   {
    "duration": 254,
    "start_time": "2023-04-26T18:59:13.911Z"
   },
   {
    "duration": 14,
    "start_time": "2023-04-26T18:59:14.167Z"
   },
   {
    "duration": 47,
    "start_time": "2023-04-26T18:59:14.183Z"
   },
   {
    "duration": 5,
    "start_time": "2023-04-26T18:59:14.232Z"
   },
   {
    "duration": 9,
    "start_time": "2023-04-26T18:59:14.239Z"
   },
   {
    "duration": 5,
    "start_time": "2023-04-26T18:59:14.251Z"
   },
   {
    "duration": 13,
    "start_time": "2023-04-26T18:59:14.258Z"
   },
   {
    "duration": 489,
    "start_time": "2023-04-26T18:59:14.272Z"
   },
   {
    "duration": 8,
    "start_time": "2023-04-26T18:59:14.763Z"
   },
   {
    "duration": 10,
    "start_time": "2023-04-26T18:59:14.773Z"
   },
   {
    "duration": 8,
    "start_time": "2023-04-26T18:59:14.785Z"
   },
   {
    "duration": 20,
    "start_time": "2023-04-26T18:59:14.795Z"
   },
   {
    "duration": 704,
    "start_time": "2023-04-26T18:59:14.816Z"
   },
   {
    "duration": 625,
    "start_time": "2023-04-26T18:59:15.521Z"
   },
   {
    "duration": 8,
    "start_time": "2023-04-26T18:59:16.147Z"
   },
   {
    "duration": 164,
    "start_time": "2023-04-26T18:59:16.156Z"
   },
   {
    "duration": 149,
    "start_time": "2023-04-26T18:59:16.322Z"
   },
   {
    "duration": 146,
    "start_time": "2023-04-26T18:59:16.473Z"
   },
   {
    "duration": 176,
    "start_time": "2023-04-26T18:59:16.621Z"
   },
   {
    "duration": 19,
    "start_time": "2023-04-26T18:59:16.799Z"
   },
   {
    "duration": 4,
    "start_time": "2023-04-26T18:59:16.819Z"
   },
   {
    "duration": 8,
    "start_time": "2023-04-26T18:59:16.825Z"
   },
   {
    "duration": 12,
    "start_time": "2023-04-26T18:59:16.835Z"
   },
   {
    "duration": 3,
    "start_time": "2023-04-26T18:59:16.848Z"
   },
   {
    "duration": 28518,
    "start_time": "2023-04-26T18:59:16.853Z"
   },
   {
    "duration": 499,
    "start_time": "2023-04-26T18:59:45.373Z"
   },
   {
    "duration": 763349,
    "start_time": "2023-04-26T18:59:45.875Z"
   },
   {
    "duration": 0,
    "start_time": "2023-04-26T19:12:29.226Z"
   },
   {
    "duration": 12,
    "start_time": "2023-04-26T19:18:53.106Z"
   },
   {
    "duration": 34,
    "start_time": "2023-04-26T19:19:11.085Z"
   },
   {
    "duration": 14,
    "start_time": "2023-04-26T19:19:36.567Z"
   },
   {
    "duration": 11,
    "start_time": "2023-04-26T19:19:50.808Z"
   },
   {
    "duration": 4,
    "start_time": "2023-04-26T19:20:14.322Z"
   },
   {
    "duration": 12,
    "start_time": "2023-04-26T19:24:34.428Z"
   },
   {
    "duration": 45,
    "start_time": "2023-04-26T19:27:15.763Z"
   },
   {
    "duration": 55,
    "start_time": "2023-04-26T19:27:51.242Z"
   },
   {
    "duration": 622528,
    "start_time": "2023-04-26T19:28:48.142Z"
   },
   {
    "duration": 0,
    "start_time": "2023-04-26T19:39:10.672Z"
   },
   {
    "duration": 731,
    "start_time": "2023-04-26T19:39:13.231Z"
   },
   {
    "duration": 16,
    "start_time": "2023-04-26T19:40:31.369Z"
   },
   {
    "duration": 11,
    "start_time": "2023-04-26T19:43:34.683Z"
   },
   {
    "duration": 11,
    "start_time": "2023-04-26T19:46:47.660Z"
   },
   {
    "duration": 20,
    "start_time": "2023-04-26T19:47:57.146Z"
   },
   {
    "duration": 11,
    "start_time": "2023-04-26T19:48:14.706Z"
   },
   {
    "duration": 16,
    "start_time": "2023-04-26T19:48:44.885Z"
   },
   {
    "duration": 142,
    "start_time": "2023-04-26T19:48:51.995Z"
   },
   {
    "duration": 129,
    "start_time": "2023-04-26T19:49:30.496Z"
   },
   {
    "duration": 136,
    "start_time": "2023-04-26T19:50:08.193Z"
   },
   {
    "duration": 167,
    "start_time": "2023-04-26T19:51:03.038Z"
   },
   {
    "duration": 205,
    "start_time": "2023-04-26T19:53:38.873Z"
   },
   {
    "duration": 155,
    "start_time": "2023-04-26T19:54:06.619Z"
   },
   {
    "duration": 229,
    "start_time": "2023-04-26T19:54:10.025Z"
   },
   {
    "duration": 154,
    "start_time": "2023-04-26T19:54:12.593Z"
   },
   {
    "duration": 170,
    "start_time": "2023-04-26T19:54:59.077Z"
   },
   {
    "duration": 160,
    "start_time": "2023-04-26T19:55:42.465Z"
   },
   {
    "duration": 186,
    "start_time": "2023-04-26T19:55:45.589Z"
   },
   {
    "duration": 174,
    "start_time": "2023-04-26T19:55:53.762Z"
   },
   {
    "duration": 141,
    "start_time": "2023-04-26T19:56:04.401Z"
   },
   {
    "duration": 148,
    "start_time": "2023-04-26T19:58:05.609Z"
   },
   {
    "duration": 137,
    "start_time": "2023-04-26T19:58:09.313Z"
   },
   {
    "duration": 131,
    "start_time": "2023-04-26T19:58:20.116Z"
   },
   {
    "duration": 151,
    "start_time": "2023-04-26T19:59:26.787Z"
   },
   {
    "duration": 621,
    "start_time": "2023-04-26T20:00:00.518Z"
   },
   {
    "duration": 3,
    "start_time": "2023-04-26T20:01:26.601Z"
   },
   {
    "duration": 51,
    "start_time": "2023-04-26T20:03:04.327Z"
   },
   {
    "duration": 51,
    "start_time": "2023-04-26T20:04:21.234Z"
   },
   {
    "duration": 1390,
    "start_time": "2023-04-26T20:04:31.045Z"
   },
   {
    "duration": 304,
    "start_time": "2023-04-26T20:04:32.437Z"
   },
   {
    "duration": 85,
    "start_time": "2023-04-26T20:04:32.743Z"
   },
   {
    "duration": 364,
    "start_time": "2023-04-26T20:04:32.829Z"
   },
   {
    "duration": 34,
    "start_time": "2023-04-26T20:04:33.195Z"
   },
   {
    "duration": 19,
    "start_time": "2023-04-26T20:04:33.231Z"
   },
   {
    "duration": 14,
    "start_time": "2023-04-26T20:04:33.252Z"
   },
   {
    "duration": 45,
    "start_time": "2023-04-26T20:04:33.267Z"
   },
   {
    "duration": 259,
    "start_time": "2023-04-26T20:04:33.313Z"
   },
   {
    "duration": 15,
    "start_time": "2023-04-26T20:04:33.574Z"
   },
   {
    "duration": 55,
    "start_time": "2023-04-26T20:04:33.591Z"
   },
   {
    "duration": 6,
    "start_time": "2023-04-26T20:04:33.648Z"
   },
   {
    "duration": 23,
    "start_time": "2023-04-26T20:04:33.656Z"
   },
   {
    "duration": 8,
    "start_time": "2023-04-26T20:04:33.681Z"
   },
   {
    "duration": 12,
    "start_time": "2023-04-26T20:04:33.690Z"
   },
   {
    "duration": 465,
    "start_time": "2023-04-26T20:04:33.704Z"
   },
   {
    "duration": 7,
    "start_time": "2023-04-26T20:04:34.171Z"
   },
   {
    "duration": 7,
    "start_time": "2023-04-26T20:04:34.180Z"
   },
   {
    "duration": 25,
    "start_time": "2023-04-26T20:04:34.189Z"
   },
   {
    "duration": 7,
    "start_time": "2023-04-26T20:04:34.216Z"
   },
   {
    "duration": 590,
    "start_time": "2023-04-26T20:04:34.225Z"
   },
   {
    "duration": 711,
    "start_time": "2023-04-26T20:04:34.817Z"
   },
   {
    "duration": 595,
    "start_time": "2023-04-26T20:04:35.531Z"
   },
   {
    "duration": 4,
    "start_time": "2023-04-26T20:04:36.129Z"
   },
   {
    "duration": 26,
    "start_time": "2023-04-26T20:04:36.134Z"
   },
   {
    "duration": 17,
    "start_time": "2023-04-26T20:04:36.161Z"
   },
   {
    "duration": 3,
    "start_time": "2023-04-26T20:04:36.180Z"
   },
   {
    "duration": 28037,
    "start_time": "2023-04-26T20:04:36.185Z"
   },
   {
    "duration": 487,
    "start_time": "2023-04-26T20:05:04.224Z"
   },
   {
    "duration": 2,
    "start_time": "2023-04-26T20:05:04.713Z"
   },
   {
    "duration": 56,
    "start_time": "2023-04-26T20:05:04.717Z"
   },
   {
    "duration": 0,
    "start_time": "2023-04-26T20:05:04.774Z"
   },
   {
    "duration": 160529,
    "start_time": "2023-04-26T20:09:21.292Z"
   },
   {
    "duration": 12,
    "start_time": "2023-04-26T20:13:02.833Z"
   },
   {
    "duration": 319872,
    "start_time": "2023-04-26T20:13:30.080Z"
   },
   {
    "duration": 79399,
    "start_time": "2023-04-26T20:18:58.552Z"
   },
   {
    "duration": 16,
    "start_time": "2023-04-26T20:20:39.341Z"
   },
   {
    "duration": 289428,
    "start_time": "2023-04-26T20:20:50.923Z"
   },
   {
    "duration": 9,
    "start_time": "2023-04-26T20:28:39.852Z"
   },
   {
    "duration": 9,
    "start_time": "2023-04-26T20:29:46.993Z"
   },
   {
    "duration": 13,
    "start_time": "2023-04-26T20:29:49.911Z"
   },
   {
    "duration": 5,
    "start_time": "2023-04-26T20:31:49.404Z"
   },
   {
    "duration": 5,
    "start_time": "2023-04-26T20:33:34.892Z"
   },
   {
    "duration": 284362,
    "start_time": "2023-04-26T20:34:31.279Z"
   },
   {
    "duration": 5,
    "start_time": "2023-04-26T20:41:40.402Z"
   },
   {
    "duration": 2,
    "start_time": "2023-04-26T20:41:58.181Z"
   },
   {
    "duration": 16,
    "start_time": "2023-04-26T20:42:09.595Z"
   },
   {
    "duration": 3,
    "start_time": "2023-04-26T20:42:33.381Z"
   },
   {
    "duration": 2632,
    "start_time": "2023-04-26T20:43:32.888Z"
   },
   {
    "duration": 4,
    "start_time": "2023-04-26T20:43:57.551Z"
   },
   {
    "duration": 5,
    "start_time": "2023-04-26T21:10:36.183Z"
   },
   {
    "duration": 174,
    "start_time": "2023-04-26T21:13:45.586Z"
   },
   {
    "duration": 4,
    "start_time": "2023-04-26T21:18:06.208Z"
   },
   {
    "duration": 172,
    "start_time": "2023-04-26T21:18:08.524Z"
   },
   {
    "duration": 170,
    "start_time": "2023-04-26T21:20:16.780Z"
   },
   {
    "duration": 88,
    "start_time": "2023-04-26T21:21:29.503Z"
   },
   {
    "duration": 179,
    "start_time": "2023-04-26T21:21:40.740Z"
   },
   {
    "duration": 8,
    "start_time": "2023-04-26T21:22:18.494Z"
   },
   {
    "duration": 5,
    "start_time": "2023-04-26T21:26:35.890Z"
   },
   {
    "duration": 8,
    "start_time": "2023-04-26T21:26:45.950Z"
   },
   {
    "duration": 8,
    "start_time": "2023-04-26T21:26:55.317Z"
   },
   {
    "duration": 178,
    "start_time": "2023-04-26T21:27:45.433Z"
   },
   {
    "duration": 175,
    "start_time": "2023-04-26T21:27:54.618Z"
   },
   {
    "duration": 176,
    "start_time": "2023-04-26T21:28:21.184Z"
   },
   {
    "duration": 168,
    "start_time": "2023-04-26T21:28:59.487Z"
   },
   {
    "duration": 176,
    "start_time": "2023-04-26T21:29:12.950Z"
   },
   {
    "duration": 174,
    "start_time": "2023-04-26T21:29:26.070Z"
   },
   {
    "duration": 170,
    "start_time": "2023-04-26T21:29:40.428Z"
   },
   {
    "duration": 5,
    "start_time": "2023-04-26T21:30:59.828Z"
   },
   {
    "duration": 188,
    "start_time": "2023-04-26T21:31:03.181Z"
   },
   {
    "duration": 172,
    "start_time": "2023-04-26T21:32:46.539Z"
   },
   {
    "duration": 1395,
    "start_time": "2023-04-26T21:37:53.138Z"
   },
   {
    "duration": 300,
    "start_time": "2023-04-26T21:37:54.535Z"
   },
   {
    "duration": 82,
    "start_time": "2023-04-26T21:37:54.837Z"
   },
   {
    "duration": 374,
    "start_time": "2023-04-26T21:37:54.921Z"
   },
   {
    "duration": 33,
    "start_time": "2023-04-26T21:37:55.296Z"
   },
   {
    "duration": 21,
    "start_time": "2023-04-26T21:37:55.331Z"
   },
   {
    "duration": 16,
    "start_time": "2023-04-26T21:37:55.354Z"
   },
   {
    "duration": 28,
    "start_time": "2023-04-26T21:37:55.371Z"
   },
   {
    "duration": 250,
    "start_time": "2023-04-26T21:37:55.401Z"
   },
   {
    "duration": 14,
    "start_time": "2023-04-26T21:37:55.654Z"
   },
   {
    "duration": 58,
    "start_time": "2023-04-26T21:37:55.670Z"
   },
   {
    "duration": 7,
    "start_time": "2023-04-26T21:37:55.730Z"
   },
   {
    "duration": 8,
    "start_time": "2023-04-26T21:37:55.738Z"
   },
   {
    "duration": 5,
    "start_time": "2023-04-26T21:37:55.747Z"
   },
   {
    "duration": 7,
    "start_time": "2023-04-26T21:37:55.754Z"
   },
   {
    "duration": 469,
    "start_time": "2023-04-26T21:37:55.763Z"
   },
   {
    "duration": 6,
    "start_time": "2023-04-26T21:37:56.234Z"
   },
   {
    "duration": 6,
    "start_time": "2023-04-26T21:37:56.241Z"
   },
   {
    "duration": 6,
    "start_time": "2023-04-26T21:37:56.248Z"
   },
   {
    "duration": 6,
    "start_time": "2023-04-26T21:37:56.255Z"
   },
   {
    "duration": 678,
    "start_time": "2023-04-26T21:37:56.262Z"
   },
   {
    "duration": 674,
    "start_time": "2023-04-26T21:37:56.942Z"
   },
   {
    "duration": 590,
    "start_time": "2023-04-26T21:37:57.618Z"
   },
   {
    "duration": 3,
    "start_time": "2023-04-26T21:37:58.211Z"
   },
   {
    "duration": 21,
    "start_time": "2023-04-26T21:37:58.216Z"
   },
   {
    "duration": 13,
    "start_time": "2023-04-26T21:37:58.239Z"
   },
   {
    "duration": 6,
    "start_time": "2023-04-26T21:37:58.253Z"
   },
   {
    "duration": 27794,
    "start_time": "2023-04-26T21:37:58.262Z"
   },
   {
    "duration": 486,
    "start_time": "2023-04-26T21:38:26.058Z"
   },
   {
    "duration": 3,
    "start_time": "2023-04-26T21:38:26.546Z"
   },
   {
    "duration": 279293,
    "start_time": "2023-04-26T21:38:26.551Z"
   },
   {
    "duration": 286446,
    "start_time": "2023-04-26T21:43:05.846Z"
   },
   {
    "duration": 4,
    "start_time": "2023-04-26T21:47:52.294Z"
   },
   {
    "duration": 12,
    "start_time": "2023-04-26T21:47:52.300Z"
   },
   {
    "duration": 2898,
    "start_time": "2023-04-26T21:47:52.313Z"
   },
   {
    "duration": 5,
    "start_time": "2023-04-26T21:47:55.213Z"
   },
   {
    "duration": 28,
    "start_time": "2023-04-26T21:47:55.220Z"
   },
   {
    "duration": 233,
    "start_time": "2023-04-26T21:47:55.250Z"
   },
   {
    "duration": 51,
    "start_time": "2023-04-27T20:03:07.886Z"
   },
   {
    "duration": 1820,
    "start_time": "2023-04-27T20:03:26.885Z"
   },
   {
    "duration": 1434,
    "start_time": "2023-04-27T20:03:28.708Z"
   },
   {
    "duration": 158,
    "start_time": "2023-04-27T20:03:30.143Z"
   },
   {
    "duration": 662,
    "start_time": "2023-04-27T20:03:30.303Z"
   },
   {
    "duration": 28,
    "start_time": "2023-04-27T20:03:30.967Z"
   },
   {
    "duration": 35,
    "start_time": "2023-04-27T20:03:30.996Z"
   },
   {
    "duration": 42,
    "start_time": "2023-04-27T20:03:31.033Z"
   },
   {
    "duration": 41,
    "start_time": "2023-04-27T20:03:31.077Z"
   },
   {
    "duration": 275,
    "start_time": "2023-04-27T20:03:31.120Z"
   },
   {
    "duration": 16,
    "start_time": "2023-04-27T20:03:31.398Z"
   },
   {
    "duration": 69,
    "start_time": "2023-04-27T20:03:31.416Z"
   },
   {
    "duration": 7,
    "start_time": "2023-04-27T20:03:31.487Z"
   },
   {
    "duration": 31,
    "start_time": "2023-04-27T20:03:31.496Z"
   },
   {
    "duration": 22,
    "start_time": "2023-04-27T20:03:31.530Z"
   },
   {
    "duration": 24,
    "start_time": "2023-04-27T20:03:31.554Z"
   },
   {
    "duration": 511,
    "start_time": "2023-04-27T20:03:31.580Z"
   },
   {
    "duration": 7,
    "start_time": "2023-04-27T20:03:32.093Z"
   },
   {
    "duration": 43,
    "start_time": "2023-04-27T20:03:32.102Z"
   },
   {
    "duration": 47,
    "start_time": "2023-04-27T20:03:32.146Z"
   },
   {
    "duration": 61,
    "start_time": "2023-04-27T20:03:32.195Z"
   },
   {
    "duration": 681,
    "start_time": "2023-04-27T20:03:32.258Z"
   },
   {
    "duration": 695,
    "start_time": "2023-04-27T20:03:32.941Z"
   },
   {
    "duration": 672,
    "start_time": "2023-04-27T20:03:33.638Z"
   },
   {
    "duration": 16,
    "start_time": "2023-04-27T20:03:37.953Z"
   },
   {
    "duration": 59,
    "start_time": "2023-04-27T20:06:49.062Z"
   },
   {
    "duration": 16,
    "start_time": "2023-04-27T20:06:55.698Z"
   },
   {
    "duration": 18,
    "start_time": "2023-04-27T20:08:07.882Z"
   },
   {
    "duration": 331,
    "start_time": "2023-04-27T20:21:34.641Z"
   },
   {
    "duration": 622,
    "start_time": "2023-04-27T20:22:40.588Z"
   },
   {
    "duration": 1032,
    "start_time": "2023-04-27T20:23:21.411Z"
   },
   {
    "duration": 20,
    "start_time": "2023-04-27T20:35:45.110Z"
   },
   {
    "duration": 1177,
    "start_time": "2023-04-27T20:37:04.478Z"
   },
   {
    "duration": 1261,
    "start_time": "2023-04-27T20:37:30.182Z"
   },
   {
    "duration": 5,
    "start_time": "2023-04-27T20:37:58.605Z"
   },
   {
    "duration": 298,
    "start_time": "2023-04-27T20:37:58.613Z"
   },
   {
    "duration": 81,
    "start_time": "2023-04-27T20:37:58.913Z"
   },
   {
    "duration": 373,
    "start_time": "2023-04-27T20:37:58.996Z"
   },
   {
    "duration": 24,
    "start_time": "2023-04-27T20:37:59.371Z"
   },
   {
    "duration": 26,
    "start_time": "2023-04-27T20:37:59.397Z"
   },
   {
    "duration": 15,
    "start_time": "2023-04-27T20:37:59.425Z"
   },
   {
    "duration": 20,
    "start_time": "2023-04-27T20:37:59.442Z"
   },
   {
    "duration": 266,
    "start_time": "2023-04-27T20:37:59.464Z"
   },
   {
    "duration": 19,
    "start_time": "2023-04-27T20:37:59.732Z"
   },
   {
    "duration": 59,
    "start_time": "2023-04-27T20:37:59.753Z"
   },
   {
    "duration": 5,
    "start_time": "2023-04-27T20:37:59.814Z"
   },
   {
    "duration": 10,
    "start_time": "2023-04-27T20:37:59.820Z"
   },
   {
    "duration": 15,
    "start_time": "2023-04-27T20:37:59.833Z"
   },
   {
    "duration": 20,
    "start_time": "2023-04-27T20:37:59.850Z"
   },
   {
    "duration": 453,
    "start_time": "2023-04-27T20:37:59.872Z"
   },
   {
    "duration": 8,
    "start_time": "2023-04-27T20:38:00.327Z"
   },
   {
    "duration": 30,
    "start_time": "2023-04-27T20:38:00.337Z"
   },
   {
    "duration": 29,
    "start_time": "2023-04-27T20:38:00.369Z"
   },
   {
    "duration": 32,
    "start_time": "2023-04-27T20:38:00.400Z"
   },
   {
    "duration": 723,
    "start_time": "2023-04-27T20:38:00.434Z"
   },
   {
    "duration": 686,
    "start_time": "2023-04-27T20:38:01.159Z"
   },
   {
    "duration": 908,
    "start_time": "2023-04-27T20:38:01.847Z"
   },
   {
    "duration": 1231,
    "start_time": "2023-04-27T20:38:04.618Z"
   },
   {
    "duration": 1291,
    "start_time": "2023-04-27T20:38:24.891Z"
   },
   {
    "duration": 1436,
    "start_time": "2023-04-27T20:43:12.427Z"
   },
   {
    "duration": 314,
    "start_time": "2023-04-27T20:43:13.865Z"
   },
   {
    "duration": 83,
    "start_time": "2023-04-27T20:43:14.181Z"
   },
   {
    "duration": 379,
    "start_time": "2023-04-27T20:43:14.266Z"
   },
   {
    "duration": 28,
    "start_time": "2023-04-27T20:43:14.647Z"
   },
   {
    "duration": 19,
    "start_time": "2023-04-27T20:43:14.689Z"
   },
   {
    "duration": 13,
    "start_time": "2023-04-27T20:43:14.710Z"
   },
   {
    "duration": 19,
    "start_time": "2023-04-27T20:43:14.725Z"
   },
   {
    "duration": 286,
    "start_time": "2023-04-27T20:43:14.746Z"
   },
   {
    "duration": 15,
    "start_time": "2023-04-27T20:43:15.034Z"
   },
   {
    "duration": 61,
    "start_time": "2023-04-27T20:43:15.051Z"
   },
   {
    "duration": 6,
    "start_time": "2023-04-27T20:43:15.113Z"
   },
   {
    "duration": 20,
    "start_time": "2023-04-27T20:43:15.121Z"
   },
   {
    "duration": 12,
    "start_time": "2023-04-27T20:43:15.144Z"
   },
   {
    "duration": 6,
    "start_time": "2023-04-27T20:43:15.158Z"
   },
   {
    "duration": 557,
    "start_time": "2023-04-27T20:43:15.166Z"
   },
   {
    "duration": 7,
    "start_time": "2023-04-27T20:43:15.725Z"
   },
   {
    "duration": 18,
    "start_time": "2023-04-27T20:43:15.734Z"
   },
   {
    "duration": 7,
    "start_time": "2023-04-27T20:43:15.754Z"
   },
   {
    "duration": 8,
    "start_time": "2023-04-27T20:43:15.763Z"
   },
   {
    "duration": 647,
    "start_time": "2023-04-27T20:43:15.773Z"
   },
   {
    "duration": 695,
    "start_time": "2023-04-27T20:43:16.422Z"
   },
   {
    "duration": 868,
    "start_time": "2023-04-27T20:43:17.119Z"
   },
   {
    "duration": 1176,
    "start_time": "2023-04-27T20:43:17.989Z"
   },
   {
    "duration": 4,
    "start_time": "2023-04-27T20:43:19.167Z"
   },
   {
    "duration": 19,
    "start_time": "2023-04-27T20:43:19.173Z"
   },
   {
    "duration": 10,
    "start_time": "2023-04-27T20:43:19.194Z"
   },
   {
    "duration": 16,
    "start_time": "2023-04-27T20:43:19.206Z"
   },
   {
    "duration": 27033,
    "start_time": "2023-04-27T20:43:19.224Z"
   },
   {
    "duration": 465,
    "start_time": "2023-04-27T20:43:46.259Z"
   },
   {
    "duration": 3,
    "start_time": "2023-04-27T20:43:46.726Z"
   },
   {
    "duration": 234194,
    "start_time": "2023-04-27T20:43:46.730Z"
   },
   {
    "duration": 281546,
    "start_time": "2023-04-27T20:47:40.926Z"
   },
   {
    "duration": 3,
    "start_time": "2023-04-27T20:52:22.474Z"
   },
   {
    "duration": 8,
    "start_time": "2023-04-27T20:52:22.479Z"
   },
   {
    "duration": 2599,
    "start_time": "2023-04-27T20:52:22.489Z"
   },
   {
    "duration": 5,
    "start_time": "2023-04-27T20:52:25.090Z"
   },
   {
    "duration": 95,
    "start_time": "2023-04-27T20:52:25.097Z"
   },
   {
    "duration": 190,
    "start_time": "2023-04-27T20:52:25.194Z"
   },
   {
    "duration": 1532,
    "start_time": "2023-04-27T21:00:52.847Z"
   },
   {
    "duration": 295,
    "start_time": "2023-04-27T21:00:54.381Z"
   },
   {
    "duration": 81,
    "start_time": "2023-04-27T21:00:54.680Z"
   },
   {
    "duration": 364,
    "start_time": "2023-04-27T21:00:54.763Z"
   },
   {
    "duration": 26,
    "start_time": "2023-04-27T21:00:55.129Z"
   },
   {
    "duration": 21,
    "start_time": "2023-04-27T21:00:55.156Z"
   },
   {
    "duration": 15,
    "start_time": "2023-04-27T21:00:55.188Z"
   },
   {
    "duration": 19,
    "start_time": "2023-04-27T21:00:55.205Z"
   },
   {
    "duration": 276,
    "start_time": "2023-04-27T21:00:55.227Z"
   },
   {
    "duration": 15,
    "start_time": "2023-04-27T21:00:55.505Z"
   },
   {
    "duration": 42,
    "start_time": "2023-04-27T21:00:55.522Z"
   },
   {
    "duration": 27,
    "start_time": "2023-04-27T21:00:55.566Z"
   },
   {
    "duration": 19,
    "start_time": "2023-04-27T21:00:55.594Z"
   },
   {
    "duration": 17,
    "start_time": "2023-04-27T21:00:55.615Z"
   },
   {
    "duration": 26,
    "start_time": "2023-04-27T21:00:55.634Z"
   },
   {
    "duration": 479,
    "start_time": "2023-04-27T21:00:55.661Z"
   },
   {
    "duration": 7,
    "start_time": "2023-04-27T21:00:56.141Z"
   },
   {
    "duration": 31,
    "start_time": "2023-04-27T21:00:56.150Z"
   },
   {
    "duration": 13,
    "start_time": "2023-04-27T21:00:56.182Z"
   },
   {
    "duration": 36,
    "start_time": "2023-04-27T21:00:56.197Z"
   },
   {
    "duration": 634,
    "start_time": "2023-04-27T21:00:56.235Z"
   },
   {
    "duration": 745,
    "start_time": "2023-04-27T21:00:56.871Z"
   },
   {
    "duration": 911,
    "start_time": "2023-04-27T21:00:57.618Z"
   },
   {
    "duration": 1247,
    "start_time": "2023-04-27T21:00:58.531Z"
   },
   {
    "duration": 9,
    "start_time": "2023-04-27T21:00:59.780Z"
   },
   {
    "duration": 6,
    "start_time": "2023-04-27T21:00:59.791Z"
   },
   {
    "duration": 15,
    "start_time": "2023-04-27T21:00:59.800Z"
   },
   {
    "duration": 5,
    "start_time": "2023-04-27T21:00:59.817Z"
   },
   {
    "duration": 27315,
    "start_time": "2023-04-27T21:00:59.824Z"
   },
   {
    "duration": 457,
    "start_time": "2023-04-27T21:01:27.141Z"
   },
   {
    "duration": 2,
    "start_time": "2023-04-27T21:01:27.600Z"
   },
   {
    "duration": 21768,
    "start_time": "2023-04-27T21:01:27.604Z"
   },
   {
    "duration": 0,
    "start_time": "2023-04-27T21:01:49.375Z"
   },
   {
    "duration": 0,
    "start_time": "2023-04-27T21:01:49.376Z"
   },
   {
    "duration": 0,
    "start_time": "2023-04-27T21:01:49.378Z"
   },
   {
    "duration": 0,
    "start_time": "2023-04-27T21:01:49.389Z"
   },
   {
    "duration": 0,
    "start_time": "2023-04-27T21:01:49.390Z"
   },
   {
    "duration": 0,
    "start_time": "2023-04-27T21:01:49.392Z"
   },
   {
    "duration": 1,
    "start_time": "2023-04-27T21:01:49.393Z"
   },
   {
    "duration": 1493,
    "start_time": "2023-04-27T21:02:52.997Z"
   },
   {
    "duration": 298,
    "start_time": "2023-04-27T21:02:54.492Z"
   },
   {
    "duration": 82,
    "start_time": "2023-04-27T21:02:54.792Z"
   },
   {
    "duration": 374,
    "start_time": "2023-04-27T21:02:54.877Z"
   },
   {
    "duration": 28,
    "start_time": "2023-04-27T21:02:55.253Z"
   },
   {
    "duration": 20,
    "start_time": "2023-04-27T21:02:55.290Z"
   },
   {
    "duration": 15,
    "start_time": "2023-04-27T21:02:55.313Z"
   },
   {
    "duration": 19,
    "start_time": "2023-04-27T21:02:55.330Z"
   },
   {
    "duration": 292,
    "start_time": "2023-04-27T21:02:55.352Z"
   },
   {
    "duration": 16,
    "start_time": "2023-04-27T21:02:55.648Z"
   },
   {
    "duration": 58,
    "start_time": "2023-04-27T21:02:55.666Z"
   },
   {
    "duration": 7,
    "start_time": "2023-04-27T21:02:55.726Z"
   },
   {
    "duration": 13,
    "start_time": "2023-04-27T21:02:55.735Z"
   },
   {
    "duration": 5,
    "start_time": "2023-04-27T21:02:55.750Z"
   },
   {
    "duration": 38,
    "start_time": "2023-04-27T21:02:55.757Z"
   },
   {
    "duration": 485,
    "start_time": "2023-04-27T21:02:55.798Z"
   },
   {
    "duration": 8,
    "start_time": "2023-04-27T21:02:56.289Z"
   },
   {
    "duration": 13,
    "start_time": "2023-04-27T21:02:56.298Z"
   },
   {
    "duration": 17,
    "start_time": "2023-04-27T21:02:56.312Z"
   },
   {
    "duration": 7,
    "start_time": "2023-04-27T21:02:56.331Z"
   },
   {
    "duration": 662,
    "start_time": "2023-04-27T21:02:56.340Z"
   },
   {
    "duration": 735,
    "start_time": "2023-04-27T21:02:57.004Z"
   },
   {
    "duration": 899,
    "start_time": "2023-04-27T21:02:57.741Z"
   },
   {
    "duration": 1237,
    "start_time": "2023-04-27T21:02:58.643Z"
   },
   {
    "duration": 8,
    "start_time": "2023-04-27T21:02:59.882Z"
   },
   {
    "duration": 7,
    "start_time": "2023-04-27T21:02:59.892Z"
   },
   {
    "duration": 19,
    "start_time": "2023-04-27T21:02:59.900Z"
   },
   {
    "duration": 4,
    "start_time": "2023-04-27T21:02:59.923Z"
   },
   {
    "duration": 27231,
    "start_time": "2023-04-27T21:02:59.929Z"
   },
   {
    "duration": 466,
    "start_time": "2023-04-27T21:03:27.162Z"
   },
   {
    "duration": 3,
    "start_time": "2023-04-27T21:03:27.630Z"
   },
   {
    "duration": 233351,
    "start_time": "2023-04-27T21:03:27.635Z"
   },
   {
    "duration": 279989,
    "start_time": "2023-04-27T21:07:20.988Z"
   },
   {
    "duration": 4,
    "start_time": "2023-04-27T21:12:00.979Z"
   },
   {
    "duration": 32,
    "start_time": "2023-04-27T21:12:00.985Z"
   },
   {
    "duration": 2572,
    "start_time": "2023-04-27T21:12:01.018Z"
   },
   {
    "duration": 4,
    "start_time": "2023-04-27T21:12:03.592Z"
   },
   {
    "duration": 15,
    "start_time": "2023-04-27T21:12:03.599Z"
   },
   {
    "duration": 227,
    "start_time": "2023-04-27T21:12:03.616Z"
   },
   {
    "duration": 4,
    "start_time": "2023-04-27T21:15:45.546Z"
   },
   {
    "duration": 116,
    "start_time": "2023-04-27T21:16:20.980Z"
   },
   {
    "duration": 5,
    "start_time": "2023-04-27T21:16:33.281Z"
   },
   {
    "duration": 12,
    "start_time": "2023-04-27T21:17:46.518Z"
   },
   {
    "duration": 11,
    "start_time": "2023-04-27T21:17:54.263Z"
   },
   {
    "duration": 15,
    "start_time": "2023-04-27T21:18:05.666Z"
   },
   {
    "duration": 3,
    "start_time": "2023-04-27T21:18:19.023Z"
   },
   {
    "duration": 11,
    "start_time": "2023-04-27T21:18:27.539Z"
   },
   {
    "duration": 143,
    "start_time": "2023-04-27T21:19:57.515Z"
   },
   {
    "duration": 271,
    "start_time": "2023-04-27T21:20:10.350Z"
   },
   {
    "duration": 382,
    "start_time": "2023-04-27T21:22:17.270Z"
   },
   {
    "duration": 385,
    "start_time": "2023-04-27T21:26:27.203Z"
   },
   {
    "duration": 393,
    "start_time": "2023-04-27T21:26:41.116Z"
   },
   {
    "duration": 383,
    "start_time": "2023-04-27T21:27:15.762Z"
   },
   {
    "duration": 259,
    "start_time": "2023-04-27T21:27:21.135Z"
   },
   {
    "duration": 386,
    "start_time": "2023-04-27T21:27:28.489Z"
   },
   {
    "duration": 531,
    "start_time": "2023-04-27T21:27:40.913Z"
   },
   {
    "duration": 5,
    "start_time": "2023-04-27T21:29:33.081Z"
   },
   {
    "duration": 177,
    "start_time": "2023-04-27T21:29:37.959Z"
   },
   {
    "duration": 188,
    "start_time": "2023-04-27T21:30:07.224Z"
   },
   {
    "duration": 180,
    "start_time": "2023-04-27T21:30:14.387Z"
   },
   {
    "duration": 313,
    "start_time": "2023-04-27T21:30:27.718Z"
   },
   {
    "duration": 176,
    "start_time": "2023-04-27T21:30:48.874Z"
   },
   {
    "duration": 6,
    "start_time": "2023-04-27T21:30:53.670Z"
   },
   {
    "duration": 173,
    "start_time": "2023-04-27T21:30:55.380Z"
   },
   {
    "duration": 383,
    "start_time": "2023-04-27T21:30:57.307Z"
   },
   {
    "duration": 9,
    "start_time": "2023-04-27T21:34:31.855Z"
   },
   {
    "duration": 35,
    "start_time": "2023-04-27T21:36:00.124Z"
   },
   {
    "duration": 9,
    "start_time": "2023-04-27T21:36:11.039Z"
   },
   {
    "duration": 16,
    "start_time": "2023-04-27T21:36:17.700Z"
   },
   {
    "duration": 16,
    "start_time": "2023-04-27T21:36:21.374Z"
   },
   {
    "duration": 401,
    "start_time": "2023-04-27T21:36:31.139Z"
   },
   {
    "duration": 69,
    "start_time": "2023-04-27T21:39:49.274Z"
   },
   {
    "duration": 11,
    "start_time": "2023-04-27T21:39:56.984Z"
   },
   {
    "duration": 179,
    "start_time": "2023-04-27T21:39:59.782Z"
   },
   {
    "duration": 575,
    "start_time": "2023-04-27T21:40:04.227Z"
   },
   {
    "duration": 1488,
    "start_time": "2023-04-27T21:40:32.386Z"
   },
   {
    "duration": 295,
    "start_time": "2023-04-27T21:40:33.876Z"
   },
   {
    "duration": 79,
    "start_time": "2023-04-27T21:40:34.173Z"
   },
   {
    "duration": 373,
    "start_time": "2023-04-27T21:40:34.254Z"
   },
   {
    "duration": 26,
    "start_time": "2023-04-27T21:40:34.629Z"
   },
   {
    "duration": 32,
    "start_time": "2023-04-27T21:40:34.657Z"
   },
   {
    "duration": 14,
    "start_time": "2023-04-27T21:40:34.691Z"
   },
   {
    "duration": 18,
    "start_time": "2023-04-27T21:40:34.707Z"
   },
   {
    "duration": 275,
    "start_time": "2023-04-27T21:40:34.727Z"
   },
   {
    "duration": 16,
    "start_time": "2023-04-27T21:40:35.004Z"
   },
   {
    "duration": 38,
    "start_time": "2023-04-27T21:40:35.022Z"
   },
   {
    "duration": 31,
    "start_time": "2023-04-27T21:40:35.062Z"
   },
   {
    "duration": 9,
    "start_time": "2023-04-27T21:40:35.095Z"
   },
   {
    "duration": 9,
    "start_time": "2023-04-27T21:40:35.107Z"
   },
   {
    "duration": 8,
    "start_time": "2023-04-27T21:40:35.117Z"
   },
   {
    "duration": 473,
    "start_time": "2023-04-27T21:40:35.126Z"
   },
   {
    "duration": 8,
    "start_time": "2023-04-27T21:40:35.601Z"
   },
   {
    "duration": 9,
    "start_time": "2023-04-27T21:40:35.611Z"
   },
   {
    "duration": 12,
    "start_time": "2023-04-27T21:40:35.622Z"
   },
   {
    "duration": 17,
    "start_time": "2023-04-27T21:40:35.636Z"
   },
   {
    "duration": 656,
    "start_time": "2023-04-27T21:40:35.654Z"
   },
   {
    "duration": 709,
    "start_time": "2023-04-27T21:40:36.312Z"
   },
   {
    "duration": 928,
    "start_time": "2023-04-27T21:40:37.023Z"
   },
   {
    "duration": 1306,
    "start_time": "2023-04-27T21:40:37.953Z"
   },
   {
    "duration": 5,
    "start_time": "2023-04-27T21:40:39.262Z"
   },
   {
    "duration": 32,
    "start_time": "2023-04-27T21:40:39.269Z"
   },
   {
    "duration": 24,
    "start_time": "2023-04-27T21:40:39.303Z"
   },
   {
    "duration": 17,
    "start_time": "2023-04-27T21:40:39.329Z"
   },
   {
    "duration": 26982,
    "start_time": "2023-04-27T21:40:39.348Z"
   },
   {
    "duration": 463,
    "start_time": "2023-04-27T21:41:06.332Z"
   },
   {
    "duration": 3,
    "start_time": "2023-04-27T21:41:06.797Z"
   },
   {
    "duration": 234214,
    "start_time": "2023-04-27T21:41:06.802Z"
   },
   {
    "duration": 279846,
    "start_time": "2023-04-27T21:45:01.018Z"
   },
   {
    "duration": 3,
    "start_time": "2023-04-27T21:49:40.866Z"
   },
   {
    "duration": 4,
    "start_time": "2023-04-27T21:49:40.871Z"
   },
   {
    "duration": 3221,
    "start_time": "2023-04-27T21:49:40.877Z"
   },
   {
    "duration": 90,
    "start_time": "2023-04-27T21:49:44.101Z"
   },
   {
    "duration": 18,
    "start_time": "2023-04-27T21:49:44.193Z"
   },
   {
    "duration": 212,
    "start_time": "2023-04-27T21:49:44.213Z"
   },
   {
    "duration": 465,
    "start_time": "2023-04-27T21:49:44.427Z"
   },
   {
    "duration": 6,
    "start_time": "2023-04-27T21:55:28.720Z"
   },
   {
    "duration": 132,
    "start_time": "2023-04-27T21:57:31.487Z"
   },
   {
    "duration": 4,
    "start_time": "2023-04-27T21:57:43.803Z"
   },
   {
    "duration": 6,
    "start_time": "2023-04-27T21:57:49.529Z"
   },
   {
    "duration": 5,
    "start_time": "2023-04-27T22:00:23.805Z"
   },
   {
    "duration": 5,
    "start_time": "2023-04-27T22:01:18.771Z"
   },
   {
    "duration": 6,
    "start_time": "2023-04-27T22:02:12.201Z"
   },
   {
    "duration": 11,
    "start_time": "2023-04-27T22:04:46.147Z"
   },
   {
    "duration": 4,
    "start_time": "2023-04-27T22:10:34.452Z"
   },
   {
    "duration": 4,
    "start_time": "2023-04-27T22:11:28.179Z"
   }
  ],
  "kernelspec": {
   "display_name": "Python 3 (ipykernel)",
   "language": "python",
   "name": "python3"
  },
  "language_info": {
   "codemirror_mode": {
    "name": "ipython",
    "version": 3
   },
   "file_extension": ".py",
   "mimetype": "text/x-python",
   "name": "python",
   "nbconvert_exporter": "python",
   "pygments_lexer": "ipython3",
   "version": "3.9.5"
  },
  "toc": {
   "base_numbering": 1,
   "nav_menu": {},
   "number_sections": true,
   "sideBar": true,
   "skip_h1_title": true,
   "title_cell": "Содержание",
   "title_sidebar": "Contents",
   "toc_cell": true,
   "toc_position": {
    "height": "calc(100% - 180px)",
    "left": "10px",
    "top": "150px",
    "width": "330.99px"
   },
   "toc_section_display": true,
   "toc_window_display": true
  }
 },
 "nbformat": 4,
 "nbformat_minor": 2
}
