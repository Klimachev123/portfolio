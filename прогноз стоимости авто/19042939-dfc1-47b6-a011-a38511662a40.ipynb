{
 "cells": [
  {
   "cell_type": "markdown",
   "metadata": {},
   "source": [
    "# Определение стоимости автомобилей"
   ]
  },
  {
   "cell_type": "markdown",
   "metadata": {},
   "source": [
    "Сервис по продаже автомобилей с пробегом «Не бит, не крашен» разрабатывает приложение для привлечения новых клиентов. В нём можно быстро узнать рыночную стоимость своего автомобиля. В вашем распоряжении исторические данные: технические характеристики, комплектации и цены автомобилей. Вам нужно построить модель для определения стоимости. \n",
    "\n",
    "Заказчику важны:\n",
    "\n",
    "- качество предсказания;\n",
    "- скорость предсказания;\n",
    "- время обучения."
   ]
  },
  {
   "cell_type": "markdown",
   "metadata": {},
   "source": [
    "## Подготовка данных"
   ]
  },
  {
   "cell_type": "code",
   "execution_count": 1,
   "metadata": {},
   "outputs": [
    {
     "name": "stdout",
     "output_type": "stream",
     "text": [
      "Requirement already satisfied: category_encoders in /opt/conda/lib/python3.9/site-packages (2.6.1)\n",
      "Requirement already satisfied: statsmodels>=0.9.0 in /opt/conda/lib/python3.9/site-packages (from category_encoders) (0.13.2)\n",
      "Requirement already satisfied: scikit-learn>=0.20.0 in /opt/conda/lib/python3.9/site-packages (from category_encoders) (0.24.1)\n",
      "Requirement already satisfied: numpy>=1.14.0 in /opt/conda/lib/python3.9/site-packages (from category_encoders) (1.21.1)\n",
      "Requirement already satisfied: pandas>=1.0.5 in /opt/conda/lib/python3.9/site-packages (from category_encoders) (1.2.4)\n",
      "Requirement already satisfied: scipy>=1.0.0 in /opt/conda/lib/python3.9/site-packages (from category_encoders) (1.9.1)\n",
      "Requirement already satisfied: patsy>=0.5.1 in /opt/conda/lib/python3.9/site-packages (from category_encoders) (0.5.2)\n",
      "Requirement already satisfied: python-dateutil>=2.7.3 in /opt/conda/lib/python3.9/site-packages (from pandas>=1.0.5->category_encoders) (2.8.1)\n",
      "Requirement already satisfied: pytz>=2017.3 in /opt/conda/lib/python3.9/site-packages (from pandas>=1.0.5->category_encoders) (2021.1)\n",
      "Requirement already satisfied: six in /opt/conda/lib/python3.9/site-packages (from patsy>=0.5.1->category_encoders) (1.16.0)\n",
      "Requirement already satisfied: threadpoolctl>=2.0.0 in /opt/conda/lib/python3.9/site-packages (from scikit-learn>=0.20.0->category_encoders) (3.1.0)\n",
      "Requirement already satisfied: joblib>=0.11 in /opt/conda/lib/python3.9/site-packages (from scikit-learn>=0.20.0->category_encoders) (1.1.0)\n",
      "Requirement already satisfied: packaging>=21.3 in /opt/conda/lib/python3.9/site-packages (from statsmodels>=0.9.0->category_encoders) (21.3)\n",
      "Requirement already satisfied: pyparsing!=3.0.5,>=2.0.2 in /opt/conda/lib/python3.9/site-packages (from packaging>=21.3->statsmodels>=0.9.0->category_encoders) (2.4.7)\n",
      "Note: you may need to restart the kernel to use updated packages.\n"
     ]
    }
   ],
   "source": [
    "pip install --upgrade category_encoders"
   ]
  },
  {
   "cell_type": "code",
   "execution_count": 2,
   "metadata": {},
   "outputs": [],
   "source": [
    "import pandas as pd\n",
    "import numpy as np\n",
    "from sklearn.model_selection import train_test_split\n",
    "from sklearn.model_selection import GridSearchCV\n",
    "from sklearn.tree import DecisionTreeRegressor\n",
    "from sklearn.metrics import mean_squared_error\n",
    "from math import sqrt\n",
    "from sklearn.linear_model import LinearRegression\n",
    "from sklearn.model_selection import cross_val_score\n",
    "from catboost import CatBoostRegressor\n",
    "from lightgbm import LGBMRegressor\n",
    "#from sklearn.preprocessing import CategoricalEncoder\n",
    "import category_encoders as ce\n",
    "import time \n",
    "from sklearn.preprocessing import StandardScaler\n",
    "from sklearn.preprocessing import OneHotEncoder\n",
    "from sklearn.compose import make_column_transformer"
   ]
  },
  {
   "cell_type": "code",
   "execution_count": null,
   "metadata": {},
   "outputs": [],
   "source": []
  },
  {
   "cell_type": "code",
   "execution_count": 3,
   "metadata": {},
   "outputs": [],
   "source": [
    "data = pd.read_csv('/datasets/autos.csv')"
   ]
  },
  {
   "cell_type": "code",
   "execution_count": 4,
   "metadata": {
    "scrolled": false
   },
   "outputs": [
    {
     "data": {
      "text/html": [
       "<div>\n",
       "<style scoped>\n",
       "    .dataframe tbody tr th:only-of-type {\n",
       "        vertical-align: middle;\n",
       "    }\n",
       "\n",
       "    .dataframe tbody tr th {\n",
       "        vertical-align: top;\n",
       "    }\n",
       "\n",
       "    .dataframe thead th {\n",
       "        text-align: right;\n",
       "    }\n",
       "</style>\n",
       "<table border=\"1\" class=\"dataframe\">\n",
       "  <thead>\n",
       "    <tr style=\"text-align: right;\">\n",
       "      <th></th>\n",
       "      <th>DateCrawled</th>\n",
       "      <th>Price</th>\n",
       "      <th>VehicleType</th>\n",
       "      <th>RegistrationYear</th>\n",
       "      <th>Gearbox</th>\n",
       "      <th>Power</th>\n",
       "      <th>Model</th>\n",
       "      <th>Kilometer</th>\n",
       "      <th>RegistrationMonth</th>\n",
       "      <th>FuelType</th>\n",
       "      <th>Brand</th>\n",
       "      <th>Repaired</th>\n",
       "      <th>DateCreated</th>\n",
       "      <th>NumberOfPictures</th>\n",
       "      <th>PostalCode</th>\n",
       "      <th>LastSeen</th>\n",
       "    </tr>\n",
       "  </thead>\n",
       "  <tbody>\n",
       "    <tr>\n",
       "      <th>0</th>\n",
       "      <td>2016-03-24 11:52:17</td>\n",
       "      <td>480</td>\n",
       "      <td>NaN</td>\n",
       "      <td>1993</td>\n",
       "      <td>manual</td>\n",
       "      <td>0</td>\n",
       "      <td>golf</td>\n",
       "      <td>150000</td>\n",
       "      <td>0</td>\n",
       "      <td>petrol</td>\n",
       "      <td>volkswagen</td>\n",
       "      <td>NaN</td>\n",
       "      <td>2016-03-24 00:00:00</td>\n",
       "      <td>0</td>\n",
       "      <td>70435</td>\n",
       "      <td>2016-04-07 03:16:57</td>\n",
       "    </tr>\n",
       "    <tr>\n",
       "      <th>1</th>\n",
       "      <td>2016-03-24 10:58:45</td>\n",
       "      <td>18300</td>\n",
       "      <td>coupe</td>\n",
       "      <td>2011</td>\n",
       "      <td>manual</td>\n",
       "      <td>190</td>\n",
       "      <td>NaN</td>\n",
       "      <td>125000</td>\n",
       "      <td>5</td>\n",
       "      <td>gasoline</td>\n",
       "      <td>audi</td>\n",
       "      <td>yes</td>\n",
       "      <td>2016-03-24 00:00:00</td>\n",
       "      <td>0</td>\n",
       "      <td>66954</td>\n",
       "      <td>2016-04-07 01:46:50</td>\n",
       "    </tr>\n",
       "    <tr>\n",
       "      <th>2</th>\n",
       "      <td>2016-03-14 12:52:21</td>\n",
       "      <td>9800</td>\n",
       "      <td>suv</td>\n",
       "      <td>2004</td>\n",
       "      <td>auto</td>\n",
       "      <td>163</td>\n",
       "      <td>grand</td>\n",
       "      <td>125000</td>\n",
       "      <td>8</td>\n",
       "      <td>gasoline</td>\n",
       "      <td>jeep</td>\n",
       "      <td>NaN</td>\n",
       "      <td>2016-03-14 00:00:00</td>\n",
       "      <td>0</td>\n",
       "      <td>90480</td>\n",
       "      <td>2016-04-05 12:47:46</td>\n",
       "    </tr>\n",
       "    <tr>\n",
       "      <th>3</th>\n",
       "      <td>2016-03-17 16:54:04</td>\n",
       "      <td>1500</td>\n",
       "      <td>small</td>\n",
       "      <td>2001</td>\n",
       "      <td>manual</td>\n",
       "      <td>75</td>\n",
       "      <td>golf</td>\n",
       "      <td>150000</td>\n",
       "      <td>6</td>\n",
       "      <td>petrol</td>\n",
       "      <td>volkswagen</td>\n",
       "      <td>no</td>\n",
       "      <td>2016-03-17 00:00:00</td>\n",
       "      <td>0</td>\n",
       "      <td>91074</td>\n",
       "      <td>2016-03-17 17:40:17</td>\n",
       "    </tr>\n",
       "    <tr>\n",
       "      <th>4</th>\n",
       "      <td>2016-03-31 17:25:20</td>\n",
       "      <td>3600</td>\n",
       "      <td>small</td>\n",
       "      <td>2008</td>\n",
       "      <td>manual</td>\n",
       "      <td>69</td>\n",
       "      <td>fabia</td>\n",
       "      <td>90000</td>\n",
       "      <td>7</td>\n",
       "      <td>gasoline</td>\n",
       "      <td>skoda</td>\n",
       "      <td>no</td>\n",
       "      <td>2016-03-31 00:00:00</td>\n",
       "      <td>0</td>\n",
       "      <td>60437</td>\n",
       "      <td>2016-04-06 10:17:21</td>\n",
       "    </tr>\n",
       "    <tr>\n",
       "      <th>5</th>\n",
       "      <td>2016-04-04 17:36:23</td>\n",
       "      <td>650</td>\n",
       "      <td>sedan</td>\n",
       "      <td>1995</td>\n",
       "      <td>manual</td>\n",
       "      <td>102</td>\n",
       "      <td>3er</td>\n",
       "      <td>150000</td>\n",
       "      <td>10</td>\n",
       "      <td>petrol</td>\n",
       "      <td>bmw</td>\n",
       "      <td>yes</td>\n",
       "      <td>2016-04-04 00:00:00</td>\n",
       "      <td>0</td>\n",
       "      <td>33775</td>\n",
       "      <td>2016-04-06 19:17:07</td>\n",
       "    </tr>\n",
       "    <tr>\n",
       "      <th>6</th>\n",
       "      <td>2016-04-01 20:48:51</td>\n",
       "      <td>2200</td>\n",
       "      <td>convertible</td>\n",
       "      <td>2004</td>\n",
       "      <td>manual</td>\n",
       "      <td>109</td>\n",
       "      <td>2_reihe</td>\n",
       "      <td>150000</td>\n",
       "      <td>8</td>\n",
       "      <td>petrol</td>\n",
       "      <td>peugeot</td>\n",
       "      <td>no</td>\n",
       "      <td>2016-04-01 00:00:00</td>\n",
       "      <td>0</td>\n",
       "      <td>67112</td>\n",
       "      <td>2016-04-05 18:18:39</td>\n",
       "    </tr>\n",
       "    <tr>\n",
       "      <th>7</th>\n",
       "      <td>2016-03-21 18:54:38</td>\n",
       "      <td>0</td>\n",
       "      <td>sedan</td>\n",
       "      <td>1980</td>\n",
       "      <td>manual</td>\n",
       "      <td>50</td>\n",
       "      <td>other</td>\n",
       "      <td>40000</td>\n",
       "      <td>7</td>\n",
       "      <td>petrol</td>\n",
       "      <td>volkswagen</td>\n",
       "      <td>no</td>\n",
       "      <td>2016-03-21 00:00:00</td>\n",
       "      <td>0</td>\n",
       "      <td>19348</td>\n",
       "      <td>2016-03-25 16:47:58</td>\n",
       "    </tr>\n",
       "    <tr>\n",
       "      <th>8</th>\n",
       "      <td>2016-04-04 23:42:13</td>\n",
       "      <td>14500</td>\n",
       "      <td>bus</td>\n",
       "      <td>2014</td>\n",
       "      <td>manual</td>\n",
       "      <td>125</td>\n",
       "      <td>c_max</td>\n",
       "      <td>30000</td>\n",
       "      <td>8</td>\n",
       "      <td>petrol</td>\n",
       "      <td>ford</td>\n",
       "      <td>NaN</td>\n",
       "      <td>2016-04-04 00:00:00</td>\n",
       "      <td>0</td>\n",
       "      <td>94505</td>\n",
       "      <td>2016-04-04 23:42:13</td>\n",
       "    </tr>\n",
       "    <tr>\n",
       "      <th>9</th>\n",
       "      <td>2016-03-17 10:53:50</td>\n",
       "      <td>999</td>\n",
       "      <td>small</td>\n",
       "      <td>1998</td>\n",
       "      <td>manual</td>\n",
       "      <td>101</td>\n",
       "      <td>golf</td>\n",
       "      <td>150000</td>\n",
       "      <td>0</td>\n",
       "      <td>NaN</td>\n",
       "      <td>volkswagen</td>\n",
       "      <td>NaN</td>\n",
       "      <td>2016-03-17 00:00:00</td>\n",
       "      <td>0</td>\n",
       "      <td>27472</td>\n",
       "      <td>2016-03-31 17:17:06</td>\n",
       "    </tr>\n",
       "  </tbody>\n",
       "</table>\n",
       "</div>"
      ],
      "text/plain": [
       "           DateCrawled  Price  VehicleType  RegistrationYear Gearbox  Power  \\\n",
       "0  2016-03-24 11:52:17    480          NaN              1993  manual      0   \n",
       "1  2016-03-24 10:58:45  18300        coupe              2011  manual    190   \n",
       "2  2016-03-14 12:52:21   9800          suv              2004    auto    163   \n",
       "3  2016-03-17 16:54:04   1500        small              2001  manual     75   \n",
       "4  2016-03-31 17:25:20   3600        small              2008  manual     69   \n",
       "5  2016-04-04 17:36:23    650        sedan              1995  manual    102   \n",
       "6  2016-04-01 20:48:51   2200  convertible              2004  manual    109   \n",
       "7  2016-03-21 18:54:38      0        sedan              1980  manual     50   \n",
       "8  2016-04-04 23:42:13  14500          bus              2014  manual    125   \n",
       "9  2016-03-17 10:53:50    999        small              1998  manual    101   \n",
       "\n",
       "     Model  Kilometer  RegistrationMonth  FuelType       Brand Repaired  \\\n",
       "0     golf     150000                  0    petrol  volkswagen      NaN   \n",
       "1      NaN     125000                  5  gasoline        audi      yes   \n",
       "2    grand     125000                  8  gasoline        jeep      NaN   \n",
       "3     golf     150000                  6    petrol  volkswagen       no   \n",
       "4    fabia      90000                  7  gasoline       skoda       no   \n",
       "5      3er     150000                 10    petrol         bmw      yes   \n",
       "6  2_reihe     150000                  8    petrol     peugeot       no   \n",
       "7    other      40000                  7    petrol  volkswagen       no   \n",
       "8    c_max      30000                  8    petrol        ford      NaN   \n",
       "9     golf     150000                  0       NaN  volkswagen      NaN   \n",
       "\n",
       "           DateCreated  NumberOfPictures  PostalCode             LastSeen  \n",
       "0  2016-03-24 00:00:00                 0       70435  2016-04-07 03:16:57  \n",
       "1  2016-03-24 00:00:00                 0       66954  2016-04-07 01:46:50  \n",
       "2  2016-03-14 00:00:00                 0       90480  2016-04-05 12:47:46  \n",
       "3  2016-03-17 00:00:00                 0       91074  2016-03-17 17:40:17  \n",
       "4  2016-03-31 00:00:00                 0       60437  2016-04-06 10:17:21  \n",
       "5  2016-04-04 00:00:00                 0       33775  2016-04-06 19:17:07  \n",
       "6  2016-04-01 00:00:00                 0       67112  2016-04-05 18:18:39  \n",
       "7  2016-03-21 00:00:00                 0       19348  2016-03-25 16:47:58  \n",
       "8  2016-04-04 00:00:00                 0       94505  2016-04-04 23:42:13  \n",
       "9  2016-03-17 00:00:00                 0       27472  2016-03-31 17:17:06  "
      ]
     },
     "execution_count": 4,
     "metadata": {},
     "output_type": "execute_result"
    }
   ],
   "source": [
    "data.head(10)"
   ]
  },
  {
   "cell_type": "code",
   "execution_count": 5,
   "metadata": {},
   "outputs": [
    {
     "name": "stdout",
     "output_type": "stream",
     "text": [
      "<class 'pandas.core.frame.DataFrame'>\n",
      "RangeIndex: 354369 entries, 0 to 354368\n",
      "Data columns (total 16 columns):\n",
      " #   Column             Non-Null Count   Dtype \n",
      "---  ------             --------------   ----- \n",
      " 0   DateCrawled        354369 non-null  object\n",
      " 1   Price              354369 non-null  int64 \n",
      " 2   VehicleType        316879 non-null  object\n",
      " 3   RegistrationYear   354369 non-null  int64 \n",
      " 4   Gearbox            334536 non-null  object\n",
      " 5   Power              354369 non-null  int64 \n",
      " 6   Model              334664 non-null  object\n",
      " 7   Kilometer          354369 non-null  int64 \n",
      " 8   RegistrationMonth  354369 non-null  int64 \n",
      " 9   FuelType           321474 non-null  object\n",
      " 10  Brand              354369 non-null  object\n",
      " 11  Repaired           283215 non-null  object\n",
      " 12  DateCreated        354369 non-null  object\n",
      " 13  NumberOfPictures   354369 non-null  int64 \n",
      " 14  PostalCode         354369 non-null  int64 \n",
      " 15  LastSeen           354369 non-null  object\n",
      "dtypes: int64(7), object(9)\n",
      "memory usage: 43.3+ MB\n"
     ]
    }
   ],
   "source": [
    "data.info()"
   ]
  },
  {
   "cell_type": "code",
   "execution_count": 6,
   "metadata": {},
   "outputs": [
    {
     "data": {
      "text/plain": [
       "354369"
      ]
     },
     "execution_count": 6,
     "metadata": {},
     "output_type": "execute_result"
    }
   ],
   "source": [
    "data_0 = len(data)\n",
    "data_0 "
   ]
  },
  {
   "cell_type": "markdown",
   "metadata": {},
   "source": [
    "По предварительной информации мы можем сразу заметить несколько вещей:\n",
    "1. размер данных очень большой - 354000 строк. это уже говорит нам о том, что в будущем, скорость работы кода - будет важна, а так же о том, что код должен быть более менее универсальным для простого редактирования в будущем.\n",
    "2. несколько столбцов с датами - к ним стоит присмотреться и понять, какие нам нужны, а какие на обучение не повлияют "
   ]
  },
  {
   "cell_type": "markdown",
   "metadata": {},
   "source": [
    "посмотрим в количесвенном составе и процентном соотношении наличие пропусков"
   ]
  },
  {
   "cell_type": "code",
   "execution_count": 7,
   "metadata": {
    "scrolled": false
   },
   "outputs": [
    {
     "data": {
      "text/html": [
       "<style  type=\"text/css\" >\n",
       "#T_60a0f_row0_col0,#T_60a0f_row1_col0,#T_60a0f_row3_col0,#T_60a0f_row5_col0,#T_60a0f_row7_col0,#T_60a0f_row8_col0,#T_60a0f_row10_col0,#T_60a0f_row12_col0,#T_60a0f_row13_col0,#T_60a0f_row14_col0,#T_60a0f_row15_col0{\n",
       "            background-color:  #3b4cc0;\n",
       "            color:  #f1f1f1;\n",
       "        }#T_60a0f_row2_col0{\n",
       "            background-color:  #e9d5cb;\n",
       "            color:  #000000;\n",
       "        }#T_60a0f_row4_col0,#T_60a0f_row6_col0{\n",
       "            background-color:  #9ebeff;\n",
       "            color:  #000000;\n",
       "        }#T_60a0f_row9_col0{\n",
       "            background-color:  #cfdaea;\n",
       "            color:  #000000;\n",
       "        }#T_60a0f_row11_col0{\n",
       "            background-color:  #b40426;\n",
       "            color:  #f1f1f1;\n",
       "        }</style><table id=\"T_60a0f_\" ><thead>    <tr>        <th class=\"blank level0\" ></th>        <th class=\"col_heading level0 col0\" >0</th>    </tr></thead><tbody>\n",
       "                <tr>\n",
       "                        <th id=\"T_60a0f_level0_row0\" class=\"row_heading level0 row0\" >DateCrawled</th>\n",
       "                        <td id=\"T_60a0f_row0_col0\" class=\"data row0 col0\" >0.000000</td>\n",
       "            </tr>\n",
       "            <tr>\n",
       "                        <th id=\"T_60a0f_level0_row1\" class=\"row_heading level0 row1\" >Price</th>\n",
       "                        <td id=\"T_60a0f_row1_col0\" class=\"data row1 col0\" >0.000000</td>\n",
       "            </tr>\n",
       "            <tr>\n",
       "                        <th id=\"T_60a0f_level0_row2\" class=\"row_heading level0 row2\" >VehicleType</th>\n",
       "                        <td id=\"T_60a0f_row2_col0\" class=\"data row2 col0\" >11.000000</td>\n",
       "            </tr>\n",
       "            <tr>\n",
       "                        <th id=\"T_60a0f_level0_row3\" class=\"row_heading level0 row3\" >RegistrationYear</th>\n",
       "                        <td id=\"T_60a0f_row3_col0\" class=\"data row3 col0\" >0.000000</td>\n",
       "            </tr>\n",
       "            <tr>\n",
       "                        <th id=\"T_60a0f_level0_row4\" class=\"row_heading level0 row4\" >Gearbox</th>\n",
       "                        <td id=\"T_60a0f_row4_col0\" class=\"data row4 col0\" >6.000000</td>\n",
       "            </tr>\n",
       "            <tr>\n",
       "                        <th id=\"T_60a0f_level0_row5\" class=\"row_heading level0 row5\" >Power</th>\n",
       "                        <td id=\"T_60a0f_row5_col0\" class=\"data row5 col0\" >0.000000</td>\n",
       "            </tr>\n",
       "            <tr>\n",
       "                        <th id=\"T_60a0f_level0_row6\" class=\"row_heading level0 row6\" >Model</th>\n",
       "                        <td id=\"T_60a0f_row6_col0\" class=\"data row6 col0\" >6.000000</td>\n",
       "            </tr>\n",
       "            <tr>\n",
       "                        <th id=\"T_60a0f_level0_row7\" class=\"row_heading level0 row7\" >Kilometer</th>\n",
       "                        <td id=\"T_60a0f_row7_col0\" class=\"data row7 col0\" >0.000000</td>\n",
       "            </tr>\n",
       "            <tr>\n",
       "                        <th id=\"T_60a0f_level0_row8\" class=\"row_heading level0 row8\" >RegistrationMonth</th>\n",
       "                        <td id=\"T_60a0f_row8_col0\" class=\"data row8 col0\" >0.000000</td>\n",
       "            </tr>\n",
       "            <tr>\n",
       "                        <th id=\"T_60a0f_level0_row9\" class=\"row_heading level0 row9\" >FuelType</th>\n",
       "                        <td id=\"T_60a0f_row9_col0\" class=\"data row9 col0\" >9.000000</td>\n",
       "            </tr>\n",
       "            <tr>\n",
       "                        <th id=\"T_60a0f_level0_row10\" class=\"row_heading level0 row10\" >Brand</th>\n",
       "                        <td id=\"T_60a0f_row10_col0\" class=\"data row10 col0\" >0.000000</td>\n",
       "            </tr>\n",
       "            <tr>\n",
       "                        <th id=\"T_60a0f_level0_row11\" class=\"row_heading level0 row11\" >Repaired</th>\n",
       "                        <td id=\"T_60a0f_row11_col0\" class=\"data row11 col0\" >20.000000</td>\n",
       "            </tr>\n",
       "            <tr>\n",
       "                        <th id=\"T_60a0f_level0_row12\" class=\"row_heading level0 row12\" >DateCreated</th>\n",
       "                        <td id=\"T_60a0f_row12_col0\" class=\"data row12 col0\" >0.000000</td>\n",
       "            </tr>\n",
       "            <tr>\n",
       "                        <th id=\"T_60a0f_level0_row13\" class=\"row_heading level0 row13\" >NumberOfPictures</th>\n",
       "                        <td id=\"T_60a0f_row13_col0\" class=\"data row13 col0\" >0.000000</td>\n",
       "            </tr>\n",
       "            <tr>\n",
       "                        <th id=\"T_60a0f_level0_row14\" class=\"row_heading level0 row14\" >PostalCode</th>\n",
       "                        <td id=\"T_60a0f_row14_col0\" class=\"data row14 col0\" >0.000000</td>\n",
       "            </tr>\n",
       "            <tr>\n",
       "                        <th id=\"T_60a0f_level0_row15\" class=\"row_heading level0 row15\" >LastSeen</th>\n",
       "                        <td id=\"T_60a0f_row15_col0\" class=\"data row15 col0\" >0.000000</td>\n",
       "            </tr>\n",
       "    </tbody></table>"
      ],
      "text/plain": [
       "<pandas.io.formats.style.Styler at 0x7f15ad9a6e80>"
      ]
     },
     "metadata": {},
     "output_type": "display_data"
    },
    {
     "data": {
      "text/plain": [
       "DateCrawled              0\n",
       "Price                    0\n",
       "VehicleType          37490\n",
       "RegistrationYear         0\n",
       "Gearbox              19833\n",
       "Power                    0\n",
       "Model                19705\n",
       "Kilometer                0\n",
       "RegistrationMonth        0\n",
       "FuelType             32895\n",
       "Brand                    0\n",
       "Repaired             71154\n",
       "DateCreated              0\n",
       "NumberOfPictures         0\n",
       "PostalCode               0\n",
       "LastSeen                 0\n",
       "dtype: int64"
      ]
     },
     "metadata": {},
     "output_type": "display_data"
    },
    {
     "data": {
      "text/plain": [
       "4"
      ]
     },
     "execution_count": 7,
     "metadata": {},
     "output_type": "execute_result"
    }
   ],
   "source": [
    "display(pd.DataFrame(round(data.isna().mean()*100,)).style.background_gradient('coolwarm'))\n",
    "\n",
    "data_isnull = data.isnull().sum()\n",
    "display(data_isnull)\n",
    "data.duplicated().sum()"
   ]
  },
  {
   "cell_type": "markdown",
   "metadata": {},
   "source": [
    "удаляем эти 4 дубликата)"
   ]
  },
  {
   "cell_type": "code",
   "execution_count": 8,
   "metadata": {},
   "outputs": [
    {
     "data": {
      "text/plain": [
       "0"
      ]
     },
     "execution_count": 8,
     "metadata": {},
     "output_type": "execute_result"
    }
   ],
   "source": [
    "data = data.drop_duplicates()\n",
    "data.duplicated().sum()"
   ]
  },
  {
   "cell_type": "markdown",
   "metadata": {},
   "source": [
    "в 5 столбцах присутсвуют пропуски, но прежде чем их удалять/заполнять, посмотрим на уникальыне значения в каждом из столбоцв"
   ]
  },
  {
   "cell_type": "code",
   "execution_count": 9,
   "metadata": {},
   "outputs": [],
   "source": [
    "data_isnull = data_isnull.index[data_isnull>0].tolist()"
   ]
  },
  {
   "cell_type": "code",
   "execution_count": 10,
   "metadata": {
    "scrolled": false
   },
   "outputs": [
    {
     "name": "stdout",
     "output_type": "stream",
     "text": [
      "VehicleType\n",
      "\n"
     ]
    },
    {
     "data": {
      "text/plain": [
       "sedan          91457\n",
       "small          79830\n",
       "wagon          65165\n",
       "bus            28775\n",
       "convertible    20203\n",
       "coupe          16161\n",
       "suv            11996\n",
       "other           3288\n",
       "Name: VehicleType, dtype: int64"
      ]
     },
     "metadata": {},
     "output_type": "display_data"
    },
    {
     "data": {
      "text/plain": [
       "array([nan, 'coupe', 'suv', 'small', 'sedan', 'convertible', 'bus',\n",
       "       'wagon', 'other'], dtype=object)"
      ]
     },
     "metadata": {},
     "output_type": "display_data"
    },
    {
     "name": "stdout",
     "output_type": "stream",
     "text": [
      "\n",
      "\n",
      "Gearbox\n",
      "\n"
     ]
    },
    {
     "data": {
      "text/plain": [
       "manual    268249\n",
       "auto       66283\n",
       "Name: Gearbox, dtype: int64"
      ]
     },
     "metadata": {},
     "output_type": "display_data"
    },
    {
     "data": {
      "text/plain": [
       "array(['manual', 'auto', nan], dtype=object)"
      ]
     },
     "metadata": {},
     "output_type": "display_data"
    },
    {
     "name": "stdout",
     "output_type": "stream",
     "text": [
      "\n",
      "\n",
      "Model\n",
      "\n"
     ]
    },
    {
     "data": {
      "text/plain": [
       "golf                  29232\n",
       "other                 24420\n",
       "3er                   19761\n",
       "polo                  13066\n",
       "corsa                 12570\n",
       "                      ...  \n",
       "i3                        8\n",
       "rangerover                4\n",
       "serie_3                   4\n",
       "serie_1                   2\n",
       "range_rover_evoque        2\n",
       "Name: Model, Length: 250, dtype: int64"
      ]
     },
     "metadata": {},
     "output_type": "display_data"
    },
    {
     "data": {
      "text/plain": [
       "array(['golf', nan, 'grand', 'fabia', '3er', '2_reihe', 'other', 'c_max',\n",
       "       '3_reihe', 'passat', 'navara', 'ka', 'polo', 'twingo', 'a_klasse',\n",
       "       'scirocco', '5er', 'meriva', 'arosa', 'c4', 'civic', 'transporter',\n",
       "       'punto', 'e_klasse', 'clio', 'kadett', 'kangoo', 'corsa', 'one',\n",
       "       'fortwo', '1er', 'b_klasse', 'signum', 'astra', 'a8', 'jetta',\n",
       "       'fiesta', 'c_klasse', 'micra', 'vito', 'sprinter', '156', 'escort',\n",
       "       'forester', 'xc_reihe', 'scenic', 'a4', 'a1', 'insignia', 'combo',\n",
       "       'focus', 'tt', 'a6', 'jazz', 'omega', 'slk', '7er', '80', '147',\n",
       "       '100', 'z_reihe', 'sportage', 'sorento', 'v40', 'ibiza', 'mustang',\n",
       "       'eos', 'touran', 'getz', 'a3', 'almera', 'megane', 'lupo', 'r19',\n",
       "       'zafira', 'caddy', 'mondeo', 'cordoba', 'colt', 'impreza',\n",
       "       'vectra', 'berlingo', 'tiguan', 'i_reihe', 'espace', 'sharan',\n",
       "       '6_reihe', 'panda', 'up', 'seicento', 'ceed', '5_reihe', 'yeti',\n",
       "       'octavia', 'mii', 'rx_reihe', '6er', 'modus', 'fox', 'matiz',\n",
       "       'beetle', 'c1', 'rio', 'touareg', 'logan', 'spider', 'cuore',\n",
       "       's_max', 'a2', 'galaxy', 'c3', 'viano', 's_klasse', '1_reihe',\n",
       "       'avensis', 'roomster', 'sl', 'kaefer', 'santa', 'cooper', 'leon',\n",
       "       '4_reihe', 'a5', '500', 'laguna', 'ptcruiser', 'clk', 'primera',\n",
       "       'x_reihe', 'exeo', '159', 'transit', 'juke', 'qashqai', 'carisma',\n",
       "       'accord', 'corolla', 'lanos', 'phaeton', 'verso', 'swift', 'rav',\n",
       "       'picanto', 'boxster', 'kalos', 'superb', 'stilo', 'alhambra',\n",
       "       'mx_reihe', 'roadster', 'ypsilon', 'cayenne', 'galant', 'justy',\n",
       "       '90', 'sirion', 'crossfire', 'agila', 'duster', 'cr_reihe', 'v50',\n",
       "       'c_reihe', 'v_klasse', 'm_klasse', 'yaris', 'c5', 'aygo', 'cc',\n",
       "       'carnival', 'fusion', '911', 'bora', 'forfour', 'm_reihe', 'cl',\n",
       "       'tigra', '300c', 'spark', 'v70', 'kuga', 'x_type', 'ducato',\n",
       "       's_type', 'x_trail', 'toledo', 'altea', 'voyager', 'calibra',\n",
       "       'bravo', 'antara', 'tucson', 'citigo', 'jimny', 'wrangler',\n",
       "       'lybra', 'q7', 'lancer', 'captiva', 'c2', 'discovery',\n",
       "       'freelander', 'sandero', 'note', '900', 'cherokee', 'clubman',\n",
       "       'samara', 'defender', '601', 'cx_reihe', 'legacy', 'pajero',\n",
       "       'auris', 'niva', 's60', 'nubira', 'vivaro', 'g_klasse', 'lodgy',\n",
       "       '850', 'range_rover', 'q3', 'serie_2', 'glk', 'charade', 'croma',\n",
       "       'outlander', 'doblo', 'musa', 'move', '9000', 'v60', '145', 'aveo',\n",
       "       '200', 'b_max', 'range_rover_sport', 'terios', 'rangerover', 'q5',\n",
       "       'range_rover_evoque', 'materia', 'delta', 'gl', 'kalina', 'amarok',\n",
       "       'elefantino', 'i3', 'kappa', 'serie_3', 'serie_1'], dtype=object)"
      ]
     },
     "metadata": {},
     "output_type": "display_data"
    },
    {
     "name": "stdout",
     "output_type": "stream",
     "text": [
      "\n",
      "\n",
      "FuelType\n",
      "\n"
     ]
    },
    {
     "data": {
      "text/plain": [
       "petrol      216349\n",
       "gasoline     98719\n",
       "lpg           5310\n",
       "cng            565\n",
       "hybrid         233\n",
       "other          204\n",
       "electric        90\n",
       "Name: FuelType, dtype: int64"
      ]
     },
     "metadata": {},
     "output_type": "display_data"
    },
    {
     "data": {
      "text/plain": [
       "array(['petrol', 'gasoline', nan, 'lpg', 'other', 'hybrid', 'cng',\n",
       "       'electric'], dtype=object)"
      ]
     },
     "metadata": {},
     "output_type": "display_data"
    },
    {
     "name": "stdout",
     "output_type": "stream",
     "text": [
      "\n",
      "\n",
      "Repaired\n",
      "\n"
     ]
    },
    {
     "data": {
      "text/plain": [
       "no     247158\n",
       "yes     36053\n",
       "Name: Repaired, dtype: int64"
      ]
     },
     "metadata": {},
     "output_type": "display_data"
    },
    {
     "data": {
      "text/plain": [
       "array([nan, 'yes', 'no'], dtype=object)"
      ]
     },
     "metadata": {},
     "output_type": "display_data"
    },
    {
     "name": "stdout",
     "output_type": "stream",
     "text": [
      "\n",
      "\n"
     ]
    }
   ],
   "source": [
    "\n",
    "for i in data_isnull:\n",
    "    print (i)\n",
    "    print()\n",
    "    display(data[i].value_counts())\n",
    "    display(data[i].unique())\n",
    "    print(\"\\n\")"
   ]
  },
  {
   "cell_type": "markdown",
   "metadata": {},
   "source": [
    "в трех столбцах `FuelType`,`Gearbox` и `Model` пропусков меньше 10%, значения мы так же не сможем подобрать, поэтому удаляем строки с пропусками в этих столбцах"
   ]
  },
  {
   "cell_type": "code",
   "execution_count": 11,
   "metadata": {
    "scrolled": false
   },
   "outputs": [
    {
     "data": {
      "text/html": [
       "<div>\n",
       "<style scoped>\n",
       "    .dataframe tbody tr th:only-of-type {\n",
       "        vertical-align: middle;\n",
       "    }\n",
       "\n",
       "    .dataframe tbody tr th {\n",
       "        vertical-align: top;\n",
       "    }\n",
       "\n",
       "    .dataframe thead th {\n",
       "        text-align: right;\n",
       "    }\n",
       "</style>\n",
       "<table border=\"1\" class=\"dataframe\">\n",
       "  <thead>\n",
       "    <tr style=\"text-align: right;\">\n",
       "      <th></th>\n",
       "      <th>DateCrawled</th>\n",
       "      <th>Price</th>\n",
       "      <th>VehicleType</th>\n",
       "      <th>RegistrationYear</th>\n",
       "      <th>Gearbox</th>\n",
       "      <th>Power</th>\n",
       "      <th>Model</th>\n",
       "      <th>Kilometer</th>\n",
       "      <th>RegistrationMonth</th>\n",
       "      <th>FuelType</th>\n",
       "      <th>Brand</th>\n",
       "      <th>Repaired</th>\n",
       "      <th>DateCreated</th>\n",
       "      <th>NumberOfPictures</th>\n",
       "      <th>PostalCode</th>\n",
       "      <th>LastSeen</th>\n",
       "    </tr>\n",
       "  </thead>\n",
       "  <tbody>\n",
       "    <tr>\n",
       "      <th>0</th>\n",
       "      <td>2016-03-24 11:52:17</td>\n",
       "      <td>480</td>\n",
       "      <td>NaN</td>\n",
       "      <td>1993</td>\n",
       "      <td>manual</td>\n",
       "      <td>0</td>\n",
       "      <td>golf</td>\n",
       "      <td>150000</td>\n",
       "      <td>0</td>\n",
       "      <td>petrol</td>\n",
       "      <td>volkswagen</td>\n",
       "      <td>NaN</td>\n",
       "      <td>2016-03-24 00:00:00</td>\n",
       "      <td>0</td>\n",
       "      <td>70435</td>\n",
       "      <td>2016-04-07 03:16:57</td>\n",
       "    </tr>\n",
       "    <tr>\n",
       "      <th>1</th>\n",
       "      <td>2016-03-14 12:52:21</td>\n",
       "      <td>9800</td>\n",
       "      <td>suv</td>\n",
       "      <td>2004</td>\n",
       "      <td>auto</td>\n",
       "      <td>163</td>\n",
       "      <td>grand</td>\n",
       "      <td>125000</td>\n",
       "      <td>8</td>\n",
       "      <td>gasoline</td>\n",
       "      <td>jeep</td>\n",
       "      <td>NaN</td>\n",
       "      <td>2016-03-14 00:00:00</td>\n",
       "      <td>0</td>\n",
       "      <td>90480</td>\n",
       "      <td>2016-04-05 12:47:46</td>\n",
       "    </tr>\n",
       "    <tr>\n",
       "      <th>2</th>\n",
       "      <td>2016-03-17 16:54:04</td>\n",
       "      <td>1500</td>\n",
       "      <td>small</td>\n",
       "      <td>2001</td>\n",
       "      <td>manual</td>\n",
       "      <td>75</td>\n",
       "      <td>golf</td>\n",
       "      <td>150000</td>\n",
       "      <td>6</td>\n",
       "      <td>petrol</td>\n",
       "      <td>volkswagen</td>\n",
       "      <td>no</td>\n",
       "      <td>2016-03-17 00:00:00</td>\n",
       "      <td>0</td>\n",
       "      <td>91074</td>\n",
       "      <td>2016-03-17 17:40:17</td>\n",
       "    </tr>\n",
       "    <tr>\n",
       "      <th>3</th>\n",
       "      <td>2016-03-31 17:25:20</td>\n",
       "      <td>3600</td>\n",
       "      <td>small</td>\n",
       "      <td>2008</td>\n",
       "      <td>manual</td>\n",
       "      <td>69</td>\n",
       "      <td>fabia</td>\n",
       "      <td>90000</td>\n",
       "      <td>7</td>\n",
       "      <td>gasoline</td>\n",
       "      <td>skoda</td>\n",
       "      <td>no</td>\n",
       "      <td>2016-03-31 00:00:00</td>\n",
       "      <td>0</td>\n",
       "      <td>60437</td>\n",
       "      <td>2016-04-06 10:17:21</td>\n",
       "    </tr>\n",
       "    <tr>\n",
       "      <th>4</th>\n",
       "      <td>2016-04-04 17:36:23</td>\n",
       "      <td>650</td>\n",
       "      <td>sedan</td>\n",
       "      <td>1995</td>\n",
       "      <td>manual</td>\n",
       "      <td>102</td>\n",
       "      <td>3er</td>\n",
       "      <td>150000</td>\n",
       "      <td>10</td>\n",
       "      <td>petrol</td>\n",
       "      <td>bmw</td>\n",
       "      <td>yes</td>\n",
       "      <td>2016-04-04 00:00:00</td>\n",
       "      <td>0</td>\n",
       "      <td>33775</td>\n",
       "      <td>2016-04-06 19:17:07</td>\n",
       "    </tr>\n",
       "    <tr>\n",
       "      <th>...</th>\n",
       "      <td>...</td>\n",
       "      <td>...</td>\n",
       "      <td>...</td>\n",
       "      <td>...</td>\n",
       "      <td>...</td>\n",
       "      <td>...</td>\n",
       "      <td>...</td>\n",
       "      <td>...</td>\n",
       "      <td>...</td>\n",
       "      <td>...</td>\n",
       "      <td>...</td>\n",
       "      <td>...</td>\n",
       "      <td>...</td>\n",
       "      <td>...</td>\n",
       "      <td>...</td>\n",
       "      <td>...</td>\n",
       "    </tr>\n",
       "    <tr>\n",
       "      <th>299219</th>\n",
       "      <td>2016-03-27 20:36:20</td>\n",
       "      <td>1150</td>\n",
       "      <td>bus</td>\n",
       "      <td>2000</td>\n",
       "      <td>manual</td>\n",
       "      <td>0</td>\n",
       "      <td>zafira</td>\n",
       "      <td>150000</td>\n",
       "      <td>3</td>\n",
       "      <td>petrol</td>\n",
       "      <td>opel</td>\n",
       "      <td>no</td>\n",
       "      <td>2016-03-27 00:00:00</td>\n",
       "      <td>0</td>\n",
       "      <td>26624</td>\n",
       "      <td>2016-03-29 10:17:23</td>\n",
       "    </tr>\n",
       "    <tr>\n",
       "      <th>299220</th>\n",
       "      <td>2016-03-21 09:50:58</td>\n",
       "      <td>0</td>\n",
       "      <td>NaN</td>\n",
       "      <td>2005</td>\n",
       "      <td>manual</td>\n",
       "      <td>0</td>\n",
       "      <td>colt</td>\n",
       "      <td>150000</td>\n",
       "      <td>7</td>\n",
       "      <td>petrol</td>\n",
       "      <td>mitsubishi</td>\n",
       "      <td>yes</td>\n",
       "      <td>2016-03-21 00:00:00</td>\n",
       "      <td>0</td>\n",
       "      <td>2694</td>\n",
       "      <td>2016-03-21 10:42:49</td>\n",
       "    </tr>\n",
       "    <tr>\n",
       "      <th>299221</th>\n",
       "      <td>2016-03-05 19:56:21</td>\n",
       "      <td>1199</td>\n",
       "      <td>convertible</td>\n",
       "      <td>2000</td>\n",
       "      <td>auto</td>\n",
       "      <td>101</td>\n",
       "      <td>fortwo</td>\n",
       "      <td>125000</td>\n",
       "      <td>3</td>\n",
       "      <td>petrol</td>\n",
       "      <td>smart</td>\n",
       "      <td>no</td>\n",
       "      <td>2016-03-05 00:00:00</td>\n",
       "      <td>0</td>\n",
       "      <td>26135</td>\n",
       "      <td>2016-03-11 18:17:12</td>\n",
       "    </tr>\n",
       "    <tr>\n",
       "      <th>299222</th>\n",
       "      <td>2016-03-19 18:57:12</td>\n",
       "      <td>9200</td>\n",
       "      <td>bus</td>\n",
       "      <td>1996</td>\n",
       "      <td>manual</td>\n",
       "      <td>102</td>\n",
       "      <td>transporter</td>\n",
       "      <td>150000</td>\n",
       "      <td>3</td>\n",
       "      <td>gasoline</td>\n",
       "      <td>volkswagen</td>\n",
       "      <td>no</td>\n",
       "      <td>2016-03-19 00:00:00</td>\n",
       "      <td>0</td>\n",
       "      <td>87439</td>\n",
       "      <td>2016-04-07 07:15:26</td>\n",
       "    </tr>\n",
       "    <tr>\n",
       "      <th>299223</th>\n",
       "      <td>2016-03-20 19:41:08</td>\n",
       "      <td>3400</td>\n",
       "      <td>wagon</td>\n",
       "      <td>2002</td>\n",
       "      <td>manual</td>\n",
       "      <td>100</td>\n",
       "      <td>golf</td>\n",
       "      <td>150000</td>\n",
       "      <td>6</td>\n",
       "      <td>gasoline</td>\n",
       "      <td>volkswagen</td>\n",
       "      <td>NaN</td>\n",
       "      <td>2016-03-20 00:00:00</td>\n",
       "      <td>0</td>\n",
       "      <td>40764</td>\n",
       "      <td>2016-03-24 12:45:21</td>\n",
       "    </tr>\n",
       "  </tbody>\n",
       "</table>\n",
       "<p>299224 rows × 16 columns</p>\n",
       "</div>"
      ],
      "text/plain": [
       "                DateCrawled  Price  VehicleType  RegistrationYear Gearbox  \\\n",
       "0       2016-03-24 11:52:17    480          NaN              1993  manual   \n",
       "1       2016-03-14 12:52:21   9800          suv              2004    auto   \n",
       "2       2016-03-17 16:54:04   1500        small              2001  manual   \n",
       "3       2016-03-31 17:25:20   3600        small              2008  manual   \n",
       "4       2016-04-04 17:36:23    650        sedan              1995  manual   \n",
       "...                     ...    ...          ...               ...     ...   \n",
       "299219  2016-03-27 20:36:20   1150          bus              2000  manual   \n",
       "299220  2016-03-21 09:50:58      0          NaN              2005  manual   \n",
       "299221  2016-03-05 19:56:21   1199  convertible              2000    auto   \n",
       "299222  2016-03-19 18:57:12   9200          bus              1996  manual   \n",
       "299223  2016-03-20 19:41:08   3400        wagon              2002  manual   \n",
       "\n",
       "        Power        Model  Kilometer  RegistrationMonth  FuelType  \\\n",
       "0           0         golf     150000                  0    petrol   \n",
       "1         163        grand     125000                  8  gasoline   \n",
       "2          75         golf     150000                  6    petrol   \n",
       "3          69        fabia      90000                  7  gasoline   \n",
       "4         102          3er     150000                 10    petrol   \n",
       "...       ...          ...        ...                ...       ...   \n",
       "299219      0       zafira     150000                  3    petrol   \n",
       "299220      0         colt     150000                  7    petrol   \n",
       "299221    101       fortwo     125000                  3    petrol   \n",
       "299222    102  transporter     150000                  3  gasoline   \n",
       "299223    100         golf     150000                  6  gasoline   \n",
       "\n",
       "             Brand Repaired          DateCreated  NumberOfPictures  \\\n",
       "0       volkswagen      NaN  2016-03-24 00:00:00                 0   \n",
       "1             jeep      NaN  2016-03-14 00:00:00                 0   \n",
       "2       volkswagen       no  2016-03-17 00:00:00                 0   \n",
       "3            skoda       no  2016-03-31 00:00:00                 0   \n",
       "4              bmw      yes  2016-04-04 00:00:00                 0   \n",
       "...            ...      ...                  ...               ...   \n",
       "299219        opel       no  2016-03-27 00:00:00                 0   \n",
       "299220  mitsubishi      yes  2016-03-21 00:00:00                 0   \n",
       "299221       smart       no  2016-03-05 00:00:00                 0   \n",
       "299222  volkswagen       no  2016-03-19 00:00:00                 0   \n",
       "299223  volkswagen      NaN  2016-03-20 00:00:00                 0   \n",
       "\n",
       "        PostalCode             LastSeen  \n",
       "0            70435  2016-04-07 03:16:57  \n",
       "1            90480  2016-04-05 12:47:46  \n",
       "2            91074  2016-03-17 17:40:17  \n",
       "3            60437  2016-04-06 10:17:21  \n",
       "4            33775  2016-04-06 19:17:07  \n",
       "...            ...                  ...  \n",
       "299219       26624  2016-03-29 10:17:23  \n",
       "299220        2694  2016-03-21 10:42:49  \n",
       "299221       26135  2016-03-11 18:17:12  \n",
       "299222       87439  2016-04-07 07:15:26  \n",
       "299223       40764  2016-03-24 12:45:21  \n",
       "\n",
       "[299224 rows x 16 columns]"
      ]
     },
     "execution_count": 11,
     "metadata": {},
     "output_type": "execute_result"
    }
   ],
   "source": [
    "data = data.dropna(subset=['Gearbox','Model','FuelType'])\n",
    "data = data.reset_index(drop=True)\n",
    "data"
   ]
  },
  {
   "cell_type": "markdown",
   "metadata": {},
   "source": [
    "в столбце  `Repaired` много пропусков, и мы никак не сможем подобрать значения, поэтому поменяем пропуски на значение `Unknown`"
   ]
  },
  {
   "cell_type": "code",
   "execution_count": 12,
   "metadata": {},
   "outputs": [
    {
     "data": {
      "text/html": [
       "<style  type=\"text/css\" >\n",
       "#T_f41c2_row0_col0,#T_f41c2_row1_col0,#T_f41c2_row3_col0,#T_f41c2_row4_col0,#T_f41c2_row5_col0,#T_f41c2_row6_col0,#T_f41c2_row7_col0,#T_f41c2_row8_col0,#T_f41c2_row9_col0,#T_f41c2_row10_col0,#T_f41c2_row11_col0,#T_f41c2_row12_col0,#T_f41c2_row13_col0,#T_f41c2_row14_col0,#T_f41c2_row15_col0{\n",
       "            background-color:  #3b4cc0;\n",
       "            color:  #f1f1f1;\n",
       "        }#T_f41c2_row2_col0{\n",
       "            background-color:  #b40426;\n",
       "            color:  #f1f1f1;\n",
       "        }</style><table id=\"T_f41c2_\" ><thead>    <tr>        <th class=\"blank level0\" ></th>        <th class=\"col_heading level0 col0\" >0</th>    </tr></thead><tbody>\n",
       "                <tr>\n",
       "                        <th id=\"T_f41c2_level0_row0\" class=\"row_heading level0 row0\" >DateCrawled</th>\n",
       "                        <td id=\"T_f41c2_row0_col0\" class=\"data row0 col0\" >0.000000</td>\n",
       "            </tr>\n",
       "            <tr>\n",
       "                        <th id=\"T_f41c2_level0_row1\" class=\"row_heading level0 row1\" >Price</th>\n",
       "                        <td id=\"T_f41c2_row1_col0\" class=\"data row1 col0\" >0.000000</td>\n",
       "            </tr>\n",
       "            <tr>\n",
       "                        <th id=\"T_f41c2_level0_row2\" class=\"row_heading level0 row2\" >VehicleType</th>\n",
       "                        <td id=\"T_f41c2_row2_col0\" class=\"data row2 col0\" >5.000000</td>\n",
       "            </tr>\n",
       "            <tr>\n",
       "                        <th id=\"T_f41c2_level0_row3\" class=\"row_heading level0 row3\" >RegistrationYear</th>\n",
       "                        <td id=\"T_f41c2_row3_col0\" class=\"data row3 col0\" >0.000000</td>\n",
       "            </tr>\n",
       "            <tr>\n",
       "                        <th id=\"T_f41c2_level0_row4\" class=\"row_heading level0 row4\" >Gearbox</th>\n",
       "                        <td id=\"T_f41c2_row4_col0\" class=\"data row4 col0\" >0.000000</td>\n",
       "            </tr>\n",
       "            <tr>\n",
       "                        <th id=\"T_f41c2_level0_row5\" class=\"row_heading level0 row5\" >Power</th>\n",
       "                        <td id=\"T_f41c2_row5_col0\" class=\"data row5 col0\" >0.000000</td>\n",
       "            </tr>\n",
       "            <tr>\n",
       "                        <th id=\"T_f41c2_level0_row6\" class=\"row_heading level0 row6\" >Model</th>\n",
       "                        <td id=\"T_f41c2_row6_col0\" class=\"data row6 col0\" >0.000000</td>\n",
       "            </tr>\n",
       "            <tr>\n",
       "                        <th id=\"T_f41c2_level0_row7\" class=\"row_heading level0 row7\" >Kilometer</th>\n",
       "                        <td id=\"T_f41c2_row7_col0\" class=\"data row7 col0\" >0.000000</td>\n",
       "            </tr>\n",
       "            <tr>\n",
       "                        <th id=\"T_f41c2_level0_row8\" class=\"row_heading level0 row8\" >RegistrationMonth</th>\n",
       "                        <td id=\"T_f41c2_row8_col0\" class=\"data row8 col0\" >0.000000</td>\n",
       "            </tr>\n",
       "            <tr>\n",
       "                        <th id=\"T_f41c2_level0_row9\" class=\"row_heading level0 row9\" >FuelType</th>\n",
       "                        <td id=\"T_f41c2_row9_col0\" class=\"data row9 col0\" >0.000000</td>\n",
       "            </tr>\n",
       "            <tr>\n",
       "                        <th id=\"T_f41c2_level0_row10\" class=\"row_heading level0 row10\" >Brand</th>\n",
       "                        <td id=\"T_f41c2_row10_col0\" class=\"data row10 col0\" >0.000000</td>\n",
       "            </tr>\n",
       "            <tr>\n",
       "                        <th id=\"T_f41c2_level0_row11\" class=\"row_heading level0 row11\" >Repaired</th>\n",
       "                        <td id=\"T_f41c2_row11_col0\" class=\"data row11 col0\" >0.000000</td>\n",
       "            </tr>\n",
       "            <tr>\n",
       "                        <th id=\"T_f41c2_level0_row12\" class=\"row_heading level0 row12\" >DateCreated</th>\n",
       "                        <td id=\"T_f41c2_row12_col0\" class=\"data row12 col0\" >0.000000</td>\n",
       "            </tr>\n",
       "            <tr>\n",
       "                        <th id=\"T_f41c2_level0_row13\" class=\"row_heading level0 row13\" >NumberOfPictures</th>\n",
       "                        <td id=\"T_f41c2_row13_col0\" class=\"data row13 col0\" >0.000000</td>\n",
       "            </tr>\n",
       "            <tr>\n",
       "                        <th id=\"T_f41c2_level0_row14\" class=\"row_heading level0 row14\" >PostalCode</th>\n",
       "                        <td id=\"T_f41c2_row14_col0\" class=\"data row14 col0\" >0.000000</td>\n",
       "            </tr>\n",
       "            <tr>\n",
       "                        <th id=\"T_f41c2_level0_row15\" class=\"row_heading level0 row15\" >LastSeen</th>\n",
       "                        <td id=\"T_f41c2_row15_col0\" class=\"data row15 col0\" >0.000000</td>\n",
       "            </tr>\n",
       "    </tbody></table>"
      ],
      "text/plain": [
       "<pandas.io.formats.style.Styler at 0x7f163f3ca9d0>"
      ]
     },
     "metadata": {},
     "output_type": "display_data"
    }
   ],
   "source": [
    "data['Repaired'] = data['Repaired'].fillna('Unknown')\n",
    "display(pd.DataFrame(round(data.isna().mean()*100,)).style.background_gradient('coolwarm'))"
   ]
  },
  {
   "cell_type": "markdown",
   "metadata": {},
   "source": [
    "остался столбец `VehicleType`. Пропуски в нем мы заполним, ориентируясь на столбец `Model`: создаем список самых часто встречающихся кузовов у определенной модели, и по нему заполняем пропуски\n"
   ]
  },
  {
   "cell_type": "code",
   "execution_count": 13,
   "metadata": {},
   "outputs": [],
   "source": [
    "data['VehicleType'] = data['VehicleType'].fillna(\n",
    "                      data.groupby('Model')['VehicleType'].transform(\n",
    "                      lambda x: x.mode()[0] if not x.mode().empty\n",
    "                         else np.nan))\n"
   ]
  },
  {
   "cell_type": "code",
   "execution_count": 14,
   "metadata": {},
   "outputs": [
    {
     "data": {
      "text/html": [
       "<style  type=\"text/css\" >\n",
       "#T_4b841_row0_col0,#T_4b841_row1_col0,#T_4b841_row2_col0,#T_4b841_row3_col0,#T_4b841_row4_col0,#T_4b841_row5_col0,#T_4b841_row6_col0,#T_4b841_row7_col0,#T_4b841_row8_col0,#T_4b841_row9_col0,#T_4b841_row10_col0,#T_4b841_row11_col0,#T_4b841_row12_col0,#T_4b841_row13_col0,#T_4b841_row14_col0,#T_4b841_row15_col0{\n",
       "            background-color:  #3b4cc0;\n",
       "            color:  #f1f1f1;\n",
       "        }</style><table id=\"T_4b841_\" ><thead>    <tr>        <th class=\"blank level0\" ></th>        <th class=\"col_heading level0 col0\" >0</th>    </tr></thead><tbody>\n",
       "                <tr>\n",
       "                        <th id=\"T_4b841_level0_row0\" class=\"row_heading level0 row0\" >DateCrawled</th>\n",
       "                        <td id=\"T_4b841_row0_col0\" class=\"data row0 col0\" >0.000000</td>\n",
       "            </tr>\n",
       "            <tr>\n",
       "                        <th id=\"T_4b841_level0_row1\" class=\"row_heading level0 row1\" >Price</th>\n",
       "                        <td id=\"T_4b841_row1_col0\" class=\"data row1 col0\" >0.000000</td>\n",
       "            </tr>\n",
       "            <tr>\n",
       "                        <th id=\"T_4b841_level0_row2\" class=\"row_heading level0 row2\" >VehicleType</th>\n",
       "                        <td id=\"T_4b841_row2_col0\" class=\"data row2 col0\" >0.000000</td>\n",
       "            </tr>\n",
       "            <tr>\n",
       "                        <th id=\"T_4b841_level0_row3\" class=\"row_heading level0 row3\" >RegistrationYear</th>\n",
       "                        <td id=\"T_4b841_row3_col0\" class=\"data row3 col0\" >0.000000</td>\n",
       "            </tr>\n",
       "            <tr>\n",
       "                        <th id=\"T_4b841_level0_row4\" class=\"row_heading level0 row4\" >Gearbox</th>\n",
       "                        <td id=\"T_4b841_row4_col0\" class=\"data row4 col0\" >0.000000</td>\n",
       "            </tr>\n",
       "            <tr>\n",
       "                        <th id=\"T_4b841_level0_row5\" class=\"row_heading level0 row5\" >Power</th>\n",
       "                        <td id=\"T_4b841_row5_col0\" class=\"data row5 col0\" >0.000000</td>\n",
       "            </tr>\n",
       "            <tr>\n",
       "                        <th id=\"T_4b841_level0_row6\" class=\"row_heading level0 row6\" >Model</th>\n",
       "                        <td id=\"T_4b841_row6_col0\" class=\"data row6 col0\" >0.000000</td>\n",
       "            </tr>\n",
       "            <tr>\n",
       "                        <th id=\"T_4b841_level0_row7\" class=\"row_heading level0 row7\" >Kilometer</th>\n",
       "                        <td id=\"T_4b841_row7_col0\" class=\"data row7 col0\" >0.000000</td>\n",
       "            </tr>\n",
       "            <tr>\n",
       "                        <th id=\"T_4b841_level0_row8\" class=\"row_heading level0 row8\" >RegistrationMonth</th>\n",
       "                        <td id=\"T_4b841_row8_col0\" class=\"data row8 col0\" >0.000000</td>\n",
       "            </tr>\n",
       "            <tr>\n",
       "                        <th id=\"T_4b841_level0_row9\" class=\"row_heading level0 row9\" >FuelType</th>\n",
       "                        <td id=\"T_4b841_row9_col0\" class=\"data row9 col0\" >0.000000</td>\n",
       "            </tr>\n",
       "            <tr>\n",
       "                        <th id=\"T_4b841_level0_row10\" class=\"row_heading level0 row10\" >Brand</th>\n",
       "                        <td id=\"T_4b841_row10_col0\" class=\"data row10 col0\" >0.000000</td>\n",
       "            </tr>\n",
       "            <tr>\n",
       "                        <th id=\"T_4b841_level0_row11\" class=\"row_heading level0 row11\" >Repaired</th>\n",
       "                        <td id=\"T_4b841_row11_col0\" class=\"data row11 col0\" >0.000000</td>\n",
       "            </tr>\n",
       "            <tr>\n",
       "                        <th id=\"T_4b841_level0_row12\" class=\"row_heading level0 row12\" >DateCreated</th>\n",
       "                        <td id=\"T_4b841_row12_col0\" class=\"data row12 col0\" >0.000000</td>\n",
       "            </tr>\n",
       "            <tr>\n",
       "                        <th id=\"T_4b841_level0_row13\" class=\"row_heading level0 row13\" >NumberOfPictures</th>\n",
       "                        <td id=\"T_4b841_row13_col0\" class=\"data row13 col0\" >0.000000</td>\n",
       "            </tr>\n",
       "            <tr>\n",
       "                        <th id=\"T_4b841_level0_row14\" class=\"row_heading level0 row14\" >PostalCode</th>\n",
       "                        <td id=\"T_4b841_row14_col0\" class=\"data row14 col0\" >0.000000</td>\n",
       "            </tr>\n",
       "            <tr>\n",
       "                        <th id=\"T_4b841_level0_row15\" class=\"row_heading level0 row15\" >LastSeen</th>\n",
       "                        <td id=\"T_4b841_row15_col0\" class=\"data row15 col0\" >0.000000</td>\n",
       "            </tr>\n",
       "    </tbody></table>"
      ],
      "text/plain": [
       "<pandas.io.formats.style.Styler at 0x7f15abf3a400>"
      ]
     },
     "metadata": {},
     "output_type": "display_data"
    }
   ],
   "source": [
    "display(pd.DataFrame(round(data.isna().mean()*100,)).style.background_gradient('coolwarm'))"
   ]
  },
  {
   "cell_type": "markdown",
   "metadata": {},
   "source": [
    "все пропуски и дубликаты устранены"
   ]
  },
  {
   "cell_type": "markdown",
   "metadata": {},
   "source": [
    "првоерим датасет на выбросы"
   ]
  },
  {
   "cell_type": "code",
   "execution_count": 15,
   "metadata": {
    "scrolled": false
   },
   "outputs": [
    {
     "data": {
      "text/plain": [
       "array([[<AxesSubplot:title={'center':'Price'}>,\n",
       "        <AxesSubplot:title={'center':'RegistrationYear'}>,\n",
       "        <AxesSubplot:title={'center':'Power'}>],\n",
       "       [<AxesSubplot:title={'center':'Kilometer'}>,\n",
       "        <AxesSubplot:title={'center':'RegistrationMonth'}>,\n",
       "        <AxesSubplot:title={'center':'NumberOfPictures'}>],\n",
       "       [<AxesSubplot:title={'center':'PostalCode'}>, <AxesSubplot:>,\n",
       "        <AxesSubplot:>]], dtype=object)"
      ]
     },
     "execution_count": 15,
     "metadata": {},
     "output_type": "execute_result"
    },
    {
     "data": {
      "image/png": "[encoded data removed]",
      "text/plain": [
       "<Figure size 1080x1440 with 9 Axes>"
      ]
     },
     "metadata": {
      "needs_background": "light"
     },
     "output_type": "display_data"
    }
   ],
   "source": [
    "data.hist(figsize=(15, 20))"
   ]
  },
  {
   "cell_type": "markdown",
   "metadata": {},
   "source": [
    "### выбросы в  RegistrationYear"
   ]
  },
  {
   "cell_type": "code",
   "execution_count": 16,
   "metadata": {},
   "outputs": [
    {
     "data": {
      "text/plain": [
       "count    299224.000000\n",
       "mean       2003.206919\n",
       "std          24.504343\n",
       "min        1000.000000\n",
       "25%        1999.000000\n",
       "50%        2003.000000\n",
       "75%        2007.000000\n",
       "max        9000.000000\n",
       "Name: RegistrationYear, dtype: float64"
      ]
     },
     "execution_count": 16,
     "metadata": {},
     "output_type": "execute_result"
    }
   ],
   "source": [
    "data['RegistrationYear'].describe()"
   ]
  },
  {
   "cell_type": "markdown",
   "metadata": {},
   "source": [
    "сразу видим аномально большие и аномально маленькие значения в в датасете\n",
    "1. практически весь столбец находиться в приделал от 1999 до 2007, поэтому выбросы мы просто удаляем\n",
    "2. поставим временые рамки : от 1950 года до 2017 года"
   ]
  },
  {
   "cell_type": "code",
   "execution_count": 17,
   "metadata": {
    "scrolled": false
   },
   "outputs": [
    {
     "name": "stdout",
     "output_type": "stream",
     "text": [
      "count    292099.000000\n",
      "mean       2002.759739\n",
      "std           6.349659\n",
      "min        1951.000000\n",
      "25%        1999.000000\n",
      "50%        2003.000000\n",
      "75%        2007.000000\n",
      "max        2016.000000\n",
      "Name: RegistrationYear, dtype: float64\n"
     ]
    },
    {
     "data": {
      "text/plain": [
       "<AxesSubplot:>"
      ]
     },
     "execution_count": 17,
     "metadata": {},
     "output_type": "execute_result"
    },
    {
     "data": {
      "image/png": "[encoded data removed]",
      "text/plain": [
       "<Figure size 432x288 with 1 Axes>"
      ]
     },
     "metadata": {
      "needs_background": "light"
     },
     "output_type": "display_data"
    }
   ],
   "source": [
    "data['RegistrationYear'] = data.loc[(data['RegistrationYear']<2017,'RegistrationYear')]\n",
    "data['RegistrationYear'] = data.loc[(data['RegistrationYear']>1950,'RegistrationYear')]\n",
    "print(data['RegistrationYear'].describe())\n",
    "data['RegistrationYear'].hist(bins = 100)\n"
   ]
  },
  {
   "cell_type": "markdown",
   "metadata": {},
   "source": [
    "### выбросы в  Price"
   ]
  },
  {
   "cell_type": "code",
   "execution_count": 18,
   "metadata": {},
   "outputs": [
    {
     "name": "stdout",
     "output_type": "stream",
     "text": [
      "count    299224.000000\n",
      "mean       4743.299859\n",
      "std        4604.430669\n",
      "min           0.000000\n",
      "25%        1250.000000\n",
      "50%        3000.000000\n",
      "75%        6900.000000\n",
      "max       20000.000000\n",
      "Name: Price, dtype: float64\n"
     ]
    },
    {
     "data": {
      "text/plain": [
       "<AxesSubplot:>"
      ]
     },
     "execution_count": 18,
     "metadata": {},
     "output_type": "execute_result"
    },
    {
     "data": {
      "image/png": "[encoded data removed]",
      "text/plain": [
       "<Figure size 432x288 with 1 Axes>"
      ]
     },
     "metadata": {
      "needs_background": "light"
     },
     "output_type": "display_data"
    }
   ],
   "source": [
    "print(data['Price'].describe())\n",
    "data['Price'].hist(bins = 100)"
   ]
  },
  {
   "cell_type": "markdown",
   "metadata": {},
   "source": [
    "цена равная 0 вызывает подозрение, однако сложно назвать это выбросами\n",
    "\n",
    "\n"
   ]
  },
  {
   "cell_type": "code",
   "execution_count": 19,
   "metadata": {},
   "outputs": [
    {
     "data": {
      "text/plain": [
       "<AxesSubplot:>"
      ]
     },
     "execution_count": 19,
     "metadata": {},
     "output_type": "execute_result"
    },
    {
     "data": {
      "image/png": "[encoded data removed]",
      "text/plain": [
       "<Figure size 432x288 with 1 Axes>"
      ]
     },
     "metadata": {
      "needs_background": "light"
     },
     "output_type": "display_data"
    }
   ],
   "source": [
    "data['Price'] = data.loc[(data['Price']>500,'Price')]\n",
    "data['Price'].hist(bins = 100)"
   ]
  },
  {
   "cell_type": "markdown",
   "metadata": {},
   "source": [
    "попробовал сделать разумный фильтр, где минимальная стоимость авто - 500 евро"
   ]
  },
  {
   "cell_type": "markdown",
   "metadata": {},
   "source": [
    "### выбросы в  Power"
   ]
  },
  {
   "cell_type": "code",
   "execution_count": 20,
   "metadata": {},
   "outputs": [
    {
     "name": "stdout",
     "output_type": "stream",
     "text": [
      "count    299224.000000\n",
      "mean        115.846556\n",
      "std         172.614475\n",
      "min           0.000000\n",
      "25%          75.000000\n",
      "50%         108.000000\n",
      "75%         144.000000\n",
      "max       20000.000000\n",
      "Name: Power, dtype: float64\n"
     ]
    },
    {
     "data": {
      "text/plain": [
       "<AxesSubplot:>"
      ]
     },
     "execution_count": 20,
     "metadata": {},
     "output_type": "execute_result"
    },
    {
     "data": {
      "image/png": "[encoded data removed]",
      "text/plain": [
       "<Figure size 432x288 with 1 Axes>"
      ]
     },
     "metadata": {
      "needs_background": "light"
     },
     "output_type": "display_data"
    }
   ],
   "source": [
    "print(data['Power'].describe())\n",
    "data.boxplot(column=['Power'])"
   ]
  },
  {
   "cell_type": "markdown",
   "metadata": {},
   "source": [
    "выберем порог в 250 л.с. сверху и 50 л.с. снизу"
   ]
  },
  {
   "cell_type": "code",
   "execution_count": 21,
   "metadata": {},
   "outputs": [
    {
     "data": {
      "text/plain": [
       "<AxesSubplot:>"
      ]
     },
     "execution_count": 21,
     "metadata": {},
     "output_type": "execute_result"
    },
    {
     "data": {
      "image/png": "[encoded data removed]",
      "text/plain": [
       "<Figure size 432x288 with 1 Axes>"
      ]
     },
     "metadata": {
      "needs_background": "light"
     },
     "output_type": "display_data"
    }
   ],
   "source": [
    "data['Power'] = data.loc[(data['Power']<300,'Power')]\n",
    "data['Power'] = data.loc[(data['Power']>50,'Power')]\n",
    "data.boxplot(column=['Power'])"
   ]
  },
  {
   "cell_type": "markdown",
   "metadata": {},
   "source": [
    "### выбросы в  Kilometer"
   ]
  },
  {
   "cell_type": "code",
   "execution_count": 22,
   "metadata": {},
   "outputs": [
    {
     "name": "stdout",
     "output_type": "stream",
     "text": [
      "count    299224.000000\n",
      "mean     128490.361736\n",
      "std       36696.612311\n",
      "min        5000.000000\n",
      "25%      125000.000000\n",
      "50%      150000.000000\n",
      "75%      150000.000000\n",
      "max      150000.000000\n",
      "Name: Kilometer, dtype: float64\n"
     ]
    },
    {
     "data": {
      "text/plain": [
       "<AxesSubplot:>"
      ]
     },
     "execution_count": 22,
     "metadata": {},
     "output_type": "execute_result"
    },
    {
     "data": {
      "image/png": "[encoded data removed]",
      "text/plain": [
       "<Figure size 432x288 with 1 Axes>"
      ]
     },
     "metadata": {
      "needs_background": "light"
     },
     "output_type": "display_data"
    }
   ],
   "source": [
    "print(data['Kilometer'].describe())\n",
    "data.boxplot(column=['Kilometer'])"
   ]
  },
  {
   "cell_type": "markdown",
   "metadata": {},
   "source": [
    "выбросов в данном столбце не обнаружено"
   ]
  },
  {
   "cell_type": "markdown",
   "metadata": {},
   "source": [
    "проверяем данные еще раз на наличие пропусков"
   ]
  },
  {
   "cell_type": "code",
   "execution_count": 23,
   "metadata": {
    "scrolled": true
   },
   "outputs": [
    {
     "name": "stdout",
     "output_type": "stream",
     "text": [
      "<class 'pandas.core.frame.DataFrame'>\n",
      "RangeIndex: 299224 entries, 0 to 299223\n",
      "Data columns (total 16 columns):\n",
      " #   Column             Non-Null Count   Dtype  \n",
      "---  ------             --------------   -----  \n",
      " 0   DateCrawled        299224 non-null  object \n",
      " 1   Price              272557 non-null  float64\n",
      " 2   VehicleType        299224 non-null  object \n",
      " 3   RegistrationYear   292099 non-null  float64\n",
      " 4   Gearbox            299224 non-null  object \n",
      " 5   Power              267625 non-null  float64\n",
      " 6   Model              299224 non-null  object \n",
      " 7   Kilometer          299224 non-null  int64  \n",
      " 8   RegistrationMonth  299224 non-null  int64  \n",
      " 9   FuelType           299224 non-null  object \n",
      " 10  Brand              299224 non-null  object \n",
      " 11  Repaired           299224 non-null  object \n",
      " 12  DateCreated        299224 non-null  object \n",
      " 13  NumberOfPictures   299224 non-null  int64  \n",
      " 14  PostalCode         299224 non-null  int64  \n",
      " 15  LastSeen           299224 non-null  object \n",
      "dtypes: float64(3), int64(4), object(9)\n",
      "memory usage: 36.5+ MB\n",
      "None\n"
     ]
    },
    {
     "data": {
      "text/html": [
       "<div>\n",
       "<style scoped>\n",
       "    .dataframe tbody tr th:only-of-type {\n",
       "        vertical-align: middle;\n",
       "    }\n",
       "\n",
       "    .dataframe tbody tr th {\n",
       "        vertical-align: top;\n",
       "    }\n",
       "\n",
       "    .dataframe thead th {\n",
       "        text-align: right;\n",
       "    }\n",
       "</style>\n",
       "<table border=\"1\" class=\"dataframe\">\n",
       "  <thead>\n",
       "    <tr style=\"text-align: right;\">\n",
       "      <th></th>\n",
       "      <th>DateCrawled</th>\n",
       "      <th>Price</th>\n",
       "      <th>VehicleType</th>\n",
       "      <th>RegistrationYear</th>\n",
       "      <th>Gearbox</th>\n",
       "      <th>Power</th>\n",
       "      <th>Model</th>\n",
       "      <th>Kilometer</th>\n",
       "      <th>RegistrationMonth</th>\n",
       "      <th>FuelType</th>\n",
       "      <th>Brand</th>\n",
       "      <th>Repaired</th>\n",
       "      <th>DateCreated</th>\n",
       "      <th>NumberOfPictures</th>\n",
       "      <th>PostalCode</th>\n",
       "      <th>LastSeen</th>\n",
       "    </tr>\n",
       "  </thead>\n",
       "  <tbody>\n",
       "    <tr>\n",
       "      <th>0</th>\n",
       "      <td>2016-03-24 11:52:17</td>\n",
       "      <td>NaN</td>\n",
       "      <td>sedan</td>\n",
       "      <td>1993.0</td>\n",
       "      <td>manual</td>\n",
       "      <td>NaN</td>\n",
       "      <td>golf</td>\n",
       "      <td>150000</td>\n",
       "      <td>0</td>\n",
       "      <td>petrol</td>\n",
       "      <td>volkswagen</td>\n",
       "      <td>Unknown</td>\n",
       "      <td>2016-03-24 00:00:00</td>\n",
       "      <td>0</td>\n",
       "      <td>70435</td>\n",
       "      <td>2016-04-07 03:16:57</td>\n",
       "    </tr>\n",
       "    <tr>\n",
       "      <th>1</th>\n",
       "      <td>2016-03-14 12:52:21</td>\n",
       "      <td>9800.0</td>\n",
       "      <td>suv</td>\n",
       "      <td>2004.0</td>\n",
       "      <td>auto</td>\n",
       "      <td>163.0</td>\n",
       "      <td>grand</td>\n",
       "      <td>125000</td>\n",
       "      <td>8</td>\n",
       "      <td>gasoline</td>\n",
       "      <td>jeep</td>\n",
       "      <td>Unknown</td>\n",
       "      <td>2016-03-14 00:00:00</td>\n",
       "      <td>0</td>\n",
       "      <td>90480</td>\n",
       "      <td>2016-04-05 12:47:46</td>\n",
       "    </tr>\n",
       "    <tr>\n",
       "      <th>2</th>\n",
       "      <td>2016-03-17 16:54:04</td>\n",
       "      <td>1500.0</td>\n",
       "      <td>small</td>\n",
       "      <td>2001.0</td>\n",
       "      <td>manual</td>\n",
       "      <td>75.0</td>\n",
       "      <td>golf</td>\n",
       "      <td>150000</td>\n",
       "      <td>6</td>\n",
       "      <td>petrol</td>\n",
       "      <td>volkswagen</td>\n",
       "      <td>no</td>\n",
       "      <td>2016-03-17 00:00:00</td>\n",
       "      <td>0</td>\n",
       "      <td>91074</td>\n",
       "      <td>2016-03-17 17:40:17</td>\n",
       "    </tr>\n",
       "    <tr>\n",
       "      <th>3</th>\n",
       "      <td>2016-03-31 17:25:20</td>\n",
       "      <td>3600.0</td>\n",
       "      <td>small</td>\n",
       "      <td>2008.0</td>\n",
       "      <td>manual</td>\n",
       "      <td>69.0</td>\n",
       "      <td>fabia</td>\n",
       "      <td>90000</td>\n",
       "      <td>7</td>\n",
       "      <td>gasoline</td>\n",
       "      <td>skoda</td>\n",
       "      <td>no</td>\n",
       "      <td>2016-03-31 00:00:00</td>\n",
       "      <td>0</td>\n",
       "      <td>60437</td>\n",
       "      <td>2016-04-06 10:17:21</td>\n",
       "    </tr>\n",
       "    <tr>\n",
       "      <th>4</th>\n",
       "      <td>2016-04-04 17:36:23</td>\n",
       "      <td>650.0</td>\n",
       "      <td>sedan</td>\n",
       "      <td>1995.0</td>\n",
       "      <td>manual</td>\n",
       "      <td>102.0</td>\n",
       "      <td>3er</td>\n",
       "      <td>150000</td>\n",
       "      <td>10</td>\n",
       "      <td>petrol</td>\n",
       "      <td>bmw</td>\n",
       "      <td>yes</td>\n",
       "      <td>2016-04-04 00:00:00</td>\n",
       "      <td>0</td>\n",
       "      <td>33775</td>\n",
       "      <td>2016-04-06 19:17:07</td>\n",
       "    </tr>\n",
       "  </tbody>\n",
       "</table>\n",
       "</div>"
      ],
      "text/plain": [
       "           DateCrawled   Price VehicleType  RegistrationYear Gearbox  Power  \\\n",
       "0  2016-03-24 11:52:17     NaN       sedan            1993.0  manual    NaN   \n",
       "1  2016-03-14 12:52:21  9800.0         suv            2004.0    auto  163.0   \n",
       "2  2016-03-17 16:54:04  1500.0       small            2001.0  manual   75.0   \n",
       "3  2016-03-31 17:25:20  3600.0       small            2008.0  manual   69.0   \n",
       "4  2016-04-04 17:36:23   650.0       sedan            1995.0  manual  102.0   \n",
       "\n",
       "   Model  Kilometer  RegistrationMonth  FuelType       Brand Repaired  \\\n",
       "0   golf     150000                  0    petrol  volkswagen  Unknown   \n",
       "1  grand     125000                  8  gasoline        jeep  Unknown   \n",
       "2   golf     150000                  6    petrol  volkswagen       no   \n",
       "3  fabia      90000                  7  gasoline       skoda       no   \n",
       "4    3er     150000                 10    petrol         bmw      yes   \n",
       "\n",
       "           DateCreated  NumberOfPictures  PostalCode             LastSeen  \n",
       "0  2016-03-24 00:00:00                 0       70435  2016-04-07 03:16:57  \n",
       "1  2016-03-14 00:00:00                 0       90480  2016-04-05 12:47:46  \n",
       "2  2016-03-17 00:00:00                 0       91074  2016-03-17 17:40:17  \n",
       "3  2016-03-31 00:00:00                 0       60437  2016-04-06 10:17:21  \n",
       "4  2016-04-04 00:00:00                 0       33775  2016-04-06 19:17:07  "
      ]
     },
     "execution_count": 23,
     "metadata": {},
     "output_type": "execute_result"
    }
   ],
   "source": [
    "print(data.info())\n",
    "data.head()"
   ]
  },
  {
   "cell_type": "code",
   "execution_count": 24,
   "metadata": {
    "scrolled": false
   },
   "outputs": [
    {
     "data": {
      "text/html": [
       "<style  type=\"text/css\" >\n",
       "#T_c2048_row0_col0,#T_c2048_row2_col0,#T_c2048_row4_col0,#T_c2048_row6_col0,#T_c2048_row7_col0,#T_c2048_row8_col0,#T_c2048_row9_col0,#T_c2048_row10_col0,#T_c2048_row11_col0,#T_c2048_row12_col0,#T_c2048_row13_col0,#T_c2048_row14_col0,#T_c2048_row15_col0{\n",
       "            background-color:  #3b4cc0;\n",
       "            color:  #f1f1f1;\n",
       "        }#T_c2048_row1_col0{\n",
       "            background-color:  #ea7b60;\n",
       "            color:  #000000;\n",
       "        }#T_c2048_row3_col0{\n",
       "            background-color:  #7597f6;\n",
       "            color:  #000000;\n",
       "        }#T_c2048_row5_col0{\n",
       "            background-color:  #b40426;\n",
       "            color:  #f1f1f1;\n",
       "        }</style><table id=\"T_c2048_\" ><thead>    <tr>        <th class=\"blank level0\" ></th>        <th class=\"col_heading level0 col0\" >0</th>    </tr></thead><tbody>\n",
       "                <tr>\n",
       "                        <th id=\"T_c2048_level0_row0\" class=\"row_heading level0 row0\" >DateCrawled</th>\n",
       "                        <td id=\"T_c2048_row0_col0\" class=\"data row0 col0\" >0.000000</td>\n",
       "            </tr>\n",
       "            <tr>\n",
       "                        <th id=\"T_c2048_level0_row1\" class=\"row_heading level0 row1\" >Price</th>\n",
       "                        <td id=\"T_c2048_row1_col0\" class=\"data row1 col0\" >9.000000</td>\n",
       "            </tr>\n",
       "            <tr>\n",
       "                        <th id=\"T_c2048_level0_row2\" class=\"row_heading level0 row2\" >VehicleType</th>\n",
       "                        <td id=\"T_c2048_row2_col0\" class=\"data row2 col0\" >0.000000</td>\n",
       "            </tr>\n",
       "            <tr>\n",
       "                        <th id=\"T_c2048_level0_row3\" class=\"row_heading level0 row3\" >RegistrationYear</th>\n",
       "                        <td id=\"T_c2048_row3_col0\" class=\"data row3 col0\" >2.000000</td>\n",
       "            </tr>\n",
       "            <tr>\n",
       "                        <th id=\"T_c2048_level0_row4\" class=\"row_heading level0 row4\" >Gearbox</th>\n",
       "                        <td id=\"T_c2048_row4_col0\" class=\"data row4 col0\" >0.000000</td>\n",
       "            </tr>\n",
       "            <tr>\n",
       "                        <th id=\"T_c2048_level0_row5\" class=\"row_heading level0 row5\" >Power</th>\n",
       "                        <td id=\"T_c2048_row5_col0\" class=\"data row5 col0\" >11.000000</td>\n",
       "            </tr>\n",
       "            <tr>\n",
       "                        <th id=\"T_c2048_level0_row6\" class=\"row_heading level0 row6\" >Model</th>\n",
       "                        <td id=\"T_c2048_row6_col0\" class=\"data row6 col0\" >0.000000</td>\n",
       "            </tr>\n",
       "            <tr>\n",
       "                        <th id=\"T_c2048_level0_row7\" class=\"row_heading level0 row7\" >Kilometer</th>\n",
       "                        <td id=\"T_c2048_row7_col0\" class=\"data row7 col0\" >0.000000</td>\n",
       "            </tr>\n",
       "            <tr>\n",
       "                        <th id=\"T_c2048_level0_row8\" class=\"row_heading level0 row8\" >RegistrationMonth</th>\n",
       "                        <td id=\"T_c2048_row8_col0\" class=\"data row8 col0\" >0.000000</td>\n",
       "            </tr>\n",
       "            <tr>\n",
       "                        <th id=\"T_c2048_level0_row9\" class=\"row_heading level0 row9\" >FuelType</th>\n",
       "                        <td id=\"T_c2048_row9_col0\" class=\"data row9 col0\" >0.000000</td>\n",
       "            </tr>\n",
       "            <tr>\n",
       "                        <th id=\"T_c2048_level0_row10\" class=\"row_heading level0 row10\" >Brand</th>\n",
       "                        <td id=\"T_c2048_row10_col0\" class=\"data row10 col0\" >0.000000</td>\n",
       "            </tr>\n",
       "            <tr>\n",
       "                        <th id=\"T_c2048_level0_row11\" class=\"row_heading level0 row11\" >Repaired</th>\n",
       "                        <td id=\"T_c2048_row11_col0\" class=\"data row11 col0\" >0.000000</td>\n",
       "            </tr>\n",
       "            <tr>\n",
       "                        <th id=\"T_c2048_level0_row12\" class=\"row_heading level0 row12\" >DateCreated</th>\n",
       "                        <td id=\"T_c2048_row12_col0\" class=\"data row12 col0\" >0.000000</td>\n",
       "            </tr>\n",
       "            <tr>\n",
       "                        <th id=\"T_c2048_level0_row13\" class=\"row_heading level0 row13\" >NumberOfPictures</th>\n",
       "                        <td id=\"T_c2048_row13_col0\" class=\"data row13 col0\" >0.000000</td>\n",
       "            </tr>\n",
       "            <tr>\n",
       "                        <th id=\"T_c2048_level0_row14\" class=\"row_heading level0 row14\" >PostalCode</th>\n",
       "                        <td id=\"T_c2048_row14_col0\" class=\"data row14 col0\" >0.000000</td>\n",
       "            </tr>\n",
       "            <tr>\n",
       "                        <th id=\"T_c2048_level0_row15\" class=\"row_heading level0 row15\" >LastSeen</th>\n",
       "                        <td id=\"T_c2048_row15_col0\" class=\"data row15 col0\" >0.000000</td>\n",
       "            </tr>\n",
       "    </tbody></table>"
      ],
      "text/plain": [
       "<pandas.io.formats.style.Styler at 0x7f15ab8581c0>"
      ]
     },
     "metadata": {},
     "output_type": "display_data"
    },
    {
     "data": {
      "text/html": [
       "<style  type=\"text/css\" >\n",
       "#T_fe373_row0_col0,#T_fe373_row1_col0,#T_fe373_row2_col0,#T_fe373_row3_col0,#T_fe373_row4_col0,#T_fe373_row5_col0,#T_fe373_row6_col0,#T_fe373_row7_col0,#T_fe373_row8_col0,#T_fe373_row9_col0,#T_fe373_row10_col0,#T_fe373_row11_col0,#T_fe373_row12_col0,#T_fe373_row13_col0,#T_fe373_row14_col0,#T_fe373_row15_col0{\n",
       "            background-color:  #3b4cc0;\n",
       "            color:  #f1f1f1;\n",
       "        }</style><table id=\"T_fe373_\" ><thead>    <tr>        <th class=\"blank level0\" ></th>        <th class=\"col_heading level0 col0\" >0</th>    </tr></thead><tbody>\n",
       "                <tr>\n",
       "                        <th id=\"T_fe373_level0_row0\" class=\"row_heading level0 row0\" >DateCrawled</th>\n",
       "                        <td id=\"T_fe373_row0_col0\" class=\"data row0 col0\" >0.000000</td>\n",
       "            </tr>\n",
       "            <tr>\n",
       "                        <th id=\"T_fe373_level0_row1\" class=\"row_heading level0 row1\" >Price</th>\n",
       "                        <td id=\"T_fe373_row1_col0\" class=\"data row1 col0\" >0.000000</td>\n",
       "            </tr>\n",
       "            <tr>\n",
       "                        <th id=\"T_fe373_level0_row2\" class=\"row_heading level0 row2\" >VehicleType</th>\n",
       "                        <td id=\"T_fe373_row2_col0\" class=\"data row2 col0\" >0.000000</td>\n",
       "            </tr>\n",
       "            <tr>\n",
       "                        <th id=\"T_fe373_level0_row3\" class=\"row_heading level0 row3\" >RegistrationYear</th>\n",
       "                        <td id=\"T_fe373_row3_col0\" class=\"data row3 col0\" >0.000000</td>\n",
       "            </tr>\n",
       "            <tr>\n",
       "                        <th id=\"T_fe373_level0_row4\" class=\"row_heading level0 row4\" >Gearbox</th>\n",
       "                        <td id=\"T_fe373_row4_col0\" class=\"data row4 col0\" >0.000000</td>\n",
       "            </tr>\n",
       "            <tr>\n",
       "                        <th id=\"T_fe373_level0_row5\" class=\"row_heading level0 row5\" >Power</th>\n",
       "                        <td id=\"T_fe373_row5_col0\" class=\"data row5 col0\" >0.000000</td>\n",
       "            </tr>\n",
       "            <tr>\n",
       "                        <th id=\"T_fe373_level0_row6\" class=\"row_heading level0 row6\" >Model</th>\n",
       "                        <td id=\"T_fe373_row6_col0\" class=\"data row6 col0\" >0.000000</td>\n",
       "            </tr>\n",
       "            <tr>\n",
       "                        <th id=\"T_fe373_level0_row7\" class=\"row_heading level0 row7\" >Kilometer</th>\n",
       "                        <td id=\"T_fe373_row7_col0\" class=\"data row7 col0\" >0.000000</td>\n",
       "            </tr>\n",
       "            <tr>\n",
       "                        <th id=\"T_fe373_level0_row8\" class=\"row_heading level0 row8\" >RegistrationMonth</th>\n",
       "                        <td id=\"T_fe373_row8_col0\" class=\"data row8 col0\" >0.000000</td>\n",
       "            </tr>\n",
       "            <tr>\n",
       "                        <th id=\"T_fe373_level0_row9\" class=\"row_heading level0 row9\" >FuelType</th>\n",
       "                        <td id=\"T_fe373_row9_col0\" class=\"data row9 col0\" >0.000000</td>\n",
       "            </tr>\n",
       "            <tr>\n",
       "                        <th id=\"T_fe373_level0_row10\" class=\"row_heading level0 row10\" >Brand</th>\n",
       "                        <td id=\"T_fe373_row10_col0\" class=\"data row10 col0\" >0.000000</td>\n",
       "            </tr>\n",
       "            <tr>\n",
       "                        <th id=\"T_fe373_level0_row11\" class=\"row_heading level0 row11\" >Repaired</th>\n",
       "                        <td id=\"T_fe373_row11_col0\" class=\"data row11 col0\" >0.000000</td>\n",
       "            </tr>\n",
       "            <tr>\n",
       "                        <th id=\"T_fe373_level0_row12\" class=\"row_heading level0 row12\" >DateCreated</th>\n",
       "                        <td id=\"T_fe373_row12_col0\" class=\"data row12 col0\" >0.000000</td>\n",
       "            </tr>\n",
       "            <tr>\n",
       "                        <th id=\"T_fe373_level0_row13\" class=\"row_heading level0 row13\" >NumberOfPictures</th>\n",
       "                        <td id=\"T_fe373_row13_col0\" class=\"data row13 col0\" >0.000000</td>\n",
       "            </tr>\n",
       "            <tr>\n",
       "                        <th id=\"T_fe373_level0_row14\" class=\"row_heading level0 row14\" >PostalCode</th>\n",
       "                        <td id=\"T_fe373_row14_col0\" class=\"data row14 col0\" >0.000000</td>\n",
       "            </tr>\n",
       "            <tr>\n",
       "                        <th id=\"T_fe373_level0_row15\" class=\"row_heading level0 row15\" >LastSeen</th>\n",
       "                        <td id=\"T_fe373_row15_col0\" class=\"data row15 col0\" >0.000000</td>\n",
       "            </tr>\n",
       "    </tbody></table>"
      ],
      "text/plain": [
       "<pandas.io.formats.style.Styler at 0x7f15ab83f520>"
      ]
     },
     "metadata": {},
     "output_type": "display_data"
    }
   ],
   "source": [
    "display(pd.DataFrame(round(data.isna().mean()*100,)).style.background_gradient('coolwarm'))\n",
    "data = data.dropna(subset=['RegistrationYear','Power','Price'])\n",
    "data = data.reset_index(drop=True)\n",
    "display(pd.DataFrame(round(data.isna().mean()*100,)).style.background_gradient('coolwarm'))"
   ]
  },
  {
   "cell_type": "code",
   "execution_count": 25,
   "metadata": {},
   "outputs": [
    {
     "name": "stdout",
     "output_type": "stream",
     "text": [
      "31%\n"
     ]
    }
   ],
   "source": [
    "losses = 1 -(len(data)/data_0)\n",
    "print(\"{:.0%}\".format(losses))"
   ]
  },
  {
   "cell_type": "markdown",
   "metadata": {},
   "source": [
    "31% данных потеряли при обработке пропусков\n",
    "\n",
    "изначально это были 36%, однако подвинув некоторые пороговые значения получилось сократить до 31%"
   ]
  },
  {
   "cell_type": "markdown",
   "metadata": {},
   "source": [
    "### подготовка данных к обучению модели "
   ]
  },
  {
   "cell_type": "markdown",
   "metadata": {},
   "source": [
    "удалим ненужные столбцы"
   ]
  },
  {
   "cell_type": "code",
   "execution_count": 26,
   "metadata": {},
   "outputs": [
    {
     "data": {
      "text/html": [
       "<div>\n",
       "<style scoped>\n",
       "    .dataframe tbody tr th:only-of-type {\n",
       "        vertical-align: middle;\n",
       "    }\n",
       "\n",
       "    .dataframe tbody tr th {\n",
       "        vertical-align: top;\n",
       "    }\n",
       "\n",
       "    .dataframe thead th {\n",
       "        text-align: right;\n",
       "    }\n",
       "</style>\n",
       "<table border=\"1\" class=\"dataframe\">\n",
       "  <thead>\n",
       "    <tr style=\"text-align: right;\">\n",
       "      <th></th>\n",
       "      <th>Price</th>\n",
       "      <th>VehicleType</th>\n",
       "      <th>RegistrationYear</th>\n",
       "      <th>Gearbox</th>\n",
       "      <th>Power</th>\n",
       "      <th>Model</th>\n",
       "      <th>Kilometer</th>\n",
       "      <th>FuelType</th>\n",
       "      <th>Brand</th>\n",
       "      <th>Repaired</th>\n",
       "    </tr>\n",
       "  </thead>\n",
       "  <tbody>\n",
       "    <tr>\n",
       "      <th>0</th>\n",
       "      <td>9800.0</td>\n",
       "      <td>suv</td>\n",
       "      <td>2004.0</td>\n",
       "      <td>auto</td>\n",
       "      <td>163.0</td>\n",
       "      <td>grand</td>\n",
       "      <td>125000</td>\n",
       "      <td>gasoline</td>\n",
       "      <td>jeep</td>\n",
       "      <td>Unknown</td>\n",
       "    </tr>\n",
       "    <tr>\n",
       "      <th>1</th>\n",
       "      <td>1500.0</td>\n",
       "      <td>small</td>\n",
       "      <td>2001.0</td>\n",
       "      <td>manual</td>\n",
       "      <td>75.0</td>\n",
       "      <td>golf</td>\n",
       "      <td>150000</td>\n",
       "      <td>petrol</td>\n",
       "      <td>volkswagen</td>\n",
       "      <td>no</td>\n",
       "    </tr>\n",
       "    <tr>\n",
       "      <th>2</th>\n",
       "      <td>3600.0</td>\n",
       "      <td>small</td>\n",
       "      <td>2008.0</td>\n",
       "      <td>manual</td>\n",
       "      <td>69.0</td>\n",
       "      <td>fabia</td>\n",
       "      <td>90000</td>\n",
       "      <td>gasoline</td>\n",
       "      <td>skoda</td>\n",
       "      <td>no</td>\n",
       "    </tr>\n",
       "    <tr>\n",
       "      <th>3</th>\n",
       "      <td>650.0</td>\n",
       "      <td>sedan</td>\n",
       "      <td>1995.0</td>\n",
       "      <td>manual</td>\n",
       "      <td>102.0</td>\n",
       "      <td>3er</td>\n",
       "      <td>150000</td>\n",
       "      <td>petrol</td>\n",
       "      <td>bmw</td>\n",
       "      <td>yes</td>\n",
       "    </tr>\n",
       "    <tr>\n",
       "      <th>4</th>\n",
       "      <td>2200.0</td>\n",
       "      <td>convertible</td>\n",
       "      <td>2004.0</td>\n",
       "      <td>manual</td>\n",
       "      <td>109.0</td>\n",
       "      <td>2_reihe</td>\n",
       "      <td>150000</td>\n",
       "      <td>petrol</td>\n",
       "      <td>peugeot</td>\n",
       "      <td>no</td>\n",
       "    </tr>\n",
       "  </tbody>\n",
       "</table>\n",
       "</div>"
      ],
      "text/plain": [
       "    Price  VehicleType  RegistrationYear Gearbox  Power    Model  Kilometer  \\\n",
       "0  9800.0          suv            2004.0    auto  163.0    grand     125000   \n",
       "1  1500.0        small            2001.0  manual   75.0     golf     150000   \n",
       "2  3600.0        small            2008.0  manual   69.0    fabia      90000   \n",
       "3   650.0        sedan            1995.0  manual  102.0      3er     150000   \n",
       "4  2200.0  convertible            2004.0  manual  109.0  2_reihe     150000   \n",
       "\n",
       "   FuelType       Brand Repaired  \n",
       "0  gasoline        jeep  Unknown  \n",
       "1    petrol  volkswagen       no  \n",
       "2  gasoline       skoda       no  \n",
       "3    petrol         bmw      yes  \n",
       "4    petrol     peugeot       no  "
      ]
     },
     "execution_count": 26,
     "metadata": {},
     "output_type": "execute_result"
    }
   ],
   "source": [
    "data_1 = data.drop(['DateCrawled','DateCreated','PostalCode','LastSeen','NumberOfPictures','RegistrationMonth'], axis=1)\n",
    "data_1.head()"
   ]
  },
  {
   "cell_type": "markdown",
   "metadata": {},
   "source": [
    "воспользуемся методом Mean Encoding\n"
   ]
  },
  {
   "cell_type": "markdown",
   "metadata": {},
   "source": [
    "<div class=\"alert alert-light\" role=\"alert\">\n",
    "  на самом деле я не понял как после Mean Encoding на треноровочной выборке эти же значения засунуть в тестовую и валидационную(я понимаю что мы должны имитировать реальный процесс, когда \"тестовая\" является поступающей \"здесь и сейчась\" информацией) поэтому решил сократить для себя время. если подскажешь, буду благодарен\n",
    "</div>"
   ]
  },
  {
   "cell_type": "markdown",
   "metadata": {},
   "source": [
    "разобъем данные на признаки и целевой признак"
   ]
  },
  {
   "cell_type": "code",
   "execution_count": 32,
   "metadata": {},
   "outputs": [],
   "source": [
    "features = data_1.drop(['Price'], axis=1)\n",
    "target = data_1['Price']"
   ]
  },
  {
   "cell_type": "code",
   "execution_count": 33,
   "metadata": {},
   "outputs": [],
   "source": [
    "\n",
    "features_train, features_valid_test, target_train, target_valid_test = train_test_split(\n",
    "    features, target, test_size=0.4, random_state=123)\n",
    "\n",
    "features_valid, features_test, target_valid, target_test = train_test_split(\n",
    "    features_valid_test, target_valid_test, test_size=0.5, random_state=123)"
   ]
  },
  {
   "cell_type": "markdown",
   "metadata": {},
   "source": [
    "обучим и трансформируем признаки методом Mean Encoding"
   ]
  },
  {
   "cell_type": "code",
   "execution_count": 34,
   "metadata": {},
   "outputs": [
    {
     "data": {
      "text/html": [
       "<div>\n",
       "<style scoped>\n",
       "    .dataframe tbody tr th:only-of-type {\n",
       "        vertical-align: middle;\n",
       "    }\n",
       "\n",
       "    .dataframe tbody tr th {\n",
       "        vertical-align: top;\n",
       "    }\n",
       "\n",
       "    .dataframe thead th {\n",
       "        text-align: right;\n",
       "    }\n",
       "</style>\n",
       "<table border=\"1\" class=\"dataframe\">\n",
       "  <thead>\n",
       "    <tr style=\"text-align: right;\">\n",
       "      <th></th>\n",
       "      <th>VehicleType</th>\n",
       "      <th>RegistrationYear</th>\n",
       "      <th>Gearbox</th>\n",
       "      <th>Power</th>\n",
       "      <th>Model</th>\n",
       "      <th>Kilometer</th>\n",
       "      <th>FuelType</th>\n",
       "      <th>Brand</th>\n",
       "      <th>Repaired</th>\n",
       "    </tr>\n",
       "  </thead>\n",
       "  <tbody>\n",
       "    <tr>\n",
       "      <th>77103</th>\n",
       "      <td>5212.155641</td>\n",
       "      <td>2006.0</td>\n",
       "      <td>4800.832716</td>\n",
       "      <td>90.0</td>\n",
       "      <td>5005.850445</td>\n",
       "      <td>150000</td>\n",
       "      <td>7090.570332</td>\n",
       "      <td>5493.514989</td>\n",
       "      <td>5785.299929</td>\n",
       "    </tr>\n",
       "    <tr>\n",
       "      <th>120525</th>\n",
       "      <td>7136.310052</td>\n",
       "      <td>2015.0</td>\n",
       "      <td>4800.832716</td>\n",
       "      <td>69.0</td>\n",
       "      <td>8329.137404</td>\n",
       "      <td>5000</td>\n",
       "      <td>4428.378552</td>\n",
       "      <td>3459.507085</td>\n",
       "      <td>5785.299929</td>\n",
       "    </tr>\n",
       "    <tr>\n",
       "      <th>16917</th>\n",
       "      <td>5514.239960</td>\n",
       "      <td>2001.0</td>\n",
       "      <td>7375.786671</td>\n",
       "      <td>170.0</td>\n",
       "      <td>5973.898800</td>\n",
       "      <td>150000</td>\n",
       "      <td>7090.570332</td>\n",
       "      <td>6352.645935</td>\n",
       "      <td>3818.737946</td>\n",
       "    </tr>\n",
       "    <tr>\n",
       "      <th>142119</th>\n",
       "      <td>3501.741541</td>\n",
       "      <td>1998.0</td>\n",
       "      <td>4800.832716</td>\n",
       "      <td>53.0</td>\n",
       "      <td>1984.465429</td>\n",
       "      <td>150000</td>\n",
       "      <td>4428.378552</td>\n",
       "      <td>2984.742025</td>\n",
       "      <td>3818.737946</td>\n",
       "    </tr>\n",
       "    <tr>\n",
       "      <th>52391</th>\n",
       "      <td>5514.239960</td>\n",
       "      <td>2001.0</td>\n",
       "      <td>4800.832716</td>\n",
       "      <td>75.0</td>\n",
       "      <td>4023.670473</td>\n",
       "      <td>150000</td>\n",
       "      <td>7090.570332</td>\n",
       "      <td>4106.228261</td>\n",
       "      <td>3818.737946</td>\n",
       "    </tr>\n",
       "    <tr>\n",
       "      <th>...</th>\n",
       "      <td>...</td>\n",
       "      <td>...</td>\n",
       "      <td>...</td>\n",
       "      <td>...</td>\n",
       "      <td>...</td>\n",
       "      <td>...</td>\n",
       "      <td>...</td>\n",
       "      <td>...</td>\n",
       "      <td>...</td>\n",
       "    </tr>\n",
       "    <tr>\n",
       "      <th>119906</th>\n",
       "      <td>3501.741541</td>\n",
       "      <td>2007.0</td>\n",
       "      <td>4800.832716</td>\n",
       "      <td>60.0</td>\n",
       "      <td>3627.946466</td>\n",
       "      <td>90000</td>\n",
       "      <td>4428.378552</td>\n",
       "      <td>4106.228261</td>\n",
       "      <td>5785.299929</td>\n",
       "    </tr>\n",
       "    <tr>\n",
       "      <th>192476</th>\n",
       "      <td>5212.155641</td>\n",
       "      <td>1992.0</td>\n",
       "      <td>4800.832716</td>\n",
       "      <td>133.0</td>\n",
       "      <td>1868.420424</td>\n",
       "      <td>150000</td>\n",
       "      <td>4428.378552</td>\n",
       "      <td>7023.938373</td>\n",
       "      <td>5785.299929</td>\n",
       "    </tr>\n",
       "    <tr>\n",
       "      <th>17730</th>\n",
       "      <td>3501.741541</td>\n",
       "      <td>2004.0</td>\n",
       "      <td>7375.786671</td>\n",
       "      <td>125.0</td>\n",
       "      <td>3885.207434</td>\n",
       "      <td>40000</td>\n",
       "      <td>4428.378552</td>\n",
       "      <td>6352.645935</td>\n",
       "      <td>5785.299929</td>\n",
       "    </tr>\n",
       "    <tr>\n",
       "      <th>28030</th>\n",
       "      <td>5212.155641</td>\n",
       "      <td>2016.0</td>\n",
       "      <td>4800.832716</td>\n",
       "      <td>105.0</td>\n",
       "      <td>5594.128277</td>\n",
       "      <td>150000</td>\n",
       "      <td>4428.378552</td>\n",
       "      <td>6828.384574</td>\n",
       "      <td>3818.737946</td>\n",
       "    </tr>\n",
       "    <tr>\n",
       "      <th>15725</th>\n",
       "      <td>5909.918335</td>\n",
       "      <td>2006.0</td>\n",
       "      <td>7375.786671</td>\n",
       "      <td>174.0</td>\n",
       "      <td>7408.228769</td>\n",
       "      <td>150000</td>\n",
       "      <td>7090.570332</td>\n",
       "      <td>5493.514989</td>\n",
       "      <td>3818.737946</td>\n",
       "    </tr>\n",
       "  </tbody>\n",
       "</table>\n",
       "<p>146130 rows × 9 columns</p>\n",
       "</div>"
      ],
      "text/plain": [
       "        VehicleType  RegistrationYear      Gearbox  Power        Model  \\\n",
       "77103   5212.155641            2006.0  4800.832716   90.0  5005.850445   \n",
       "120525  7136.310052            2015.0  4800.832716   69.0  8329.137404   \n",
       "16917   5514.239960            2001.0  7375.786671  170.0  5973.898800   \n",
       "142119  3501.741541            1998.0  4800.832716   53.0  1984.465429   \n",
       "52391   5514.239960            2001.0  4800.832716   75.0  4023.670473   \n",
       "...             ...               ...          ...    ...          ...   \n",
       "119906  3501.741541            2007.0  4800.832716   60.0  3627.946466   \n",
       "192476  5212.155641            1992.0  4800.832716  133.0  1868.420424   \n",
       "17730   3501.741541            2004.0  7375.786671  125.0  3885.207434   \n",
       "28030   5212.155641            2016.0  4800.832716  105.0  5594.128277   \n",
       "15725   5909.918335            2006.0  7375.786671  174.0  7408.228769   \n",
       "\n",
       "        Kilometer     FuelType        Brand     Repaired  \n",
       "77103      150000  7090.570332  5493.514989  5785.299929  \n",
       "120525       5000  4428.378552  3459.507085  5785.299929  \n",
       "16917      150000  7090.570332  6352.645935  3818.737946  \n",
       "142119     150000  4428.378552  2984.742025  3818.737946  \n",
       "52391      150000  7090.570332  4106.228261  3818.737946  \n",
       "...           ...          ...          ...          ...  \n",
       "119906      90000  4428.378552  4106.228261  5785.299929  \n",
       "192476     150000  4428.378552  7023.938373  5785.299929  \n",
       "17730       40000  4428.378552  6352.645935  5785.299929  \n",
       "28030      150000  4428.378552  6828.384574  3818.737946  \n",
       "15725      150000  7090.570332  5493.514989  3818.737946  \n",
       "\n",
       "[146130 rows x 9 columns]"
      ]
     },
     "execution_count": 34,
     "metadata": {},
     "output_type": "execute_result"
    }
   ],
   "source": [
    "Mean_encoding = ce.m_estimate.MEstimateEncoder(cols=['Brand','Model','VehicleType','Gearbox','FuelType','Repaired'])\n",
    "\n",
    "features_train_encoded = Mean_encoding.fit_transform(features_train,target_train)\n",
    "features_valid_encoded = Mean_encoding.transform(features_valid)\n",
    "features_test_encoded = Mean_encoding.transform(features_test)\n",
    "\n",
    "features_train_encoded"
   ]
  },
  {
   "cell_type": "code",
   "execution_count": 35,
   "metadata": {},
   "outputs": [],
   "source": [
    "num_features = ['RegistrationYear','Power','Kilometer','VehicleType','Gearbox','Model','FuelType','Brand','Repaired']"
   ]
  },
  {
   "cell_type": "code",
   "execution_count": 36,
   "metadata": {
    "scrolled": false
   },
   "outputs": [
    {
     "data": {
      "text/html": [
       "<div>\n",
       "<style scoped>\n",
       "    .dataframe tbody tr th:only-of-type {\n",
       "        vertical-align: middle;\n",
       "    }\n",
       "\n",
       "    .dataframe tbody tr th {\n",
       "        vertical-align: top;\n",
       "    }\n",
       "\n",
       "    .dataframe thead th {\n",
       "        text-align: right;\n",
       "    }\n",
       "</style>\n",
       "<table border=\"1\" class=\"dataframe\">\n",
       "  <thead>\n",
       "    <tr style=\"text-align: right;\">\n",
       "      <th></th>\n",
       "      <th>VehicleType</th>\n",
       "      <th>RegistrationYear</th>\n",
       "      <th>Gearbox</th>\n",
       "      <th>Power</th>\n",
       "      <th>Model</th>\n",
       "      <th>Kilometer</th>\n",
       "      <th>FuelType</th>\n",
       "      <th>Brand</th>\n",
       "      <th>Repaired</th>\n",
       "    </tr>\n",
       "  </thead>\n",
       "  <tbody>\n",
       "    <tr>\n",
       "      <th>77103</th>\n",
       "      <td>-0.095084</td>\n",
       "      <td>0.429620</td>\n",
       "      <td>-0.512343</td>\n",
       "      <td>-0.706748</td>\n",
       "      <td>-0.140298</td>\n",
       "      <td>0.614514</td>\n",
       "      <td>1.373889</td>\n",
       "      <td>0.112852</td>\n",
       "      <td>0.468316</td>\n",
       "    </tr>\n",
       "    <tr>\n",
       "      <th>120525</th>\n",
       "      <td>1.379984</td>\n",
       "      <td>1.944695</td>\n",
       "      <td>-0.512343</td>\n",
       "      <td>-1.149646</td>\n",
       "      <td>1.277547</td>\n",
       "      <td>-3.307639</td>\n",
       "      <td>-0.710907</td>\n",
       "      <td>-1.347116</td>\n",
       "      <td>0.468316</td>\n",
       "    </tr>\n",
       "    <tr>\n",
       "      <th>16917</th>\n",
       "      <td>0.136495</td>\n",
       "      <td>-0.412089</td>\n",
       "      <td>1.951819</td>\n",
       "      <td>0.980484</td>\n",
       "      <td>0.272710</td>\n",
       "      <td>0.614514</td>\n",
       "      <td>1.373889</td>\n",
       "      <td>0.729519</td>\n",
       "      <td>-1.582602</td>\n",
       "    </tr>\n",
       "    <tr>\n",
       "      <th>142119</th>\n",
       "      <td>-1.406298</td>\n",
       "      <td>-0.917114</td>\n",
       "      <td>-0.512343</td>\n",
       "      <td>-1.487092</td>\n",
       "      <td>-1.429339</td>\n",
       "      <td>0.614514</td>\n",
       "      <td>-0.710907</td>\n",
       "      <td>-1.687893</td>\n",
       "      <td>-1.582602</td>\n",
       "    </tr>\n",
       "    <tr>\n",
       "      <th>52391</th>\n",
       "      <td>0.136495</td>\n",
       "      <td>-0.412089</td>\n",
       "      <td>-0.512343</td>\n",
       "      <td>-1.023104</td>\n",
       "      <td>-0.559334</td>\n",
       "      <td>0.614514</td>\n",
       "      <td>1.373889</td>\n",
       "      <td>-0.882913</td>\n",
       "      <td>-1.582602</td>\n",
       "    </tr>\n",
       "    <tr>\n",
       "      <th>...</th>\n",
       "      <td>...</td>\n",
       "      <td>...</td>\n",
       "      <td>...</td>\n",
       "      <td>...</td>\n",
       "      <td>...</td>\n",
       "      <td>...</td>\n",
       "      <td>...</td>\n",
       "      <td>...</td>\n",
       "      <td>...</td>\n",
       "    </tr>\n",
       "    <tr>\n",
       "      <th>119906</th>\n",
       "      <td>-1.406298</td>\n",
       "      <td>0.597961</td>\n",
       "      <td>-0.512343</td>\n",
       "      <td>-1.339460</td>\n",
       "      <td>-0.728166</td>\n",
       "      <td>-1.008446</td>\n",
       "      <td>-0.710907</td>\n",
       "      <td>-0.882913</td>\n",
       "      <td>0.468316</td>\n",
       "    </tr>\n",
       "    <tr>\n",
       "      <th>192476</th>\n",
       "      <td>-0.095084</td>\n",
       "      <td>-1.927163</td>\n",
       "      <td>-0.512343</td>\n",
       "      <td>0.200139</td>\n",
       "      <td>-1.478849</td>\n",
       "      <td>0.614514</td>\n",
       "      <td>-0.710907</td>\n",
       "      <td>1.211359</td>\n",
       "      <td>0.468316</td>\n",
       "    </tr>\n",
       "    <tr>\n",
       "      <th>17730</th>\n",
       "      <td>-1.406298</td>\n",
       "      <td>0.092936</td>\n",
       "      <td>1.951819</td>\n",
       "      <td>0.031416</td>\n",
       "      <td>-0.618408</td>\n",
       "      <td>-2.360912</td>\n",
       "      <td>-0.710907</td>\n",
       "      <td>0.729519</td>\n",
       "      <td>0.468316</td>\n",
       "    </tr>\n",
       "    <tr>\n",
       "      <th>28030</th>\n",
       "      <td>-0.095084</td>\n",
       "      <td>2.113036</td>\n",
       "      <td>-0.512343</td>\n",
       "      <td>-0.390392</td>\n",
       "      <td>0.110685</td>\n",
       "      <td>0.614514</td>\n",
       "      <td>-0.710907</td>\n",
       "      <td>1.070994</td>\n",
       "      <td>-1.582602</td>\n",
       "    </tr>\n",
       "    <tr>\n",
       "      <th>15725</th>\n",
       "      <td>0.439825</td>\n",
       "      <td>0.429620</td>\n",
       "      <td>1.951819</td>\n",
       "      <td>1.064846</td>\n",
       "      <td>0.884651</td>\n",
       "      <td>0.614514</td>\n",
       "      <td>1.373889</td>\n",
       "      <td>0.112852</td>\n",
       "      <td>-1.582602</td>\n",
       "    </tr>\n",
       "  </tbody>\n",
       "</table>\n",
       "<p>146130 rows × 9 columns</p>\n",
       "</div>"
      ],
      "text/plain": [
       "        VehicleType  RegistrationYear   Gearbox     Power     Model  \\\n",
       "77103     -0.095084          0.429620 -0.512343 -0.706748 -0.140298   \n",
       "120525     1.379984          1.944695 -0.512343 -1.149646  1.277547   \n",
       "16917      0.136495         -0.412089  1.951819  0.980484  0.272710   \n",
       "142119    -1.406298         -0.917114 -0.512343 -1.487092 -1.429339   \n",
       "52391      0.136495         -0.412089 -0.512343 -1.023104 -0.559334   \n",
       "...             ...               ...       ...       ...       ...   \n",
       "119906    -1.406298          0.597961 -0.512343 -1.339460 -0.728166   \n",
       "192476    -0.095084         -1.927163 -0.512343  0.200139 -1.478849   \n",
       "17730     -1.406298          0.092936  1.951819  0.031416 -0.618408   \n",
       "28030     -0.095084          2.113036 -0.512343 -0.390392  0.110685   \n",
       "15725      0.439825          0.429620  1.951819  1.064846  0.884651   \n",
       "\n",
       "        Kilometer  FuelType     Brand  Repaired  \n",
       "77103    0.614514  1.373889  0.112852  0.468316  \n",
       "120525  -3.307639 -0.710907 -1.347116  0.468316  \n",
       "16917    0.614514  1.373889  0.729519 -1.582602  \n",
       "142119   0.614514 -0.710907 -1.687893 -1.582602  \n",
       "52391    0.614514  1.373889 -0.882913 -1.582602  \n",
       "...           ...       ...       ...       ...  \n",
       "119906  -1.008446 -0.710907 -0.882913  0.468316  \n",
       "192476   0.614514 -0.710907  1.211359  0.468316  \n",
       "17730   -2.360912 -0.710907  0.729519  0.468316  \n",
       "28030    0.614514 -0.710907  1.070994 -1.582602  \n",
       "15725    0.614514  1.373889  0.112852 -1.582602  \n",
       "\n",
       "[146130 rows x 9 columns]"
      ]
     },
     "execution_count": 36,
     "metadata": {},
     "output_type": "execute_result"
    }
   ],
   "source": [
    "features_train_scaled = features_train_encoded.copy()\n",
    "features_valid_scaled = features_valid_encoded.copy()\n",
    "features_test_scaled = features_test_encoded.copy()\n",
    "\n",
    "scaler = StandardScaler()\n",
    "scaler.fit(features_train_encoded[num_features])\n",
    "\n",
    "features_train_scaled[num_features] = scaler.transform(features_train_scaled[num_features])\n",
    "features_valid_scaled[num_features] = scaler.transform(features_valid_scaled[num_features])\n",
    "features_test_scaled[num_features] = scaler.transform(features_test_scaled[num_features])\n",
    "\n",
    "features_train_scaled"
   ]
  },
  {
   "cell_type": "markdown",
   "metadata": {},
   "source": [
    "в первой части проекта было выполнено:\n",
    "\n",
    "1. изучение таблицы с данными\n",
    "2. удаление или заменена пропуков\n",
    "3. устранение аномальных значений \n",
    "4. удаление лишних столбцов перед обучением\n",
    "5. Разделение выборки на тренировочную, валидационную и тестовую\n",
    "6. масштабирование данных\n",
    "7. Обработка категориальных признаков техниками Mean Encoding \n"
   ]
  },
  {
   "cell_type": "markdown",
   "metadata": {},
   "source": [
    "## Обучение моделей"
   ]
  },
  {
   "cell_type": "markdown",
   "metadata": {},
   "source": [
    "### DecisionTreeRegressor "
   ]
  },
  {
   "cell_type": "code",
   "execution_count": 40,
   "metadata": {},
   "outputs": [
    {
     "name": "stdout",
     "output_type": "stream",
     "text": [
      "лучшие параметры {'max_depth': 6, 'min_samples_leaf': 1}\n",
      "CPU times: user 10.3 s, sys: 31.5 ms, total: 10.3 s\n",
      "Wall time: 10.3 s\n"
     ]
    }
   ],
   "source": [
    "%%time\n",
    "\n",
    "DTR = DecisionTreeRegressor(random_state=123)\n",
    "PAR_DTR = {'max_depth':  [x for x in range(1, 7)],\n",
    "           'min_samples_leaf' : [x for x in range (1, 5)]}\n",
    "\n",
    "DTR_MODEL = GridSearchCV(DTR,PAR_DTR,cv=5, scoring ='neg_mean_squared_error')\n",
    "DTR_MODEL.fit(features_train_scaled,target_train)\n",
    "\n",
    "print(\"лучшие параметры\",DTR_MODEL.best_params_)\n"
   ]
  },
  {
   "cell_type": "code",
   "execution_count": 41,
   "metadata": {},
   "outputs": [
    {
     "name": "stdout",
     "output_type": "stream",
     "text": [
      "CPU times: user 154 ms, sys: 0 ns, total: 154 ms\n",
      "Wall time: 164 ms\n"
     ]
    },
    {
     "data": {
      "text/plain": [
       "0.16365599632263184"
      ]
     },
     "execution_count": 41,
     "metadata": {},
     "output_type": "execute_result"
    }
   ],
   "source": [
    "%%time\n",
    "start = time.time()\n",
    "model = DecisionTreeRegressor(random_state=123,max_depth= 6, min_samples_leaf = 1)\n",
    "model.fit(features_train_scaled,target_train)\n",
    "end = time.time()\n",
    "time_DTR_fit =(end - start)\n",
    "time_DTR_fit"
   ]
  },
  {
   "cell_type": "code",
   "execution_count": 42,
   "metadata": {},
   "outputs": [
    {
     "name": "stdout",
     "output_type": "stream",
     "text": [
      "0.006658792495727539\n",
      "2210.9789541794466\n",
      "CPU times: user 7.66 ms, sys: 0 ns, total: 7.66 ms\n",
      "Wall time: 6.82 ms\n"
     ]
    }
   ],
   "source": [
    "%%time\n",
    "start = time.time()\n",
    "\n",
    "predictions_Tree = model.predict(features_valid_scaled)\n",
    "DTR_RMSE = sqrt(mean_squared_error(target_valid, predictions_Tree))\n",
    "\n",
    "end = time.time()\n",
    "time_DTR_pred =(end - start)\n",
    "\n",
    "print(time_DTR_pred)\n",
    "print(DTR_RMSE)"
   ]
  },
  {
   "cell_type": "markdown",
   "metadata": {},
   "source": [
    "### CatBoostRegressor "
   ]
  },
  {
   "cell_type": "code",
   "execution_count": 46,
   "metadata": {
    "scrolled": true
   },
   "outputs": [
    {
     "data": {
      "text/plain": [
       "['VehicleType',\n",
       " 'RegistrationYear',\n",
       " 'Gearbox',\n",
       " 'Power',\n",
       " 'Model',\n",
       " 'Kilometer',\n",
       " 'FuelType',\n",
       " 'Brand',\n",
       " 'Repaired']"
      ]
     },
     "execution_count": 46,
     "metadata": {},
     "output_type": "execute_result"
    }
   ],
   "source": [
    "cat_features = list(features.columns)\n",
    "cat_features "
   ]
  },
  {
   "cell_type": "code",
   "execution_count": 47,
   "metadata": {},
   "outputs": [
    {
     "name": "stdout",
     "output_type": "stream",
     "text": [
      "Learning rate set to 0.5\n",
      "0:\tlearn: 3193.7743025\ttotal: 73.9ms\tremaining: 2.88s\n",
      "10:\tlearn: 1813.1848357\ttotal: 274ms\tremaining: 723ms\n",
      "20:\tlearn: 1725.5527644\ttotal: 496ms\tremaining: 449ms\n",
      "30:\tlearn: 1675.4609384\ttotal: 701ms\tremaining: 203ms\n",
      "39:\tlearn: 1644.6974504\ttotal: 859ms\tremaining: 0us\n",
      "CPU times: user 876 ms, sys: 28.5 ms, total: 904 ms\n",
      "Wall time: 1.65 s\n"
     ]
    },
    {
     "data": {
      "text/plain": [
       "1.6537079811096191"
      ]
     },
     "execution_count": 47,
     "metadata": {},
     "output_type": "execute_result"
    }
   ],
   "source": [
    "%%time\n",
    "start = time.time()\n",
    "model_cat = CatBoostRegressor(iterations=40,depth = 6)\n",
    "model_cat.fit(features_train_scaled, target_train, verbose=10)\n",
    "end = time.time()\n",
    "time_cat_fit =(end - start)\n",
    "time_cat_fit"
   ]
  },
  {
   "cell_type": "code",
   "execution_count": 48,
   "metadata": {},
   "outputs": [
    {
     "name": "stdout",
     "output_type": "stream",
     "text": [
      "1675.2235988883747\n",
      "CPU times: user 13.6 ms, sys: 95 µs, total: 13.7 ms\n",
      "Wall time: 12.4 ms\n"
     ]
    }
   ],
   "source": [
    "%%time\n",
    "start = time.time()\n",
    "predictions_Cat = model_cat.predict(features_valid_scaled)\n",
    "CBR_RMSE = sqrt(mean_squared_error(target_valid, predictions_Cat))\n",
    "end = time.time()\n",
    "time_cat_pred =(end - start)\n",
    "\n",
    "print(CBR_RMSE)"
   ]
  },
  {
   "cell_type": "markdown",
   "metadata": {},
   "source": [
    "### LGBMRegressor "
   ]
  },
  {
   "cell_type": "code",
   "execution_count": 49,
   "metadata": {},
   "outputs": [
    {
     "name": "stdout",
     "output_type": "stream",
     "text": [
      "CPU times: user 23min 4s, sys: 18.9 s, total: 23min 23s\n",
      "Wall time: 23min 35s\n"
     ]
    },
    {
     "data": {
      "text/plain": [
       "1415.463531255722"
      ]
     },
     "execution_count": 49,
     "metadata": {},
     "output_type": "execute_result"
    }
   ],
   "source": [
    "%%time\n",
    "start = time.time()\n",
    "\n",
    "model_LGBMR = LGBMRegressor(learning_rate=0.1, num_leaves=200, random_state=123)\n",
    "model_LGBMR.fit(features_train_scaled, target_train)\n",
    "\n",
    "end = time.time()\n",
    "time_LGBMR_fit =(end - start)\n",
    "time_LGBMR_fit"
   ]
  },
  {
   "cell_type": "code",
   "execution_count": 50,
   "metadata": {},
   "outputs": [
    {
     "name": "stdout",
     "output_type": "stream",
     "text": [
      "1512.438156019807\n",
      "CPU times: user 553 ms, sys: 6.01 ms, total: 559 ms\n",
      "Wall time: 596 ms\n"
     ]
    }
   ],
   "source": [
    "%%time\n",
    "start = time.time()\n",
    "\n",
    "predictions_LGBMR = model_LGBMR.predict(features_valid_scaled)\n",
    "LGBMR_RMSE = sqrt(mean_squared_error(target_valid, predictions_LGBMR))\n",
    "\n",
    "end = time.time()\n",
    "time_LGBMR_pred =(end - start)\n",
    "\n",
    "print(LGBMR_RMSE)"
   ]
  },
  {
   "cell_type": "markdown",
   "metadata": {},
   "source": [
    "было опробировано три модели:\n",
    "\n",
    "1. DecisionTreeRegressor\n",
    "2. CatBoostRegressor\n",
    "3. LGBMRegressor\n",
    "\n",
    "самым быстрым получилось дерево решений, однако качество оставляет жедать лучшего\n",
    "\n",
    "LGBM напротив - оказалось самой лучшей по критерию качества, однако времени занимает очень много\n",
    "\n",
    "выберем средний вариант - CatBoostRegressor. Эта модель дает неплохой результат по качеству и по времени\n"
   ]
  },
  {
   "cell_type": "markdown",
   "metadata": {},
   "source": []
  },
  {
   "cell_type": "markdown",
   "metadata": {},
   "source": [
    "## Анализ моделей"
   ]
  },
  {
   "cell_type": "code",
   "execution_count": 51,
   "metadata": {},
   "outputs": [
    {
     "data": {
      "text/html": [
       "<div>\n",
       "<style scoped>\n",
       "    .dataframe tbody tr th:only-of-type {\n",
       "        vertical-align: middle;\n",
       "    }\n",
       "\n",
       "    .dataframe tbody tr th {\n",
       "        vertical-align: top;\n",
       "    }\n",
       "\n",
       "    .dataframe thead th {\n",
       "        text-align: right;\n",
       "    }\n",
       "</style>\n",
       "<table border=\"1\" class=\"dataframe\">\n",
       "  <thead>\n",
       "    <tr style=\"text-align: right;\">\n",
       "      <th></th>\n",
       "      <th>RMSE</th>\n",
       "      <th>Время обучения в секундах</th>\n",
       "      <th>Время предсказания в секундах</th>\n",
       "    </tr>\n",
       "  </thead>\n",
       "  <tbody>\n",
       "    <tr>\n",
       "      <th>DecisionTreeRegressor</th>\n",
       "      <td>2210.978954</td>\n",
       "      <td>0.163656</td>\n",
       "      <td>0.006659</td>\n",
       "    </tr>\n",
       "    <tr>\n",
       "      <th>CatBoostRegressor</th>\n",
       "      <td>1675.223599</td>\n",
       "      <td>1.653708</td>\n",
       "      <td>0.012228</td>\n",
       "    </tr>\n",
       "    <tr>\n",
       "      <th>LGBMRegressor</th>\n",
       "      <td>1512.438156</td>\n",
       "      <td>1415.463531</td>\n",
       "      <td>0.594397</td>\n",
       "    </tr>\n",
       "  </tbody>\n",
       "</table>\n",
       "</div>"
      ],
      "text/plain": [
       "                              RMSE  Время обучения в секундах  \\\n",
       "DecisionTreeRegressor  2210.978954                   0.163656   \n",
       "CatBoostRegressor      1675.223599                   1.653708   \n",
       "LGBMRegressor          1512.438156                1415.463531   \n",
       "\n",
       "                       Время предсказания в секундах  \n",
       "DecisionTreeRegressor                       0.006659  \n",
       "CatBoostRegressor                           0.012228  \n",
       "LGBMRegressor                               0.594397  "
      ]
     },
     "execution_count": 51,
     "metadata": {},
     "output_type": "execute_result"
    }
   ],
   "source": [
    "index = ['DecisionTreeRegressor','CatBoostRegressor','LGBMRegressor']\n",
    "\n",
    "data_rmse = {'RMSE':[DTR_RMSE,CBR_RMSE,LGBMR_RMSE],\n",
    "        'Время обучения в секундах':[time_DTR_fit,time_cat_fit,time_LGBMR_fit],\n",
    "        'Время предсказания в секундах':[time_DTR_pred,time_cat_pred,time_LGBMR_pred]}\n",
    "\n",
    "final_data = pd.DataFrame(data=data_rmse, index=index)\n",
    "final_data"
   ]
  },
  {
   "cell_type": "code",
   "execution_count": 52,
   "metadata": {
    "scrolled": true
   },
   "outputs": [
    {
     "name": "stdout",
     "output_type": "stream",
     "text": [
      "1667.5621058351678\n"
     ]
    }
   ],
   "source": [
    "predictions_CBR_TEST = model_cat.predict(features_test_scaled)\n",
    "CBR_RMSE_TEST = sqrt(mean_squared_error(target_test, predictions_CBR_TEST))\n",
    "print(CBR_RMSE_TEST)"
   ]
  },
  {
   "cell_type": "markdown",
   "metadata": {},
   "source": [
    "В данном проекте было выполнено:\n",
    "\n",
    "1. Подготовка данных\n",
    "- проверка данных\n",
    "- устранение пропусков и выбросов\n",
    "- подготовка данных к обучению модели с помощью `Mean Encoding`\n",
    "- разделение на выборки\n",
    "\n",
    "2. обучение моделей\n",
    "- обучение `DecisionTreeRegressor`\n",
    "- `CatBoostRegressor`\n",
    "- `LGBMRegressor`\n",
    "- было замерено время обучения и предсказания для каждой модели\n",
    "\n",
    "3. анализ модели\n",
    "- была выбрана лучшая модель по соотношению качество/скорость - `CatBoostRegressor`\n",
    "- проверена на тестовой выборке \n",
    "\n",
    "общий вывод и рекомендации по дальнейшей работе: \n",
    "\n",
    "- в данном проекте мы упустили много данных - 27%, в будущем этот показатель можно улучшить \n",
    "\n",
    "- было проверено всего три модели, поэтому в будущем можно опробировать еще несколько \n",
    "\n"
   ]
  }
 ],
 "metadata": {
  "ExecuteTimeLog": [
   {
    "duration": 454,
    "start_time": "2023-05-21T09:46:35.796Z"
   },
   {
    "duration": 1366,
    "start_time": "2023-05-21T09:46:59.668Z"
   },
   {
    "duration": 24,
    "start_time": "2023-05-21T09:47:12.452Z"
   },
   {
    "duration": 123,
    "start_time": "2023-05-21T09:48:06.746Z"
   },
   {
    "duration": 114,
    "start_time": "2023-05-21T09:48:39.602Z"
   },
   {
    "duration": 45,
    "start_time": "2023-05-21T12:35:45.372Z"
   },
   {
    "duration": 399,
    "start_time": "2023-05-21T12:35:51.752Z"
   },
   {
    "duration": 2800,
    "start_time": "2023-05-21T12:35:54.499Z"
   },
   {
    "duration": 31,
    "start_time": "2023-05-21T12:36:08.847Z"
   },
   {
    "duration": 8,
    "start_time": "2023-05-21T12:36:22.992Z"
   },
   {
    "duration": 40,
    "start_time": "2023-05-21T12:36:45.992Z"
   },
   {
    "duration": 36,
    "start_time": "2023-05-21T12:37:45.353Z"
   },
   {
    "duration": 45,
    "start_time": "2023-05-21T12:46:02.376Z"
   },
   {
    "duration": 45,
    "start_time": "2023-05-21T12:48:12.339Z"
   },
   {
    "duration": 44,
    "start_time": "2023-05-21T12:48:28.156Z"
   },
   {
    "duration": 39,
    "start_time": "2023-05-21T12:48:39.915Z"
   },
   {
    "duration": 62,
    "start_time": "2023-05-21T12:48:48.437Z"
   },
   {
    "duration": 47,
    "start_time": "2023-05-21T12:48:57.275Z"
   },
   {
    "duration": 53,
    "start_time": "2023-05-21T12:49:31.556Z"
   },
   {
    "duration": 73,
    "start_time": "2023-05-21T12:49:42.515Z"
   },
   {
    "duration": 386,
    "start_time": "2023-05-21T13:12:55.058Z"
   },
   {
    "duration": 792,
    "start_time": "2023-05-21T13:12:55.446Z"
   },
   {
    "duration": 26,
    "start_time": "2023-05-21T13:12:56.239Z"
   },
   {
    "duration": 129,
    "start_time": "2023-05-21T13:12:56.267Z"
   },
   {
    "duration": 55,
    "start_time": "2023-05-21T13:12:56.398Z"
   },
   {
    "duration": 134,
    "start_time": "2023-05-21T13:12:56.455Z"
   },
   {
    "duration": 32,
    "start_time": "2023-05-21T13:12:56.591Z"
   },
   {
    "duration": 41,
    "start_time": "2023-05-21T13:12:56.625Z"
   },
   {
    "duration": 56,
    "start_time": "2023-05-21T13:16:51.248Z"
   },
   {
    "duration": 111,
    "start_time": "2023-05-21T13:17:03.077Z"
   },
   {
    "duration": 52,
    "start_time": "2023-05-21T13:17:10.968Z"
   },
   {
    "duration": 123,
    "start_time": "2023-05-21T13:37:01.484Z"
   },
   {
    "duration": 5,
    "start_time": "2023-05-21T13:37:23.226Z"
   },
   {
    "duration": 7,
    "start_time": "2023-05-21T13:37:48.584Z"
   },
   {
    "duration": 5,
    "start_time": "2023-05-21T13:38:02.114Z"
   },
   {
    "duration": 5,
    "start_time": "2023-05-21T13:43:28.133Z"
   },
   {
    "duration": 4,
    "start_time": "2023-05-21T13:45:05.267Z"
   },
   {
    "duration": 47,
    "start_time": "2023-05-21T13:49:07.861Z"
   },
   {
    "duration": 165,
    "start_time": "2023-05-21T13:49:39.409Z"
   },
   {
    "duration": 238,
    "start_time": "2023-05-21T13:51:57.607Z"
   },
   {
    "duration": 209,
    "start_time": "2023-05-21T13:52:42.685Z"
   },
   {
    "duration": 216,
    "start_time": "2023-05-21T13:52:59.197Z"
   },
   {
    "duration": 240,
    "start_time": "2023-05-21T13:53:30.408Z"
   },
   {
    "duration": 7,
    "start_time": "2023-05-21T13:54:35.379Z"
   },
   {
    "duration": 9,
    "start_time": "2023-05-21T13:54:42.471Z"
   },
   {
    "duration": 242,
    "start_time": "2023-05-21T13:54:49.447Z"
   },
   {
    "duration": 229,
    "start_time": "2023-05-21T13:57:29.197Z"
   },
   {
    "duration": 269,
    "start_time": "2023-05-21T13:57:39.088Z"
   },
   {
    "duration": 19,
    "start_time": "2023-05-21T13:58:48.279Z"
   },
   {
    "duration": 396,
    "start_time": "2023-05-21T16:37:44.706Z"
   },
   {
    "duration": 1025,
    "start_time": "2023-05-21T16:37:46.712Z"
   },
   {
    "duration": 20,
    "start_time": "2023-05-21T16:37:49.377Z"
   },
   {
    "duration": 141,
    "start_time": "2023-05-21T16:37:51.656Z"
   },
   {
    "duration": 118,
    "start_time": "2023-05-21T16:37:55.165Z"
   },
   {
    "duration": 126,
    "start_time": "2023-05-21T16:38:53.897Z"
   },
   {
    "duration": 272,
    "start_time": "2023-05-21T16:40:09.817Z"
   },
   {
    "duration": 78,
    "start_time": "2023-05-21T16:40:20.711Z"
   },
   {
    "duration": 236,
    "start_time": "2023-05-21T16:41:09.277Z"
   },
   {
    "duration": 260,
    "start_time": "2023-05-21T16:41:23.496Z"
   },
   {
    "duration": 301,
    "start_time": "2023-05-21T17:01:18.416Z"
   },
   {
    "duration": 738,
    "start_time": "2023-05-21T17:01:23.229Z"
   },
   {
    "duration": 389,
    "start_time": "2023-05-24T19:40:18.772Z"
   },
   {
    "duration": 1124,
    "start_time": "2023-05-24T19:40:19.163Z"
   },
   {
    "duration": 29,
    "start_time": "2023-05-24T19:40:20.288Z"
   },
   {
    "duration": 160,
    "start_time": "2023-05-24T19:40:20.319Z"
   },
   {
    "duration": 742,
    "start_time": "2023-05-24T19:40:20.481Z"
   },
   {
    "duration": 4,
    "start_time": "2023-05-24T19:40:21.224Z"
   },
   {
    "duration": 318,
    "start_time": "2023-05-24T19:40:21.229Z"
   },
   {
    "duration": 66,
    "start_time": "2023-05-24T19:41:33.364Z"
   },
   {
    "duration": 2,
    "start_time": "2023-05-24T19:41:55.308Z"
   },
   {
    "duration": 6,
    "start_time": "2023-05-24T19:41:58.757Z"
   },
   {
    "duration": 145,
    "start_time": "2023-05-24T19:43:30.121Z"
   },
   {
    "duration": 7,
    "start_time": "2023-05-24T19:44:27.514Z"
   },
   {
    "duration": 136,
    "start_time": "2023-05-24T19:45:09.655Z"
   },
   {
    "duration": 34,
    "start_time": "2023-05-24T20:35:42.209Z"
   },
   {
    "duration": 132,
    "start_time": "2023-05-24T20:37:09.793Z"
   },
   {
    "duration": 127,
    "start_time": "2023-05-24T20:38:31.993Z"
   },
   {
    "duration": 141,
    "start_time": "2023-05-24T20:38:50.998Z"
   },
   {
    "duration": 147,
    "start_time": "2023-05-24T20:39:02.594Z"
   },
   {
    "duration": 178,
    "start_time": "2023-05-24T20:41:25.156Z"
   },
   {
    "duration": 341,
    "start_time": "2023-05-24T20:42:08.546Z"
   },
   {
    "duration": 737,
    "start_time": "2023-05-24T20:42:08.889Z"
   },
   {
    "duration": 18,
    "start_time": "2023-05-24T20:42:09.628Z"
   },
   {
    "duration": 146,
    "start_time": "2023-05-24T20:42:09.648Z"
   },
   {
    "duration": 674,
    "start_time": "2023-05-24T20:42:09.796Z"
   },
   {
    "duration": 2,
    "start_time": "2023-05-24T20:42:10.472Z"
   },
   {
    "duration": 256,
    "start_time": "2023-05-24T20:42:10.476Z"
   },
   {
    "duration": 209,
    "start_time": "2023-05-24T20:42:10.733Z"
   },
   {
    "duration": 149,
    "start_time": "2023-05-24T20:42:45.050Z"
   },
   {
    "duration": 155,
    "start_time": "2023-05-24T20:42:51.070Z"
   },
   {
    "duration": 141,
    "start_time": "2023-05-24T20:43:07.293Z"
   },
   {
    "duration": 1120,
    "start_time": "2023-05-24T20:52:42.762Z"
   },
   {
    "duration": 669,
    "start_time": "2023-05-24T20:53:01.412Z"
   },
   {
    "duration": 375,
    "start_time": "2023-05-24T20:53:19.407Z"
   },
   {
    "duration": 788,
    "start_time": "2023-05-24T20:53:19.784Z"
   },
   {
    "duration": 26,
    "start_time": "2023-05-24T20:53:20.576Z"
   },
   {
    "duration": 146,
    "start_time": "2023-05-24T20:53:20.604Z"
   },
   {
    "duration": 1045,
    "start_time": "2023-05-24T20:53:20.752Z"
   },
   {
    "duration": 3,
    "start_time": "2023-05-24T20:53:21.799Z"
   },
   {
    "duration": 271,
    "start_time": "2023-05-24T20:53:21.804Z"
   },
   {
    "duration": 224,
    "start_time": "2023-05-24T20:53:22.095Z"
   },
   {
    "duration": 568,
    "start_time": "2023-05-24T20:53:46.953Z"
   },
   {
    "duration": 423,
    "start_time": "2023-05-24T20:53:53.065Z"
   },
   {
    "duration": 755,
    "start_time": "2023-05-24T20:53:53.490Z"
   },
   {
    "duration": 18,
    "start_time": "2023-05-24T20:53:54.247Z"
   },
   {
    "duration": 131,
    "start_time": "2023-05-24T20:53:54.266Z"
   },
   {
    "duration": 921,
    "start_time": "2023-05-24T20:53:54.398Z"
   },
   {
    "duration": 3,
    "start_time": "2023-05-24T20:53:55.320Z"
   },
   {
    "duration": 242,
    "start_time": "2023-05-24T20:53:55.325Z"
   },
   {
    "duration": 203,
    "start_time": "2023-05-24T20:53:55.569Z"
   },
   {
    "duration": 367,
    "start_time": "2023-05-24T21:20:58.714Z"
   },
   {
    "duration": 749,
    "start_time": "2023-05-24T21:20:59.083Z"
   },
   {
    "duration": 18,
    "start_time": "2023-05-24T21:20:59.833Z"
   },
   {
    "duration": 143,
    "start_time": "2023-05-24T21:20:59.853Z"
   },
   {
    "duration": 948,
    "start_time": "2023-05-24T21:20:59.998Z"
   },
   {
    "duration": 2,
    "start_time": "2023-05-24T21:21:00.948Z"
   },
   {
    "duration": 292,
    "start_time": "2023-05-24T21:21:00.952Z"
   },
   {
    "duration": 170,
    "start_time": "2023-05-24T21:21:01.246Z"
   },
   {
    "duration": 167,
    "start_time": "2023-05-24T21:23:52.002Z"
   },
   {
    "duration": 115,
    "start_time": "2023-05-24T21:27:40.285Z"
   },
   {
    "duration": 414,
    "start_time": "2023-05-25T19:31:26.689Z"
   },
   {
    "duration": 2961,
    "start_time": "2023-05-25T19:31:27.105Z"
   },
   {
    "duration": 23,
    "start_time": "2023-05-25T19:31:30.068Z"
   },
   {
    "duration": 128,
    "start_time": "2023-05-25T19:31:30.092Z"
   },
   {
    "duration": 1143,
    "start_time": "2023-05-25T19:31:30.222Z"
   },
   {
    "duration": 13,
    "start_time": "2023-05-25T19:31:31.367Z"
   },
   {
    "duration": 268,
    "start_time": "2023-05-25T19:31:31.382Z"
   },
   {
    "duration": 192,
    "start_time": "2023-05-25T19:31:31.652Z"
   },
   {
    "duration": 114,
    "start_time": "2023-05-25T19:31:31.846Z"
   },
   {
    "duration": 4,
    "start_time": "2023-05-25T19:33:26.625Z"
   },
   {
    "duration": 4,
    "start_time": "2023-05-25T19:35:38.752Z"
   },
   {
    "duration": 73,
    "start_time": "2023-05-25T19:35:42.883Z"
   },
   {
    "duration": 11,
    "start_time": "2023-05-25T19:35:56.730Z"
   },
   {
    "duration": 44,
    "start_time": "2023-05-25T19:36:17.019Z"
   },
   {
    "duration": 218,
    "start_time": "2023-05-25T19:36:22.732Z"
   },
   {
    "duration": 198,
    "start_time": "2023-05-25T19:36:35.248Z"
   },
   {
    "duration": 7,
    "start_time": "2023-05-25T19:37:29.324Z"
   },
   {
    "duration": 36,
    "start_time": "2023-05-25T19:37:35.438Z"
   },
   {
    "duration": 9,
    "start_time": "2023-05-25T19:37:58.386Z"
   },
   {
    "duration": 4,
    "start_time": "2023-05-25T19:44:08.489Z"
   },
   {
    "duration": 191,
    "start_time": "2023-05-25T19:44:13.307Z"
   },
   {
    "duration": 35,
    "start_time": "2023-05-25T19:44:52.858Z"
   },
   {
    "duration": 41,
    "start_time": "2023-05-25T19:45:24.299Z"
   },
   {
    "duration": 10,
    "start_time": "2023-05-25T19:47:05.790Z"
   },
   {
    "duration": 33,
    "start_time": "2023-05-25T19:47:11.934Z"
   },
   {
    "duration": 13,
    "start_time": "2023-05-25T19:54:53.288Z"
   },
   {
    "duration": 11,
    "start_time": "2023-05-25T19:55:00.252Z"
   },
   {
    "duration": 10,
    "start_time": "2023-05-25T19:55:10.897Z"
   },
   {
    "duration": 10,
    "start_time": "2023-05-25T19:55:18.273Z"
   },
   {
    "duration": 301,
    "start_time": "2023-05-25T19:55:36.704Z"
   },
   {
    "duration": 15,
    "start_time": "2023-05-25T19:56:25.283Z"
   },
   {
    "duration": 53,
    "start_time": "2023-05-25T19:56:34.997Z"
   },
   {
    "duration": 440,
    "start_time": "2023-05-25T19:57:34.499Z"
   },
   {
    "duration": 367,
    "start_time": "2023-05-25T19:58:53.452Z"
   },
   {
    "duration": 454,
    "start_time": "2023-05-25T19:58:59.995Z"
   },
   {
    "duration": 97,
    "start_time": "2023-05-25T20:02:41.576Z"
   },
   {
    "duration": 854,
    "start_time": "2023-05-25T20:10:29.877Z"
   },
   {
    "duration": 1176,
    "start_time": "2023-05-25T20:13:07.776Z"
   },
   {
    "duration": 357,
    "start_time": "2023-05-25T20:20:54.650Z"
   },
   {
    "duration": 7,
    "start_time": "2023-05-25T20:26:11.899Z"
   },
   {
    "duration": 6,
    "start_time": "2023-05-25T20:26:19.451Z"
   },
   {
    "duration": 282,
    "start_time": "2023-05-25T20:27:37.536Z"
   },
   {
    "duration": 19,
    "start_time": "2023-05-25T20:29:20.542Z"
   },
   {
    "duration": 382,
    "start_time": "2023-05-25T20:29:50.098Z"
   },
   {
    "duration": 797,
    "start_time": "2023-05-25T20:29:50.482Z"
   },
   {
    "duration": 24,
    "start_time": "2023-05-25T20:29:51.288Z"
   },
   {
    "duration": 152,
    "start_time": "2023-05-25T20:29:51.314Z"
   },
   {
    "duration": 1006,
    "start_time": "2023-05-25T20:29:51.468Z"
   },
   {
    "duration": 954,
    "start_time": "2023-05-25T20:29:52.477Z"
   },
   {
    "duration": 3,
    "start_time": "2023-05-25T20:29:53.433Z"
   },
   {
    "duration": 263,
    "start_time": "2023-05-25T20:29:53.437Z"
   },
   {
    "duration": 185,
    "start_time": "2023-05-25T20:29:53.702Z"
   },
   {
    "duration": 114,
    "start_time": "2023-05-25T20:29:53.889Z"
   },
   {
    "duration": 235,
    "start_time": "2023-05-25T20:29:54.005Z"
   },
   {
    "duration": 97,
    "start_time": "2023-05-25T20:29:54.242Z"
   },
   {
    "duration": 1092,
    "start_time": "2023-05-25T20:29:54.340Z"
   },
   {
    "duration": 385,
    "start_time": "2023-05-25T20:29:55.434Z"
   },
   {
    "duration": 16,
    "start_time": "2023-05-25T20:29:55.821Z"
   },
   {
    "duration": 291,
    "start_time": "2023-05-25T20:29:55.839Z"
   },
   {
    "duration": 317,
    "start_time": "2023-05-25T20:39:20.147Z"
   },
   {
    "duration": 25,
    "start_time": "2023-05-25T20:41:07.564Z"
   },
   {
    "duration": 80,
    "start_time": "2023-05-25T20:42:30.174Z"
   },
   {
    "duration": 296,
    "start_time": "2023-05-25T20:42:34.697Z"
   },
   {
    "duration": 265,
    "start_time": "2023-05-25T20:44:53.746Z"
   },
   {
    "duration": 1584,
    "start_time": "2023-05-25T20:45:03.858Z"
   },
   {
    "duration": 294,
    "start_time": "2023-05-25T20:45:40.961Z"
   },
   {
    "duration": 382,
    "start_time": "2023-05-27T17:59:06.822Z"
   },
   {
    "duration": 1108,
    "start_time": "2023-05-27T17:59:07.207Z"
   },
   {
    "duration": 21,
    "start_time": "2023-05-27T17:59:08.316Z"
   },
   {
    "duration": 130,
    "start_time": "2023-05-27T17:59:08.338Z"
   },
   {
    "duration": 1103,
    "start_time": "2023-05-27T17:59:08.471Z"
   },
   {
    "duration": 793,
    "start_time": "2023-05-27T17:59:09.575Z"
   },
   {
    "duration": 3,
    "start_time": "2023-05-27T17:59:10.370Z"
   },
   {
    "duration": 264,
    "start_time": "2023-05-27T17:59:10.374Z"
   },
   {
    "duration": 159,
    "start_time": "2023-05-27T17:59:10.639Z"
   },
   {
    "duration": 108,
    "start_time": "2023-05-27T17:59:10.800Z"
   },
   {
    "duration": 196,
    "start_time": "2023-05-27T17:59:10.910Z"
   },
   {
    "duration": 92,
    "start_time": "2023-05-27T17:59:11.107Z"
   },
   {
    "duration": 913,
    "start_time": "2023-05-27T17:59:11.200Z"
   },
   {
    "duration": 14,
    "start_time": "2023-05-27T17:59:12.116Z"
   },
   {
    "duration": 225,
    "start_time": "2023-05-27T17:59:12.131Z"
   },
   {
    "duration": 251,
    "start_time": "2023-05-27T17:59:12.357Z"
   },
   {
    "duration": 281,
    "start_time": "2023-05-27T17:59:12.609Z"
   },
   {
    "duration": 234,
    "start_time": "2023-05-27T18:00:33.596Z"
   },
   {
    "duration": 96,
    "start_time": "2023-05-27T18:00:51.341Z"
   },
   {
    "duration": 11,
    "start_time": "2023-05-27T18:01:09.407Z"
   },
   {
    "duration": 308,
    "start_time": "2023-05-27T18:01:18.025Z"
   },
   {
    "duration": 341,
    "start_time": "2023-05-27T18:02:02.323Z"
   },
   {
    "duration": 397,
    "start_time": "2023-05-27T18:02:13.105Z"
   },
   {
    "duration": 1267,
    "start_time": "2023-05-27T18:02:13.507Z"
   },
   {
    "duration": 36,
    "start_time": "2023-05-27T18:02:14.775Z"
   },
   {
    "duration": 149,
    "start_time": "2023-05-27T18:02:14.812Z"
   },
   {
    "duration": 951,
    "start_time": "2023-05-27T18:02:14.964Z"
   },
   {
    "duration": 961,
    "start_time": "2023-05-27T18:02:15.919Z"
   },
   {
    "duration": 7,
    "start_time": "2023-05-27T18:02:16.882Z"
   },
   {
    "duration": 358,
    "start_time": "2023-05-27T18:02:16.891Z"
   },
   {
    "duration": 177,
    "start_time": "2023-05-27T18:02:17.250Z"
   },
   {
    "duration": 123,
    "start_time": "2023-05-27T18:02:17.429Z"
   },
   {
    "duration": 206,
    "start_time": "2023-05-27T18:02:17.554Z"
   },
   {
    "duration": 99,
    "start_time": "2023-05-27T18:02:17.761Z"
   },
   {
    "duration": 954,
    "start_time": "2023-05-27T18:02:17.862Z"
   },
   {
    "duration": 14,
    "start_time": "2023-05-27T18:02:18.818Z"
   },
   {
    "duration": 275,
    "start_time": "2023-05-27T18:02:18.834Z"
   },
   {
    "duration": 248,
    "start_time": "2023-05-27T18:02:19.111Z"
   },
   {
    "duration": 313,
    "start_time": "2023-05-27T18:02:19.361Z"
   },
   {
    "duration": 260,
    "start_time": "2023-05-27T18:03:07.698Z"
   },
   {
    "duration": 300,
    "start_time": "2023-05-27T18:07:30.000Z"
   },
   {
    "duration": 362,
    "start_time": "2023-05-27T18:07:58.441Z"
   },
   {
    "duration": 430,
    "start_time": "2023-05-27T18:08:10.442Z"
   },
   {
    "duration": 405,
    "start_time": "2023-05-27T18:17:05.064Z"
   },
   {
    "duration": 393,
    "start_time": "2023-05-27T18:17:46.436Z"
   },
   {
    "duration": 60,
    "start_time": "2023-05-28T10:46:10.605Z"
   },
   {
    "duration": 437,
    "start_time": "2023-05-28T10:46:16.645Z"
   },
   {
    "duration": 1241,
    "start_time": "2023-05-28T10:46:17.084Z"
   },
   {
    "duration": 33,
    "start_time": "2023-05-28T10:46:18.327Z"
   },
   {
    "duration": 162,
    "start_time": "2023-05-28T10:46:18.362Z"
   },
   {
    "duration": 1376,
    "start_time": "2023-05-28T10:46:18.526Z"
   },
   {
    "duration": 1113,
    "start_time": "2023-05-28T10:46:19.904Z"
   },
   {
    "duration": 4,
    "start_time": "2023-05-28T10:46:21.019Z"
   },
   {
    "duration": 329,
    "start_time": "2023-05-28T10:46:21.025Z"
   },
   {
    "duration": 205,
    "start_time": "2023-05-28T10:46:21.356Z"
   },
   {
    "duration": 149,
    "start_time": "2023-05-28T10:46:21.563Z"
   },
   {
    "duration": 265,
    "start_time": "2023-05-28T10:46:21.714Z"
   },
   {
    "duration": 138,
    "start_time": "2023-05-28T10:46:21.982Z"
   },
   {
    "duration": 1312,
    "start_time": "2023-05-28T10:46:22.122Z"
   },
   {
    "duration": 25,
    "start_time": "2023-05-28T10:46:23.437Z"
   },
   {
    "duration": 465,
    "start_time": "2023-05-28T10:46:23.464Z"
   },
   {
    "duration": 340,
    "start_time": "2023-05-28T10:46:23.931Z"
   },
   {
    "duration": 412,
    "start_time": "2023-05-28T10:46:24.272Z"
   },
   {
    "duration": 409,
    "start_time": "2023-05-28T10:46:24.685Z"
   },
   {
    "duration": 516,
    "start_time": "2023-05-28T10:46:25.096Z"
   },
   {
    "duration": 34,
    "start_time": "2023-05-28T10:46:25.614Z"
   },
   {
    "duration": 117,
    "start_time": "2023-05-28T10:47:06.460Z"
   },
   {
    "duration": 712,
    "start_time": "2023-05-28T10:47:29.382Z"
   },
   {
    "duration": 87,
    "start_time": "2023-05-28T10:47:38.699Z"
   },
   {
    "duration": 42,
    "start_time": "2023-05-28T10:53:11.261Z"
   },
   {
    "duration": 4558,
    "start_time": "2023-05-28T10:58:05.388Z"
   },
   {
    "duration": 11,
    "start_time": "2023-05-28T11:05:05.003Z"
   },
   {
    "duration": 3,
    "start_time": "2023-05-28T11:05:33.727Z"
   },
   {
    "duration": 5001,
    "start_time": "2023-05-28T11:05:40.565Z"
   },
   {
    "duration": 3,
    "start_time": "2023-05-28T11:06:49.118Z"
   },
   {
    "duration": 111,
    "start_time": "2023-05-28T11:11:10.169Z"
   },
   {
    "duration": 152,
    "start_time": "2023-05-28T11:11:47.416Z"
   },
   {
    "duration": 1159,
    "start_time": "2023-05-28T11:15:24.522Z"
   },
   {
    "duration": 923,
    "start_time": "2023-05-28T11:15:25.683Z"
   },
   {
    "duration": 21,
    "start_time": "2023-05-28T11:15:26.608Z"
   },
   {
    "duration": 169,
    "start_time": "2023-05-28T11:15:26.631Z"
   },
   {
    "duration": 1121,
    "start_time": "2023-05-28T11:15:26.801Z"
   },
   {
    "duration": 1029,
    "start_time": "2023-05-28T11:15:27.925Z"
   },
   {
    "duration": 4,
    "start_time": "2023-05-28T11:15:28.956Z"
   },
   {
    "duration": 304,
    "start_time": "2023-05-28T11:15:28.962Z"
   },
   {
    "duration": 191,
    "start_time": "2023-05-28T11:15:29.268Z"
   },
   {
    "duration": 138,
    "start_time": "2023-05-28T11:15:29.463Z"
   },
   {
    "duration": 247,
    "start_time": "2023-05-28T11:15:29.603Z"
   },
   {
    "duration": 127,
    "start_time": "2023-05-28T11:15:29.852Z"
   },
   {
    "duration": 1117,
    "start_time": "2023-05-28T11:15:29.980Z"
   },
   {
    "duration": 16,
    "start_time": "2023-05-28T11:15:31.099Z"
   },
   {
    "duration": 415,
    "start_time": "2023-05-28T11:15:31.116Z"
   },
   {
    "duration": 358,
    "start_time": "2023-05-28T11:15:31.533Z"
   },
   {
    "duration": 389,
    "start_time": "2023-05-28T11:15:31.894Z"
   },
   {
    "duration": 457,
    "start_time": "2023-05-28T11:15:32.285Z"
   },
   {
    "duration": 465,
    "start_time": "2023-05-28T11:15:32.747Z"
   },
   {
    "duration": 152,
    "start_time": "2023-05-28T11:15:33.214Z"
   },
   {
    "duration": 97,
    "start_time": "2023-05-28T11:15:33.368Z"
   },
   {
    "duration": 123,
    "start_time": "2023-05-28T11:15:33.467Z"
   },
   {
    "duration": 4351,
    "start_time": "2023-05-28T11:15:56.539Z"
   },
   {
    "duration": 3,
    "start_time": "2023-05-28T11:18:11.412Z"
   },
   {
    "duration": 75,
    "start_time": "2023-05-28T11:21:13.004Z"
   },
   {
    "duration": 1103,
    "start_time": "2023-05-28T15:30:49.404Z"
   },
   {
    "duration": 2983,
    "start_time": "2023-05-28T15:30:50.510Z"
   },
   {
    "duration": 23,
    "start_time": "2023-05-28T15:30:53.494Z"
   },
   {
    "duration": 120,
    "start_time": "2023-05-28T15:30:53.519Z"
   },
   {
    "duration": 1251,
    "start_time": "2023-05-28T15:30:53.640Z"
   },
   {
    "duration": 1011,
    "start_time": "2023-05-28T15:30:54.893Z"
   },
   {
    "duration": 5,
    "start_time": "2023-05-28T15:30:55.906Z"
   },
   {
    "duration": 270,
    "start_time": "2023-05-28T15:30:55.913Z"
   },
   {
    "duration": 195,
    "start_time": "2023-05-28T15:30:56.184Z"
   },
   {
    "duration": 119,
    "start_time": "2023-05-28T15:30:56.381Z"
   },
   {
    "duration": 231,
    "start_time": "2023-05-28T15:30:56.502Z"
   },
   {
    "duration": 95,
    "start_time": "2023-05-28T15:30:56.734Z"
   },
   {
    "duration": 1211,
    "start_time": "2023-05-28T15:30:56.830Z"
   },
   {
    "duration": 30,
    "start_time": "2023-05-28T15:30:58.043Z"
   },
   {
    "duration": 350,
    "start_time": "2023-05-28T15:30:58.075Z"
   },
   {
    "duration": 310,
    "start_time": "2023-05-28T15:30:58.427Z"
   },
   {
    "duration": 371,
    "start_time": "2023-05-28T15:30:58.739Z"
   },
   {
    "duration": 386,
    "start_time": "2023-05-28T15:30:59.112Z"
   },
   {
    "duration": 387,
    "start_time": "2023-05-28T15:30:59.500Z"
   },
   {
    "duration": 108,
    "start_time": "2023-05-28T15:30:59.888Z"
   },
   {
    "duration": 118,
    "start_time": "2023-05-28T15:30:59.997Z"
   },
   {
    "duration": 201,
    "start_time": "2023-05-28T15:31:00.116Z"
   },
   {
    "duration": 7,
    "start_time": "2023-05-28T15:32:46.441Z"
   },
   {
    "duration": 6,
    "start_time": "2023-05-28T15:33:11.607Z"
   },
   {
    "duration": 72,
    "start_time": "2023-05-28T15:36:22.379Z"
   },
   {
    "duration": 1148,
    "start_time": "2023-05-28T16:02:10.740Z"
   },
   {
    "duration": 841,
    "start_time": "2023-05-28T16:02:11.890Z"
   },
   {
    "duration": 37,
    "start_time": "2023-05-28T16:02:12.733Z"
   },
   {
    "duration": 120,
    "start_time": "2023-05-28T16:02:12.773Z"
   },
   {
    "duration": 1049,
    "start_time": "2023-05-28T16:02:12.896Z"
   },
   {
    "duration": 1055,
    "start_time": "2023-05-28T16:02:13.946Z"
   },
   {
    "duration": 3,
    "start_time": "2023-05-28T16:02:15.003Z"
   },
   {
    "duration": 418,
    "start_time": "2023-05-28T16:02:15.008Z"
   },
   {
    "duration": 205,
    "start_time": "2023-05-28T16:02:15.428Z"
   },
   {
    "duration": 134,
    "start_time": "2023-05-28T16:02:15.635Z"
   },
   {
    "duration": 221,
    "start_time": "2023-05-28T16:02:15.771Z"
   },
   {
    "duration": 104,
    "start_time": "2023-05-28T16:02:15.994Z"
   },
   {
    "duration": 1175,
    "start_time": "2023-05-28T16:02:16.100Z"
   },
   {
    "duration": 17,
    "start_time": "2023-05-28T16:02:17.278Z"
   },
   {
    "duration": 391,
    "start_time": "2023-05-28T16:02:17.297Z"
   },
   {
    "duration": 355,
    "start_time": "2023-05-28T16:02:17.690Z"
   },
   {
    "duration": 343,
    "start_time": "2023-05-28T16:02:18.047Z"
   },
   {
    "duration": 411,
    "start_time": "2023-05-28T16:02:18.394Z"
   },
   {
    "duration": 478,
    "start_time": "2023-05-28T16:02:18.807Z"
   },
   {
    "duration": 118,
    "start_time": "2023-05-28T16:02:19.286Z"
   },
   {
    "duration": 1174,
    "start_time": "2023-05-28T16:02:44.056Z"
   },
   {
    "duration": 2968,
    "start_time": "2023-05-28T16:02:45.232Z"
   },
   {
    "duration": 23,
    "start_time": "2023-05-28T16:02:48.202Z"
   },
   {
    "duration": 127,
    "start_time": "2023-05-28T16:02:48.226Z"
   },
   {
    "duration": 1181,
    "start_time": "2023-05-28T16:02:48.355Z"
   },
   {
    "duration": 1073,
    "start_time": "2023-05-28T16:02:49.539Z"
   },
   {
    "duration": 4,
    "start_time": "2023-05-28T16:02:50.614Z"
   },
   {
    "duration": 283,
    "start_time": "2023-05-28T16:02:50.619Z"
   },
   {
    "duration": 187,
    "start_time": "2023-05-28T16:02:50.904Z"
   },
   {
    "duration": 122,
    "start_time": "2023-05-28T16:02:51.093Z"
   },
   {
    "duration": 240,
    "start_time": "2023-05-28T16:02:51.216Z"
   },
   {
    "duration": 112,
    "start_time": "2023-05-28T16:02:51.458Z"
   },
   {
    "duration": 1211,
    "start_time": "2023-05-28T16:02:51.572Z"
   },
   {
    "duration": 18,
    "start_time": "2023-05-28T16:02:52.786Z"
   },
   {
    "duration": 387,
    "start_time": "2023-05-28T16:02:52.806Z"
   },
   {
    "duration": 307,
    "start_time": "2023-05-28T16:02:53.195Z"
   },
   {
    "duration": 318,
    "start_time": "2023-05-28T16:02:53.504Z"
   },
   {
    "duration": 387,
    "start_time": "2023-05-28T16:02:53.824Z"
   },
   {
    "duration": 404,
    "start_time": "2023-05-28T16:02:54.213Z"
   },
   {
    "duration": 116,
    "start_time": "2023-05-28T16:02:54.618Z"
   },
   {
    "duration": 54,
    "start_time": "2023-05-28T16:03:54.445Z"
   },
   {
    "duration": 8,
    "start_time": "2023-05-28T16:04:01.634Z"
   },
   {
    "duration": 1189,
    "start_time": "2023-05-28T16:04:07.077Z"
   },
   {
    "duration": 2953,
    "start_time": "2023-05-28T16:04:09.195Z"
   },
   {
    "duration": 29,
    "start_time": "2023-05-28T16:04:13.038Z"
   },
   {
    "duration": 129,
    "start_time": "2023-05-28T16:04:17.702Z"
   },
   {
    "duration": 1054,
    "start_time": "2023-05-28T16:04:20.889Z"
   },
   {
    "duration": 1145,
    "start_time": "2023-05-28T16:04:23.777Z"
   },
   {
    "duration": 3,
    "start_time": "2023-05-28T16:04:26.369Z"
   },
   {
    "duration": 270,
    "start_time": "2023-05-28T16:04:30.442Z"
   },
   {
    "duration": 184,
    "start_time": "2023-05-28T16:04:33.411Z"
   },
   {
    "duration": 119,
    "start_time": "2023-05-28T16:04:36.033Z"
   },
   {
    "duration": 277,
    "start_time": "2023-05-28T16:04:38.730Z"
   },
   {
    "duration": 106,
    "start_time": "2023-05-28T16:04:42.976Z"
   },
   {
    "duration": 1218,
    "start_time": "2023-05-28T16:04:45.742Z"
   },
   {
    "duration": 23,
    "start_time": "2023-05-28T16:04:50.146Z"
   },
   {
    "duration": 358,
    "start_time": "2023-05-28T16:04:52.340Z"
   },
   {
    "duration": 291,
    "start_time": "2023-05-28T16:04:55.288Z"
   },
   {
    "duration": 305,
    "start_time": "2023-05-28T16:04:59.145Z"
   },
   {
    "duration": 385,
    "start_time": "2023-05-28T16:05:01.847Z"
   },
   {
    "duration": 386,
    "start_time": "2023-05-28T16:05:04.165Z"
   },
   {
    "duration": 114,
    "start_time": "2023-05-28T16:05:06.700Z"
   },
   {
    "duration": 46,
    "start_time": "2023-05-28T16:21:01.456Z"
   },
   {
    "duration": 1147,
    "start_time": "2023-05-28T16:21:12.550Z"
   },
   {
    "duration": 2738,
    "start_time": "2023-05-28T16:21:13.700Z"
   },
   {
    "duration": 21,
    "start_time": "2023-05-28T16:21:16.440Z"
   },
   {
    "duration": 123,
    "start_time": "2023-05-28T16:21:16.462Z"
   },
   {
    "duration": 982,
    "start_time": "2023-05-28T16:21:16.587Z"
   },
   {
    "duration": 941,
    "start_time": "2023-05-28T16:21:17.570Z"
   },
   {
    "duration": 3,
    "start_time": "2023-05-28T16:21:18.513Z"
   },
   {
    "duration": 260,
    "start_time": "2023-05-28T16:21:18.517Z"
   },
   {
    "duration": 213,
    "start_time": "2023-05-28T16:21:18.779Z"
   },
   {
    "duration": 152,
    "start_time": "2023-05-28T16:21:18.994Z"
   },
   {
    "duration": 237,
    "start_time": "2023-05-28T16:21:19.149Z"
   },
   {
    "duration": 99,
    "start_time": "2023-05-28T16:21:19.387Z"
   },
   {
    "duration": 1092,
    "start_time": "2023-05-28T16:21:19.488Z"
   },
   {
    "duration": 18,
    "start_time": "2023-05-28T16:21:20.583Z"
   },
   {
    "duration": 332,
    "start_time": "2023-05-28T16:21:20.602Z"
   },
   {
    "duration": 300,
    "start_time": "2023-05-28T16:21:20.935Z"
   },
   {
    "duration": 297,
    "start_time": "2023-05-28T16:21:21.237Z"
   },
   {
    "duration": 352,
    "start_time": "2023-05-28T16:21:21.536Z"
   },
   {
    "duration": 366,
    "start_time": "2023-05-28T16:21:21.890Z"
   },
   {
    "duration": 110,
    "start_time": "2023-05-28T16:21:22.258Z"
   },
   {
    "duration": 1104,
    "start_time": "2023-05-28T16:21:44.556Z"
   },
   {
    "duration": 2720,
    "start_time": "2023-05-28T16:21:45.662Z"
   },
   {
    "duration": 26,
    "start_time": "2023-05-28T16:21:48.384Z"
   },
   {
    "duration": 110,
    "start_time": "2023-05-28T16:21:48.411Z"
   },
   {
    "duration": 1039,
    "start_time": "2023-05-28T16:21:48.524Z"
   },
   {
    "duration": 958,
    "start_time": "2023-05-28T16:21:49.565Z"
   },
   {
    "duration": 4,
    "start_time": "2023-05-28T16:21:50.525Z"
   },
   {
    "duration": 259,
    "start_time": "2023-05-28T16:21:50.531Z"
   },
   {
    "duration": 172,
    "start_time": "2023-05-28T16:21:50.791Z"
   },
   {
    "duration": 122,
    "start_time": "2023-05-28T16:21:50.965Z"
   },
   {
    "duration": 220,
    "start_time": "2023-05-28T16:21:51.088Z"
   },
   {
    "duration": 97,
    "start_time": "2023-05-28T16:21:51.310Z"
   },
   {
    "duration": 1115,
    "start_time": "2023-05-28T16:21:51.409Z"
   },
   {
    "duration": 29,
    "start_time": "2023-05-28T16:21:52.528Z"
   },
   {
    "duration": 322,
    "start_time": "2023-05-28T16:21:52.560Z"
   },
   {
    "duration": 292,
    "start_time": "2023-05-28T16:21:52.885Z"
   },
   {
    "duration": 319,
    "start_time": "2023-05-28T16:21:53.180Z"
   },
   {
    "duration": 319,
    "start_time": "2023-05-28T16:21:53.500Z"
   },
   {
    "duration": 374,
    "start_time": "2023-05-28T16:21:53.821Z"
   },
   {
    "duration": 115,
    "start_time": "2023-05-28T16:21:54.197Z"
   },
   {
    "duration": 1056,
    "start_time": "2023-05-28T16:23:27.099Z"
   },
   {
    "duration": 2877,
    "start_time": "2023-05-28T16:23:28.165Z"
   },
   {
    "duration": 27,
    "start_time": "2023-05-28T16:23:31.043Z"
   },
   {
    "duration": 133,
    "start_time": "2023-05-28T16:23:31.072Z"
   },
   {
    "duration": 1001,
    "start_time": "2023-05-28T16:23:31.207Z"
   },
   {
    "duration": 931,
    "start_time": "2023-05-28T16:23:32.209Z"
   },
   {
    "duration": 3,
    "start_time": "2023-05-28T16:23:33.142Z"
   },
   {
    "duration": 269,
    "start_time": "2023-05-28T16:23:33.156Z"
   },
   {
    "duration": 180,
    "start_time": "2023-05-28T16:23:33.427Z"
   },
   {
    "duration": 121,
    "start_time": "2023-05-28T16:23:33.609Z"
   },
   {
    "duration": 231,
    "start_time": "2023-05-28T16:23:33.732Z"
   },
   {
    "duration": 91,
    "start_time": "2023-05-28T16:23:33.965Z"
   },
   {
    "duration": 1029,
    "start_time": "2023-05-28T16:23:34.071Z"
   },
   {
    "duration": 15,
    "start_time": "2023-05-28T16:23:35.103Z"
   },
   {
    "duration": 331,
    "start_time": "2023-05-28T16:23:35.120Z"
   },
   {
    "duration": 280,
    "start_time": "2023-05-28T16:23:35.456Z"
   },
   {
    "duration": 299,
    "start_time": "2023-05-28T16:23:35.738Z"
   },
   {
    "duration": 336,
    "start_time": "2023-05-28T16:23:36.038Z"
   },
   {
    "duration": 368,
    "start_time": "2023-05-28T16:23:36.376Z"
   },
   {
    "duration": 125,
    "start_time": "2023-05-28T16:23:36.746Z"
   },
   {
    "duration": 106,
    "start_time": "2023-05-28T16:23:36.872Z"
   },
   {
    "duration": 0,
    "start_time": "2023-05-28T16:23:36.980Z"
   },
   {
    "duration": 0,
    "start_time": "2023-05-28T16:23:36.981Z"
   },
   {
    "duration": 0,
    "start_time": "2023-05-28T16:23:36.982Z"
   },
   {
    "duration": 1083,
    "start_time": "2023-05-28T16:30:23.656Z"
   },
   {
    "duration": 2791,
    "start_time": "2023-05-28T16:30:24.742Z"
   },
   {
    "duration": 32,
    "start_time": "2023-05-28T16:30:27.535Z"
   },
   {
    "duration": 133,
    "start_time": "2023-05-28T16:30:27.569Z"
   },
   {
    "duration": 995,
    "start_time": "2023-05-28T16:30:27.705Z"
   },
   {
    "duration": 1055,
    "start_time": "2023-05-28T16:30:28.702Z"
   },
   {
    "duration": 3,
    "start_time": "2023-05-28T16:30:29.759Z"
   },
   {
    "duration": 246,
    "start_time": "2023-05-28T16:30:29.764Z"
   },
   {
    "duration": 182,
    "start_time": "2023-05-28T16:30:30.011Z"
   },
   {
    "duration": 115,
    "start_time": "2023-05-28T16:30:30.195Z"
   },
   {
    "duration": 237,
    "start_time": "2023-05-28T16:30:30.312Z"
   },
   {
    "duration": 94,
    "start_time": "2023-05-28T16:30:30.551Z"
   },
   {
    "duration": 1131,
    "start_time": "2023-05-28T16:30:30.647Z"
   },
   {
    "duration": 17,
    "start_time": "2023-05-28T16:30:31.781Z"
   },
   {
    "duration": 331,
    "start_time": "2023-05-28T16:30:31.800Z"
   },
   {
    "duration": 271,
    "start_time": "2023-05-28T16:30:32.133Z"
   },
   {
    "duration": 288,
    "start_time": "2023-05-28T16:30:32.406Z"
   },
   {
    "duration": 320,
    "start_time": "2023-05-28T16:30:32.696Z"
   },
   {
    "duration": 379,
    "start_time": "2023-05-28T16:30:33.018Z"
   },
   {
    "duration": 107,
    "start_time": "2023-05-28T16:30:33.399Z"
   },
   {
    "duration": 21,
    "start_time": "2023-05-28T16:30:33.509Z"
   },
   {
    "duration": 852,
    "start_time": "2023-05-28T16:30:33.532Z"
   },
   {
    "duration": 502,
    "start_time": "2023-05-28T16:30:34.386Z"
   },
   {
    "duration": 567,
    "start_time": "2023-05-28T16:30:34.890Z"
   },
   {
    "duration": 91,
    "start_time": "2023-05-28T16:31:50.896Z"
   },
   {
    "duration": 1043,
    "start_time": "2023-05-28T16:32:10.209Z"
   },
   {
    "duration": 782,
    "start_time": "2023-05-28T16:32:11.254Z"
   },
   {
    "duration": 32,
    "start_time": "2023-05-28T16:32:12.038Z"
   },
   {
    "duration": 122,
    "start_time": "2023-05-28T16:32:12.073Z"
   },
   {
    "duration": 964,
    "start_time": "2023-05-28T16:32:12.198Z"
   },
   {
    "duration": 997,
    "start_time": "2023-05-28T16:32:13.163Z"
   },
   {
    "duration": 3,
    "start_time": "2023-05-28T16:32:14.162Z"
   },
   {
    "duration": 252,
    "start_time": "2023-05-28T16:32:14.167Z"
   },
   {
    "duration": 186,
    "start_time": "2023-05-28T16:32:14.420Z"
   },
   {
    "duration": 116,
    "start_time": "2023-05-28T16:32:14.608Z"
   },
   {
    "duration": 225,
    "start_time": "2023-05-28T16:32:14.726Z"
   },
   {
    "duration": 90,
    "start_time": "2023-05-28T16:32:14.953Z"
   },
   {
    "duration": 1114,
    "start_time": "2023-05-28T16:32:15.045Z"
   },
   {
    "duration": 19,
    "start_time": "2023-05-28T16:32:16.162Z"
   },
   {
    "duration": 327,
    "start_time": "2023-05-28T16:32:16.182Z"
   },
   {
    "duration": 284,
    "start_time": "2023-05-28T16:32:16.511Z"
   },
   {
    "duration": 286,
    "start_time": "2023-05-28T16:32:16.797Z"
   },
   {
    "duration": 347,
    "start_time": "2023-05-28T16:32:17.085Z"
   },
   {
    "duration": 363,
    "start_time": "2023-05-28T16:32:17.434Z"
   },
   {
    "duration": 107,
    "start_time": "2023-05-28T16:32:17.799Z"
   },
   {
    "duration": 107,
    "start_time": "2023-05-28T16:32:17.908Z"
   },
   {
    "duration": 21,
    "start_time": "2023-05-28T16:32:18.017Z"
   },
   {
    "duration": 910,
    "start_time": "2023-05-28T16:32:18.041Z"
   },
   {
    "duration": 512,
    "start_time": "2023-05-28T16:32:18.958Z"
   },
   {
    "duration": 562,
    "start_time": "2023-05-28T16:32:19.472Z"
   },
   {
    "duration": 187,
    "start_time": "2023-05-28T16:37:44.977Z"
   },
   {
    "duration": 18,
    "start_time": "2023-05-28T16:37:50.804Z"
   },
   {
    "duration": 831,
    "start_time": "2023-05-28T16:37:53.270Z"
   },
   {
    "duration": 472,
    "start_time": "2023-05-28T16:37:56.874Z"
   },
   {
    "duration": 283,
    "start_time": "2023-05-28T16:38:10.279Z"
   },
   {
    "duration": 1220,
    "start_time": "2023-05-28T16:38:23.157Z"
   },
   {
    "duration": 839,
    "start_time": "2023-05-28T16:38:24.380Z"
   },
   {
    "duration": 44,
    "start_time": "2023-05-28T16:38:25.223Z"
   },
   {
    "duration": 133,
    "start_time": "2023-05-28T16:38:25.270Z"
   },
   {
    "duration": 1044,
    "start_time": "2023-05-28T16:38:25.407Z"
   },
   {
    "duration": 1130,
    "start_time": "2023-05-28T16:38:26.455Z"
   },
   {
    "duration": 4,
    "start_time": "2023-05-28T16:38:27.587Z"
   },
   {
    "duration": 264,
    "start_time": "2023-05-28T16:38:27.592Z"
   },
   {
    "duration": 184,
    "start_time": "2023-05-28T16:38:27.858Z"
   },
   {
    "duration": 125,
    "start_time": "2023-05-28T16:38:28.044Z"
   },
   {
    "duration": 245,
    "start_time": "2023-05-28T16:38:28.171Z"
   },
   {
    "duration": 124,
    "start_time": "2023-05-28T16:38:28.419Z"
   },
   {
    "duration": 1267,
    "start_time": "2023-05-28T16:38:28.545Z"
   },
   {
    "duration": 16,
    "start_time": "2023-05-28T16:38:29.815Z"
   },
   {
    "duration": 351,
    "start_time": "2023-05-28T16:38:29.833Z"
   },
   {
    "duration": 289,
    "start_time": "2023-05-28T16:38:30.186Z"
   },
   {
    "duration": 312,
    "start_time": "2023-05-28T16:38:30.477Z"
   },
   {
    "duration": 392,
    "start_time": "2023-05-28T16:38:30.790Z"
   },
   {
    "duration": 407,
    "start_time": "2023-05-28T16:38:31.185Z"
   },
   {
    "duration": 129,
    "start_time": "2023-05-28T16:38:31.594Z"
   },
   {
    "duration": 313,
    "start_time": "2023-05-28T16:38:31.725Z"
   },
   {
    "duration": 21,
    "start_time": "2023-05-28T16:38:32.039Z"
   },
   {
    "duration": 821,
    "start_time": "2023-05-28T16:38:32.062Z"
   },
   {
    "duration": 501,
    "start_time": "2023-05-28T16:38:32.885Z"
   },
   {
    "duration": 1579,
    "start_time": "2023-05-28T16:38:33.388Z"
   },
   {
    "duration": 1767,
    "start_time": "2023-05-28T19:08:19.020Z"
   },
   {
    "duration": 1687,
    "start_time": "2023-05-28T19:08:39.107Z"
   },
   {
    "duration": 161347,
    "start_time": "2023-05-28T19:16:26.639Z"
   },
   {
    "duration": 2861,
    "start_time": "2023-05-28T19:24:31.753Z"
   },
   {
    "duration": 452984,
    "start_time": "2023-05-28T19:52:08.158Z"
   },
   {
    "duration": 263937,
    "start_time": "2023-05-28T19:59:49.958Z"
   },
   {
    "duration": 3055,
    "start_time": "2023-05-28T20:04:34.486Z"
   },
   {
    "duration": 4,
    "start_time": "2023-05-28T20:14:48.781Z"
   },
   {
    "duration": 108578,
    "start_time": "2023-05-28T20:19:02.683Z"
   },
   {
    "duration": 94896,
    "start_time": "2023-05-28T20:22:54.970Z"
   },
   {
    "duration": 83070,
    "start_time": "2023-05-28T20:25:54.088Z"
   },
   {
    "duration": 81466,
    "start_time": "2023-05-28T20:28:24.294Z"
   },
   {
    "duration": 4,
    "start_time": "2023-05-28T20:30:43.384Z"
   },
   {
    "duration": 1056,
    "start_time": "2023-05-30T16:10:47.525Z"
   },
   {
    "duration": 2762,
    "start_time": "2023-05-30T16:10:48.583Z"
   },
   {
    "duration": 22,
    "start_time": "2023-05-30T16:10:51.347Z"
   },
   {
    "duration": 105,
    "start_time": "2023-05-30T16:10:51.371Z"
   },
   {
    "duration": 1028,
    "start_time": "2023-05-30T16:10:51.478Z"
   },
   {
    "duration": 863,
    "start_time": "2023-05-30T16:10:52.508Z"
   },
   {
    "duration": 2,
    "start_time": "2023-05-30T16:10:53.373Z"
   },
   {
    "duration": 232,
    "start_time": "2023-05-30T16:10:53.377Z"
   },
   {
    "duration": 158,
    "start_time": "2023-05-30T16:10:53.611Z"
   },
   {
    "duration": 108,
    "start_time": "2023-05-30T16:10:53.771Z"
   },
   {
    "duration": 205,
    "start_time": "2023-05-30T16:10:53.880Z"
   },
   {
    "duration": 84,
    "start_time": "2023-05-30T16:10:54.087Z"
   },
   {
    "duration": 961,
    "start_time": "2023-05-30T16:10:54.172Z"
   },
   {
    "duration": 14,
    "start_time": "2023-05-30T16:10:55.135Z"
   },
   {
    "duration": 283,
    "start_time": "2023-05-30T16:10:55.151Z"
   },
   {
    "duration": 241,
    "start_time": "2023-05-30T16:10:55.436Z"
   },
   {
    "duration": 255,
    "start_time": "2023-05-30T16:10:55.678Z"
   },
   {
    "duration": 286,
    "start_time": "2023-05-30T16:10:55.934Z"
   },
   {
    "duration": 318,
    "start_time": "2023-05-30T16:10:56.222Z"
   },
   {
    "duration": 102,
    "start_time": "2023-05-30T16:10:56.541Z"
   },
   {
    "duration": 251,
    "start_time": "2023-05-30T16:10:56.645Z"
   },
   {
    "duration": 19,
    "start_time": "2023-05-30T16:10:56.898Z"
   },
   {
    "duration": 494,
    "start_time": "2023-05-30T16:10:56.919Z"
   },
   {
    "duration": 140,
    "start_time": "2023-05-30T16:11:48.860Z"
   },
   {
    "duration": 420,
    "start_time": "2023-05-30T16:11:54.924Z"
   },
   {
    "duration": 2611,
    "start_time": "2023-05-30T16:11:57.857Z"
   },
   {
    "duration": 65696,
    "start_time": "2023-05-30T16:13:17.414Z"
   },
   {
    "duration": 3,
    "start_time": "2023-05-30T16:17:27.586Z"
   },
   {
    "duration": 4,
    "start_time": "2023-05-30T16:18:14.860Z"
   },
   {
    "duration": 11,
    "start_time": "2023-05-30T16:18:21.530Z"
   },
   {
    "duration": 4,
    "start_time": "2023-05-30T16:18:23.582Z"
   },
   {
    "duration": 51,
    "start_time": "2023-05-30T16:22:08.025Z"
   },
   {
    "duration": 3,
    "start_time": "2023-05-30T16:22:13.911Z"
   },
   {
    "duration": 20,
    "start_time": "2023-05-30T16:22:23.853Z"
   },
   {
    "duration": 6,
    "start_time": "2023-05-30T16:26:49.420Z"
   },
   {
    "duration": 1186,
    "start_time": "2023-05-30T16:26:56.284Z"
   },
   {
    "duration": 23,
    "start_time": "2023-05-30T16:30:52.120Z"
   },
   {
    "duration": 490,
    "start_time": "2023-05-30T16:31:07.932Z"
   },
   {
    "duration": 1312,
    "start_time": "2023-05-30T16:32:25.137Z"
   },
   {
    "duration": 597,
    "start_time": "2023-05-30T16:32:45.445Z"
   },
   {
    "duration": 344,
    "start_time": "2023-05-30T16:33:01.684Z"
   },
   {
    "duration": 2618,
    "start_time": "2023-05-30T16:33:11.017Z"
   },
   {
    "duration": 6,
    "start_time": "2023-05-30T16:33:18.384Z"
   },
   {
    "duration": 11227,
    "start_time": "2023-05-30T16:33:21.767Z"
   },
   {
    "duration": 4,
    "start_time": "2023-05-30T16:53:19.377Z"
   },
   {
    "duration": 12,
    "start_time": "2023-05-30T16:53:27.323Z"
   },
   {
    "duration": 6,
    "start_time": "2023-05-30T16:53:32.037Z"
   },
   {
    "duration": 13,
    "start_time": "2023-05-30T16:53:35.562Z"
   },
   {
    "duration": 14416,
    "start_time": "2023-05-30T17:01:19.260Z"
   },
   {
    "duration": 15315,
    "start_time": "2023-05-30T17:03:21.319Z"
   },
   {
    "duration": 13145,
    "start_time": "2023-05-30T17:05:04.206Z"
   },
   {
    "duration": 16481,
    "start_time": "2023-05-30T17:06:39.599Z"
   },
   {
    "duration": 0,
    "start_time": "2023-05-30T17:23:13.644Z"
   },
   {
    "duration": 0,
    "start_time": "2023-05-30T17:23:13.646Z"
   },
   {
    "duration": 16973,
    "start_time": "2023-05-30T17:23:19.351Z"
   },
   {
    "duration": 17336,
    "start_time": "2023-05-30T17:23:45.177Z"
   },
   {
    "duration": 18679,
    "start_time": "2023-05-30T17:26:19.783Z"
   },
   {
    "duration": 2762,
    "start_time": "2023-05-30T17:30:27.780Z"
   },
   {
    "duration": 19596,
    "start_time": "2023-05-30T17:32:27.127Z"
   },
   {
    "duration": 35,
    "start_time": "2023-05-30T17:44:27.137Z"
   },
   {
    "duration": 989776,
    "start_time": "2023-05-30T17:46:45.676Z"
   },
   {
    "duration": 2557,
    "start_time": "2023-05-30T20:32:52.652Z"
   },
   {
    "duration": 120,
    "start_time": "2023-05-30T20:32:57.690Z"
   },
   {
    "duration": 13685,
    "start_time": "2023-05-30T20:33:08.156Z"
   },
   {
    "duration": 3266,
    "start_time": "2023-05-30T20:33:24.156Z"
   },
   {
    "duration": 15008,
    "start_time": "2023-05-30T20:33:31.314Z"
   },
   {
    "duration": 1149,
    "start_time": "2023-05-30T20:33:50.158Z"
   },
   {
    "duration": 64339,
    "start_time": "2023-05-30T21:03:52.070Z"
   },
   {
    "duration": 4,
    "start_time": "2023-05-30T21:05:02.095Z"
   },
   {
    "duration": 4,
    "start_time": "2023-05-30T21:05:04.847Z"
   },
   {
    "duration": 12,
    "start_time": "2023-05-30T21:11:52.423Z"
   },
   {
    "duration": 1358,
    "start_time": "2023-05-31T18:35:38.096Z"
   },
   {
    "duration": 3466,
    "start_time": "2023-05-31T18:35:39.456Z"
   },
   {
    "duration": 20,
    "start_time": "2023-05-31T18:35:42.924Z"
   },
   {
    "duration": 144,
    "start_time": "2023-05-31T18:35:42.946Z"
   },
   {
    "duration": 1171,
    "start_time": "2023-05-31T18:35:43.093Z"
   },
   {
    "duration": 1091,
    "start_time": "2023-05-31T18:35:44.268Z"
   },
   {
    "duration": 4,
    "start_time": "2023-05-31T18:35:45.360Z"
   },
   {
    "duration": 324,
    "start_time": "2023-05-31T18:35:45.365Z"
   },
   {
    "duration": 176,
    "start_time": "2023-05-31T18:35:45.694Z"
   },
   {
    "duration": 149,
    "start_time": "2023-05-31T18:35:45.874Z"
   },
   {
    "duration": 230,
    "start_time": "2023-05-31T18:35:46.025Z"
   },
   {
    "duration": 186,
    "start_time": "2023-05-31T18:35:46.257Z"
   },
   {
    "duration": 1095,
    "start_time": "2023-05-31T18:35:46.445Z"
   },
   {
    "duration": 18,
    "start_time": "2023-05-31T18:35:47.542Z"
   },
   {
    "duration": 338,
    "start_time": "2023-05-31T18:35:47.562Z"
   },
   {
    "duration": 296,
    "start_time": "2023-05-31T18:35:47.902Z"
   },
   {
    "duration": 356,
    "start_time": "2023-05-31T18:35:48.200Z"
   },
   {
    "duration": 351,
    "start_time": "2023-05-31T18:35:48.557Z"
   },
   {
    "duration": 423,
    "start_time": "2023-05-31T18:35:48.910Z"
   },
   {
    "duration": 135,
    "start_time": "2023-05-31T18:35:49.335Z"
   },
   {
    "duration": 335,
    "start_time": "2023-05-31T18:35:49.471Z"
   },
   {
    "duration": 14,
    "start_time": "2023-05-31T18:35:49.807Z"
   },
   {
    "duration": 676,
    "start_time": "2023-05-31T18:35:49.822Z"
   },
   {
    "duration": 465,
    "start_time": "2023-05-31T18:35:50.499Z"
   },
   {
    "duration": 146762,
    "start_time": "2023-05-31T18:35:50.966Z"
   },
   {
    "duration": 2100,
    "start_time": "2023-05-31T18:38:17.730Z"
   },
   {
    "duration": 113,
    "start_time": "2023-05-31T18:38:19.832Z"
   },
   {
    "duration": 128832,
    "start_time": "2023-05-31T18:38:19.949Z"
   },
   {
    "duration": 87,
    "start_time": "2023-05-31T18:40:28.788Z"
   },
   {
    "duration": 7,
    "start_time": "2023-05-31T18:40:28.880Z"
   },
   {
    "duration": 9,
    "start_time": "2023-05-31T18:40:28.889Z"
   },
   {
    "duration": 12763,
    "start_time": "2023-05-31T18:40:28.900Z"
   },
   {
    "duration": 3207,
    "start_time": "2023-05-31T18:40:41.665Z"
   },
   {
    "duration": 256516,
    "start_time": "2023-05-31T18:40:44.874Z"
   },
   {
    "duration": 1001,
    "start_time": "2023-05-31T18:45:01.392Z"
   },
   {
    "duration": 10,
    "start_time": "2023-05-31T18:45:02.395Z"
   },
   {
    "duration": 1245,
    "start_time": "2023-05-31T19:34:50.418Z"
   },
   {
    "duration": 1048,
    "start_time": "2023-05-31T19:35:35.341Z"
   },
   {
    "duration": 8560,
    "start_time": "2023-06-01T10:44:53.188Z"
   },
   {
    "duration": 1034,
    "start_time": "2023-06-01T10:45:01.750Z"
   },
   {
    "duration": 22,
    "start_time": "2023-06-01T10:45:02.786Z"
   },
   {
    "duration": 111,
    "start_time": "2023-06-01T10:45:02.809Z"
   },
   {
    "duration": 1034,
    "start_time": "2023-06-01T10:45:02.922Z"
   },
   {
    "duration": 866,
    "start_time": "2023-06-01T10:45:03.958Z"
   },
   {
    "duration": 3,
    "start_time": "2023-06-01T10:45:04.825Z"
   },
   {
    "duration": 263,
    "start_time": "2023-06-01T10:45:04.830Z"
   },
   {
    "duration": 191,
    "start_time": "2023-06-01T10:45:05.096Z"
   },
   {
    "duration": 150,
    "start_time": "2023-06-01T10:45:05.289Z"
   },
   {
    "duration": 212,
    "start_time": "2023-06-01T10:45:05.441Z"
   },
   {
    "duration": 100,
    "start_time": "2023-06-01T10:45:05.655Z"
   },
   {
    "duration": 1044,
    "start_time": "2023-06-01T10:45:05.756Z"
   },
   {
    "duration": 25,
    "start_time": "2023-06-01T10:45:06.803Z"
   },
   {
    "duration": 299,
    "start_time": "2023-06-01T10:45:06.830Z"
   },
   {
    "duration": 248,
    "start_time": "2023-06-01T10:45:07.130Z"
   },
   {
    "duration": 302,
    "start_time": "2023-06-01T10:45:07.379Z"
   },
   {
    "duration": 315,
    "start_time": "2023-06-01T10:45:07.682Z"
   },
   {
    "duration": 371,
    "start_time": "2023-06-01T10:45:07.998Z"
   },
   {
    "duration": 106,
    "start_time": "2023-06-01T10:45:08.370Z"
   },
   {
    "duration": 279,
    "start_time": "2023-06-01T10:45:08.478Z"
   },
   {
    "duration": 14,
    "start_time": "2023-06-01T10:45:08.759Z"
   },
   {
    "duration": 531,
    "start_time": "2023-06-01T10:45:08.775Z"
   },
   {
    "duration": 340,
    "start_time": "2023-06-01T10:45:09.307Z"
   },
   {
    "duration": 114955,
    "start_time": "2023-06-01T10:45:09.648Z"
   },
   {
    "duration": 4,
    "start_time": "2023-06-01T10:48:22.458Z"
   },
   {
    "duration": 118,
    "start_time": "2023-06-01T10:49:49.674Z"
   },
   {
    "duration": 8,
    "start_time": "2023-06-01T10:53:41.435Z"
   },
   {
    "duration": 3,
    "start_time": "2023-06-01T10:54:03.408Z"
   },
   {
    "duration": 8,
    "start_time": "2023-06-01T10:54:07.592Z"
   },
   {
    "duration": 4,
    "start_time": "2023-06-01T10:54:29.147Z"
   },
   {
    "duration": 4,
    "start_time": "2023-06-01T10:55:10.813Z"
   },
   {
    "duration": 3,
    "start_time": "2023-06-01T10:57:55.922Z"
   },
   {
    "duration": 688,
    "start_time": "2023-06-01T10:57:55.927Z"
   },
   {
    "duration": 13,
    "start_time": "2023-06-01T10:57:56.616Z"
   },
   {
    "duration": 114,
    "start_time": "2023-06-01T10:57:56.631Z"
   },
   {
    "duration": 563,
    "start_time": "2023-06-01T10:57:56.747Z"
   },
   {
    "duration": 690,
    "start_time": "2023-06-01T10:57:57.311Z"
   },
   {
    "duration": 3,
    "start_time": "2023-06-01T10:57:58.002Z"
   },
   {
    "duration": 259,
    "start_time": "2023-06-01T10:57:58.007Z"
   },
   {
    "duration": 121,
    "start_time": "2023-06-01T10:57:58.268Z"
   },
   {
    "duration": 114,
    "start_time": "2023-06-01T10:57:58.391Z"
   },
   {
    "duration": 194,
    "start_time": "2023-06-01T10:57:58.508Z"
   },
   {
    "duration": 96,
    "start_time": "2023-06-01T10:57:58.704Z"
   },
   {
    "duration": 958,
    "start_time": "2023-06-01T10:57:58.802Z"
   },
   {
    "duration": 16,
    "start_time": "2023-06-01T10:57:59.762Z"
   },
   {
    "duration": 285,
    "start_time": "2023-06-01T10:57:59.780Z"
   },
   {
    "duration": 242,
    "start_time": "2023-06-01T10:58:00.067Z"
   },
   {
    "duration": 287,
    "start_time": "2023-06-01T10:58:00.310Z"
   },
   {
    "duration": 286,
    "start_time": "2023-06-01T10:58:00.599Z"
   },
   {
    "duration": 438,
    "start_time": "2023-06-01T10:58:00.886Z"
   },
   {
    "duration": 105,
    "start_time": "2023-06-01T10:58:01.326Z"
   },
   {
    "duration": 251,
    "start_time": "2023-06-01T10:58:01.433Z"
   },
   {
    "duration": 17,
    "start_time": "2023-06-01T10:58:01.686Z"
   },
   {
    "duration": 477,
    "start_time": "2023-06-01T10:58:01.715Z"
   },
   {
    "duration": 327,
    "start_time": "2023-06-01T10:58:02.193Z"
   },
   {
    "duration": 112216,
    "start_time": "2023-06-01T10:58:02.522Z"
   },
   {
    "duration": 4,
    "start_time": "2023-06-01T10:59:54.739Z"
   },
   {
    "duration": 20,
    "start_time": "2023-06-01T10:59:54.744Z"
   },
   {
    "duration": 14,
    "start_time": "2023-06-01T10:59:54.765Z"
   },
   {
    "duration": 4,
    "start_time": "2023-06-01T10:59:54.782Z"
   },
   {
    "duration": 53,
    "start_time": "2023-06-01T18:09:57.200Z"
   },
   {
    "duration": 1362,
    "start_time": "2023-06-01T18:10:49.465Z"
   },
   {
    "duration": 1116,
    "start_time": "2023-06-01T18:10:50.829Z"
   },
   {
    "duration": 21,
    "start_time": "2023-06-01T18:10:51.947Z"
   },
   {
    "duration": 147,
    "start_time": "2023-06-01T18:10:51.970Z"
   },
   {
    "duration": 1226,
    "start_time": "2023-06-01T18:10:52.121Z"
   },
   {
    "duration": 1006,
    "start_time": "2023-06-01T18:10:53.349Z"
   },
   {
    "duration": 3,
    "start_time": "2023-06-01T18:10:54.357Z"
   },
   {
    "duration": 306,
    "start_time": "2023-06-01T18:10:54.362Z"
   },
   {
    "duration": 181,
    "start_time": "2023-06-01T18:10:54.669Z"
   },
   {
    "duration": 142,
    "start_time": "2023-06-01T18:10:54.852Z"
   },
   {
    "duration": 229,
    "start_time": "2023-06-01T18:10:54.996Z"
   },
   {
    "duration": 123,
    "start_time": "2023-06-01T18:10:55.227Z"
   },
   {
    "duration": 1101,
    "start_time": "2023-06-01T18:10:55.351Z"
   },
   {
    "duration": 15,
    "start_time": "2023-06-01T18:10:56.455Z"
   },
   {
    "duration": 354,
    "start_time": "2023-06-01T18:10:56.472Z"
   },
   {
    "duration": 292,
    "start_time": "2023-06-01T18:10:56.828Z"
   },
   {
    "duration": 308,
    "start_time": "2023-06-01T18:11:00.242Z"
   },
   {
    "duration": 496,
    "start_time": "2023-06-01T18:12:52.283Z"
   },
   {
    "duration": 227,
    "start_time": "2023-06-01T18:39:05.806Z"
   },
   {
    "duration": 20,
    "start_time": "2023-06-01T18:45:38.286Z"
   },
   {
    "duration": 962,
    "start_time": "2023-06-01T18:45:43.072Z"
   },
   {
    "duration": 20,
    "start_time": "2023-06-01T18:46:02.624Z"
   },
   {
    "duration": 813,
    "start_time": "2023-06-01T18:46:21.380Z"
   },
   {
    "duration": 4,
    "start_time": "2023-06-01T18:46:35.516Z"
   },
   {
    "duration": 961,
    "start_time": "2023-06-01T18:46:35.523Z"
   },
   {
    "duration": 17,
    "start_time": "2023-06-01T18:46:36.486Z"
   },
   {
    "duration": 189,
    "start_time": "2023-06-01T18:46:36.505Z"
   },
   {
    "duration": 836,
    "start_time": "2023-06-01T18:46:36.697Z"
   },
   {
    "duration": 1027,
    "start_time": "2023-06-01T18:46:37.535Z"
   },
   {
    "duration": 4,
    "start_time": "2023-06-01T18:46:38.566Z"
   },
   {
    "duration": 428,
    "start_time": "2023-06-01T18:46:38.572Z"
   },
   {
    "duration": 177,
    "start_time": "2023-06-01T18:46:39.002Z"
   },
   {
    "duration": 154,
    "start_time": "2023-06-01T18:46:39.181Z"
   },
   {
    "duration": 250,
    "start_time": "2023-06-01T18:46:39.336Z"
   },
   {
    "duration": 145,
    "start_time": "2023-06-01T18:46:39.588Z"
   },
   {
    "duration": 1298,
    "start_time": "2023-06-01T18:46:39.734Z"
   },
   {
    "duration": 29,
    "start_time": "2023-06-01T18:46:41.034Z"
   },
   {
    "duration": 362,
    "start_time": "2023-06-01T18:46:41.065Z"
   },
   {
    "duration": 352,
    "start_time": "2023-06-01T18:46:41.429Z"
   },
   {
    "duration": 347,
    "start_time": "2023-06-01T18:46:41.783Z"
   },
   {
    "duration": 617,
    "start_time": "2023-06-01T18:46:42.132Z"
   },
   {
    "duration": 538,
    "start_time": "2023-06-01T18:46:42.751Z"
   },
   {
    "duration": 493,
    "start_time": "2023-06-01T18:46:43.291Z"
   },
   {
    "duration": 201,
    "start_time": "2023-06-01T18:46:43.786Z"
   },
   {
    "duration": 400,
    "start_time": "2023-06-01T18:46:43.989Z"
   },
   {
    "duration": 20,
    "start_time": "2023-06-01T18:46:44.391Z"
   },
   {
    "duration": 649,
    "start_time": "2023-06-01T18:46:48.083Z"
   },
   {
    "duration": 3,
    "start_time": "2023-06-01T19:12:33.820Z"
   },
   {
    "duration": 383,
    "start_time": "2023-06-01T19:13:51.979Z"
   },
   {
    "duration": 21,
    "start_time": "2023-06-01T19:13:59.443Z"
   },
   {
    "duration": 34,
    "start_time": "2023-06-01T19:14:01.921Z"
   },
   {
    "duration": 67,
    "start_time": "2023-06-01T19:16:23.711Z"
   },
   {
    "duration": 9,
    "start_time": "2023-06-01T19:19:54.745Z"
   },
   {
    "duration": 1132,
    "start_time": "2023-06-01T19:19:54.757Z"
   },
   {
    "duration": 26,
    "start_time": "2023-06-01T19:19:55.892Z"
   },
   {
    "duration": 281,
    "start_time": "2023-06-01T19:19:55.920Z"
   },
   {
    "duration": 1107,
    "start_time": "2023-06-01T19:19:56.207Z"
   },
   {
    "duration": 1107,
    "start_time": "2023-06-01T19:19:57.316Z"
   },
   {
    "duration": 4,
    "start_time": "2023-06-01T19:19:58.425Z"
   },
   {
    "duration": 462,
    "start_time": "2023-06-01T19:19:58.431Z"
   },
   {
    "duration": 182,
    "start_time": "2023-06-01T19:19:58.896Z"
   },
   {
    "duration": 228,
    "start_time": "2023-06-01T19:19:59.080Z"
   },
   {
    "duration": 333,
    "start_time": "2023-06-01T19:19:59.310Z"
   },
   {
    "duration": 202,
    "start_time": "2023-06-01T19:19:59.648Z"
   },
   {
    "duration": 1313,
    "start_time": "2023-06-01T19:19:59.852Z"
   },
   {
    "duration": 21,
    "start_time": "2023-06-01T19:20:01.170Z"
   },
   {
    "duration": 417,
    "start_time": "2023-06-01T19:20:01.192Z"
   },
   {
    "duration": 441,
    "start_time": "2023-06-01T19:20:01.612Z"
   },
   {
    "duration": 568,
    "start_time": "2023-06-01T19:20:02.057Z"
   },
   {
    "duration": 529,
    "start_time": "2023-06-01T19:20:02.629Z"
   },
   {
    "duration": 604,
    "start_time": "2023-06-01T19:20:03.160Z"
   },
   {
    "duration": 552,
    "start_time": "2023-06-01T19:20:03.765Z"
   },
   {
    "duration": 176,
    "start_time": "2023-06-01T19:20:04.320Z"
   },
   {
    "duration": 398,
    "start_time": "2023-06-01T19:20:04.499Z"
   },
   {
    "duration": 14,
    "start_time": "2023-06-01T19:20:04.899Z"
   },
   {
    "duration": 28,
    "start_time": "2023-06-01T19:20:04.915Z"
   },
   {
    "duration": 115,
    "start_time": "2023-06-01T19:20:07.638Z"
   },
   {
    "duration": 43,
    "start_time": "2023-06-01T19:21:13.772Z"
   },
   {
    "duration": 92,
    "start_time": "2023-06-01T19:22:00.141Z"
   },
   {
    "duration": 9,
    "start_time": "2023-06-01T19:24:18.764Z"
   },
   {
    "duration": 309,
    "start_time": "2023-06-01T19:24:27.059Z"
   },
   {
    "duration": 6,
    "start_time": "2023-06-01T19:24:34.982Z"
   },
   {
    "duration": 995,
    "start_time": "2023-06-01T19:24:34.991Z"
   },
   {
    "duration": 18,
    "start_time": "2023-06-01T19:24:35.989Z"
   },
   {
    "duration": 498,
    "start_time": "2023-06-01T19:24:36.009Z"
   },
   {
    "duration": 980,
    "start_time": "2023-06-01T19:24:36.510Z"
   },
   {
    "duration": 1075,
    "start_time": "2023-06-01T19:24:37.492Z"
   },
   {
    "duration": 4,
    "start_time": "2023-06-01T19:24:38.569Z"
   },
   {
    "duration": 431,
    "start_time": "2023-06-01T19:24:38.575Z"
   },
   {
    "duration": 197,
    "start_time": "2023-06-01T19:24:39.008Z"
   },
   {
    "duration": 165,
    "start_time": "2023-06-01T19:24:39.207Z"
   },
   {
    "duration": 226,
    "start_time": "2023-06-01T19:24:39.374Z"
   },
   {
    "duration": 152,
    "start_time": "2023-06-01T19:24:39.601Z"
   },
   {
    "duration": 1148,
    "start_time": "2023-06-01T19:24:39.761Z"
   },
   {
    "duration": 18,
    "start_time": "2023-06-01T19:24:40.912Z"
   },
   {
    "duration": 406,
    "start_time": "2023-06-01T19:24:40.932Z"
   },
   {
    "duration": 333,
    "start_time": "2023-06-01T19:24:41.345Z"
   },
   {
    "duration": 331,
    "start_time": "2023-06-01T19:24:41.680Z"
   },
   {
    "duration": 417,
    "start_time": "2023-06-01T19:24:42.013Z"
   },
   {
    "duration": 750,
    "start_time": "2023-06-01T19:24:42.433Z"
   },
   {
    "duration": 576,
    "start_time": "2023-06-01T19:24:43.185Z"
   },
   {
    "duration": 161,
    "start_time": "2023-06-01T19:24:43.767Z"
   },
   {
    "duration": 469,
    "start_time": "2023-06-01T19:24:43.930Z"
   },
   {
    "duration": 12,
    "start_time": "2023-06-01T19:24:48.854Z"
   },
   {
    "duration": 5,
    "start_time": "2023-06-01T19:25:42.924Z"
   },
   {
    "duration": 5,
    "start_time": "2023-06-01T19:28:31.637Z"
   },
   {
    "duration": 1039,
    "start_time": "2023-06-01T19:28:34.519Z"
   },
   {
    "duration": 20,
    "start_time": "2023-06-01T19:28:36.636Z"
   },
   {
    "duration": 170,
    "start_time": "2023-06-01T19:28:39.598Z"
   },
   {
    "duration": 3,
    "start_time": "2023-06-01T19:29:00.585Z"
   },
   {
    "duration": 5,
    "start_time": "2023-06-01T19:29:25.788Z"
   },
   {
    "duration": 3,
    "start_time": "2023-06-01T19:29:46.124Z"
   },
   {
    "duration": 5,
    "start_time": "2023-06-01T19:29:50.138Z"
   },
   {
    "duration": 1015,
    "start_time": "2023-06-01T19:29:55.703Z"
   },
   {
    "duration": 1169,
    "start_time": "2023-06-01T19:29:58.627Z"
   },
   {
    "duration": 6,
    "start_time": "2023-06-01T19:30:01.775Z"
   },
   {
    "duration": 410,
    "start_time": "2023-06-01T19:30:03.923Z"
   },
   {
    "duration": 164,
    "start_time": "2023-06-01T19:30:08.470Z"
   },
   {
    "duration": 183,
    "start_time": "2023-06-01T19:30:11.759Z"
   },
   {
    "duration": 298,
    "start_time": "2023-06-01T19:30:14.895Z"
   },
   {
    "duration": 185,
    "start_time": "2023-06-01T19:30:18.131Z"
   },
   {
    "duration": 1582,
    "start_time": "2023-06-01T19:30:23.023Z"
   },
   {
    "duration": 30,
    "start_time": "2023-06-01T19:30:27.268Z"
   },
   {
    "duration": 414,
    "start_time": "2023-06-01T19:30:29.732Z"
   },
   {
    "duration": 463,
    "start_time": "2023-06-01T19:30:32.518Z"
   },
   {
    "duration": 433,
    "start_time": "2023-06-01T19:30:35.906Z"
   },
   {
    "duration": 456,
    "start_time": "2023-06-01T19:30:38.312Z"
   },
   {
    "duration": 485,
    "start_time": "2023-06-01T19:30:41.008Z"
   },
   {
    "duration": 566,
    "start_time": "2023-06-01T19:30:43.588Z"
   },
   {
    "duration": 219,
    "start_time": "2023-06-01T19:30:46.391Z"
   },
   {
    "duration": 459,
    "start_time": "2023-06-01T19:30:52.032Z"
   },
   {
    "duration": 4,
    "start_time": "2023-06-01T19:31:00.610Z"
   },
   {
    "duration": 6,
    "start_time": "2023-06-01T19:32:05.185Z"
   },
   {
    "duration": 5,
    "start_time": "2023-06-01T19:33:26.972Z"
   },
   {
    "duration": 4,
    "start_time": "2023-06-01T19:36:41.009Z"
   },
   {
    "duration": 888,
    "start_time": "2023-06-01T19:36:41.015Z"
   },
   {
    "duration": 16,
    "start_time": "2023-06-01T19:36:41.905Z"
   },
   {
    "duration": 211,
    "start_time": "2023-06-01T19:36:41.924Z"
   },
   {
    "duration": 13,
    "start_time": "2023-06-01T19:36:42.136Z"
   },
   {
    "duration": 908,
    "start_time": "2023-06-01T19:36:42.159Z"
   },
   {
    "duration": 993,
    "start_time": "2023-06-01T19:36:43.069Z"
   },
   {
    "duration": 5,
    "start_time": "2023-06-01T19:36:44.063Z"
   },
   {
    "duration": 352,
    "start_time": "2023-06-01T19:36:44.070Z"
   },
   {
    "duration": 162,
    "start_time": "2023-06-01T19:36:44.425Z"
   },
   {
    "duration": 162,
    "start_time": "2023-06-01T19:36:44.588Z"
   },
   {
    "duration": 238,
    "start_time": "2023-06-01T19:36:44.752Z"
   },
   {
    "duration": 126,
    "start_time": "2023-06-01T19:36:44.992Z"
   },
   {
    "duration": 1347,
    "start_time": "2023-06-01T19:36:45.120Z"
   },
   {
    "duration": 16,
    "start_time": "2023-06-01T19:36:46.470Z"
   },
   {
    "duration": 364,
    "start_time": "2023-06-01T19:36:46.488Z"
   },
   {
    "duration": 311,
    "start_time": "2023-06-01T19:36:46.860Z"
   },
   {
    "duration": 327,
    "start_time": "2023-06-01T19:36:47.172Z"
   },
   {
    "duration": 378,
    "start_time": "2023-06-01T19:36:47.501Z"
   },
   {
    "duration": 488,
    "start_time": "2023-06-01T19:36:47.882Z"
   },
   {
    "duration": 489,
    "start_time": "2023-06-01T19:36:48.372Z"
   },
   {
    "duration": 146,
    "start_time": "2023-06-01T19:36:48.865Z"
   },
   {
    "duration": 359,
    "start_time": "2023-06-01T19:36:49.013Z"
   },
   {
    "duration": 4,
    "start_time": "2023-06-01T19:36:52.302Z"
   },
   {
    "duration": 4,
    "start_time": "2023-06-01T19:39:26.703Z"
   },
   {
    "duration": 19,
    "start_time": "2023-06-01T19:42:14.700Z"
   },
   {
    "duration": 157,
    "start_time": "2023-06-01T19:42:42.464Z"
   },
   {
    "duration": 31,
    "start_time": "2023-06-01T19:43:06.771Z"
   },
   {
    "duration": 73,
    "start_time": "2023-06-01T19:45:08.018Z"
   },
   {
    "duration": 11,
    "start_time": "2023-06-01T19:45:36.267Z"
   },
   {
    "duration": 14,
    "start_time": "2023-06-01T19:46:39.972Z"
   },
   {
    "duration": 7,
    "start_time": "2023-06-01T19:46:46.392Z"
   },
   {
    "duration": 1443,
    "start_time": "2023-06-01T19:46:46.407Z"
   },
   {
    "duration": 22,
    "start_time": "2023-06-01T19:46:47.859Z"
   },
   {
    "duration": 194,
    "start_time": "2023-06-01T19:46:47.883Z"
   },
   {
    "duration": 56,
    "start_time": "2023-06-01T19:46:48.083Z"
   },
   {
    "duration": 1178,
    "start_time": "2023-06-01T19:46:48.142Z"
   },
   {
    "duration": 1342,
    "start_time": "2023-06-01T19:46:49.322Z"
   },
   {
    "duration": 6,
    "start_time": "2023-06-01T19:46:50.665Z"
   },
   {
    "duration": 460,
    "start_time": "2023-06-01T19:46:50.674Z"
   },
   {
    "duration": 187,
    "start_time": "2023-06-01T19:46:51.147Z"
   },
   {
    "duration": 244,
    "start_time": "2023-06-01T19:46:51.337Z"
   },
   {
    "duration": 337,
    "start_time": "2023-06-01T19:46:51.583Z"
   },
   {
    "duration": 206,
    "start_time": "2023-06-01T19:46:51.923Z"
   },
   {
    "duration": 1512,
    "start_time": "2023-06-01T19:46:52.131Z"
   },
   {
    "duration": 27,
    "start_time": "2023-06-01T19:46:53.648Z"
   },
   {
    "duration": 421,
    "start_time": "2023-06-01T19:46:53.677Z"
   },
   {
    "duration": 379,
    "start_time": "2023-06-01T19:46:54.100Z"
   },
   {
    "duration": 332,
    "start_time": "2023-06-01T19:46:54.481Z"
   },
   {
    "duration": 415,
    "start_time": "2023-06-01T19:46:54.815Z"
   },
   {
    "duration": 512,
    "start_time": "2023-06-01T19:46:55.232Z"
   },
   {
    "duration": 725,
    "start_time": "2023-06-01T19:46:55.750Z"
   },
   {
    "duration": 169,
    "start_time": "2023-06-01T19:46:56.482Z"
   },
   {
    "duration": 628,
    "start_time": "2023-06-01T19:46:56.655Z"
   },
   {
    "duration": 4,
    "start_time": "2023-06-01T19:46:57.285Z"
   },
   {
    "duration": 21,
    "start_time": "2023-06-01T19:46:57.292Z"
   },
   {
    "duration": 3,
    "start_time": "2023-06-01T19:46:57.316Z"
   },
   {
    "duration": 137,
    "start_time": "2023-06-01T19:46:57.321Z"
   },
   {
    "duration": 45,
    "start_time": "2023-06-01T19:46:59.744Z"
   },
   {
    "duration": 60,
    "start_time": "2023-06-01T19:47:35.381Z"
   },
   {
    "duration": 30,
    "start_time": "2023-06-01T19:48:04.184Z"
   },
   {
    "duration": 63,
    "start_time": "2023-06-01T19:52:38.761Z"
   },
   {
    "duration": 48,
    "start_time": "2023-06-01T19:52:59.394Z"
   },
   {
    "duration": 4,
    "start_time": "2023-06-01T19:58:17.870Z"
   },
   {
    "duration": 1029,
    "start_time": "2023-06-01T19:58:17.877Z"
   },
   {
    "duration": 17,
    "start_time": "2023-06-01T19:58:18.908Z"
   },
   {
    "duration": 186,
    "start_time": "2023-06-01T19:58:18.927Z"
   },
   {
    "duration": 8,
    "start_time": "2023-06-01T19:58:19.116Z"
   },
   {
    "duration": 939,
    "start_time": "2023-06-01T19:58:19.126Z"
   },
   {
    "duration": 1014,
    "start_time": "2023-06-01T19:58:20.069Z"
   },
   {
    "duration": 4,
    "start_time": "2023-06-01T19:58:21.086Z"
   },
   {
    "duration": 442,
    "start_time": "2023-06-01T19:58:21.092Z"
   },
   {
    "duration": 185,
    "start_time": "2023-06-01T19:58:21.536Z"
   },
   {
    "duration": 231,
    "start_time": "2023-06-01T19:58:21.723Z"
   },
   {
    "duration": 287,
    "start_time": "2023-06-01T19:58:21.956Z"
   },
   {
    "duration": 169,
    "start_time": "2023-06-01T19:58:22.246Z"
   },
   {
    "duration": 1413,
    "start_time": "2023-06-01T19:58:22.419Z"
   },
   {
    "duration": 37,
    "start_time": "2023-06-01T19:58:23.834Z"
   },
   {
    "duration": 369,
    "start_time": "2023-06-01T19:58:23.873Z"
   },
   {
    "duration": 358,
    "start_time": "2023-06-01T19:58:24.247Z"
   },
   {
    "duration": 330,
    "start_time": "2023-06-01T19:58:24.607Z"
   },
   {
    "duration": 486,
    "start_time": "2023-06-01T19:58:24.939Z"
   },
   {
    "duration": 543,
    "start_time": "2023-06-01T19:58:25.427Z"
   },
   {
    "duration": 576,
    "start_time": "2023-06-01T19:58:25.972Z"
   },
   {
    "duration": 166,
    "start_time": "2023-06-01T19:58:26.552Z"
   },
   {
    "duration": 369,
    "start_time": "2023-06-01T19:58:26.720Z"
   },
   {
    "duration": 4,
    "start_time": "2023-06-01T19:58:27.091Z"
   },
   {
    "duration": 16,
    "start_time": "2023-06-01T19:58:27.097Z"
   },
   {
    "duration": 3,
    "start_time": "2023-06-01T19:58:27.115Z"
   },
   {
    "duration": 74,
    "start_time": "2023-06-01T19:58:28.892Z"
   },
   {
    "duration": 106,
    "start_time": "2023-06-01T20:02:02.004Z"
   },
   {
    "duration": 75,
    "start_time": "2023-06-01T20:02:06.153Z"
   },
   {
    "duration": 83,
    "start_time": "2023-06-01T20:02:54.919Z"
   },
   {
    "duration": 11,
    "start_time": "2023-06-01T20:03:30.025Z"
   },
   {
    "duration": 64,
    "start_time": "2023-06-01T20:03:31.954Z"
   },
   {
    "duration": 6,
    "start_time": "2023-06-01T20:03:43.268Z"
   },
   {
    "duration": 952,
    "start_time": "2023-06-01T20:03:43.277Z"
   },
   {
    "duration": 21,
    "start_time": "2023-06-01T20:03:44.231Z"
   },
   {
    "duration": 225,
    "start_time": "2023-06-01T20:03:44.254Z"
   },
   {
    "duration": 5,
    "start_time": "2023-06-01T20:03:44.483Z"
   },
   {
    "duration": 732,
    "start_time": "2023-06-01T20:03:44.490Z"
   },
   {
    "duration": 922,
    "start_time": "2023-06-01T20:03:45.224Z"
   },
   {
    "duration": 4,
    "start_time": "2023-06-01T20:03:46.148Z"
   },
   {
    "duration": 557,
    "start_time": "2023-06-01T20:03:46.154Z"
   },
   {
    "duration": 197,
    "start_time": "2023-06-01T20:03:46.713Z"
   },
   {
    "duration": 200,
    "start_time": "2023-06-01T20:03:46.912Z"
   },
   {
    "duration": 412,
    "start_time": "2023-06-01T20:03:47.114Z"
   },
   {
    "duration": 188,
    "start_time": "2023-06-01T20:03:47.546Z"
   },
   {
    "duration": 1128,
    "start_time": "2023-06-01T20:03:47.736Z"
   },
   {
    "duration": 17,
    "start_time": "2023-06-01T20:03:48.866Z"
   },
   {
    "duration": 473,
    "start_time": "2023-06-01T20:03:48.884Z"
   },
   {
    "duration": 448,
    "start_time": "2023-06-01T20:03:49.360Z"
   },
   {
    "duration": 323,
    "start_time": "2023-06-01T20:03:49.810Z"
   },
   {
    "duration": 374,
    "start_time": "2023-06-01T20:03:50.135Z"
   },
   {
    "duration": 443,
    "start_time": "2023-06-01T20:03:50.511Z"
   },
   {
    "duration": 535,
    "start_time": "2023-06-01T20:03:50.956Z"
   },
   {
    "duration": 147,
    "start_time": "2023-06-01T20:03:51.493Z"
   },
   {
    "duration": 593,
    "start_time": "2023-06-01T20:03:51.647Z"
   },
   {
    "duration": 4,
    "start_time": "2023-06-01T20:03:52.245Z"
   },
   {
    "duration": 20,
    "start_time": "2023-06-01T20:03:52.251Z"
   },
   {
    "duration": 8,
    "start_time": "2023-06-01T20:03:52.273Z"
   },
   {
    "duration": 86,
    "start_time": "2023-06-01T20:03:52.282Z"
   },
   {
    "duration": 63,
    "start_time": "2023-06-01T20:03:52.371Z"
   },
   {
    "duration": 69,
    "start_time": "2023-06-01T20:03:54.081Z"
   },
   {
    "duration": 74,
    "start_time": "2023-06-01T20:05:24.891Z"
   },
   {
    "duration": 133,
    "start_time": "2023-06-01T20:05:32.067Z"
   },
   {
    "duration": 185,
    "start_time": "2023-06-01T20:05:43.178Z"
   },
   {
    "duration": 142,
    "start_time": "2023-06-01T20:07:00.129Z"
   },
   {
    "duration": 78,
    "start_time": "2023-06-01T20:11:54.074Z"
   },
   {
    "duration": 93,
    "start_time": "2023-06-01T20:16:55.623Z"
   },
   {
    "duration": 148,
    "start_time": "2023-06-01T20:17:32.075Z"
   },
   {
    "duration": 1460,
    "start_time": "2023-06-01T20:21:27.306Z"
   },
   {
    "duration": 1285,
    "start_time": "2023-06-01T20:21:28.768Z"
   },
   {
    "duration": 25,
    "start_time": "2023-06-01T20:21:30.056Z"
   },
   {
    "duration": 198,
    "start_time": "2023-06-01T20:21:30.083Z"
   },
   {
    "duration": 4,
    "start_time": "2023-06-01T20:21:30.283Z"
   },
   {
    "duration": 1148,
    "start_time": "2023-06-01T20:21:30.289Z"
   },
   {
    "duration": 1230,
    "start_time": "2023-06-01T20:21:31.439Z"
   },
   {
    "duration": 4,
    "start_time": "2023-06-01T20:21:32.672Z"
   },
   {
    "duration": 344,
    "start_time": "2023-06-01T20:21:32.678Z"
   },
   {
    "duration": 215,
    "start_time": "2023-06-01T20:21:33.024Z"
   },
   {
    "duration": 151,
    "start_time": "2023-06-01T20:21:33.247Z"
   },
   {
    "duration": 239,
    "start_time": "2023-06-01T20:21:33.399Z"
   },
   {
    "duration": 126,
    "start_time": "2023-06-01T20:21:33.640Z"
   },
   {
    "duration": 1195,
    "start_time": "2023-06-01T20:21:33.769Z"
   },
   {
    "duration": 17,
    "start_time": "2023-06-01T20:21:34.966Z"
   },
   {
    "duration": 383,
    "start_time": "2023-06-01T20:21:34.985Z"
   },
   {
    "duration": 319,
    "start_time": "2023-06-01T20:21:35.371Z"
   },
   {
    "duration": 328,
    "start_time": "2023-06-01T20:21:35.691Z"
   },
   {
    "duration": 392,
    "start_time": "2023-06-01T20:21:36.021Z"
   },
   {
    "duration": 419,
    "start_time": "2023-06-01T20:21:36.415Z"
   },
   {
    "duration": 601,
    "start_time": "2023-06-01T20:21:36.836Z"
   },
   {
    "duration": 153,
    "start_time": "2023-06-01T20:21:37.439Z"
   },
   {
    "duration": 373,
    "start_time": "2023-06-01T20:21:37.594Z"
   },
   {
    "duration": 4,
    "start_time": "2023-06-01T20:21:37.969Z"
   },
   {
    "duration": 31,
    "start_time": "2023-06-01T20:21:37.974Z"
   },
   {
    "duration": 68,
    "start_time": "2023-06-01T20:21:38.007Z"
   },
   {
    "duration": 47,
    "start_time": "2023-06-01T20:21:38.076Z"
   },
   {
    "duration": 77,
    "start_time": "2023-06-01T20:21:38.124Z"
   },
   {
    "duration": 143,
    "start_time": "2023-06-01T20:21:38.203Z"
   },
   {
    "duration": 62,
    "start_time": "2023-06-01T20:21:38.349Z"
   },
   {
    "duration": 16336,
    "start_time": "2023-06-01T20:21:38.413Z"
   },
   {
    "duration": 270,
    "start_time": "2023-06-01T20:21:54.753Z"
   },
   {
    "duration": 25,
    "start_time": "2023-06-01T20:21:55.025Z"
   },
   {
    "duration": 7,
    "start_time": "2023-06-01T20:21:55.057Z"
   },
   {
    "duration": 28,
    "start_time": "2023-06-01T20:21:55.066Z"
   },
   {
    "duration": 10,
    "start_time": "2023-06-01T20:21:55.096Z"
   },
   {
    "duration": 13,
    "start_time": "2023-06-01T20:21:55.108Z"
   },
   {
    "duration": 4387,
    "start_time": "2023-06-01T20:21:55.123Z"
   },
   {
    "duration": 175,
    "start_time": "2023-06-01T20:21:59.511Z"
   },
   {
    "duration": 1126261,
    "start_time": "2023-06-01T20:21:59.688Z"
   },
   {
    "duration": 693,
    "start_time": "2023-06-01T20:40:45.954Z"
   },
   {
    "duration": 11,
    "start_time": "2023-06-01T20:40:46.648Z"
   },
   {
    "duration": 710,
    "start_time": "2023-06-01T20:40:46.660Z"
   },
   {
    "duration": 84,
    "start_time": "2023-06-01T21:45:05.506Z"
   },
   {
    "duration": 11,
    "start_time": "2023-06-01T21:45:13.979Z"
   },
   {
    "duration": 163,
    "start_time": "2023-06-01T21:53:29.755Z"
   },
   {
    "duration": 50,
    "start_time": "2023-06-02T07:25:48.626Z"
   },
   {
    "duration": 10,
    "start_time": "2023-06-02T07:25:57.693Z"
   },
   {
    "duration": 6,
    "start_time": "2023-06-02T07:26:08.136Z"
   },
   {
    "duration": 7,
    "start_time": "2023-06-02T07:26:12.065Z"
   },
   {
    "duration": 2,
    "start_time": "2023-06-02T07:27:52.196Z"
   },
   {
    "duration": 4,
    "start_time": "2023-06-02T07:28:01.552Z"
   },
   {
    "duration": 6,
    "start_time": "2023-06-02T07:28:04.085Z"
   },
   {
    "duration": 4,
    "start_time": "2023-06-02T07:28:10.254Z"
   },
   {
    "duration": 4,
    "start_time": "2023-06-02T07:29:08.782Z"
   },
   {
    "duration": 4,
    "start_time": "2023-06-02T07:29:48.748Z"
   },
   {
    "duration": 1260,
    "start_time": "2023-06-02T18:01:37.569Z"
   },
   {
    "duration": 3552,
    "start_time": "2023-06-02T18:01:38.832Z"
   },
   {
    "duration": 21,
    "start_time": "2023-06-02T18:01:42.385Z"
   },
   {
    "duration": 170,
    "start_time": "2023-06-02T18:01:42.408Z"
   },
   {
    "duration": 3,
    "start_time": "2023-06-02T18:01:42.581Z"
   },
   {
    "duration": 1329,
    "start_time": "2023-06-02T18:01:42.586Z"
   },
   {
    "duration": 1040,
    "start_time": "2023-06-02T18:01:43.917Z"
   },
   {
    "duration": 3,
    "start_time": "2023-06-02T18:01:44.959Z"
   },
   {
    "duration": 296,
    "start_time": "2023-06-02T18:01:44.963Z"
   },
   {
    "duration": 186,
    "start_time": "2023-06-02T18:01:45.261Z"
   },
   {
    "duration": 144,
    "start_time": "2023-06-02T18:01:45.449Z"
   },
   {
    "duration": 258,
    "start_time": "2023-06-02T18:01:45.595Z"
   },
   {
    "duration": 136,
    "start_time": "2023-06-02T18:01:45.859Z"
   },
   {
    "duration": 1082,
    "start_time": "2023-06-02T18:01:45.998Z"
   },
   {
    "duration": 15,
    "start_time": "2023-06-02T18:01:47.081Z"
   },
   {
    "duration": 340,
    "start_time": "2023-06-02T18:01:47.098Z"
   },
   {
    "duration": 309,
    "start_time": "2023-06-02T18:01:47.448Z"
   },
   {
    "duration": 281,
    "start_time": "2023-06-02T18:01:47.760Z"
   },
   {
    "duration": 340,
    "start_time": "2023-06-02T18:01:48.052Z"
   },
   {
    "duration": 361,
    "start_time": "2023-06-02T18:01:48.393Z"
   },
   {
    "duration": 503,
    "start_time": "2023-06-02T18:01:48.758Z"
   },
   {
    "duration": 153,
    "start_time": "2023-06-02T18:01:49.263Z"
   },
   {
    "duration": 345,
    "start_time": "2023-06-02T18:01:49.417Z"
   },
   {
    "duration": 4,
    "start_time": "2023-06-02T18:01:49.765Z"
   },
   {
    "duration": 6,
    "start_time": "2023-06-02T18:02:00.426Z"
   },
   {
    "duration": 16,
    "start_time": "2023-06-02T18:02:11.755Z"
   },
   {
    "duration": 42,
    "start_time": "2023-06-02T18:02:18.880Z"
   },
   {
    "duration": 43,
    "start_time": "2023-06-02T18:02:23.450Z"
   },
   {
    "duration": 12,
    "start_time": "2023-06-02T18:02:26.503Z"
   },
   {
    "duration": 62,
    "start_time": "2023-06-02T18:02:31.438Z"
   },
   {
    "duration": 11,
    "start_time": "2023-06-02T18:10:14.766Z"
   },
   {
    "duration": 13,
    "start_time": "2023-06-02T18:10:16.559Z"
   },
   {
    "duration": 133,
    "start_time": "2023-06-02T18:30:45.981Z"
   },
   {
    "duration": 13,
    "start_time": "2023-06-02T18:31:14.271Z"
   },
   {
    "duration": 1758,
    "start_time": "2023-06-02T18:32:37.223Z"
   },
   {
    "duration": 16,
    "start_time": "2023-06-02T18:33:02.700Z"
   },
   {
    "duration": 2169,
    "start_time": "2023-06-02T18:34:48.390Z"
   },
   {
    "duration": 1589,
    "start_time": "2023-06-02T18:35:00.898Z"
   },
   {
    "duration": 2282,
    "start_time": "2023-06-02T18:35:05.467Z"
   },
   {
    "duration": 1377,
    "start_time": "2023-06-02T18:35:32.878Z"
   },
   {
    "duration": 1325,
    "start_time": "2023-06-02T18:35:52.698Z"
   },
   {
    "duration": 1867,
    "start_time": "2023-06-02T18:36:03.183Z"
   },
   {
    "duration": 4541,
    "start_time": "2023-06-02T18:37:03.266Z"
   },
   {
    "duration": 1764,
    "start_time": "2023-06-02T18:37:19.758Z"
   },
   {
    "duration": 1112,
    "start_time": "2023-06-02T18:37:27.990Z"
   },
   {
    "duration": 41,
    "start_time": "2023-06-02T18:37:31.442Z"
   },
   {
    "duration": 260,
    "start_time": "2023-06-02T18:37:34.188Z"
   },
   {
    "duration": 4,
    "start_time": "2023-06-02T18:37:37.054Z"
   },
   {
    "duration": 1328,
    "start_time": "2023-06-02T18:37:40.003Z"
   },
   {
    "duration": 1322,
    "start_time": "2023-06-02T18:37:43.652Z"
   },
   {
    "duration": 4,
    "start_time": "2023-06-02T18:37:48.106Z"
   },
   {
    "duration": 529,
    "start_time": "2023-06-02T18:37:50.222Z"
   },
   {
    "duration": 277,
    "start_time": "2023-06-02T18:37:55.281Z"
   },
   {
    "duration": 225,
    "start_time": "2023-06-02T18:37:59.587Z"
   },
   {
    "duration": 318,
    "start_time": "2023-06-02T18:38:02.797Z"
   },
   {
    "duration": 171,
    "start_time": "2023-06-02T18:38:07.092Z"
   },
   {
    "duration": 1417,
    "start_time": "2023-06-02T18:38:11.766Z"
   },
   {
    "duration": 23,
    "start_time": "2023-06-02T18:38:16.414Z"
   },
   {
    "duration": 444,
    "start_time": "2023-06-02T18:38:19.004Z"
   },
   {
    "duration": 462,
    "start_time": "2023-06-02T18:38:22.578Z"
   },
   {
    "duration": 502,
    "start_time": "2023-06-02T18:38:26.118Z"
   },
   {
    "duration": 658,
    "start_time": "2023-06-02T18:38:29.354Z"
   },
   {
    "duration": 801,
    "start_time": "2023-06-02T18:38:32.443Z"
   },
   {
    "duration": 604,
    "start_time": "2023-06-02T18:38:35.893Z"
   },
   {
    "duration": 303,
    "start_time": "2023-06-02T18:38:39.246Z"
   },
   {
    "duration": 499,
    "start_time": "2023-06-02T18:38:42.794Z"
   },
   {
    "duration": 5,
    "start_time": "2023-06-02T18:38:45.800Z"
   },
   {
    "duration": 15,
    "start_time": "2023-06-02T18:38:54.682Z"
   },
   {
    "duration": 193,
    "start_time": "2023-06-02T18:39:14.306Z"
   },
   {
    "duration": 131,
    "start_time": "2023-06-02T18:39:29.400Z"
   },
   {
    "duration": 1756,
    "start_time": "2023-06-02T18:47:00.095Z"
   },
   {
    "duration": 3312,
    "start_time": "2023-06-02T18:48:04.357Z"
   },
   {
    "duration": 1730,
    "start_time": "2023-06-02T18:48:07.671Z"
   },
   {
    "duration": 1211,
    "start_time": "2023-06-02T18:48:09.403Z"
   },
   {
    "duration": 37,
    "start_time": "2023-06-02T18:48:10.617Z"
   },
   {
    "duration": 276,
    "start_time": "2023-06-02T18:48:10.657Z"
   },
   {
    "duration": 8,
    "start_time": "2023-06-02T18:48:10.937Z"
   },
   {
    "duration": 1657,
    "start_time": "2023-06-02T18:48:10.948Z"
   },
   {
    "duration": 1522,
    "start_time": "2023-06-02T18:48:12.611Z"
   },
   {
    "duration": 8,
    "start_time": "2023-06-02T18:48:14.138Z"
   },
   {
    "duration": 493,
    "start_time": "2023-06-02T18:48:14.148Z"
   },
   {
    "duration": 262,
    "start_time": "2023-06-02T18:48:14.644Z"
   },
   {
    "duration": 246,
    "start_time": "2023-06-02T18:48:14.908Z"
   },
   {
    "duration": 380,
    "start_time": "2023-06-02T18:48:15.157Z"
   },
   {
    "duration": 229,
    "start_time": "2023-06-02T18:48:15.541Z"
   },
   {
    "duration": 1471,
    "start_time": "2023-06-02T18:48:15.772Z"
   },
   {
    "duration": 35,
    "start_time": "2023-06-02T18:48:17.256Z"
   },
   {
    "duration": 454,
    "start_time": "2023-06-02T18:48:17.296Z"
   },
   {
    "duration": 356,
    "start_time": "2023-06-02T18:48:17.755Z"
   },
   {
    "duration": 479,
    "start_time": "2023-06-02T18:48:18.113Z"
   },
   {
    "duration": 505,
    "start_time": "2023-06-02T18:48:18.594Z"
   },
   {
    "duration": 640,
    "start_time": "2023-06-02T18:48:19.101Z"
   },
   {
    "duration": 634,
    "start_time": "2023-06-02T18:48:19.745Z"
   },
   {
    "duration": 247,
    "start_time": "2023-06-02T18:48:20.384Z"
   },
   {
    "duration": 545,
    "start_time": "2023-06-02T18:48:20.640Z"
   },
   {
    "duration": 5,
    "start_time": "2023-06-02T18:48:21.187Z"
   },
   {
    "duration": 33,
    "start_time": "2023-06-02T18:48:23.783Z"
   },
   {
    "duration": 855,
    "start_time": "2023-06-02T18:50:49.390Z"
   },
   {
    "duration": 1233,
    "start_time": "2023-06-02T18:52:36.355Z"
   },
   {
    "duration": 3,
    "start_time": "2023-06-02T18:53:02.682Z"
   },
   {
    "duration": 134,
    "start_time": "2023-06-02T18:53:29.850Z"
   },
   {
    "duration": 1571,
    "start_time": "2023-06-02T18:53:35.616Z"
   },
   {
    "duration": 598,
    "start_time": "2023-06-02T18:54:22.677Z"
   },
   {
    "duration": 806,
    "start_time": "2023-06-02T18:54:57.058Z"
   },
   {
    "duration": 2994,
    "start_time": "2023-06-02T18:57:55.698Z"
   },
   {
    "duration": 5,
    "start_time": "2023-06-02T18:57:58.695Z"
   },
   {
    "duration": 1098,
    "start_time": "2023-06-02T18:57:58.703Z"
   },
   {
    "duration": 24,
    "start_time": "2023-06-02T18:57:59.803Z"
   },
   {
    "duration": 249,
    "start_time": "2023-06-02T18:57:59.832Z"
   },
   {
    "duration": 38,
    "start_time": "2023-06-02T18:58:00.083Z"
   },
   {
    "duration": 1023,
    "start_time": "2023-06-02T18:58:00.124Z"
   },
   {
    "duration": 1199,
    "start_time": "2023-06-02T18:58:01.153Z"
   },
   {
    "duration": 14,
    "start_time": "2023-06-02T18:58:02.358Z"
   },
   {
    "duration": 447,
    "start_time": "2023-06-02T18:58:02.374Z"
   },
   {
    "duration": 197,
    "start_time": "2023-06-02T18:58:02.823Z"
   },
   {
    "duration": 254,
    "start_time": "2023-06-02T18:58:03.023Z"
   },
   {
    "duration": 320,
    "start_time": "2023-06-02T18:58:03.281Z"
   },
   {
    "duration": 179,
    "start_time": "2023-06-02T18:58:03.604Z"
   },
   {
    "duration": 1331,
    "start_time": "2023-06-02T18:58:03.787Z"
   },
   {
    "duration": 23,
    "start_time": "2023-06-02T18:58:05.120Z"
   },
   {
    "duration": 448,
    "start_time": "2023-06-02T18:58:05.145Z"
   },
   {
    "duration": 359,
    "start_time": "2023-06-02T18:58:05.595Z"
   },
   {
    "duration": 530,
    "start_time": "2023-06-02T18:58:05.958Z"
   },
   {
    "duration": 478,
    "start_time": "2023-06-02T18:58:06.491Z"
   },
   {
    "duration": 468,
    "start_time": "2023-06-02T18:58:06.972Z"
   },
   {
    "duration": 563,
    "start_time": "2023-06-02T18:58:07.442Z"
   },
   {
    "duration": 205,
    "start_time": "2023-06-02T18:58:08.006Z"
   },
   {
    "duration": 386,
    "start_time": "2023-06-02T18:58:08.213Z"
   },
   {
    "duration": 3,
    "start_time": "2023-06-02T18:58:08.601Z"
   },
   {
    "duration": 47,
    "start_time": "2023-06-02T18:58:08.605Z"
   },
   {
    "duration": 3,
    "start_time": "2023-06-02T18:58:08.654Z"
   },
   {
    "duration": 24,
    "start_time": "2023-06-02T18:58:08.659Z"
   },
   {
    "duration": 13,
    "start_time": "2023-06-02T18:58:08.686Z"
   },
   {
    "duration": 7,
    "start_time": "2023-06-02T18:58:08.700Z"
   },
   {
    "duration": 24,
    "start_time": "2023-06-02T18:58:36.167Z"
   },
   {
    "duration": 2526,
    "start_time": "2023-06-02T18:58:38.890Z"
   },
   {
    "duration": 32,
    "start_time": "2023-06-02T18:59:35.956Z"
   },
   {
    "duration": 38,
    "start_time": "2023-06-02T19:03:39.507Z"
   },
   {
    "duration": 9,
    "start_time": "2023-06-02T19:04:13.248Z"
   },
   {
    "duration": 37,
    "start_time": "2023-06-02T19:04:19.609Z"
   },
   {
    "duration": 84,
    "start_time": "2023-06-02T19:07:10.540Z"
   },
   {
    "duration": 4,
    "start_time": "2023-06-02T19:15:38.290Z"
   },
   {
    "duration": 12523,
    "start_time": "2023-06-02T19:17:29.717Z"
   },
   {
    "duration": 200,
    "start_time": "2023-06-02T19:18:32.172Z"
   },
   {
    "duration": 293,
    "start_time": "2023-06-02T19:19:02.710Z"
   },
   {
    "duration": 212,
    "start_time": "2023-06-02T19:19:09.115Z"
   },
   {
    "duration": 181,
    "start_time": "2023-06-02T19:19:13.551Z"
   },
   {
    "duration": 196,
    "start_time": "2023-06-02T19:19:17.955Z"
   },
   {
    "duration": 20,
    "start_time": "2023-06-02T19:25:51.049Z"
   },
   {
    "duration": 14,
    "start_time": "2023-06-02T19:26:05.250Z"
   },
   {
    "duration": 241,
    "start_time": "2023-06-02T19:26:25.323Z"
   },
   {
    "duration": 17,
    "start_time": "2023-06-02T19:26:39.869Z"
   },
   {
    "duration": 13,
    "start_time": "2023-06-02T19:26:43.467Z"
   },
   {
    "duration": 104,
    "start_time": "2023-06-02T19:29:00.847Z"
   },
   {
    "duration": 4,
    "start_time": "2023-06-02T19:29:07.181Z"
   },
   {
    "duration": 4891,
    "start_time": "2023-06-02T19:29:10.689Z"
   },
   {
    "duration": 161,
    "start_time": "2023-06-02T19:30:01.365Z"
   },
   {
    "duration": 1138884,
    "start_time": "2023-06-02T19:34:16.387Z"
   },
   {
    "duration": 497,
    "start_time": "2023-06-02T20:10:11.370Z"
   },
   {
    "duration": 13,
    "start_time": "2023-06-02T20:14:46.998Z"
   },
   {
    "duration": 24,
    "start_time": "2023-06-02T20:15:02.661Z"
   },
   {
    "duration": 146,
    "start_time": "2023-06-02T20:15:58.705Z"
   },
   {
    "duration": 3702,
    "start_time": "2023-06-03T09:11:38.623Z"
   },
   {
    "duration": 3685,
    "start_time": "2023-06-03T09:11:42.328Z"
   },
   {
    "duration": 3287,
    "start_time": "2023-06-03T09:11:46.019Z"
   },
   {
    "duration": 22,
    "start_time": "2023-06-03T09:11:49.308Z"
   },
   {
    "duration": 187,
    "start_time": "2023-06-03T09:11:49.332Z"
   },
   {
    "duration": 4,
    "start_time": "2023-06-03T09:11:49.521Z"
   },
   {
    "duration": 1095,
    "start_time": "2023-06-03T09:11:49.526Z"
   },
   {
    "duration": 1112,
    "start_time": "2023-06-03T09:11:50.623Z"
   },
   {
    "duration": 4,
    "start_time": "2023-06-03T09:11:51.737Z"
   },
   {
    "duration": 442,
    "start_time": "2023-06-03T09:11:51.743Z"
   },
   {
    "duration": 214,
    "start_time": "2023-06-03T09:11:52.186Z"
   },
   {
    "duration": 177,
    "start_time": "2023-06-03T09:11:52.402Z"
   },
   {
    "duration": 275,
    "start_time": "2023-06-03T09:11:52.581Z"
   },
   {
    "duration": 151,
    "start_time": "2023-06-03T09:11:52.860Z"
   },
   {
    "duration": 2310,
    "start_time": "2023-06-03T09:11:53.013Z"
   },
   {
    "duration": 80,
    "start_time": "2023-06-03T09:11:55.325Z"
   },
   {
    "duration": 889,
    "start_time": "2023-06-03T09:11:55.408Z"
   },
   {
    "duration": 455,
    "start_time": "2023-06-03T09:11:56.300Z"
   },
   {
    "duration": 465,
    "start_time": "2023-06-03T09:11:56.757Z"
   },
   {
    "duration": 409,
    "start_time": "2023-06-03T09:11:57.223Z"
   },
   {
    "duration": 564,
    "start_time": "2023-06-03T09:11:57.634Z"
   },
   {
    "duration": 467,
    "start_time": "2023-06-03T09:11:58.202Z"
   },
   {
    "duration": 255,
    "start_time": "2023-06-03T09:11:58.675Z"
   },
   {
    "duration": 560,
    "start_time": "2023-06-03T09:11:58.932Z"
   },
   {
    "duration": 3,
    "start_time": "2023-06-03T09:11:59.494Z"
   },
   {
    "duration": 95,
    "start_time": "2023-06-03T09:11:59.504Z"
   },
   {
    "duration": 5,
    "start_time": "2023-06-03T09:11:59.602Z"
   },
   {
    "duration": 7,
    "start_time": "2023-06-03T09:11:59.610Z"
   },
   {
    "duration": 66,
    "start_time": "2023-06-03T09:11:59.619Z"
   },
   {
    "duration": 12,
    "start_time": "2023-06-03T09:11:59.689Z"
   },
   {
    "duration": 15,
    "start_time": "2023-06-03T09:11:59.703Z"
   },
   {
    "duration": 2401,
    "start_time": "2023-06-03T09:11:59.719Z"
   },
   {
    "duration": 20,
    "start_time": "2023-06-03T09:12:02.123Z"
   },
   {
    "duration": 76,
    "start_time": "2023-06-03T09:12:02.146Z"
   },
   {
    "duration": 14050,
    "start_time": "2023-06-03T09:12:02.224Z"
   },
   {
    "duration": 240,
    "start_time": "2023-06-03T09:12:16.279Z"
   },
   {
    "duration": 13,
    "start_time": "2023-06-03T09:12:16.532Z"
   },
   {
    "duration": 3,
    "start_time": "2023-06-03T09:12:16.546Z"
   },
   {
    "duration": 5,
    "start_time": "2023-06-03T09:12:16.551Z"
   },
   {
    "duration": 4,
    "start_time": "2023-06-03T09:12:16.558Z"
   },
   {
    "duration": 7,
    "start_time": "2023-06-03T09:12:16.579Z"
   },
   {
    "duration": 6716,
    "start_time": "2023-06-03T09:12:16.588Z"
   },
   {
    "duration": 181,
    "start_time": "2023-06-03T09:12:23.306Z"
   },
   {
    "duration": 968110,
    "start_time": "2023-06-03T09:12:23.494Z"
   },
   {
    "duration": 610,
    "start_time": "2023-06-03T09:28:31.617Z"
   },
   {
    "duration": 12,
    "start_time": "2023-06-03T09:28:32.230Z"
   },
   {
    "duration": 165,
    "start_time": "2023-06-03T09:28:32.244Z"
   },
   {
    "duration": 2681,
    "start_time": "2023-06-03T16:45:14.970Z"
   },
   {
    "duration": 1465,
    "start_time": "2023-06-03T16:45:17.653Z"
   },
   {
    "duration": 2698,
    "start_time": "2023-06-03T16:45:19.120Z"
   },
   {
    "duration": 20,
    "start_time": "2023-06-03T16:45:21.819Z"
   },
   {
    "duration": 99,
    "start_time": "2023-06-03T16:45:21.841Z"
   },
   {
    "duration": 3,
    "start_time": "2023-06-03T16:45:21.942Z"
   },
   {
    "duration": 964,
    "start_time": "2023-06-03T16:45:21.947Z"
   },
   {
    "duration": 841,
    "start_time": "2023-06-03T16:45:22.913Z"
   },
   {
    "duration": 3,
    "start_time": "2023-06-03T16:45:23.755Z"
   },
   {
    "duration": 234,
    "start_time": "2023-06-03T16:45:23.760Z"
   },
   {
    "duration": 167,
    "start_time": "2023-06-03T16:45:23.996Z"
   },
   {
    "duration": 104,
    "start_time": "2023-06-03T16:45:24.164Z"
   },
   {
    "duration": 204,
    "start_time": "2023-06-03T16:45:24.277Z"
   },
   {
    "duration": 95,
    "start_time": "2023-06-03T16:45:24.484Z"
   },
   {
    "duration": 1092,
    "start_time": "2023-06-03T16:45:24.581Z"
   },
   {
    "duration": 16,
    "start_time": "2023-06-03T16:45:25.674Z"
   },
   {
    "duration": 328,
    "start_time": "2023-06-03T16:45:25.692Z"
   },
   {
    "duration": 281,
    "start_time": "2023-06-03T16:45:26.022Z"
   },
   {
    "duration": 283,
    "start_time": "2023-06-03T16:45:26.305Z"
   },
   {
    "duration": 396,
    "start_time": "2023-06-03T16:45:26.590Z"
   },
   {
    "duration": 336,
    "start_time": "2023-06-03T16:45:26.987Z"
   },
   {
    "duration": 410,
    "start_time": "2023-06-03T16:45:27.325Z"
   },
   {
    "duration": 107,
    "start_time": "2023-06-03T16:45:27.736Z"
   },
   {
    "duration": 248,
    "start_time": "2023-06-03T16:45:27.844Z"
   },
   {
    "duration": 3,
    "start_time": "2023-06-03T16:45:28.093Z"
   },
   {
    "duration": 22,
    "start_time": "2023-06-03T16:45:28.097Z"
   },
   {
    "duration": 2,
    "start_time": "2023-06-03T16:45:28.121Z"
   },
   {
    "duration": 4,
    "start_time": "2023-06-03T16:45:28.124Z"
   },
   {
    "duration": 17,
    "start_time": "2023-06-03T16:45:28.129Z"
   },
   {
    "duration": 6,
    "start_time": "2023-06-03T16:45:28.147Z"
   },
   {
    "duration": 23,
    "start_time": "2023-06-03T16:45:28.155Z"
   },
   {
    "duration": 80,
    "start_time": "2023-06-03T16:46:26.401Z"
   },
   {
    "duration": 3,
    "start_time": "2023-06-03T16:53:36.583Z"
   },
   {
    "duration": 2,
    "start_time": "2023-06-03T16:55:34.699Z"
   },
   {
    "duration": 84,
    "start_time": "2023-06-03T16:56:16.124Z"
   },
   {
    "duration": 122,
    "start_time": "2023-06-03T17:00:08.629Z"
   },
   {
    "duration": 2387,
    "start_time": "2023-06-03T17:07:38.166Z"
   },
   {
    "duration": 5,
    "start_time": "2023-06-03T17:07:40.556Z"
   },
   {
    "duration": 1404,
    "start_time": "2023-06-03T17:07:40.563Z"
   },
   {
    "duration": 18,
    "start_time": "2023-06-03T17:07:41.969Z"
   },
   {
    "duration": 116,
    "start_time": "2023-06-03T17:07:41.989Z"
   },
   {
    "duration": 4,
    "start_time": "2023-06-03T17:07:42.107Z"
   },
   {
    "duration": 657,
    "start_time": "2023-06-03T17:07:42.112Z"
   },
   {
    "duration": 818,
    "start_time": "2023-06-03T17:07:42.770Z"
   },
   {
    "duration": 3,
    "start_time": "2023-06-03T17:07:43.590Z"
   },
   {
    "duration": 250,
    "start_time": "2023-06-03T17:07:43.595Z"
   },
   {
    "duration": 125,
    "start_time": "2023-06-03T17:07:43.846Z"
   },
   {
    "duration": 114,
    "start_time": "2023-06-03T17:07:43.978Z"
   },
   {
    "duration": 406,
    "start_time": "2023-06-03T17:07:44.094Z"
   },
   {
    "duration": 0,
    "start_time": "2023-06-03T17:07:44.502Z"
   },
   {
    "duration": 0,
    "start_time": "2023-06-03T17:07:44.503Z"
   },
   {
    "duration": 0,
    "start_time": "2023-06-03T17:07:44.504Z"
   },
   {
    "duration": 0,
    "start_time": "2023-06-03T17:07:44.505Z"
   },
   {
    "duration": 1,
    "start_time": "2023-06-03T17:07:44.506Z"
   },
   {
    "duration": 0,
    "start_time": "2023-06-03T17:07:44.508Z"
   },
   {
    "duration": 0,
    "start_time": "2023-06-03T17:07:44.509Z"
   },
   {
    "duration": 0,
    "start_time": "2023-06-03T17:07:44.511Z"
   },
   {
    "duration": 0,
    "start_time": "2023-06-03T17:07:44.512Z"
   },
   {
    "duration": 0,
    "start_time": "2023-06-03T17:07:44.513Z"
   },
   {
    "duration": 0,
    "start_time": "2023-06-03T17:07:44.514Z"
   },
   {
    "duration": 0,
    "start_time": "2023-06-03T17:07:44.515Z"
   },
   {
    "duration": 0,
    "start_time": "2023-06-03T17:07:44.516Z"
   },
   {
    "duration": 0,
    "start_time": "2023-06-03T17:07:44.517Z"
   },
   {
    "duration": 0,
    "start_time": "2023-06-03T17:07:44.518Z"
   },
   {
    "duration": 0,
    "start_time": "2023-06-03T17:07:44.519Z"
   },
   {
    "duration": 0,
    "start_time": "2023-06-03T17:07:44.520Z"
   },
   {
    "duration": 0,
    "start_time": "2023-06-03T17:07:44.521Z"
   },
   {
    "duration": 0,
    "start_time": "2023-06-03T17:07:44.522Z"
   },
   {
    "duration": 0,
    "start_time": "2023-06-03T17:07:44.523Z"
   },
   {
    "duration": 2016,
    "start_time": "2023-06-03T17:07:53.293Z"
   },
   {
    "duration": 1335,
    "start_time": "2023-06-03T17:07:55.311Z"
   },
   {
    "duration": 795,
    "start_time": "2023-06-03T17:07:56.648Z"
   },
   {
    "duration": 34,
    "start_time": "2023-06-03T17:07:57.446Z"
   },
   {
    "duration": 128,
    "start_time": "2023-06-03T17:07:57.482Z"
   },
   {
    "duration": 3,
    "start_time": "2023-06-03T17:07:57.612Z"
   },
   {
    "duration": 779,
    "start_time": "2023-06-03T17:07:57.616Z"
   },
   {
    "duration": 849,
    "start_time": "2023-06-03T17:07:58.397Z"
   },
   {
    "duration": 3,
    "start_time": "2023-06-03T17:07:59.248Z"
   },
   {
    "duration": 259,
    "start_time": "2023-06-03T17:07:59.253Z"
   },
   {
    "duration": 180,
    "start_time": "2023-06-03T17:07:59.514Z"
   },
   {
    "duration": 113,
    "start_time": "2023-06-03T17:07:59.695Z"
   },
   {
    "duration": 222,
    "start_time": "2023-06-03T17:07:59.810Z"
   },
   {
    "duration": 94,
    "start_time": "2023-06-03T17:08:00.034Z"
   },
   {
    "duration": 1028,
    "start_time": "2023-06-03T17:08:00.129Z"
   },
   {
    "duration": 23,
    "start_time": "2023-06-03T17:08:01.159Z"
   },
   {
    "duration": 336,
    "start_time": "2023-06-03T17:08:01.183Z"
   },
   {
    "duration": 330,
    "start_time": "2023-06-03T17:08:01.521Z"
   },
   {
    "duration": 307,
    "start_time": "2023-06-03T17:08:01.853Z"
   },
   {
    "duration": 292,
    "start_time": "2023-06-03T17:08:02.162Z"
   },
   {
    "duration": 423,
    "start_time": "2023-06-03T17:08:02.456Z"
   },
   {
    "duration": 370,
    "start_time": "2023-06-03T17:08:02.881Z"
   },
   {
    "duration": 102,
    "start_time": "2023-06-03T17:08:03.252Z"
   },
   {
    "duration": 269,
    "start_time": "2023-06-03T17:08:03.355Z"
   },
   {
    "duration": 3,
    "start_time": "2023-06-03T17:08:03.626Z"
   },
   {
    "duration": 22,
    "start_time": "2023-06-03T17:08:03.631Z"
   },
   {
    "duration": 22,
    "start_time": "2023-06-03T17:08:03.656Z"
   },
   {
    "duration": 2,
    "start_time": "2023-06-03T17:08:03.682Z"
   },
   {
    "duration": 4,
    "start_time": "2023-06-03T17:08:03.686Z"
   },
   {
    "duration": 4,
    "start_time": "2023-06-03T17:08:03.692Z"
   },
   {
    "duration": 14,
    "start_time": "2023-06-03T17:08:03.697Z"
   },
   {
    "duration": 3,
    "start_time": "2023-06-03T17:08:03.713Z"
   },
   {
    "duration": 102,
    "start_time": "2023-06-03T17:08:03.718Z"
   },
   {
    "duration": 440,
    "start_time": "2023-06-03T17:08:41.660Z"
   },
   {
    "duration": 115,
    "start_time": "2023-06-03T17:22:50.398Z"
   },
   {
    "duration": 2160,
    "start_time": "2023-06-03T17:24:48.128Z"
   },
   {
    "duration": 1282,
    "start_time": "2023-06-03T17:24:50.290Z"
   },
   {
    "duration": 788,
    "start_time": "2023-06-03T17:24:51.574Z"
   },
   {
    "duration": 29,
    "start_time": "2023-06-03T17:24:52.364Z"
   },
   {
    "duration": 116,
    "start_time": "2023-06-03T17:24:52.395Z"
   },
   {
    "duration": 4,
    "start_time": "2023-06-03T17:24:52.513Z"
   },
   {
    "duration": 826,
    "start_time": "2023-06-03T17:24:52.518Z"
   },
   {
    "duration": 986,
    "start_time": "2023-06-03T17:24:53.345Z"
   },
   {
    "duration": 5,
    "start_time": "2023-06-03T17:24:54.333Z"
   },
   {
    "duration": 295,
    "start_time": "2023-06-03T17:24:54.340Z"
   },
   {
    "duration": 195,
    "start_time": "2023-06-03T17:24:54.637Z"
   },
   {
    "duration": 114,
    "start_time": "2023-06-03T17:24:54.834Z"
   },
   {
    "duration": 218,
    "start_time": "2023-06-03T17:24:54.950Z"
   },
   {
    "duration": 108,
    "start_time": "2023-06-03T17:24:55.171Z"
   },
   {
    "duration": 1079,
    "start_time": "2023-06-03T17:24:55.281Z"
   },
   {
    "duration": 27,
    "start_time": "2023-06-03T17:24:56.362Z"
   },
   {
    "duration": 342,
    "start_time": "2023-06-03T17:24:56.390Z"
   },
   {
    "duration": 300,
    "start_time": "2023-06-03T17:24:56.734Z"
   },
   {
    "duration": 294,
    "start_time": "2023-06-03T17:24:57.036Z"
   },
   {
    "duration": 328,
    "start_time": "2023-06-03T17:24:57.332Z"
   },
   {
    "duration": 408,
    "start_time": "2023-06-03T17:24:57.662Z"
   },
   {
    "duration": 341,
    "start_time": "2023-06-03T17:24:58.077Z"
   },
   {
    "duration": 106,
    "start_time": "2023-06-03T17:24:58.419Z"
   },
   {
    "duration": 259,
    "start_time": "2023-06-03T17:24:58.526Z"
   },
   {
    "duration": 3,
    "start_time": "2023-06-03T17:24:58.787Z"
   },
   {
    "duration": 21,
    "start_time": "2023-06-03T17:24:58.792Z"
   },
   {
    "duration": 2,
    "start_time": "2023-06-03T17:24:58.815Z"
   },
   {
    "duration": 3,
    "start_time": "2023-06-03T17:24:58.819Z"
   },
   {
    "duration": 4,
    "start_time": "2023-06-03T17:24:58.824Z"
   },
   {
    "duration": 5,
    "start_time": "2023-06-03T17:24:58.830Z"
   },
   {
    "duration": 41,
    "start_time": "2023-06-03T17:24:58.837Z"
   },
   {
    "duration": 2,
    "start_time": "2023-06-03T17:24:58.880Z"
   },
   {
    "duration": 85,
    "start_time": "2023-06-03T17:24:58.884Z"
   },
   {
    "duration": 455,
    "start_time": "2023-06-03T17:24:58.971Z"
   },
   {
    "duration": 391,
    "start_time": "2023-06-03T17:25:01.744Z"
   },
   {
    "duration": 282,
    "start_time": "2023-06-03T17:25:13.985Z"
   },
   {
    "duration": 273,
    "start_time": "2023-06-03T17:26:29.243Z"
   },
   {
    "duration": 2,
    "start_time": "2023-06-03T17:26:46.142Z"
   },
   {
    "duration": 2,
    "start_time": "2023-06-03T17:26:53.751Z"
   },
   {
    "duration": 60,
    "start_time": "2023-06-03T17:27:24.393Z"
   },
   {
    "duration": 8996,
    "start_time": "2023-06-03T17:27:34.146Z"
   },
   {
    "duration": 139,
    "start_time": "2023-06-03T17:27:54.367Z"
   },
   {
    "duration": 56,
    "start_time": "2023-06-03T17:28:13.036Z"
   },
   {
    "duration": 8,
    "start_time": "2023-06-03T17:28:19.915Z"
   },
   {
    "duration": 2084,
    "start_time": "2023-06-03T17:35:08.798Z"
   },
   {
    "duration": 1280,
    "start_time": "2023-06-03T17:35:10.884Z"
   },
   {
    "duration": 746,
    "start_time": "2023-06-03T17:35:12.166Z"
   },
   {
    "duration": 18,
    "start_time": "2023-06-03T17:35:12.914Z"
   },
   {
    "duration": 111,
    "start_time": "2023-06-03T17:35:12.934Z"
   },
   {
    "duration": 4,
    "start_time": "2023-06-03T17:35:13.046Z"
   },
   {
    "duration": 800,
    "start_time": "2023-06-03T17:35:13.051Z"
   },
   {
    "duration": 947,
    "start_time": "2023-06-03T17:35:13.852Z"
   },
   {
    "duration": 3,
    "start_time": "2023-06-03T17:35:14.800Z"
   },
   {
    "duration": 233,
    "start_time": "2023-06-03T17:35:14.805Z"
   },
   {
    "duration": 172,
    "start_time": "2023-06-03T17:35:15.040Z"
   },
   {
    "duration": 110,
    "start_time": "2023-06-03T17:35:15.214Z"
   },
   {
    "duration": 203,
    "start_time": "2023-06-03T17:35:15.325Z"
   },
   {
    "duration": 108,
    "start_time": "2023-06-03T17:35:15.530Z"
   },
   {
    "duration": 1109,
    "start_time": "2023-06-03T17:35:15.640Z"
   },
   {
    "duration": 16,
    "start_time": "2023-06-03T17:35:16.750Z"
   },
   {
    "duration": 303,
    "start_time": "2023-06-03T17:35:16.768Z"
   },
   {
    "duration": 246,
    "start_time": "2023-06-03T17:35:17.077Z"
   },
   {
    "duration": 319,
    "start_time": "2023-06-03T17:35:17.324Z"
   },
   {
    "duration": 278,
    "start_time": "2023-06-03T17:35:17.644Z"
   },
   {
    "duration": 408,
    "start_time": "2023-06-03T17:35:17.924Z"
   },
   {
    "duration": 363,
    "start_time": "2023-06-03T17:35:18.333Z"
   },
   {
    "duration": 108,
    "start_time": "2023-06-03T17:35:18.698Z"
   },
   {
    "duration": 267,
    "start_time": "2023-06-03T17:35:18.807Z"
   },
   {
    "duration": 3,
    "start_time": "2023-06-03T17:35:19.078Z"
   },
   {
    "duration": 24,
    "start_time": "2023-06-03T17:35:19.083Z"
   },
   {
    "duration": 2,
    "start_time": "2023-06-03T17:35:19.109Z"
   },
   {
    "duration": 8,
    "start_time": "2023-06-03T17:35:19.114Z"
   },
   {
    "duration": 3,
    "start_time": "2023-06-03T17:35:19.124Z"
   },
   {
    "duration": 4,
    "start_time": "2023-06-03T17:35:19.128Z"
   },
   {
    "duration": 14,
    "start_time": "2023-06-03T17:35:19.134Z"
   },
   {
    "duration": 3,
    "start_time": "2023-06-03T17:35:19.149Z"
   },
   {
    "duration": 78,
    "start_time": "2023-06-03T17:35:19.178Z"
   },
   {
    "duration": 125,
    "start_time": "2023-06-03T17:35:19.257Z"
   },
   {
    "duration": 472,
    "start_time": "2023-06-03T17:35:19.384Z"
   },
   {
    "duration": 295,
    "start_time": "2023-06-03T17:35:19.858Z"
   },
   {
    "duration": 2,
    "start_time": "2023-06-03T17:35:20.155Z"
   },
   {
    "duration": 4,
    "start_time": "2023-06-03T17:35:20.159Z"
   },
   {
    "duration": 6500,
    "start_time": "2023-06-03T17:35:20.164Z"
   },
   {
    "duration": 106,
    "start_time": "2023-06-03T17:35:26.666Z"
   },
   {
    "duration": 8,
    "start_time": "2023-06-03T17:35:30.924Z"
   },
   {
    "duration": 4,
    "start_time": "2023-06-03T17:35:39.304Z"
   },
   {
    "duration": 1390,
    "start_time": "2023-06-03T17:35:41.842Z"
   },
   {
    "duration": 64,
    "start_time": "2023-06-03T17:35:47.483Z"
   },
   {
    "duration": 66,
    "start_time": "2023-06-03T17:45:10.564Z"
   },
   {
    "duration": 1350,
    "start_time": "2023-06-03T17:45:26.622Z"
   },
   {
    "duration": 1380,
    "start_time": "2023-06-03T17:47:03.963Z"
   },
   {
    "duration": 2101,
    "start_time": "2023-06-03T18:18:26.700Z"
   },
   {
    "duration": 1472,
    "start_time": "2023-06-03T18:18:28.804Z"
   },
   {
    "duration": 1868,
    "start_time": "2023-06-03T18:18:30.278Z"
   },
   {
    "duration": 19,
    "start_time": "2023-06-03T18:18:32.148Z"
   },
   {
    "duration": 110,
    "start_time": "2023-06-03T18:18:32.169Z"
   },
   {
    "duration": 5,
    "start_time": "2023-06-03T18:18:32.282Z"
   },
   {
    "duration": 817,
    "start_time": "2023-06-03T18:18:32.288Z"
   },
   {
    "duration": 910,
    "start_time": "2023-06-03T18:18:33.106Z"
   },
   {
    "duration": 4,
    "start_time": "2023-06-03T18:18:34.017Z"
   },
   {
    "duration": 232,
    "start_time": "2023-06-03T18:18:34.022Z"
   },
   {
    "duration": 187,
    "start_time": "2023-06-03T18:18:34.256Z"
   },
   {
    "duration": 115,
    "start_time": "2023-06-03T18:18:34.445Z"
   },
   {
    "duration": 228,
    "start_time": "2023-06-03T18:18:34.563Z"
   },
   {
    "duration": 98,
    "start_time": "2023-06-03T18:18:34.794Z"
   },
   {
    "duration": 1108,
    "start_time": "2023-06-03T18:18:34.894Z"
   },
   {
    "duration": 18,
    "start_time": "2023-06-03T18:18:36.004Z"
   },
   {
    "duration": 315,
    "start_time": "2023-06-03T18:18:36.025Z"
   },
   {
    "duration": 249,
    "start_time": "2023-06-03T18:18:36.341Z"
   },
   {
    "duration": 269,
    "start_time": "2023-06-03T18:18:36.591Z"
   },
   {
    "duration": 273,
    "start_time": "2023-06-03T18:18:36.861Z"
   },
   {
    "duration": 494,
    "start_time": "2023-06-03T18:18:37.136Z"
   },
   {
    "duration": 355,
    "start_time": "2023-06-03T18:18:37.632Z"
   },
   {
    "duration": 112,
    "start_time": "2023-06-03T18:18:37.988Z"
   },
   {
    "duration": 249,
    "start_time": "2023-06-03T18:18:38.101Z"
   },
   {
    "duration": 3,
    "start_time": "2023-06-03T18:18:38.352Z"
   },
   {
    "duration": 36,
    "start_time": "2023-06-03T18:18:38.357Z"
   },
   {
    "duration": 2,
    "start_time": "2023-06-03T18:18:38.396Z"
   },
   {
    "duration": 7,
    "start_time": "2023-06-03T18:18:38.400Z"
   },
   {
    "duration": 5,
    "start_time": "2023-06-03T18:18:38.409Z"
   },
   {
    "duration": 5,
    "start_time": "2023-06-03T18:18:38.416Z"
   },
   {
    "duration": 15,
    "start_time": "2023-06-03T18:18:38.422Z"
   },
   {
    "duration": 2,
    "start_time": "2023-06-03T18:18:38.439Z"
   },
   {
    "duration": 98,
    "start_time": "2023-06-03T18:18:38.442Z"
   },
   {
    "duration": 439,
    "start_time": "2023-06-03T18:19:52.381Z"
   },
   {
    "duration": 397,
    "start_time": "2023-06-03T18:20:08.854Z"
   },
   {
    "duration": 280,
    "start_time": "2023-06-03T18:22:06.352Z"
   },
   {
    "duration": 278,
    "start_time": "2023-06-03T18:29:00.591Z"
   },
   {
    "duration": 448,
    "start_time": "2023-06-03T19:19:07.350Z"
   },
   {
    "duration": 289,
    "start_time": "2023-06-03T19:19:20.840Z"
   },
   {
    "duration": 390,
    "start_time": "2023-06-03T19:23:16.187Z"
   },
   {
    "duration": 421,
    "start_time": "2023-06-03T19:23:21.026Z"
   },
   {
    "duration": 1063,
    "start_time": "2023-06-03T19:26:38.643Z"
   },
   {
    "duration": 1110,
    "start_time": "2023-06-03T19:27:06.509Z"
   },
   {
    "duration": 279,
    "start_time": "2023-06-03T19:27:34.015Z"
   },
   {
    "duration": 271,
    "start_time": "2023-06-03T19:27:44.303Z"
   },
   {
    "duration": 289,
    "start_time": "2023-06-03T19:28:15.038Z"
   },
   {
    "duration": 279,
    "start_time": "2023-06-03T19:28:38.542Z"
   },
   {
    "duration": 5,
    "start_time": "2023-06-03T19:34:42.427Z"
   },
   {
    "duration": 9,
    "start_time": "2023-06-03T19:35:09.641Z"
   },
   {
    "duration": 3,
    "start_time": "2023-06-03T19:44:28.668Z"
   },
   {
    "duration": 2183,
    "start_time": "2023-06-03T19:46:17.141Z"
   },
   {
    "duration": 1299,
    "start_time": "2023-06-03T19:46:19.327Z"
   },
   {
    "duration": 926,
    "start_time": "2023-06-03T19:46:20.628Z"
   },
   {
    "duration": 19,
    "start_time": "2023-06-03T19:46:21.556Z"
   },
   {
    "duration": 112,
    "start_time": "2023-06-03T19:46:21.577Z"
   },
   {
    "duration": 4,
    "start_time": "2023-06-03T19:46:21.691Z"
   },
   {
    "duration": 830,
    "start_time": "2023-06-03T19:46:21.697Z"
   },
   {
    "duration": 1048,
    "start_time": "2023-06-03T19:46:22.529Z"
   },
   {
    "duration": 3,
    "start_time": "2023-06-03T19:46:23.579Z"
   },
   {
    "duration": 246,
    "start_time": "2023-06-03T19:46:23.584Z"
   },
   {
    "duration": 200,
    "start_time": "2023-06-03T19:46:23.832Z"
   },
   {
    "duration": 145,
    "start_time": "2023-06-03T19:46:24.034Z"
   },
   {
    "duration": 226,
    "start_time": "2023-06-03T19:46:24.181Z"
   },
   {
    "duration": 91,
    "start_time": "2023-06-03T19:46:24.410Z"
   },
   {
    "duration": 1092,
    "start_time": "2023-06-03T19:46:24.502Z"
   },
   {
    "duration": 16,
    "start_time": "2023-06-03T19:46:25.596Z"
   },
   {
    "duration": 394,
    "start_time": "2023-06-03T19:46:25.614Z"
   },
   {
    "duration": 336,
    "start_time": "2023-06-03T19:46:26.010Z"
   },
   {
    "duration": 297,
    "start_time": "2023-06-03T19:46:26.349Z"
   },
   {
    "duration": 297,
    "start_time": "2023-06-03T19:46:26.648Z"
   },
   {
    "duration": 461,
    "start_time": "2023-06-03T19:46:26.947Z"
   },
   {
    "duration": 374,
    "start_time": "2023-06-03T19:46:27.410Z"
   },
   {
    "duration": 108,
    "start_time": "2023-06-03T19:46:27.786Z"
   },
   {
    "duration": 255,
    "start_time": "2023-06-03T19:46:27.896Z"
   },
   {
    "duration": 4,
    "start_time": "2023-06-03T19:46:28.152Z"
   },
   {
    "duration": 37,
    "start_time": "2023-06-03T19:46:28.158Z"
   },
   {
    "duration": 2,
    "start_time": "2023-06-03T19:46:28.197Z"
   },
   {
    "duration": 11,
    "start_time": "2023-06-03T19:46:28.200Z"
   },
   {
    "duration": 6,
    "start_time": "2023-06-03T19:46:28.213Z"
   },
   {
    "duration": 589,
    "start_time": "2023-06-03T19:46:31.919Z"
   },
   {
    "duration": 17,
    "start_time": "2023-06-03T19:51:47.151Z"
   },
   {
    "duration": 545,
    "start_time": "2023-06-03T19:52:29.557Z"
   },
   {
    "duration": 416,
    "start_time": "2023-06-03T19:56:10.205Z"
   },
   {
    "duration": 2,
    "start_time": "2023-06-03T20:00:11.011Z"
   },
   {
    "duration": 2,
    "start_time": "2023-06-03T20:00:12.979Z"
   },
   {
    "duration": 2208,
    "start_time": "2023-06-03T20:00:31.208Z"
   },
   {
    "duration": 1262,
    "start_time": "2023-06-03T20:00:33.418Z"
   },
   {
    "duration": 833,
    "start_time": "2023-06-03T20:00:34.682Z"
   },
   {
    "duration": 26,
    "start_time": "2023-06-03T20:00:35.518Z"
   },
   {
    "duration": 142,
    "start_time": "2023-06-03T20:00:35.545Z"
   },
   {
    "duration": 3,
    "start_time": "2023-06-03T20:00:35.689Z"
   },
   {
    "duration": 882,
    "start_time": "2023-06-03T20:00:35.694Z"
   },
   {
    "duration": 1048,
    "start_time": "2023-06-03T20:00:36.577Z"
   },
   {
    "duration": 3,
    "start_time": "2023-06-03T20:00:37.626Z"
   },
   {
    "duration": 230,
    "start_time": "2023-06-03T20:00:37.631Z"
   },
   {
    "duration": 172,
    "start_time": "2023-06-03T20:00:37.877Z"
   },
   {
    "duration": 106,
    "start_time": "2023-06-03T20:00:38.051Z"
   },
   {
    "duration": 206,
    "start_time": "2023-06-03T20:00:38.159Z"
   },
   {
    "duration": 100,
    "start_time": "2023-06-03T20:00:38.367Z"
   },
   {
    "duration": 990,
    "start_time": "2023-06-03T20:00:38.478Z"
   },
   {
    "duration": 16,
    "start_time": "2023-06-03T20:00:39.478Z"
   },
   {
    "duration": 331,
    "start_time": "2023-06-03T20:00:39.496Z"
   },
   {
    "duration": 277,
    "start_time": "2023-06-03T20:00:39.829Z"
   },
   {
    "duration": 301,
    "start_time": "2023-06-03T20:00:40.107Z"
   },
   {
    "duration": 316,
    "start_time": "2023-06-03T20:00:40.410Z"
   },
   {
    "duration": 472,
    "start_time": "2023-06-03T20:00:40.728Z"
   },
   {
    "duration": 395,
    "start_time": "2023-06-03T20:00:41.203Z"
   },
   {
    "duration": 109,
    "start_time": "2023-06-03T20:00:41.599Z"
   },
   {
    "duration": 292,
    "start_time": "2023-06-03T20:00:41.711Z"
   },
   {
    "duration": 3,
    "start_time": "2023-06-03T20:00:42.005Z"
   },
   {
    "duration": 35,
    "start_time": "2023-06-03T20:00:42.010Z"
   },
   {
    "duration": 2,
    "start_time": "2023-06-03T20:00:42.046Z"
   },
   {
    "duration": 4,
    "start_time": "2023-06-03T20:00:42.051Z"
   },
   {
    "duration": 6,
    "start_time": "2023-06-03T20:00:42.056Z"
   },
   {
    "duration": 15,
    "start_time": "2023-06-03T20:00:42.063Z"
   },
   {
    "duration": 2,
    "start_time": "2023-06-03T20:00:42.080Z"
   },
   {
    "duration": 18,
    "start_time": "2023-06-03T20:00:42.083Z"
   },
   {
    "duration": 3,
    "start_time": "2023-06-03T20:00:42.102Z"
   },
   {
    "duration": 100,
    "start_time": "2023-06-03T20:00:42.106Z"
   },
   {
    "duration": 2,
    "start_time": "2023-06-03T20:00:42.208Z"
   },
   {
    "duration": 444,
    "start_time": "2023-06-03T20:00:45.096Z"
   },
   {
    "duration": 122,
    "start_time": "2023-06-03T20:02:49.906Z"
   },
   {
    "duration": 288,
    "start_time": "2023-06-03T20:02:58.179Z"
   },
   {
    "duration": 18,
    "start_time": "2023-06-03T20:03:00.207Z"
   },
   {
    "duration": 50,
    "start_time": "2023-06-03T20:04:09.261Z"
   },
   {
    "duration": 8195,
    "start_time": "2023-06-03T20:06:13.158Z"
   },
   {
    "duration": 124,
    "start_time": "2023-06-03T20:06:25.412Z"
   },
   {
    "duration": 8,
    "start_time": "2023-06-03T20:06:28.683Z"
   },
   {
    "duration": 285,
    "start_time": "2023-06-03T20:06:45.046Z"
   },
   {
    "duration": 3,
    "start_time": "2023-06-03T20:07:24.372Z"
   },
   {
    "duration": 450,
    "start_time": "2023-06-03T20:07:53.293Z"
   },
   {
    "duration": 557,
    "start_time": "2023-06-03T20:08:17.928Z"
   },
   {
    "duration": 432,
    "start_time": "2023-06-03T20:10:02.711Z"
   },
   {
    "duration": 780,
    "start_time": "2023-06-03T20:10:48.349Z"
   },
   {
    "duration": 75,
    "start_time": "2023-06-03T20:11:32.450Z"
   },
   {
    "duration": 486,
    "start_time": "2023-06-03T20:11:34.355Z"
   },
   {
    "duration": 3815,
    "start_time": "2023-06-03T20:11:37.287Z"
   },
   {
    "duration": 12734,
    "start_time": "2023-06-03T20:12:17.255Z"
   },
   {
    "duration": 100488,
    "start_time": "2023-06-03T20:13:06.607Z"
   },
   {
    "duration": 819,
    "start_time": "2023-06-03T20:15:36.661Z"
   },
   {
    "duration": 230,
    "start_time": "2023-06-03T20:15:47.407Z"
   },
   {
    "duration": 62,
    "start_time": "2023-06-03T20:17:49.637Z"
   },
   {
    "duration": 4,
    "start_time": "2023-06-03T20:17:56.212Z"
   },
   {
    "duration": 1455,
    "start_time": "2023-06-03T20:17:59.499Z"
   },
   {
    "duration": 2234,
    "start_time": "2023-06-03T20:22:47.709Z"
   },
   {
    "duration": 1350,
    "start_time": "2023-06-03T20:22:49.945Z"
   },
   {
    "duration": 855,
    "start_time": "2023-06-03T20:22:51.296Z"
   },
   {
    "duration": 42,
    "start_time": "2023-06-03T20:22:52.153Z"
   },
   {
    "duration": 137,
    "start_time": "2023-06-03T20:22:52.199Z"
   },
   {
    "duration": 4,
    "start_time": "2023-06-03T20:22:52.337Z"
   },
   {
    "duration": 913,
    "start_time": "2023-06-03T20:22:52.343Z"
   },
   {
    "duration": 1002,
    "start_time": "2023-06-03T20:22:53.257Z"
   },
   {
    "duration": 4,
    "start_time": "2023-06-03T20:22:54.261Z"
   },
   {
    "duration": 253,
    "start_time": "2023-06-03T20:22:54.267Z"
   },
   {
    "duration": 172,
    "start_time": "2023-06-03T20:22:54.522Z"
   },
   {
    "duration": 106,
    "start_time": "2023-06-03T20:22:54.696Z"
   },
   {
    "duration": 211,
    "start_time": "2023-06-03T20:22:54.804Z"
   },
   {
    "duration": 99,
    "start_time": "2023-06-03T20:22:55.018Z"
   },
   {
    "duration": 1120,
    "start_time": "2023-06-03T20:22:55.119Z"
   },
   {
    "duration": 20,
    "start_time": "2023-06-03T20:22:56.240Z"
   },
   {
    "duration": 350,
    "start_time": "2023-06-03T20:22:56.262Z"
   },
   {
    "duration": 325,
    "start_time": "2023-06-03T20:22:56.613Z"
   },
   {
    "duration": 292,
    "start_time": "2023-06-03T20:22:56.939Z"
   },
   {
    "duration": 395,
    "start_time": "2023-06-03T20:22:57.233Z"
   },
   {
    "duration": 479,
    "start_time": "2023-06-03T20:22:57.630Z"
   },
   {
    "duration": 327,
    "start_time": "2023-06-03T20:22:58.110Z"
   },
   {
    "duration": 105,
    "start_time": "2023-06-03T20:22:58.439Z"
   },
   {
    "duration": 266,
    "start_time": "2023-06-03T20:22:58.545Z"
   },
   {
    "duration": 3,
    "start_time": "2023-06-03T20:22:58.812Z"
   },
   {
    "duration": 22,
    "start_time": "2023-06-03T20:22:58.817Z"
   },
   {
    "duration": 2,
    "start_time": "2023-06-03T20:22:58.840Z"
   },
   {
    "duration": 4,
    "start_time": "2023-06-03T20:22:58.844Z"
   },
   {
    "duration": 30,
    "start_time": "2023-06-03T20:22:58.849Z"
   },
   {
    "duration": 13,
    "start_time": "2023-06-03T20:22:58.881Z"
   },
   {
    "duration": 8,
    "start_time": "2023-06-03T20:22:58.896Z"
   },
   {
    "duration": 109,
    "start_time": "2023-06-03T20:22:58.906Z"
   },
   {
    "duration": 0,
    "start_time": "2023-06-03T20:22:59.017Z"
   },
   {
    "duration": 0,
    "start_time": "2023-06-03T20:22:59.018Z"
   },
   {
    "duration": 0,
    "start_time": "2023-06-03T20:22:59.020Z"
   },
   {
    "duration": 0,
    "start_time": "2023-06-03T20:22:59.021Z"
   },
   {
    "duration": 12,
    "start_time": "2023-06-03T20:23:01.817Z"
   },
   {
    "duration": 13,
    "start_time": "2023-06-03T20:23:46.669Z"
   },
   {
    "duration": 91,
    "start_time": "2023-06-03T20:23:49.155Z"
   },
   {
    "duration": 609,
    "start_time": "2023-06-03T20:23:52.414Z"
   },
   {
    "duration": 231,
    "start_time": "2023-06-03T20:23:56.331Z"
   },
   {
    "duration": 4398,
    "start_time": "2023-06-03T20:24:12.134Z"
   },
   {
    "duration": 74,
    "start_time": "2023-06-03T20:24:27.727Z"
   },
   {
    "duration": 7,
    "start_time": "2023-06-03T20:24:41.575Z"
   },
   {
    "duration": 4,
    "start_time": "2023-06-03T20:25:01.007Z"
   },
   {
    "duration": 1598,
    "start_time": "2023-06-03T20:26:08.277Z"
   },
   {
    "duration": 112,
    "start_time": "2023-06-03T20:26:24.344Z"
   },
   {
    "duration": 1248,
    "start_time": "2023-06-03T20:26:55.077Z"
   },
   {
    "duration": 1499,
    "start_time": "2023-06-03T20:27:03.330Z"
   },
   {
    "duration": 1502,
    "start_time": "2023-06-03T20:27:09.260Z"
   },
   {
    "duration": 1561,
    "start_time": "2023-06-03T20:27:13.933Z"
   },
   {
    "duration": 106,
    "start_time": "2023-06-03T20:27:20.679Z"
   },
   {
    "duration": 1100,
    "start_time": "2023-06-03T20:27:26.439Z"
   },
   {
    "duration": 1682,
    "start_time": "2023-06-03T20:27:33.168Z"
   },
   {
    "duration": 1673,
    "start_time": "2023-06-03T20:27:39.856Z"
   },
   {
    "duration": 1607,
    "start_time": "2023-06-03T20:27:43.932Z"
   },
   {
    "duration": 1772,
    "start_time": "2023-06-03T20:27:48.064Z"
   },
   {
    "duration": 1729,
    "start_time": "2023-06-03T20:27:52.376Z"
   },
   {
    "duration": 1831,
    "start_time": "2023-06-03T20:27:56.919Z"
   },
   {
    "duration": 1973,
    "start_time": "2023-06-03T20:28:01.947Z"
   },
   {
    "duration": 1998,
    "start_time": "2023-06-03T20:28:07.611Z"
   },
   {
    "duration": 2149,
    "start_time": "2023-06-03T20:28:12.642Z"
   },
   {
    "duration": 128,
    "start_time": "2023-06-03T20:28:18.027Z"
   },
   {
    "duration": 23034,
    "start_time": "2023-06-03T20:28:42.019Z"
   },
   {
    "duration": 20,
    "start_time": "2023-06-03T20:35:18.845Z"
   },
   {
    "duration": 3,
    "start_time": "2023-06-03T20:35:23.307Z"
   },
   {
    "duration": 118,
    "start_time": "2023-06-03T20:35:25.840Z"
   },
   {
    "duration": 627,
    "start_time": "2023-06-03T20:35:31.878Z"
   },
   {
    "duration": 602,
    "start_time": "2023-06-03T20:36:26.626Z"
   },
   {
    "duration": 231,
    "start_time": "2023-06-03T20:36:50.147Z"
   },
   {
    "duration": 2231,
    "start_time": "2023-06-03T20:37:22.923Z"
   },
   {
    "duration": 1348,
    "start_time": "2023-06-03T20:37:25.156Z"
   },
   {
    "duration": 819,
    "start_time": "2023-06-03T20:37:26.506Z"
   },
   {
    "duration": 29,
    "start_time": "2023-06-03T20:37:27.327Z"
   },
   {
    "duration": 165,
    "start_time": "2023-06-03T20:37:27.358Z"
   },
   {
    "duration": 6,
    "start_time": "2023-06-03T20:37:27.525Z"
   },
   {
    "duration": 845,
    "start_time": "2023-06-03T20:37:27.534Z"
   },
   {
    "duration": 908,
    "start_time": "2023-06-03T20:37:28.381Z"
   },
   {
    "duration": 3,
    "start_time": "2023-06-03T20:37:29.291Z"
   },
   {
    "duration": 240,
    "start_time": "2023-06-03T20:37:29.296Z"
   },
   {
    "duration": 184,
    "start_time": "2023-06-03T20:37:29.539Z"
   },
   {
    "duration": 114,
    "start_time": "2023-06-03T20:37:29.725Z"
   },
   {
    "duration": 217,
    "start_time": "2023-06-03T20:37:29.841Z"
   },
   {
    "duration": 93,
    "start_time": "2023-06-03T20:37:30.060Z"
   },
   {
    "duration": 1048,
    "start_time": "2023-06-03T20:37:30.154Z"
   },
   {
    "duration": 16,
    "start_time": "2023-06-03T20:37:31.203Z"
   },
   {
    "duration": 313,
    "start_time": "2023-06-03T20:37:31.220Z"
   },
   {
    "duration": 263,
    "start_time": "2023-06-03T20:37:31.535Z"
   },
   {
    "duration": 294,
    "start_time": "2023-06-03T20:37:31.799Z"
   },
   {
    "duration": 288,
    "start_time": "2023-06-03T20:37:32.096Z"
   },
   {
    "duration": 430,
    "start_time": "2023-06-03T20:37:32.386Z"
   },
   {
    "duration": 362,
    "start_time": "2023-06-03T20:37:32.818Z"
   },
   {
    "duration": 109,
    "start_time": "2023-06-03T20:37:33.182Z"
   },
   {
    "duration": 264,
    "start_time": "2023-06-03T20:37:33.293Z"
   },
   {
    "duration": 4,
    "start_time": "2023-06-03T20:37:33.558Z"
   },
   {
    "duration": 32,
    "start_time": "2023-06-03T20:37:33.563Z"
   },
   {
    "duration": 2,
    "start_time": "2023-06-03T20:37:33.597Z"
   },
   {
    "duration": 7,
    "start_time": "2023-06-03T20:37:33.602Z"
   },
   {
    "duration": 11,
    "start_time": "2023-06-03T20:37:33.610Z"
   },
   {
    "duration": 6,
    "start_time": "2023-06-03T20:37:33.623Z"
   },
   {
    "duration": 3,
    "start_time": "2023-06-03T20:37:33.630Z"
   },
   {
    "duration": 15,
    "start_time": "2023-06-03T20:37:33.635Z"
   },
   {
    "duration": 3,
    "start_time": "2023-06-03T20:37:33.651Z"
   },
   {
    "duration": 95,
    "start_time": "2023-06-03T20:37:33.655Z"
   },
   {
    "duration": 130,
    "start_time": "2023-06-03T20:37:33.751Z"
   },
   {
    "duration": 588,
    "start_time": "2023-06-03T20:37:33.883Z"
   },
   {
    "duration": 231,
    "start_time": "2023-06-03T20:37:34.473Z"
   },
   {
    "duration": 2,
    "start_time": "2023-06-03T20:37:34.706Z"
   },
   {
    "duration": 5,
    "start_time": "2023-06-03T20:37:34.710Z"
   },
   {
    "duration": 4547,
    "start_time": "2023-06-03T20:37:34.716Z"
   },
   {
    "duration": 66,
    "start_time": "2023-06-03T20:37:39.264Z"
   },
   {
    "duration": 8,
    "start_time": "2023-06-03T20:37:50.460Z"
   },
   {
    "duration": 2264,
    "start_time": "2023-06-03T20:37:58.480Z"
   },
   {
    "duration": 118,
    "start_time": "2023-06-03T20:38:04.043Z"
   },
   {
    "duration": 1377,
    "start_time": "2023-06-03T20:38:33.897Z"
   },
   {
    "duration": 103,
    "start_time": "2023-06-03T20:38:37.084Z"
   },
   {
    "duration": 450433,
    "start_time": "2023-06-03T20:38:45.863Z"
   },
   {
    "duration": 299,
    "start_time": "2023-06-03T20:52:05.699Z"
   },
   {
    "duration": 12,
    "start_time": "2023-06-03T20:52:17.533Z"
   },
   {
    "duration": 114,
    "start_time": "2023-06-03T20:52:35.945Z"
   },
   {
    "duration": 3885,
    "start_time": "2023-06-04T09:31:39.198Z"
   },
   {
    "duration": 3253,
    "start_time": "2023-06-04T09:31:43.085Z"
   },
   {
    "duration": 3334,
    "start_time": "2023-06-04T09:31:46.340Z"
   },
   {
    "duration": 37,
    "start_time": "2023-06-04T09:31:49.676Z"
   },
   {
    "duration": 140,
    "start_time": "2023-06-04T09:31:49.716Z"
   },
   {
    "duration": 13,
    "start_time": "2023-06-04T09:31:49.864Z"
   },
   {
    "duration": 1215,
    "start_time": "2023-06-04T09:31:49.880Z"
   },
   {
    "duration": 1039,
    "start_time": "2023-06-04T09:31:51.097Z"
   },
   {
    "duration": 22,
    "start_time": "2023-06-04T09:31:52.138Z"
   },
   {
    "duration": 302,
    "start_time": "2023-06-04T09:31:52.164Z"
   },
   {
    "duration": 214,
    "start_time": "2023-06-04T09:31:52.468Z"
   },
   {
    "duration": 127,
    "start_time": "2023-06-04T09:31:52.684Z"
   },
   {
    "duration": 273,
    "start_time": "2023-06-04T09:31:52.812Z"
   },
   {
    "duration": 110,
    "start_time": "2023-06-04T09:31:53.088Z"
   },
   {
    "duration": 1437,
    "start_time": "2023-06-04T09:31:53.200Z"
   },
   {
    "duration": 37,
    "start_time": "2023-06-04T09:31:54.638Z"
   },
   {
    "duration": 358,
    "start_time": "2023-06-04T09:31:54.678Z"
   },
   {
    "duration": 372,
    "start_time": "2023-06-04T09:31:55.038Z"
   },
   {
    "duration": 393,
    "start_time": "2023-06-04T09:31:55.412Z"
   },
   {
    "duration": 432,
    "start_time": "2023-06-04T09:31:55.806Z"
   },
   {
    "duration": 371,
    "start_time": "2023-06-04T09:31:56.239Z"
   },
   {
    "duration": 400,
    "start_time": "2023-06-04T09:31:56.612Z"
   },
   {
    "duration": 125,
    "start_time": "2023-06-04T09:31:57.014Z"
   },
   {
    "duration": 277,
    "start_time": "2023-06-04T09:31:57.151Z"
   },
   {
    "duration": 4,
    "start_time": "2023-06-04T09:31:57.429Z"
   },
   {
    "duration": 45,
    "start_time": "2023-06-04T09:31:57.434Z"
   },
   {
    "duration": 2,
    "start_time": "2023-06-04T09:31:57.481Z"
   },
   {
    "duration": 5,
    "start_time": "2023-06-04T09:31:57.484Z"
   },
   {
    "duration": 3,
    "start_time": "2023-06-04T09:31:57.491Z"
   },
   {
    "duration": 4,
    "start_time": "2023-06-04T09:31:57.495Z"
   },
   {
    "duration": 3,
    "start_time": "2023-06-04T09:31:57.501Z"
   },
   {
    "duration": 15,
    "start_time": "2023-06-04T09:31:57.506Z"
   },
   {
    "duration": 2,
    "start_time": "2023-06-04T09:31:57.523Z"
   },
   {
    "duration": 89,
    "start_time": "2023-06-04T09:31:57.551Z"
   },
   {
    "duration": 152,
    "start_time": "2023-06-04T09:31:57.642Z"
   },
   {
    "duration": 1693,
    "start_time": "2023-06-04T09:31:57.796Z"
   },
   {
    "duration": 689,
    "start_time": "2023-06-04T09:31:59.491Z"
   },
   {
    "duration": 3,
    "start_time": "2023-06-04T09:32:00.181Z"
   },
   {
    "duration": 71,
    "start_time": "2023-06-04T09:32:00.186Z"
   },
   {
    "duration": 6539,
    "start_time": "2023-06-04T09:32:00.259Z"
   },
   {
    "duration": 93,
    "start_time": "2023-06-04T09:32:06.801Z"
   },
   {
    "duration": 9,
    "start_time": "2023-06-04T09:32:06.896Z"
   },
   {
    "duration": 3,
    "start_time": "2023-06-04T09:32:06.908Z"
   },
   {
    "duration": 13,
    "start_time": "2023-06-04T09:32:06.912Z"
   },
   {
    "duration": 31,
    "start_time": "2023-06-04T09:32:06.927Z"
   },
   {
    "duration": 8,
    "start_time": "2023-06-04T09:32:06.963Z"
   },
   {
    "duration": 2146,
    "start_time": "2023-06-04T09:32:06.973Z"
   },
   {
    "duration": 164,
    "start_time": "2023-06-04T09:32:09.122Z"
   },
   {
    "duration": 628302,
    "start_time": "2023-06-04T09:32:09.288Z"
   },
   {
    "duration": 425,
    "start_time": "2023-06-04T09:42:37.658Z"
   },
   {
    "duration": 70,
    "start_time": "2023-06-04T09:42:38.086Z"
   },
   {
    "duration": 158,
    "start_time": "2023-06-04T09:42:38.158Z"
   },
   {
    "duration": 3170,
    "start_time": "2023-06-05T09:03:58.064Z"
   },
   {
    "duration": 1440,
    "start_time": "2023-06-05T09:04:01.237Z"
   },
   {
    "duration": 1026,
    "start_time": "2023-06-05T09:04:02.679Z"
   },
   {
    "duration": 24,
    "start_time": "2023-06-05T09:04:03.707Z"
   },
   {
    "duration": 125,
    "start_time": "2023-06-05T09:04:03.733Z"
   },
   {
    "duration": 3,
    "start_time": "2023-06-05T09:04:03.860Z"
   },
   {
    "duration": 1064,
    "start_time": "2023-06-05T09:04:03.865Z"
   },
   {
    "duration": 888,
    "start_time": "2023-06-05T09:04:04.931Z"
   },
   {
    "duration": 3,
    "start_time": "2023-06-05T09:04:05.821Z"
   },
   {
    "duration": 269,
    "start_time": "2023-06-05T09:04:05.827Z"
   },
   {
    "duration": 189,
    "start_time": "2023-06-05T09:04:06.097Z"
   },
   {
    "duration": 137,
    "start_time": "2023-06-05T09:04:06.288Z"
   },
   {
    "duration": 225,
    "start_time": "2023-06-05T09:04:06.426Z"
   },
   {
    "duration": 114,
    "start_time": "2023-06-05T09:04:06.653Z"
   },
   {
    "duration": 1029,
    "start_time": "2023-06-05T09:04:06.776Z"
   },
   {
    "duration": 17,
    "start_time": "2023-06-05T09:04:07.807Z"
   },
   {
    "duration": 313,
    "start_time": "2023-06-05T09:04:07.825Z"
   },
   {
    "duration": 267,
    "start_time": "2023-06-05T09:04:08.140Z"
   },
   {
    "duration": 270,
    "start_time": "2023-06-05T09:04:08.408Z"
   },
   {
    "duration": 402,
    "start_time": "2023-06-05T09:04:08.680Z"
   },
   {
    "duration": 332,
    "start_time": "2023-06-05T09:04:09.083Z"
   },
   {
    "duration": 393,
    "start_time": "2023-06-05T09:04:09.417Z"
   },
   {
    "duration": 130,
    "start_time": "2023-06-05T09:04:09.813Z"
   },
   {
    "duration": 306,
    "start_time": "2023-06-05T09:04:09.945Z"
   },
   {
    "duration": 4,
    "start_time": "2023-06-05T09:04:10.253Z"
   },
   {
    "duration": 37,
    "start_time": "2023-06-05T09:04:10.258Z"
   },
   {
    "duration": 5,
    "start_time": "2023-06-05T09:04:10.297Z"
   },
   {
    "duration": 6,
    "start_time": "2023-06-05T09:04:10.306Z"
   },
   {
    "duration": 9,
    "start_time": "2023-06-05T09:04:10.314Z"
   },
   {
    "duration": 17,
    "start_time": "2023-06-05T09:04:10.324Z"
   },
   {
    "duration": 10,
    "start_time": "2023-06-05T09:04:10.343Z"
   },
   {
    "duration": 23,
    "start_time": "2023-06-05T09:04:10.354Z"
   },
   {
    "duration": 3,
    "start_time": "2023-06-05T09:04:10.379Z"
   },
   {
    "duration": 81,
    "start_time": "2023-06-05T09:04:10.384Z"
   },
   {
    "duration": 146,
    "start_time": "2023-06-05T09:04:12.357Z"
   },
   {
    "duration": 2572,
    "start_time": "2023-06-05T10:09:05.376Z"
   },
   {
    "duration": 1413,
    "start_time": "2023-06-05T10:09:07.950Z"
   },
   {
    "duration": 848,
    "start_time": "2023-06-05T10:09:09.365Z"
   },
   {
    "duration": 21,
    "start_time": "2023-06-05T10:09:10.215Z"
   },
   {
    "duration": 144,
    "start_time": "2023-06-05T10:09:10.238Z"
   },
   {
    "duration": 4,
    "start_time": "2023-06-05T10:09:10.384Z"
   },
   {
    "duration": 894,
    "start_time": "2023-06-05T10:09:10.390Z"
   },
   {
    "duration": 978,
    "start_time": "2023-06-05T10:09:11.285Z"
   },
   {
    "duration": 4,
    "start_time": "2023-06-05T10:09:12.265Z"
   },
   {
    "duration": 289,
    "start_time": "2023-06-05T10:09:12.271Z"
   },
   {
    "duration": 198,
    "start_time": "2023-06-05T10:09:12.561Z"
   },
   {
    "duration": 138,
    "start_time": "2023-06-05T10:09:12.761Z"
   },
   {
    "duration": 240,
    "start_time": "2023-06-05T10:09:12.901Z"
   },
   {
    "duration": 118,
    "start_time": "2023-06-05T10:09:13.144Z"
   },
   {
    "duration": 1116,
    "start_time": "2023-06-05T10:09:13.265Z"
   },
   {
    "duration": 17,
    "start_time": "2023-06-05T10:09:14.383Z"
   },
   {
    "duration": 330,
    "start_time": "2023-06-05T10:09:14.402Z"
   },
   {
    "duration": 291,
    "start_time": "2023-06-05T10:09:14.734Z"
   },
   {
    "duration": 311,
    "start_time": "2023-06-05T10:09:15.027Z"
   },
   {
    "duration": 341,
    "start_time": "2023-06-05T10:09:15.340Z"
   },
   {
    "duration": 472,
    "start_time": "2023-06-05T10:09:15.683Z"
   },
   {
    "duration": 473,
    "start_time": "2023-06-05T10:09:16.157Z"
   },
   {
    "duration": 154,
    "start_time": "2023-06-05T10:09:16.632Z"
   },
   {
    "duration": 306,
    "start_time": "2023-06-05T10:09:16.788Z"
   },
   {
    "duration": 4,
    "start_time": "2023-06-05T10:09:17.095Z"
   },
   {
    "duration": 26,
    "start_time": "2023-06-05T10:09:17.101Z"
   },
   {
    "duration": 3,
    "start_time": "2023-06-05T10:09:17.129Z"
   },
   {
    "duration": 30,
    "start_time": "2023-06-05T10:09:17.136Z"
   },
   {
    "duration": 22,
    "start_time": "2023-06-05T10:09:17.168Z"
   },
   {
    "duration": 18,
    "start_time": "2023-06-05T10:09:17.192Z"
   },
   {
    "duration": 10,
    "start_time": "2023-06-05T10:09:17.212Z"
   },
   {
    "duration": 16,
    "start_time": "2023-06-05T10:09:17.224Z"
   },
   {
    "duration": 2,
    "start_time": "2023-06-05T10:09:17.242Z"
   },
   {
    "duration": 82,
    "start_time": "2023-06-05T10:09:17.246Z"
   },
   {
    "duration": 158,
    "start_time": "2023-06-05T10:09:17.330Z"
   },
   {
    "duration": 1239,
    "start_time": "2023-06-05T10:09:35.757Z"
   },
   {
    "duration": 11026,
    "start_time": "2023-06-05T10:10:30.169Z"
   },
   {
    "duration": 167,
    "start_time": "2023-06-05T10:10:44.498Z"
   },
   {
    "duration": 13,
    "start_time": "2023-06-05T10:10:48.964Z"
   },
   {
    "duration": 1654,
    "start_time": "2023-06-05T10:11:19.274Z"
   },
   {
    "duration": 15,
    "start_time": "2023-06-05T10:11:23.578Z"
   },
   {
    "duration": 2611,
    "start_time": "2023-06-05T10:13:19.876Z"
   },
   {
    "duration": 1499,
    "start_time": "2023-06-05T10:13:22.490Z"
   },
   {
    "duration": 875,
    "start_time": "2023-06-05T10:13:23.991Z"
   },
   {
    "duration": 23,
    "start_time": "2023-06-05T10:13:24.868Z"
   },
   {
    "duration": 154,
    "start_time": "2023-06-05T10:13:24.893Z"
   },
   {
    "duration": 5,
    "start_time": "2023-06-05T10:13:25.049Z"
   },
   {
    "duration": 1128,
    "start_time": "2023-06-05T10:13:25.056Z"
   },
   {
    "duration": 1121,
    "start_time": "2023-06-05T10:13:26.186Z"
   },
   {
    "duration": 3,
    "start_time": "2023-06-05T10:13:27.309Z"
   },
   {
    "duration": 291,
    "start_time": "2023-06-05T10:13:27.316Z"
   },
   {
    "duration": 224,
    "start_time": "2023-06-05T10:13:27.609Z"
   },
   {
    "duration": 158,
    "start_time": "2023-06-05T10:13:27.835Z"
   },
   {
    "duration": 287,
    "start_time": "2023-06-05T10:13:27.995Z"
   },
   {
    "duration": 134,
    "start_time": "2023-06-05T10:13:28.284Z"
   },
   {
    "duration": 1356,
    "start_time": "2023-06-05T10:13:28.420Z"
   },
   {
    "duration": 17,
    "start_time": "2023-06-05T10:13:29.778Z"
   },
   {
    "duration": 375,
    "start_time": "2023-06-05T10:13:29.797Z"
   },
   {
    "duration": 365,
    "start_time": "2023-06-05T10:13:30.174Z"
   },
   {
    "duration": 369,
    "start_time": "2023-06-05T10:13:30.541Z"
   },
   {
    "duration": 455,
    "start_time": "2023-06-05T10:13:30.913Z"
   },
   {
    "duration": 689,
    "start_time": "2023-06-05T10:13:31.371Z"
   },
   {
    "duration": 544,
    "start_time": "2023-06-05T10:13:32.062Z"
   },
   {
    "duration": 205,
    "start_time": "2023-06-05T10:13:32.607Z"
   },
   {
    "duration": 358,
    "start_time": "2023-06-05T10:13:32.814Z"
   },
   {
    "duration": 4,
    "start_time": "2023-06-05T10:13:33.177Z"
   },
   {
    "duration": 49,
    "start_time": "2023-06-05T10:13:33.183Z"
   },
   {
    "duration": 3,
    "start_time": "2023-06-05T10:13:33.234Z"
   },
   {
    "duration": 41,
    "start_time": "2023-06-05T10:13:33.242Z"
   },
   {
    "duration": 39,
    "start_time": "2023-06-05T10:13:33.285Z"
   },
   {
    "duration": 16,
    "start_time": "2023-06-05T10:13:33.326Z"
   },
   {
    "duration": 43,
    "start_time": "2023-06-05T10:13:33.344Z"
   },
   {
    "duration": 61,
    "start_time": "2023-06-05T10:13:33.389Z"
   },
   {
    "duration": 17,
    "start_time": "2023-06-05T10:13:33.452Z"
   },
   {
    "duration": 120,
    "start_time": "2023-06-05T10:13:33.471Z"
   },
   {
    "duration": 228,
    "start_time": "2023-06-05T10:13:33.593Z"
   },
   {
    "duration": 1461,
    "start_time": "2023-06-05T10:13:33.822Z"
   },
   {
    "duration": 3,
    "start_time": "2023-06-05T10:13:35.285Z"
   },
   {
    "duration": 44,
    "start_time": "2023-06-05T10:13:35.290Z"
   },
   {
    "duration": 24,
    "start_time": "2023-06-05T10:13:35.336Z"
   },
   {
    "duration": 12578,
    "start_time": "2023-06-05T10:13:35.361Z"
   },
   {
    "duration": 187,
    "start_time": "2023-06-05T10:13:47.940Z"
   },
   {
    "duration": 11,
    "start_time": "2023-06-05T10:13:48.129Z"
   },
   {
    "duration": 33,
    "start_time": "2023-06-05T10:13:48.143Z"
   },
   {
    "duration": 48,
    "start_time": "2023-06-05T10:13:48.178Z"
   },
   {
    "duration": 35,
    "start_time": "2023-06-05T10:13:48.228Z"
   },
   {
    "duration": 44,
    "start_time": "2023-06-05T10:13:48.264Z"
   },
   {
    "duration": 2050,
    "start_time": "2023-06-05T10:13:48.310Z"
   },
   {
    "duration": 13,
    "start_time": "2023-06-05T10:13:50.361Z"
   },
   {
    "duration": 222409,
    "start_time": "2023-06-05T10:13:50.376Z"
   },
   {
    "duration": 605,
    "start_time": "2023-06-05T10:17:32.787Z"
   },
   {
    "duration": 9,
    "start_time": "2023-06-05T10:17:33.394Z"
   },
   {
    "duration": 173,
    "start_time": "2023-06-05T10:17:33.404Z"
   },
   {
    "duration": 17,
    "start_time": "2023-06-05T10:33:46.992Z"
   },
   {
    "duration": 3424,
    "start_time": "2023-06-05T14:10:11.203Z"
   },
   {
    "duration": 1468,
    "start_time": "2023-06-05T14:10:14.629Z"
   },
   {
    "duration": 1051,
    "start_time": "2023-06-05T14:10:16.098Z"
   },
   {
    "duration": 19,
    "start_time": "2023-06-05T14:10:17.152Z"
   },
   {
    "duration": 122,
    "start_time": "2023-06-05T14:10:17.173Z"
   },
   {
    "duration": 12,
    "start_time": "2023-06-05T14:10:17.297Z"
   },
   {
    "duration": 1035,
    "start_time": "2023-06-05T14:10:17.312Z"
   },
   {
    "duration": 854,
    "start_time": "2023-06-05T14:10:18.349Z"
   },
   {
    "duration": 4,
    "start_time": "2023-06-05T14:10:19.204Z"
   },
   {
    "duration": 270,
    "start_time": "2023-06-05T14:10:19.210Z"
   },
   {
    "duration": 189,
    "start_time": "2023-06-05T14:10:19.482Z"
   },
   {
    "duration": 140,
    "start_time": "2023-06-05T14:10:19.673Z"
   },
   {
    "duration": 225,
    "start_time": "2023-06-05T14:10:19.814Z"
   },
   {
    "duration": 109,
    "start_time": "2023-06-05T14:10:20.041Z"
   },
   {
    "duration": 1010,
    "start_time": "2023-06-05T14:10:20.151Z"
   },
   {
    "duration": 15,
    "start_time": "2023-06-05T14:10:21.163Z"
   },
   {
    "duration": 321,
    "start_time": "2023-06-05T14:10:21.180Z"
   },
   {
    "duration": 271,
    "start_time": "2023-06-05T14:10:21.502Z"
   },
   {
    "duration": 290,
    "start_time": "2023-06-05T14:10:21.774Z"
   },
   {
    "duration": 411,
    "start_time": "2023-06-05T14:10:22.066Z"
   },
   {
    "duration": 324,
    "start_time": "2023-06-05T14:10:22.478Z"
   },
   {
    "duration": 429,
    "start_time": "2023-06-05T14:10:22.803Z"
   },
   {
    "duration": 124,
    "start_time": "2023-06-05T14:10:23.233Z"
   },
   {
    "duration": 288,
    "start_time": "2023-06-05T14:10:23.359Z"
   },
   {
    "duration": 3,
    "start_time": "2023-06-05T14:10:23.649Z"
   },
   {
    "duration": 57,
    "start_time": "2023-06-05T14:10:23.654Z"
   },
   {
    "duration": 9,
    "start_time": "2023-06-05T14:10:23.713Z"
   },
   {
    "duration": 26,
    "start_time": "2023-06-05T14:10:23.727Z"
   },
   {
    "duration": 30,
    "start_time": "2023-06-05T14:10:23.755Z"
   },
   {
    "duration": 69,
    "start_time": "2023-06-05T14:10:23.786Z"
   },
   {
    "duration": 83,
    "start_time": "2023-06-05T14:10:23.857Z"
   },
   {
    "duration": 95,
    "start_time": "2023-06-05T14:10:23.941Z"
   },
   {
    "duration": 34,
    "start_time": "2023-06-05T14:10:24.038Z"
   },
   {
    "duration": 115,
    "start_time": "2023-06-05T14:10:24.074Z"
   },
   {
    "duration": 1067,
    "start_time": "2023-06-05T14:10:27.394Z"
   },
   {
    "duration": 130,
    "start_time": "2023-06-05T14:11:32.321Z"
   },
   {
    "duration": 3,
    "start_time": "2023-06-05T14:11:37.322Z"
   },
   {
    "duration": 147,
    "start_time": "2023-06-05T14:11:39.951Z"
   },
   {
    "duration": 3,
    "start_time": "2023-06-05T14:12:44.444Z"
   },
   {
    "duration": 319,
    "start_time": "2023-06-05T14:12:46.543Z"
   },
   {
    "duration": 10237,
    "start_time": "2023-06-05T14:13:39.218Z"
   },
   {
    "duration": 156,
    "start_time": "2023-06-05T14:13:53.860Z"
   },
   {
    "duration": 10,
    "start_time": "2023-06-05T14:13:59.906Z"
   },
   {
    "duration": 2376,
    "start_time": "2023-06-05T14:14:48.673Z"
   },
   {
    "duration": 1303,
    "start_time": "2023-06-05T14:14:51.052Z"
   },
   {
    "duration": 820,
    "start_time": "2023-06-05T14:14:52.357Z"
   },
   {
    "duration": 21,
    "start_time": "2023-06-05T14:14:53.179Z"
   },
   {
    "duration": 165,
    "start_time": "2023-06-05T14:14:53.202Z"
   },
   {
    "duration": 4,
    "start_time": "2023-06-05T14:14:53.369Z"
   },
   {
    "duration": 851,
    "start_time": "2023-06-05T14:14:53.374Z"
   },
   {
    "duration": 1011,
    "start_time": "2023-06-05T14:14:54.227Z"
   },
   {
    "duration": 3,
    "start_time": "2023-06-05T14:14:55.240Z"
   },
   {
    "duration": 286,
    "start_time": "2023-06-05T14:14:55.245Z"
   },
   {
    "duration": 175,
    "start_time": "2023-06-05T14:14:55.533Z"
   },
   {
    "duration": 129,
    "start_time": "2023-06-05T14:14:55.710Z"
   },
   {
    "duration": 222,
    "start_time": "2023-06-05T14:14:55.841Z"
   },
   {
    "duration": 114,
    "start_time": "2023-06-05T14:14:56.064Z"
   },
   {
    "duration": 1021,
    "start_time": "2023-06-05T14:14:56.179Z"
   },
   {
    "duration": 15,
    "start_time": "2023-06-05T14:14:57.202Z"
   },
   {
    "duration": 303,
    "start_time": "2023-06-05T14:14:57.224Z"
   },
   {
    "duration": 273,
    "start_time": "2023-06-05T14:14:57.528Z"
   },
   {
    "duration": 299,
    "start_time": "2023-06-05T14:14:57.802Z"
   },
   {
    "duration": 307,
    "start_time": "2023-06-05T14:14:58.102Z"
   },
   {
    "duration": 413,
    "start_time": "2023-06-05T14:14:58.411Z"
   },
   {
    "duration": 357,
    "start_time": "2023-06-05T14:14:58.826Z"
   },
   {
    "duration": 127,
    "start_time": "2023-06-05T14:14:59.185Z"
   },
   {
    "duration": 276,
    "start_time": "2023-06-05T14:14:59.325Z"
   },
   {
    "duration": 3,
    "start_time": "2023-06-05T14:14:59.603Z"
   },
   {
    "duration": 36,
    "start_time": "2023-06-05T14:14:59.608Z"
   },
   {
    "duration": 2,
    "start_time": "2023-06-05T14:14:59.646Z"
   },
   {
    "duration": 6,
    "start_time": "2023-06-05T14:14:59.653Z"
   },
   {
    "duration": 6,
    "start_time": "2023-06-05T14:14:59.660Z"
   },
   {
    "duration": 11,
    "start_time": "2023-06-05T14:14:59.668Z"
   },
   {
    "duration": 9,
    "start_time": "2023-06-05T14:14:59.681Z"
   },
   {
    "duration": 20,
    "start_time": "2023-06-05T14:14:59.691Z"
   },
   {
    "duration": 95,
    "start_time": "2023-06-05T14:14:59.713Z"
   },
   {
    "duration": 1060,
    "start_time": "2023-06-05T14:14:59.810Z"
   },
   {
    "duration": 3,
    "start_time": "2023-06-05T14:15:00.871Z"
   },
   {
    "duration": 449,
    "start_time": "2023-06-05T14:15:00.876Z"
   },
   {
    "duration": 2,
    "start_time": "2023-06-05T14:15:01.327Z"
   },
   {
    "duration": 90,
    "start_time": "2023-06-05T14:15:01.330Z"
   },
   {
    "duration": 92,
    "start_time": "2023-06-05T14:15:01.422Z"
   },
   {
    "duration": 10370,
    "start_time": "2023-06-05T14:15:01.515Z"
   },
   {
    "duration": 169,
    "start_time": "2023-06-05T14:15:11.886Z"
   },
   {
    "duration": 10,
    "start_time": "2023-06-05T14:15:12.057Z"
   },
   {
    "duration": 140,
    "start_time": "2023-06-05T14:15:12.069Z"
   },
   {
    "duration": 16,
    "start_time": "2023-06-05T14:15:12.211Z"
   },
   {
    "duration": 25,
    "start_time": "2023-06-05T14:15:12.229Z"
   },
   {
    "duration": 14,
    "start_time": "2023-06-05T14:15:12.255Z"
   },
   {
    "duration": 1665,
    "start_time": "2023-06-05T14:15:12.270Z"
   },
   {
    "duration": 17,
    "start_time": "2023-06-05T14:15:13.936Z"
   },
   {
    "duration": 1415478,
    "start_time": "2023-06-05T14:15:13.955Z"
   },
   {
    "duration": 599,
    "start_time": "2023-06-05T14:38:49.435Z"
   },
   {
    "duration": 10,
    "start_time": "2023-06-05T14:38:50.036Z"
   },
   {
    "duration": 35,
    "start_time": "2023-06-05T14:38:50.047Z"
   }
  ],
  "kernelspec": {
   "display_name": "Python 3 (ipykernel)",
   "language": "python",
   "name": "python3"
  },
  "language_info": {
   "codemirror_mode": {
    "name": "ipython",
    "version": 3
   },
   "file_extension": ".py",
   "mimetype": "text/x-python",
   "name": "python",
   "nbconvert_exporter": "python",
   "pygments_lexer": "ipython3",
   "version": "3.9.5"
  },
  "toc": {
   "base_numbering": 1,
   "nav_menu": {},
   "number_sections": true,
   "sideBar": true,
   "skip_h1_title": true,
   "title_cell": "Table of Contents",
   "title_sidebar": "Contents",
   "toc_cell": false,
   "toc_position": {
    "height": "calc(100% - 180px)",
    "left": "10px",
    "top": "150px",
    "width": "371px"
   },
   "toc_section_display": true,
   "toc_window_display": true
  }
 },
 "nbformat": 4,
 "nbformat_minor": 2
}
