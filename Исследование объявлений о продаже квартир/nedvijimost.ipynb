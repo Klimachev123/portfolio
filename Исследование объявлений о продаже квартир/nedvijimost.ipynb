{
 "cells": [
  {
   "cell_type": "markdown",
   "metadata": {},
   "source": [
    "# Исследование объявлений о продаже квартир\n",
    "\n",
    "В вашем распоряжении данные сервиса Яндекс.Недвижимость — архив объявлений о продаже квартир в Санкт-Петербурге и соседних населённых пунктов за несколько лет. Нужно научиться определять рыночную стоимость объектов недвижимости. Ваша задача — установить параметры. Это позволит построить автоматизированную систему: она отследит аномалии и мошенническую деятельность. \n",
    "\n",
    "По каждой квартире на продажу доступны два вида данных. Первые вписаны пользователем, вторые — получены автоматически на основе картографических данных. Например, расстояние до центра, аэропорта, ближайшего парка и водоёма. \n",
    "\n",
    "## Цель исследования:\n",
    "\n",
    "1. Определить рыночную стоимость объектов недвижимости\n",
    "2. Построить автоматизированную систему, которая отследит аномалии и мошенническую деятельность\n",
    "3. установить, какие факторы влияют на ценообразование стоимости квартир\n",
    "\n",
    "## Ход исследования \n",
    "\n",
    "1. обзор данных\n",
    "2. предобработка данных\n",
    "3. расчеты и добавления результатов в таблицу\n",
    "4. проведение анализа \n",
    "6. определение факторов. вляющих на цену\n",
    "7. общий вывод"
   ]
  },
  {
   "cell_type": "markdown",
   "metadata": {},
   "source": [
    "### обзор данных "
   ]
  },
  {
   "cell_type": "code",
   "execution_count": 2,
   "metadata": {},
   "outputs": [
    {
     "name": "stdout",
     "output_type": "stream",
     "text": [
      "    total_images  last_price  total_area first_day_exposition  rooms  \\\n",
      "0             20  13000000.0      108.00  2019-03-07T00:00:00      3   \n",
      "1              7   3350000.0       40.40  2018-12-04T00:00:00      1   \n",
      "2             10   5196000.0       56.00  2015-08-20T00:00:00      2   \n",
      "3              0  64900000.0      159.00  2015-07-24T00:00:00      3   \n",
      "4              2  10000000.0      100.00  2018-06-19T00:00:00      2   \n",
      "5             10   2890000.0       30.40  2018-09-10T00:00:00      1   \n",
      "6              6   3700000.0       37.30  2017-11-02T00:00:00      1   \n",
      "7              5   7915000.0       71.60  2019-04-18T00:00:00      2   \n",
      "8             20   2900000.0       33.16  2018-05-23T00:00:00      1   \n",
      "9             18   5400000.0       61.00  2017-02-26T00:00:00      3   \n",
      "10             5   5050000.0       39.60  2017-11-16T00:00:00      1   \n",
      "11             9   3300000.0       44.00  2018-08-27T00:00:00      2   \n",
      "12            10   3890000.0       54.00  2016-06-30T00:00:00      2   \n",
      "13            20   3550000.0       42.80  2017-07-01T00:00:00      2   \n",
      "14             1   4400000.0       36.00  2016-06-23T00:00:00      1   \n",
      "15            16   4650000.0       39.00  2017-11-18T00:00:00      1   \n",
      "16            11   6700000.0       82.00  2017-11-23T00:00:00      3   \n",
      "17             6   4180000.0       36.00  2016-09-09T00:00:00      1   \n",
      "18             8   3250000.0       31.00  2017-01-27T00:00:00      1   \n",
      "19            16  14200000.0      121.00  2019-01-09T00:00:00      3   \n",
      "\n",
      "    ceiling_height  floors_total  living_area  floor is_apartment  ...  \\\n",
      "0             2.70          16.0        51.00      8          NaN  ...   \n",
      "1              NaN          11.0        18.60      1          NaN  ...   \n",
      "2              NaN           5.0        34.30      4          NaN  ...   \n",
      "3              NaN          14.0          NaN      9          NaN  ...   \n",
      "4             3.03          14.0        32.00     13          NaN  ...   \n",
      "5              NaN          12.0        14.40      5          NaN  ...   \n",
      "6              NaN          26.0        10.60      6          NaN  ...   \n",
      "7              NaN          24.0          NaN     22          NaN  ...   \n",
      "8              NaN          27.0        15.43     26          NaN  ...   \n",
      "9             2.50           9.0        43.60      7          NaN  ...   \n",
      "10            2.67          12.0        20.30      3          NaN  ...   \n",
      "11             NaN           5.0        31.00      4        False  ...   \n",
      "12             NaN           5.0        30.00      5          NaN  ...   \n",
      "13            2.56           5.0        27.00      5          NaN  ...   \n",
      "14             NaN           6.0        17.00      1          NaN  ...   \n",
      "15             NaN          14.0        20.50      5          NaN  ...   \n",
      "16            3.05           5.0        55.60      1          NaN  ...   \n",
      "17             NaN          17.0        16.50      7          NaN  ...   \n",
      "18            2.50           5.0        19.40      2          NaN  ...   \n",
      "19            2.75          16.0        76.00      8          NaN  ...   \n",
      "\n",
      "    kitchen_area  balcony              locality_name  airports_nearest  \\\n",
      "0          25.00      NaN            Санкт-Петербург           18863.0   \n",
      "1          11.00      2.0             посёлок Шушары           12817.0   \n",
      "2           8.30      0.0            Санкт-Петербург           21741.0   \n",
      "3            NaN      0.0            Санкт-Петербург           28098.0   \n",
      "4          41.00      NaN            Санкт-Петербург           31856.0   \n",
      "5           9.10      NaN  городской посёлок Янино-1               NaN   \n",
      "6          14.40      1.0          посёлок Парголово           52996.0   \n",
      "7          18.90      2.0            Санкт-Петербург           23982.0   \n",
      "8           8.81      NaN             посёлок Мурино               NaN   \n",
      "9           6.50      2.0            Санкт-Петербург           50898.0   \n",
      "10          8.50      NaN            Санкт-Петербург           38357.0   \n",
      "11          6.00      1.0                  Ломоносов           48252.0   \n",
      "12          9.00      0.0                  Сертолово               NaN   \n",
      "13          5.20      1.0                   Петергоф           37868.0   \n",
      "14          8.00      0.0                     Пушкин           20782.0   \n",
      "15          7.60      1.0            Санкт-Петербург           12900.0   \n",
      "16          9.00      NaN            Санкт-Петербург           22108.0   \n",
      "17         11.00      1.0            Санкт-Петербург           33564.0   \n",
      "18          5.60      1.0            Санкт-Петербург           44060.0   \n",
      "19         12.00      NaN            Санкт-Петербург           38900.0   \n",
      "\n",
      "   cityCenters_nearest  parks_around3000  parks_nearest  ponds_around3000  \\\n",
      "0              16028.0               1.0          482.0               2.0   \n",
      "1              18603.0               0.0            NaN               0.0   \n",
      "2              13933.0               1.0           90.0               2.0   \n",
      "3               6800.0               2.0           84.0               3.0   \n",
      "4               8098.0               2.0          112.0               1.0   \n",
      "5                  NaN               NaN            NaN               NaN   \n",
      "6              19143.0               0.0            NaN               0.0   \n",
      "7              11634.0               0.0            NaN               0.0   \n",
      "8                  NaN               NaN            NaN               NaN   \n",
      "9              15008.0               0.0            NaN               0.0   \n",
      "10             13878.0               1.0          310.0               2.0   \n",
      "11             51677.0               0.0            NaN               0.0   \n",
      "12                 NaN               NaN            NaN               NaN   \n",
      "13             33058.0               1.0          294.0               3.0   \n",
      "14             30759.0               0.0            NaN               1.0   \n",
      "15             14259.0               1.0          590.0               1.0   \n",
      "16             10698.0               3.0          420.0               0.0   \n",
      "17             14616.0               0.0            NaN               1.0   \n",
      "18             10842.0               1.0          759.0               0.0   \n",
      "19             12843.0               0.0            NaN               0.0   \n",
      "\n",
      "    ponds_nearest  days_exposition  \n",
      "0           755.0              NaN  \n",
      "1             NaN             81.0  \n",
      "2           574.0            558.0  \n",
      "3           234.0            424.0  \n",
      "4            48.0            121.0  \n",
      "5             NaN             55.0  \n",
      "6             NaN            155.0  \n",
      "7             NaN              NaN  \n",
      "8             NaN            189.0  \n",
      "9             NaN            289.0  \n",
      "10          553.0            137.0  \n",
      "11            NaN              7.0  \n",
      "12            NaN             90.0  \n",
      "13          298.0            366.0  \n",
      "14           96.0            203.0  \n",
      "15          296.0             19.0  \n",
      "16            NaN            397.0  \n",
      "17          859.0            571.0  \n",
      "18            NaN            168.0  \n",
      "19            NaN             97.0  \n",
      "\n",
      "[20 rows x 22 columns]\n",
      "<class 'pandas.core.frame.DataFrame'>\n",
      "RangeIndex: 23699 entries, 0 to 23698\n",
      "Data columns (total 22 columns):\n",
      " #   Column                Non-Null Count  Dtype  \n",
      "---  ------                --------------  -----  \n",
      " 0   total_images          23699 non-null  int64  \n",
      " 1   last_price            23699 non-null  float64\n",
      " 2   total_area            23699 non-null  float64\n",
      " 3   first_day_exposition  23699 non-null  object \n",
      " 4   rooms                 23699 non-null  int64  \n",
      " 5   ceiling_height        14504 non-null  float64\n",
      " 6   floors_total          23613 non-null  float64\n",
      " 7   living_area           21796 non-null  float64\n",
      " 8   floor                 23699 non-null  int64  \n",
      " 9   is_apartment          2775 non-null   object \n",
      " 10  studio                23699 non-null  bool   \n",
      " 11  open_plan             23699 non-null  bool   \n",
      " 12  kitchen_area          21421 non-null  float64\n",
      " 13  balcony               12180 non-null  float64\n",
      " 14  locality_name         23650 non-null  object \n",
      " 15  airports_nearest      18157 non-null  float64\n",
      " 16  cityCenters_nearest   18180 non-null  float64\n",
      " 17  parks_around3000      18181 non-null  float64\n",
      " 18  parks_nearest         8079 non-null   float64\n",
      " 19  ponds_around3000      18181 non-null  float64\n",
      " 20  ponds_nearest         9110 non-null   float64\n",
      " 21  days_exposition       20518 non-null  float64\n",
      "dtypes: bool(2), float64(14), int64(3), object(3)\n",
      "memory usage: 3.7+ MB\n"
     ]
    },
    {
     "data": {
      "image/png": "[encoded data removed]",
      "text/plain": [
       "<Figure size 1080x1440 with 20 Axes>"
      ]
     },
     "metadata": {
      "needs_background": "light"
     },
     "output_type": "display_data"
    }
   ],
   "source": [
    "import pandas as pd\n",
    "import matplotlib.pyplot as plt\n",
    "\n",
    "data = pd.read_csv('/datasets/real_estate_data.csv', sep = '\\t')\n",
    "\n",
    "print(data.head(20))\n",
    "data.info()\n",
    "data.hist(figsize=(15, 20))\n",
    "plt.show()"
   ]
  },
  {
   "cell_type": "markdown",
   "metadata": {},
   "source": [
    "### Предобработка данных"
   ]
  },
  {
   "cell_type": "markdown",
   "metadata": {},
   "source": [
    "#### работа с пропусами "
   ]
  },
  {
   "cell_type": "code",
   "execution_count": 2,
   "metadata": {},
   "outputs": [
    {
     "data": {
      "text/plain": [
       "total_images                0\n",
       "last_price                  0\n",
       "total_area                  0\n",
       "first_day_exposition        0\n",
       "rooms                       0\n",
       "ceiling_height           9195\n",
       "floors_total               86\n",
       "living_area              1903\n",
       "floor                       0\n",
       "is_apartment            20924\n",
       "studio                      0\n",
       "open_plan                   0\n",
       "kitchen_area             2278\n",
       "balcony                 11519\n",
       "locality_name              49\n",
       "airports_nearest         5542\n",
       "cityCenters_nearest      5519\n",
       "parks_around3000         5518\n",
       "parks_nearest           15620\n",
       "ponds_around3000         5518\n",
       "ponds_nearest           14589\n",
       "days_exposition          3181\n",
       "dtype: int64"
      ]
     },
     "execution_count": 2,
     "metadata": {},
     "output_type": "execute_result"
    }
   ],
   "source": [
    "#изучение пропущенных значений \n",
    "\n",
    "data.isna().sum()"
   ]
  },
  {
   "cell_type": "code",
   "execution_count": 3,
   "metadata": {},
   "outputs": [
    {
     "data": {
      "text/html": [
       "<style  type=\"text/css\" >\n",
       "#T_58b3a_row0_col0,#T_58b3a_row1_col0,#T_58b3a_row2_col0,#T_58b3a_row3_col0,#T_58b3a_row4_col0,#T_58b3a_row6_col0,#T_58b3a_row8_col0,#T_58b3a_row10_col0,#T_58b3a_row11_col0,#T_58b3a_row14_col0{\n",
       "            background-color:  #3b4cc0;\n",
       "            color:  #f1f1f1;\n",
       "        }#T_58b3a_row5_col0{\n",
       "            background-color:  #cdd9ec;\n",
       "            color:  #000000;\n",
       "        }#T_58b3a_row7_col0{\n",
       "            background-color:  #5673e0;\n",
       "            color:  #000000;\n",
       "        }#T_58b3a_row9_col0{\n",
       "            background-color:  #b40426;\n",
       "            color:  #f1f1f1;\n",
       "        }#T_58b3a_row12_col0{\n",
       "            background-color:  #5e7de7;\n",
       "            color:  #000000;\n",
       "        }#T_58b3a_row13_col0{\n",
       "            background-color:  #ead4c8;\n",
       "            color:  #000000;\n",
       "        }#T_58b3a_row15_col0,#T_58b3a_row16_col0,#T_58b3a_row17_col0,#T_58b3a_row19_col0{\n",
       "            background-color:  #90b2fe;\n",
       "            color:  #000000;\n",
       "        }#T_58b3a_row18_col0{\n",
       "            background-color:  #f4987a;\n",
       "            color:  #000000;\n",
       "        }#T_58b3a_row20_col0{\n",
       "            background-color:  #f7aa8c;\n",
       "            color:  #000000;\n",
       "        }#T_58b3a_row21_col0{\n",
       "            background-color:  #688aef;\n",
       "            color:  #000000;\n",
       "        }</style><table id=\"T_58b3a_\" ><thead>    <tr>        <th class=\"blank level0\" ></th>        <th class=\"col_heading level0 col0\" >0</th>    </tr></thead><tbody>\n",
       "                <tr>\n",
       "                        <th id=\"T_58b3a_level0_row0\" class=\"row_heading level0 row0\" >total_images</th>\n",
       "                        <td id=\"T_58b3a_row0_col0\" class=\"data row0 col0\" >0.000000</td>\n",
       "            </tr>\n",
       "            <tr>\n",
       "                        <th id=\"T_58b3a_level0_row1\" class=\"row_heading level0 row1\" >last_price</th>\n",
       "                        <td id=\"T_58b3a_row1_col0\" class=\"data row1 col0\" >0.000000</td>\n",
       "            </tr>\n",
       "            <tr>\n",
       "                        <th id=\"T_58b3a_level0_row2\" class=\"row_heading level0 row2\" >total_area</th>\n",
       "                        <td id=\"T_58b3a_row2_col0\" class=\"data row2 col0\" >0.000000</td>\n",
       "            </tr>\n",
       "            <tr>\n",
       "                        <th id=\"T_58b3a_level0_row3\" class=\"row_heading level0 row3\" >first_day_exposition</th>\n",
       "                        <td id=\"T_58b3a_row3_col0\" class=\"data row3 col0\" >0.000000</td>\n",
       "            </tr>\n",
       "            <tr>\n",
       "                        <th id=\"T_58b3a_level0_row4\" class=\"row_heading level0 row4\" >rooms</th>\n",
       "                        <td id=\"T_58b3a_row4_col0\" class=\"data row4 col0\" >0.000000</td>\n",
       "            </tr>\n",
       "            <tr>\n",
       "                        <th id=\"T_58b3a_level0_row5\" class=\"row_heading level0 row5\" >ceiling_height</th>\n",
       "                        <td id=\"T_58b3a_row5_col0\" class=\"data row5 col0\" >39.000000</td>\n",
       "            </tr>\n",
       "            <tr>\n",
       "                        <th id=\"T_58b3a_level0_row6\" class=\"row_heading level0 row6\" >floors_total</th>\n",
       "                        <td id=\"T_58b3a_row6_col0\" class=\"data row6 col0\" >0.000000</td>\n",
       "            </tr>\n",
       "            <tr>\n",
       "                        <th id=\"T_58b3a_level0_row7\" class=\"row_heading level0 row7\" >living_area</th>\n",
       "                        <td id=\"T_58b3a_row7_col0\" class=\"data row7 col0\" >8.000000</td>\n",
       "            </tr>\n",
       "            <tr>\n",
       "                        <th id=\"T_58b3a_level0_row8\" class=\"row_heading level0 row8\" >floor</th>\n",
       "                        <td id=\"T_58b3a_row8_col0\" class=\"data row8 col0\" >0.000000</td>\n",
       "            </tr>\n",
       "            <tr>\n",
       "                        <th id=\"T_58b3a_level0_row9\" class=\"row_heading level0 row9\" >is_apartment</th>\n",
       "                        <td id=\"T_58b3a_row9_col0\" class=\"data row9 col0\" >88.000000</td>\n",
       "            </tr>\n",
       "            <tr>\n",
       "                        <th id=\"T_58b3a_level0_row10\" class=\"row_heading level0 row10\" >studio</th>\n",
       "                        <td id=\"T_58b3a_row10_col0\" class=\"data row10 col0\" >0.000000</td>\n",
       "            </tr>\n",
       "            <tr>\n",
       "                        <th id=\"T_58b3a_level0_row11\" class=\"row_heading level0 row11\" >open_plan</th>\n",
       "                        <td id=\"T_58b3a_row11_col0\" class=\"data row11 col0\" >0.000000</td>\n",
       "            </tr>\n",
       "            <tr>\n",
       "                        <th id=\"T_58b3a_level0_row12\" class=\"row_heading level0 row12\" >kitchen_area</th>\n",
       "                        <td id=\"T_58b3a_row12_col0\" class=\"data row12 col0\" >10.000000</td>\n",
       "            </tr>\n",
       "            <tr>\n",
       "                        <th id=\"T_58b3a_level0_row13\" class=\"row_heading level0 row13\" >balcony</th>\n",
       "                        <td id=\"T_58b3a_row13_col0\" class=\"data row13 col0\" >49.000000</td>\n",
       "            </tr>\n",
       "            <tr>\n",
       "                        <th id=\"T_58b3a_level0_row14\" class=\"row_heading level0 row14\" >locality_name</th>\n",
       "                        <td id=\"T_58b3a_row14_col0\" class=\"data row14 col0\" >0.000000</td>\n",
       "            </tr>\n",
       "            <tr>\n",
       "                        <th id=\"T_58b3a_level0_row15\" class=\"row_heading level0 row15\" >airports_nearest</th>\n",
       "                        <td id=\"T_58b3a_row15_col0\" class=\"data row15 col0\" >23.000000</td>\n",
       "            </tr>\n",
       "            <tr>\n",
       "                        <th id=\"T_58b3a_level0_row16\" class=\"row_heading level0 row16\" >cityCenters_nearest</th>\n",
       "                        <td id=\"T_58b3a_row16_col0\" class=\"data row16 col0\" >23.000000</td>\n",
       "            </tr>\n",
       "            <tr>\n",
       "                        <th id=\"T_58b3a_level0_row17\" class=\"row_heading level0 row17\" >parks_around3000</th>\n",
       "                        <td id=\"T_58b3a_row17_col0\" class=\"data row17 col0\" >23.000000</td>\n",
       "            </tr>\n",
       "            <tr>\n",
       "                        <th id=\"T_58b3a_level0_row18\" class=\"row_heading level0 row18\" >parks_nearest</th>\n",
       "                        <td id=\"T_58b3a_row18_col0\" class=\"data row18 col0\" >66.000000</td>\n",
       "            </tr>\n",
       "            <tr>\n",
       "                        <th id=\"T_58b3a_level0_row19\" class=\"row_heading level0 row19\" >ponds_around3000</th>\n",
       "                        <td id=\"T_58b3a_row19_col0\" class=\"data row19 col0\" >23.000000</td>\n",
       "            </tr>\n",
       "            <tr>\n",
       "                        <th id=\"T_58b3a_level0_row20\" class=\"row_heading level0 row20\" >ponds_nearest</th>\n",
       "                        <td id=\"T_58b3a_row20_col0\" class=\"data row20 col0\" >62.000000</td>\n",
       "            </tr>\n",
       "            <tr>\n",
       "                        <th id=\"T_58b3a_level0_row21\" class=\"row_heading level0 row21\" >days_exposition</th>\n",
       "                        <td id=\"T_58b3a_row21_col0\" class=\"data row21 col0\" >13.000000</td>\n",
       "            </tr>\n",
       "    </tbody></table>"
      ],
      "text/plain": [
       "<pandas.io.formats.style.Styler at 0x7fac4b4ef550>"
      ]
     },
     "execution_count": 3,
     "metadata": {},
     "output_type": "execute_result"
    }
   ],
   "source": [
    "pd.DataFrame(round(data.isna().mean()*100,)).style.background_gradient('coolwarm')"
   ]
  },
  {
   "cell_type": "code",
   "execution_count": 3,
   "metadata": {},
   "outputs": [
    {
     "data": {
      "text/plain": [
       "0"
      ]
     },
     "execution_count": 3,
     "metadata": {},
     "output_type": "execute_result"
    }
   ],
   "source": [
    "#поиск явных дубликатов\n",
    "data.duplicated().sum()\n"
   ]
  },
  {
   "cell_type": "code",
   "execution_count": 4,
   "metadata": {},
   "outputs": [
    {
     "data": {
      "text/html": [
       "<div>\n",
       "<style scoped>\n",
       "    .dataframe tbody tr th:only-of-type {\n",
       "        vertical-align: middle;\n",
       "    }\n",
       "\n",
       "    .dataframe tbody tr th {\n",
       "        vertical-align: top;\n",
       "    }\n",
       "\n",
       "    .dataframe thead th {\n",
       "        text-align: right;\n",
       "    }\n",
       "</style>\n",
       "<table border=\"1\" class=\"dataframe\">\n",
       "  <thead>\n",
       "    <tr style=\"text-align: right;\">\n",
       "      <th></th>\n",
       "      <th>total_images</th>\n",
       "      <th>last_price</th>\n",
       "      <th>total_area</th>\n",
       "      <th>first_day_exposition</th>\n",
       "      <th>rooms</th>\n",
       "      <th>ceiling_height</th>\n",
       "      <th>floors_total</th>\n",
       "      <th>living_area</th>\n",
       "      <th>floor</th>\n",
       "      <th>is_apartment</th>\n",
       "      <th>...</th>\n",
       "      <th>kitchen_area</th>\n",
       "      <th>balcony</th>\n",
       "      <th>locality_name</th>\n",
       "      <th>airports_nearest</th>\n",
       "      <th>cityCenters_nearest</th>\n",
       "      <th>parks_around3000</th>\n",
       "      <th>parks_nearest</th>\n",
       "      <th>ponds_around3000</th>\n",
       "      <th>ponds_nearest</th>\n",
       "      <th>days_exposition</th>\n",
       "    </tr>\n",
       "  </thead>\n",
       "  <tbody>\n",
       "    <tr>\n",
       "      <th>0</th>\n",
       "      <td>20</td>\n",
       "      <td>13000000.0</td>\n",
       "      <td>108.0</td>\n",
       "      <td>2019-03-07T00:00:00</td>\n",
       "      <td>3</td>\n",
       "      <td>2.700000</td>\n",
       "      <td>16.0</td>\n",
       "      <td>51.0</td>\n",
       "      <td>8</td>\n",
       "      <td>NaN</td>\n",
       "      <td>...</td>\n",
       "      <td>25.0</td>\n",
       "      <td>0.0</td>\n",
       "      <td>Санкт-Петербург</td>\n",
       "      <td>18863.0</td>\n",
       "      <td>16028.0</td>\n",
       "      <td>1.0</td>\n",
       "      <td>482.0</td>\n",
       "      <td>2.0</td>\n",
       "      <td>755.0</td>\n",
       "      <td>NaN</td>\n",
       "    </tr>\n",
       "    <tr>\n",
       "      <th>1</th>\n",
       "      <td>7</td>\n",
       "      <td>3350000.0</td>\n",
       "      <td>40.4</td>\n",
       "      <td>2018-12-04T00:00:00</td>\n",
       "      <td>1</td>\n",
       "      <td>2.771499</td>\n",
       "      <td>11.0</td>\n",
       "      <td>18.6</td>\n",
       "      <td>1</td>\n",
       "      <td>NaN</td>\n",
       "      <td>...</td>\n",
       "      <td>11.0</td>\n",
       "      <td>2.0</td>\n",
       "      <td>посёлок Шушары</td>\n",
       "      <td>12817.0</td>\n",
       "      <td>18603.0</td>\n",
       "      <td>0.0</td>\n",
       "      <td>NaN</td>\n",
       "      <td>0.0</td>\n",
       "      <td>NaN</td>\n",
       "      <td>81.0</td>\n",
       "    </tr>\n",
       "    <tr>\n",
       "      <th>2</th>\n",
       "      <td>10</td>\n",
       "      <td>5196000.0</td>\n",
       "      <td>56.0</td>\n",
       "      <td>2015-08-20T00:00:00</td>\n",
       "      <td>2</td>\n",
       "      <td>2.771499</td>\n",
       "      <td>5.0</td>\n",
       "      <td>34.3</td>\n",
       "      <td>4</td>\n",
       "      <td>NaN</td>\n",
       "      <td>...</td>\n",
       "      <td>8.3</td>\n",
       "      <td>0.0</td>\n",
       "      <td>Санкт-Петербург</td>\n",
       "      <td>21741.0</td>\n",
       "      <td>13933.0</td>\n",
       "      <td>1.0</td>\n",
       "      <td>90.0</td>\n",
       "      <td>2.0</td>\n",
       "      <td>574.0</td>\n",
       "      <td>558.0</td>\n",
       "    </tr>\n",
       "    <tr>\n",
       "      <th>3</th>\n",
       "      <td>0</td>\n",
       "      <td>64900000.0</td>\n",
       "      <td>159.0</td>\n",
       "      <td>2015-07-24T00:00:00</td>\n",
       "      <td>3</td>\n",
       "      <td>2.771499</td>\n",
       "      <td>14.0</td>\n",
       "      <td>NaN</td>\n",
       "      <td>9</td>\n",
       "      <td>NaN</td>\n",
       "      <td>...</td>\n",
       "      <td>NaN</td>\n",
       "      <td>0.0</td>\n",
       "      <td>Санкт-Петербург</td>\n",
       "      <td>28098.0</td>\n",
       "      <td>6800.0</td>\n",
       "      <td>2.0</td>\n",
       "      <td>84.0</td>\n",
       "      <td>3.0</td>\n",
       "      <td>234.0</td>\n",
       "      <td>424.0</td>\n",
       "    </tr>\n",
       "    <tr>\n",
       "      <th>4</th>\n",
       "      <td>2</td>\n",
       "      <td>10000000.0</td>\n",
       "      <td>100.0</td>\n",
       "      <td>2018-06-19T00:00:00</td>\n",
       "      <td>2</td>\n",
       "      <td>3.030000</td>\n",
       "      <td>14.0</td>\n",
       "      <td>32.0</td>\n",
       "      <td>13</td>\n",
       "      <td>NaN</td>\n",
       "      <td>...</td>\n",
       "      <td>41.0</td>\n",
       "      <td>0.0</td>\n",
       "      <td>Санкт-Петербург</td>\n",
       "      <td>31856.0</td>\n",
       "      <td>8098.0</td>\n",
       "      <td>2.0</td>\n",
       "      <td>112.0</td>\n",
       "      <td>1.0</td>\n",
       "      <td>48.0</td>\n",
       "      <td>121.0</td>\n",
       "    </tr>\n",
       "    <tr>\n",
       "      <th>5</th>\n",
       "      <td>10</td>\n",
       "      <td>2890000.0</td>\n",
       "      <td>30.4</td>\n",
       "      <td>2018-09-10T00:00:00</td>\n",
       "      <td>1</td>\n",
       "      <td>2.771499</td>\n",
       "      <td>12.0</td>\n",
       "      <td>14.4</td>\n",
       "      <td>5</td>\n",
       "      <td>NaN</td>\n",
       "      <td>...</td>\n",
       "      <td>9.1</td>\n",
       "      <td>0.0</td>\n",
       "      <td>городской посёлок Янино-1</td>\n",
       "      <td>NaN</td>\n",
       "      <td>NaN</td>\n",
       "      <td>NaN</td>\n",
       "      <td>NaN</td>\n",
       "      <td>NaN</td>\n",
       "      <td>NaN</td>\n",
       "      <td>55.0</td>\n",
       "    </tr>\n",
       "  </tbody>\n",
       "</table>\n",
       "<p>6 rows × 22 columns</p>\n",
       "</div>"
      ],
      "text/plain": [
       "   total_images  last_price  total_area first_day_exposition  rooms  \\\n",
       "0            20  13000000.0       108.0  2019-03-07T00:00:00      3   \n",
       "1             7   3350000.0        40.4  2018-12-04T00:00:00      1   \n",
       "2            10   5196000.0        56.0  2015-08-20T00:00:00      2   \n",
       "3             0  64900000.0       159.0  2015-07-24T00:00:00      3   \n",
       "4             2  10000000.0       100.0  2018-06-19T00:00:00      2   \n",
       "5            10   2890000.0        30.4  2018-09-10T00:00:00      1   \n",
       "\n",
       "   ceiling_height  floors_total  living_area  floor is_apartment  ...  \\\n",
       "0        2.700000          16.0         51.0      8          NaN  ...   \n",
       "1        2.771499          11.0         18.6      1          NaN  ...   \n",
       "2        2.771499           5.0         34.3      4          NaN  ...   \n",
       "3        2.771499          14.0          NaN      9          NaN  ...   \n",
       "4        3.030000          14.0         32.0     13          NaN  ...   \n",
       "5        2.771499          12.0         14.4      5          NaN  ...   \n",
       "\n",
       "   kitchen_area  balcony              locality_name  airports_nearest  \\\n",
       "0          25.0      0.0            Санкт-Петербург           18863.0   \n",
       "1          11.0      2.0             посёлок Шушары           12817.0   \n",
       "2           8.3      0.0            Санкт-Петербург           21741.0   \n",
       "3           NaN      0.0            Санкт-Петербург           28098.0   \n",
       "4          41.0      0.0            Санкт-Петербург           31856.0   \n",
       "5           9.1      0.0  городской посёлок Янино-1               NaN   \n",
       "\n",
       "  cityCenters_nearest  parks_around3000  parks_nearest  ponds_around3000  \\\n",
       "0             16028.0               1.0          482.0               2.0   \n",
       "1             18603.0               0.0            NaN               0.0   \n",
       "2             13933.0               1.0           90.0               2.0   \n",
       "3              6800.0               2.0           84.0               3.0   \n",
       "4              8098.0               2.0          112.0               1.0   \n",
       "5                 NaN               NaN            NaN               NaN   \n",
       "\n",
       "   ponds_nearest  days_exposition  \n",
       "0          755.0              NaN  \n",
       "1            NaN             81.0  \n",
       "2          574.0            558.0  \n",
       "3          234.0            424.0  \n",
       "4           48.0            121.0  \n",
       "5            NaN             55.0  \n",
       "\n",
       "[6 rows x 22 columns]"
      ]
     },
     "execution_count": 4,
     "metadata": {},
     "output_type": "execute_result"
    }
   ],
   "source": [
    "#заполняем кол-во балконов \n",
    "\n",
    "data['balcony'] = data['balcony'].fillna(0)\n",
    "\n",
    "\n",
    "#вместо пропусков в высоте потолков ставим стреднее значение, т.к. не было найдено сильной корреляции между высотой потолков и другими данными \n",
    "data['ceiling_height']= data['ceiling_height'].fillna(data['ceiling_height'].mean())\n",
    "\n",
    "\n",
    "\n",
    "data.head(6)"
   ]
  },
  {
   "cell_type": "markdown",
   "metadata": {},
   "source": [
    "пропуски были заполнены в двух столбцах: `balcony` и `ceiling_height`.\n",
    "`balcony` - если продавец не указал число балконов, то, скорее всего, в его квартире их нет.\n",
    "`ceiling_height` - высота потолков не сильно отличаеся, максимальаня разница около50 см, поэтому было принято решение заполнить пропуски средним значением.\n",
    "\n",
    "некоторые пропуски пропуски могли появится от недостатка информации у продавцов (нап. столбцы `airports_nearest`,`parks_nearest`,`ponds_around3000`,`ponds_nearest`)\n",
    "\n",
    "пропуски в стобце `is_apartment` скорее всего являются значением 0 или нет.\n"
   ]
  },
  {
   "cell_type": "code",
   "execution_count": 5,
   "metadata": {},
   "outputs": [
    {
     "data": {
      "text/plain": [
       "array([0, True], dtype=object)"
      ]
     },
     "execution_count": 5,
     "metadata": {},
     "output_type": "execute_result"
    }
   ],
   "source": [
    "#меняем все пропуски на 0\n",
    "data['is_apartment'] = data['is_apartment'].fillna(0)\n",
    "#меняем тип столбца \n",
    "data['is_apartment'].astype('bool')\n",
    "data['is_apartment'].unique()"
   ]
  },
  {
   "cell_type": "markdown",
   "metadata": {},
   "source": [
    "все пропуски в столбце `is_apartment` были заменены 0, что при переводе этого столбца к типу `bool` будет считывать как `False`\n"
   ]
  },
  {
   "cell_type": "code",
   "execution_count": 6,
   "metadata": {},
   "outputs": [],
   "source": [
    "data['locality_name'] = data['locality_name'].str.lower()\n",
    "data['locality_name'] = data['locality_name'].str.replace('посёлок','поселок')\n",
    "data['locality_name'] = data['locality_name'].str.replace('поселок городского типа','поселок')\n",
    "data['locality_name'] = data['locality_name'].str.replace('поселок ','')\n",
    "data['locality_name'] = data['locality_name'].str.replace('городской ','')\n",
    "\n"
   ]
  },
  {
   "cell_type": "code",
   "execution_count": 7,
   "metadata": {},
   "outputs": [
    {
     "data": {
      "text/plain": [
       "array([ 1.       ,  1.2      ,  1.4      ,  1.75     ,  2.       ,\n",
       "        2.2      ,  2.25     ,  2.26     ,  2.3      ,  2.34     ,\n",
       "        2.4      ,  2.45     ,  2.46     ,  2.47     ,  2.48     ,\n",
       "        2.49     ,  2.5      ,  2.51     ,  2.52     ,  2.53     ,\n",
       "        2.54     ,  2.55     ,  2.56     ,  2.57     ,  2.58     ,\n",
       "        2.59     ,  2.6      ,  2.61     ,  2.62     ,  2.63     ,\n",
       "        2.64     ,  2.65     ,  2.66     ,  2.67     ,  2.68     ,\n",
       "        2.69     ,  2.7      ,  2.71     ,  2.72     ,  2.73     ,\n",
       "        2.74     ,  2.75     ,  2.76     ,  2.77     ,  2.7714989,\n",
       "        2.78     ,  2.79     ,  2.8      ,  2.81     ,  2.82     ,\n",
       "        2.83     ,  2.84     ,  2.85     ,  2.86     ,  2.87     ,\n",
       "        2.88     ,  2.89     ,  2.9      ,  2.91     ,  2.92     ,\n",
       "        2.93     ,  2.94     ,  2.95     ,  2.96     ,  2.97     ,\n",
       "        2.98     ,  2.99     ,  3.       ,  3.01     ,  3.02     ,\n",
       "        3.03     ,  3.04     ,  3.05     ,  3.06     ,  3.07     ,\n",
       "        3.08     ,  3.09     ,  3.1      ,  3.11     ,  3.12     ,\n",
       "        3.13     ,  3.14     ,  3.15     ,  3.16     ,  3.17     ,\n",
       "        3.18     ,  3.2      ,  3.21     ,  3.22     ,  3.23     ,\n",
       "        3.24     ,  3.25     ,  3.26     ,  3.27     ,  3.28     ,\n",
       "        3.29     ,  3.3      ,  3.31     ,  3.32     ,  3.33     ,\n",
       "        3.34     ,  3.35     ,  3.36     ,  3.37     ,  3.38     ,\n",
       "        3.39     ,  3.4      ,  3.42     ,  3.43     ,  3.44     ,\n",
       "        3.45     ,  3.46     ,  3.47     ,  3.48     ,  3.49     ,\n",
       "        3.5      ,  3.51     ,  3.52     ,  3.53     ,  3.54     ,\n",
       "        3.55     ,  3.56     ,  3.57     ,  3.58     ,  3.59     ,\n",
       "        3.6      ,  3.62     ,  3.63     ,  3.65     ,  3.66     ,\n",
       "        3.67     ,  3.68     ,  3.69     ,  3.7      ,  3.75     ,\n",
       "        3.76     ,  3.78     ,  3.8      ,  3.82     ,  3.83     ,\n",
       "        3.84     ,  3.85     ,  3.86     ,  3.87     ,  3.88     ,\n",
       "        3.9      ,  3.93     ,  3.95     ,  3.98     ,  4.       ,\n",
       "        4.06     ,  4.1      ,  4.14     ,  4.15     ,  4.19     ,\n",
       "        4.2      ,  4.25     ,  4.3      ,  4.37     ,  4.4      ,\n",
       "        4.45     ,  4.5      ,  4.65     ,  4.7      ,  4.8      ,\n",
       "        4.9      ,  5.       ,  5.2      ,  5.3      ,  5.5      ,\n",
       "        5.6      ,  5.8      ,  6.       ,  8.       ,  8.3      ,\n",
       "       10.       , 10.3      ])"
      ]
     },
     "execution_count": 7,
     "metadata": {},
     "output_type": "execute_result"
    }
   ],
   "source": [
    "def height(row):\n",
    "    if row < 10.5:\n",
    "        return row\n",
    "    else: \n",
    "        return row /10.\n",
    "        \n",
    "data.loc[data['ceiling_height']>10.5, 'ceiling_height'] = data['ceiling_height'].apply(height)\n",
    "\n",
    "\n",
    "data['ceiling_height'].sort_values().unique()"
   ]
  },
  {
   "cell_type": "markdown",
   "metadata": {},
   "source": []
  },
  {
   "cell_type": "code",
   "execution_count": 8,
   "metadata": {},
   "outputs": [
    {
     "data": {
      "text/plain": [
       "total_images                0\n",
       "last_price                  0\n",
       "total_area                  0\n",
       "first_day_exposition        0\n",
       "rooms                       0\n",
       "ceiling_height              0\n",
       "floors_total               86\n",
       "living_area              1903\n",
       "floor                       0\n",
       "is_apartment                0\n",
       "studio                      0\n",
       "open_plan                   0\n",
       "kitchen_area             2278\n",
       "balcony                     0\n",
       "locality_name              49\n",
       "airports_nearest         5542\n",
       "cityCenters_nearest      5519\n",
       "parks_around3000         5518\n",
       "parks_nearest           15620\n",
       "ponds_around3000         5518\n",
       "ponds_nearest           14589\n",
       "days_exposition          3181\n",
       "dtype: int64"
      ]
     },
     "execution_count": 8,
     "metadata": {},
     "output_type": "execute_result"
    }
   ],
   "source": [
    "data.isna().sum()"
   ]
  },
  {
   "cell_type": "markdown",
   "metadata": {},
   "source": [
    "#### обработка выборосов "
   ]
  },
  {
   "cell_type": "code",
   "execution_count": 9,
   "metadata": {},
   "outputs": [
    {
     "data": {
      "text/plain": [
       "1.0    8047\n",
       "2.0    7940\n",
       "3.0    5814\n",
       "4.0    1180\n",
       "5.0     326\n",
       "0.0     197\n",
       "6.0     105\n",
       "7.0      59\n",
       "Name: rooms, dtype: int64"
      ]
     },
     "execution_count": 9,
     "metadata": {},
     "output_type": "execute_result"
    }
   ],
   "source": [
    "#очищаем от редких значений. а именно от квартир с комнатами больше 7\n",
    "\n",
    "data['rooms'] = data.loc[data['rooms'] < 8, 'rooms']\n",
    "\n",
    "data['rooms'].value_counts()"
   ]
  },
  {
   "cell_type": "code",
   "execution_count": 10,
   "metadata": {},
   "outputs": [
    {
     "data": {
      "text/plain": [
       "2.0     3368\n",
       "3.0     3073\n",
       "1.0     2917\n",
       "4.0     2804\n",
       "5.0     2621\n",
       "6.0     1305\n",
       "7.0     1218\n",
       "8.0     1083\n",
       "9.0     1051\n",
       "10.0     687\n",
       "12.0     526\n",
       "11.0     523\n",
       "13.0     379\n",
       "15.0     343\n",
       "14.0     337\n",
       "16.0     315\n",
       "17.0     227\n",
       "18.0     178\n",
       "19.0     147\n",
       "21.0     125\n",
       "22.0     113\n",
       "20.0     110\n",
       "23.0     100\n",
       "24.0      63\n",
       "Name: floor, dtype: int64"
      ]
     },
     "execution_count": 10,
     "metadata": {},
     "output_type": "execute_result"
    }
   ],
   "source": [
    "#очищаем от редких значений. а именно от квартир с этажем больше 24\n",
    "\n",
    "data['floor'] = data.loc[data['floor'] < 25, 'floor']\n",
    "data['floor'].value_counts()"
   ]
  },
  {
   "cell_type": "code",
   "execution_count": 11,
   "metadata": {},
   "outputs": [
    {
     "data": {
      "text/plain": [
       "45.00     419\n",
       "42.00     383\n",
       "60.00     347\n",
       "31.00     346\n",
       "44.00     345\n",
       "         ... \n",
       "44.24       1\n",
       "56.85       1\n",
       "37.92       1\n",
       "115.60      1\n",
       "55.06       1\n",
       "Name: total_area, Length: 2182, dtype: int64"
      ]
     },
     "execution_count": 11,
     "metadata": {},
     "output_type": "execute_result"
    }
   ],
   "source": [
    "data['total_area'].value_counts()\n"
   ]
  },
  {
   "cell_type": "markdown",
   "metadata": {},
   "source": [
    "В предобработке данных были выявленны следующие особенности и исправлены некоторые проблемные места, а именно:\n",
    "- была проведена проверка ну дубликаты \n",
    "\n",
    "- были найдены пропуски в 14 столбах (однако не все они могут быть заполнены)\n",
    "\n",
    "- пропуски были заполнены в двух столбцах: `balcony` и `ceiling_height`.\n",
    "`balcony` - если продавец не указал число балконов, то, скорее всего, в его квартире их нет.\n",
    "`ceiling_height` - высота потолков не сильно отличаеся, максимальаня разница около50 см, поэтому было принято решение заполнить пропуски средним значением.\n",
    "\n",
    "- были исправлены дублирующиеся названия населенных пунктов\n",
    "\n",
    "- данные были очищены от редких значений в столбцах `floor` и `rooms`\n",
    "\n",
    "Остальные пропуски (например в столбцах `airports_nearest`,`cityCenters_nearest`) не могут быть заполнены, но и не искажают данные\n",
    "\n"
   ]
  },
  {
   "cell_type": "markdown",
   "metadata": {},
   "source": []
  },
  {
   "cell_type": "markdown",
   "metadata": {},
   "source": [
    "### расчеты и добавления результатов в таблицу"
   ]
  },
  {
   "cell_type": "code",
   "execution_count": 12,
   "metadata": {},
   "outputs": [],
   "source": [
    "#цена одного квадратного метра\n",
    "data['price_one_meter'] = data['last_price']/data['total_area']\n",
    "\n"
   ]
  },
  {
   "cell_type": "code",
   "execution_count": 13,
   "metadata": {
    "scrolled": true
   },
   "outputs": [
    {
     "data": {
      "text/plain": [
       "0            четверг\n",
       "1            вторник\n",
       "2            четверг\n",
       "3            пятница\n",
       "4            вторник\n",
       "            ...     \n",
       "23694        вторник\n",
       "23695    понедельник\n",
       "23696    воскресенье\n",
       "23697        вторник\n",
       "23698        пятница\n",
       "Name: weekday, Length: 23699, dtype: object"
      ]
     },
     "execution_count": 13,
     "metadata": {},
     "output_type": "execute_result"
    }
   ],
   "source": [
    "#день недели\n",
    "data['first_day_exposition'] = pd.to_datetime(data['first_day_exposition'], format='%Y-%m-%d')\n",
    "data['weekday'] = data['first_day_exposition'].dt.weekday\n",
    "data['weekday'] = data['weekday'].where(data['weekday'] != 0, 'понедельник')\n",
    "data['weekday'] = data['weekday'].where(data['weekday'] != 1, 'вторник')\n",
    "data['weekday'] = data['weekday'].where(data['weekday'] != 2, 'среда')\n",
    "data['weekday'] = data['weekday'].where(data['weekday'] != 3, 'четверг')\n",
    "data['weekday'] = data['weekday'].where(data['weekday'] != 4, 'пятница')\n",
    "data['weekday'] = data['weekday'].where(data['weekday'] != 5, 'суббота')\n",
    "data['weekday'] = data['weekday'].where(data['weekday'] != 6, 'воскресенье')\n",
    "\n",
    "(data['weekday']) "
   ]
  },
  {
   "cell_type": "code",
   "execution_count": 14,
   "metadata": {},
   "outputs": [
    {
     "data": {
      "text/plain": [
       "0           март\n",
       "1        декабрь\n",
       "2         август\n",
       "3           июль\n",
       "4           июнь\n",
       "          ...   \n",
       "23694       март\n",
       "23695     январь\n",
       "23696    февраль\n",
       "23697       март\n",
       "23698       июль\n",
       "Name: month, Length: 23699, dtype: object"
      ]
     },
     "execution_count": 14,
     "metadata": {},
     "output_type": "execute_result"
    }
   ],
   "source": [
    "#месяц\n",
    "data['month'] = data['first_day_exposition'].dt.month\n",
    "\n",
    "data['month'] = data['month'].where(data['month'] != 1, 'январь')\n",
    "data['month'] = data['month'].where(data['month'] != 2, 'февраль')\n",
    "data['month'] = data['month'].where(data['month'] != 3, 'март')\n",
    "data['month'] = data['month'].where(data['month'] != 4, 'апрель')\n",
    "data['month'] = data['month'].where(data['month'] != 5, 'май')\n",
    "data['month'] = data['month'].where(data['month'] != 6, 'июнь')\n",
    "data['month'] = data['month'].where(data['month'] != 7, 'июль')\n",
    "data['month'] = data['month'].where(data['month'] != 8, 'август')\n",
    "data['month'] = data['month'].where(data['month'] != 9, 'сентябрь')\n",
    "data['month'] = data['month'].where(data['month'] != 10, 'октябрь')\n",
    "data['month'] = data['month'].where(data['month'] != 11, 'ноябрь')\n",
    "data['month'] = data['month'].where(data['month'] != 12, 'декабрь')\n",
    "\n",
    "\n",
    "data['month']"
   ]
  },
  {
   "cell_type": "code",
   "execution_count": 15,
   "metadata": {},
   "outputs": [
    {
     "data": {
      "text/plain": [
       "0        2019\n",
       "1        2018\n",
       "2        2015\n",
       "3        2015\n",
       "4        2018\n",
       "         ... \n",
       "23694    2017\n",
       "23695    2018\n",
       "23696    2018\n",
       "23697    2017\n",
       "23698    2017\n",
       "Name: year, Length: 23699, dtype: int64"
      ]
     },
     "execution_count": 15,
     "metadata": {},
     "output_type": "execute_result"
    }
   ],
   "source": [
    "#год\n",
    "\n",
    "data['year'] = data['first_day_exposition'].dt.year\n",
    "\n",
    "data['year']"
   ]
  },
  {
   "cell_type": "code",
   "execution_count": 16,
   "metadata": {},
   "outputs": [
    {
     "data": {
      "text/plain": [
       "0        другое\n",
       "1        первый\n",
       "2        другое\n",
       "3        другое\n",
       "4        другое\n",
       "          ...  \n",
       "23694    другое\n",
       "23695    другое\n",
       "23696    первый\n",
       "23697    другое\n",
       "23698    первый\n",
       "Name: floor_type, Length: 23699, dtype: object"
      ]
     },
     "execution_count": 16,
     "metadata": {},
     "output_type": "execute_result"
    }
   ],
   "source": [
    "#тип этажа\n",
    "\n",
    "def floor_type(row):\n",
    "    \n",
    "    floor = row['floor']\n",
    "    floors_total = row['floors_total']\n",
    "    \n",
    "    if floor == 1:\n",
    "        return 'первый'\n",
    "    if floor == floors_total:\n",
    "        return 'последний'\n",
    "    return 'другое'\n",
    "\n",
    "\n",
    "data['floor_type'] = data.apply(floor_type, axis = 1)\n",
    "data['floor_type']"
   ]
  },
  {
   "cell_type": "code",
   "execution_count": null,
   "metadata": {},
   "outputs": [],
   "source": []
  },
  {
   "cell_type": "code",
   "execution_count": 17,
   "metadata": {},
   "outputs": [
    {
     "data": {
      "text/plain": [
       "0        16.0\n",
       "1        19.0\n",
       "2        14.0\n",
       "3         7.0\n",
       "4         8.0\n",
       "         ... \n",
       "23694     4.0\n",
       "23695     NaN\n",
       "23696     NaN\n",
       "23697    10.0\n",
       "23698     NaN\n",
       "Name: cityCenters_nearest_km, Length: 23699, dtype: float64"
      ]
     },
     "execution_count": 17,
     "metadata": {},
     "output_type": "execute_result"
    }
   ],
   "source": [
    "#расстояние в км\n",
    "data['cityCenters_nearest_km'] = data['cityCenters_nearest']/1000\n",
    "\n",
    "\n",
    "\n",
    "data['cityCenters_nearest_km'] = data['cityCenters_nearest_km'].round()\n",
    "\n",
    "data['cityCenters_nearest_km']"
   ]
  },
  {
   "cell_type": "markdown",
   "metadata": {},
   "source": [
    "### Проведение исследовательского анализа данных"
   ]
  },
  {
   "cell_type": "code",
   "execution_count": 18,
   "metadata": {
    "scrolled": true
   },
   "outputs": [
    {
     "data": {
      "text/plain": [
       "<AxesSubplot:>"
      ]
     },
     "execution_count": 18,
     "metadata": {},
     "output_type": "execute_result"
    },
    {
     "data": {
      "image/png": "[encoded data removed]",
      "text/plain": [
       "<Figure size 792x288 with 1 Axes>"
      ]
     },
     "metadata": {
      "needs_background": "light"
     },
     "output_type": "display_data"
    }
   ],
   "source": [
    "#общая площадь квартиры\n",
    "\n",
    "data['total_area'].hist(bins=20, range=(0, 200),figsize=( 11 , 4 ))\n"
   ]
  },
  {
   "cell_type": "markdown",
   "metadata": {},
   "source": [
    "по графику видно, что большинсво квартир имеют площадь от 35 до 60кв.м."
   ]
  },
  {
   "cell_type": "code",
   "execution_count": 19,
   "metadata": {},
   "outputs": [
    {
     "data": {
      "text/plain": [
       "<AxesSubplot:>"
      ]
     },
     "execution_count": 19,
     "metadata": {},
     "output_type": "execute_result"
    },
    {
     "data": {
      "image/png": "[encoded data removed]",
      "text/plain": [
       "<Figure size 792x288 with 1 Axes>"
      ]
     },
     "metadata": {
      "needs_background": "light"
     },
     "output_type": "display_data"
    }
   ],
   "source": [
    "data['total_area'] = data.loc[data['total_area'] < 175, 'total_area']\n",
    "\n",
    "data['total_area'].hist(bins=20, range=(0, 200),figsize=( 11 , 4 ))"
   ]
  },
  {
   "cell_type": "markdown",
   "metadata": {},
   "source": [
    "по предыдущему графику было видно, что квартиры имеющие 175 кв.м. общей площади и больше, являются очень редкими, поэтому мы от них избавились\n"
   ]
  },
  {
   "cell_type": "code",
   "execution_count": 20,
   "metadata": {},
   "outputs": [
    {
     "data": {
      "text/plain": [
       "<AxesSubplot:>"
      ]
     },
     "execution_count": 20,
     "metadata": {},
     "output_type": "execute_result"
    },
    {
     "data": {
      "image/png": "[encoded data removed]",
      "text/plain": [
       "<Figure size 792x288 with 1 Axes>"
      ]
     },
     "metadata": {
      "needs_background": "light"
     },
     "output_type": "display_data"
    }
   ],
   "source": [
    "#жилая площадь\n",
    "\n",
    "data['living_area'] = data.loc[data['living_area'] < 100, 'living_area']\n",
    "\n",
    "data['living_area'].hist(bins=40, range=(0, 100),figsize=( 11 , 4 ))"
   ]
  },
  {
   "cell_type": "markdown",
   "metadata": {},
   "source": [
    "жилая площадь имеет несколько пиков: в районе 15кв.м.и 30 кв.м.\n",
    "    так же стоит сказать, что все квартиры, имеющие 100кв.м. и более являются очень редкими - мы их удалили"
   ]
  },
  {
   "cell_type": "code",
   "execution_count": 21,
   "metadata": {
    "scrolled": true
   },
   "outputs": [
    {
     "data": {
      "text/plain": [
       "<AxesSubplot:>"
      ]
     },
     "execution_count": 21,
     "metadata": {},
     "output_type": "execute_result"
    },
    {
     "data": {
      "image/png": "[encoded data removed]",
      "text/plain": [
       "<Figure size 432x288 with 1 Axes>"
      ]
     },
     "metadata": {
      "needs_background": "light"
     },
     "output_type": "display_data"
    }
   ],
   "source": [
    "#площадь кухни\n",
    "data['kitchen_area'].hist(bins=20, range=(0, 100))"
   ]
  },
  {
   "cell_type": "code",
   "execution_count": 22,
   "metadata": {},
   "outputs": [
    {
     "data": {
      "text/plain": [
       "<AxesSubplot:>"
      ]
     },
     "execution_count": 22,
     "metadata": {},
     "output_type": "execute_result"
    },
    {
     "data": {
      "image/png": "[encoded data removed]",
      "text/plain": [
       "<Figure size 432x288 with 1 Axes>"
      ]
     },
     "metadata": {
      "needs_background": "light"
     },
     "output_type": "display_data"
    }
   ],
   "source": [
    "data['kitchen_area'] = data.loc[data['kitchen_area'] < 50, 'kitchen_area']\n",
    "data['kitchen_area'].hist(bins=20, range=(0, 50))"
   ]
  },
  {
   "cell_type": "markdown",
   "metadata": {},
   "source": [
    "по первому графику заметно, что квартиры, имеющие площадь кухни более 50кв.м - редкие значения. они были удалены"
   ]
  },
  {
   "cell_type": "code",
   "execution_count": 23,
   "metadata": {},
   "outputs": [
    {
     "data": {
      "text/plain": [
       "<AxesSubplot:>"
      ]
     },
     "execution_count": 23,
     "metadata": {},
     "output_type": "execute_result"
    },
    {
     "data": {
      "image/png": "[encoded data removed]",
      "text/plain": [
       "<Figure size 792x288 with 1 Axes>"
      ]
     },
     "metadata": {
      "needs_background": "light"
     },
     "output_type": "display_data"
    }
   ],
   "source": [
    "#цена объекта\n",
    "data['last_price'].hist(bins=700, range = (0,80000000),figsize=( 11 , 4 ))"
   ]
  },
  {
   "cell_type": "code",
   "execution_count": 24,
   "metadata": {},
   "outputs": [
    {
     "data": {
      "text/plain": [
       "<AxesSubplot:>"
      ]
     },
     "execution_count": 24,
     "metadata": {},
     "output_type": "execute_result"
    },
    {
     "data": {
      "image/png": "[encoded data removed]",
      "text/plain": [
       "<Figure size 792x288 with 1 Axes>"
      ]
     },
     "metadata": {
      "needs_background": "light"
     },
     "output_type": "display_data"
    }
   ],
   "source": [
    "data['last_price'] = data.loc[data['last_price'] < 30000000, 'last_price']\n",
    "data['last_price'].hist(bins=700, range = (0,30000000),figsize=( 11 , 4 ))"
   ]
  },
  {
   "cell_type": "markdown",
   "metadata": {},
   "source": [
    "- квартиры, имеющие цену более чем 30 000 000, являются редкими, в то время как могут очень сильно испортить данные, т.к. имеют большую стоимость\n",
    "мы их удалили\n",
    "- основная прослойка квартир находится в ценовой рамке от 2000 000 до 7000 000"
   ]
  },
  {
   "cell_type": "code",
   "execution_count": 25,
   "metadata": {
    "scrolled": true
   },
   "outputs": [
    {
     "data": {
      "text/plain": [
       "<AxesSubplot:>"
      ]
     },
     "execution_count": 25,
     "metadata": {},
     "output_type": "execute_result"
    },
    {
     "data": {
      "image/png": "[encoded data removed]",
      "text/plain": [
       "<Figure size 432x288 with 1 Axes>"
      ]
     },
     "metadata": {
      "needs_background": "light"
     },
     "output_type": "display_data"
    }
   ],
   "source": [
    "#количество комнат\n",
    "data['rooms'].hist(bins=40, range=(0, 8))\n"
   ]
  },
  {
   "cell_type": "markdown",
   "metadata": {},
   "source": [
    "1, 2, 3-х комнатные квартиры встречаються чаще всего, но не сильно разняться между собой в цифрах"
   ]
  },
  {
   "cell_type": "code",
   "execution_count": 26,
   "metadata": {},
   "outputs": [
    {
     "data": {
      "text/plain": [
       "<AxesSubplot:>"
      ]
     },
     "execution_count": 26,
     "metadata": {},
     "output_type": "execute_result"
    },
    {
     "data": {
      "image/png": "[encoded data removed]",
      "text/plain": [
       "<Figure size 792x288 with 1 Axes>"
      ]
     },
     "metadata": {
      "needs_background": "light"
     },
     "output_type": "display_data"
    }
   ],
   "source": [
    "#высота потолков\n",
    "data['ceiling_height'].hist(bins=30, range=(2, 10),figsize=( 11 , 4 ))"
   ]
  },
  {
   "cell_type": "code",
   "execution_count": 27,
   "metadata": {
    "scrolled": true
   },
   "outputs": [
    {
     "data": {
      "text/plain": [
       "<AxesSubplot:>"
      ]
     },
     "execution_count": 27,
     "metadata": {},
     "output_type": "execute_result"
    },
    {
     "data": {
      "image/png": "[encoded data removed]",
      "text/plain": [
       "<Figure size 792x288 with 1 Axes>"
      ]
     },
     "metadata": {
      "needs_background": "light"
     },
     "output_type": "display_data"
    }
   ],
   "source": [
    "data['ceiling_height'] = data.loc[data['ceiling_height'] < 4, 'ceiling_height']\n",
    "data['ceiling_height'].hist(bins=30, range=(2, 4),figsize=( 11 , 4 ))"
   ]
  },
  {
   "cell_type": "markdown",
   "metadata": {},
   "source": []
  },
  {
   "cell_type": "code",
   "execution_count": 28,
   "metadata": {
    "scrolled": true
   },
   "outputs": [
    {
     "data": {
      "text/plain": [
       "<AxesSubplot:>"
      ]
     },
     "execution_count": 28,
     "metadata": {},
     "output_type": "execute_result"
    },
    {
     "data": {
      "image/png": "[encoded data removed]",
      "text/plain": [
       "<Figure size 432x288 with 1 Axes>"
      ]
     },
     "metadata": {
      "needs_background": "light"
     },
     "output_type": "display_data"
    }
   ],
   "source": [
    "#этаж квартиры\n",
    "data['floor'].hist(bins=50, range=(0, 24))"
   ]
  },
  {
   "cell_type": "markdown",
   "metadata": {},
   "source": [
    "большинство квартир находятся в основном с 1 по 5 этаж (что может говорить о конкретной этажности домов)"
   ]
  },
  {
   "cell_type": "code",
   "execution_count": 29,
   "metadata": {},
   "outputs": [
    {
     "data": {
      "text/plain": [
       "<AxesSubplot:>"
      ]
     },
     "execution_count": 29,
     "metadata": {},
     "output_type": "execute_result"
    },
    {
     "data": {
      "image/png": "[encoded data removed]",
      "text/plain": [
       "<Figure size 432x288 with 1 Axes>"
      ]
     },
     "metadata": {
      "needs_background": "light"
     },
     "output_type": "display_data"
    }
   ],
   "source": [
    "#тип этажа квартиры \n",
    "data['floor_type'].hist(bins=20, range=(0, 4))"
   ]
  },
  {
   "cell_type": "code",
   "execution_count": 30,
   "metadata": {},
   "outputs": [
    {
     "data": {
      "text/plain": [
       "<AxesSubplot:>"
      ]
     },
     "execution_count": 30,
     "metadata": {},
     "output_type": "execute_result"
    },
    {
     "data": {
      "image/png": "[encoded data removed]",
      "text/plain": [
       "<Figure size 792x288 with 1 Axes>"
      ]
     },
     "metadata": {
      "needs_background": "light"
     },
     "output_type": "display_data"
    }
   ],
   "source": [
    "#общее количество этажей в доме\n",
    "data['floors_total'].hist(bins=20, range=(0, 40),figsize=( 11 , 4 ))"
   ]
  },
  {
   "cell_type": "markdown",
   "metadata": {},
   "source": [
    "как и говорилось ранее, чаще всего в данных представлены дома 5 этажные, далее по количествку идет 9-ти этажные дома"
   ]
  },
  {
   "cell_type": "code",
   "execution_count": 31,
   "metadata": {},
   "outputs": [
    {
     "data": {
      "text/plain": [
       "<AxesSubplot:>"
      ]
     },
     "execution_count": 31,
     "metadata": {},
     "output_type": "execute_result"
    },
    {
     "data": {
      "image/png": "[encoded data removed]",
      "text/plain": [
       "<Figure size 792x288 with 1 Axes>"
      ]
     },
     "metadata": {
      "needs_background": "light"
     },
     "output_type": "display_data"
    }
   ],
   "source": [
    "#расстояние до центра города в метрах\n",
    "data['cityCenters_nearest'].hist(bins=60, range=(0, 60000),figsize=( 11 , 4 ))"
   ]
  },
  {
   "cell_type": "markdown",
   "metadata": {},
   "source": [
    "основное расстояние от центра является 10 км, однако по графику видно еще пару пиков - это 30 км и 50км. скорее всего там находятся населеные пункты"
   ]
  },
  {
   "cell_type": "code",
   "execution_count": 32,
   "metadata": {},
   "outputs": [
    {
     "data": {
      "text/plain": [
       "<AxesSubplot:>"
      ]
     },
     "execution_count": 32,
     "metadata": {},
     "output_type": "execute_result"
    },
    {
     "data": {
      "image/png": "[encoded data removed]",
      "text/plain": [
       "<Figure size 792x288 with 1 Axes>"
      ]
     },
     "metadata": {
      "needs_background": "light"
     },
     "output_type": "display_data"
    }
   ],
   "source": [
    "#расстояние до ближайшего аэропорта\n",
    "data['airports_nearest'].hist(bins=60, range=(0, 80000),figsize=( 11 , 4 ))"
   ]
  },
  {
   "cell_type": "code",
   "execution_count": 33,
   "metadata": {},
   "outputs": [
    {
     "data": {
      "text/plain": [
       "<AxesSubplot:>"
      ]
     },
     "execution_count": 33,
     "metadata": {},
     "output_type": "execute_result"
    },
    {
     "data": {
      "image/png": "[encoded data removed]",
      "text/plain": [
       "<Figure size 792x288 with 1 Axes>"
      ]
     },
     "metadata": {
      "needs_background": "light"
     },
     "output_type": "display_data"
    }
   ],
   "source": [
    "#расстояние до ближайшего парка\n",
    "data['parks_nearest'].hist(bins=60, range=(0, 4000),figsize=( 11 , 4 ))"
   ]
  },
  {
   "cell_type": "markdown",
   "metadata": {},
   "source": [
    "500 метров - самое оптимальное (часто встречающееся) расстояние от квартиры до парка "
   ]
  },
  {
   "cell_type": "code",
   "execution_count": 34,
   "metadata": {},
   "outputs": [
    {
     "data": {
      "text/plain": [
       "<AxesSubplot:>"
      ]
     },
     "execution_count": 34,
     "metadata": {},
     "output_type": "execute_result"
    },
    {
     "data": {
      "image/png": "[encoded data removed]",
      "text/plain": [
       "<Figure size 792x288 with 1 Axes>"
      ]
     },
     "metadata": {
      "needs_background": "light"
     },
     "output_type": "display_data"
    }
   ],
   "source": [
    "# месяц публикации объявления\n",
    "data['month'].hist(bins=100, range=(0, 12), figsize=( 11 , 4 ))"
   ]
  },
  {
   "cell_type": "markdown",
   "metadata": {},
   "source": [
    "по графику мы можем заметить, что февраль и март являются месяцами с самым большим количеством публикаций объявлений. а к лету объявления уже падают"
   ]
  },
  {
   "cell_type": "code",
   "execution_count": 35,
   "metadata": {},
   "outputs": [
    {
     "data": {
      "text/plain": [
       "<AxesSubplot:>"
      ]
     },
     "execution_count": 35,
     "metadata": {},
     "output_type": "execute_result"
    },
    {
     "data": {
      "image/png": "[encoded data removed]",
      "text/plain": [
       "<Figure size 792x288 with 1 Axes>"
      ]
     },
     "metadata": {
      "needs_background": "light"
     },
     "output_type": "display_data"
    }
   ],
   "source": [
    "#день публикации объявления\n",
    "data['weekday'].hist(bins=20, range=(0, 7), figsize=( 11 , 4 ))"
   ]
  },
  {
   "cell_type": "markdown",
   "metadata": {},
   "source": [
    "выходные - самыер редкие дни, когда люди публикуют объявления о продаже квартиры"
   ]
  },
  {
   "cell_type": "code",
   "execution_count": 36,
   "metadata": {},
   "outputs": [
    {
     "data": {
      "text/plain": [
       "<AxesSubplot:>"
      ]
     },
     "execution_count": 36,
     "metadata": {},
     "output_type": "execute_result"
    },
    {
     "data": {
      "image/png": "[encoded data removed]",
      "text/plain": [
       "<Figure size 1008x288 with 1 Axes>"
      ]
     },
     "metadata": {
      "needs_background": "light"
     },
     "output_type": "display_data"
    }
   ],
   "source": [
    "#days_exposition\n",
    "data['days_exposition'].hist(bins=100, range=(0, 1600), figsize=( 14 , 4 ))"
   ]
  },
  {
   "cell_type": "code",
   "execution_count": 37,
   "metadata": {},
   "outputs": [
    {
     "name": "stdout",
     "output_type": "stream",
     "text": [
      "среднее количество дней до снятия объявления - 180.88863436982163\n"
     ]
    }
   ],
   "source": [
    "print('среднее количество дней до снятия объявления -',data['days_exposition'].mean())"
   ]
  },
  {
   "cell_type": "code",
   "execution_count": 38,
   "metadata": {},
   "outputs": [
    {
     "name": "stdout",
     "output_type": "stream",
     "text": [
      "медиана количества дней до снятия объявления - 95.0\n"
     ]
    }
   ],
   "source": [
    "print('медиана количества дней до снятия объявления -',data['days_exposition'].median())"
   ]
  },
  {
   "cell_type": "code",
   "execution_count": 39,
   "metadata": {},
   "outputs": [
    {
     "data": {
      "text/plain": [
       "45.0    880\n",
       "60.0    538\n",
       "7.0     234\n",
       "30.0    208\n",
       "90.0    204\n",
       "4.0     176\n",
       "3.0     158\n",
       "5.0     152\n",
       "14.0    148\n",
       "9.0     143\n",
       "8.0     139\n",
       "20.0    139\n",
       "44.0    138\n",
       "11.0    135\n",
       "18.0    129\n",
       "13.0    128\n",
       "10.0    127\n",
       "28.0    126\n",
       "15.0    126\n",
       "22.0    125\n",
       "Name: days_exposition, dtype: int64"
      ]
     },
     "execution_count": 39,
     "metadata": {},
     "output_type": "execute_result"
    }
   ],
   "source": [
    "data['days_exposition'].value_counts().head(20)"
   ]
  },
  {
   "cell_type": "markdown",
   "metadata": {},
   "source": [
    "- Среднее количесво дней до снятия объявления - `180`, однако медианное значение - `95`\n",
    "- Самый часто встречающийся период продажи - `45 дней`\n",
    "- Нельзя сказать, что продажи квартир РАНЬШЕ 45 дней - это редкие продажи, большая часть объявлений существует как раз не более 45 дней\n",
    "- Те объявления, что висят более 100 дней, уже можно называть `долгими`, а те, что висят `более 600 дней - необычно долгими`."
   ]
  },
  {
   "cell_type": "markdown",
   "metadata": {},
   "source": [
    "### определение факторов, влияющих на цену"
   ]
  },
  {
   "cell_type": "code",
   "execution_count": 40,
   "metadata": {},
   "outputs": [
    {
     "data": {
      "text/plain": [
       "<AxesSubplot:xlabel='total_area', ylabel='last_price'>"
      ]
     },
     "execution_count": 40,
     "metadata": {},
     "output_type": "execute_result"
    },
    {
     "data": {
      "image/png": "[encoded data removed]",
      "text/plain": [
       "<Figure size 432x288 with 1 Axes>"
      ]
     },
     "metadata": {
      "needs_background": "light"
     },
     "output_type": "display_data"
    }
   ],
   "source": [
    "#график взаимосвязи общей цены квартиры и общей площади \n",
    "data.plot(x='total_area', y='last_price',kind='scatter', alpha=0.03, style='o-')"
   ]
  },
  {
   "cell_type": "markdown",
   "metadata": {},
   "source": []
  },
  {
   "cell_type": "code",
   "execution_count": 41,
   "metadata": {},
   "outputs": [
    {
     "data": {
      "text/plain": [
       "0.778996297839145"
      ]
     },
     "execution_count": 41,
     "metadata": {},
     "output_type": "execute_result"
    }
   ],
   "source": [
    "#ищем корреляцию\n",
    "data['total_area'].corr(data['last_price'])\n"
   ]
  },
  {
   "cell_type": "markdown",
   "metadata": {},
   "source": [
    "По графику и `коэффициенту корреляции, равному 0.77`, можно сказать, что площадь `НАПРЯМУЮ ВЛИЯЕТ` на СТОИМОСТЬ КВАРТИРЫ \n",
    "- ЧЕМ БОЛЬШЕ ПЛОЩАДЬ КВАРТИРЫ, ТЕМ БОЛЬШЕ ЕЁ СТОИМОСТЬ\n"
   ]
  },
  {
   "cell_type": "code",
   "execution_count": 42,
   "metadata": {},
   "outputs": [
    {
     "data": {
      "text/plain": [
       "<AxesSubplot:xlabel='living_area', ylabel='last_price'>"
      ]
     },
     "execution_count": 42,
     "metadata": {},
     "output_type": "execute_result"
    },
    {
     "data": {
      "image/png": "[encoded data removed]",
      "text/plain": [
       "<Figure size 432x288 with 1 Axes>"
      ]
     },
     "metadata": {
      "needs_background": "light"
     },
     "output_type": "display_data"
    }
   ],
   "source": [
    "#график взаимосвязи общей цены квартиры и жилой площади \n",
    "\n",
    "data.plot(x='living_area', y='last_price',kind='scatter', alpha=0.03, style='o-')"
   ]
  },
  {
   "cell_type": "code",
   "execution_count": 43,
   "metadata": {},
   "outputs": [
    {
     "data": {
      "text/plain": [
       "0.6504177276165791"
      ]
     },
     "execution_count": 43,
     "metadata": {},
     "output_type": "execute_result"
    }
   ],
   "source": [
    "data['living_area'].corr(data['last_price'])"
   ]
  },
  {
   "cell_type": "markdown",
   "metadata": {},
   "source": [
    "По графику и `коэффициенту корреляции, равному 0.65`, можно сказать, что жилая площадь `ВЛИЯЕТ` на СТОИМОСТЬ КВАРТИРЫ, однако в меньшей степени, чем общая площадь  \n"
   ]
  },
  {
   "cell_type": "code",
   "execution_count": 44,
   "metadata": {},
   "outputs": [
    {
     "data": {
      "text/plain": [
       "<AxesSubplot:xlabel='kitchen_area', ylabel='last_price'>"
      ]
     },
     "execution_count": 44,
     "metadata": {},
     "output_type": "execute_result"
    },
    {
     "data": {
      "image/png": "[encoded data removed]",
      "text/plain": [
       "<Figure size 432x288 with 1 Axes>"
      ]
     },
     "metadata": {
      "needs_background": "light"
     },
     "output_type": "display_data"
    }
   ],
   "source": [
    "#график взаимосвязи общей цены квартиры и  площади кухни\n",
    "\n",
    "data.plot(x='kitchen_area', y='last_price',kind='scatter', alpha=0.03, style='o-')"
   ]
  },
  {
   "cell_type": "code",
   "execution_count": 45,
   "metadata": {},
   "outputs": [
    {
     "data": {
      "text/plain": [
       "0.6073548479946655"
      ]
     },
     "execution_count": 45,
     "metadata": {},
     "output_type": "execute_result"
    }
   ],
   "source": [
    "data['kitchen_area'].corr(data['last_price'])"
   ]
  },
  {
   "cell_type": "markdown",
   "metadata": {},
   "source": [
    "По графику и коэффициенту корреляции, равному 0.6, можно сказать, что площадь кухни так-же ВЛИЯЕТ на СТОИМОСТЬ КВАРТИРЫ, однако в меньшей степени, чем общая площадь и жилая площадь"
   ]
  },
  {
   "cell_type": "code",
   "execution_count": 46,
   "metadata": {},
   "outputs": [
    {
     "data": {
      "text/plain": [
       "<AxesSubplot:xlabel='rooms'>"
      ]
     },
     "execution_count": 46,
     "metadata": {},
     "output_type": "execute_result"
    },
    {
     "data": {
      "image/png": "[encoded data removed]",
      "text/plain": [
       "<Figure size 432x720 with 1 Axes>"
      ]
     },
     "metadata": {
      "needs_background": "light"
     },
     "output_type": "display_data"
    }
   ],
   "source": [
    "#график взаимосвязи общей своимости квартиры и количества комнат \n",
    "(data\n",
    "    .pivot_table(index='rooms', values='last_price')\n",
    "    .plot( style='o-',figsize=(6, 10),grid = True)\n",
    ")    \n"
   ]
  },
  {
   "cell_type": "code",
   "execution_count": 47,
   "metadata": {},
   "outputs": [
    {
     "data": {
      "text/plain": [
       "<AxesSubplot:xlabel='rooms', ylabel='last_price'>"
      ]
     },
     "execution_count": 47,
     "metadata": {},
     "output_type": "execute_result"
    },
    {
     "data": {
      "image/png": "[encoded data removed]",
      "text/plain": [
       "<Figure size 432x288 with 1 Axes>"
      ]
     },
     "metadata": {
      "needs_background": "light"
     },
     "output_type": "display_data"
    }
   ],
   "source": [
    "data.plot(x='rooms', y='last_price',kind='scatter', alpha=0.03, style='o-')"
   ]
  },
  {
   "cell_type": "code",
   "execution_count": 48,
   "metadata": {},
   "outputs": [
    {
     "data": {
      "text/plain": [
       "0.5136244960605002"
      ]
     },
     "execution_count": 48,
     "metadata": {},
     "output_type": "execute_result"
    }
   ],
   "source": [
    "data['rooms'].corr(data['last_price'])"
   ]
  },
  {
   "cell_type": "markdown",
   "metadata": {},
   "source": [
    "По графикам и коэффициенту корреляции, равному 0.51, можно сказать, что число комнат  ВЛИЯЕТ на СТОИМОСТЬ КВАРТИРЫ, однако в данном случае все интереснее:\n",
    "- если мы берем квартиры с 1-3 комнатами, то их стоимость не так сильно варируется между собой.\n",
    "- начиная с 4 комнат и выше стоимость резко возрастает"
   ]
  },
  {
   "cell_type": "code",
   "execution_count": 49,
   "metadata": {},
   "outputs": [
    {
     "data": {
      "text/plain": [
       "<AxesSubplot:xlabel='floor_type'>"
      ]
     },
     "execution_count": 49,
     "metadata": {},
     "output_type": "execute_result"
    },
    {
     "data": {
      "image/png": "[encoded data removed]",
      "text/plain": [
       "<Figure size 576x432 with 1 Axes>"
      ]
     },
     "metadata": {
      "needs_background": "light"
     },
     "output_type": "display_data"
    }
   ],
   "source": [
    "#график взаимосвязи общей своимости квартиры и типом этажа\n",
    "\n",
    "(data\n",
    "    .pivot_table(index='floor_type', values='last_price')\n",
    "    .plot( style='o-',figsize=(8, 6),grid = True)\n",
    ")    "
   ]
  },
  {
   "cell_type": "markdown",
   "metadata": {},
   "source": [
    "По графикам  можно сказать, что тип этажа  ВЛИЯЕТ на СТОИМОСТЬ КВАРТИРЫ:\n",
    "- песледние этажы ценятся чуть меньше, чем этажи по середине\n",
    "- первые этажи имеют самую дешевую стоимость\n"
   ]
  },
  {
   "cell_type": "markdown",
   "metadata": {},
   "source": []
  },
  {
   "cell_type": "code",
   "execution_count": 50,
   "metadata": {},
   "outputs": [
    {
     "data": {
      "text/plain": [
       "<AxesSubplot:xlabel='month'>"
      ]
     },
     "execution_count": 50,
     "metadata": {},
     "output_type": "execute_result"
    },
    {
     "data": {
      "image/png": "[encoded data removed]",
      "text/plain": [
       "<Figure size 864x576 with 1 Axes>"
      ]
     },
     "metadata": {
      "needs_background": "light"
     },
     "output_type": "display_data"
    }
   ],
   "source": [
    "\n",
    "\n",
    "(data\n",
    "    .pivot_table(index='month', values='last_price')\n",
    "    .plot.bar( style='o-',figsize=(12, 8),grid = True)\n",
    ")  "
   ]
  },
  {
   "cell_type": "code",
   "execution_count": 51,
   "metadata": {},
   "outputs": [
    {
     "data": {
      "text/plain": [
       "<AxesSubplot:xlabel='weekday'>"
      ]
     },
     "execution_count": 51,
     "metadata": {},
     "output_type": "execute_result"
    },
    {
     "data": {
      "image/png": "[encoded data removed]",
      "text/plain": [
       "<Figure size 864x576 with 1 Axes>"
      ]
     },
     "metadata": {
      "needs_background": "light"
     },
     "output_type": "display_data"
    }
   ],
   "source": [
    "(data\n",
    "    .pivot_table(index='weekday', values='last_price')\n",
    "    .plot.bar( style='o-',figsize=(12, 8),grid = True)\n",
    ")  "
   ]
  },
  {
   "cell_type": "code",
   "execution_count": 52,
   "metadata": {},
   "outputs": [
    {
     "data": {
      "text/plain": [
       "<AxesSubplot:xlabel='year'>"
      ]
     },
     "execution_count": 52,
     "metadata": {},
     "output_type": "execute_result"
    },
    {
     "data": {
      "image/png": "[encoded data removed]",
      "text/plain": [
       "<Figure size 864x576 with 1 Axes>"
      ]
     },
     "metadata": {
      "needs_background": "light"
     },
     "output_type": "display_data"
    }
   ],
   "source": [
    "(data\n",
    "    .pivot_table(index='year', values='last_price')\n",
    "    .plot.bar( style='o-',figsize=(12, 8),grid = True)\n",
    ")  "
   ]
  },
  {
   "cell_type": "code",
   "execution_count": 53,
   "metadata": {},
   "outputs": [
    {
     "data": {
      "text/html": [
       "<div>\n",
       "<style scoped>\n",
       "    .dataframe tbody tr th:only-of-type {\n",
       "        vertical-align: middle;\n",
       "    }\n",
       "\n",
       "    .dataframe tbody tr th {\n",
       "        vertical-align: top;\n",
       "    }\n",
       "\n",
       "    .dataframe thead th {\n",
       "        text-align: right;\n",
       "    }\n",
       "</style>\n",
       "<table border=\"1\" class=\"dataframe\">\n",
       "  <thead>\n",
       "    <tr style=\"text-align: right;\">\n",
       "      <th></th>\n",
       "      <th>price_one_meter</th>\n",
       "    </tr>\n",
       "    <tr>\n",
       "      <th>locality_name</th>\n",
       "      <th></th>\n",
       "    </tr>\n",
       "  </thead>\n",
       "  <tbody>\n",
       "    <tr>\n",
       "      <th>выборг</th>\n",
       "      <td>58141.909153</td>\n",
       "    </tr>\n",
       "    <tr>\n",
       "      <th>всеволожск</th>\n",
       "      <td>68654.473986</td>\n",
       "    </tr>\n",
       "    <tr>\n",
       "      <th>гатчина</th>\n",
       "      <td>68746.146763</td>\n",
       "    </tr>\n",
       "    <tr>\n",
       "      <th>колпино</th>\n",
       "      <td>75424.579098</td>\n",
       "    </tr>\n",
       "    <tr>\n",
       "      <th>шушары</th>\n",
       "      <td>78677.364217</td>\n",
       "    </tr>\n",
       "    <tr>\n",
       "      <th>мурино</th>\n",
       "      <td>86087.512050</td>\n",
       "    </tr>\n",
       "    <tr>\n",
       "      <th>парголово</th>\n",
       "      <td>90175.913458</td>\n",
       "    </tr>\n",
       "    <tr>\n",
       "      <th>деревня кудрово</th>\n",
       "      <td>92473.547576</td>\n",
       "    </tr>\n",
       "    <tr>\n",
       "      <th>пушкин</th>\n",
       "      <td>103125.819291</td>\n",
       "    </tr>\n",
       "    <tr>\n",
       "      <th>санкт-петербург</th>\n",
       "      <td>114849.008794</td>\n",
       "    </tr>\n",
       "  </tbody>\n",
       "</table>\n",
       "</div>"
      ],
      "text/plain": [
       "                 price_one_meter\n",
       "locality_name                   \n",
       "выборг              58141.909153\n",
       "всеволожск          68654.473986\n",
       "гатчина             68746.146763\n",
       "колпино             75424.579098\n",
       "шушары              78677.364217\n",
       "мурино              86087.512050\n",
       "парголово           90175.913458\n",
       "деревня кудрово     92473.547576\n",
       "пушкин             103125.819291\n",
       "санкт-петербург    114849.008794"
      ]
     },
     "execution_count": 53,
     "metadata": {},
     "output_type": "execute_result"
    }
   ],
   "source": [
    "#создаем список топ 10 населеных пунктов по числу объявлений\n",
    "top_name = data['locality_name'].value_counts().head(10)\n",
    "#print(top_name)\n",
    "#создаем список средней стоимости квадрата по населеным пунктам\n",
    "price_one_meter_name = data.pivot_table(index='locality_name', values= 'price_one_meter', aggfunc='mean')\n",
    "#print(price_one_meter_name)\n",
    "\n",
    "\n",
    "#ищем среди списка \"средней стоимости квадрата по населеным пунктам\" те населеные пункты, входящие в топ 10 по числу объявлений\n",
    "price_one_meter_top_name = price_one_meter_name.query('locality_name in @top_name.index')\n",
    "\n",
    "#сортируем список\n",
    "price_one_meter_top_name.sort_values(by = 'price_one_meter')"
   ]
  },
  {
   "cell_type": "markdown",
   "metadata": {},
   "source": [
    "Согласно списку `price_one_meter_top_name`:\n",
    "- `САНКТ - ПЕТЕРБУРГ`- город с самым дорогим средним квадратным метром, а именно -`111849р`\n",
    "- `ВЫБОРГ` - город с самым низким по стоимости средним квадратным метром, а именно - `58141р`"
   ]
  },
  {
   "cell_type": "code",
   "execution_count": 54,
   "metadata": {},
   "outputs": [
    {
     "data": {
      "text/html": [
       "<div>\n",
       "<style scoped>\n",
       "    .dataframe tbody tr th:only-of-type {\n",
       "        vertical-align: middle;\n",
       "    }\n",
       "\n",
       "    .dataframe tbody tr th {\n",
       "        vertical-align: top;\n",
       "    }\n",
       "\n",
       "    .dataframe thead th {\n",
       "        text-align: right;\n",
       "    }\n",
       "</style>\n",
       "<table border=\"1\" class=\"dataframe\">\n",
       "  <thead>\n",
       "    <tr style=\"text-align: right;\">\n",
       "      <th></th>\n",
       "      <th>balcony</th>\n",
       "      <th>last_price</th>\n",
       "    </tr>\n",
       "    <tr>\n",
       "      <th>locality_name</th>\n",
       "      <th></th>\n",
       "      <th></th>\n",
       "    </tr>\n",
       "  </thead>\n",
       "  <tbody>\n",
       "    <tr>\n",
       "      <th>санкт-петербург</th>\n",
       "      <td>15721</td>\n",
       "      <td>5493030.0</td>\n",
       "    </tr>\n",
       "    <tr>\n",
       "      <th>мурино</th>\n",
       "      <td>590</td>\n",
       "      <td>3400000.0</td>\n",
       "    </tr>\n",
       "    <tr>\n",
       "      <th>шушары</th>\n",
       "      <td>440</td>\n",
       "      <td>3950000.0</td>\n",
       "    </tr>\n",
       "    <tr>\n",
       "      <th>всеволожск</th>\n",
       "      <td>398</td>\n",
       "      <td>3450000.0</td>\n",
       "    </tr>\n",
       "    <tr>\n",
       "      <th>пушкин</th>\n",
       "      <td>369</td>\n",
       "      <td>5150000.0</td>\n",
       "    </tr>\n",
       "    <tr>\n",
       "      <th>колпино</th>\n",
       "      <td>338</td>\n",
       "      <td>3600000.0</td>\n",
       "    </tr>\n",
       "    <tr>\n",
       "      <th>парголово</th>\n",
       "      <td>327</td>\n",
       "      <td>4100000.0</td>\n",
       "    </tr>\n",
       "    <tr>\n",
       "      <th>гатчина</th>\n",
       "      <td>307</td>\n",
       "      <td>3100000.0</td>\n",
       "    </tr>\n",
       "    <tr>\n",
       "      <th>деревня кудрово</th>\n",
       "      <td>299</td>\n",
       "      <td>3790000.0</td>\n",
       "    </tr>\n",
       "    <tr>\n",
       "      <th>выборг</th>\n",
       "      <td>237</td>\n",
       "      <td>2897000.0</td>\n",
       "    </tr>\n",
       "  </tbody>\n",
       "</table>\n",
       "</div>"
      ],
      "text/plain": [
       "                 balcony  last_price\n",
       "locality_name                       \n",
       "санкт-петербург    15721   5493030.0\n",
       "мурино               590   3400000.0\n",
       "шушары               440   3950000.0\n",
       "всеволожск           398   3450000.0\n",
       "пушкин               369   5150000.0\n",
       "колпино              338   3600000.0\n",
       "парголово            327   4100000.0\n",
       "гатчина              307   3100000.0\n",
       "деревня кудрово      299   3790000.0\n",
       "выборг               237   2897000.0"
      ]
     },
     "execution_count": 54,
     "metadata": {},
     "output_type": "execute_result"
    }
   ],
   "source": [
    "data.groupby('locality_name').agg({'balcony':'count', 'last_price':'median'}) \\\n",
    "    .sort_values(by = 'balcony', ascending = False) \\\n",
    "    .head(10)"
   ]
  },
  {
   "cell_type": "code",
   "execution_count": 55,
   "metadata": {},
   "outputs": [
    {
     "data": {
      "text/html": [
       "<div>\n",
       "<style scoped>\n",
       "    .dataframe tbody tr th:only-of-type {\n",
       "        vertical-align: middle;\n",
       "    }\n",
       "\n",
       "    .dataframe tbody tr th {\n",
       "        vertical-align: top;\n",
       "    }\n",
       "\n",
       "    .dataframe thead th {\n",
       "        text-align: right;\n",
       "    }\n",
       "</style>\n",
       "<table border=\"1\" class=\"dataframe\">\n",
       "  <thead>\n",
       "    <tr style=\"text-align: right;\">\n",
       "      <th></th>\n",
       "      <th>last_price</th>\n",
       "    </tr>\n",
       "    <tr>\n",
       "      <th>cityCenters_nearest_km</th>\n",
       "      <th></th>\n",
       "    </tr>\n",
       "  </thead>\n",
       "  <tbody>\n",
       "    <tr>\n",
       "      <th>0.0</th>\n",
       "      <td>1.131867e+07</td>\n",
       "    </tr>\n",
       "    <tr>\n",
       "      <th>1.0</th>\n",
       "      <td>1.183008e+07</td>\n",
       "    </tr>\n",
       "    <tr>\n",
       "      <th>2.0</th>\n",
       "      <td>1.112824e+07</td>\n",
       "    </tr>\n",
       "    <tr>\n",
       "      <th>3.0</th>\n",
       "      <td>9.772281e+06</td>\n",
       "    </tr>\n",
       "    <tr>\n",
       "      <th>4.0</th>\n",
       "      <td>1.033412e+07</td>\n",
       "    </tr>\n",
       "    <tr>\n",
       "      <th>5.0</th>\n",
       "      <td>1.089508e+07</td>\n",
       "    </tr>\n",
       "    <tr>\n",
       "      <th>6.0</th>\n",
       "      <td>9.755564e+06</td>\n",
       "    </tr>\n",
       "    <tr>\n",
       "      <th>7.0</th>\n",
       "      <td>9.278996e+06</td>\n",
       "    </tr>\n",
       "    <tr>\n",
       "      <th>8.0</th>\n",
       "      <td>8.785690e+06</td>\n",
       "    </tr>\n",
       "    <tr>\n",
       "      <th>9.0</th>\n",
       "      <td>6.753074e+06</td>\n",
       "    </tr>\n",
       "    <tr>\n",
       "      <th>10.0</th>\n",
       "      <td>6.424633e+06</td>\n",
       "    </tr>\n",
       "    <tr>\n",
       "      <th>11.0</th>\n",
       "      <td>6.094949e+06</td>\n",
       "    </tr>\n",
       "    <tr>\n",
       "      <th>12.0</th>\n",
       "      <td>5.810358e+06</td>\n",
       "    </tr>\n",
       "    <tr>\n",
       "      <th>13.0</th>\n",
       "      <td>6.083141e+06</td>\n",
       "    </tr>\n",
       "    <tr>\n",
       "      <th>14.0</th>\n",
       "      <td>5.586743e+06</td>\n",
       "    </tr>\n",
       "    <tr>\n",
       "      <th>15.0</th>\n",
       "      <td>5.828812e+06</td>\n",
       "    </tr>\n",
       "    <tr>\n",
       "      <th>16.0</th>\n",
       "      <td>5.352065e+06</td>\n",
       "    </tr>\n",
       "    <tr>\n",
       "      <th>17.0</th>\n",
       "      <td>5.241741e+06</td>\n",
       "    </tr>\n",
       "    <tr>\n",
       "      <th>18.0</th>\n",
       "      <td>5.091331e+06</td>\n",
       "    </tr>\n",
       "    <tr>\n",
       "      <th>19.0</th>\n",
       "      <td>5.037675e+06</td>\n",
       "    </tr>\n",
       "    <tr>\n",
       "      <th>20.0</th>\n",
       "      <td>5.951465e+06</td>\n",
       "    </tr>\n",
       "    <tr>\n",
       "      <th>21.0</th>\n",
       "      <td>5.493469e+06</td>\n",
       "    </tr>\n",
       "    <tr>\n",
       "      <th>22.0</th>\n",
       "      <td>5.415524e+06</td>\n",
       "    </tr>\n",
       "    <tr>\n",
       "      <th>23.0</th>\n",
       "      <td>4.985376e+06</td>\n",
       "    </tr>\n",
       "    <tr>\n",
       "      <th>24.0</th>\n",
       "      <td>3.854430e+06</td>\n",
       "    </tr>\n",
       "    <tr>\n",
       "      <th>25.0</th>\n",
       "      <td>4.052840e+06</td>\n",
       "    </tr>\n",
       "    <tr>\n",
       "      <th>26.0</th>\n",
       "      <td>3.973013e+06</td>\n",
       "    </tr>\n",
       "    <tr>\n",
       "      <th>27.0</th>\n",
       "      <td>8.300000e+06</td>\n",
       "    </tr>\n",
       "    <tr>\n",
       "      <th>28.0</th>\n",
       "      <td>5.026429e+06</td>\n",
       "    </tr>\n",
       "    <tr>\n",
       "      <th>29.0</th>\n",
       "      <td>4.236667e+06</td>\n",
       "    </tr>\n",
       "  </tbody>\n",
       "</table>\n",
       "</div>"
      ],
      "text/plain": [
       "                          last_price\n",
       "cityCenters_nearest_km              \n",
       "0.0                     1.131867e+07\n",
       "1.0                     1.183008e+07\n",
       "2.0                     1.112824e+07\n",
       "3.0                     9.772281e+06\n",
       "4.0                     1.033412e+07\n",
       "5.0                     1.089508e+07\n",
       "6.0                     9.755564e+06\n",
       "7.0                     9.278996e+06\n",
       "8.0                     8.785690e+06\n",
       "9.0                     6.753074e+06\n",
       "10.0                    6.424633e+06\n",
       "11.0                    6.094949e+06\n",
       "12.0                    5.810358e+06\n",
       "13.0                    6.083141e+06\n",
       "14.0                    5.586743e+06\n",
       "15.0                    5.828812e+06\n",
       "16.0                    5.352065e+06\n",
       "17.0                    5.241741e+06\n",
       "18.0                    5.091331e+06\n",
       "19.0                    5.037675e+06\n",
       "20.0                    5.951465e+06\n",
       "21.0                    5.493469e+06\n",
       "22.0                    5.415524e+06\n",
       "23.0                    4.985376e+06\n",
       "24.0                    3.854430e+06\n",
       "25.0                    4.052840e+06\n",
       "26.0                    3.973013e+06\n",
       "27.0                    8.300000e+06\n",
       "28.0                    5.026429e+06\n",
       "29.0                    4.236667e+06"
      ]
     },
     "execution_count": 55,
     "metadata": {},
     "output_type": "execute_result"
    }
   ],
   "source": [
    "city_spb = data.query('locality_name == \"санкт-петербург\"')\n",
    "\n",
    "city_spb.pivot_table(index = 'cityCenters_nearest_km', values='last_price', aggfunc='mean')\n"
   ]
  },
  {
   "cell_type": "code",
   "execution_count": 58,
   "metadata": {},
   "outputs": [
    {
     "data": {
      "text/plain": [
       "<AxesSubplot:title={'center':'Заголовок'}, xlabel='cityCenters_nearest_km'>"
      ]
     },
     "execution_count": 58,
     "metadata": {},
     "output_type": "execute_result"
    },
    {
     "data": {
      "image/png": "[encoded data removed]",
      "text/plain": [
       "<Figure size 1152x720 with 1 Axes>"
      ]
     },
     "metadata": {
      "needs_background": "light"
     },
     "output_type": "display_data"
    }
   ],
   "source": [
    "(city_spb\n",
    "    .pivot_table(index='cityCenters_nearest_km', values='last_price')\n",
    "    .plot( style='o-',figsize=(16, 10),grid = True, title = 'Заголовок')\n",
    ")    \n"
   ]
  },
  {
   "cell_type": "markdown",
   "metadata": {},
   "source": [
    "- по графику видно, как снижается цена по мере отдаления квартиры от центра\n",
    "- однако стоит заметить, что в 43км и 55км ценовые пики повышаються, что говорит о том, что скорее всего в населеных пунктах ( находящихся на этом расстоянии) присутсвуют элитные жилые районы"
   ]
  },
  {
   "cell_type": "markdown",
   "metadata": {},
   "source": [
    "### Общий вывод"
   ]
  },
  {
   "cell_type": "markdown",
   "metadata": {},
   "source": [
    "был произведен анализ данных сервиса Яндекс Недвижимость — архив объявлений за несколько лет о продаже квартир в Санкт-Петербурге и соседних населённых пунктах.\n",
    "\n",
    "- По данным можно сообщить, что самыми базовыми квартирами являются `1, 2-х, 3-х` комнатные квартиры, находящиеся в ценовом диапозоне от `2 000 000 до 7 000 000`\n",
    "\n",
    "- Общая площадь таких квартир варируется от `35 до 65 кв.м.`\n",
    "\n",
    "- Подавляющее большинсво квартир находятся с `1 по 5 этажи` (чаще всего сами дома встречаються 5 этажные)\n",
    "\n",
    "- чаще всего данные квартиры продается 45 дней (большая часть до 45 дней)\n",
    "\n",
    "- `площадь квартиры`, `количество комнат`, `тип этажа` а так же `расстояние до центра города` - являються самыми `сильными` факторами, которые влияют на цену квартиры"
   ]
  }
 ],
 "metadata": {
  "ExecuteTimeLog": [
   {
    "duration": 689,
    "start_time": "2023-02-02T19:45:31.577Z"
   },
   {
    "duration": 2631,
    "start_time": "2023-02-02T19:46:38.462Z"
   },
   {
    "duration": 13,
    "start_time": "2023-02-02T19:56:25.804Z"
   },
   {
    "duration": 1934,
    "start_time": "2023-02-02T19:58:58.705Z"
   },
   {
    "duration": 1925,
    "start_time": "2023-02-02T19:59:21.528Z"
   },
   {
    "duration": 32,
    "start_time": "2023-02-02T20:12:45.247Z"
   },
   {
    "duration": 43,
    "start_time": "2023-02-03T16:20:11.193Z"
   },
   {
    "duration": 3949,
    "start_time": "2023-02-03T16:20:32.794Z"
   },
   {
    "duration": 11,
    "start_time": "2023-02-03T16:20:36.745Z"
   },
   {
    "duration": 54,
    "start_time": "2023-02-03T16:20:36.757Z"
   },
   {
    "duration": 15,
    "start_time": "2023-02-03T16:25:19.865Z"
   },
   {
    "duration": 8,
    "start_time": "2023-02-03T16:26:55.113Z"
   },
   {
    "duration": 7,
    "start_time": "2023-02-03T16:27:12.946Z"
   },
   {
    "duration": 8,
    "start_time": "2023-02-03T16:27:22.226Z"
   },
   {
    "duration": 7,
    "start_time": "2023-02-03T16:27:33.634Z"
   },
   {
    "duration": 7,
    "start_time": "2023-02-03T16:27:42.858Z"
   },
   {
    "duration": 8,
    "start_time": "2023-02-03T16:28:01.506Z"
   },
   {
    "duration": 7,
    "start_time": "2023-02-03T16:28:11.306Z"
   },
   {
    "duration": 8,
    "start_time": "2023-02-03T16:28:21.106Z"
   },
   {
    "duration": 8,
    "start_time": "2023-02-03T16:29:19.346Z"
   },
   {
    "duration": 5,
    "start_time": "2023-02-03T16:30:27.203Z"
   },
   {
    "duration": 33,
    "start_time": "2023-02-03T16:30:56.988Z"
   },
   {
    "duration": 34,
    "start_time": "2023-02-03T16:31:41.354Z"
   },
   {
    "duration": 34,
    "start_time": "2023-02-03T16:32:34.672Z"
   },
   {
    "duration": 2224,
    "start_time": "2023-02-03T16:32:49.836Z"
   },
   {
    "duration": 22,
    "start_time": "2023-02-03T16:32:52.061Z"
   },
   {
    "duration": 44,
    "start_time": "2023-02-03T16:32:52.084Z"
   },
   {
    "duration": 26,
    "start_time": "2023-02-03T16:33:42.493Z"
   },
   {
    "duration": 8,
    "start_time": "2023-02-03T16:39:01.621Z"
   },
   {
    "duration": 43,
    "start_time": "2023-02-03T16:55:27.419Z"
   },
   {
    "duration": 27,
    "start_time": "2023-02-03T16:55:39.753Z"
   },
   {
    "duration": 28,
    "start_time": "2023-02-03T16:57:51.646Z"
   },
   {
    "duration": 28,
    "start_time": "2023-02-03T16:58:06.513Z"
   },
   {
    "duration": 29,
    "start_time": "2023-02-03T17:07:25.233Z"
   },
   {
    "duration": 2126,
    "start_time": "2023-02-03T17:07:31.449Z"
   },
   {
    "duration": 9,
    "start_time": "2023-02-03T17:07:33.577Z"
   },
   {
    "duration": 35,
    "start_time": "2023-02-03T17:07:42.184Z"
   },
   {
    "duration": 26,
    "start_time": "2023-02-03T17:14:07.505Z"
   },
   {
    "duration": 1802,
    "start_time": "2023-02-03T17:14:19.165Z"
   },
   {
    "duration": 10,
    "start_time": "2023-02-03T17:14:20.969Z"
   },
   {
    "duration": 27,
    "start_time": "2023-02-03T17:14:25.756Z"
   },
   {
    "duration": 8,
    "start_time": "2023-02-03T17:22:50.023Z"
   },
   {
    "duration": 1945,
    "start_time": "2023-02-03T17:23:19.289Z"
   },
   {
    "duration": 11,
    "start_time": "2023-02-03T17:23:21.236Z"
   },
   {
    "duration": 52,
    "start_time": "2023-02-03T17:23:21.249Z"
   },
   {
    "duration": 10,
    "start_time": "2023-02-03T17:23:25.601Z"
   },
   {
    "duration": 6,
    "start_time": "2023-02-03T17:23:58.568Z"
   },
   {
    "duration": 7,
    "start_time": "2023-02-03T17:24:13.320Z"
   },
   {
    "duration": 109,
    "start_time": "2023-02-03T17:30:43.461Z"
   },
   {
    "duration": 15,
    "start_time": "2023-02-03T17:30:49.285Z"
   },
   {
    "duration": 14,
    "start_time": "2023-02-03T17:31:14.829Z"
   },
   {
    "duration": 11,
    "start_time": "2023-02-03T17:31:26.780Z"
   },
   {
    "duration": 2133,
    "start_time": "2023-02-03T17:31:33.534Z"
   },
   {
    "duration": 10,
    "start_time": "2023-02-03T17:31:35.669Z"
   },
   {
    "duration": 33,
    "start_time": "2023-02-03T17:31:35.681Z"
   },
   {
    "duration": 15,
    "start_time": "2023-02-03T17:31:35.715Z"
   },
   {
    "duration": 10,
    "start_time": "2023-02-03T17:31:35.940Z"
   },
   {
    "duration": 6,
    "start_time": "2023-02-03T17:42:20.565Z"
   },
   {
    "duration": 8,
    "start_time": "2023-02-03T17:49:16.987Z"
   },
   {
    "duration": 6,
    "start_time": "2023-02-03T17:49:32.019Z"
   },
   {
    "duration": 7,
    "start_time": "2023-02-03T18:01:39.816Z"
   },
   {
    "duration": 9,
    "start_time": "2023-02-03T18:02:25.320Z"
   },
   {
    "duration": 15,
    "start_time": "2023-02-03T18:02:45.522Z"
   },
   {
    "duration": 19,
    "start_time": "2023-02-03T18:03:23.072Z"
   },
   {
    "duration": 22,
    "start_time": "2023-02-03T18:05:10.966Z"
   },
   {
    "duration": 17,
    "start_time": "2023-02-03T18:05:16.479Z"
   },
   {
    "duration": 17,
    "start_time": "2023-02-03T18:16:11.301Z"
   },
   {
    "duration": 32,
    "start_time": "2023-02-03T18:39:22.471Z"
   },
   {
    "duration": 47,
    "start_time": "2023-02-03T18:40:20.440Z"
   },
   {
    "duration": 64,
    "start_time": "2023-02-03T18:42:02.413Z"
   },
   {
    "duration": 133,
    "start_time": "2023-02-03T18:43:15.834Z"
   },
   {
    "duration": 68,
    "start_time": "2023-02-03T18:53:24.653Z"
   },
   {
    "duration": 56,
    "start_time": "2023-02-03T18:53:38.213Z"
   },
   {
    "duration": 42,
    "start_time": "2023-02-03T18:53:45.236Z"
   },
   {
    "duration": 33,
    "start_time": "2023-02-03T18:53:50.644Z"
   },
   {
    "duration": 19,
    "start_time": "2023-02-03T18:53:58.413Z"
   },
   {
    "duration": 1870,
    "start_time": "2023-02-03T18:54:06.839Z"
   },
   {
    "duration": 10,
    "start_time": "2023-02-03T18:54:08.712Z"
   },
   {
    "duration": 43,
    "start_time": "2023-02-03T18:54:08.724Z"
   },
   {
    "duration": 14,
    "start_time": "2023-02-03T18:54:08.769Z"
   },
   {
    "duration": 34,
    "start_time": "2023-02-03T18:54:10.564Z"
   },
   {
    "duration": 48,
    "start_time": "2023-02-03T18:54:19.700Z"
   },
   {
    "duration": 57,
    "start_time": "2023-02-03T18:54:24.396Z"
   },
   {
    "duration": 135,
    "start_time": "2023-02-03T18:54:34.613Z"
   },
   {
    "duration": 14,
    "start_time": "2023-02-03T18:55:50.941Z"
   },
   {
    "duration": 211,
    "start_time": "2023-02-03T18:56:28.037Z"
   },
   {
    "duration": 100,
    "start_time": "2023-02-03T19:05:17.099Z"
   },
   {
    "duration": 11,
    "start_time": "2023-02-03T19:05:23.539Z"
   },
   {
    "duration": 6,
    "start_time": "2023-02-03T19:06:12.755Z"
   },
   {
    "duration": 5,
    "start_time": "2023-02-03T19:06:15.923Z"
   },
   {
    "duration": 1919,
    "start_time": "2023-02-03T19:06:26.379Z"
   },
   {
    "duration": 9,
    "start_time": "2023-02-03T19:06:28.300Z"
   },
   {
    "duration": 25,
    "start_time": "2023-02-03T19:06:28.311Z"
   },
   {
    "duration": 38,
    "start_time": "2023-02-03T19:06:28.337Z"
   },
   {
    "duration": 68,
    "start_time": "2023-02-03T19:06:28.377Z"
   },
   {
    "duration": 6,
    "start_time": "2023-02-03T19:06:29.481Z"
   },
   {
    "duration": 16,
    "start_time": "2023-02-03T19:07:32.897Z"
   },
   {
    "duration": 14,
    "start_time": "2023-02-03T19:07:48.569Z"
   },
   {
    "duration": 341,
    "start_time": "2023-02-03T19:08:00.097Z"
   },
   {
    "duration": 2271,
    "start_time": "2023-02-03T19:08:12.146Z"
   },
   {
    "duration": 10,
    "start_time": "2023-02-03T19:08:14.420Z"
   },
   {
    "duration": 48,
    "start_time": "2023-02-03T19:08:14.432Z"
   },
   {
    "duration": 25,
    "start_time": "2023-02-03T19:08:14.482Z"
   },
   {
    "duration": 103,
    "start_time": "2023-02-03T19:08:14.511Z"
   },
   {
    "duration": 23,
    "start_time": "2023-02-03T19:08:14.617Z"
   },
   {
    "duration": 24,
    "start_time": "2023-02-03T19:08:14.644Z"
   },
   {
    "duration": 2329,
    "start_time": "2023-02-03T19:08:53.474Z"
   },
   {
    "duration": 11,
    "start_time": "2023-02-03T19:08:55.805Z"
   },
   {
    "duration": 27,
    "start_time": "2023-02-03T19:08:55.817Z"
   },
   {
    "duration": 35,
    "start_time": "2023-02-03T19:08:55.845Z"
   },
   {
    "duration": 77,
    "start_time": "2023-02-03T19:08:55.882Z"
   },
   {
    "duration": 14,
    "start_time": "2023-02-03T19:08:55.961Z"
   },
   {
    "duration": 11,
    "start_time": "2023-02-03T19:08:55.977Z"
   },
   {
    "duration": 14,
    "start_time": "2023-02-03T19:09:28.042Z"
   },
   {
    "duration": 2198,
    "start_time": "2023-02-03T19:09:45.525Z"
   },
   {
    "duration": 11,
    "start_time": "2023-02-03T19:09:47.729Z"
   },
   {
    "duration": 42,
    "start_time": "2023-02-03T19:09:47.742Z"
   },
   {
    "duration": 16,
    "start_time": "2023-02-03T19:09:47.786Z"
   },
   {
    "duration": 101,
    "start_time": "2023-02-03T19:09:47.804Z"
   },
   {
    "duration": 12,
    "start_time": "2023-02-03T19:09:47.907Z"
   },
   {
    "duration": 34,
    "start_time": "2023-02-03T19:09:47.921Z"
   },
   {
    "duration": 6,
    "start_time": "2023-02-03T19:10:17.944Z"
   },
   {
    "duration": 2389,
    "start_time": "2023-02-03T19:10:23.246Z"
   },
   {
    "duration": 12,
    "start_time": "2023-02-03T19:10:25.637Z"
   },
   {
    "duration": 50,
    "start_time": "2023-02-03T19:10:25.651Z"
   },
   {
    "duration": 14,
    "start_time": "2023-02-03T19:10:25.703Z"
   },
   {
    "duration": 73,
    "start_time": "2023-02-03T19:10:25.720Z"
   },
   {
    "duration": 7,
    "start_time": "2023-02-03T19:10:25.795Z"
   },
   {
    "duration": 15,
    "start_time": "2023-02-03T19:10:25.803Z"
   },
   {
    "duration": 10,
    "start_time": "2023-02-03T19:22:25.036Z"
   },
   {
    "duration": 81,
    "start_time": "2023-02-03T19:22:42.349Z"
   },
   {
    "duration": 15,
    "start_time": "2023-02-03T19:30:30.968Z"
   },
   {
    "duration": 15,
    "start_time": "2023-02-03T19:31:18.618Z"
   },
   {
    "duration": 19,
    "start_time": "2023-02-03T19:31:38.116Z"
   },
   {
    "duration": 319,
    "start_time": "2023-02-03T19:31:42.775Z"
   },
   {
    "duration": 2238,
    "start_time": "2023-02-03T19:32:05.263Z"
   },
   {
    "duration": 9,
    "start_time": "2023-02-03T19:32:07.504Z"
   },
   {
    "duration": 56,
    "start_time": "2023-02-03T19:32:07.515Z"
   },
   {
    "duration": 24,
    "start_time": "2023-02-03T19:32:07.572Z"
   },
   {
    "duration": 86,
    "start_time": "2023-02-03T19:32:07.598Z"
   },
   {
    "duration": 11,
    "start_time": "2023-02-03T19:32:07.687Z"
   },
   {
    "duration": 67,
    "start_time": "2023-02-03T19:33:36.087Z"
   },
   {
    "duration": 15,
    "start_time": "2023-02-03T19:34:01.070Z"
   },
   {
    "duration": 15,
    "start_time": "2023-02-03T19:35:01.798Z"
   },
   {
    "duration": 2149,
    "start_time": "2023-02-03T19:35:06.842Z"
   },
   {
    "duration": 10,
    "start_time": "2023-02-03T19:35:08.994Z"
   },
   {
    "duration": 56,
    "start_time": "2023-02-03T19:35:09.006Z"
   },
   {
    "duration": 21,
    "start_time": "2023-02-03T19:35:09.067Z"
   },
   {
    "duration": 136,
    "start_time": "2023-02-03T19:35:09.091Z"
   },
   {
    "duration": 13,
    "start_time": "2023-02-03T19:35:09.389Z"
   },
   {
    "duration": 12,
    "start_time": "2023-02-03T19:35:24.597Z"
   },
   {
    "duration": 8,
    "start_time": "2023-02-03T19:35:54.942Z"
   },
   {
    "duration": 2482,
    "start_time": "2023-02-03T19:36:08.016Z"
   },
   {
    "duration": 10,
    "start_time": "2023-02-03T19:36:10.500Z"
   },
   {
    "duration": 33,
    "start_time": "2023-02-03T19:36:10.512Z"
   },
   {
    "duration": 17,
    "start_time": "2023-02-03T19:36:10.568Z"
   },
   {
    "duration": 82,
    "start_time": "2023-02-03T19:36:10.588Z"
   },
   {
    "duration": 7,
    "start_time": "2023-02-03T19:36:10.672Z"
   },
   {
    "duration": 13,
    "start_time": "2023-02-03T19:36:51.732Z"
   },
   {
    "duration": 22,
    "start_time": "2023-02-03T19:39:55.068Z"
   },
   {
    "duration": 7,
    "start_time": "2023-02-03T19:45:39.691Z"
   },
   {
    "duration": 1983,
    "start_time": "2023-02-03T19:45:46.732Z"
   },
   {
    "duration": 11,
    "start_time": "2023-02-03T19:45:48.717Z"
   },
   {
    "duration": 56,
    "start_time": "2023-02-03T19:45:48.730Z"
   },
   {
    "duration": 17,
    "start_time": "2023-02-03T19:45:48.788Z"
   },
   {
    "duration": 109,
    "start_time": "2023-02-03T19:45:48.807Z"
   },
   {
    "duration": 8,
    "start_time": "2023-02-03T19:45:48.918Z"
   },
   {
    "duration": 1883,
    "start_time": "2023-02-03T20:06:21.485Z"
   },
   {
    "duration": 12,
    "start_time": "2023-02-03T20:06:23.370Z"
   },
   {
    "duration": 37,
    "start_time": "2023-02-03T20:06:23.384Z"
   },
   {
    "duration": 47,
    "start_time": "2023-02-03T20:06:23.423Z"
   },
   {
    "duration": 101,
    "start_time": "2023-02-03T20:06:23.477Z"
   },
   {
    "duration": 26,
    "start_time": "2023-02-03T20:06:24.794Z"
   },
   {
    "duration": 65,
    "start_time": "2023-02-03T20:07:59.242Z"
   },
   {
    "duration": 14,
    "start_time": "2023-02-03T20:08:47.129Z"
   },
   {
    "duration": 13,
    "start_time": "2023-02-03T20:13:05.337Z"
   },
   {
    "duration": 2541,
    "start_time": "2023-02-03T20:13:11.657Z"
   },
   {
    "duration": 15,
    "start_time": "2023-02-03T20:13:14.201Z"
   },
   {
    "duration": 55,
    "start_time": "2023-02-03T20:13:14.218Z"
   },
   {
    "duration": 16,
    "start_time": "2023-02-03T20:13:14.276Z"
   },
   {
    "duration": 79,
    "start_time": "2023-02-03T20:13:14.294Z"
   },
   {
    "duration": 12,
    "start_time": "2023-02-03T20:13:14.376Z"
   },
   {
    "duration": 1964,
    "start_time": "2023-02-03T20:13:38.745Z"
   },
   {
    "duration": 13,
    "start_time": "2023-02-03T20:13:40.712Z"
   },
   {
    "duration": 51,
    "start_time": "2023-02-03T20:13:40.727Z"
   },
   {
    "duration": 14,
    "start_time": "2023-02-03T20:13:40.780Z"
   },
   {
    "duration": 95,
    "start_time": "2023-02-03T20:13:40.796Z"
   },
   {
    "duration": 18,
    "start_time": "2023-02-03T20:13:48.895Z"
   },
   {
    "duration": 11,
    "start_time": "2023-02-03T20:13:48.975Z"
   },
   {
    "duration": 11,
    "start_time": "2023-02-03T20:16:28.535Z"
   },
   {
    "duration": 9,
    "start_time": "2023-02-03T20:17:16.382Z"
   },
   {
    "duration": 1971,
    "start_time": "2023-02-03T20:18:01.703Z"
   },
   {
    "duration": 9,
    "start_time": "2023-02-03T20:18:03.677Z"
   },
   {
    "duration": 39,
    "start_time": "2023-02-03T20:18:03.688Z"
   },
   {
    "duration": 16,
    "start_time": "2023-02-03T20:18:03.729Z"
   },
   {
    "duration": 70,
    "start_time": "2023-02-03T20:18:03.767Z"
   },
   {
    "duration": 16,
    "start_time": "2023-02-03T20:18:06.327Z"
   },
   {
    "duration": 21,
    "start_time": "2023-02-03T20:18:14.791Z"
   },
   {
    "duration": 4,
    "start_time": "2023-02-03T20:35:06.185Z"
   },
   {
    "duration": 1822,
    "start_time": "2023-02-03T20:48:51.302Z"
   },
   {
    "duration": 9,
    "start_time": "2023-02-03T20:48:53.126Z"
   },
   {
    "duration": 40,
    "start_time": "2023-02-03T20:48:53.136Z"
   },
   {
    "duration": 14,
    "start_time": "2023-02-03T20:48:53.178Z"
   },
   {
    "duration": 73,
    "start_time": "2023-02-03T20:48:53.194Z"
   },
   {
    "duration": 14,
    "start_time": "2023-02-03T20:48:53.268Z"
   },
   {
    "duration": 8,
    "start_time": "2023-02-03T20:48:53.284Z"
   },
   {
    "duration": 25,
    "start_time": "2023-02-03T20:48:57.053Z"
   },
   {
    "duration": 2981,
    "start_time": "2023-02-04T14:47:24.071Z"
   },
   {
    "duration": 14,
    "start_time": "2023-02-04T14:47:27.054Z"
   },
   {
    "duration": 39,
    "start_time": "2023-02-04T14:47:27.070Z"
   },
   {
    "duration": 19,
    "start_time": "2023-02-04T14:47:27.111Z"
   },
   {
    "duration": 85,
    "start_time": "2023-02-04T14:47:27.132Z"
   },
   {
    "duration": 16,
    "start_time": "2023-02-04T14:47:27.219Z"
   },
   {
    "duration": 25,
    "start_time": "2023-02-04T14:47:27.237Z"
   },
   {
    "duration": 7,
    "start_time": "2023-02-04T14:47:27.263Z"
   },
   {
    "duration": 74,
    "start_time": "2023-02-04T14:47:27.553Z"
   },
   {
    "duration": 9,
    "start_time": "2023-02-04T14:47:43.832Z"
   },
   {
    "duration": 44,
    "start_time": "2023-02-04T14:50:26.775Z"
   },
   {
    "duration": 12,
    "start_time": "2023-02-04T14:51:25.895Z"
   },
   {
    "duration": 15,
    "start_time": "2023-02-04T14:51:37.006Z"
   },
   {
    "duration": 20,
    "start_time": "2023-02-04T15:07:15.571Z"
   },
   {
    "duration": 34,
    "start_time": "2023-02-04T15:08:19.776Z"
   },
   {
    "duration": 10,
    "start_time": "2023-02-04T15:22:53.555Z"
   },
   {
    "duration": 11,
    "start_time": "2023-02-04T15:23:19.550Z"
   },
   {
    "duration": 36,
    "start_time": "2023-02-04T15:57:55.545Z"
   },
   {
    "duration": 9,
    "start_time": "2023-02-04T16:04:22.359Z"
   },
   {
    "duration": 8,
    "start_time": "2023-02-04T16:19:12.927Z"
   },
   {
    "duration": 10,
    "start_time": "2023-02-04T16:20:20.623Z"
   },
   {
    "duration": 9,
    "start_time": "2023-02-04T16:20:34.775Z"
   },
   {
    "duration": 8,
    "start_time": "2023-02-04T16:21:05.185Z"
   },
   {
    "duration": 8,
    "start_time": "2023-02-04T16:21:43.657Z"
   },
   {
    "duration": 8,
    "start_time": "2023-02-04T16:21:47.262Z"
   },
   {
    "duration": 9,
    "start_time": "2023-02-04T16:23:21.810Z"
   },
   {
    "duration": 8,
    "start_time": "2023-02-04T16:23:41.638Z"
   },
   {
    "duration": 8,
    "start_time": "2023-02-04T16:51:58.566Z"
   },
   {
    "duration": 7,
    "start_time": "2023-02-04T16:54:47.485Z"
   },
   {
    "duration": 7,
    "start_time": "2023-02-04T16:54:55.940Z"
   },
   {
    "duration": 7,
    "start_time": "2023-02-04T16:54:59.886Z"
   },
   {
    "duration": 6,
    "start_time": "2023-02-04T16:55:03.846Z"
   },
   {
    "duration": 2115,
    "start_time": "2023-02-04T16:55:11.664Z"
   },
   {
    "duration": 9,
    "start_time": "2023-02-04T16:55:13.781Z"
   },
   {
    "duration": 47,
    "start_time": "2023-02-04T16:55:13.791Z"
   },
   {
    "duration": 15,
    "start_time": "2023-02-04T16:55:13.840Z"
   },
   {
    "duration": 76,
    "start_time": "2023-02-04T16:55:13.857Z"
   },
   {
    "duration": 17,
    "start_time": "2023-02-04T16:55:13.934Z"
   },
   {
    "duration": 8,
    "start_time": "2023-02-04T16:55:13.953Z"
   },
   {
    "duration": 4,
    "start_time": "2023-02-04T16:55:13.962Z"
   },
   {
    "duration": 31,
    "start_time": "2023-02-04T16:55:13.968Z"
   },
   {
    "duration": 65,
    "start_time": "2023-02-04T16:55:14.001Z"
   },
   {
    "duration": 8,
    "start_time": "2023-02-04T16:55:14.067Z"
   },
   {
    "duration": 7,
    "start_time": "2023-02-04T16:55:14.077Z"
   },
   {
    "duration": 7,
    "start_time": "2023-02-04T16:55:14.879Z"
   },
   {
    "duration": 46,
    "start_time": "2023-02-04T16:56:21.413Z"
   },
   {
    "duration": 14,
    "start_time": "2023-02-04T16:57:16.879Z"
   },
   {
    "duration": 8,
    "start_time": "2023-02-04T16:57:45.961Z"
   },
   {
    "duration": 2147,
    "start_time": "2023-02-04T16:57:51.137Z"
   },
   {
    "duration": 10,
    "start_time": "2023-02-04T16:57:53.286Z"
   },
   {
    "duration": 43,
    "start_time": "2023-02-04T16:57:53.297Z"
   },
   {
    "duration": 14,
    "start_time": "2023-02-04T16:57:53.343Z"
   },
   {
    "duration": 73,
    "start_time": "2023-02-04T16:57:53.359Z"
   },
   {
    "duration": 15,
    "start_time": "2023-02-04T16:57:53.434Z"
   },
   {
    "duration": 8,
    "start_time": "2023-02-04T16:57:53.451Z"
   },
   {
    "duration": 3,
    "start_time": "2023-02-04T16:57:53.461Z"
   },
   {
    "duration": 32,
    "start_time": "2023-02-04T16:57:53.465Z"
   },
   {
    "duration": 36,
    "start_time": "2023-02-04T16:57:53.529Z"
   },
   {
    "duration": 8,
    "start_time": "2023-02-04T16:57:53.567Z"
   },
   {
    "duration": 14,
    "start_time": "2023-02-04T16:57:53.577Z"
   },
   {
    "duration": 12,
    "start_time": "2023-02-04T16:57:53.593Z"
   },
   {
    "duration": 2170,
    "start_time": "2023-02-04T16:59:55.222Z"
   },
   {
    "duration": 11,
    "start_time": "2023-02-04T16:59:57.395Z"
   },
   {
    "duration": 43,
    "start_time": "2023-02-04T16:59:57.407Z"
   },
   {
    "duration": 15,
    "start_time": "2023-02-04T16:59:57.451Z"
   },
   {
    "duration": 89,
    "start_time": "2023-02-04T16:59:57.468Z"
   },
   {
    "duration": 15,
    "start_time": "2023-02-04T16:59:57.560Z"
   },
   {
    "duration": 11,
    "start_time": "2023-02-04T16:59:57.577Z"
   },
   {
    "duration": 9,
    "start_time": "2023-02-04T16:59:57.590Z"
   },
   {
    "duration": 50,
    "start_time": "2023-02-04T16:59:57.601Z"
   },
   {
    "duration": 38,
    "start_time": "2023-02-04T16:59:57.653Z"
   },
   {
    "duration": 9,
    "start_time": "2023-02-04T16:59:57.693Z"
   },
   {
    "duration": 8,
    "start_time": "2023-02-04T16:59:57.726Z"
   },
   {
    "duration": 7,
    "start_time": "2023-02-04T16:59:57.736Z"
   },
   {
    "duration": 2124,
    "start_time": "2023-02-04T17:00:25.015Z"
   },
   {
    "duration": 9,
    "start_time": "2023-02-04T17:00:27.142Z"
   },
   {
    "duration": 32,
    "start_time": "2023-02-04T17:00:27.152Z"
   },
   {
    "duration": 14,
    "start_time": "2023-02-04T17:00:27.186Z"
   },
   {
    "duration": 69,
    "start_time": "2023-02-04T17:00:27.228Z"
   },
   {
    "duration": 32,
    "start_time": "2023-02-04T17:00:27.299Z"
   },
   {
    "duration": 9,
    "start_time": "2023-02-04T17:00:27.332Z"
   },
   {
    "duration": 3,
    "start_time": "2023-02-04T17:00:27.343Z"
   },
   {
    "duration": 188,
    "start_time": "2023-02-04T17:00:27.347Z"
   },
   {
    "duration": 42,
    "start_time": "2023-02-04T17:00:27.537Z"
   },
   {
    "duration": 8,
    "start_time": "2023-02-04T17:00:27.580Z"
   },
   {
    "duration": 8,
    "start_time": "2023-02-04T17:00:27.589Z"
   },
   {
    "duration": 8,
    "start_time": "2023-02-04T17:00:31.664Z"
   },
   {
    "duration": 11,
    "start_time": "2023-02-04T17:04:45.112Z"
   },
   {
    "duration": 2008,
    "start_time": "2023-02-04T17:07:40.682Z"
   },
   {
    "duration": 9,
    "start_time": "2023-02-04T17:07:42.692Z"
   },
   {
    "duration": 47,
    "start_time": "2023-02-04T17:07:42.702Z"
   },
   {
    "duration": 14,
    "start_time": "2023-02-04T17:07:42.752Z"
   },
   {
    "duration": 79,
    "start_time": "2023-02-04T17:07:42.768Z"
   },
   {
    "duration": 16,
    "start_time": "2023-02-04T17:07:42.848Z"
   },
   {
    "duration": 11,
    "start_time": "2023-02-04T17:07:42.866Z"
   },
   {
    "duration": 4,
    "start_time": "2023-02-04T17:07:42.879Z"
   },
   {
    "duration": 60,
    "start_time": "2023-02-04T17:07:42.884Z"
   },
   {
    "duration": 38,
    "start_time": "2023-02-04T17:07:42.947Z"
   },
   {
    "duration": 8,
    "start_time": "2023-02-04T17:07:42.987Z"
   },
   {
    "duration": 31,
    "start_time": "2023-02-04T17:07:42.996Z"
   },
   {
    "duration": 12,
    "start_time": "2023-02-04T17:07:43.029Z"
   },
   {
    "duration": 2299,
    "start_time": "2023-02-04T17:07:53.570Z"
   },
   {
    "duration": 9,
    "start_time": "2023-02-04T17:07:55.871Z"
   },
   {
    "duration": 31,
    "start_time": "2023-02-04T17:07:55.882Z"
   },
   {
    "duration": 15,
    "start_time": "2023-02-04T17:07:55.928Z"
   },
   {
    "duration": 87,
    "start_time": "2023-02-04T17:07:55.945Z"
   },
   {
    "duration": 17,
    "start_time": "2023-02-04T17:07:56.034Z"
   },
   {
    "duration": 10,
    "start_time": "2023-02-04T17:07:56.053Z"
   },
   {
    "duration": 11,
    "start_time": "2023-02-04T17:07:56.065Z"
   },
   {
    "duration": 35,
    "start_time": "2023-02-04T17:07:56.078Z"
   },
   {
    "duration": 58,
    "start_time": "2023-02-04T17:07:56.114Z"
   },
   {
    "duration": 8,
    "start_time": "2023-02-04T17:07:56.173Z"
   },
   {
    "duration": 7,
    "start_time": "2023-02-04T17:07:56.182Z"
   },
   {
    "duration": 16,
    "start_time": "2023-02-04T17:07:56.191Z"
   },
   {
    "duration": 111,
    "start_time": "2023-02-04T17:08:29.370Z"
   },
   {
    "duration": 108,
    "start_time": "2023-02-04T17:08:37.221Z"
   },
   {
    "duration": 98,
    "start_time": "2023-02-04T17:08:46.985Z"
   },
   {
    "duration": 2288,
    "start_time": "2023-02-04T17:08:49.683Z"
   },
   {
    "duration": 9,
    "start_time": "2023-02-04T17:08:51.974Z"
   },
   {
    "duration": 49,
    "start_time": "2023-02-04T17:08:51.985Z"
   },
   {
    "duration": 15,
    "start_time": "2023-02-04T17:08:52.036Z"
   },
   {
    "duration": 78,
    "start_time": "2023-02-04T17:08:52.053Z"
   },
   {
    "duration": 16,
    "start_time": "2023-02-04T17:08:52.133Z"
   },
   {
    "duration": 30,
    "start_time": "2023-02-04T17:08:52.151Z"
   },
   {
    "duration": 14,
    "start_time": "2023-02-04T17:08:52.182Z"
   },
   {
    "duration": 50,
    "start_time": "2023-02-04T17:08:52.198Z"
   },
   {
    "duration": 40,
    "start_time": "2023-02-04T17:08:52.251Z"
   },
   {
    "duration": 8,
    "start_time": "2023-02-04T17:08:52.293Z"
   },
   {
    "duration": 28,
    "start_time": "2023-02-04T17:08:52.302Z"
   },
   {
    "duration": 109,
    "start_time": "2023-02-04T17:08:52.332Z"
   },
   {
    "duration": 118,
    "start_time": "2023-02-04T17:08:59.488Z"
   },
   {
    "duration": 7,
    "start_time": "2023-02-04T17:09:18.236Z"
   },
   {
    "duration": 9,
    "start_time": "2023-02-04T17:09:55.369Z"
   },
   {
    "duration": 10,
    "start_time": "2023-02-04T17:10:20.976Z"
   },
   {
    "duration": 2226,
    "start_time": "2023-02-04T17:10:24.465Z"
   },
   {
    "duration": 9,
    "start_time": "2023-02-04T17:10:26.692Z"
   },
   {
    "duration": 39,
    "start_time": "2023-02-04T17:10:26.703Z"
   },
   {
    "duration": 14,
    "start_time": "2023-02-04T17:10:26.743Z"
   },
   {
    "duration": 94,
    "start_time": "2023-02-04T17:10:26.760Z"
   },
   {
    "duration": 14,
    "start_time": "2023-02-04T17:10:26.856Z"
   },
   {
    "duration": 19,
    "start_time": "2023-02-04T17:10:26.871Z"
   },
   {
    "duration": 4,
    "start_time": "2023-02-04T17:10:26.892Z"
   },
   {
    "duration": 45,
    "start_time": "2023-02-04T17:10:26.897Z"
   },
   {
    "duration": 40,
    "start_time": "2023-02-04T17:10:26.944Z"
   },
   {
    "duration": 7,
    "start_time": "2023-02-04T17:10:26.986Z"
   },
   {
    "duration": 7,
    "start_time": "2023-02-04T17:10:26.994Z"
   },
   {
    "duration": 31,
    "start_time": "2023-02-04T17:10:27.003Z"
   },
   {
    "duration": 9,
    "start_time": "2023-02-04T17:10:51.463Z"
   },
   {
    "duration": 9,
    "start_time": "2023-02-04T17:10:53.769Z"
   },
   {
    "duration": 1984,
    "start_time": "2023-02-04T17:10:56.440Z"
   },
   {
    "duration": 9,
    "start_time": "2023-02-04T17:10:58.427Z"
   },
   {
    "duration": 32,
    "start_time": "2023-02-04T17:10:58.437Z"
   },
   {
    "duration": 14,
    "start_time": "2023-02-04T17:10:58.471Z"
   },
   {
    "duration": 99,
    "start_time": "2023-02-04T17:10:58.487Z"
   },
   {
    "duration": 14,
    "start_time": "2023-02-04T17:10:58.588Z"
   },
   {
    "duration": 12,
    "start_time": "2023-02-04T17:10:58.603Z"
   },
   {
    "duration": 4,
    "start_time": "2023-02-04T17:10:58.627Z"
   },
   {
    "duration": 39,
    "start_time": "2023-02-04T17:10:58.633Z"
   },
   {
    "duration": 54,
    "start_time": "2023-02-04T17:10:58.674Z"
   },
   {
    "duration": 10,
    "start_time": "2023-02-04T17:10:58.730Z"
   },
   {
    "duration": 10,
    "start_time": "2023-02-04T17:10:58.742Z"
   },
   {
    "duration": 11,
    "start_time": "2023-02-04T17:10:58.754Z"
   },
   {
    "duration": 9,
    "start_time": "2023-02-04T17:10:59.124Z"
   },
   {
    "duration": 109,
    "start_time": "2023-02-04T17:11:10.370Z"
   },
   {
    "duration": 7,
    "start_time": "2023-02-04T17:22:44.620Z"
   },
   {
    "duration": 120,
    "start_time": "2023-02-04T17:25:43.353Z"
   },
   {
    "duration": 151,
    "start_time": "2023-02-04T17:26:11.329Z"
   },
   {
    "duration": 168,
    "start_time": "2023-02-04T17:26:26.162Z"
   },
   {
    "duration": 183,
    "start_time": "2023-02-04T17:27:57.962Z"
   },
   {
    "duration": 155,
    "start_time": "2023-02-04T17:28:14.681Z"
   },
   {
    "duration": 139,
    "start_time": "2023-02-04T17:31:02.652Z"
   },
   {
    "duration": 160,
    "start_time": "2023-02-04T17:32:59.990Z"
   },
   {
    "duration": 132,
    "start_time": "2023-02-04T17:33:12.263Z"
   },
   {
    "duration": 136,
    "start_time": "2023-02-04T17:40:02.031Z"
   },
   {
    "duration": 156,
    "start_time": "2023-02-04T17:40:16.939Z"
   },
   {
    "duration": 2317,
    "start_time": "2023-02-04T17:40:32.952Z"
   },
   {
    "duration": 9,
    "start_time": "2023-02-04T17:40:35.271Z"
   },
   {
    "duration": 45,
    "start_time": "2023-02-04T17:40:35.282Z"
   },
   {
    "duration": 14,
    "start_time": "2023-02-04T17:40:35.328Z"
   },
   {
    "duration": 77,
    "start_time": "2023-02-04T17:40:35.344Z"
   },
   {
    "duration": 16,
    "start_time": "2023-02-04T17:40:35.422Z"
   },
   {
    "duration": 22,
    "start_time": "2023-02-04T17:40:35.440Z"
   },
   {
    "duration": 4,
    "start_time": "2023-02-04T17:40:35.463Z"
   },
   {
    "duration": 39,
    "start_time": "2023-02-04T17:40:35.469Z"
   },
   {
    "duration": 40,
    "start_time": "2023-02-04T17:40:35.510Z"
   },
   {
    "duration": 8,
    "start_time": "2023-02-04T17:40:35.551Z"
   },
   {
    "duration": 18,
    "start_time": "2023-02-04T17:40:35.561Z"
   },
   {
    "duration": 40,
    "start_time": "2023-02-04T17:40:35.581Z"
   },
   {
    "duration": 172,
    "start_time": "2023-02-04T17:40:35.625Z"
   },
   {
    "duration": 154,
    "start_time": "2023-02-04T17:40:35.799Z"
   },
   {
    "duration": 157,
    "start_time": "2023-02-04T17:40:35.955Z"
   },
   {
    "duration": 155,
    "start_time": "2023-02-04T17:40:42.954Z"
   },
   {
    "duration": 714,
    "start_time": "2023-02-04T17:40:51.734Z"
   },
   {
    "duration": 726,
    "start_time": "2023-02-04T17:42:38.952Z"
   },
   {
    "duration": 738,
    "start_time": "2023-02-04T17:42:54.462Z"
   },
   {
    "duration": 1108,
    "start_time": "2023-02-04T17:43:02.260Z"
   },
   {
    "duration": 739,
    "start_time": "2023-02-04T17:43:18.231Z"
   },
   {
    "duration": 183,
    "start_time": "2023-02-04T17:43:31.327Z"
   },
   {
    "duration": 197,
    "start_time": "2023-02-04T17:43:48.810Z"
   },
   {
    "duration": 755,
    "start_time": "2023-02-04T17:43:56.426Z"
   },
   {
    "duration": 139,
    "start_time": "2023-02-04T17:45:01.551Z"
   },
   {
    "duration": 168,
    "start_time": "2023-02-04T17:45:08.046Z"
   },
   {
    "duration": 156,
    "start_time": "2023-02-04T17:45:17.130Z"
   },
   {
    "duration": 5,
    "start_time": "2023-02-04T17:46:11.257Z"
   },
   {
    "duration": 233,
    "start_time": "2023-02-04T17:46:46.334Z"
   },
   {
    "duration": 149,
    "start_time": "2023-02-04T17:46:52.064Z"
   },
   {
    "duration": 188,
    "start_time": "2023-02-04T17:47:08.761Z"
   },
   {
    "duration": 190,
    "start_time": "2023-02-04T17:47:15.830Z"
   },
   {
    "duration": 165,
    "start_time": "2023-02-04T17:47:47.547Z"
   },
   {
    "duration": 128,
    "start_time": "2023-02-04T17:48:33.800Z"
   },
   {
    "duration": 147,
    "start_time": "2023-02-04T17:48:41.334Z"
   },
   {
    "duration": 135,
    "start_time": "2023-02-04T17:48:52.177Z"
   },
   {
    "duration": 145,
    "start_time": "2023-02-04T17:48:58.073Z"
   },
   {
    "duration": 160,
    "start_time": "2023-02-04T17:49:09.688Z"
   },
   {
    "duration": 146,
    "start_time": "2023-02-04T17:49:54.422Z"
   },
   {
    "duration": 845,
    "start_time": "2023-02-04T17:50:02.830Z"
   },
   {
    "duration": 1381,
    "start_time": "2023-02-04T17:50:11.791Z"
   },
   {
    "duration": 207,
    "start_time": "2023-02-04T17:50:21.650Z"
   },
   {
    "duration": 151,
    "start_time": "2023-02-04T17:51:03.539Z"
   },
   {
    "duration": 156,
    "start_time": "2023-02-04T17:56:09.703Z"
   },
   {
    "duration": 138,
    "start_time": "2023-02-04T17:56:39.198Z"
   },
   {
    "duration": 161,
    "start_time": "2023-02-04T17:56:48.479Z"
   },
   {
    "duration": 134,
    "start_time": "2023-02-04T17:56:54.031Z"
   },
   {
    "duration": 149,
    "start_time": "2023-02-04T17:57:01.036Z"
   },
   {
    "duration": 140,
    "start_time": "2023-02-04T17:57:07.434Z"
   },
   {
    "duration": 225,
    "start_time": "2023-02-04T17:57:26.974Z"
   },
   {
    "duration": 224,
    "start_time": "2023-02-04T17:58:18.741Z"
   },
   {
    "duration": 207,
    "start_time": "2023-02-04T17:58:30.048Z"
   },
   {
    "duration": 207,
    "start_time": "2023-02-04T17:58:34.861Z"
   },
   {
    "duration": 251,
    "start_time": "2023-02-04T17:59:25.068Z"
   },
   {
    "duration": 184,
    "start_time": "2023-02-04T17:59:36.869Z"
   },
   {
    "duration": 179,
    "start_time": "2023-02-04T17:59:47.301Z"
   },
   {
    "duration": 176,
    "start_time": "2023-02-04T18:00:00.055Z"
   },
   {
    "duration": 2589,
    "start_time": "2023-02-04T18:00:12.557Z"
   },
   {
    "duration": 732,
    "start_time": "2023-02-04T18:00:32.256Z"
   },
   {
    "duration": 137,
    "start_time": "2023-02-04T18:00:41.613Z"
   },
   {
    "duration": 149,
    "start_time": "2023-02-04T18:00:47.657Z"
   },
   {
    "duration": 187,
    "start_time": "2023-02-04T18:00:54.156Z"
   },
   {
    "duration": 2854,
    "start_time": "2023-02-05T09:42:54.147Z"
   },
   {
    "duration": 14,
    "start_time": "2023-02-05T09:42:57.003Z"
   },
   {
    "duration": 46,
    "start_time": "2023-02-05T09:42:57.019Z"
   },
   {
    "duration": 19,
    "start_time": "2023-02-05T09:42:57.068Z"
   },
   {
    "duration": 82,
    "start_time": "2023-02-05T09:42:57.089Z"
   },
   {
    "duration": 16,
    "start_time": "2023-02-05T09:42:57.172Z"
   },
   {
    "duration": 33,
    "start_time": "2023-02-05T09:42:57.190Z"
   },
   {
    "duration": 5,
    "start_time": "2023-02-05T09:42:57.225Z"
   },
   {
    "duration": 10,
    "start_time": "2023-02-05T09:42:57.231Z"
   },
   {
    "duration": 31,
    "start_time": "2023-02-05T09:42:57.243Z"
   },
   {
    "duration": 54,
    "start_time": "2023-02-05T09:42:57.276Z"
   },
   {
    "duration": 7,
    "start_time": "2023-02-05T09:42:57.332Z"
   },
   {
    "duration": 41,
    "start_time": "2023-02-05T09:42:57.567Z"
   },
   {
    "duration": 40,
    "start_time": "2023-02-05T09:43:14.549Z"
   },
   {
    "duration": 83,
    "start_time": "2023-02-05T09:43:24.102Z"
   },
   {
    "duration": 312,
    "start_time": "2023-02-05T09:43:41.521Z"
   },
   {
    "duration": 124,
    "start_time": "2023-02-05T09:45:46.182Z"
   },
   {
    "duration": 121,
    "start_time": "2023-02-05T09:45:54.125Z"
   },
   {
    "duration": 2489,
    "start_time": "2023-02-05T09:51:37.341Z"
   },
   {
    "duration": 277,
    "start_time": "2023-02-05T09:51:51.581Z"
   },
   {
    "duration": 192,
    "start_time": "2023-02-05T09:51:57.942Z"
   },
   {
    "duration": 268,
    "start_time": "2023-02-05T09:52:05.197Z"
   },
   {
    "duration": 433,
    "start_time": "2023-02-05T09:52:47.534Z"
   },
   {
    "duration": 274,
    "start_time": "2023-02-05T09:52:54.103Z"
   },
   {
    "duration": 286,
    "start_time": "2023-02-05T09:53:00.652Z"
   },
   {
    "duration": 287,
    "start_time": "2023-02-05T09:53:04.736Z"
   },
   {
    "duration": 205,
    "start_time": "2023-02-05T09:53:21.645Z"
   },
   {
    "duration": 347,
    "start_time": "2023-02-05T09:53:30.477Z"
   },
   {
    "duration": 200,
    "start_time": "2023-02-05T09:53:37.332Z"
   },
   {
    "duration": 151,
    "start_time": "2023-02-05T09:53:46.221Z"
   },
   {
    "duration": 165,
    "start_time": "2023-02-05T09:53:54.108Z"
   },
   {
    "duration": 922,
    "start_time": "2023-02-05T09:54:13.205Z"
   },
   {
    "duration": 1036,
    "start_time": "2023-02-05T09:54:25.429Z"
   },
   {
    "duration": 785,
    "start_time": "2023-02-05T09:57:54.373Z"
   },
   {
    "duration": 251,
    "start_time": "2023-02-05T09:58:20.076Z"
   },
   {
    "duration": 144,
    "start_time": "2023-02-05T09:58:32.508Z"
   },
   {
    "duration": 2951,
    "start_time": "2023-02-05T14:10:46.333Z"
   },
   {
    "duration": 10,
    "start_time": "2023-02-05T14:10:49.286Z"
   },
   {
    "duration": 34,
    "start_time": "2023-02-05T14:10:49.297Z"
   },
   {
    "duration": 22,
    "start_time": "2023-02-05T14:10:49.334Z"
   },
   {
    "duration": 73,
    "start_time": "2023-02-05T14:10:49.358Z"
   },
   {
    "duration": 18,
    "start_time": "2023-02-05T14:10:49.433Z"
   },
   {
    "duration": 11,
    "start_time": "2023-02-05T14:10:49.452Z"
   },
   {
    "duration": 4,
    "start_time": "2023-02-05T14:10:49.465Z"
   },
   {
    "duration": 7,
    "start_time": "2023-02-05T14:10:49.471Z"
   },
   {
    "duration": 65,
    "start_time": "2023-02-05T14:10:49.480Z"
   },
   {
    "duration": 38,
    "start_time": "2023-02-05T14:10:49.547Z"
   },
   {
    "duration": 7,
    "start_time": "2023-02-05T14:10:49.587Z"
   },
   {
    "duration": 314,
    "start_time": "2023-02-05T14:10:49.596Z"
   },
   {
    "duration": 7,
    "start_time": "2023-02-05T14:10:49.911Z"
   },
   {
    "duration": 39,
    "start_time": "2023-02-05T14:10:49.927Z"
   },
   {
    "duration": 182,
    "start_time": "2023-02-05T14:10:59.479Z"
   },
   {
    "duration": 151,
    "start_time": "2023-02-05T14:11:21.137Z"
   },
   {
    "duration": 249,
    "start_time": "2023-02-05T14:11:43.167Z"
   },
   {
    "duration": 157,
    "start_time": "2023-02-05T14:12:08.982Z"
   },
   {
    "duration": 162,
    "start_time": "2023-02-05T14:17:27.069Z"
   },
   {
    "duration": 158,
    "start_time": "2023-02-05T14:17:32.909Z"
   },
   {
    "duration": 160,
    "start_time": "2023-02-05T14:17:47.828Z"
   },
   {
    "duration": 141,
    "start_time": "2023-02-05T14:17:53.965Z"
   },
   {
    "duration": 161,
    "start_time": "2023-02-05T14:18:00.100Z"
   },
   {
    "duration": 149,
    "start_time": "2023-02-05T14:18:09.053Z"
   },
   {
    "duration": 281,
    "start_time": "2023-02-05T14:18:30.461Z"
   },
   {
    "duration": 6,
    "start_time": "2023-02-05T14:50:05.652Z"
   },
   {
    "duration": 7,
    "start_time": "2023-02-05T14:50:19.055Z"
   },
   {
    "duration": 4,
    "start_time": "2023-02-05T14:51:47.234Z"
   },
   {
    "duration": 5,
    "start_time": "2023-02-05T14:51:53.105Z"
   },
   {
    "duration": 4,
    "start_time": "2023-02-05T14:52:05.026Z"
   },
   {
    "duration": 5,
    "start_time": "2023-02-05T14:53:59.241Z"
   },
   {
    "duration": 6,
    "start_time": "2023-02-05T14:54:05.665Z"
   },
   {
    "duration": 8,
    "start_time": "2023-02-05T14:56:35.460Z"
   },
   {
    "duration": 6,
    "start_time": "2023-02-05T14:56:47.337Z"
   },
   {
    "duration": 47,
    "start_time": "2023-02-05T15:34:08.905Z"
   },
   {
    "duration": 855,
    "start_time": "2023-02-05T15:34:25.733Z"
   },
   {
    "duration": 16,
    "start_time": "2023-02-05T15:35:23.270Z"
   },
   {
    "duration": 24,
    "start_time": "2023-02-05T15:36:04.372Z"
   },
   {
    "duration": 246,
    "start_time": "2023-02-05T15:36:50.861Z"
   },
   {
    "duration": 506,
    "start_time": "2023-02-05T15:37:20.564Z"
   },
   {
    "duration": 53,
    "start_time": "2023-02-05T15:37:55.173Z"
   },
   {
    "duration": 2845,
    "start_time": "2023-02-05T15:39:45.730Z"
   },
   {
    "duration": 9,
    "start_time": "2023-02-05T15:39:48.577Z"
   },
   {
    "duration": 29,
    "start_time": "2023-02-05T15:39:48.588Z"
   },
   {
    "duration": 16,
    "start_time": "2023-02-05T15:39:48.619Z"
   },
   {
    "duration": 102,
    "start_time": "2023-02-05T15:39:48.637Z"
   },
   {
    "duration": 17,
    "start_time": "2023-02-05T15:39:48.741Z"
   },
   {
    "duration": 10,
    "start_time": "2023-02-05T15:39:48.760Z"
   },
   {
    "duration": 6,
    "start_time": "2023-02-05T15:39:48.772Z"
   },
   {
    "duration": 10,
    "start_time": "2023-02-05T15:39:48.780Z"
   },
   {
    "duration": 55,
    "start_time": "2023-02-05T15:39:48.792Z"
   },
   {
    "duration": 36,
    "start_time": "2023-02-05T15:39:48.849Z"
   },
   {
    "duration": 7,
    "start_time": "2023-02-05T15:39:48.887Z"
   },
   {
    "duration": 313,
    "start_time": "2023-02-05T15:39:48.896Z"
   },
   {
    "duration": 18,
    "start_time": "2023-02-05T15:39:49.211Z"
   },
   {
    "duration": 194,
    "start_time": "2023-02-05T15:39:49.231Z"
   },
   {
    "duration": 195,
    "start_time": "2023-02-05T15:39:49.427Z"
   },
   {
    "duration": 158,
    "start_time": "2023-02-05T15:39:49.627Z"
   },
   {
    "duration": 1218,
    "start_time": "2023-02-05T15:39:49.787Z"
   },
   {
    "duration": 206,
    "start_time": "2023-02-05T15:39:51.008Z"
   },
   {
    "duration": 200,
    "start_time": "2023-02-05T15:39:51.215Z"
   },
   {
    "duration": 316,
    "start_time": "2023-02-05T15:39:51.417Z"
   },
   {
    "duration": 151,
    "start_time": "2023-02-05T15:39:51.734Z"
   },
   {
    "duration": 177,
    "start_time": "2023-02-05T15:39:51.887Z"
   },
   {
    "duration": 221,
    "start_time": "2023-02-05T15:39:52.066Z"
   },
   {
    "duration": 239,
    "start_time": "2023-02-05T15:39:52.289Z"
   },
   {
    "duration": 234,
    "start_time": "2023-02-05T15:39:52.530Z"
   },
   {
    "duration": 297,
    "start_time": "2023-02-05T15:39:52.766Z"
   },
   {
    "duration": 165,
    "start_time": "2023-02-05T15:39:53.066Z"
   },
   {
    "duration": 403,
    "start_time": "2023-02-05T15:39:53.233Z"
   },
   {
    "duration": 4,
    "start_time": "2023-02-05T15:39:53.639Z"
   },
   {
    "duration": 9,
    "start_time": "2023-02-05T15:39:53.645Z"
   },
   {
    "duration": 22,
    "start_time": "2023-02-05T15:39:53.656Z"
   },
   {
    "duration": 457,
    "start_time": "2023-02-05T15:39:53.679Z"
   },
   {
    "duration": 264,
    "start_time": "2023-02-05T15:40:04.437Z"
   },
   {
    "duration": 215,
    "start_time": "2023-02-05T15:40:14.564Z"
   },
   {
    "duration": 225,
    "start_time": "2023-02-05T15:40:18.955Z"
   },
   {
    "duration": 246,
    "start_time": "2023-02-05T15:46:56.099Z"
   },
   {
    "duration": 289,
    "start_time": "2023-02-05T15:51:17.257Z"
   },
   {
    "duration": 19,
    "start_time": "2023-02-05T16:06:17.884Z"
   },
   {
    "duration": 12,
    "start_time": "2023-02-05T16:06:59.178Z"
   },
   {
    "duration": 13,
    "start_time": "2023-02-05T16:07:13.163Z"
   },
   {
    "duration": 179,
    "start_time": "2023-02-05T16:10:56.042Z"
   },
   {
    "duration": 178,
    "start_time": "2023-02-05T16:11:52.168Z"
   },
   {
    "duration": 7,
    "start_time": "2023-02-05T16:15:55.351Z"
   },
   {
    "duration": 2188,
    "start_time": "2023-02-05T16:16:50.144Z"
   },
   {
    "duration": 8,
    "start_time": "2023-02-05T16:16:52.334Z"
   },
   {
    "duration": 26,
    "start_time": "2023-02-05T16:16:52.343Z"
   },
   {
    "duration": 12,
    "start_time": "2023-02-05T16:16:52.371Z"
   },
   {
    "duration": 84,
    "start_time": "2023-02-05T16:16:52.385Z"
   },
   {
    "duration": 15,
    "start_time": "2023-02-05T16:16:52.471Z"
   },
   {
    "duration": 10,
    "start_time": "2023-02-05T16:16:52.488Z"
   },
   {
    "duration": 6,
    "start_time": "2023-02-05T16:17:44.445Z"
   },
   {
    "duration": 9,
    "start_time": "2023-02-05T16:18:26.241Z"
   },
   {
    "duration": 12,
    "start_time": "2023-02-05T16:18:51.293Z"
   },
   {
    "duration": 52,
    "start_time": "2023-02-05T16:20:05.173Z"
   },
   {
    "duration": 2139,
    "start_time": "2023-02-05T16:24:09.719Z"
   },
   {
    "duration": 9,
    "start_time": "2023-02-05T16:24:11.860Z"
   },
   {
    "duration": 31,
    "start_time": "2023-02-05T16:24:11.871Z"
   },
   {
    "duration": 28,
    "start_time": "2023-02-05T16:24:11.903Z"
   },
   {
    "duration": 65,
    "start_time": "2023-02-05T16:24:11.934Z"
   },
   {
    "duration": 37,
    "start_time": "2023-02-05T16:24:12.000Z"
   },
   {
    "duration": 24,
    "start_time": "2023-02-05T16:24:12.039Z"
   },
   {
    "duration": 41,
    "start_time": "2023-02-05T16:24:20.809Z"
   },
   {
    "duration": 8,
    "start_time": "2023-02-05T16:24:43.772Z"
   },
   {
    "duration": 2177,
    "start_time": "2023-02-05T16:24:47.453Z"
   },
   {
    "duration": 10,
    "start_time": "2023-02-05T16:24:49.634Z"
   },
   {
    "duration": 27,
    "start_time": "2023-02-05T16:24:49.646Z"
   },
   {
    "duration": 14,
    "start_time": "2023-02-05T16:24:49.675Z"
   },
   {
    "duration": 93,
    "start_time": "2023-02-05T16:24:49.691Z"
   },
   {
    "duration": 15,
    "start_time": "2023-02-05T16:24:49.786Z"
   },
   {
    "duration": 25,
    "start_time": "2023-02-05T16:24:49.803Z"
   },
   {
    "duration": 6,
    "start_time": "2023-02-05T16:24:58.274Z"
   },
   {
    "duration": 8,
    "start_time": "2023-02-05T16:26:19.839Z"
   },
   {
    "duration": 2268,
    "start_time": "2023-02-05T16:33:36.506Z"
   },
   {
    "duration": 11,
    "start_time": "2023-02-05T16:33:38.777Z"
   },
   {
    "duration": 47,
    "start_time": "2023-02-05T16:33:38.790Z"
   },
   {
    "duration": 15,
    "start_time": "2023-02-05T16:33:38.839Z"
   },
   {
    "duration": 81,
    "start_time": "2023-02-05T16:33:38.856Z"
   },
   {
    "duration": 16,
    "start_time": "2023-02-05T16:33:38.939Z"
   },
   {
    "duration": 10,
    "start_time": "2023-02-05T16:33:38.957Z"
   },
   {
    "duration": 703,
    "start_time": "2023-02-05T16:33:51.724Z"
   },
   {
    "duration": 2015,
    "start_time": "2023-02-05T16:34:47.337Z"
   },
   {
    "duration": 9,
    "start_time": "2023-02-05T16:34:49.355Z"
   },
   {
    "duration": 28,
    "start_time": "2023-02-05T16:34:49.365Z"
   },
   {
    "duration": 35,
    "start_time": "2023-02-05T16:34:49.395Z"
   },
   {
    "duration": 66,
    "start_time": "2023-02-05T16:34:49.432Z"
   },
   {
    "duration": 29,
    "start_time": "2023-02-05T16:34:49.499Z"
   },
   {
    "duration": 8,
    "start_time": "2023-02-05T16:34:49.529Z"
   },
   {
    "duration": 9,
    "start_time": "2023-02-05T16:34:54.534Z"
   },
   {
    "duration": 9,
    "start_time": "2023-02-05T16:35:02.126Z"
   },
   {
    "duration": 186,
    "start_time": "2023-02-05T16:35:42.709Z"
   },
   {
    "duration": 188,
    "start_time": "2023-02-05T16:35:48.422Z"
   },
   {
    "duration": 11,
    "start_time": "2023-02-05T16:39:30.326Z"
   },
   {
    "duration": 9,
    "start_time": "2023-02-05T16:40:28.406Z"
   },
   {
    "duration": 6,
    "start_time": "2023-02-05T16:40:49.012Z"
   },
   {
    "duration": 9,
    "start_time": "2023-02-05T16:43:20.156Z"
   },
   {
    "duration": 2291,
    "start_time": "2023-02-05T16:43:23.694Z"
   },
   {
    "duration": 9,
    "start_time": "2023-02-05T16:43:25.987Z"
   },
   {
    "duration": 45,
    "start_time": "2023-02-05T16:43:25.998Z"
   },
   {
    "duration": 15,
    "start_time": "2023-02-05T16:43:26.045Z"
   },
   {
    "duration": 78,
    "start_time": "2023-02-05T16:43:26.061Z"
   },
   {
    "duration": 16,
    "start_time": "2023-02-05T16:43:26.141Z"
   },
   {
    "duration": 16,
    "start_time": "2023-02-05T16:43:26.158Z"
   },
   {
    "duration": 12,
    "start_time": "2023-02-05T16:43:30.091Z"
   },
   {
    "duration": 9,
    "start_time": "2023-02-05T16:44:02.259Z"
   },
   {
    "duration": 188,
    "start_time": "2023-02-05T16:45:43.747Z"
   },
   {
    "duration": 2133,
    "start_time": "2023-02-05T16:45:53.529Z"
   },
   {
    "duration": 10,
    "start_time": "2023-02-05T16:45:55.664Z"
   },
   {
    "duration": 36,
    "start_time": "2023-02-05T16:45:55.675Z"
   },
   {
    "duration": 23,
    "start_time": "2023-02-05T16:45:55.712Z"
   },
   {
    "duration": 69,
    "start_time": "2023-02-05T16:45:55.737Z"
   },
   {
    "duration": 33,
    "start_time": "2023-02-05T16:45:55.808Z"
   },
   {
    "duration": 26,
    "start_time": "2023-02-05T16:45:55.843Z"
   },
   {
    "duration": 9,
    "start_time": "2023-02-05T16:45:55.871Z"
   },
   {
    "duration": 9,
    "start_time": "2023-02-05T16:45:55.881Z"
   },
   {
    "duration": 5,
    "start_time": "2023-02-05T16:45:55.891Z"
   },
   {
    "duration": 53,
    "start_time": "2023-02-05T16:45:55.897Z"
   },
   {
    "duration": 39,
    "start_time": "2023-02-05T16:45:55.952Z"
   },
   {
    "duration": 9,
    "start_time": "2023-02-05T16:45:55.992Z"
   },
   {
    "duration": 304,
    "start_time": "2023-02-05T16:45:56.026Z"
   },
   {
    "duration": 9,
    "start_time": "2023-02-05T16:45:56.332Z"
   },
   {
    "duration": 205,
    "start_time": "2023-02-05T16:45:56.343Z"
   },
   {
    "duration": 191,
    "start_time": "2023-02-05T16:45:56.550Z"
   },
   {
    "duration": 177,
    "start_time": "2023-02-05T16:45:56.745Z"
   },
   {
    "duration": 1390,
    "start_time": "2023-02-05T16:45:56.927Z"
   },
   {
    "duration": 206,
    "start_time": "2023-02-05T16:45:58.318Z"
   },
   {
    "duration": 197,
    "start_time": "2023-02-05T16:45:58.527Z"
   },
   {
    "duration": 181,
    "start_time": "2023-02-05T16:46:11.339Z"
   },
   {
    "duration": 2192,
    "start_time": "2023-02-05T16:49:17.772Z"
   },
   {
    "duration": 9,
    "start_time": "2023-02-05T16:49:19.966Z"
   },
   {
    "duration": 34,
    "start_time": "2023-02-05T16:49:19.976Z"
   },
   {
    "duration": 36,
    "start_time": "2023-02-05T16:49:20.011Z"
   },
   {
    "duration": 78,
    "start_time": "2023-02-05T16:49:20.049Z"
   },
   {
    "duration": 19,
    "start_time": "2023-02-05T16:49:20.129Z"
   },
   {
    "duration": 10,
    "start_time": "2023-02-05T16:49:20.150Z"
   },
   {
    "duration": 9,
    "start_time": "2023-02-05T16:49:20.161Z"
   },
   {
    "duration": 9,
    "start_time": "2023-02-05T16:49:20.172Z"
   },
   {
    "duration": 3,
    "start_time": "2023-02-05T16:49:20.183Z"
   },
   {
    "duration": 38,
    "start_time": "2023-02-05T16:49:20.228Z"
   },
   {
    "duration": 60,
    "start_time": "2023-02-05T16:49:20.268Z"
   },
   {
    "duration": 14,
    "start_time": "2023-02-05T16:49:20.331Z"
   },
   {
    "duration": 402,
    "start_time": "2023-02-05T16:49:20.351Z"
   },
   {
    "duration": 8,
    "start_time": "2023-02-05T16:49:20.755Z"
   },
   {
    "duration": 194,
    "start_time": "2023-02-05T16:49:20.765Z"
   },
   {
    "duration": 193,
    "start_time": "2023-02-05T16:49:20.961Z"
   },
   {
    "duration": 166,
    "start_time": "2023-02-05T16:49:21.156Z"
   },
   {
    "duration": 1468,
    "start_time": "2023-02-05T16:49:21.323Z"
   },
   {
    "duration": 219,
    "start_time": "2023-02-05T16:49:22.793Z"
   },
   {
    "duration": 188,
    "start_time": "2023-02-05T16:49:23.013Z"
   },
   {
    "duration": 209,
    "start_time": "2023-02-05T16:49:23.203Z"
   },
   {
    "duration": 157,
    "start_time": "2023-02-05T16:49:23.414Z"
   },
   {
    "duration": 195,
    "start_time": "2023-02-05T16:49:23.573Z"
   },
   {
    "duration": 232,
    "start_time": "2023-02-05T16:49:23.770Z"
   },
   {
    "duration": 293,
    "start_time": "2023-02-05T16:49:24.004Z"
   },
   {
    "duration": 255,
    "start_time": "2023-02-05T16:49:24.300Z"
   },
   {
    "duration": 317,
    "start_time": "2023-02-05T16:49:24.556Z"
   },
   {
    "duration": 176,
    "start_time": "2023-02-05T16:49:24.875Z"
   },
   {
    "duration": 314,
    "start_time": "2023-02-05T16:49:25.054Z"
   },
   {
    "duration": 4,
    "start_time": "2023-02-05T16:49:25.370Z"
   },
   {
    "duration": 9,
    "start_time": "2023-02-05T16:49:25.376Z"
   },
   {
    "duration": 30,
    "start_time": "2023-02-05T16:49:25.387Z"
   },
   {
    "duration": 339,
    "start_time": "2023-02-05T16:49:25.418Z"
   },
   {
    "duration": 21,
    "start_time": "2023-02-05T16:49:25.761Z"
   },
   {
    "duration": 50,
    "start_time": "2023-02-05T16:53:18.305Z"
   },
   {
    "duration": 671,
    "start_time": "2023-02-05T16:53:33.040Z"
   },
   {
    "duration": 2020,
    "start_time": "2023-02-05T16:53:50.915Z"
   },
   {
    "duration": 9,
    "start_time": "2023-02-05T16:53:52.936Z"
   },
   {
    "duration": 27,
    "start_time": "2023-02-05T16:53:52.947Z"
   },
   {
    "duration": 15,
    "start_time": "2023-02-05T16:53:52.975Z"
   },
   {
    "duration": 86,
    "start_time": "2023-02-05T16:53:52.992Z"
   },
   {
    "duration": 14,
    "start_time": "2023-02-05T16:53:53.080Z"
   },
   {
    "duration": 9,
    "start_time": "2023-02-05T16:53:53.095Z"
   },
   {
    "duration": 25,
    "start_time": "2023-02-05T16:53:53.105Z"
   },
   {
    "duration": 8,
    "start_time": "2023-02-05T16:53:53.131Z"
   },
   {
    "duration": 3,
    "start_time": "2023-02-05T16:53:53.140Z"
   },
   {
    "duration": 33,
    "start_time": "2023-02-05T16:53:53.145Z"
   },
   {
    "duration": 62,
    "start_time": "2023-02-05T16:53:53.180Z"
   },
   {
    "duration": 7,
    "start_time": "2023-02-05T16:53:53.244Z"
   },
   {
    "duration": 293,
    "start_time": "2023-02-05T16:53:53.253Z"
   },
   {
    "duration": 7,
    "start_time": "2023-02-05T16:53:53.547Z"
   },
   {
    "duration": 179,
    "start_time": "2023-02-05T16:53:53.555Z"
   },
   {
    "duration": 167,
    "start_time": "2023-02-05T16:53:53.736Z"
   },
   {
    "duration": 146,
    "start_time": "2023-02-05T16:53:53.904Z"
   },
   {
    "duration": 1489,
    "start_time": "2023-02-05T16:53:54.051Z"
   },
   {
    "duration": 204,
    "start_time": "2023-02-05T16:53:55.542Z"
   },
   {
    "duration": 186,
    "start_time": "2023-02-05T16:53:55.748Z"
   },
   {
    "duration": 201,
    "start_time": "2023-02-05T16:53:55.936Z"
   },
   {
    "duration": 150,
    "start_time": "2023-02-05T16:53:56.138Z"
   },
   {
    "duration": 200,
    "start_time": "2023-02-05T16:53:56.290Z"
   },
   {
    "duration": 224,
    "start_time": "2023-02-05T16:53:56.491Z"
   },
   {
    "duration": 236,
    "start_time": "2023-02-05T16:53:56.717Z"
   },
   {
    "duration": 231,
    "start_time": "2023-02-05T16:53:56.955Z"
   },
   {
    "duration": 279,
    "start_time": "2023-02-05T16:53:57.188Z"
   },
   {
    "duration": 174,
    "start_time": "2023-02-05T16:53:57.468Z"
   },
   {
    "duration": 268,
    "start_time": "2023-02-05T16:53:57.644Z"
   },
   {
    "duration": 12,
    "start_time": "2023-02-05T16:53:57.914Z"
   },
   {
    "duration": 5,
    "start_time": "2023-02-05T16:53:57.928Z"
   },
   {
    "duration": 7,
    "start_time": "2023-02-05T16:53:57.934Z"
   },
   {
    "duration": 267,
    "start_time": "2023-02-05T16:53:57.942Z"
   },
   {
    "duration": 708,
    "start_time": "2023-02-05T16:54:16.801Z"
   },
   {
    "duration": 18,
    "start_time": "2023-02-05T16:54:55.090Z"
   },
   {
    "duration": 143,
    "start_time": "2023-02-05T17:05:59.815Z"
   },
   {
    "duration": 197,
    "start_time": "2023-02-05T17:10:50.387Z"
   },
   {
    "duration": 153,
    "start_time": "2023-02-05T17:11:00.770Z"
   },
   {
    "duration": 164,
    "start_time": "2023-02-05T17:11:58.527Z"
   },
   {
    "duration": 191,
    "start_time": "2023-02-05T17:16:49.032Z"
   },
   {
    "duration": 12,
    "start_time": "2023-02-05T17:18:10.312Z"
   },
   {
    "duration": 8,
    "start_time": "2023-02-05T17:18:41.415Z"
   },
   {
    "duration": 147,
    "start_time": "2023-02-05T17:19:18.829Z"
   },
   {
    "duration": 185,
    "start_time": "2023-02-05T17:19:27.607Z"
   },
   {
    "duration": 155,
    "start_time": "2023-02-05T17:19:33.687Z"
   },
   {
    "duration": 163,
    "start_time": "2023-02-05T17:19:49.359Z"
   },
   {
    "duration": 165,
    "start_time": "2023-02-05T17:22:21.526Z"
   },
   {
    "duration": 226,
    "start_time": "2023-02-05T17:22:43.047Z"
   },
   {
    "duration": 1092,
    "start_time": "2023-02-05T17:25:39.134Z"
   },
   {
    "duration": 1558,
    "start_time": "2023-02-05T17:25:47.429Z"
   },
   {
    "duration": 2082,
    "start_time": "2023-02-05T17:26:21.535Z"
   },
   {
    "duration": 13,
    "start_time": "2023-02-05T17:26:23.619Z"
   },
   {
    "duration": 31,
    "start_time": "2023-02-05T17:26:23.634Z"
   },
   {
    "duration": 14,
    "start_time": "2023-02-05T17:26:23.666Z"
   },
   {
    "duration": 82,
    "start_time": "2023-02-05T17:26:23.682Z"
   },
   {
    "duration": 15,
    "start_time": "2023-02-05T17:26:23.766Z"
   },
   {
    "duration": 10,
    "start_time": "2023-02-05T17:26:23.783Z"
   },
   {
    "duration": 9,
    "start_time": "2023-02-05T17:26:23.794Z"
   },
   {
    "duration": 11,
    "start_time": "2023-02-05T17:26:23.827Z"
   },
   {
    "duration": 8,
    "start_time": "2023-02-05T17:26:23.840Z"
   },
   {
    "duration": 6,
    "start_time": "2023-02-05T17:26:23.850Z"
   },
   {
    "duration": 32,
    "start_time": "2023-02-05T17:26:23.858Z"
   },
   {
    "duration": 63,
    "start_time": "2023-02-05T17:26:23.892Z"
   },
   {
    "duration": 8,
    "start_time": "2023-02-05T17:26:23.958Z"
   },
   {
    "duration": 317,
    "start_time": "2023-02-05T17:26:23.967Z"
   },
   {
    "duration": 7,
    "start_time": "2023-02-05T17:26:24.285Z"
   },
   {
    "duration": 166,
    "start_time": "2023-02-05T17:26:24.294Z"
   },
   {
    "duration": 175,
    "start_time": "2023-02-05T17:26:24.462Z"
   },
   {
    "duration": 189,
    "start_time": "2023-02-05T17:26:24.640Z"
   },
   {
    "duration": 161,
    "start_time": "2023-02-05T17:26:24.830Z"
   },
   {
    "duration": 1022,
    "start_time": "2023-02-05T17:26:24.992Z"
   },
   {
    "duration": 1087,
    "start_time": "2023-02-05T17:26:26.016Z"
   },
   {
    "duration": 222,
    "start_time": "2023-02-05T17:26:27.105Z"
   },
   {
    "duration": 196,
    "start_time": "2023-02-05T17:26:27.328Z"
   },
   {
    "duration": 228,
    "start_time": "2023-02-05T17:26:27.527Z"
   },
   {
    "duration": 154,
    "start_time": "2023-02-05T17:26:27.757Z"
   },
   {
    "duration": 185,
    "start_time": "2023-02-05T17:26:27.912Z"
   },
   {
    "duration": 211,
    "start_time": "2023-02-05T17:26:28.099Z"
   },
   {
    "duration": 240,
    "start_time": "2023-02-05T17:26:28.311Z"
   },
   {
    "duration": 238,
    "start_time": "2023-02-05T17:26:28.553Z"
   },
   {
    "duration": 935,
    "start_time": "2023-02-05T17:26:28.793Z"
   },
   {
    "duration": 168,
    "start_time": "2023-02-05T17:26:29.730Z"
   },
   {
    "duration": 289,
    "start_time": "2023-02-05T17:26:29.899Z"
   },
   {
    "duration": 5,
    "start_time": "2023-02-05T17:26:30.189Z"
   },
   {
    "duration": 28,
    "start_time": "2023-02-05T17:26:30.196Z"
   },
   {
    "duration": 67,
    "start_time": "2023-02-05T17:26:30.225Z"
   },
   {
    "duration": 313,
    "start_time": "2023-02-05T17:26:30.294Z"
   },
   {
    "duration": 280,
    "start_time": "2023-02-05T17:28:01.477Z"
   },
   {
    "duration": 239,
    "start_time": "2023-02-05T17:28:53.725Z"
   },
   {
    "duration": 224,
    "start_time": "2023-02-05T17:29:39.356Z"
   },
   {
    "duration": 250,
    "start_time": "2023-02-05T17:29:57.156Z"
   },
   {
    "duration": 142,
    "start_time": "2023-02-05T17:31:07.747Z"
   },
   {
    "duration": 230,
    "start_time": "2023-02-05T17:31:26.827Z"
   },
   {
    "duration": 6,
    "start_time": "2023-02-05T17:34:15.800Z"
   },
   {
    "duration": 173,
    "start_time": "2023-02-05T17:39:03.768Z"
   },
   {
    "duration": 186,
    "start_time": "2023-02-05T17:39:44.841Z"
   },
   {
    "duration": 184,
    "start_time": "2023-02-05T17:39:59.935Z"
   },
   {
    "duration": 203,
    "start_time": "2023-02-05T17:40:27.351Z"
   },
   {
    "duration": 193,
    "start_time": "2023-02-05T17:42:15.227Z"
   },
   {
    "duration": 215,
    "start_time": "2023-02-05T17:44:40.798Z"
   },
   {
    "duration": 6,
    "start_time": "2023-02-05T17:45:51.134Z"
   },
   {
    "duration": 142,
    "start_time": "2023-02-05T17:49:24.244Z"
   },
   {
    "duration": 165,
    "start_time": "2023-02-05T17:52:34.147Z"
   },
   {
    "duration": 153,
    "start_time": "2023-02-05T17:53:22.634Z"
   },
   {
    "duration": 225,
    "start_time": "2023-02-05T17:54:53.811Z"
   },
   {
    "duration": 262,
    "start_time": "2023-02-05T17:57:17.244Z"
   },
   {
    "duration": 7,
    "start_time": "2023-02-05T17:57:33.080Z"
   },
   {
    "duration": 42,
    "start_time": "2023-02-05T17:58:27.071Z"
   },
   {
    "duration": 6,
    "start_time": "2023-02-05T18:01:14.727Z"
   },
   {
    "duration": 223,
    "start_time": "2023-02-05T18:02:29.119Z"
   },
   {
    "duration": 207,
    "start_time": "2023-02-05T18:27:06.087Z"
   },
   {
    "duration": 212,
    "start_time": "2023-02-05T18:28:16.052Z"
   },
   {
    "duration": 356,
    "start_time": "2023-02-05T18:29:05.434Z"
   },
   {
    "duration": 297,
    "start_time": "2023-02-05T18:29:51.197Z"
   },
   {
    "duration": 2505,
    "start_time": "2023-02-05T18:29:59.751Z"
   },
   {
    "duration": 12,
    "start_time": "2023-02-05T18:30:02.258Z"
   },
   {
    "duration": 32,
    "start_time": "2023-02-05T18:30:02.272Z"
   },
   {
    "duration": 27,
    "start_time": "2023-02-05T18:30:02.326Z"
   },
   {
    "duration": 84,
    "start_time": "2023-02-05T18:30:02.355Z"
   },
   {
    "duration": 16,
    "start_time": "2023-02-05T18:30:02.447Z"
   },
   {
    "duration": 11,
    "start_time": "2023-02-05T18:30:02.465Z"
   },
   {
    "duration": 22,
    "start_time": "2023-02-05T18:30:02.478Z"
   },
   {
    "duration": 16,
    "start_time": "2023-02-05T18:30:02.502Z"
   },
   {
    "duration": 14,
    "start_time": "2023-02-05T18:30:02.528Z"
   },
   {
    "duration": 6,
    "start_time": "2023-02-05T18:30:02.549Z"
   },
   {
    "duration": 50,
    "start_time": "2023-02-05T18:30:02.558Z"
   },
   {
    "duration": 49,
    "start_time": "2023-02-05T18:30:02.610Z"
   },
   {
    "duration": 11,
    "start_time": "2023-02-05T18:30:02.661Z"
   },
   {
    "duration": 348,
    "start_time": "2023-02-05T18:30:02.674Z"
   },
   {
    "duration": 12,
    "start_time": "2023-02-05T18:30:03.024Z"
   },
   {
    "duration": 184,
    "start_time": "2023-02-05T18:30:03.042Z"
   },
   {
    "duration": 184,
    "start_time": "2023-02-05T18:30:03.228Z"
   },
   {
    "duration": 206,
    "start_time": "2023-02-05T18:30:03.413Z"
   },
   {
    "duration": 170,
    "start_time": "2023-02-05T18:30:03.621Z"
   },
   {
    "duration": 170,
    "start_time": "2023-02-05T18:30:03.794Z"
   },
   {
    "duration": 1122,
    "start_time": "2023-02-05T18:30:03.965Z"
   },
   {
    "duration": 1091,
    "start_time": "2023-02-05T18:30:05.089Z"
   },
   {
    "duration": 293,
    "start_time": "2023-02-05T18:30:06.182Z"
   },
   {
    "duration": 218,
    "start_time": "2023-02-05T18:30:06.477Z"
   },
   {
    "duration": 202,
    "start_time": "2023-02-05T18:30:06.697Z"
   },
   {
    "duration": 220,
    "start_time": "2023-02-05T18:30:06.901Z"
   },
   {
    "duration": 169,
    "start_time": "2023-02-05T18:30:07.124Z"
   },
   {
    "duration": 204,
    "start_time": "2023-02-05T18:30:07.295Z"
   },
   {
    "duration": 257,
    "start_time": "2023-02-05T18:30:07.501Z"
   },
   {
    "duration": 298,
    "start_time": "2023-02-05T18:30:07.760Z"
   },
   {
    "duration": 1062,
    "start_time": "2023-02-05T18:30:08.059Z"
   },
   {
    "duration": 329,
    "start_time": "2023-02-05T18:30:09.137Z"
   },
   {
    "duration": 169,
    "start_time": "2023-02-05T18:30:09.468Z"
   },
   {
    "duration": 279,
    "start_time": "2023-02-05T18:30:09.639Z"
   },
   {
    "duration": 17,
    "start_time": "2023-02-05T18:30:09.920Z"
   },
   {
    "duration": 13,
    "start_time": "2023-02-05T18:30:09.939Z"
   },
   {
    "duration": 9,
    "start_time": "2023-02-05T18:30:09.954Z"
   },
   {
    "duration": 293,
    "start_time": "2023-02-05T18:30:09.964Z"
   },
   {
    "duration": 6,
    "start_time": "2023-02-05T18:30:10.259Z"
   },
   {
    "duration": 324,
    "start_time": "2023-02-05T18:30:10.267Z"
   },
   {
    "duration": 9,
    "start_time": "2023-02-05T18:30:10.593Z"
   },
   {
    "duration": 287,
    "start_time": "2023-02-05T18:30:10.604Z"
   },
   {
    "duration": 8,
    "start_time": "2023-02-05T18:30:10.893Z"
   },
   {
    "duration": 251,
    "start_time": "2023-02-05T18:30:10.903Z"
   },
   {
    "duration": 237,
    "start_time": "2023-02-05T18:30:11.157Z"
   },
   {
    "duration": 10,
    "start_time": "2023-02-05T18:30:11.396Z"
   },
   {
    "duration": 233,
    "start_time": "2023-02-05T18:30:11.408Z"
   },
   {
    "duration": 294,
    "start_time": "2023-02-05T18:32:22.756Z"
   },
   {
    "duration": 279,
    "start_time": "2023-02-05T18:33:19.672Z"
   },
   {
    "duration": 16,
    "start_time": "2023-02-05T18:33:44.147Z"
   },
   {
    "duration": 8,
    "start_time": "2023-02-05T18:33:57.899Z"
   },
   {
    "duration": 18,
    "start_time": "2023-02-05T18:34:50.040Z"
   },
   {
    "duration": 218,
    "start_time": "2023-02-05T18:36:05.349Z"
   },
   {
    "duration": 211,
    "start_time": "2023-02-05T18:36:22.778Z"
   },
   {
    "duration": 169,
    "start_time": "2023-02-05T18:48:04.254Z"
   },
   {
    "duration": 231,
    "start_time": "2023-02-05T18:48:26.159Z"
   },
   {
    "duration": 212,
    "start_time": "2023-02-05T18:48:55.709Z"
   },
   {
    "duration": 8,
    "start_time": "2023-02-05T19:05:06.851Z"
   },
   {
    "duration": 18,
    "start_time": "2023-02-05T19:07:24.554Z"
   },
   {
    "duration": 18,
    "start_time": "2023-02-05T19:07:39.091Z"
   },
   {
    "duration": 364,
    "start_time": "2023-02-05T19:07:55.979Z"
   },
   {
    "duration": 22,
    "start_time": "2023-02-05T19:08:23.544Z"
   },
   {
    "duration": 216,
    "start_time": "2023-02-05T19:08:32.660Z"
   },
   {
    "duration": 211,
    "start_time": "2023-02-05T19:09:41.583Z"
   },
   {
    "duration": 236,
    "start_time": "2023-02-05T19:10:05.275Z"
   },
   {
    "duration": 297,
    "start_time": "2023-02-05T19:11:10.963Z"
   },
   {
    "duration": 194,
    "start_time": "2023-02-05T19:21:22.744Z"
   },
   {
    "duration": 10,
    "start_time": "2023-02-05T19:26:51.519Z"
   },
   {
    "duration": 12,
    "start_time": "2023-02-05T19:28:26.455Z"
   },
   {
    "duration": 15,
    "start_time": "2023-02-05T19:28:35.022Z"
   },
   {
    "duration": 17,
    "start_time": "2023-02-05T19:48:01.769Z"
   },
   {
    "duration": 23,
    "start_time": "2023-02-05T19:48:22.088Z"
   },
   {
    "duration": 25,
    "start_time": "2023-02-05T19:55:07.084Z"
   },
   {
    "duration": 28,
    "start_time": "2023-02-05T19:57:55.908Z"
   },
   {
    "duration": 43,
    "start_time": "2023-02-05T20:02:37.713Z"
   },
   {
    "duration": 2353,
    "start_time": "2023-02-05T20:02:48.691Z"
   },
   {
    "duration": 11,
    "start_time": "2023-02-05T20:02:51.051Z"
   },
   {
    "duration": 33,
    "start_time": "2023-02-05T20:02:51.063Z"
   },
   {
    "duration": 15,
    "start_time": "2023-02-05T20:02:51.099Z"
   },
   {
    "duration": 89,
    "start_time": "2023-02-05T20:02:51.130Z"
   },
   {
    "duration": 21,
    "start_time": "2023-02-05T20:02:51.221Z"
   },
   {
    "duration": 16,
    "start_time": "2023-02-05T20:02:51.247Z"
   },
   {
    "duration": 12,
    "start_time": "2023-02-05T20:02:51.265Z"
   },
   {
    "duration": 9,
    "start_time": "2023-02-05T20:02:51.279Z"
   },
   {
    "duration": 8,
    "start_time": "2023-02-05T20:02:51.291Z"
   },
   {
    "duration": 6,
    "start_time": "2023-02-05T20:02:51.330Z"
   },
   {
    "duration": 67,
    "start_time": "2023-02-05T20:02:51.338Z"
   },
   {
    "duration": 60,
    "start_time": "2023-02-05T20:02:51.407Z"
   },
   {
    "duration": 12,
    "start_time": "2023-02-05T20:02:51.470Z"
   },
   {
    "duration": 357,
    "start_time": "2023-02-05T20:02:51.485Z"
   },
   {
    "duration": 8,
    "start_time": "2023-02-05T20:02:51.846Z"
   },
   {
    "duration": 189,
    "start_time": "2023-02-05T20:02:51.855Z"
   },
   {
    "duration": 306,
    "start_time": "2023-02-05T20:02:52.047Z"
   },
   {
    "duration": 293,
    "start_time": "2023-02-05T20:02:52.355Z"
   },
   {
    "duration": 196,
    "start_time": "2023-02-05T20:02:52.650Z"
   },
   {
    "duration": 191,
    "start_time": "2023-02-05T20:02:52.850Z"
   },
   {
    "duration": 1079,
    "start_time": "2023-02-05T20:02:53.043Z"
   },
   {
    "duration": 1163,
    "start_time": "2023-02-05T20:02:54.124Z"
   },
   {
    "duration": 276,
    "start_time": "2023-02-05T20:02:55.289Z"
   },
   {
    "duration": 238,
    "start_time": "2023-02-05T20:02:55.567Z"
   },
   {
    "duration": 199,
    "start_time": "2023-02-05T20:02:55.807Z"
   },
   {
    "duration": 214,
    "start_time": "2023-02-05T20:02:56.008Z"
   },
   {
    "duration": 168,
    "start_time": "2023-02-05T20:02:56.226Z"
   },
   {
    "duration": 205,
    "start_time": "2023-02-05T20:02:56.396Z"
   },
   {
    "duration": 262,
    "start_time": "2023-02-05T20:02:56.603Z"
   },
   {
    "duration": 251,
    "start_time": "2023-02-05T20:02:56.868Z"
   },
   {
    "duration": 244,
    "start_time": "2023-02-05T20:02:57.121Z"
   },
   {
    "duration": 322,
    "start_time": "2023-02-05T20:02:57.368Z"
   },
   {
    "duration": 258,
    "start_time": "2023-02-05T20:02:57.693Z"
   },
   {
    "duration": 293,
    "start_time": "2023-02-05T20:02:57.953Z"
   },
   {
    "duration": 4,
    "start_time": "2023-02-05T20:02:58.248Z"
   },
   {
    "duration": 9,
    "start_time": "2023-02-05T20:02:58.254Z"
   },
   {
    "duration": 11,
    "start_time": "2023-02-05T20:02:58.264Z"
   },
   {
    "duration": 277,
    "start_time": "2023-02-05T20:02:58.276Z"
   },
   {
    "duration": 7,
    "start_time": "2023-02-05T20:02:58.554Z"
   },
   {
    "duration": 246,
    "start_time": "2023-02-05T20:02:58.563Z"
   },
   {
    "duration": 6,
    "start_time": "2023-02-05T20:02:58.812Z"
   },
   {
    "duration": 236,
    "start_time": "2023-02-05T20:02:58.829Z"
   },
   {
    "duration": 7,
    "start_time": "2023-02-05T20:02:59.067Z"
   },
   {
    "duration": 223,
    "start_time": "2023-02-05T20:02:59.077Z"
   },
   {
    "duration": 250,
    "start_time": "2023-02-05T20:02:59.302Z"
   },
   {
    "duration": 7,
    "start_time": "2023-02-05T20:02:59.554Z"
   },
   {
    "duration": 196,
    "start_time": "2023-02-05T20:02:59.562Z"
   },
   {
    "duration": 277,
    "start_time": "2023-02-05T20:02:59.760Z"
   },
   {
    "duration": 211,
    "start_time": "2023-02-05T20:03:00.040Z"
   },
   {
    "duration": 33,
    "start_time": "2023-02-05T20:03:12.281Z"
   },
   {
    "duration": 32,
    "start_time": "2023-02-05T20:04:01.322Z"
   },
   {
    "duration": 77,
    "start_time": "2023-02-05T20:07:32.168Z"
   },
   {
    "duration": 31,
    "start_time": "2023-02-05T20:08:18.056Z"
   },
   {
    "duration": 29,
    "start_time": "2023-02-05T20:08:59.367Z"
   },
   {
    "duration": 21,
    "start_time": "2023-02-05T20:12:31.558Z"
   },
   {
    "duration": 26,
    "start_time": "2023-02-05T20:12:49.765Z"
   },
   {
    "duration": 31,
    "start_time": "2023-02-05T20:15:59.620Z"
   },
   {
    "duration": 3370,
    "start_time": "2023-02-05T20:16:10.800Z"
   },
   {
    "duration": 12,
    "start_time": "2023-02-05T20:16:14.173Z"
   },
   {
    "duration": 66,
    "start_time": "2023-02-05T20:16:14.187Z"
   },
   {
    "duration": 17,
    "start_time": "2023-02-05T20:16:14.255Z"
   },
   {
    "duration": 138,
    "start_time": "2023-02-05T20:16:14.276Z"
   },
   {
    "duration": 32,
    "start_time": "2023-02-05T20:16:14.416Z"
   },
   {
    "duration": 15,
    "start_time": "2023-02-05T20:16:14.451Z"
   },
   {
    "duration": 12,
    "start_time": "2023-02-05T20:16:14.467Z"
   },
   {
    "duration": 11,
    "start_time": "2023-02-05T20:16:14.480Z"
   },
   {
    "duration": 39,
    "start_time": "2023-02-05T20:16:14.492Z"
   },
   {
    "duration": 6,
    "start_time": "2023-02-05T20:16:14.533Z"
   },
   {
    "duration": 70,
    "start_time": "2023-02-05T20:16:14.541Z"
   },
   {
    "duration": 59,
    "start_time": "2023-02-05T20:16:14.613Z"
   },
   {
    "duration": 12,
    "start_time": "2023-02-05T20:16:14.676Z"
   },
   {
    "duration": 356,
    "start_time": "2023-02-05T20:16:14.690Z"
   },
   {
    "duration": 11,
    "start_time": "2023-02-05T20:16:15.047Z"
   },
   {
    "duration": 298,
    "start_time": "2023-02-05T20:16:15.060Z"
   },
   {
    "duration": 253,
    "start_time": "2023-02-05T20:16:15.361Z"
   },
   {
    "duration": 274,
    "start_time": "2023-02-05T20:16:15.616Z"
   },
   {
    "duration": 284,
    "start_time": "2023-02-05T20:16:15.892Z"
   },
   {
    "duration": 250,
    "start_time": "2023-02-05T20:16:16.179Z"
   },
   {
    "duration": 1345,
    "start_time": "2023-02-05T20:16:16.431Z"
   },
   {
    "duration": 1226,
    "start_time": "2023-02-05T20:16:17.778Z"
   },
   {
    "duration": 269,
    "start_time": "2023-02-05T20:16:19.006Z"
   },
   {
    "duration": 378,
    "start_time": "2023-02-05T20:16:19.278Z"
   },
   {
    "duration": 298,
    "start_time": "2023-02-05T20:16:19.661Z"
   },
   {
    "duration": 318,
    "start_time": "2023-02-05T20:16:19.961Z"
   },
   {
    "duration": 275,
    "start_time": "2023-02-05T20:16:20.284Z"
   },
   {
    "duration": 265,
    "start_time": "2023-02-05T20:16:20.567Z"
   },
   {
    "duration": 338,
    "start_time": "2023-02-05T20:16:20.834Z"
   },
   {
    "duration": 393,
    "start_time": "2023-02-05T20:16:21.175Z"
   },
   {
    "duration": 301,
    "start_time": "2023-02-05T20:16:21.573Z"
   },
   {
    "duration": 333,
    "start_time": "2023-02-05T20:16:21.877Z"
   },
   {
    "duration": 188,
    "start_time": "2023-02-05T20:16:22.212Z"
   },
   {
    "duration": 340,
    "start_time": "2023-02-05T20:16:22.402Z"
   },
   {
    "duration": 8,
    "start_time": "2023-02-05T20:16:22.747Z"
   },
   {
    "duration": 10,
    "start_time": "2023-02-05T20:16:22.761Z"
   },
   {
    "duration": 11,
    "start_time": "2023-02-05T20:16:22.772Z"
   },
   {
    "duration": 296,
    "start_time": "2023-02-05T20:16:22.785Z"
   },
   {
    "duration": 8,
    "start_time": "2023-02-05T20:16:23.083Z"
   },
   {
    "duration": 278,
    "start_time": "2023-02-05T20:16:23.097Z"
   },
   {
    "duration": 10,
    "start_time": "2023-02-05T20:16:23.378Z"
   },
   {
    "duration": 327,
    "start_time": "2023-02-05T20:16:23.389Z"
   },
   {
    "duration": 18,
    "start_time": "2023-02-05T20:16:23.728Z"
   },
   {
    "duration": 253,
    "start_time": "2023-02-05T20:16:23.749Z"
   },
   {
    "duration": 275,
    "start_time": "2023-02-05T20:16:24.008Z"
   },
   {
    "duration": 7,
    "start_time": "2023-02-05T20:16:24.284Z"
   },
   {
    "duration": 210,
    "start_time": "2023-02-05T20:16:24.293Z"
   },
   {
    "duration": 357,
    "start_time": "2023-02-05T20:16:24.506Z"
   },
   {
    "duration": 305,
    "start_time": "2023-02-05T20:16:24.865Z"
   },
   {
    "duration": 60,
    "start_time": "2023-02-05T20:16:25.174Z"
   },
   {
    "duration": 26,
    "start_time": "2023-02-05T20:17:58.588Z"
   },
   {
    "duration": 23,
    "start_time": "2023-02-05T20:26:17.064Z"
   },
   {
    "duration": 24,
    "start_time": "2023-02-05T20:26:35.991Z"
   },
   {
    "duration": 48,
    "start_time": "2023-02-05T20:26:55.111Z"
   },
   {
    "duration": 23,
    "start_time": "2023-02-05T20:27:09.144Z"
   },
   {
    "duration": 22,
    "start_time": "2023-02-05T20:27:19.502Z"
   },
   {
    "duration": 22,
    "start_time": "2023-02-05T20:27:34.391Z"
   },
   {
    "duration": 22,
    "start_time": "2023-02-05T20:28:52.944Z"
   },
   {
    "duration": 28,
    "start_time": "2023-02-05T20:31:33.014Z"
   },
   {
    "duration": 83,
    "start_time": "2023-02-05T20:31:48.205Z"
   },
   {
    "duration": 32,
    "start_time": "2023-02-05T20:31:57.492Z"
   },
   {
    "duration": 36,
    "start_time": "2023-02-05T20:32:37.302Z"
   },
   {
    "duration": 24,
    "start_time": "2023-02-05T20:34:45.098Z"
   },
   {
    "duration": 25,
    "start_time": "2023-02-05T20:48:35.644Z"
   },
   {
    "duration": 28,
    "start_time": "2023-02-05T20:58:57.252Z"
   },
   {
    "duration": 69,
    "start_time": "2023-02-05T20:59:02.683Z"
   },
   {
    "duration": 15,
    "start_time": "2023-02-05T21:00:14.267Z"
   },
   {
    "duration": 42,
    "start_time": "2023-02-05T21:03:19.473Z"
   },
   {
    "duration": 49,
    "start_time": "2023-02-05T21:04:54.052Z"
   },
   {
    "duration": 36,
    "start_time": "2023-02-05T21:05:02.072Z"
   },
   {
    "duration": 148,
    "start_time": "2023-02-05T21:08:02.728Z"
   },
   {
    "duration": 162,
    "start_time": "2023-02-05T21:08:21.332Z"
   },
   {
    "duration": 117,
    "start_time": "2023-02-05T21:08:25.553Z"
   },
   {
    "duration": 19,
    "start_time": "2023-02-05T21:08:35.471Z"
   },
   {
    "duration": 118,
    "start_time": "2023-02-05T21:08:39.967Z"
   },
   {
    "duration": 11,
    "start_time": "2023-02-05T21:11:05.366Z"
   },
   {
    "duration": 112,
    "start_time": "2023-02-05T21:14:48.246Z"
   },
   {
    "duration": 9,
    "start_time": "2023-02-05T21:15:04.709Z"
   },
   {
    "duration": 126,
    "start_time": "2023-02-05T21:15:53.446Z"
   },
   {
    "duration": 2474,
    "start_time": "2023-02-05T21:16:06.924Z"
   },
   {
    "duration": 11,
    "start_time": "2023-02-05T21:16:09.401Z"
   },
   {
    "duration": 44,
    "start_time": "2023-02-05T21:16:09.414Z"
   },
   {
    "duration": 16,
    "start_time": "2023-02-05T21:16:09.460Z"
   },
   {
    "duration": 103,
    "start_time": "2023-02-05T21:16:09.478Z"
   },
   {
    "duration": 16,
    "start_time": "2023-02-05T21:16:09.583Z"
   },
   {
    "duration": 32,
    "start_time": "2023-02-05T21:16:09.602Z"
   },
   {
    "duration": 21,
    "start_time": "2023-02-05T21:16:09.643Z"
   },
   {
    "duration": 13,
    "start_time": "2023-02-05T21:16:09.665Z"
   },
   {
    "duration": 19,
    "start_time": "2023-02-05T21:16:09.680Z"
   },
   {
    "duration": 9,
    "start_time": "2023-02-05T21:16:09.701Z"
   },
   {
    "duration": 48,
    "start_time": "2023-02-05T21:16:09.712Z"
   },
   {
    "duration": 47,
    "start_time": "2023-02-05T21:16:09.763Z"
   },
   {
    "duration": 11,
    "start_time": "2023-02-05T21:16:09.830Z"
   },
   {
    "duration": 317,
    "start_time": "2023-02-05T21:16:09.843Z"
   },
   {
    "duration": 1292,
    "start_time": "2023-02-05T21:16:10.162Z"
   },
   {
    "duration": 185,
    "start_time": "2023-02-05T21:16:11.456Z"
   },
   {
    "duration": 189,
    "start_time": "2023-02-05T21:16:11.648Z"
   },
   {
    "duration": 201,
    "start_time": "2023-02-05T21:16:11.844Z"
   },
   {
    "duration": 161,
    "start_time": "2023-02-05T21:16:12.047Z"
   },
   {
    "duration": 173,
    "start_time": "2023-02-05T21:16:12.210Z"
   },
   {
    "duration": 1166,
    "start_time": "2023-02-05T21:16:12.386Z"
   },
   {
    "duration": 1134,
    "start_time": "2023-02-05T21:16:13.554Z"
   },
   {
    "duration": 245,
    "start_time": "2023-02-05T21:16:14.690Z"
   },
   {
    "duration": 257,
    "start_time": "2023-02-05T21:16:14.937Z"
   },
   {
    "duration": 197,
    "start_time": "2023-02-05T21:16:15.196Z"
   },
   {
    "duration": 208,
    "start_time": "2023-02-05T21:16:15.394Z"
   },
   {
    "duration": 175,
    "start_time": "2023-02-05T21:16:15.604Z"
   },
   {
    "duration": 216,
    "start_time": "2023-02-05T21:16:15.781Z"
   },
   {
    "duration": 262,
    "start_time": "2023-02-05T21:16:15.999Z"
   },
   {
    "duration": 392,
    "start_time": "2023-02-05T21:16:16.263Z"
   },
   {
    "duration": 264,
    "start_time": "2023-02-05T21:16:16.657Z"
   },
   {
    "duration": 322,
    "start_time": "2023-02-05T21:16:16.923Z"
   },
   {
    "duration": 164,
    "start_time": "2023-02-05T21:16:17.250Z"
   },
   {
    "duration": 292,
    "start_time": "2023-02-05T21:16:17.416Z"
   },
   {
    "duration": 22,
    "start_time": "2023-02-05T21:16:17.710Z"
   },
   {
    "duration": 10,
    "start_time": "2023-02-05T21:16:17.740Z"
   },
   {
    "duration": 11,
    "start_time": "2023-02-05T21:16:17.752Z"
   },
   {
    "duration": 305,
    "start_time": "2023-02-05T21:16:17.765Z"
   },
   {
    "duration": 6,
    "start_time": "2023-02-05T21:16:18.072Z"
   },
   {
    "duration": 394,
    "start_time": "2023-02-05T21:16:18.084Z"
   },
   {
    "duration": 7,
    "start_time": "2023-02-05T21:16:18.481Z"
   },
   {
    "duration": 298,
    "start_time": "2023-02-05T21:16:18.490Z"
   },
   {
    "duration": 6,
    "start_time": "2023-02-05T21:16:18.789Z"
   },
   {
    "duration": 219,
    "start_time": "2023-02-05T21:16:18.797Z"
   },
   {
    "duration": 234,
    "start_time": "2023-02-05T21:16:19.018Z"
   },
   {
    "duration": 7,
    "start_time": "2023-02-05T21:16:19.254Z"
   },
   {
    "duration": 210,
    "start_time": "2023-02-05T21:16:19.263Z"
   },
   {
    "duration": 279,
    "start_time": "2023-02-05T21:16:19.475Z"
   },
   {
    "duration": 283,
    "start_time": "2023-02-05T21:16:19.756Z"
   },
   {
    "duration": 35,
    "start_time": "2023-02-05T21:16:20.042Z"
   },
   {
    "duration": 24,
    "start_time": "2023-02-05T21:16:23.364Z"
   },
   {
    "duration": 4955,
    "start_time": "2023-02-05T21:52:44.404Z"
   },
   {
    "duration": 11,
    "start_time": "2023-02-05T21:52:49.361Z"
   },
   {
    "duration": 47,
    "start_time": "2023-02-05T21:52:49.374Z"
   },
   {
    "duration": 25,
    "start_time": "2023-02-05T21:52:49.423Z"
   },
   {
    "duration": 91,
    "start_time": "2023-02-05T21:52:49.451Z"
   },
   {
    "duration": 16,
    "start_time": "2023-02-05T21:52:49.544Z"
   },
   {
    "duration": 10,
    "start_time": "2023-02-05T21:52:49.562Z"
   },
   {
    "duration": 9,
    "start_time": "2023-02-05T21:52:49.573Z"
   },
   {
    "duration": 37,
    "start_time": "2023-02-05T21:52:49.584Z"
   },
   {
    "duration": 15,
    "start_time": "2023-02-05T21:52:49.623Z"
   },
   {
    "duration": 4,
    "start_time": "2023-02-05T21:52:49.640Z"
   },
   {
    "duration": 38,
    "start_time": "2023-02-05T21:52:49.646Z"
   },
   {
    "duration": 68,
    "start_time": "2023-02-05T21:52:49.686Z"
   },
   {
    "duration": 8,
    "start_time": "2023-02-05T21:52:49.758Z"
   },
   {
    "duration": 332,
    "start_time": "2023-02-05T21:52:49.768Z"
   },
   {
    "duration": 216,
    "start_time": "2023-02-05T21:52:50.102Z"
   },
   {
    "duration": 300,
    "start_time": "2023-02-05T21:52:50.321Z"
   },
   {
    "duration": 308,
    "start_time": "2023-02-05T21:52:50.623Z"
   },
   {
    "duration": 316,
    "start_time": "2023-02-05T21:52:50.933Z"
   },
   {
    "duration": 295,
    "start_time": "2023-02-05T21:52:51.251Z"
   },
   {
    "duration": 262,
    "start_time": "2023-02-05T21:52:51.549Z"
   },
   {
    "duration": 1444,
    "start_time": "2023-02-05T21:52:51.812Z"
   },
   {
    "duration": 1225,
    "start_time": "2023-02-05T21:52:53.257Z"
   },
   {
    "duration": 378,
    "start_time": "2023-02-05T21:52:54.484Z"
   },
   {
    "duration": 381,
    "start_time": "2023-02-05T21:52:54.864Z"
   },
   {
    "duration": 346,
    "start_time": "2023-02-05T21:52:55.246Z"
   },
   {
    "duration": 320,
    "start_time": "2023-02-05T21:52:55.594Z"
   },
   {
    "duration": 264,
    "start_time": "2023-02-05T21:52:55.923Z"
   },
   {
    "duration": 460,
    "start_time": "2023-02-05T21:52:56.189Z"
   },
   {
    "duration": 372,
    "start_time": "2023-02-05T21:52:56.651Z"
   },
   {
    "duration": 397,
    "start_time": "2023-02-05T21:52:57.026Z"
   },
   {
    "duration": 340,
    "start_time": "2023-02-05T21:52:57.426Z"
   },
   {
    "duration": 458,
    "start_time": "2023-02-05T21:52:57.768Z"
   },
   {
    "duration": 265,
    "start_time": "2023-02-05T21:52:58.228Z"
   },
   {
    "duration": 460,
    "start_time": "2023-02-05T21:52:58.495Z"
   },
   {
    "duration": 4,
    "start_time": "2023-02-05T21:52:58.957Z"
   },
   {
    "duration": 10,
    "start_time": "2023-02-05T21:52:58.963Z"
   },
   {
    "duration": 7,
    "start_time": "2023-02-05T21:52:58.975Z"
   },
   {
    "duration": 439,
    "start_time": "2023-02-05T21:52:58.983Z"
   },
   {
    "duration": 7,
    "start_time": "2023-02-05T21:52:59.424Z"
   },
   {
    "duration": 375,
    "start_time": "2023-02-05T21:52:59.437Z"
   },
   {
    "duration": 20,
    "start_time": "2023-02-05T21:52:59.814Z"
   },
   {
    "duration": 365,
    "start_time": "2023-02-05T21:52:59.836Z"
   },
   {
    "duration": 21,
    "start_time": "2023-02-05T21:53:00.202Z"
   },
   {
    "duration": 354,
    "start_time": "2023-02-05T21:53:00.226Z"
   },
   {
    "duration": 399,
    "start_time": "2023-02-05T21:53:00.582Z"
   },
   {
    "duration": 6,
    "start_time": "2023-02-05T21:53:00.983Z"
   },
   {
    "duration": 351,
    "start_time": "2023-02-05T21:53:00.991Z"
   },
   {
    "duration": 365,
    "start_time": "2023-02-05T21:53:01.344Z"
   },
   {
    "duration": 384,
    "start_time": "2023-02-05T21:53:01.710Z"
   },
   {
    "duration": 42,
    "start_time": "2023-02-05T21:53:02.096Z"
   },
   {
    "duration": 24,
    "start_time": "2023-02-05T21:53:02.140Z"
   },
   {
    "duration": 86,
    "start_time": "2023-02-05T21:54:51.335Z"
   },
   {
    "duration": 15,
    "start_time": "2023-02-05T21:57:16.852Z"
   },
   {
    "duration": 3007,
    "start_time": "2023-02-06T19:00:38.322Z"
   },
   {
    "duration": 11,
    "start_time": "2023-02-06T19:00:41.332Z"
   },
   {
    "duration": 31,
    "start_time": "2023-02-06T19:00:46.918Z"
   },
   {
    "duration": 53,
    "start_time": "2023-02-06T20:17:52.218Z"
   },
   {
    "duration": 67,
    "start_time": "2023-02-06T20:19:06.463Z"
   },
   {
    "duration": 53,
    "start_time": "2023-02-06T20:20:52.379Z"
   },
   {
    "duration": 44,
    "start_time": "2023-02-06T20:31:06.601Z"
   },
   {
    "duration": 2079,
    "start_time": "2023-02-06T20:36:46.424Z"
   },
   {
    "duration": 12,
    "start_time": "2023-02-06T20:36:48.505Z"
   },
   {
    "duration": 27,
    "start_time": "2023-02-06T20:36:48.519Z"
   },
   {
    "duration": 26,
    "start_time": "2023-02-06T20:36:48.548Z"
   },
   {
    "duration": 33,
    "start_time": "2023-02-06T20:36:48.576Z"
   },
   {
    "duration": 63,
    "start_time": "2023-02-06T20:36:48.610Z"
   },
   {
    "duration": 29,
    "start_time": "2023-02-06T20:36:48.675Z"
   },
   {
    "duration": 9,
    "start_time": "2023-02-06T20:36:48.705Z"
   },
   {
    "duration": 11,
    "start_time": "2023-02-06T20:36:48.716Z"
   },
   {
    "duration": 13,
    "start_time": "2023-02-06T20:36:48.730Z"
   },
   {
    "duration": 7,
    "start_time": "2023-02-06T20:36:48.744Z"
   },
   {
    "duration": 7,
    "start_time": "2023-02-06T20:36:48.752Z"
   },
   {
    "duration": 66,
    "start_time": "2023-02-06T20:36:48.760Z"
   },
   {
    "duration": 34,
    "start_time": "2023-02-06T20:36:48.827Z"
   },
   {
    "duration": 7,
    "start_time": "2023-02-06T20:36:48.863Z"
   },
   {
    "duration": 316,
    "start_time": "2023-02-06T20:36:48.872Z"
   },
   {
    "duration": 117,
    "start_time": "2023-02-06T20:36:49.190Z"
   },
   {
    "duration": 160,
    "start_time": "2023-02-06T20:36:49.309Z"
   },
   {
    "duration": 273,
    "start_time": "2023-02-06T20:36:49.470Z"
   },
   {
    "duration": 176,
    "start_time": "2023-02-06T20:36:49.745Z"
   },
   {
    "duration": 151,
    "start_time": "2023-02-06T20:36:49.923Z"
   },
   {
    "duration": 143,
    "start_time": "2023-02-06T20:36:50.076Z"
   },
   {
    "duration": 1060,
    "start_time": "2023-02-06T20:36:50.221Z"
   },
   {
    "duration": 993,
    "start_time": "2023-02-06T20:36:51.283Z"
   },
   {
    "duration": 186,
    "start_time": "2023-02-06T20:36:52.277Z"
   },
   {
    "duration": 329,
    "start_time": "2023-02-06T20:36:52.465Z"
   },
   {
    "duration": 166,
    "start_time": "2023-02-06T20:36:52.802Z"
   },
   {
    "duration": 196,
    "start_time": "2023-02-06T20:36:52.971Z"
   },
   {
    "duration": 147,
    "start_time": "2023-02-06T20:36:53.169Z"
   },
   {
    "duration": 169,
    "start_time": "2023-02-06T20:36:53.318Z"
   },
   {
    "duration": 208,
    "start_time": "2023-02-06T20:36:53.488Z"
   },
   {
    "duration": 239,
    "start_time": "2023-02-06T20:36:53.697Z"
   },
   {
    "duration": 211,
    "start_time": "2023-02-06T20:36:53.937Z"
   },
   {
    "duration": 299,
    "start_time": "2023-02-06T20:36:54.150Z"
   },
   {
    "duration": 157,
    "start_time": "2023-02-06T20:36:54.451Z"
   },
   {
    "duration": 254,
    "start_time": "2023-02-06T20:36:54.610Z"
   },
   {
    "duration": 4,
    "start_time": "2023-02-06T20:36:54.866Z"
   },
   {
    "duration": 6,
    "start_time": "2023-02-06T20:36:54.871Z"
   },
   {
    "duration": 8,
    "start_time": "2023-02-06T20:36:54.879Z"
   },
   {
    "duration": 240,
    "start_time": "2023-02-06T20:36:54.888Z"
   },
   {
    "duration": 6,
    "start_time": "2023-02-06T20:36:55.129Z"
   },
   {
    "duration": 234,
    "start_time": "2023-02-06T20:36:55.137Z"
   },
   {
    "duration": 6,
    "start_time": "2023-02-06T20:36:55.373Z"
   },
   {
    "duration": 227,
    "start_time": "2023-02-06T20:36:55.380Z"
   },
   {
    "duration": 6,
    "start_time": "2023-02-06T20:36:55.609Z"
   },
   {
    "duration": 206,
    "start_time": "2023-02-06T20:36:55.617Z"
   },
   {
    "duration": 217,
    "start_time": "2023-02-06T20:36:55.825Z"
   },
   {
    "duration": 6,
    "start_time": "2023-02-06T20:36:56.044Z"
   },
   {
    "duration": 355,
    "start_time": "2023-02-06T20:36:56.052Z"
   },
   {
    "duration": 244,
    "start_time": "2023-02-06T20:36:56.409Z"
   },
   {
    "duration": 207,
    "start_time": "2023-02-06T20:36:56.655Z"
   },
   {
    "duration": 164,
    "start_time": "2023-02-06T20:37:05.485Z"
   },
   {
    "duration": 150,
    "start_time": "2023-02-06T20:40:37.637Z"
   },
   {
    "duration": 196,
    "start_time": "2023-02-06T20:40:53.564Z"
   },
   {
    "duration": 944,
    "start_time": "2023-02-06T20:45:02.297Z"
   },
   {
    "duration": 2041,
    "start_time": "2023-02-06T20:45:23.473Z"
   },
   {
    "duration": 9,
    "start_time": "2023-02-06T20:45:25.520Z"
   },
   {
    "duration": 22,
    "start_time": "2023-02-06T20:45:25.531Z"
   },
   {
    "duration": 26,
    "start_time": "2023-02-06T20:45:25.555Z"
   },
   {
    "duration": 30,
    "start_time": "2023-02-06T20:45:25.582Z"
   },
   {
    "duration": 59,
    "start_time": "2023-02-06T20:45:25.614Z"
   },
   {
    "duration": 30,
    "start_time": "2023-02-06T20:45:25.675Z"
   },
   {
    "duration": 15,
    "start_time": "2023-02-06T20:45:25.707Z"
   },
   {
    "duration": 10,
    "start_time": "2023-02-06T20:45:25.723Z"
   },
   {
    "duration": 13,
    "start_time": "2023-02-06T20:45:25.735Z"
   },
   {
    "duration": 7,
    "start_time": "2023-02-06T20:45:25.750Z"
   },
   {
    "duration": 3,
    "start_time": "2023-02-06T20:45:25.758Z"
   },
   {
    "duration": 63,
    "start_time": "2023-02-06T20:45:25.763Z"
   },
   {
    "duration": 34,
    "start_time": "2023-02-06T20:45:25.828Z"
   },
   {
    "duration": 7,
    "start_time": "2023-02-06T20:45:25.864Z"
   },
   {
    "duration": 321,
    "start_time": "2023-02-06T20:45:25.873Z"
   },
   {
    "duration": 735,
    "start_time": "2023-02-06T20:45:28.762Z"
   },
   {
    "duration": 8,
    "start_time": "2023-02-06T20:46:02.657Z"
   },
   {
    "duration": 2195,
    "start_time": "2023-02-06T20:46:25.952Z"
   },
   {
    "duration": 9,
    "start_time": "2023-02-06T20:46:28.149Z"
   },
   {
    "duration": 21,
    "start_time": "2023-02-06T20:46:28.159Z"
   },
   {
    "duration": 48,
    "start_time": "2023-02-06T20:46:28.182Z"
   },
   {
    "duration": 17,
    "start_time": "2023-02-06T20:46:28.232Z"
   },
   {
    "duration": 89,
    "start_time": "2023-02-06T20:46:28.251Z"
   },
   {
    "duration": 17,
    "start_time": "2023-02-06T20:46:28.341Z"
   },
   {
    "duration": 11,
    "start_time": "2023-02-06T20:46:28.359Z"
   },
   {
    "duration": 31,
    "start_time": "2023-02-06T20:46:28.372Z"
   },
   {
    "duration": 11,
    "start_time": "2023-02-06T20:46:28.405Z"
   },
   {
    "duration": 11,
    "start_time": "2023-02-06T20:46:28.419Z"
   },
   {
    "duration": 4,
    "start_time": "2023-02-06T20:46:28.433Z"
   },
   {
    "duration": 38,
    "start_time": "2023-02-06T20:46:28.438Z"
   },
   {
    "duration": 65,
    "start_time": "2023-02-06T20:46:28.478Z"
   },
   {
    "duration": 7,
    "start_time": "2023-02-06T20:46:28.544Z"
   },
   {
    "duration": 309,
    "start_time": "2023-02-06T20:46:28.553Z"
   },
   {
    "duration": 6,
    "start_time": "2023-02-06T20:46:28.864Z"
   },
   {
    "duration": 172,
    "start_time": "2023-02-06T20:46:28.872Z"
   },
   {
    "duration": 162,
    "start_time": "2023-02-06T20:46:29.045Z"
   },
   {
    "duration": 173,
    "start_time": "2023-02-06T20:46:29.208Z"
   },
   {
    "duration": 151,
    "start_time": "2023-02-06T20:46:29.383Z"
   },
   {
    "duration": 145,
    "start_time": "2023-02-06T20:46:29.535Z"
   },
   {
    "duration": 1215,
    "start_time": "2023-02-06T20:46:29.682Z"
   },
   {
    "duration": 957,
    "start_time": "2023-02-06T20:46:30.898Z"
   },
   {
    "duration": 189,
    "start_time": "2023-02-06T20:46:31.856Z"
   },
   {
    "duration": 191,
    "start_time": "2023-02-06T20:46:32.047Z"
   },
   {
    "duration": 172,
    "start_time": "2023-02-06T20:46:32.240Z"
   },
   {
    "duration": 180,
    "start_time": "2023-02-06T20:46:32.417Z"
   },
   {
    "duration": 145,
    "start_time": "2023-02-06T20:46:32.598Z"
   },
   {
    "duration": 177,
    "start_time": "2023-02-06T20:46:32.745Z"
   },
   {
    "duration": 213,
    "start_time": "2023-02-06T20:46:32.924Z"
   },
   {
    "duration": 234,
    "start_time": "2023-02-06T20:46:33.139Z"
   },
   {
    "duration": 213,
    "start_time": "2023-02-06T20:46:33.375Z"
   },
   {
    "duration": 634,
    "start_time": "2023-02-06T20:46:33.589Z"
   },
   {
    "duration": 157,
    "start_time": "2023-02-06T20:46:34.225Z"
   },
   {
    "duration": 290,
    "start_time": "2023-02-06T20:46:34.385Z"
   },
   {
    "duration": 5,
    "start_time": "2023-02-06T20:46:34.677Z"
   },
   {
    "duration": 37,
    "start_time": "2023-02-06T20:46:34.684Z"
   },
   {
    "duration": 11,
    "start_time": "2023-02-06T20:46:34.723Z"
   },
   {
    "duration": 254,
    "start_time": "2023-02-06T20:46:34.737Z"
   },
   {
    "duration": 11,
    "start_time": "2023-02-06T20:46:34.993Z"
   },
   {
    "duration": 230,
    "start_time": "2023-02-06T20:46:35.006Z"
   },
   {
    "duration": 9,
    "start_time": "2023-02-06T20:46:35.238Z"
   },
   {
    "duration": 237,
    "start_time": "2023-02-06T20:46:35.249Z"
   },
   {
    "duration": 5,
    "start_time": "2023-02-06T20:46:35.488Z"
   },
   {
    "duration": 206,
    "start_time": "2023-02-06T20:46:35.494Z"
   },
   {
    "duration": 208,
    "start_time": "2023-02-06T20:46:35.702Z"
   },
   {
    "duration": 7,
    "start_time": "2023-02-06T20:46:35.912Z"
   },
   {
    "duration": 175,
    "start_time": "2023-02-06T20:46:35.921Z"
   },
   {
    "duration": 223,
    "start_time": "2023-02-06T20:46:36.098Z"
   },
   {
    "duration": 202,
    "start_time": "2023-02-06T20:46:36.323Z"
   },
   {
    "duration": 176,
    "start_time": "2023-02-06T20:46:36.527Z"
   },
   {
    "duration": 22,
    "start_time": "2023-02-06T20:46:36.705Z"
   },
   {
    "duration": 26,
    "start_time": "2023-02-06T20:46:36.729Z"
   },
   {
    "duration": 30,
    "start_time": "2023-02-06T20:46:36.757Z"
   },
   {
    "duration": 202,
    "start_time": "2023-02-06T20:46:51.249Z"
   },
   {
    "duration": 2656,
    "start_time": "2023-02-06T23:58:20.812Z"
   },
   {
    "duration": 9,
    "start_time": "2023-02-06T23:58:23.469Z"
   },
   {
    "duration": 34,
    "start_time": "2023-02-06T23:58:23.479Z"
   },
   {
    "duration": 27,
    "start_time": "2023-02-06T23:58:23.514Z"
   },
   {
    "duration": 13,
    "start_time": "2023-02-06T23:58:23.542Z"
   },
   {
    "duration": 75,
    "start_time": "2023-02-06T23:58:23.557Z"
   },
   {
    "duration": 13,
    "start_time": "2023-02-06T23:58:23.634Z"
   },
   {
    "duration": 8,
    "start_time": "2023-02-06T23:58:23.649Z"
   },
   {
    "duration": 8,
    "start_time": "2023-02-06T23:58:23.658Z"
   },
   {
    "duration": 29,
    "start_time": "2023-02-06T23:58:23.668Z"
   },
   {
    "duration": 5,
    "start_time": "2023-02-06T23:58:23.699Z"
   },
   {
    "duration": 4,
    "start_time": "2023-02-06T23:58:23.705Z"
   },
   {
    "duration": 33,
    "start_time": "2023-02-06T23:58:23.710Z"
   },
   {
    "duration": 54,
    "start_time": "2023-02-06T23:58:23.744Z"
   },
   {
    "duration": 7,
    "start_time": "2023-02-06T23:58:23.800Z"
   },
   {
    "duration": 271,
    "start_time": "2023-02-06T23:58:23.808Z"
   },
   {
    "duration": 15,
    "start_time": "2023-02-06T23:58:24.081Z"
   },
   {
    "duration": 201,
    "start_time": "2023-02-06T23:58:24.097Z"
   },
   {
    "duration": 140,
    "start_time": "2023-02-06T23:58:24.300Z"
   },
   {
    "duration": 156,
    "start_time": "2023-02-06T23:58:24.442Z"
   },
   {
    "duration": 202,
    "start_time": "2023-02-06T23:58:24.600Z"
   },
   {
    "duration": 135,
    "start_time": "2023-02-06T23:58:24.803Z"
   },
   {
    "duration": 852,
    "start_time": "2023-02-06T23:58:24.939Z"
   },
   {
    "duration": 1007,
    "start_time": "2023-02-06T23:58:25.793Z"
   },
   {
    "duration": 180,
    "start_time": "2023-02-06T23:58:26.801Z"
   },
   {
    "duration": 172,
    "start_time": "2023-02-06T23:58:26.983Z"
   },
   {
    "duration": 158,
    "start_time": "2023-02-06T23:58:27.156Z"
   },
   {
    "duration": 289,
    "start_time": "2023-02-06T23:58:27.317Z"
   },
   {
    "duration": 129,
    "start_time": "2023-02-06T23:58:27.607Z"
   },
   {
    "duration": 157,
    "start_time": "2023-02-06T23:58:27.737Z"
   },
   {
    "duration": 182,
    "start_time": "2023-02-06T23:58:27.896Z"
   },
   {
    "duration": 194,
    "start_time": "2023-02-06T23:58:28.080Z"
   },
   {
    "duration": 186,
    "start_time": "2023-02-06T23:58:28.275Z"
   },
   {
    "duration": 242,
    "start_time": "2023-02-06T23:58:28.462Z"
   },
   {
    "duration": 139,
    "start_time": "2023-02-06T23:58:28.706Z"
   },
   {
    "duration": 220,
    "start_time": "2023-02-06T23:58:28.847Z"
   },
   {
    "duration": 3,
    "start_time": "2023-02-06T23:58:29.068Z"
   },
   {
    "duration": 9,
    "start_time": "2023-02-06T23:58:29.073Z"
   },
   {
    "duration": 6,
    "start_time": "2023-02-06T23:58:29.091Z"
   },
   {
    "duration": 212,
    "start_time": "2023-02-06T23:58:29.098Z"
   },
   {
    "duration": 4,
    "start_time": "2023-02-06T23:58:29.311Z"
   },
   {
    "duration": 197,
    "start_time": "2023-02-06T23:58:29.317Z"
   },
   {
    "duration": 6,
    "start_time": "2023-02-06T23:58:29.515Z"
   },
   {
    "duration": 194,
    "start_time": "2023-02-06T23:58:29.522Z"
   },
   {
    "duration": 7,
    "start_time": "2023-02-06T23:58:29.717Z"
   },
   {
    "duration": 319,
    "start_time": "2023-02-06T23:58:29.725Z"
   },
   {
    "duration": 219,
    "start_time": "2023-02-06T23:58:30.046Z"
   },
   {
    "duration": 7,
    "start_time": "2023-02-06T23:58:30.266Z"
   },
   {
    "duration": 163,
    "start_time": "2023-02-06T23:58:30.274Z"
   },
   {
    "duration": 212,
    "start_time": "2023-02-06T23:58:30.438Z"
   },
   {
    "duration": 183,
    "start_time": "2023-02-06T23:58:30.652Z"
   },
   {
    "duration": 164,
    "start_time": "2023-02-06T23:58:30.837Z"
   },
   {
    "duration": 30,
    "start_time": "2023-02-06T23:58:31.003Z"
   },
   {
    "duration": 69,
    "start_time": "2023-02-06T23:58:31.034Z"
   },
   {
    "duration": 41,
    "start_time": "2023-02-06T23:58:31.104Z"
   },
   {
    "duration": 253,
    "start_time": "2023-02-06T23:58:31.147Z"
   },
   {
    "duration": 189,
    "start_time": "2023-02-07T00:00:34.364Z"
   },
   {
    "duration": 198,
    "start_time": "2023-02-07T00:00:51.495Z"
   },
   {
    "duration": 3490,
    "start_time": "2023-09-20T21:24:05.077Z"
   },
   {
    "duration": 1979,
    "start_time": "2023-09-20T21:24:34.606Z"
   },
   {
    "duration": 54,
    "start_time": "2023-09-20T21:25:28.269Z"
   }
  ],
  "kernelspec": {
   "display_name": "Python 3 (ipykernel)",
   "language": "python",
   "name": "python3"
  },
  "language_info": {
   "codemirror_mode": {
    "name": "ipython",
    "version": 3
   },
   "file_extension": ".py",
   "mimetype": "text/x-python",
   "name": "python",
   "nbconvert_exporter": "python",
   "pygments_lexer": "ipython3",
   "version": "3.9.5"
  },
  "toc": {
   "base_numbering": 1,
   "nav_menu": {},
   "number_sections": true,
   "sideBar": true,
   "skip_h1_title": true,
   "title_cell": "Table of Contents",
   "title_sidebar": "Contents",
   "toc_cell": false,
   "toc_position": {
    "height": "calc(100% - 180px)",
    "left": "10px",
    "top": "150px",
    "width": "413.542px"
   },
   "toc_section_display": true,
   "toc_window_display": true
  }
 },
 "nbformat": 4,
 "nbformat_minor": 4
}
