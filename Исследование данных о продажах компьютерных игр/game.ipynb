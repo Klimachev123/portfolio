{
 "cells": [
  {
   "cell_type": "markdown",
   "metadata": {},
   "source": [
    "# исследование данных о продажах компьютерных игр\n",
    "\n",
    "В нашем распоряжнии  исторические данные из открытых источников о продажах игр, оценки пользователей и экспертов, жанры и платформы.\n",
    "\n",
    "ход исследования:\n",
    "\n",
    "Шаг 1. изучение общей информации.\n",
    "\n",
    "Шаг 2. подготовка данных\n",
    "- Заменить названия столбцов\n",
    "- Преобразовать данные в нужные типы\n",
    "- Обработать пропуски\n",
    "- Посчитать суммарные продажи во всех регионах и записать их в отдельный столбец\n",
    "\n",
    "Шаг 3. исследовательский анализ данных\n",
    "\n",
    "- изучить динамику продаж по платформам \n",
    "- определить актуальный период\n",
    "- изучить лидеров продаж среди платформ \n",
    "- изучить влияние оценок критиков и игроков на продажи среди одной платформы\n",
    "- определить самые прибыльные жанры \n",
    "\n",
    "Шаг 3. портрет пользователя каждого региона\n",
    "\n",
    "- определить самые популярные платформы в каждом регионе\n",
    "- определить самые популярные жанры в каждом регионе\n",
    "- изучить влияние рейтинга ESRB на продажи в отдельных регионах\n",
    "\n",
    "Шаг 5. Проверить гипотезы\n",
    "\n",
    "- Средние пользовательские рейтинги платформ Xbox One и PC \n",
    "- Средние пользовательские рейтинги жанров Action и Sports \n",
    "\n",
    "Шаг 6. общий вывод"
   ]
  },
  {
   "cell_type": "markdown",
   "metadata": {},
   "source": [
    " \n",
    " # Шаг 1. изучение общей информации"
   ]
  },
  {
   "cell_type": "code",
   "execution_count": 2,
   "metadata": {},
   "outputs": [
    {
     "name": "stdout",
     "output_type": "stream",
     "text": [
      "                                            Name Platform  Year_of_Release  \\\n",
      "0                                     Wii Sports      Wii           2006.0   \n",
      "1                              Super Mario Bros.      NES           1985.0   \n",
      "2                                 Mario Kart Wii      Wii           2008.0   \n",
      "3                              Wii Sports Resort      Wii           2009.0   \n",
      "4                       Pokemon Red/Pokemon Blue       GB           1996.0   \n",
      "5                                         Tetris       GB           1989.0   \n",
      "6                          New Super Mario Bros.       DS           2006.0   \n",
      "7                                       Wii Play      Wii           2006.0   \n",
      "8                      New Super Mario Bros. Wii      Wii           2009.0   \n",
      "9                                      Duck Hunt      NES           1984.0   \n",
      "10                                    Nintendogs       DS           2005.0   \n",
      "11                                 Mario Kart DS       DS           2005.0   \n",
      "12                   Pokemon Gold/Pokemon Silver       GB           1999.0   \n",
      "13                                       Wii Fit      Wii           2007.0   \n",
      "14                            Kinect Adventures!     X360           2010.0   \n",
      "15                                  Wii Fit Plus      Wii           2009.0   \n",
      "16                            Grand Theft Auto V      PS3           2013.0   \n",
      "17                 Grand Theft Auto: San Andreas      PS2           2004.0   \n",
      "18                             Super Mario World     SNES           1990.0   \n",
      "19  Brain Age: Train Your Brain in Minutes a Day       DS           2005.0   \n",
      "\n",
      "           Genre  NA_sales  EU_sales  JP_sales  Other_sales  Critic_Score  \\\n",
      "0         Sports     41.36     28.96      3.77         8.45          76.0   \n",
      "1       Platform     29.08      3.58      6.81         0.77           NaN   \n",
      "2         Racing     15.68     12.76      3.79         3.29          82.0   \n",
      "3         Sports     15.61     10.93      3.28         2.95          80.0   \n",
      "4   Role-Playing     11.27      8.89     10.22         1.00           NaN   \n",
      "5         Puzzle     23.20      2.26      4.22         0.58           NaN   \n",
      "6       Platform     11.28      9.14      6.50         2.88          89.0   \n",
      "7           Misc     13.96      9.18      2.93         2.84          58.0   \n",
      "8       Platform     14.44      6.94      4.70         2.24          87.0   \n",
      "9        Shooter     26.93      0.63      0.28         0.47           NaN   \n",
      "10    Simulation      9.05     10.95      1.93         2.74           NaN   \n",
      "11        Racing      9.71      7.47      4.13         1.90          91.0   \n",
      "12  Role-Playing      9.00      6.18      7.20         0.71           NaN   \n",
      "13        Sports      8.92      8.03      3.60         2.15          80.0   \n",
      "14          Misc     15.00      4.89      0.24         1.69          61.0   \n",
      "15        Sports      9.01      8.49      2.53         1.77          80.0   \n",
      "16        Action      7.02      9.09      0.98         3.96          97.0   \n",
      "17        Action      9.43      0.40      0.41        10.57          95.0   \n",
      "18      Platform     12.78      3.75      3.54         0.55           NaN   \n",
      "19          Misc      4.74      9.20      4.16         2.04          77.0   \n",
      "\n",
      "   User_Score Rating  \n",
      "0           8      E  \n",
      "1         NaN    NaN  \n",
      "2         8.3      E  \n",
      "3           8      E  \n",
      "4         NaN    NaN  \n",
      "5         NaN    NaN  \n",
      "6         8.5      E  \n",
      "7         6.6      E  \n",
      "8         8.4      E  \n",
      "9         NaN    NaN  \n",
      "10        NaN    NaN  \n",
      "11        8.6      E  \n",
      "12        NaN    NaN  \n",
      "13        7.7      E  \n",
      "14        6.3      E  \n",
      "15        7.4      E  \n",
      "16        8.2      M  \n",
      "17          9      M  \n",
      "18        NaN    NaN  \n",
      "19        7.9      E  \n",
      "<class 'pandas.core.frame.DataFrame'>\n",
      "RangeIndex: 16715 entries, 0 to 16714\n",
      "Data columns (total 11 columns):\n",
      " #   Column           Non-Null Count  Dtype  \n",
      "---  ------           --------------  -----  \n",
      " 0   Name             16713 non-null  object \n",
      " 1   Platform         16715 non-null  object \n",
      " 2   Year_of_Release  16446 non-null  float64\n",
      " 3   Genre            16713 non-null  object \n",
      " 4   NA_sales         16715 non-null  float64\n",
      " 5   EU_sales         16715 non-null  float64\n",
      " 6   JP_sales         16715 non-null  float64\n",
      " 7   Other_sales      16715 non-null  float64\n",
      " 8   Critic_Score     8137 non-null   float64\n",
      " 9   User_Score       10014 non-null  object \n",
      " 10  Rating           9949 non-null   object \n",
      "dtypes: float64(6), object(5)\n",
      "memory usage: 1.4+ MB\n"
     ]
    }
   ],
   "source": [
    "import pandas as pd\n",
    "\n",
    "data = pd.read_csv('/datasets/games.csv')\n",
    "\n",
    "print(data.head(20))\n",
    "data.info()"
   ]
  },
  {
   "cell_type": "markdown",
   "metadata": {},
   "source": [
    "# шаг 2. подготовка данных"
   ]
  },
  {
   "cell_type": "code",
   "execution_count": 3,
   "metadata": {},
   "outputs": [
    {
     "data": {
      "text/html": [
       "<div>\n",
       "<style scoped>\n",
       "    .dataframe tbody tr th:only-of-type {\n",
       "        vertical-align: middle;\n",
       "    }\n",
       "\n",
       "    .dataframe tbody tr th {\n",
       "        vertical-align: top;\n",
       "    }\n",
       "\n",
       "    .dataframe thead th {\n",
       "        text-align: right;\n",
       "    }\n",
       "</style>\n",
       "<table border=\"1\" class=\"dataframe\">\n",
       "  <thead>\n",
       "    <tr style=\"text-align: right;\">\n",
       "      <th></th>\n",
       "      <th>name</th>\n",
       "      <th>platform</th>\n",
       "      <th>year_of_release</th>\n",
       "      <th>genre</th>\n",
       "      <th>na_sales</th>\n",
       "      <th>eu_sales</th>\n",
       "      <th>jp_sales</th>\n",
       "      <th>other_sales</th>\n",
       "      <th>critic_score</th>\n",
       "      <th>user_score</th>\n",
       "      <th>rating</th>\n",
       "    </tr>\n",
       "  </thead>\n",
       "  <tbody>\n",
       "    <tr>\n",
       "      <th>0</th>\n",
       "      <td>Wii Sports</td>\n",
       "      <td>Wii</td>\n",
       "      <td>2006.0</td>\n",
       "      <td>Sports</td>\n",
       "      <td>41.36</td>\n",
       "      <td>28.96</td>\n",
       "      <td>3.77</td>\n",
       "      <td>8.45</td>\n",
       "      <td>76.0</td>\n",
       "      <td>8</td>\n",
       "      <td>E</td>\n",
       "    </tr>\n",
       "    <tr>\n",
       "      <th>1</th>\n",
       "      <td>Super Mario Bros.</td>\n",
       "      <td>NES</td>\n",
       "      <td>1985.0</td>\n",
       "      <td>Platform</td>\n",
       "      <td>29.08</td>\n",
       "      <td>3.58</td>\n",
       "      <td>6.81</td>\n",
       "      <td>0.77</td>\n",
       "      <td>NaN</td>\n",
       "      <td>NaN</td>\n",
       "      <td>NaN</td>\n",
       "    </tr>\n",
       "    <tr>\n",
       "      <th>2</th>\n",
       "      <td>Mario Kart Wii</td>\n",
       "      <td>Wii</td>\n",
       "      <td>2008.0</td>\n",
       "      <td>Racing</td>\n",
       "      <td>15.68</td>\n",
       "      <td>12.76</td>\n",
       "      <td>3.79</td>\n",
       "      <td>3.29</td>\n",
       "      <td>82.0</td>\n",
       "      <td>8.3</td>\n",
       "      <td>E</td>\n",
       "    </tr>\n",
       "    <tr>\n",
       "      <th>3</th>\n",
       "      <td>Wii Sports Resort</td>\n",
       "      <td>Wii</td>\n",
       "      <td>2009.0</td>\n",
       "      <td>Sports</td>\n",
       "      <td>15.61</td>\n",
       "      <td>10.93</td>\n",
       "      <td>3.28</td>\n",
       "      <td>2.95</td>\n",
       "      <td>80.0</td>\n",
       "      <td>8</td>\n",
       "      <td>E</td>\n",
       "    </tr>\n",
       "    <tr>\n",
       "      <th>4</th>\n",
       "      <td>Pokemon Red/Pokemon Blue</td>\n",
       "      <td>GB</td>\n",
       "      <td>1996.0</td>\n",
       "      <td>Role-Playing</td>\n",
       "      <td>11.27</td>\n",
       "      <td>8.89</td>\n",
       "      <td>10.22</td>\n",
       "      <td>1.00</td>\n",
       "      <td>NaN</td>\n",
       "      <td>NaN</td>\n",
       "      <td>NaN</td>\n",
       "    </tr>\n",
       "  </tbody>\n",
       "</table>\n",
       "</div>"
      ],
      "text/plain": [
       "                       name platform  year_of_release         genre  na_sales  \\\n",
       "0                Wii Sports      Wii           2006.0        Sports     41.36   \n",
       "1         Super Mario Bros.      NES           1985.0      Platform     29.08   \n",
       "2            Mario Kart Wii      Wii           2008.0        Racing     15.68   \n",
       "3         Wii Sports Resort      Wii           2009.0        Sports     15.61   \n",
       "4  Pokemon Red/Pokemon Blue       GB           1996.0  Role-Playing     11.27   \n",
       "\n",
       "   eu_sales  jp_sales  other_sales  critic_score user_score rating  \n",
       "0     28.96      3.77         8.45          76.0          8      E  \n",
       "1      3.58      6.81         0.77           NaN        NaN    NaN  \n",
       "2     12.76      3.79         3.29          82.0        8.3      E  \n",
       "3     10.93      3.28         2.95          80.0          8      E  \n",
       "4      8.89     10.22         1.00           NaN        NaN    NaN  "
      ]
     },
     "execution_count": 3,
     "metadata": {},
     "output_type": "execute_result"
    }
   ],
   "source": [
    "#приводим к нижнему регистру\n",
    "data.columns = data.columns.str.lower()\n",
    "data.head()\n"
   ]
  },
  {
   "cell_type": "code",
   "execution_count": 4,
   "metadata": {},
   "outputs": [
    {
     "data": {
      "text/plain": [
       "name                  2\n",
       "platform              0\n",
       "year_of_release     269\n",
       "genre                 2\n",
       "na_sales              0\n",
       "eu_sales              0\n",
       "jp_sales              0\n",
       "other_sales           0\n",
       "critic_score       8578\n",
       "user_score         6701\n",
       "rating             6766\n",
       "dtype: int64"
      ]
     },
     "execution_count": 4,
     "metadata": {},
     "output_type": "execute_result"
    }
   ],
   "source": [
    "data.isna().sum()"
   ]
  },
  {
   "cell_type": "code",
   "execution_count": 5,
   "metadata": {},
   "outputs": [],
   "source": [
    "data = data.dropna(subset=['name', 'genre'])\n"
   ]
  },
  {
   "cell_type": "code",
   "execution_count": 6,
   "metadata": {},
   "outputs": [],
   "source": [
    "data['rating'] = data['rating'].fillna('no_rating')"
   ]
  },
  {
   "cell_type": "code",
   "execution_count": 7,
   "metadata": {},
   "outputs": [
    {
     "data": {
      "text/plain": [
       "name                  0\n",
       "platform              0\n",
       "year_of_release     269\n",
       "genre                 0\n",
       "na_sales              0\n",
       "eu_sales              0\n",
       "jp_sales              0\n",
       "other_sales           0\n",
       "critic_score       8576\n",
       "user_score         6699\n",
       "rating                0\n",
       "dtype: int64"
      ]
     },
     "execution_count": 7,
     "metadata": {},
     "output_type": "execute_result"
    }
   ],
   "source": [
    "data.isna().sum()"
   ]
  },
  {
   "cell_type": "markdown",
   "metadata": {},
   "source": [
    "#### устраняем пропуски в  year_of_release"
   ]
  },
  {
   "cell_type": "code",
   "execution_count": 8,
   "metadata": {},
   "outputs": [
    {
     "data": {
      "text/plain": [
       "array([2006., 1985., 2008., 2009., 1996., 1989., 1984., 2005., 1999.,\n",
       "       2007., 2010., 2013., 2004., 1990., 1988., 2002., 2001., 2011.,\n",
       "       1998., 2015., 2012., 2014., 1992., 1997., 1993., 1994., 1982.,\n",
       "       2016., 2003., 1986., 2000.,   nan, 1995., 1991., 1981., 1987.,\n",
       "       1980., 1983.])"
      ]
     },
     "execution_count": 8,
     "metadata": {},
     "output_type": "execute_result"
    }
   ],
   "source": [
    "data['year_of_release'].unique()"
   ]
  },
  {
   "cell_type": "code",
   "execution_count": 9,
   "metadata": {},
   "outputs": [
    {
     "name": "stdout",
     "output_type": "stream",
     "text": [
      "[2006. 1985. 2008. 2009. 1996. 1989. 1984. 2005. 1999. 2007. 2010. 2013.\n",
      " 2004. 1990. 1988. 2002. 2001. 2011. 1998. 2015. 2012. 2014. 1992. 1997.\n",
      " 1993. 1994. 1982. 2016. 2003. 1986. 2000. 1995. 1991. 1981. 1987. 1980.\n",
      " 1983.]\n"
     ]
    },
    {
     "data": {
      "text/plain": [
       "name                  0\n",
       "platform              0\n",
       "year_of_release       0\n",
       "genre                 0\n",
       "na_sales              0\n",
       "eu_sales              0\n",
       "jp_sales              0\n",
       "other_sales           0\n",
       "critic_score       8461\n",
       "user_score         6605\n",
       "rating                0\n",
       "dtype: int64"
      ]
     },
     "execution_count": 9,
     "metadata": {},
     "output_type": "execute_result"
    }
   ],
   "source": [
    "# так как пропусков в этом столбце очень мало, меньше 5% из можно спокойно удалять\n",
    "data = data.dropna(subset=['year_of_release'])\n",
    "print(data['year_of_release'].unique())\n",
    "data.isnull().sum()"
   ]
  },
  {
   "cell_type": "code",
   "execution_count": 10,
   "metadata": {},
   "outputs": [
    {
     "data": {
      "text/html": [
       "<div>\n",
       "<style scoped>\n",
       "    .dataframe tbody tr th:only-of-type {\n",
       "        vertical-align: middle;\n",
       "    }\n",
       "\n",
       "    .dataframe tbody tr th {\n",
       "        vertical-align: top;\n",
       "    }\n",
       "\n",
       "    .dataframe thead th {\n",
       "        text-align: right;\n",
       "    }\n",
       "</style>\n",
       "<table border=\"1\" class=\"dataframe\">\n",
       "  <thead>\n",
       "    <tr style=\"text-align: right;\">\n",
       "      <th></th>\n",
       "      <th>name</th>\n",
       "      <th>platform</th>\n",
       "      <th>year_of_release</th>\n",
       "      <th>genre</th>\n",
       "      <th>na_sales</th>\n",
       "      <th>eu_sales</th>\n",
       "      <th>jp_sales</th>\n",
       "      <th>other_sales</th>\n",
       "      <th>critic_score</th>\n",
       "      <th>user_score</th>\n",
       "      <th>rating</th>\n",
       "    </tr>\n",
       "  </thead>\n",
       "  <tbody>\n",
       "    <tr>\n",
       "      <th>0</th>\n",
       "      <td>Wii Sports</td>\n",
       "      <td>Wii</td>\n",
       "      <td>2006</td>\n",
       "      <td>Sports</td>\n",
       "      <td>41.36</td>\n",
       "      <td>28.96</td>\n",
       "      <td>3.77</td>\n",
       "      <td>8.45</td>\n",
       "      <td>76.0</td>\n",
       "      <td>8</td>\n",
       "      <td>E</td>\n",
       "    </tr>\n",
       "    <tr>\n",
       "      <th>1</th>\n",
       "      <td>Super Mario Bros.</td>\n",
       "      <td>NES</td>\n",
       "      <td>1985</td>\n",
       "      <td>Platform</td>\n",
       "      <td>29.08</td>\n",
       "      <td>3.58</td>\n",
       "      <td>6.81</td>\n",
       "      <td>0.77</td>\n",
       "      <td>NaN</td>\n",
       "      <td>NaN</td>\n",
       "      <td>no_rating</td>\n",
       "    </tr>\n",
       "    <tr>\n",
       "      <th>2</th>\n",
       "      <td>Mario Kart Wii</td>\n",
       "      <td>Wii</td>\n",
       "      <td>2008</td>\n",
       "      <td>Racing</td>\n",
       "      <td>15.68</td>\n",
       "      <td>12.76</td>\n",
       "      <td>3.79</td>\n",
       "      <td>3.29</td>\n",
       "      <td>82.0</td>\n",
       "      <td>8.3</td>\n",
       "      <td>E</td>\n",
       "    </tr>\n",
       "    <tr>\n",
       "      <th>3</th>\n",
       "      <td>Wii Sports Resort</td>\n",
       "      <td>Wii</td>\n",
       "      <td>2009</td>\n",
       "      <td>Sports</td>\n",
       "      <td>15.61</td>\n",
       "      <td>10.93</td>\n",
       "      <td>3.28</td>\n",
       "      <td>2.95</td>\n",
       "      <td>80.0</td>\n",
       "      <td>8</td>\n",
       "      <td>E</td>\n",
       "    </tr>\n",
       "    <tr>\n",
       "      <th>4</th>\n",
       "      <td>Pokemon Red/Pokemon Blue</td>\n",
       "      <td>GB</td>\n",
       "      <td>1996</td>\n",
       "      <td>Role-Playing</td>\n",
       "      <td>11.27</td>\n",
       "      <td>8.89</td>\n",
       "      <td>10.22</td>\n",
       "      <td>1.00</td>\n",
       "      <td>NaN</td>\n",
       "      <td>NaN</td>\n",
       "      <td>no_rating</td>\n",
       "    </tr>\n",
       "  </tbody>\n",
       "</table>\n",
       "</div>"
      ],
      "text/plain": [
       "                       name platform  year_of_release         genre  na_sales  \\\n",
       "0                Wii Sports      Wii             2006        Sports     41.36   \n",
       "1         Super Mario Bros.      NES             1985      Platform     29.08   \n",
       "2            Mario Kart Wii      Wii             2008        Racing     15.68   \n",
       "3         Wii Sports Resort      Wii             2009        Sports     15.61   \n",
       "4  Pokemon Red/Pokemon Blue       GB             1996  Role-Playing     11.27   \n",
       "\n",
       "   eu_sales  jp_sales  other_sales  critic_score user_score     rating  \n",
       "0     28.96      3.77         8.45          76.0          8          E  \n",
       "1      3.58      6.81         0.77           NaN        NaN  no_rating  \n",
       "2     12.76      3.79         3.29          82.0        8.3          E  \n",
       "3     10.93      3.28         2.95          80.0          8          E  \n",
       "4      8.89     10.22         1.00           NaN        NaN  no_rating  "
      ]
     },
     "execution_count": 10,
     "metadata": {},
     "output_type": "execute_result"
    }
   ],
   "source": [
    "data['year_of_release'] = data['year_of_release'].astype(int)\n",
    "data.head()"
   ]
  },
  {
   "cell_type": "markdown",
   "metadata": {},
   "source": [
    "#### устраняем пропуски в  user_score"
   ]
  },
  {
   "cell_type": "code",
   "execution_count": 11,
   "metadata": {},
   "outputs": [
    {
     "data": {
      "text/plain": [
       "array(['8', nan, '8.3', '8.5', '6.6', '8.4', '8.6', '7.7', '6.3', '7.4',\n",
       "       '8.2', '9', '7.9', '8.1', '8.7', '7.1', '3.4', '5.3', '4.8', '3.2',\n",
       "       '8.9', '6.4', '7.8', '7.5', '2.6', '7.2', '9.2', '7', '7.3', '4.3',\n",
       "       '7.6', '5.7', '5', '9.1', '6.5', 'tbd', '8.8', '6.9', '9.4', '6.8',\n",
       "       '6.1', '6.7', '5.4', '4', '4.9', '4.5', '9.3', '6.2', '4.2', '6',\n",
       "       '3.7', '4.1', '5.8', '5.6', '5.5', '4.4', '4.6', '5.9', '3.9',\n",
       "       '3.1', '2.9', '5.2', '3.3', '4.7', '5.1', '3.5', '2.5', '1.9', '3',\n",
       "       '2.7', '2.2', '2', '9.5', '2.1', '3.6', '2.8', '1.8', '3.8', '0',\n",
       "       '1.6', '9.6', '2.4', '1.7', '1.1', '0.3', '1.5', '0.7', '1.2',\n",
       "       '2.3', '0.5', '1.3', '0.2', '0.6', '1.4', '0.9', '1', '9.7'],\n",
       "      dtype=object)"
      ]
     },
     "execution_count": 11,
     "metadata": {},
     "output_type": "execute_result"
    }
   ],
   "source": [
    "#смотрим уникальные знаяение \n",
    "data['user_score'].unique()"
   ]
  },
  {
   "cell_type": "markdown",
   "metadata": {},
   "source": [
    "все значения строковые, так еще и появилось значение tbd"
   ]
  },
  {
   "cell_type": "code",
   "execution_count": 12,
   "metadata": {},
   "outputs": [
    {
     "data": {
      "text/plain": [
       "6605"
      ]
     },
     "execution_count": 12,
     "metadata": {},
     "output_type": "execute_result"
    }
   ],
   "source": [
    "# проверяем количество пропуков\n",
    "data['user_score'].isna().sum()"
   ]
  },
  {
   "cell_type": "code",
   "execution_count": 13,
   "metadata": {},
   "outputs": [
    {
     "data": {
      "text/plain": [
       "array([8. , nan, 8.3, 8.5, 6.6, 8.4, 8.6, 7.7, 6.3, 7.4, 8.2, 9. , 7.9,\n",
       "       8.1, 8.7, 7.1, 3.4, 5.3, 4.8, 3.2, 8.9, 6.4, 7.8, 7.5, 2.6, 7.2,\n",
       "       9.2, 7. , 7.3, 4.3, 7.6, 5.7, 5. , 9.1, 6.5, 8.8, 6.9, 9.4, 6.8,\n",
       "       6.1, 6.7, 5.4, 4. , 4.9, 4.5, 9.3, 6.2, 4.2, 6. , 3.7, 4.1, 5.8,\n",
       "       5.6, 5.5, 4.4, 4.6, 5.9, 3.9, 3.1, 2.9, 5.2, 3.3, 4.7, 5.1, 3.5,\n",
       "       2.5, 1.9, 3. , 2.7, 2.2, 2. , 9.5, 2.1, 3.6, 2.8, 1.8, 3.8, 0. ,\n",
       "       1.6, 9.6, 2.4, 1.7, 1.1, 0.3, 1.5, 0.7, 1.2, 2.3, 0.5, 1.3, 0.2,\n",
       "       0.6, 1.4, 0.9, 1. , 9.7])"
      ]
     },
     "execution_count": 13,
     "metadata": {},
     "output_type": "execute_result"
    }
   ],
   "source": [
    "# с помощью to_numeric решаем сразу 2 задачи: избавляемся от \"\" и значения tbd\n",
    "data['user_score'] = pd.to_numeric(data['user_score'], errors='coerce')\n",
    "data['user_score'].unique()"
   ]
  },
  {
   "cell_type": "code",
   "execution_count": 14,
   "metadata": {},
   "outputs": [
    {
     "name": "stdout",
     "output_type": "stream",
     "text": [
      "количесво пропусков в столбце user_score стало = 8981\n"
     ]
    }
   ],
   "source": [
    "print('количесво пропусков в столбце user_score стало =', data['user_score'].isna().sum())"
   ]
  },
  {
   "cell_type": "code",
   "execution_count": 15,
   "metadata": {},
   "outputs": [
    {
     "data": {
      "text/plain": [
       "7.126329894144447"
      ]
     },
     "execution_count": 15,
     "metadata": {},
     "output_type": "execute_result"
    }
   ],
   "source": [
    "data['user_score'].mean()"
   ]
  },
  {
   "cell_type": "code",
   "execution_count": 16,
   "metadata": {},
   "outputs": [
    {
     "data": {
      "text/plain": [
       "0"
      ]
     },
     "execution_count": 16,
     "metadata": {},
     "output_type": "execute_result"
    }
   ],
   "source": [
    "data['user_score'] = data['user_score'].fillna(7.1)\n",
    "data['user_score'].isna().sum()"
   ]
  },
  {
   "cell_type": "markdown",
   "metadata": {},
   "source": [
    "#### устраняем пропуски в critic_score\n"
   ]
  },
  {
   "cell_type": "code",
   "execution_count": 17,
   "metadata": {
    "scrolled": true
   },
   "outputs": [
    {
     "data": {
      "text/plain": [
       "array([76., nan, 82., 80., 89., 58., 87., 91., 61., 97., 95., 77., 88.,\n",
       "       83., 94., 93., 85., 86., 98., 96., 90., 84., 73., 74., 78., 92.,\n",
       "       71., 72., 68., 62., 49., 67., 81., 66., 56., 79., 70., 59., 64.,\n",
       "       75., 60., 63., 69., 50., 25., 42., 44., 55., 48., 57., 29., 47.,\n",
       "       65., 54., 20., 53., 37., 38., 33., 52., 30., 32., 43., 45., 51.,\n",
       "       40., 46., 39., 34., 41., 36., 31., 27., 35., 26., 19., 28., 23.,\n",
       "       24., 21., 17., 13.])"
      ]
     },
     "execution_count": 17,
     "metadata": {},
     "output_type": "execute_result"
    }
   ],
   "source": [
    "data['critic_score'].unique()"
   ]
  },
  {
   "cell_type": "code",
   "execution_count": 18,
   "metadata": {},
   "outputs": [
    {
     "data": {
      "text/plain": [
       "68.99436302142053"
      ]
     },
     "execution_count": 18,
     "metadata": {},
     "output_type": "execute_result"
    }
   ],
   "source": [
    "data['critic_score'].mean()"
   ]
  },
  {
   "cell_type": "code",
   "execution_count": 19,
   "metadata": {},
   "outputs": [
    {
     "name": "stdout",
     "output_type": "stream",
     "text": [
      "количесво пропусков в столбце critic_score = 8461\n"
     ]
    }
   ],
   "source": [
    "print('количесво пропусков в столбце critic_score =', len(data[data['critic_score'].isna()]))"
   ]
  },
  {
   "cell_type": "code",
   "execution_count": 20,
   "metadata": {},
   "outputs": [
    {
     "name": "stdout",
     "output_type": "stream",
     "text": [
      "количесво пропусков в столбце critic_score стало = 0\n"
     ]
    }
   ],
   "source": [
    "# меняем пропуски на среднее и приводим к целому числу\n",
    "data['critic_score'] = data['critic_score'].fillna(69)\n",
    "data['critic_score'] = data['critic_score'].astype(int)\n",
    "print('количесво пропусков в столбце critic_score стало =', len(data[data['critic_score'].isna()]))"
   ]
  },
  {
   "cell_type": "code",
   "execution_count": 21,
   "metadata": {},
   "outputs": [
    {
     "data": {
      "text/plain": [
       "name               0\n",
       "platform           0\n",
       "year_of_release    0\n",
       "genre              0\n",
       "na_sales           0\n",
       "eu_sales           0\n",
       "jp_sales           0\n",
       "other_sales        0\n",
       "critic_score       0\n",
       "user_score         0\n",
       "rating             0\n",
       "dtype: int64"
      ]
     },
     "execution_count": 21,
     "metadata": {},
     "output_type": "execute_result"
    }
   ],
   "source": [
    "data.isnull().sum()"
   ]
  },
  {
   "cell_type": "markdown",
   "metadata": {},
   "source": [
    "- пропуски в столбце с годом выпуска были удалены, т.к. их очень мало\n",
    "- в столбце с `оценками пользователей` были исправлены как тип данных так и лишние значения, а пропуски были заменены на среднее, как и в столбце с `оценками критиков` \n",
    "- был выбран метод среднего, т.к. значения находятся в небольших диапазонах, и пиковые значения и будут искажать данные"
   ]
  },
  {
   "cell_type": "markdown",
   "metadata": {},
   "source": [
    "#### суммарные продажи во всех регионах"
   ]
  },
  {
   "cell_type": "code",
   "execution_count": 22,
   "metadata": {},
   "outputs": [
    {
     "data": {
      "text/html": [
       "<div>\n",
       "<style scoped>\n",
       "    .dataframe tbody tr th:only-of-type {\n",
       "        vertical-align: middle;\n",
       "    }\n",
       "\n",
       "    .dataframe tbody tr th {\n",
       "        vertical-align: top;\n",
       "    }\n",
       "\n",
       "    .dataframe thead th {\n",
       "        text-align: right;\n",
       "    }\n",
       "</style>\n",
       "<table border=\"1\" class=\"dataframe\">\n",
       "  <thead>\n",
       "    <tr style=\"text-align: right;\">\n",
       "      <th></th>\n",
       "      <th>name</th>\n",
       "      <th>platform</th>\n",
       "      <th>year_of_release</th>\n",
       "      <th>genre</th>\n",
       "      <th>na_sales</th>\n",
       "      <th>eu_sales</th>\n",
       "      <th>jp_sales</th>\n",
       "      <th>other_sales</th>\n",
       "      <th>critic_score</th>\n",
       "      <th>user_score</th>\n",
       "      <th>rating</th>\n",
       "      <th>all_sales</th>\n",
       "    </tr>\n",
       "  </thead>\n",
       "  <tbody>\n",
       "    <tr>\n",
       "      <th>0</th>\n",
       "      <td>Wii Sports</td>\n",
       "      <td>Wii</td>\n",
       "      <td>2006</td>\n",
       "      <td>Sports</td>\n",
       "      <td>41.36</td>\n",
       "      <td>28.96</td>\n",
       "      <td>3.77</td>\n",
       "      <td>8.45</td>\n",
       "      <td>76</td>\n",
       "      <td>8.0</td>\n",
       "      <td>E</td>\n",
       "      <td>82.54</td>\n",
       "    </tr>\n",
       "    <tr>\n",
       "      <th>1</th>\n",
       "      <td>Super Mario Bros.</td>\n",
       "      <td>NES</td>\n",
       "      <td>1985</td>\n",
       "      <td>Platform</td>\n",
       "      <td>29.08</td>\n",
       "      <td>3.58</td>\n",
       "      <td>6.81</td>\n",
       "      <td>0.77</td>\n",
       "      <td>69</td>\n",
       "      <td>7.1</td>\n",
       "      <td>no_rating</td>\n",
       "      <td>40.24</td>\n",
       "    </tr>\n",
       "    <tr>\n",
       "      <th>2</th>\n",
       "      <td>Mario Kart Wii</td>\n",
       "      <td>Wii</td>\n",
       "      <td>2008</td>\n",
       "      <td>Racing</td>\n",
       "      <td>15.68</td>\n",
       "      <td>12.76</td>\n",
       "      <td>3.79</td>\n",
       "      <td>3.29</td>\n",
       "      <td>82</td>\n",
       "      <td>8.3</td>\n",
       "      <td>E</td>\n",
       "      <td>35.52</td>\n",
       "    </tr>\n",
       "    <tr>\n",
       "      <th>3</th>\n",
       "      <td>Wii Sports Resort</td>\n",
       "      <td>Wii</td>\n",
       "      <td>2009</td>\n",
       "      <td>Sports</td>\n",
       "      <td>15.61</td>\n",
       "      <td>10.93</td>\n",
       "      <td>3.28</td>\n",
       "      <td>2.95</td>\n",
       "      <td>80</td>\n",
       "      <td>8.0</td>\n",
       "      <td>E</td>\n",
       "      <td>32.77</td>\n",
       "    </tr>\n",
       "    <tr>\n",
       "      <th>4</th>\n",
       "      <td>Pokemon Red/Pokemon Blue</td>\n",
       "      <td>GB</td>\n",
       "      <td>1996</td>\n",
       "      <td>Role-Playing</td>\n",
       "      <td>11.27</td>\n",
       "      <td>8.89</td>\n",
       "      <td>10.22</td>\n",
       "      <td>1.00</td>\n",
       "      <td>69</td>\n",
       "      <td>7.1</td>\n",
       "      <td>no_rating</td>\n",
       "      <td>31.38</td>\n",
       "    </tr>\n",
       "  </tbody>\n",
       "</table>\n",
       "</div>"
      ],
      "text/plain": [
       "                       name platform  year_of_release         genre  na_sales  \\\n",
       "0                Wii Sports      Wii             2006        Sports     41.36   \n",
       "1         Super Mario Bros.      NES             1985      Platform     29.08   \n",
       "2            Mario Kart Wii      Wii             2008        Racing     15.68   \n",
       "3         Wii Sports Resort      Wii             2009        Sports     15.61   \n",
       "4  Pokemon Red/Pokemon Blue       GB             1996  Role-Playing     11.27   \n",
       "\n",
       "   eu_sales  jp_sales  other_sales  critic_score  user_score     rating  \\\n",
       "0     28.96      3.77         8.45            76         8.0          E   \n",
       "1      3.58      6.81         0.77            69         7.1  no_rating   \n",
       "2     12.76      3.79         3.29            82         8.3          E   \n",
       "3     10.93      3.28         2.95            80         8.0          E   \n",
       "4      8.89     10.22         1.00            69         7.1  no_rating   \n",
       "\n",
       "   all_sales  \n",
       "0      82.54  \n",
       "1      40.24  \n",
       "2      35.52  \n",
       "3      32.77  \n",
       "4      31.38  "
      ]
     },
     "execution_count": 22,
     "metadata": {},
     "output_type": "execute_result"
    }
   ],
   "source": [
    "data['all_sales'] = data[['na_sales','eu_sales','jp_sales', 'other_sales']].sum(axis = 1)\n",
    "data.head()"
   ]
  },
  {
   "cell_type": "markdown",
   "metadata": {},
   "source": [
    "# Шаг 3. исследовательский анализ данных"
   ]
  },
  {
   "cell_type": "markdown",
   "metadata": {},
   "source": [
    "#### количество игр вышедших в разные годы\n"
   ]
  },
  {
   "cell_type": "code",
   "execution_count": 23,
   "metadata": {},
   "outputs": [
    {
     "data": {
      "text/plain": [
       "<AxesSubplot:>"
      ]
     },
     "execution_count": 23,
     "metadata": {},
     "output_type": "execute_result"
    },
    {
     "data": {
      "image/png": "[encoded data removed]",
      "text/plain": [
       "<Figure size 792x288 with 1 Axes>"
      ]
     },
     "metadata": {
      "needs_background": "light"
     },
     "output_type": "display_data"
    }
   ],
   "source": [
    "data['year_of_release'].hist(bins=20, range=(1980, 2017),figsize=( 11 , 4 ))"
   ]
  },
  {
   "cell_type": "code",
   "execution_count": 24,
   "metadata": {
    "scrolled": false
   },
   "outputs": [
    {
     "data": {
      "text/plain": [
       "year_of_release\n",
       "1980       9\n",
       "1981      46\n",
       "1982      36\n",
       "1983      17\n",
       "1984      14\n",
       "1985      14\n",
       "1986      21\n",
       "1987      16\n",
       "1988      15\n",
       "1989      17\n",
       "1990      16\n",
       "1991      41\n",
       "1992      43\n",
       "1993      60\n",
       "1994     121\n",
       "1995     219\n",
       "1996     263\n",
       "1997     289\n",
       "1998     379\n",
       "1999     338\n",
       "2000     350\n",
       "2001     482\n",
       "2002     829\n",
       "2003     775\n",
       "2004     762\n",
       "2005     939\n",
       "2006    1006\n",
       "2007    1197\n",
       "2008    1427\n",
       "2009    1426\n",
       "2010    1255\n",
       "2011    1136\n",
       "2012     653\n",
       "2013     544\n",
       "2014     581\n",
       "2015     606\n",
       "2016     502\n",
       "Name: name, dtype: int64"
      ]
     },
     "execution_count": 24,
     "metadata": {},
     "output_type": "execute_result"
    }
   ],
   "source": [
    "data.groupby('year_of_release')['name'] .count()"
   ]
  },
  {
   "cell_type": "code",
   "execution_count": 25,
   "metadata": {},
   "outputs": [],
   "source": [
    "data = data.query('year_of_release > 1995')"
   ]
  },
  {
   "cell_type": "markdown",
   "metadata": {},
   "source": [
    "по данным видно, что игр вышедших раннее 1995 года значительно меньше, чем игр после, поэтому сокращаем исходный массив "
   ]
  },
  {
   "cell_type": "markdown",
   "metadata": {},
   "source": [
    "#### распределение платформ с наибольшими доходами по годам \n"
   ]
  },
  {
   "cell_type": "code",
   "execution_count": 26,
   "metadata": {},
   "outputs": [
    {
     "data": {
      "text/plain": [
       "<AxesSubplot:xlabel='platform'>"
      ]
     },
     "execution_count": 26,
     "metadata": {},
     "output_type": "execute_result"
    },
    {
     "data": {
      "image/png": "[encoded data removed]",
      "text/plain": [
       "<Figure size 1008x288 with 1 Axes>"
      ]
     },
     "metadata": {
      "needs_background": "light"
     },
     "output_type": "display_data"
    }
   ],
   "source": [
    "# находим платформы с наибольшими продажами\n",
    "\n",
    "top_platforms = data.groupby('platform').agg({'all_sales':'sum'}) \\\n",
    "     .sort_values(by = 'all_sales', ascending = False).head(20)\n",
    "top_platforms.plot(kind=\"bar\",figsize=( 14 , 4 ))\n"
   ]
  },
  {
   "cell_type": "code",
   "execution_count": 27,
   "metadata": {},
   "outputs": [
    {
     "data": {
      "text/plain": [
       "['PS2',\n",
       " 'X360',\n",
       " 'PS3',\n",
       " 'Wii',\n",
       " 'DS',\n",
       " 'PS',\n",
       " 'PS4',\n",
       " 'GBA',\n",
       " 'PSP',\n",
       " '3DS',\n",
       " 'XB',\n",
       " 'PC',\n",
       " 'N64',\n",
       " 'GC',\n",
       " 'XOne',\n",
       " 'GB',\n",
       " 'WiiU',\n",
       " 'PSV',\n",
       " 'SAT',\n",
       " 'SNES']"
      ]
     },
     "execution_count": 27,
     "metadata": {},
     "output_type": "execute_result"
    }
   ],
   "source": [
    "#форматируем в список из индексов\n",
    "top_platforms = top_platforms.index.values.tolist ()\n",
    "top_platforms"
   ]
  },
  {
   "cell_type": "code",
   "execution_count": 28,
   "metadata": {},
   "outputs": [
    {
     "data": {
      "text/html": [
       "<div>\n",
       "<style scoped>\n",
       "    .dataframe tbody tr th:only-of-type {\n",
       "        vertical-align: middle;\n",
       "    }\n",
       "\n",
       "    .dataframe tbody tr th {\n",
       "        vertical-align: top;\n",
       "    }\n",
       "\n",
       "    .dataframe thead th {\n",
       "        text-align: right;\n",
       "    }\n",
       "</style>\n",
       "<table border=\"1\" class=\"dataframe\">\n",
       "  <thead>\n",
       "    <tr style=\"text-align: right;\">\n",
       "      <th></th>\n",
       "      <th>name</th>\n",
       "      <th>platform</th>\n",
       "      <th>year_of_release</th>\n",
       "      <th>genre</th>\n",
       "      <th>na_sales</th>\n",
       "      <th>eu_sales</th>\n",
       "      <th>jp_sales</th>\n",
       "      <th>other_sales</th>\n",
       "      <th>critic_score</th>\n",
       "      <th>user_score</th>\n",
       "      <th>rating</th>\n",
       "      <th>all_sales</th>\n",
       "    </tr>\n",
       "  </thead>\n",
       "  <tbody>\n",
       "    <tr>\n",
       "      <th>0</th>\n",
       "      <td>Wii Sports</td>\n",
       "      <td>Wii</td>\n",
       "      <td>2006</td>\n",
       "      <td>Sports</td>\n",
       "      <td>41.36</td>\n",
       "      <td>28.96</td>\n",
       "      <td>3.77</td>\n",
       "      <td>8.45</td>\n",
       "      <td>76</td>\n",
       "      <td>8.0</td>\n",
       "      <td>E</td>\n",
       "      <td>82.54</td>\n",
       "    </tr>\n",
       "    <tr>\n",
       "      <th>2</th>\n",
       "      <td>Mario Kart Wii</td>\n",
       "      <td>Wii</td>\n",
       "      <td>2008</td>\n",
       "      <td>Racing</td>\n",
       "      <td>15.68</td>\n",
       "      <td>12.76</td>\n",
       "      <td>3.79</td>\n",
       "      <td>3.29</td>\n",
       "      <td>82</td>\n",
       "      <td>8.3</td>\n",
       "      <td>E</td>\n",
       "      <td>35.52</td>\n",
       "    </tr>\n",
       "    <tr>\n",
       "      <th>3</th>\n",
       "      <td>Wii Sports Resort</td>\n",
       "      <td>Wii</td>\n",
       "      <td>2009</td>\n",
       "      <td>Sports</td>\n",
       "      <td>15.61</td>\n",
       "      <td>10.93</td>\n",
       "      <td>3.28</td>\n",
       "      <td>2.95</td>\n",
       "      <td>80</td>\n",
       "      <td>8.0</td>\n",
       "      <td>E</td>\n",
       "      <td>32.77</td>\n",
       "    </tr>\n",
       "    <tr>\n",
       "      <th>4</th>\n",
       "      <td>Pokemon Red/Pokemon Blue</td>\n",
       "      <td>GB</td>\n",
       "      <td>1996</td>\n",
       "      <td>Role-Playing</td>\n",
       "      <td>11.27</td>\n",
       "      <td>8.89</td>\n",
       "      <td>10.22</td>\n",
       "      <td>1.00</td>\n",
       "      <td>69</td>\n",
       "      <td>7.1</td>\n",
       "      <td>no_rating</td>\n",
       "      <td>31.38</td>\n",
       "    </tr>\n",
       "    <tr>\n",
       "      <th>6</th>\n",
       "      <td>New Super Mario Bros.</td>\n",
       "      <td>DS</td>\n",
       "      <td>2006</td>\n",
       "      <td>Platform</td>\n",
       "      <td>11.28</td>\n",
       "      <td>9.14</td>\n",
       "      <td>6.50</td>\n",
       "      <td>2.88</td>\n",
       "      <td>89</td>\n",
       "      <td>8.5</td>\n",
       "      <td>E</td>\n",
       "      <td>29.80</td>\n",
       "    </tr>\n",
       "    <tr>\n",
       "      <th>...</th>\n",
       "      <td>...</td>\n",
       "      <td>...</td>\n",
       "      <td>...</td>\n",
       "      <td>...</td>\n",
       "      <td>...</td>\n",
       "      <td>...</td>\n",
       "      <td>...</td>\n",
       "      <td>...</td>\n",
       "      <td>...</td>\n",
       "      <td>...</td>\n",
       "      <td>...</td>\n",
       "      <td>...</td>\n",
       "    </tr>\n",
       "    <tr>\n",
       "      <th>16710</th>\n",
       "      <td>Samurai Warriors: Sanada Maru</td>\n",
       "      <td>PS3</td>\n",
       "      <td>2016</td>\n",
       "      <td>Action</td>\n",
       "      <td>0.00</td>\n",
       "      <td>0.00</td>\n",
       "      <td>0.01</td>\n",
       "      <td>0.00</td>\n",
       "      <td>69</td>\n",
       "      <td>7.1</td>\n",
       "      <td>no_rating</td>\n",
       "      <td>0.01</td>\n",
       "    </tr>\n",
       "    <tr>\n",
       "      <th>16711</th>\n",
       "      <td>LMA Manager 2007</td>\n",
       "      <td>X360</td>\n",
       "      <td>2006</td>\n",
       "      <td>Sports</td>\n",
       "      <td>0.00</td>\n",
       "      <td>0.01</td>\n",
       "      <td>0.00</td>\n",
       "      <td>0.00</td>\n",
       "      <td>69</td>\n",
       "      <td>7.1</td>\n",
       "      <td>no_rating</td>\n",
       "      <td>0.01</td>\n",
       "    </tr>\n",
       "    <tr>\n",
       "      <th>16712</th>\n",
       "      <td>Haitaka no Psychedelica</td>\n",
       "      <td>PSV</td>\n",
       "      <td>2016</td>\n",
       "      <td>Adventure</td>\n",
       "      <td>0.00</td>\n",
       "      <td>0.00</td>\n",
       "      <td>0.01</td>\n",
       "      <td>0.00</td>\n",
       "      <td>69</td>\n",
       "      <td>7.1</td>\n",
       "      <td>no_rating</td>\n",
       "      <td>0.01</td>\n",
       "    </tr>\n",
       "    <tr>\n",
       "      <th>16713</th>\n",
       "      <td>Spirits &amp; Spells</td>\n",
       "      <td>GBA</td>\n",
       "      <td>2003</td>\n",
       "      <td>Platform</td>\n",
       "      <td>0.01</td>\n",
       "      <td>0.00</td>\n",
       "      <td>0.00</td>\n",
       "      <td>0.00</td>\n",
       "      <td>69</td>\n",
       "      <td>7.1</td>\n",
       "      <td>no_rating</td>\n",
       "      <td>0.01</td>\n",
       "    </tr>\n",
       "    <tr>\n",
       "      <th>16714</th>\n",
       "      <td>Winning Post 8 2016</td>\n",
       "      <td>PSV</td>\n",
       "      <td>2016</td>\n",
       "      <td>Simulation</td>\n",
       "      <td>0.00</td>\n",
       "      <td>0.00</td>\n",
       "      <td>0.01</td>\n",
       "      <td>0.00</td>\n",
       "      <td>69</td>\n",
       "      <td>7.1</td>\n",
       "      <td>no_rating</td>\n",
       "      <td>0.01</td>\n",
       "    </tr>\n",
       "  </tbody>\n",
       "</table>\n",
       "<p>15678 rows × 12 columns</p>\n",
       "</div>"
      ],
      "text/plain": [
       "                                name platform  year_of_release         genre  \\\n",
       "0                         Wii Sports      Wii             2006        Sports   \n",
       "2                     Mario Kart Wii      Wii             2008        Racing   \n",
       "3                  Wii Sports Resort      Wii             2009        Sports   \n",
       "4           Pokemon Red/Pokemon Blue       GB             1996  Role-Playing   \n",
       "6              New Super Mario Bros.       DS             2006      Platform   \n",
       "...                              ...      ...              ...           ...   \n",
       "16710  Samurai Warriors: Sanada Maru      PS3             2016        Action   \n",
       "16711               LMA Manager 2007     X360             2006        Sports   \n",
       "16712        Haitaka no Psychedelica      PSV             2016     Adventure   \n",
       "16713               Spirits & Spells      GBA             2003      Platform   \n",
       "16714            Winning Post 8 2016      PSV             2016    Simulation   \n",
       "\n",
       "       na_sales  eu_sales  jp_sales  other_sales  critic_score  user_score  \\\n",
       "0         41.36     28.96      3.77         8.45            76         8.0   \n",
       "2         15.68     12.76      3.79         3.29            82         8.3   \n",
       "3         15.61     10.93      3.28         2.95            80         8.0   \n",
       "4         11.27      8.89     10.22         1.00            69         7.1   \n",
       "6         11.28      9.14      6.50         2.88            89         8.5   \n",
       "...         ...       ...       ...          ...           ...         ...   \n",
       "16710      0.00      0.00      0.01         0.00            69         7.1   \n",
       "16711      0.00      0.01      0.00         0.00            69         7.1   \n",
       "16712      0.00      0.00      0.01         0.00            69         7.1   \n",
       "16713      0.01      0.00      0.00         0.00            69         7.1   \n",
       "16714      0.00      0.00      0.01         0.00            69         7.1   \n",
       "\n",
       "          rating  all_sales  \n",
       "0              E      82.54  \n",
       "2              E      35.52  \n",
       "3              E      32.77  \n",
       "4      no_rating      31.38  \n",
       "6              E      29.80  \n",
       "...          ...        ...  \n",
       "16710  no_rating       0.01  \n",
       "16711  no_rating       0.01  \n",
       "16712  no_rating       0.01  \n",
       "16713  no_rating       0.01  \n",
       "16714  no_rating       0.01  \n",
       "\n",
       "[15678 rows x 12 columns]"
      ]
     },
     "execution_count": 28,
     "metadata": {},
     "output_type": "execute_result"
    }
   ],
   "source": [
    "#создаем df с платформами из топ 20 по продажам\n",
    "data_top = data.loc[data['platform'].isin(top_platforms)]\n",
    "data_top"
   ]
  },
  {
   "cell_type": "code",
   "execution_count": 29,
   "metadata": {},
   "outputs": [
    {
     "data": {
      "text/plain": [
       "<AxesSubplot:title={'center':'Распределения топ 20 платформ с их общим заработком по годам'}, xlabel='year_of_release'>"
      ]
     },
     "execution_count": 29,
     "metadata": {},
     "output_type": "execute_result"
    },
    {
     "data": {
      "image/png": "[encoded data removed]",
      "text/plain": [
       "<Figure size 1152x720 with 1 Axes>"
      ]
     },
     "metadata": {
      "needs_background": "light"
     },
     "output_type": "display_data"
    }
   ],
   "source": [
    "#строим график распределения топ 20 платформ с их общим заработком по годам\n",
    "pd.pivot_table(data_top,\n",
    "    index=['year_of_release'],\n",
    "    values=['all_sales'],\n",
    "    columns=['platform'],\n",
    "    aggfunc='sum').plot(figsize=(16, 10), title = 'Распределения топ 20 платформ с их общим заработком по годам')"
   ]
  },
  {
   "cell_type": "markdown",
   "metadata": {},
   "source": [
    "по граффику видно:\n",
    "- некоторые платформы, которые стоят в топ 20 уже не актуальны, и последние 5-10 лет не приносят прибыли\n",
    "- в среднем, в каждые 5 лет появляется новая платформа, за первые 2 года она доходит до пика продаж, а далее понисходящей \n"
   ]
  },
  {
   "cell_type": "markdown",
   "metadata": {},
   "source": [
    "#### определяем актуальный период с 2013 года включительно "
   ]
  },
  {
   "cell_type": "code",
   "execution_count": 30,
   "metadata": {},
   "outputs": [
    {
     "data": {
      "text/html": [
       "<div>\n",
       "<style scoped>\n",
       "    .dataframe tbody tr th:only-of-type {\n",
       "        vertical-align: middle;\n",
       "    }\n",
       "\n",
       "    .dataframe tbody tr th {\n",
       "        vertical-align: top;\n",
       "    }\n",
       "\n",
       "    .dataframe thead th {\n",
       "        text-align: right;\n",
       "    }\n",
       "</style>\n",
       "<table border=\"1\" class=\"dataframe\">\n",
       "  <thead>\n",
       "    <tr style=\"text-align: right;\">\n",
       "      <th></th>\n",
       "      <th>name</th>\n",
       "      <th>platform</th>\n",
       "      <th>year_of_release</th>\n",
       "      <th>genre</th>\n",
       "      <th>na_sales</th>\n",
       "      <th>eu_sales</th>\n",
       "      <th>jp_sales</th>\n",
       "      <th>other_sales</th>\n",
       "      <th>critic_score</th>\n",
       "      <th>user_score</th>\n",
       "      <th>rating</th>\n",
       "      <th>all_sales</th>\n",
       "    </tr>\n",
       "  </thead>\n",
       "  <tbody>\n",
       "    <tr>\n",
       "      <th>16</th>\n",
       "      <td>Grand Theft Auto V</td>\n",
       "      <td>PS3</td>\n",
       "      <td>2013</td>\n",
       "      <td>Action</td>\n",
       "      <td>7.02</td>\n",
       "      <td>9.09</td>\n",
       "      <td>0.98</td>\n",
       "      <td>3.96</td>\n",
       "      <td>97</td>\n",
       "      <td>8.2</td>\n",
       "      <td>M</td>\n",
       "      <td>21.05</td>\n",
       "    </tr>\n",
       "    <tr>\n",
       "      <th>23</th>\n",
       "      <td>Grand Theft Auto V</td>\n",
       "      <td>X360</td>\n",
       "      <td>2013</td>\n",
       "      <td>Action</td>\n",
       "      <td>9.66</td>\n",
       "      <td>5.14</td>\n",
       "      <td>0.06</td>\n",
       "      <td>1.41</td>\n",
       "      <td>97</td>\n",
       "      <td>8.1</td>\n",
       "      <td>M</td>\n",
       "      <td>16.27</td>\n",
       "    </tr>\n",
       "    <tr>\n",
       "      <th>31</th>\n",
       "      <td>Call of Duty: Black Ops 3</td>\n",
       "      <td>PS4</td>\n",
       "      <td>2015</td>\n",
       "      <td>Shooter</td>\n",
       "      <td>6.03</td>\n",
       "      <td>5.86</td>\n",
       "      <td>0.36</td>\n",
       "      <td>2.38</td>\n",
       "      <td>69</td>\n",
       "      <td>7.1</td>\n",
       "      <td>no_rating</td>\n",
       "      <td>14.63</td>\n",
       "    </tr>\n",
       "    <tr>\n",
       "      <th>33</th>\n",
       "      <td>Pokemon X/Pokemon Y</td>\n",
       "      <td>3DS</td>\n",
       "      <td>2013</td>\n",
       "      <td>Role-Playing</td>\n",
       "      <td>5.28</td>\n",
       "      <td>4.19</td>\n",
       "      <td>4.35</td>\n",
       "      <td>0.78</td>\n",
       "      <td>69</td>\n",
       "      <td>7.1</td>\n",
       "      <td>no_rating</td>\n",
       "      <td>14.60</td>\n",
       "    </tr>\n",
       "    <tr>\n",
       "      <th>42</th>\n",
       "      <td>Grand Theft Auto V</td>\n",
       "      <td>PS4</td>\n",
       "      <td>2014</td>\n",
       "      <td>Action</td>\n",
       "      <td>3.96</td>\n",
       "      <td>6.31</td>\n",
       "      <td>0.38</td>\n",
       "      <td>1.97</td>\n",
       "      <td>97</td>\n",
       "      <td>8.3</td>\n",
       "      <td>M</td>\n",
       "      <td>12.62</td>\n",
       "    </tr>\n",
       "    <tr>\n",
       "      <th>47</th>\n",
       "      <td>Pokemon Omega Ruby/Pokemon Alpha Sapphire</td>\n",
       "      <td>3DS</td>\n",
       "      <td>2014</td>\n",
       "      <td>Role-Playing</td>\n",
       "      <td>4.35</td>\n",
       "      <td>3.49</td>\n",
       "      <td>3.10</td>\n",
       "      <td>0.74</td>\n",
       "      <td>69</td>\n",
       "      <td>7.1</td>\n",
       "      <td>no_rating</td>\n",
       "      <td>11.68</td>\n",
       "    </tr>\n",
       "    <tr>\n",
       "      <th>60</th>\n",
       "      <td>Call of Duty: Ghosts</td>\n",
       "      <td>X360</td>\n",
       "      <td>2013</td>\n",
       "      <td>Shooter</td>\n",
       "      <td>6.73</td>\n",
       "      <td>2.56</td>\n",
       "      <td>0.04</td>\n",
       "      <td>0.91</td>\n",
       "      <td>73</td>\n",
       "      <td>2.6</td>\n",
       "      <td>M</td>\n",
       "      <td>10.24</td>\n",
       "    </tr>\n",
       "    <tr>\n",
       "      <th>69</th>\n",
       "      <td>Call of Duty: Ghosts</td>\n",
       "      <td>PS3</td>\n",
       "      <td>2013</td>\n",
       "      <td>Shooter</td>\n",
       "      <td>4.10</td>\n",
       "      <td>3.63</td>\n",
       "      <td>0.38</td>\n",
       "      <td>1.25</td>\n",
       "      <td>71</td>\n",
       "      <td>2.6</td>\n",
       "      <td>M</td>\n",
       "      <td>9.36</td>\n",
       "    </tr>\n",
       "    <tr>\n",
       "      <th>72</th>\n",
       "      <td>Minecraft</td>\n",
       "      <td>X360</td>\n",
       "      <td>2013</td>\n",
       "      <td>Misc</td>\n",
       "      <td>5.70</td>\n",
       "      <td>2.65</td>\n",
       "      <td>0.02</td>\n",
       "      <td>0.81</td>\n",
       "      <td>69</td>\n",
       "      <td>7.1</td>\n",
       "      <td>no_rating</td>\n",
       "      <td>9.18</td>\n",
       "    </tr>\n",
       "    <tr>\n",
       "      <th>77</th>\n",
       "      <td>FIFA 16</td>\n",
       "      <td>PS4</td>\n",
       "      <td>2015</td>\n",
       "      <td>Sports</td>\n",
       "      <td>1.12</td>\n",
       "      <td>6.12</td>\n",
       "      <td>0.06</td>\n",
       "      <td>1.28</td>\n",
       "      <td>82</td>\n",
       "      <td>4.3</td>\n",
       "      <td>E</td>\n",
       "      <td>8.58</td>\n",
       "    </tr>\n",
       "    <tr>\n",
       "      <th>87</th>\n",
       "      <td>Star Wars Battlefront (2015)</td>\n",
       "      <td>PS4</td>\n",
       "      <td>2015</td>\n",
       "      <td>Shooter</td>\n",
       "      <td>2.99</td>\n",
       "      <td>3.49</td>\n",
       "      <td>0.22</td>\n",
       "      <td>1.28</td>\n",
       "      <td>69</td>\n",
       "      <td>7.1</td>\n",
       "      <td>no_rating</td>\n",
       "      <td>7.98</td>\n",
       "    </tr>\n",
       "    <tr>\n",
       "      <th>92</th>\n",
       "      <td>Call of Duty: Advanced Warfare</td>\n",
       "      <td>PS4</td>\n",
       "      <td>2014</td>\n",
       "      <td>Shooter</td>\n",
       "      <td>2.81</td>\n",
       "      <td>3.48</td>\n",
       "      <td>0.14</td>\n",
       "      <td>1.23</td>\n",
       "      <td>83</td>\n",
       "      <td>5.7</td>\n",
       "      <td>M</td>\n",
       "      <td>7.66</td>\n",
       "    </tr>\n",
       "    <tr>\n",
       "      <th>94</th>\n",
       "      <td>FIFA 17</td>\n",
       "      <td>PS4</td>\n",
       "      <td>2016</td>\n",
       "      <td>Sports</td>\n",
       "      <td>0.66</td>\n",
       "      <td>5.75</td>\n",
       "      <td>0.08</td>\n",
       "      <td>1.11</td>\n",
       "      <td>85</td>\n",
       "      <td>5.0</td>\n",
       "      <td>E</td>\n",
       "      <td>7.60</td>\n",
       "    </tr>\n",
       "    <tr>\n",
       "      <th>96</th>\n",
       "      <td>Super Smash Bros. for Wii U and 3DS</td>\n",
       "      <td>3DS</td>\n",
       "      <td>2014</td>\n",
       "      <td>Fighting</td>\n",
       "      <td>3.27</td>\n",
       "      <td>1.37</td>\n",
       "      <td>2.43</td>\n",
       "      <td>0.48</td>\n",
       "      <td>69</td>\n",
       "      <td>7.1</td>\n",
       "      <td>no_rating</td>\n",
       "      <td>7.55</td>\n",
       "    </tr>\n",
       "    <tr>\n",
       "      <th>99</th>\n",
       "      <td>Call of Duty: Black Ops 3</td>\n",
       "      <td>XOne</td>\n",
       "      <td>2015</td>\n",
       "      <td>Shooter</td>\n",
       "      <td>4.59</td>\n",
       "      <td>2.11</td>\n",
       "      <td>0.01</td>\n",
       "      <td>0.68</td>\n",
       "      <td>69</td>\n",
       "      <td>7.1</td>\n",
       "      <td>no_rating</td>\n",
       "      <td>7.39</td>\n",
       "    </tr>\n",
       "    <tr>\n",
       "      <th>105</th>\n",
       "      <td>Fallout 4</td>\n",
       "      <td>PS4</td>\n",
       "      <td>2015</td>\n",
       "      <td>Role-Playing</td>\n",
       "      <td>2.53</td>\n",
       "      <td>3.27</td>\n",
       "      <td>0.24</td>\n",
       "      <td>1.13</td>\n",
       "      <td>87</td>\n",
       "      <td>6.5</td>\n",
       "      <td>M</td>\n",
       "      <td>7.17</td>\n",
       "    </tr>\n",
       "    <tr>\n",
       "      <th>108</th>\n",
       "      <td>Pokemon Sun/Moon</td>\n",
       "      <td>3DS</td>\n",
       "      <td>2016</td>\n",
       "      <td>Role-Playing</td>\n",
       "      <td>2.98</td>\n",
       "      <td>1.45</td>\n",
       "      <td>2.26</td>\n",
       "      <td>0.45</td>\n",
       "      <td>69</td>\n",
       "      <td>7.1</td>\n",
       "      <td>no_rating</td>\n",
       "      <td>7.14</td>\n",
       "    </tr>\n",
       "    <tr>\n",
       "      <th>110</th>\n",
       "      <td>Mario Kart 8</td>\n",
       "      <td>WiiU</td>\n",
       "      <td>2014</td>\n",
       "      <td>Racing</td>\n",
       "      <td>3.15</td>\n",
       "      <td>2.15</td>\n",
       "      <td>1.28</td>\n",
       "      <td>0.51</td>\n",
       "      <td>88</td>\n",
       "      <td>9.1</td>\n",
       "      <td>E</td>\n",
       "      <td>7.09</td>\n",
       "    </tr>\n",
       "    <tr>\n",
       "      <th>126</th>\n",
       "      <td>FIFA 14</td>\n",
       "      <td>PS3</td>\n",
       "      <td>2013</td>\n",
       "      <td>Sports</td>\n",
       "      <td>0.78</td>\n",
       "      <td>4.24</td>\n",
       "      <td>0.07</td>\n",
       "      <td>1.37</td>\n",
       "      <td>86</td>\n",
       "      <td>4.3</td>\n",
       "      <td>E</td>\n",
       "      <td>6.46</td>\n",
       "    </tr>\n",
       "    <tr>\n",
       "      <th>143</th>\n",
       "      <td>FIFA 15</td>\n",
       "      <td>PS4</td>\n",
       "      <td>2014</td>\n",
       "      <td>Sports</td>\n",
       "      <td>0.80</td>\n",
       "      <td>4.33</td>\n",
       "      <td>0.05</td>\n",
       "      <td>0.90</td>\n",
       "      <td>82</td>\n",
       "      <td>5.7</td>\n",
       "      <td>E</td>\n",
       "      <td>6.08</td>\n",
       "    </tr>\n",
       "  </tbody>\n",
       "</table>\n",
       "</div>"
      ],
      "text/plain": [
       "                                          name platform  year_of_release  \\\n",
       "16                          Grand Theft Auto V      PS3             2013   \n",
       "23                          Grand Theft Auto V     X360             2013   \n",
       "31                   Call of Duty: Black Ops 3      PS4             2015   \n",
       "33                         Pokemon X/Pokemon Y      3DS             2013   \n",
       "42                          Grand Theft Auto V      PS4             2014   \n",
       "47   Pokemon Omega Ruby/Pokemon Alpha Sapphire      3DS             2014   \n",
       "60                        Call of Duty: Ghosts     X360             2013   \n",
       "69                        Call of Duty: Ghosts      PS3             2013   \n",
       "72                                   Minecraft     X360             2013   \n",
       "77                                     FIFA 16      PS4             2015   \n",
       "87                Star Wars Battlefront (2015)      PS4             2015   \n",
       "92              Call of Duty: Advanced Warfare      PS4             2014   \n",
       "94                                     FIFA 17      PS4             2016   \n",
       "96         Super Smash Bros. for Wii U and 3DS      3DS             2014   \n",
       "99                   Call of Duty: Black Ops 3     XOne             2015   \n",
       "105                                  Fallout 4      PS4             2015   \n",
       "108                           Pokemon Sun/Moon      3DS             2016   \n",
       "110                               Mario Kart 8     WiiU             2014   \n",
       "126                                    FIFA 14      PS3             2013   \n",
       "143                                    FIFA 15      PS4             2014   \n",
       "\n",
       "            genre  na_sales  eu_sales  jp_sales  other_sales  critic_score  \\\n",
       "16         Action      7.02      9.09      0.98         3.96            97   \n",
       "23         Action      9.66      5.14      0.06         1.41            97   \n",
       "31        Shooter      6.03      5.86      0.36         2.38            69   \n",
       "33   Role-Playing      5.28      4.19      4.35         0.78            69   \n",
       "42         Action      3.96      6.31      0.38         1.97            97   \n",
       "47   Role-Playing      4.35      3.49      3.10         0.74            69   \n",
       "60        Shooter      6.73      2.56      0.04         0.91            73   \n",
       "69        Shooter      4.10      3.63      0.38         1.25            71   \n",
       "72           Misc      5.70      2.65      0.02         0.81            69   \n",
       "77         Sports      1.12      6.12      0.06         1.28            82   \n",
       "87        Shooter      2.99      3.49      0.22         1.28            69   \n",
       "92        Shooter      2.81      3.48      0.14         1.23            83   \n",
       "94         Sports      0.66      5.75      0.08         1.11            85   \n",
       "96       Fighting      3.27      1.37      2.43         0.48            69   \n",
       "99        Shooter      4.59      2.11      0.01         0.68            69   \n",
       "105  Role-Playing      2.53      3.27      0.24         1.13            87   \n",
       "108  Role-Playing      2.98      1.45      2.26         0.45            69   \n",
       "110        Racing      3.15      2.15      1.28         0.51            88   \n",
       "126        Sports      0.78      4.24      0.07         1.37            86   \n",
       "143        Sports      0.80      4.33      0.05         0.90            82   \n",
       "\n",
       "     user_score     rating  all_sales  \n",
       "16          8.2          M      21.05  \n",
       "23          8.1          M      16.27  \n",
       "31          7.1  no_rating      14.63  \n",
       "33          7.1  no_rating      14.60  \n",
       "42          8.3          M      12.62  \n",
       "47          7.1  no_rating      11.68  \n",
       "60          2.6          M      10.24  \n",
       "69          2.6          M       9.36  \n",
       "72          7.1  no_rating       9.18  \n",
       "77          4.3          E       8.58  \n",
       "87          7.1  no_rating       7.98  \n",
       "92          5.7          M       7.66  \n",
       "94          5.0          E       7.60  \n",
       "96          7.1  no_rating       7.55  \n",
       "99          7.1  no_rating       7.39  \n",
       "105         6.5          M       7.17  \n",
       "108         7.1  no_rating       7.14  \n",
       "110         9.1          E       7.09  \n",
       "126         4.3          E       6.46  \n",
       "143         5.7          E       6.08  "
      ]
     },
     "execution_count": 30,
     "metadata": {},
     "output_type": "execute_result"
    }
   ],
   "source": [
    "# создаем ноный df с актуальными данными с 2013 года, т.к. данные более ранних лет будут не Релевантны для анализа на 2017 год\n",
    "data_actual = data.query('year_of_release > 2012')\n",
    "data_actual.head(20)"
   ]
  },
  {
   "cell_type": "code",
   "execution_count": 31,
   "metadata": {},
   "outputs": [
    {
     "data": {
      "text/plain": [
       "<AxesSubplot:xlabel='year_of_release'>"
      ]
     },
     "execution_count": 31,
     "metadata": {},
     "output_type": "execute_result"
    },
    {
     "data": {
      "image/png": "[encoded data removed]",
      "text/plain": [
       "<Figure size 1152x720 with 1 Axes>"
      ]
     },
     "metadata": {
      "needs_background": "light"
     },
     "output_type": "display_data"
    }
   ],
   "source": [
    "pd.pivot_table(data_actual,\n",
    "    index=['year_of_release'],\n",
    "    values=['all_sales'],\n",
    "    columns=['platform'],\n",
    "    aggfunc='sum').plot(figsize=(16, 10))"
   ]
  },
  {
   "cell_type": "code",
   "execution_count": 32,
   "metadata": {},
   "outputs": [],
   "source": [
    "top_platforms_actual = ['PS4','3DS','XOne']"
   ]
  },
  {
   "cell_type": "markdown",
   "metadata": {},
   "source": [
    "по графику выше видно, что всего две платформы растут, это `PS4` и `XOne`. Остальные платформы либо резко падают (из-за появления более новых аналогов) либо постепенно теряют позиции"
   ]
  },
  {
   "cell_type": "markdown",
   "metadata": {},
   "source": [
    "#### Построение графика «ящик с усами» по глобальным продажам игр в разбивке по платформам "
   ]
  },
  {
   "cell_type": "code",
   "execution_count": 33,
   "metadata": {},
   "outputs": [
    {
     "data": {
      "text/plain": [
       "<AxesSubplot:>"
      ]
     },
     "execution_count": 33,
     "metadata": {},
     "output_type": "execute_result"
    },
    {
     "data": {
      "image/png": "[encoded data removed]",
      "text/plain": [
       "<Figure size 432x288 with 1 Axes>"
      ]
     },
     "metadata": {
      "needs_background": "light"
     },
     "output_type": "display_data"
    }
   ],
   "source": [
    "import matplotlib.pyplot as plt \n",
    "import seaborn as sns\n",
    "plt.ylim(0, 350)\n",
    " \n",
    "\n",
    "data_actual1 = pd.pivot_table(data_actual,\n",
    "    index=['platform'],\n",
    "    values=['all_sales'],\n",
    "    aggfunc='sum')\n",
    "data_actual1.boxplot()"
   ]
  },
  {
   "cell_type": "code",
   "execution_count": 34,
   "metadata": {},
   "outputs": [
    {
     "data": {
      "text/plain": [
       "<AxesSubplot:title={'center':'all_sales'}, xlabel='platform'>"
      ]
     },
     "execution_count": 34,
     "metadata": {},
     "output_type": "execute_result"
    },
    {
     "data": {
      "image/png": "[encoded data removed]",
      "text/plain": [
       "<Figure size 432x288 with 1 Axes>"
      ]
     },
     "metadata": {
      "needs_background": "light"
     },
     "output_type": "display_data"
    }
   ],
   "source": [
    "import seaborn as sns\n",
    "data_actual.loc[data_actual['platform'].isin(top_platforms_actual)].boxplot(column = 'all_sales', by='platform')"
   ]
  },
  {
   "cell_type": "code",
   "execution_count": 35,
   "metadata": {},
   "outputs": [
    {
     "data": {
      "text/plain": [
       "<AxesSubplot:xlabel='platform', ylabel='all_sales'>"
      ]
     },
     "execution_count": 35,
     "metadata": {},
     "output_type": "execute_result"
    },
    {
     "data": {
      "image/png": "[encoded data removed]",
      "text/plain": [
       "<Figure size 432x288 with 1 Axes>"
      ]
     },
     "metadata": {
      "needs_background": "light"
     },
     "output_type": "display_data"
    }
   ],
   "source": [
    "import seaborn as sns\n",
    "sns.boxplot(x='platform', y='all_sales', data=data_actual.loc[data_actual['platform'].isin(top_platforms_actual)])"
   ]
  },
  {
   "cell_type": "code",
   "execution_count": 36,
   "metadata": {},
   "outputs": [
    {
     "data": {
      "text/html": [
       "<div>\n",
       "<style scoped>\n",
       "    .dataframe tbody tr th:only-of-type {\n",
       "        vertical-align: middle;\n",
       "    }\n",
       "\n",
       "    .dataframe tbody tr th {\n",
       "        vertical-align: top;\n",
       "    }\n",
       "\n",
       "    .dataframe thead th {\n",
       "        text-align: right;\n",
       "    }\n",
       "</style>\n",
       "<table border=\"1\" class=\"dataframe\">\n",
       "  <thead>\n",
       "    <tr style=\"text-align: right;\">\n",
       "      <th></th>\n",
       "      <th>all_sales</th>\n",
       "    </tr>\n",
       "  </thead>\n",
       "  <tbody>\n",
       "    <tr>\n",
       "      <th>count</th>\n",
       "      <td>11.000000</td>\n",
       "    </tr>\n",
       "    <tr>\n",
       "      <th>mean</th>\n",
       "      <td>99.153636</td>\n",
       "    </tr>\n",
       "    <tr>\n",
       "      <th>std</th>\n",
       "      <td>97.516096</td>\n",
       "    </tr>\n",
       "    <tr>\n",
       "      <th>min</th>\n",
       "      <td>1.540000</td>\n",
       "    </tr>\n",
       "    <tr>\n",
       "      <th>25%</th>\n",
       "      <td>23.325000</td>\n",
       "    </tr>\n",
       "    <tr>\n",
       "      <th>50%</th>\n",
       "      <td>64.630000</td>\n",
       "    </tr>\n",
       "    <tr>\n",
       "      <th>75%</th>\n",
       "      <td>151.285000</td>\n",
       "    </tr>\n",
       "    <tr>\n",
       "      <th>max</th>\n",
       "      <td>314.140000</td>\n",
       "    </tr>\n",
       "  </tbody>\n",
       "</table>\n",
       "</div>"
      ],
      "text/plain": [
       "        all_sales\n",
       "count   11.000000\n",
       "mean    99.153636\n",
       "std     97.516096\n",
       "min      1.540000\n",
       "25%     23.325000\n",
       "50%     64.630000\n",
       "75%    151.285000\n",
       "max    314.140000"
      ]
     },
     "execution_count": 36,
     "metadata": {},
     "output_type": "execute_result"
    }
   ],
   "source": [
    "data_actual1.describe()"
   ]
  },
  {
   "cell_type": "markdown",
   "metadata": {},
   "source": [
    "по данным выше можно сказать: \n",
    "- средний заработок платформы составляет 99\n",
    "- среднее отклонение 97\n",
    "\n",
    "эти данные дают нам понять, что цены на игры очень сильно варируются, в пределах от 1.5 до 314 долларов"
   ]
  },
  {
   "cell_type": "markdown",
   "metadata": {},
   "source": [
    "#### влияние отзывов пользователей и критиков на продажи внутри платформы `PS4` "
   ]
  },
  {
   "cell_type": "code",
   "execution_count": 37,
   "metadata": {},
   "outputs": [
    {
     "data": {
      "text/plain": [
       "<AxesSubplot:xlabel='all_sales', ylabel='user_score'>"
      ]
     },
     "execution_count": 37,
     "metadata": {},
     "output_type": "execute_result"
    },
    {
     "data": {
      "image/png": "[encoded data removed]",
      "text/plain": [
       "<Figure size 432x288 with 1 Axes>"
      ]
     },
     "metadata": {
      "needs_background": "light"
     },
     "output_type": "display_data"
    }
   ],
   "source": [
    "data_actual.query('platform == \"PS4\"').plot(x='all_sales', y='user_score', kind='scatter')"
   ]
  },
  {
   "cell_type": "code",
   "execution_count": 38,
   "metadata": {},
   "outputs": [
    {
     "data": {
      "text/plain": [
       "-0.03691177084490369"
      ]
     },
     "execution_count": 38,
     "metadata": {},
     "output_type": "execute_result"
    }
   ],
   "source": [
    "data_actual['all_sales'].corr(data_actual['user_score'])"
   ]
  },
  {
   "cell_type": "code",
   "execution_count": 39,
   "metadata": {},
   "outputs": [
    {
     "data": {
      "text/plain": [
       "<AxesSubplot:xlabel='all_sales', ylabel='critic_score'>"
      ]
     },
     "execution_count": 39,
     "metadata": {},
     "output_type": "execute_result"
    },
    {
     "data": {
      "image/png": "[encoded data removed]",
      "text/plain": [
       "<Figure size 432x288 with 1 Axes>"
      ]
     },
     "metadata": {
      "needs_background": "light"
     },
     "output_type": "display_data"
    }
   ],
   "source": [
    "data_actual.query('platform == \"PS4\"').plot(x='all_sales', y='critic_score', kind='scatter')"
   ]
  },
  {
   "cell_type": "code",
   "execution_count": 40,
   "metadata": {},
   "outputs": [
    {
     "data": {
      "text/plain": [
       "0.271467531749726"
      ]
     },
     "execution_count": 40,
     "metadata": {},
     "output_type": "execute_result"
    }
   ],
   "source": [
    "data_actual['all_sales'].corr(data_actual['critic_score'])"
   ]
  },
  {
   "cell_type": "markdown",
   "metadata": {},
   "source": [
    "Согласно корреляциям, прямой связи между рейтингом как критиков так и пользователей - нет. однако на графике можно заметить незначительное увеличение продаж при увеличении оценки."
   ]
  },
  {
   "cell_type": "markdown",
   "metadata": {},
   "source": [
    "#### общее распределение игр по жанрам "
   ]
  },
  {
   "cell_type": "code",
   "execution_count": 41,
   "metadata": {},
   "outputs": [
    {
     "data": {
      "text/plain": [
       "<AxesSubplot:>"
      ]
     },
     "execution_count": 41,
     "metadata": {},
     "output_type": "execute_result"
    },
    {
     "data": {
      "image/png": "[encoded data removed]",
      "text/plain": [
       "<Figure size 792x288 with 1 Axes>"
      ]
     },
     "metadata": {
      "needs_background": "light"
     },
     "output_type": "display_data"
    }
   ],
   "source": [
    "#определяем кол-во игр в каждом жанре\n",
    "data_actual['genre'].hist(bins=200, range=(0, 10),figsize=(11, 4))"
   ]
  },
  {
   "cell_type": "code",
   "execution_count": 42,
   "metadata": {},
   "outputs": [
    {
     "data": {
      "text/plain": [
       "<AxesSubplot:xlabel='genre'>"
      ]
     },
     "execution_count": 42,
     "metadata": {},
     "output_type": "execute_result"
    },
    {
     "data": {
      "image/png": "[encoded data removed]",
      "text/plain": [
       "<Figure size 792x288 with 1 Axes>"
      ]
     },
     "metadata": {
      "needs_background": "light"
     },
     "output_type": "display_data"
    }
   ],
   "source": [
    "#определяем кол-во прожаж по жанру\n",
    "(data_actual\n",
    "    .pivot_table(index='genre', values='all_sales')\n",
    "    .plot( style='o-',figsize=(11, 4),grid = True)\n",
    ")"
   ]
  },
  {
   "cell_type": "code",
   "execution_count": 43,
   "metadata": {},
   "outputs": [
    {
     "data": {
      "text/plain": [
       "<AxesSubplot:xlabel='year_of_release'>"
      ]
     },
     "execution_count": 43,
     "metadata": {},
     "output_type": "execute_result"
    },
    {
     "data": {
      "image/png": "[encoded data removed]",
      "text/plain": [
       "<Figure size 1152x720 with 1 Axes>"
      ]
     },
     "metadata": {
      "needs_background": "light"
     },
     "output_type": "display_data"
    }
   ],
   "source": [
    "#определяем сумму продаж по жанру в распределении по годам\n",
    "pd.pivot_table(data_actual,\n",
    "    index=['year_of_release'],\n",
    "    values=['all_sales'],\n",
    "    columns=['genre'],\n",
    "    aggfunc='sum').plot(figsize=(16, 10))"
   ]
  },
  {
   "cell_type": "code",
   "execution_count": 44,
   "metadata": {},
   "outputs": [
    {
     "data": {
      "text/html": [
       "<div>\n",
       "<style scoped>\n",
       "    .dataframe tbody tr th:only-of-type {\n",
       "        vertical-align: middle;\n",
       "    }\n",
       "\n",
       "    .dataframe tbody tr th {\n",
       "        vertical-align: top;\n",
       "    }\n",
       "\n",
       "    .dataframe thead th {\n",
       "        text-align: right;\n",
       "    }\n",
       "</style>\n",
       "<table border=\"1\" class=\"dataframe\">\n",
       "  <thead>\n",
       "    <tr style=\"text-align: right;\">\n",
       "      <th></th>\n",
       "      <th>all_sales</th>\n",
       "    </tr>\n",
       "    <tr>\n",
       "      <th>genre</th>\n",
       "      <th></th>\n",
       "    </tr>\n",
       "  </thead>\n",
       "  <tbody>\n",
       "    <tr>\n",
       "      <th>Shooter</th>\n",
       "      <td>1.245882</td>\n",
       "    </tr>\n",
       "    <tr>\n",
       "      <th>Sports</th>\n",
       "      <td>0.703972</td>\n",
       "    </tr>\n",
       "    <tr>\n",
       "      <th>Platform</th>\n",
       "      <td>0.576081</td>\n",
       "    </tr>\n",
       "    <tr>\n",
       "      <th>Role-Playing</th>\n",
       "      <td>0.499623</td>\n",
       "    </tr>\n",
       "    <tr>\n",
       "      <th>Racing</th>\n",
       "      <td>0.469294</td>\n",
       "    </tr>\n",
       "    <tr>\n",
       "      <th>Fighting</th>\n",
       "      <td>0.441375</td>\n",
       "    </tr>\n",
       "    <tr>\n",
       "      <th>Action</th>\n",
       "      <td>0.420196</td>\n",
       "    </tr>\n",
       "    <tr>\n",
       "      <th>Misc</th>\n",
       "      <td>0.405290</td>\n",
       "    </tr>\n",
       "    <tr>\n",
       "      <th>Simulation</th>\n",
       "      <td>0.350968</td>\n",
       "    </tr>\n",
       "    <tr>\n",
       "      <th>Puzzle</th>\n",
       "      <td>0.186471</td>\n",
       "    </tr>\n",
       "    <tr>\n",
       "      <th>Strategy</th>\n",
       "      <td>0.180000</td>\n",
       "    </tr>\n",
       "    <tr>\n",
       "      <th>Adventure</th>\n",
       "      <td>0.096490</td>\n",
       "    </tr>\n",
       "  </tbody>\n",
       "</table>\n",
       "</div>"
      ],
      "text/plain": [
       "              all_sales\n",
       "genre                  \n",
       "Shooter        1.245882\n",
       "Sports         0.703972\n",
       "Platform       0.576081\n",
       "Role-Playing   0.499623\n",
       "Racing         0.469294\n",
       "Fighting       0.441375\n",
       "Action         0.420196\n",
       "Misc           0.405290\n",
       "Simulation     0.350968\n",
       "Puzzle         0.186471\n",
       "Strategy       0.180000\n",
       "Adventure      0.096490"
      ]
     },
     "execution_count": 44,
     "metadata": {},
     "output_type": "execute_result"
    }
   ],
   "source": [
    "top_genre = data_actual.groupby('genre').agg({'all_sales':'mean'}) \\\n",
    "     .sort_values(by = 'all_sales', ascending = False).head(20)\n",
    "top_genre"
   ]
  },
  {
   "cell_type": "markdown",
   "metadata": {},
   "source": [
    "последние 3 графика и 1 таблица нам говорят о следующем:\n",
    "- наибольшее количесвто игр выходят в жанре `action`\n",
    "- однако, наибольшее количество продаж у жанра `shooter`\n",
    "- по средней стоимости игры ледирую такие жанры как `shooter`, `Sports`, `Platform`   \n",
    "\n",
    "хоть и самым прибыльным жанром можно назвать `action`, однако если учитывать тот факт, что игр в этом жанре выходит в разы больше, то более дорогом жанром считается `Shooter` "
   ]
  },
  {
   "cell_type": "markdown",
   "metadata": {},
   "source": [
    "# Шаг 4.  портрет пользователя каждого региона"
   ]
  },
  {
   "cell_type": "markdown",
   "metadata": {},
   "source": [
    "### распределение платформ по регионам "
   ]
  },
  {
   "cell_type": "code",
   "execution_count": 45,
   "metadata": {},
   "outputs": [
    {
     "data": {
      "text/plain": [
       "<AxesSubplot:xlabel='platform'>"
      ]
     },
     "execution_count": 45,
     "metadata": {},
     "output_type": "execute_result"
    },
    {
     "data": {
      "image/png": "[encoded data removed]",
      "text/plain": [
       "<Figure size 1008x288 with 1 Axes>"
      ]
     },
     "metadata": {
      "needs_background": "light"
     },
     "output_type": "display_data"
    }
   ],
   "source": [
    "platform = pd.pivot_table(data_actual,\n",
    "               index=['platform'],\n",
    "               values=['na_sales','eu_sales','jp_sales','other_sales'],\n",
    "               aggfunc=['sum'])\n",
    "platform.reset_index(inplace= True )\n",
    "platform.plot(x='platform', kind=\"bar\", figsize=( 14 , 4 ))\n"
   ]
  },
  {
   "cell_type": "markdown",
   "metadata": {},
   "source": [
    "по таблице выше видно:\n",
    "- для Европы топ 5 платформ являются `PS4`, `PS3`, `XOne`, `X360`, `3DS` \n",
    "- для северной Америки топ 5 платформ являются `PS4`, `XOne`, `X360`, `PS3`, `3DS`  \n",
    "- для Японии топ 5 платформ являются `3DS`,`PS3`, `PSV`,`PS4`,`WIIU`\n",
    "- для остальных стран топ 5 платформ являются `PS4`,`PS3`,`XOne`,`X360`, `3DS`\n",
    "\n",
    "`PS4` является топ платформой для всех регионов кроме японии, где лидером по продажам стала `3DS`. А вот `XOne` и `X360`, которые находяться в топ 5 всех стран не представлены в японии. "
   ]
  },
  {
   "cell_type": "markdown",
   "metadata": {},
   "source": [
    "#### Исследование  регионов по жанрам "
   ]
  },
  {
   "cell_type": "code",
   "execution_count": 46,
   "metadata": {},
   "outputs": [
    {
     "data": {
      "text/plain": [
       "<AxesSubplot:xlabel='genre'>"
      ]
     },
     "execution_count": 46,
     "metadata": {},
     "output_type": "execute_result"
    },
    {
     "data": {
      "image/png": "[encoded data removed]",
      "text/plain": [
       "<Figure size 1008x288 with 1 Axes>"
      ]
     },
     "metadata": {
      "needs_background": "light"
     },
     "output_type": "display_data"
    }
   ],
   "source": [
    "genre = pd.pivot_table(data_actual,\n",
    "               index=['genre'],\n",
    "               values=['na_sales','eu_sales','jp_sales','other_sales'],\n",
    "               aggfunc=['sum'])\n",
    "genre.reset_index(inplace= True )\n",
    "genre.plot(x='genre', kind=\"bar\", figsize=( 14 , 4 ))"
   ]
  },
  {
   "cell_type": "markdown",
   "metadata": {},
   "source": [
    "- для Европы топ 5 жанров являются `action`, `shooter`, `sports`, `role-playing`, `racing` \n",
    "- для северной Америки топ 5 жанров являются `action`, `shooter`, `sports`, `role-playing`, `misc`  \n",
    "- для Японии топ 5 жанров являются `role-playing`,`action`, `misc`,`fighting`,`shooter`\n",
    "- для остальных стран топ 5 жанров являются `action`, `shooter`, `sports`, `role-playing`, `misc`\n",
    "\n",
    "по таблице видно, что в европе и северной америке `action`и `shooter` являються хитами, и намного превышают все другие жанры во всех регионах. однако отличие японского рынка видно и тут: если топ 4 жанров во всех регионах одинаковая, то в японии на первом месте `role-playing`, а на третьем `fighting` - который не предтавлен в топе в других регионах."
   ]
  },
  {
   "cell_type": "markdown",
   "metadata": {},
   "source": [
    "### Влияние рейтинга ESRB на продажи "
   ]
  },
  {
   "cell_type": "code",
   "execution_count": 47,
   "metadata": {},
   "outputs": [
    {
     "data": {
      "text/plain": [
       "<AxesSubplot:xlabel='rating'>"
      ]
     },
     "execution_count": 47,
     "metadata": {},
     "output_type": "execute_result"
    },
    {
     "data": {
      "image/png": "[encoded data removed]",
      "text/plain": [
       "<Figure size 1008x288 with 1 Axes>"
      ]
     },
     "metadata": {
      "needs_background": "light"
     },
     "output_type": "display_data"
    }
   ],
   "source": [
    "rating = pd.pivot_table(data_actual,\n",
    "               index=['rating'],\n",
    "               values=['na_sales','eu_sales','jp_sales','other_sales'],\n",
    "               aggfunc=['sum'])\n",
    "rating.reset_index(inplace= True )\n",
    "rating.plot(x='rating', kind=\"bar\", figsize=( 14 , 4 ))"
   ]
  },
  {
   "cell_type": "markdown",
   "metadata": {},
   "source": [
    "по талице выше видно:\n",
    "- в японии и других странах различие в продаже игр с определенным рейтингом не такая большая, в то время как в европе и северной америке игры с рейтингом `M` продаються больше чем в 2 раза\n",
    "\n",
    "- игры без рейтинга по продажам занимают второе место в европе, северной америке и в остальных странах, однако в японии - продаются лучше всего"
   ]
  },
  {
   "cell_type": "markdown",
   "metadata": {},
   "source": [
    "# Шаг 5. Проверька гипотез"
   ]
  },
  {
   "cell_type": "markdown",
   "metadata": {},
   "source": [
    "H₀ - Средние пользовательские рейтинги платформ Xbox One и PC одинаковые\n",
    "\n",
    "H₁ - Средние пользовательские рейтинги платформ Xbox One и PC отличаются \n"
   ]
  },
  {
   "cell_type": "code",
   "execution_count": 48,
   "metadata": {
    "scrolled": false
   },
   "outputs": [
    {
     "name": "stdout",
     "output_type": "stream",
     "text": [
      "p-значение: 0.06009460906916332\n",
      "Не получилось отвергнуть нулевую гипотезу\n"
     ]
    }
   ],
   "source": [
    "from scipy import stats as st\n",
    "import numpy as np\n",
    "\n",
    "\n",
    "sample_XOne = data_actual.loc[data_actual['platform'] == 'XOne', 'user_score']\n",
    "sample_XOne.tolist()\n",
    "\n",
    "sample_PC = data_actual.loc[data_actual['platform'] == 'PC', 'user_score']\n",
    "sample_PC.tolist()\n",
    "\n",
    "alpha = 0.05\n",
    "\n",
    "results = st.ttest_ind(sample_XOne, sample_PC)\n",
    "\n",
    "print('p-значение:', results.pvalue)\n",
    "\n",
    "if results.pvalue < alpha:\n",
    "    print('Отвергаем нулевую гипотезу')\n",
    "else:\n",
    "    print('Не получилось отвергнуть нулевую гипотезу')\n"
   ]
  },
  {
   "cell_type": "code",
   "execution_count": 49,
   "metadata": {},
   "outputs": [
    {
     "name": "stdout",
     "output_type": "stream",
     "text": [
      "p-значение: 0.06009460906916332\n",
      "Отвергаем нулевую гипотезу\n"
     ]
    }
   ],
   "source": [
    "sample_Action = data_actual.loc[data_actual['genre'] == 'Action', 'user_score']\n",
    "sample_Action.tolist()\n",
    "\n",
    "sample_Sports = data_actual.loc[data_actual['genre'] == 'Sports', 'user_score']\n",
    "sample_Sports.tolist()\n",
    "\n",
    "alpha = 0.05\n",
    "\n",
    "results1 = st.ttest_ind(sample_Action, sample_Sports)\n",
    "\n",
    "print('p-значение:', results.pvalue)\n",
    "\n",
    "if results1.pvalue < alpha:\n",
    "    print('Отвергаем нулевую гипотезу')\n",
    "else:\n",
    "    print('Не получилось отвергнуть нулевую гипотезу')\n"
   ]
  },
  {
   "cell_type": "markdown",
   "metadata": {},
   "source": [
    "# общий вывод\n"
   ]
  },
  {
   "cell_type": "markdown",
   "metadata": {},
   "source": [
    "1. после подготовки данных (удаления/заполнения пропусков, привидение данных к нужному типу) был проведен исследовательский анализ\n",
    "\n",
    "- был определен актуальный период, в который определенная платформа набирает свой пик и дальше уступает место более новым аналогам - 5 лет\n",
    "- согласно актуальному периоду, мы расматривали данные с 2013 года включительно, что бы понять какие платформы сейчас на пике и востребованы в индустрии\n",
    "- лидером продаж среди платформ можно назвать `ps4`\n",
    "- среди жанров по продажам выделяються два - `Action` и `Shooter` \n",
    "\n",
    "2. региональные особенности\n",
    "\n",
    "Были изучены 4 региона: `серверная америка`, `европа`, `япония` и `остальные страны`\n",
    "\n",
    "- во всех регионах кроме японии лидерами среди платформ являються `PS4`, `PS3`, `XOne`, `X360`. в японии наибольшую популярность имеет `3DS`. А вот `XOne` и `X360`, которые находяться в топ 5 всех стран, не представлены в японии.\n",
    "\n",
    "- портрет пользователя `серверная америки`, `европы`и `остальных стран` схож - это человек играющий на `ps4` в `Action`\n",
    "- портрет пользователя `японии` - играет на `3DS` в `role-playing` \n",
    "\n",
    "-  рейтинг ESRB влияет на продажи в европе и северной америке: игры с рейтингом `M` продаються больше чем в 2 раза. в остальных регионах сильных различий не найдено\n",
    "- игры без рейтинга по продажам занимают второе место в европе, северной америке и в остальных странах, однако в японии - продаются лучше всего\n",
    "\n",
    "- так же бул проведен анализ равенства средних двух генеральных совокупностей, а именно Средние пользовательские рейтинги платформ Xbox One и PC. - нулевую гепотезу `Средние пользовательские рейтинги платформ Xbox One и PC одинаковые` ну удалось опровергнуть\n",
    "\n"
   ]
  },
  {
   "cell_type": "code",
   "execution_count": null,
   "metadata": {},
   "outputs": [],
   "source": []
  },
  {
   "cell_type": "code",
   "execution_count": null,
   "metadata": {},
   "outputs": [],
   "source": []
  }
 ],
 "metadata": {
  "ExecuteTimeLog": [
   {
    "duration": 856,
    "start_time": "2023-02-21T19:57:34.634Z"
   },
   {
    "duration": 63,
    "start_time": "2023-02-21T19:58:23.458Z"
   },
   {
    "duration": 60,
    "start_time": "2023-02-21T20:09:03.731Z"
   },
   {
    "duration": 3,
    "start_time": "2023-02-21T20:09:54.966Z"
   },
   {
    "duration": 27,
    "start_time": "2023-02-21T20:10:16.917Z"
   },
   {
    "duration": 18,
    "start_time": "2023-02-21T20:10:31.343Z"
   },
   {
    "duration": 15,
    "start_time": "2023-02-21T20:12:10.132Z"
   },
   {
    "duration": 71,
    "start_time": "2023-02-21T20:20:04.973Z"
   },
   {
    "duration": 14,
    "start_time": "2023-02-21T20:20:05.046Z"
   },
   {
    "duration": 15,
    "start_time": "2023-02-21T20:20:06.701Z"
   },
   {
    "duration": 12,
    "start_time": "2023-02-21T20:23:08.225Z"
   },
   {
    "duration": 11,
    "start_time": "2023-02-21T20:24:33.426Z"
   },
   {
    "duration": 17,
    "start_time": "2023-02-21T20:25:45.309Z"
   },
   {
    "duration": 6,
    "start_time": "2023-02-21T20:26:05.843Z"
   },
   {
    "duration": 15,
    "start_time": "2023-02-21T20:26:29.519Z"
   },
   {
    "duration": 20,
    "start_time": "2023-02-21T20:26:39.325Z"
   },
   {
    "duration": 7,
    "start_time": "2023-02-21T20:51:43.769Z"
   },
   {
    "duration": 7,
    "start_time": "2023-02-21T20:52:25.221Z"
   },
   {
    "duration": 5,
    "start_time": "2023-02-21T20:53:37.010Z"
   },
   {
    "duration": 6,
    "start_time": "2023-02-21T20:53:57.238Z"
   },
   {
    "duration": 6,
    "start_time": "2023-02-21T20:54:06.846Z"
   },
   {
    "duration": 45,
    "start_time": "2023-02-22T19:38:38.691Z"
   },
   {
    "duration": 577,
    "start_time": "2023-02-22T19:38:43.259Z"
   },
   {
    "duration": 18,
    "start_time": "2023-02-22T19:38:43.838Z"
   },
   {
    "duration": 6,
    "start_time": "2023-02-22T19:38:46.137Z"
   },
   {
    "duration": 7,
    "start_time": "2023-02-22T19:42:57.135Z"
   },
   {
    "duration": 7,
    "start_time": "2023-02-22T19:44:16.053Z"
   },
   {
    "duration": 6,
    "start_time": "2023-02-22T19:45:55.326Z"
   },
   {
    "duration": 6,
    "start_time": "2023-02-22T19:46:40.390Z"
   },
   {
    "duration": 17,
    "start_time": "2023-02-22T19:55:00.522Z"
   },
   {
    "duration": 33,
    "start_time": "2023-02-22T19:55:27.553Z"
   },
   {
    "duration": 10,
    "start_time": "2023-02-22T20:08:01.310Z"
   },
   {
    "duration": 72,
    "start_time": "2023-02-22T20:08:15.439Z"
   },
   {
    "duration": 15,
    "start_time": "2023-02-22T20:08:15.514Z"
   },
   {
    "duration": 66,
    "start_time": "2023-02-22T20:08:30.736Z"
   },
   {
    "duration": 15,
    "start_time": "2023-02-22T20:08:30.804Z"
   },
   {
    "duration": 4,
    "start_time": "2023-02-22T20:10:09.723Z"
   },
   {
    "duration": 5,
    "start_time": "2023-02-22T20:21:43.080Z"
   },
   {
    "duration": 1137,
    "start_time": "2023-02-22T20:22:54.188Z"
   },
   {
    "duration": 6,
    "start_time": "2023-02-22T20:23:20.739Z"
   },
   {
    "duration": 4,
    "start_time": "2023-02-22T20:25:45.294Z"
   },
   {
    "duration": 14,
    "start_time": "2023-02-22T20:25:51.734Z"
   },
   {
    "duration": 5,
    "start_time": "2023-02-22T20:45:51.103Z"
   },
   {
    "duration": 19,
    "start_time": "2023-02-22T20:48:36.836Z"
   },
   {
    "duration": 605,
    "start_time": "2023-02-22T20:57:17.241Z"
   },
   {
    "duration": 21,
    "start_time": "2023-02-22T20:57:29.763Z"
   },
   {
    "duration": 73,
    "start_time": "2023-02-22T20:57:56.274Z"
   },
   {
    "duration": 13,
    "start_time": "2023-02-22T20:57:56.349Z"
   },
   {
    "duration": 13,
    "start_time": "2023-02-22T20:57:56.363Z"
   },
   {
    "duration": 6,
    "start_time": "2023-02-22T20:57:56.377Z"
   },
   {
    "duration": 27,
    "start_time": "2023-02-22T20:57:56.385Z"
   },
   {
    "duration": 9,
    "start_time": "2023-02-22T20:57:56.414Z"
   },
   {
    "duration": 19,
    "start_time": "2023-02-22T20:57:56.425Z"
   },
   {
    "duration": 0,
    "start_time": "2023-02-22T20:57:56.446Z"
   },
   {
    "duration": 0,
    "start_time": "2023-02-22T20:57:56.447Z"
   },
   {
    "duration": 0,
    "start_time": "2023-02-22T20:57:56.449Z"
   },
   {
    "duration": 0,
    "start_time": "2023-02-22T20:57:56.450Z"
   },
   {
    "duration": 0,
    "start_time": "2023-02-22T20:57:56.451Z"
   },
   {
    "duration": 0,
    "start_time": "2023-02-22T20:57:56.452Z"
   },
   {
    "duration": 6,
    "start_time": "2023-02-22T20:58:01.235Z"
   },
   {
    "duration": 168,
    "start_time": "2023-02-22T20:58:26.187Z"
   },
   {
    "duration": 187,
    "start_time": "2023-02-22T20:58:35.091Z"
   },
   {
    "duration": 223,
    "start_time": "2023-02-22T20:58:41.606Z"
   },
   {
    "duration": 9,
    "start_time": "2023-02-22T21:02:17.546Z"
   },
   {
    "duration": 23,
    "start_time": "2023-02-22T21:02:21.892Z"
   },
   {
    "duration": 19,
    "start_time": "2023-02-22T21:03:09.194Z"
   },
   {
    "duration": 9,
    "start_time": "2023-02-22T21:03:23.634Z"
   },
   {
    "duration": 81,
    "start_time": "2023-02-22T21:03:53.203Z"
   },
   {
    "duration": 14,
    "start_time": "2023-02-22T21:03:53.286Z"
   },
   {
    "duration": 9,
    "start_time": "2023-02-22T21:03:53.302Z"
   },
   {
    "duration": 5,
    "start_time": "2023-02-22T21:03:53.313Z"
   },
   {
    "duration": 7,
    "start_time": "2023-02-22T21:03:53.321Z"
   },
   {
    "duration": 7,
    "start_time": "2023-02-22T21:03:53.330Z"
   },
   {
    "duration": 8,
    "start_time": "2023-02-22T21:03:53.338Z"
   },
   {
    "duration": 45,
    "start_time": "2023-02-22T21:03:53.348Z"
   },
   {
    "duration": 6,
    "start_time": "2023-02-22T21:03:53.395Z"
   },
   {
    "duration": 7,
    "start_time": "2023-02-22T21:03:53.403Z"
   },
   {
    "duration": 6,
    "start_time": "2023-02-22T21:03:53.411Z"
   },
   {
    "duration": 18,
    "start_time": "2023-02-22T21:03:53.419Z"
   },
   {
    "duration": 189,
    "start_time": "2023-02-22T21:03:53.439Z"
   },
   {
    "duration": 8,
    "start_time": "2023-02-22T21:03:53.631Z"
   },
   {
    "duration": 603,
    "start_time": "2023-02-23T17:14:21.185Z"
   },
   {
    "duration": 19,
    "start_time": "2023-02-23T17:14:21.791Z"
   },
   {
    "duration": 9,
    "start_time": "2023-02-23T17:14:21.812Z"
   },
   {
    "duration": 10,
    "start_time": "2023-02-23T17:14:21.822Z"
   },
   {
    "duration": 12,
    "start_time": "2023-02-23T17:14:21.834Z"
   },
   {
    "duration": 101,
    "start_time": "2023-02-23T17:14:40.411Z"
   },
   {
    "duration": 16,
    "start_time": "2023-02-23T17:27:29.888Z"
   },
   {
    "duration": 305,
    "start_time": "2023-02-23T17:28:54.846Z"
   },
   {
    "duration": 302,
    "start_time": "2023-02-23T17:32:55.050Z"
   },
   {
    "duration": 71,
    "start_time": "2023-02-23T17:32:59.783Z"
   },
   {
    "duration": 15,
    "start_time": "2023-02-23T17:32:59.856Z"
   },
   {
    "duration": 15,
    "start_time": "2023-02-23T17:32:59.872Z"
   },
   {
    "duration": 7,
    "start_time": "2023-02-23T17:32:59.889Z"
   },
   {
    "duration": 12,
    "start_time": "2023-02-23T17:32:59.897Z"
   },
   {
    "duration": 16,
    "start_time": "2023-02-23T17:38:46.991Z"
   },
   {
    "duration": 5,
    "start_time": "2023-02-23T17:42:28.787Z"
   },
   {
    "duration": 103,
    "start_time": "2023-02-23T17:56:34.657Z"
   },
   {
    "duration": 13,
    "start_time": "2023-02-23T17:56:41.276Z"
   },
   {
    "duration": 10,
    "start_time": "2023-02-23T17:56:44.976Z"
   },
   {
    "duration": 6,
    "start_time": "2023-02-23T17:56:52.909Z"
   },
   {
    "duration": 92,
    "start_time": "2023-02-23T18:03:06.392Z"
   },
   {
    "duration": 14,
    "start_time": "2023-02-23T18:03:23.240Z"
   },
   {
    "duration": 10,
    "start_time": "2023-02-23T18:05:08.685Z"
   },
   {
    "duration": 13,
    "start_time": "2023-02-23T18:05:34.871Z"
   },
   {
    "duration": 11,
    "start_time": "2023-02-23T18:05:51.591Z"
   },
   {
    "duration": 10,
    "start_time": "2023-02-23T18:06:06.061Z"
   },
   {
    "duration": 99,
    "start_time": "2023-02-23T18:06:10.541Z"
   },
   {
    "duration": 22,
    "start_time": "2023-02-23T18:06:10.644Z"
   },
   {
    "duration": 21,
    "start_time": "2023-02-23T18:06:10.669Z"
   },
   {
    "duration": 5,
    "start_time": "2023-02-23T18:06:10.692Z"
   },
   {
    "duration": 7,
    "start_time": "2023-02-23T18:06:10.699Z"
   },
   {
    "duration": 7,
    "start_time": "2023-02-23T18:06:10.707Z"
   },
   {
    "duration": 11,
    "start_time": "2023-02-23T18:06:12.569Z"
   },
   {
    "duration": 14,
    "start_time": "2023-02-23T18:06:30.566Z"
   },
   {
    "duration": 12,
    "start_time": "2023-02-23T18:06:43.159Z"
   },
   {
    "duration": 74,
    "start_time": "2023-02-23T18:07:00.062Z"
   },
   {
    "duration": 24,
    "start_time": "2023-02-23T18:07:00.138Z"
   },
   {
    "duration": 22,
    "start_time": "2023-02-23T18:07:00.163Z"
   },
   {
    "duration": 51,
    "start_time": "2023-02-23T18:07:00.187Z"
   },
   {
    "duration": 38,
    "start_time": "2023-02-23T18:07:00.240Z"
   },
   {
    "duration": 26,
    "start_time": "2023-02-23T18:07:00.280Z"
   },
   {
    "duration": 11,
    "start_time": "2023-02-23T18:07:02.291Z"
   },
   {
    "duration": 29,
    "start_time": "2023-02-23T18:07:48.364Z"
   },
   {
    "duration": 20,
    "start_time": "2023-02-23T18:08:35.264Z"
   },
   {
    "duration": 5,
    "start_time": "2023-02-23T18:15:35.540Z"
   },
   {
    "duration": 25,
    "start_time": "2023-02-23T18:15:51.255Z"
   },
   {
    "duration": 5,
    "start_time": "2023-02-23T18:16:31.551Z"
   },
   {
    "duration": 6,
    "start_time": "2023-02-23T18:20:15.235Z"
   },
   {
    "duration": 8,
    "start_time": "2023-02-23T18:20:44.238Z"
   },
   {
    "duration": 9,
    "start_time": "2023-02-23T18:20:52.868Z"
   },
   {
    "duration": 13,
    "start_time": "2023-02-23T18:21:06.060Z"
   },
   {
    "duration": 12,
    "start_time": "2023-02-23T18:26:16.668Z"
   },
   {
    "duration": 11,
    "start_time": "2023-02-23T18:26:24.617Z"
   },
   {
    "duration": 73,
    "start_time": "2023-02-23T18:26:33.957Z"
   },
   {
    "duration": 14,
    "start_time": "2023-02-23T18:26:34.032Z"
   },
   {
    "duration": 15,
    "start_time": "2023-02-23T18:26:34.048Z"
   },
   {
    "duration": 9,
    "start_time": "2023-02-23T18:26:34.064Z"
   },
   {
    "duration": 8,
    "start_time": "2023-02-23T18:26:34.075Z"
   },
   {
    "duration": 24,
    "start_time": "2023-02-23T18:26:34.085Z"
   },
   {
    "duration": 17,
    "start_time": "2023-02-23T18:26:34.111Z"
   },
   {
    "duration": 12,
    "start_time": "2023-02-23T18:26:35.995Z"
   },
   {
    "duration": 12,
    "start_time": "2023-02-23T18:26:53.599Z"
   },
   {
    "duration": 72,
    "start_time": "2023-02-23T18:27:04.269Z"
   },
   {
    "duration": 15,
    "start_time": "2023-02-23T18:27:04.344Z"
   },
   {
    "duration": 16,
    "start_time": "2023-02-23T18:27:04.362Z"
   },
   {
    "duration": 6,
    "start_time": "2023-02-23T18:27:04.380Z"
   },
   {
    "duration": 7,
    "start_time": "2023-02-23T18:27:04.388Z"
   },
   {
    "duration": 16,
    "start_time": "2023-02-23T18:27:04.397Z"
   },
   {
    "duration": 34,
    "start_time": "2023-02-23T18:27:04.414Z"
   },
   {
    "duration": 25,
    "start_time": "2023-02-23T18:28:14.774Z"
   },
   {
    "duration": 30,
    "start_time": "2023-02-23T18:28:48.351Z"
   },
   {
    "duration": 19,
    "start_time": "2023-02-23T18:30:45.187Z"
   },
   {
    "duration": 76,
    "start_time": "2023-02-23T18:30:58.586Z"
   },
   {
    "duration": 16,
    "start_time": "2023-02-23T18:30:58.665Z"
   },
   {
    "duration": 18,
    "start_time": "2023-02-23T18:30:58.683Z"
   },
   {
    "duration": 18,
    "start_time": "2023-02-23T18:30:58.702Z"
   },
   {
    "duration": 25,
    "start_time": "2023-02-23T18:30:58.722Z"
   },
   {
    "duration": 22,
    "start_time": "2023-02-23T18:30:58.749Z"
   },
   {
    "duration": 34,
    "start_time": "2023-02-23T18:30:58.773Z"
   },
   {
    "duration": 8,
    "start_time": "2023-02-23T18:31:03.085Z"
   },
   {
    "duration": 25,
    "start_time": "2023-02-23T18:31:09.843Z"
   },
   {
    "duration": 21,
    "start_time": "2023-02-23T18:34:42.700Z"
   },
   {
    "duration": 14,
    "start_time": "2023-02-23T18:35:23.105Z"
   },
   {
    "duration": 10,
    "start_time": "2023-02-23T18:35:27.925Z"
   },
   {
    "duration": 20,
    "start_time": "2023-02-23T18:37:50.341Z"
   },
   {
    "duration": 8,
    "start_time": "2023-02-23T18:37:57.238Z"
   },
   {
    "duration": 17,
    "start_time": "2023-02-23T18:40:27.235Z"
   },
   {
    "duration": 356,
    "start_time": "2023-02-23T20:00:12.205Z"
   },
   {
    "duration": 306,
    "start_time": "2023-02-23T20:00:36.403Z"
   },
   {
    "duration": 11,
    "start_time": "2023-02-23T20:04:30.787Z"
   },
   {
    "duration": 14,
    "start_time": "2023-02-23T20:04:46.890Z"
   },
   {
    "duration": 16,
    "start_time": "2023-02-23T20:07:24.172Z"
   },
   {
    "duration": 12,
    "start_time": "2023-02-23T20:08:11.847Z"
   },
   {
    "duration": 6,
    "start_time": "2023-02-23T20:09:38.708Z"
   },
   {
    "duration": 8,
    "start_time": "2023-02-23T20:09:53.123Z"
   },
   {
    "duration": 72,
    "start_time": "2023-02-23T20:10:03.733Z"
   },
   {
    "duration": 15,
    "start_time": "2023-02-23T20:10:03.808Z"
   },
   {
    "duration": 19,
    "start_time": "2023-02-23T20:10:03.824Z"
   },
   {
    "duration": 6,
    "start_time": "2023-02-23T20:10:03.845Z"
   },
   {
    "duration": 7,
    "start_time": "2023-02-23T20:10:03.852Z"
   },
   {
    "duration": 7,
    "start_time": "2023-02-23T20:10:03.861Z"
   },
   {
    "duration": 13,
    "start_time": "2023-02-23T20:10:03.870Z"
   },
   {
    "duration": 13,
    "start_time": "2023-02-23T20:10:03.885Z"
   },
   {
    "duration": 16,
    "start_time": "2023-02-23T20:10:03.900Z"
   },
   {
    "duration": 6,
    "start_time": "2023-02-23T20:10:03.944Z"
   },
   {
    "duration": 7,
    "start_time": "2023-02-23T20:10:03.952Z"
   },
   {
    "duration": 11,
    "start_time": "2023-02-23T20:10:03.962Z"
   },
   {
    "duration": 24,
    "start_time": "2023-02-23T20:10:03.975Z"
   },
   {
    "duration": 8,
    "start_time": "2023-02-23T20:10:04.002Z"
   },
   {
    "duration": 10,
    "start_time": "2023-02-23T20:10:04.044Z"
   },
   {
    "duration": 7,
    "start_time": "2023-02-23T20:10:04.057Z"
   },
   {
    "duration": 28,
    "start_time": "2023-02-23T20:10:04.066Z"
   },
   {
    "duration": 650,
    "start_time": "2023-02-23T20:10:04.096Z"
   },
   {
    "duration": 9,
    "start_time": "2023-02-23T20:10:04.748Z"
   },
   {
    "duration": 75,
    "start_time": "2023-02-23T20:10:41.588Z"
   },
   {
    "duration": 15,
    "start_time": "2023-02-23T20:10:41.666Z"
   },
   {
    "duration": 14,
    "start_time": "2023-02-23T20:10:41.683Z"
   },
   {
    "duration": 7,
    "start_time": "2023-02-23T20:10:41.699Z"
   },
   {
    "duration": 7,
    "start_time": "2023-02-23T20:10:41.708Z"
   },
   {
    "duration": 39,
    "start_time": "2023-02-23T20:10:41.716Z"
   },
   {
    "duration": 6,
    "start_time": "2023-02-23T20:10:41.757Z"
   },
   {
    "duration": 17,
    "start_time": "2023-02-23T20:10:50.276Z"
   },
   {
    "duration": 9,
    "start_time": "2023-02-23T20:11:00.664Z"
   },
   {
    "duration": 7,
    "start_time": "2023-02-23T20:11:27.442Z"
   },
   {
    "duration": 5,
    "start_time": "2023-02-23T20:11:47.514Z"
   },
   {
    "duration": 88,
    "start_time": "2023-02-23T20:11:54.045Z"
   },
   {
    "duration": 15,
    "start_time": "2023-02-23T20:11:54.136Z"
   },
   {
    "duration": 15,
    "start_time": "2023-02-23T20:11:54.153Z"
   },
   {
    "duration": 5,
    "start_time": "2023-02-23T20:11:54.170Z"
   },
   {
    "duration": 6,
    "start_time": "2023-02-23T20:12:07.479Z"
   },
   {
    "duration": 71,
    "start_time": "2023-02-23T20:12:13.805Z"
   },
   {
    "duration": 15,
    "start_time": "2023-02-23T20:12:13.878Z"
   },
   {
    "duration": 22,
    "start_time": "2023-02-23T20:12:13.895Z"
   },
   {
    "duration": 6,
    "start_time": "2023-02-23T20:12:13.919Z"
   },
   {
    "duration": 74,
    "start_time": "2023-02-23T20:12:17.277Z"
   },
   {
    "duration": 15,
    "start_time": "2023-02-23T20:12:17.353Z"
   },
   {
    "duration": 20,
    "start_time": "2023-02-23T20:12:17.371Z"
   },
   {
    "duration": 6,
    "start_time": "2023-02-23T20:12:17.393Z"
   },
   {
    "duration": 7,
    "start_time": "2023-02-23T20:12:17.401Z"
   },
   {
    "duration": 6,
    "start_time": "2023-02-23T20:12:17.409Z"
   },
   {
    "duration": 34,
    "start_time": "2023-02-23T20:12:17.417Z"
   },
   {
    "duration": 6,
    "start_time": "2023-02-23T20:12:17.453Z"
   },
   {
    "duration": 7,
    "start_time": "2023-02-23T20:12:17.461Z"
   },
   {
    "duration": 6,
    "start_time": "2023-02-23T20:12:17.470Z"
   },
   {
    "duration": 7,
    "start_time": "2023-02-23T20:12:17.477Z"
   },
   {
    "duration": 16,
    "start_time": "2023-02-23T20:12:17.485Z"
   },
   {
    "duration": 43,
    "start_time": "2023-02-23T20:12:17.503Z"
   },
   {
    "duration": 8,
    "start_time": "2023-02-23T20:12:17.549Z"
   },
   {
    "duration": 5,
    "start_time": "2023-02-23T20:12:17.558Z"
   },
   {
    "duration": 17,
    "start_time": "2023-02-23T20:12:17.565Z"
   },
   {
    "duration": 197,
    "start_time": "2023-02-23T20:12:17.584Z"
   },
   {
    "duration": 9,
    "start_time": "2023-02-23T20:12:17.783Z"
   },
   {
    "duration": 5,
    "start_time": "2023-02-23T20:12:30.828Z"
   },
   {
    "duration": 5,
    "start_time": "2023-02-23T20:15:04.470Z"
   },
   {
    "duration": 5,
    "start_time": "2023-02-23T20:15:27.373Z"
   },
   {
    "duration": 8,
    "start_time": "2023-02-23T20:21:55.880Z"
   },
   {
    "duration": 5,
    "start_time": "2023-02-23T20:34:57.674Z"
   },
   {
    "duration": 4,
    "start_time": "2023-02-23T20:36:06.584Z"
   },
   {
    "duration": 30,
    "start_time": "2023-02-23T20:36:23.518Z"
   },
   {
    "duration": 6,
    "start_time": "2023-02-23T20:36:38.859Z"
   },
   {
    "duration": 9,
    "start_time": "2023-02-23T20:45:14.685Z"
   },
   {
    "duration": 8,
    "start_time": "2023-02-23T20:45:48.261Z"
   },
   {
    "duration": 11,
    "start_time": "2023-02-23T20:57:08.746Z"
   },
   {
    "duration": 11,
    "start_time": "2023-02-23T20:57:37.587Z"
   },
   {
    "duration": 71,
    "start_time": "2023-02-23T20:57:41.269Z"
   },
   {
    "duration": 18,
    "start_time": "2023-02-23T20:57:41.343Z"
   },
   {
    "duration": 14,
    "start_time": "2023-02-23T20:57:41.363Z"
   },
   {
    "duration": 10,
    "start_time": "2023-02-23T20:57:41.380Z"
   },
   {
    "duration": 7,
    "start_time": "2023-02-23T20:57:41.393Z"
   },
   {
    "duration": 10,
    "start_time": "2023-02-23T20:57:41.402Z"
   },
   {
    "duration": 54,
    "start_time": "2023-02-23T20:57:41.413Z"
   },
   {
    "duration": 0,
    "start_time": "2023-02-23T20:57:41.469Z"
   },
   {
    "duration": 0,
    "start_time": "2023-02-23T20:57:41.471Z"
   },
   {
    "duration": 0,
    "start_time": "2023-02-23T20:57:41.472Z"
   },
   {
    "duration": 0,
    "start_time": "2023-02-23T20:57:41.474Z"
   },
   {
    "duration": 0,
    "start_time": "2023-02-23T20:57:41.475Z"
   },
   {
    "duration": 0,
    "start_time": "2023-02-23T20:57:41.476Z"
   },
   {
    "duration": 0,
    "start_time": "2023-02-23T20:57:41.478Z"
   },
   {
    "duration": 0,
    "start_time": "2023-02-23T20:57:41.479Z"
   },
   {
    "duration": 0,
    "start_time": "2023-02-23T20:57:41.480Z"
   },
   {
    "duration": 0,
    "start_time": "2023-02-23T20:57:41.481Z"
   },
   {
    "duration": 14,
    "start_time": "2023-02-23T20:57:43.566Z"
   },
   {
    "duration": 93,
    "start_time": "2023-02-23T20:57:53.757Z"
   },
   {
    "duration": 20,
    "start_time": "2023-02-23T20:57:53.852Z"
   },
   {
    "duration": 16,
    "start_time": "2023-02-23T20:57:53.874Z"
   },
   {
    "duration": 9,
    "start_time": "2023-02-23T20:57:53.892Z"
   },
   {
    "duration": 10,
    "start_time": "2023-02-23T20:57:53.904Z"
   },
   {
    "duration": 30,
    "start_time": "2023-02-23T20:57:53.916Z"
   },
   {
    "duration": 14,
    "start_time": "2023-02-23T20:57:53.952Z"
   },
   {
    "duration": 0,
    "start_time": "2023-02-23T20:57:53.968Z"
   },
   {
    "duration": 0,
    "start_time": "2023-02-23T20:57:53.971Z"
   },
   {
    "duration": 0,
    "start_time": "2023-02-23T20:57:53.972Z"
   },
   {
    "duration": 0,
    "start_time": "2023-02-23T20:57:53.973Z"
   },
   {
    "duration": 0,
    "start_time": "2023-02-23T20:57:53.975Z"
   },
   {
    "duration": 0,
    "start_time": "2023-02-23T20:57:53.976Z"
   },
   {
    "duration": 0,
    "start_time": "2023-02-23T20:57:53.977Z"
   },
   {
    "duration": 0,
    "start_time": "2023-02-23T20:57:53.978Z"
   },
   {
    "duration": 0,
    "start_time": "2023-02-23T20:57:53.979Z"
   },
   {
    "duration": 0,
    "start_time": "2023-02-23T20:57:53.980Z"
   },
   {
    "duration": 11,
    "start_time": "2023-02-23T20:57:57.069Z"
   },
   {
    "duration": 6,
    "start_time": "2023-02-23T20:58:39.082Z"
   },
   {
    "duration": 12,
    "start_time": "2023-02-23T20:58:41.146Z"
   },
   {
    "duration": 9,
    "start_time": "2023-02-23T20:59:09.373Z"
   },
   {
    "duration": 6,
    "start_time": "2023-02-23T20:59:13.358Z"
   },
   {
    "duration": 7,
    "start_time": "2023-02-23T20:59:15.552Z"
   },
   {
    "duration": 13,
    "start_time": "2023-02-23T20:59:42.858Z"
   },
   {
    "duration": 7,
    "start_time": "2023-02-23T21:00:40.568Z"
   },
   {
    "duration": 17,
    "start_time": "2023-02-23T21:00:48.252Z"
   },
   {
    "duration": 88,
    "start_time": "2023-02-23T21:01:01.033Z"
   },
   {
    "duration": 15,
    "start_time": "2023-02-23T21:01:01.124Z"
   },
   {
    "duration": 47,
    "start_time": "2023-02-23T21:01:01.141Z"
   },
   {
    "duration": 48,
    "start_time": "2023-02-23T21:01:01.189Z"
   },
   {
    "duration": 45,
    "start_time": "2023-02-23T21:01:01.240Z"
   },
   {
    "duration": 97,
    "start_time": "2023-02-23T21:01:08.896Z"
   },
   {
    "duration": 14,
    "start_time": "2023-02-23T21:01:08.996Z"
   },
   {
    "duration": 20,
    "start_time": "2023-02-23T21:01:09.012Z"
   },
   {
    "duration": 15,
    "start_time": "2023-02-23T21:01:09.034Z"
   },
   {
    "duration": 18,
    "start_time": "2023-02-23T21:01:09.052Z"
   },
   {
    "duration": 15,
    "start_time": "2023-02-23T21:01:09.072Z"
   },
   {
    "duration": 17,
    "start_time": "2023-02-23T21:01:11.358Z"
   },
   {
    "duration": 8,
    "start_time": "2023-02-23T21:01:35.469Z"
   },
   {
    "duration": 13,
    "start_time": "2023-02-23T21:01:51.712Z"
   },
   {
    "duration": 78,
    "start_time": "2023-02-23T21:03:10.028Z"
   },
   {
    "duration": 16,
    "start_time": "2023-02-23T21:03:10.108Z"
   },
   {
    "duration": 20,
    "start_time": "2023-02-23T21:03:10.126Z"
   },
   {
    "duration": 11,
    "start_time": "2023-02-23T21:03:10.149Z"
   },
   {
    "duration": 7,
    "start_time": "2023-02-23T21:03:10.162Z"
   },
   {
    "duration": 20,
    "start_time": "2023-02-23T21:03:10.171Z"
   },
   {
    "duration": 18,
    "start_time": "2023-02-23T21:03:10.193Z"
   },
   {
    "duration": 0,
    "start_time": "2023-02-23T21:03:10.214Z"
   },
   {
    "duration": 0,
    "start_time": "2023-02-23T21:03:10.245Z"
   },
   {
    "duration": 0,
    "start_time": "2023-02-23T21:03:10.246Z"
   },
   {
    "duration": 0,
    "start_time": "2023-02-23T21:03:10.248Z"
   },
   {
    "duration": 0,
    "start_time": "2023-02-23T21:03:10.249Z"
   },
   {
    "duration": 0,
    "start_time": "2023-02-23T21:03:10.250Z"
   },
   {
    "duration": 0,
    "start_time": "2023-02-23T21:03:10.251Z"
   },
   {
    "duration": 0,
    "start_time": "2023-02-23T21:03:10.252Z"
   },
   {
    "duration": 0,
    "start_time": "2023-02-23T21:03:10.253Z"
   },
   {
    "duration": 0,
    "start_time": "2023-02-23T21:03:10.255Z"
   },
   {
    "duration": 0,
    "start_time": "2023-02-23T21:03:10.256Z"
   },
   {
    "duration": 0,
    "start_time": "2023-02-23T21:03:10.257Z"
   },
   {
    "duration": 0,
    "start_time": "2023-02-23T21:03:10.258Z"
   },
   {
    "duration": 0,
    "start_time": "2023-02-23T21:03:10.259Z"
   },
   {
    "duration": 80,
    "start_time": "2023-02-23T21:03:17.839Z"
   },
   {
    "duration": 16,
    "start_time": "2023-02-23T21:03:17.923Z"
   },
   {
    "duration": 16,
    "start_time": "2023-02-23T21:03:17.941Z"
   },
   {
    "duration": 8,
    "start_time": "2023-02-23T21:03:17.959Z"
   },
   {
    "duration": 6,
    "start_time": "2023-02-23T21:03:17.970Z"
   },
   {
    "duration": 15,
    "start_time": "2023-02-23T21:03:17.977Z"
   },
   {
    "duration": 12,
    "start_time": "2023-02-23T21:03:17.995Z"
   },
   {
    "duration": 0,
    "start_time": "2023-02-23T21:03:18.009Z"
   },
   {
    "duration": 0,
    "start_time": "2023-02-23T21:03:18.011Z"
   },
   {
    "duration": 0,
    "start_time": "2023-02-23T21:03:18.012Z"
   },
   {
    "duration": 0,
    "start_time": "2023-02-23T21:03:18.045Z"
   },
   {
    "duration": 0,
    "start_time": "2023-02-23T21:03:18.047Z"
   },
   {
    "duration": 0,
    "start_time": "2023-02-23T21:03:18.048Z"
   },
   {
    "duration": 0,
    "start_time": "2023-02-23T21:03:18.049Z"
   },
   {
    "duration": 0,
    "start_time": "2023-02-23T21:03:18.051Z"
   },
   {
    "duration": 0,
    "start_time": "2023-02-23T21:03:18.053Z"
   },
   {
    "duration": 0,
    "start_time": "2023-02-23T21:03:18.054Z"
   },
   {
    "duration": 1,
    "start_time": "2023-02-23T21:03:18.055Z"
   },
   {
    "duration": 0,
    "start_time": "2023-02-23T21:03:18.057Z"
   },
   {
    "duration": 0,
    "start_time": "2023-02-23T21:03:18.058Z"
   },
   {
    "duration": 0,
    "start_time": "2023-02-23T21:03:18.060Z"
   },
   {
    "duration": 74,
    "start_time": "2023-02-23T21:03:27.975Z"
   },
   {
    "duration": 23,
    "start_time": "2023-02-23T21:03:28.052Z"
   },
   {
    "duration": 30,
    "start_time": "2023-02-23T21:03:28.077Z"
   },
   {
    "duration": 20,
    "start_time": "2023-02-23T21:03:28.110Z"
   },
   {
    "duration": 16,
    "start_time": "2023-02-23T21:03:28.134Z"
   },
   {
    "duration": 21,
    "start_time": "2023-02-23T21:03:28.152Z"
   },
   {
    "duration": 27,
    "start_time": "2023-02-23T21:03:28.175Z"
   },
   {
    "duration": 0,
    "start_time": "2023-02-23T21:03:28.204Z"
   },
   {
    "duration": 0,
    "start_time": "2023-02-23T21:03:28.207Z"
   },
   {
    "duration": 0,
    "start_time": "2023-02-23T21:03:28.208Z"
   },
   {
    "duration": 0,
    "start_time": "2023-02-23T21:03:28.209Z"
   },
   {
    "duration": 0,
    "start_time": "2023-02-23T21:03:28.211Z"
   },
   {
    "duration": 0,
    "start_time": "2023-02-23T21:03:28.212Z"
   },
   {
    "duration": 0,
    "start_time": "2023-02-23T21:03:28.214Z"
   },
   {
    "duration": 0,
    "start_time": "2023-02-23T21:03:28.215Z"
   },
   {
    "duration": 0,
    "start_time": "2023-02-23T21:03:28.217Z"
   },
   {
    "duration": 0,
    "start_time": "2023-02-23T21:03:28.218Z"
   },
   {
    "duration": 0,
    "start_time": "2023-02-23T21:03:28.219Z"
   },
   {
    "duration": 0,
    "start_time": "2023-02-23T21:03:28.220Z"
   },
   {
    "duration": 0,
    "start_time": "2023-02-23T21:03:28.221Z"
   },
   {
    "duration": 0,
    "start_time": "2023-02-23T21:03:28.222Z"
   },
   {
    "duration": 5,
    "start_time": "2023-02-23T21:04:16.312Z"
   },
   {
    "duration": 6,
    "start_time": "2023-02-23T21:04:19.026Z"
   },
   {
    "duration": 12,
    "start_time": "2023-02-23T21:04:21.568Z"
   },
   {
    "duration": 6,
    "start_time": "2023-02-23T21:04:24.090Z"
   },
   {
    "duration": 5,
    "start_time": "2023-02-23T21:04:25.977Z"
   },
   {
    "duration": 7,
    "start_time": "2023-02-23T21:04:29.446Z"
   },
   {
    "duration": 7,
    "start_time": "2023-02-23T21:04:32.185Z"
   },
   {
    "duration": 5,
    "start_time": "2023-02-23T21:04:33.952Z"
   },
   {
    "duration": 13,
    "start_time": "2023-02-23T21:05:11.265Z"
   },
   {
    "duration": 11,
    "start_time": "2023-02-23T21:12:43.625Z"
   },
   {
    "duration": 42,
    "start_time": "2023-02-23T21:12:54.969Z"
   },
   {
    "duration": 15,
    "start_time": "2023-02-23T21:12:59.740Z"
   },
   {
    "duration": 11,
    "start_time": "2023-02-23T21:13:02.380Z"
   },
   {
    "duration": 82,
    "start_time": "2023-02-23T21:13:05.154Z"
   },
   {
    "duration": 18,
    "start_time": "2023-02-23T21:13:05.238Z"
   },
   {
    "duration": 34,
    "start_time": "2023-02-23T21:13:05.258Z"
   },
   {
    "duration": 42,
    "start_time": "2023-02-23T21:13:05.295Z"
   },
   {
    "duration": 15,
    "start_time": "2023-02-23T21:13:06.922Z"
   },
   {
    "duration": 40,
    "start_time": "2023-02-23T21:13:44.601Z"
   },
   {
    "duration": 13,
    "start_time": "2023-02-23T21:13:46.368Z"
   },
   {
    "duration": 76,
    "start_time": "2023-02-23T21:13:53.538Z"
   },
   {
    "duration": 16,
    "start_time": "2023-02-23T21:13:53.616Z"
   },
   {
    "duration": 18,
    "start_time": "2023-02-23T21:13:53.634Z"
   },
   {
    "duration": 45,
    "start_time": "2023-02-23T21:13:53.654Z"
   },
   {
    "duration": 17,
    "start_time": "2023-02-23T21:14:07.564Z"
   },
   {
    "duration": 95,
    "start_time": "2023-02-23T21:14:33.554Z"
   },
   {
    "duration": 22,
    "start_time": "2023-02-23T21:14:33.651Z"
   },
   {
    "duration": 35,
    "start_time": "2023-02-23T21:14:33.676Z"
   },
   {
    "duration": 68,
    "start_time": "2023-02-23T21:14:33.714Z"
   },
   {
    "duration": 16,
    "start_time": "2023-02-23T21:14:37.035Z"
   },
   {
    "duration": 18,
    "start_time": "2023-02-23T21:15:05.876Z"
   },
   {
    "duration": 15,
    "start_time": "2023-02-23T21:15:25.668Z"
   },
   {
    "duration": 53,
    "start_time": "2023-02-23T21:15:50.921Z"
   },
   {
    "duration": 43,
    "start_time": "2023-02-23T21:16:05.454Z"
   },
   {
    "duration": 38,
    "start_time": "2023-02-23T21:16:08.490Z"
   },
   {
    "duration": 77,
    "start_time": "2023-02-23T21:16:18.713Z"
   },
   {
    "duration": 22,
    "start_time": "2023-02-23T21:16:18.792Z"
   },
   {
    "duration": 13,
    "start_time": "2023-02-23T21:16:18.816Z"
   },
   {
    "duration": 39,
    "start_time": "2023-02-23T21:16:25.327Z"
   },
   {
    "duration": 81,
    "start_time": "2023-02-23T21:18:49.192Z"
   },
   {
    "duration": 16,
    "start_time": "2023-02-23T21:18:49.275Z"
   },
   {
    "duration": 20,
    "start_time": "2023-02-23T21:18:49.292Z"
   },
   {
    "duration": 58,
    "start_time": "2023-02-23T21:18:49.315Z"
   },
   {
    "duration": 11,
    "start_time": "2023-02-23T21:18:49.377Z"
   },
   {
    "duration": 7,
    "start_time": "2023-02-23T21:18:49.390Z"
   },
   {
    "duration": 38,
    "start_time": "2023-02-23T21:18:49.399Z"
   },
   {
    "duration": 8,
    "start_time": "2023-02-23T21:18:49.446Z"
   },
   {
    "duration": 20,
    "start_time": "2023-02-23T21:18:49.456Z"
   },
   {
    "duration": 17,
    "start_time": "2023-02-23T21:18:49.478Z"
   },
   {
    "duration": 6,
    "start_time": "2023-02-23T21:18:49.497Z"
   },
   {
    "duration": 10,
    "start_time": "2023-02-23T21:18:49.504Z"
   },
   {
    "duration": 30,
    "start_time": "2023-02-23T21:18:49.516Z"
   },
   {
    "duration": 6,
    "start_time": "2023-02-23T21:18:49.550Z"
   },
   {
    "duration": 8,
    "start_time": "2023-02-23T21:18:49.557Z"
   },
   {
    "duration": 8,
    "start_time": "2023-02-23T21:18:49.567Z"
   },
   {
    "duration": 7,
    "start_time": "2023-02-23T21:18:49.578Z"
   },
   {
    "duration": 14,
    "start_time": "2023-02-23T21:18:49.588Z"
   },
   {
    "duration": 25,
    "start_time": "2023-02-23T21:18:49.644Z"
   },
   {
    "duration": 240,
    "start_time": "2023-02-23T21:18:49.671Z"
   },
   {
    "duration": 13,
    "start_time": "2023-02-23T21:18:49.913Z"
   },
   {
    "duration": 59,
    "start_time": "2023-02-23T21:19:45.828Z"
   },
   {
    "duration": 72,
    "start_time": "2023-02-23T21:20:48.656Z"
   },
   {
    "duration": 10,
    "start_time": "2023-02-23T21:20:54.563Z"
   },
   {
    "duration": 16,
    "start_time": "2023-02-23T21:20:57.120Z"
   },
   {
    "duration": 11,
    "start_time": "2023-02-23T21:21:11.603Z"
   },
   {
    "duration": 84,
    "start_time": "2023-02-23T21:21:30.805Z"
   },
   {
    "duration": 17,
    "start_time": "2023-02-23T21:21:30.892Z"
   },
   {
    "duration": 24,
    "start_time": "2023-02-23T21:21:30.911Z"
   },
   {
    "duration": 57,
    "start_time": "2023-02-23T21:21:33.317Z"
   },
   {
    "duration": 577,
    "start_time": "2023-02-23T21:26:28.239Z"
   },
   {
    "duration": 27,
    "start_time": "2023-02-23T21:26:37.114Z"
   },
   {
    "duration": 12,
    "start_time": "2023-02-23T21:26:39.681Z"
   },
   {
    "duration": 38,
    "start_time": "2023-02-23T21:26:42.800Z"
   },
   {
    "duration": 6,
    "start_time": "2023-02-23T21:26:59.394Z"
   },
   {
    "duration": 5,
    "start_time": "2023-02-23T21:29:24.700Z"
   },
   {
    "duration": 7,
    "start_time": "2023-02-23T21:29:36.474Z"
   },
   {
    "duration": 5,
    "start_time": "2023-02-23T21:29:43.677Z"
   },
   {
    "duration": 15,
    "start_time": "2023-02-23T21:30:22.116Z"
   },
   {
    "duration": 20,
    "start_time": "2023-02-23T21:30:39.440Z"
   },
   {
    "duration": 113,
    "start_time": "2023-02-23T21:30:50.582Z"
   },
   {
    "duration": 21,
    "start_time": "2023-02-23T21:30:50.703Z"
   },
   {
    "duration": 20,
    "start_time": "2023-02-23T21:30:53.313Z"
   },
   {
    "duration": 9,
    "start_time": "2023-02-23T21:33:41.118Z"
   },
   {
    "duration": 15,
    "start_time": "2023-02-23T21:33:44.703Z"
   },
   {
    "duration": 80,
    "start_time": "2023-02-23T21:33:52.367Z"
   },
   {
    "duration": 23,
    "start_time": "2023-02-23T21:33:52.450Z"
   },
   {
    "duration": 17,
    "start_time": "2023-02-23T21:33:52.476Z"
   },
   {
    "duration": 16,
    "start_time": "2023-02-23T21:33:52.495Z"
   },
   {
    "duration": 13,
    "start_time": "2023-02-23T21:33:52.514Z"
   },
   {
    "duration": 10,
    "start_time": "2023-02-23T21:33:52.545Z"
   },
   {
    "duration": 30,
    "start_time": "2023-02-23T21:33:52.557Z"
   },
   {
    "duration": 6,
    "start_time": "2023-02-23T21:33:52.588Z"
   },
   {
    "duration": 6,
    "start_time": "2023-02-23T21:33:52.596Z"
   },
   {
    "duration": 17,
    "start_time": "2023-02-23T21:33:52.604Z"
   },
   {
    "duration": 31,
    "start_time": "2023-02-23T21:33:52.623Z"
   },
   {
    "duration": 25,
    "start_time": "2023-02-23T21:33:52.656Z"
   },
   {
    "duration": 13,
    "start_time": "2023-02-23T21:33:52.683Z"
   },
   {
    "duration": 9,
    "start_time": "2023-02-23T21:33:52.699Z"
   },
   {
    "duration": 6,
    "start_time": "2023-02-23T21:33:52.709Z"
   },
   {
    "duration": 10,
    "start_time": "2023-02-23T21:33:52.717Z"
   },
   {
    "duration": 43,
    "start_time": "2023-02-23T21:33:52.730Z"
   },
   {
    "duration": 12,
    "start_time": "2023-02-23T21:33:52.775Z"
   },
   {
    "duration": 25,
    "start_time": "2023-02-23T21:33:52.790Z"
   },
   {
    "duration": 496,
    "start_time": "2023-02-23T21:33:52.817Z"
   },
   {
    "duration": 9,
    "start_time": "2023-02-23T21:33:53.316Z"
   },
   {
    "duration": 13,
    "start_time": "2023-02-23T21:35:05.023Z"
   },
   {
    "duration": 81,
    "start_time": "2023-02-23T21:35:11.281Z"
   },
   {
    "duration": 20,
    "start_time": "2023-02-23T21:35:11.365Z"
   },
   {
    "duration": 11,
    "start_time": "2023-02-23T21:35:11.387Z"
   },
   {
    "duration": 24,
    "start_time": "2023-02-23T21:35:19.062Z"
   },
   {
    "duration": 12,
    "start_time": "2023-02-23T21:35:44.781Z"
   },
   {
    "duration": 13,
    "start_time": "2023-02-23T21:35:46.561Z"
   },
   {
    "duration": 84,
    "start_time": "2023-02-23T21:35:49.298Z"
   },
   {
    "duration": 14,
    "start_time": "2023-02-23T21:35:49.385Z"
   },
   {
    "duration": 13,
    "start_time": "2023-02-23T21:35:49.401Z"
   },
   {
    "duration": 11,
    "start_time": "2023-02-23T21:35:50.920Z"
   },
   {
    "duration": 11,
    "start_time": "2023-02-23T21:38:49.113Z"
   },
   {
    "duration": 16,
    "start_time": "2023-02-23T21:38:51.564Z"
   },
   {
    "duration": 12,
    "start_time": "2023-02-23T21:38:55.620Z"
   },
   {
    "duration": 10,
    "start_time": "2023-02-23T21:38:59.724Z"
   },
   {
    "duration": 15,
    "start_time": "2023-02-23T21:39:07.754Z"
   },
   {
    "duration": 84,
    "start_time": "2023-02-23T21:39:23.091Z"
   },
   {
    "duration": 18,
    "start_time": "2023-02-23T21:39:28.933Z"
   },
   {
    "duration": 10,
    "start_time": "2023-02-23T21:39:31.032Z"
   },
   {
    "duration": 15,
    "start_time": "2023-02-23T21:39:33.176Z"
   },
   {
    "duration": 99,
    "start_time": "2023-02-23T21:44:39.723Z"
   },
   {
    "duration": 108,
    "start_time": "2023-02-23T21:45:08.208Z"
   },
   {
    "duration": 17,
    "start_time": "2023-02-23T21:45:12.691Z"
   },
   {
    "duration": 27,
    "start_time": "2023-02-23T21:45:33.998Z"
   },
   {
    "duration": 27,
    "start_time": "2023-02-23T21:45:35.771Z"
   },
   {
    "duration": 71,
    "start_time": "2023-02-23T21:45:38.662Z"
   },
   {
    "duration": 19,
    "start_time": "2023-02-23T21:45:38.735Z"
   },
   {
    "duration": 19,
    "start_time": "2023-02-23T21:45:38.755Z"
   },
   {
    "duration": 44,
    "start_time": "2023-02-23T21:45:40.361Z"
   },
   {
    "duration": 6,
    "start_time": "2023-02-23T21:46:06.966Z"
   },
   {
    "duration": 8,
    "start_time": "2023-02-23T21:47:59.690Z"
   },
   {
    "duration": 20,
    "start_time": "2023-02-23T21:48:01.733Z"
   },
   {
    "duration": 13,
    "start_time": "2023-02-23T21:48:08.566Z"
   },
   {
    "duration": 87,
    "start_time": "2023-02-23T21:49:29.402Z"
   },
   {
    "duration": 20,
    "start_time": "2023-02-23T21:49:29.491Z"
   },
   {
    "duration": 15,
    "start_time": "2023-02-23T21:49:29.513Z"
   },
   {
    "duration": 27,
    "start_time": "2023-02-23T21:49:29.530Z"
   },
   {
    "duration": 21,
    "start_time": "2023-02-23T21:49:29.559Z"
   },
   {
    "duration": 23,
    "start_time": "2023-02-23T21:49:29.582Z"
   },
   {
    "duration": 22,
    "start_time": "2023-02-23T21:49:29.607Z"
   },
   {
    "duration": 6,
    "start_time": "2023-02-23T21:49:29.631Z"
   },
   {
    "duration": 18,
    "start_time": "2023-02-23T21:49:29.639Z"
   },
   {
    "duration": 24,
    "start_time": "2023-02-23T21:49:29.659Z"
   },
   {
    "duration": 5,
    "start_time": "2023-02-23T21:49:29.685Z"
   },
   {
    "duration": 9,
    "start_time": "2023-02-23T21:49:29.693Z"
   },
   {
    "duration": 16,
    "start_time": "2023-02-23T21:49:29.703Z"
   },
   {
    "duration": 9,
    "start_time": "2023-02-23T21:49:29.721Z"
   },
   {
    "duration": 16,
    "start_time": "2023-02-23T21:49:29.732Z"
   },
   {
    "duration": 14,
    "start_time": "2023-02-23T21:49:29.751Z"
   },
   {
    "duration": 9,
    "start_time": "2023-02-23T21:49:29.768Z"
   },
   {
    "duration": 16,
    "start_time": "2023-02-23T21:49:29.779Z"
   },
   {
    "duration": 23,
    "start_time": "2023-02-23T21:49:29.797Z"
   },
   {
    "duration": 209,
    "start_time": "2023-02-23T21:49:29.822Z"
   },
   {
    "duration": 30,
    "start_time": "2023-02-23T21:49:30.033Z"
   },
   {
    "duration": 21,
    "start_time": "2023-02-23T21:56:43.299Z"
   },
   {
    "duration": 92,
    "start_time": "2023-02-23T21:57:03.714Z"
   },
   {
    "duration": 21,
    "start_time": "2023-02-23T21:57:03.809Z"
   },
   {
    "duration": 34,
    "start_time": "2023-02-23T21:57:03.833Z"
   },
   {
    "duration": 33,
    "start_time": "2023-02-23T21:57:03.868Z"
   },
   {
    "duration": 18,
    "start_time": "2023-02-23T21:57:03.905Z"
   },
   {
    "duration": 17,
    "start_time": "2023-02-23T21:57:03.926Z"
   },
   {
    "duration": 55,
    "start_time": "2023-02-23T21:57:03.946Z"
   },
   {
    "duration": 7,
    "start_time": "2023-02-23T21:57:04.003Z"
   },
   {
    "duration": 14,
    "start_time": "2023-02-23T21:57:04.012Z"
   },
   {
    "duration": 17,
    "start_time": "2023-02-23T21:57:04.028Z"
   },
   {
    "duration": 4,
    "start_time": "2023-02-23T21:57:04.047Z"
   },
   {
    "duration": 24,
    "start_time": "2023-02-23T21:57:04.055Z"
   },
   {
    "duration": 8,
    "start_time": "2023-02-23T21:57:04.081Z"
   },
   {
    "duration": 13,
    "start_time": "2023-02-23T21:57:04.093Z"
   },
   {
    "duration": 15,
    "start_time": "2023-02-23T21:57:04.108Z"
   },
   {
    "duration": 10,
    "start_time": "2023-02-23T21:57:04.125Z"
   },
   {
    "duration": 12,
    "start_time": "2023-02-23T21:57:04.147Z"
   },
   {
    "duration": 25,
    "start_time": "2023-02-23T21:57:04.161Z"
   },
   {
    "duration": 23,
    "start_time": "2023-02-23T21:57:04.188Z"
   },
   {
    "duration": 236,
    "start_time": "2023-02-23T21:57:04.213Z"
   },
   {
    "duration": 12,
    "start_time": "2023-02-23T21:57:04.452Z"
   },
   {
    "duration": 9,
    "start_time": "2023-02-23T21:59:46.088Z"
   },
   {
    "duration": 10,
    "start_time": "2023-02-23T21:59:47.680Z"
   },
   {
    "duration": 70,
    "start_time": "2023-02-23T21:59:54.680Z"
   },
   {
    "duration": 37,
    "start_time": "2023-02-23T21:59:54.752Z"
   },
   {
    "duration": 12,
    "start_time": "2023-02-23T21:59:54.793Z"
   },
   {
    "duration": 8,
    "start_time": "2023-02-23T21:59:54.807Z"
   },
   {
    "duration": 10,
    "start_time": "2023-02-23T21:59:54.816Z"
   },
   {
    "duration": 23,
    "start_time": "2023-02-23T21:59:54.828Z"
   },
   {
    "duration": 40,
    "start_time": "2023-02-23T21:59:54.852Z"
   },
   {
    "duration": 5,
    "start_time": "2023-02-23T21:59:54.897Z"
   },
   {
    "duration": 8,
    "start_time": "2023-02-23T21:59:54.903Z"
   },
   {
    "duration": 10,
    "start_time": "2023-02-23T21:59:54.914Z"
   },
   {
    "duration": 5,
    "start_time": "2023-02-23T21:59:54.926Z"
   },
   {
    "duration": 38,
    "start_time": "2023-02-23T21:59:54.945Z"
   },
   {
    "duration": 9,
    "start_time": "2023-02-23T21:59:54.985Z"
   },
   {
    "duration": 11,
    "start_time": "2023-02-23T21:59:54.996Z"
   },
   {
    "duration": 8,
    "start_time": "2023-02-23T21:59:55.009Z"
   },
   {
    "duration": 7,
    "start_time": "2023-02-23T21:59:55.019Z"
   },
   {
    "duration": 8,
    "start_time": "2023-02-23T21:59:55.028Z"
   },
   {
    "duration": 20,
    "start_time": "2023-02-23T21:59:55.037Z"
   },
   {
    "duration": 49,
    "start_time": "2023-02-23T21:59:55.058Z"
   },
   {
    "duration": 190,
    "start_time": "2023-02-23T21:59:55.109Z"
   },
   {
    "duration": 8,
    "start_time": "2023-02-23T21:59:55.301Z"
   },
   {
    "duration": 20,
    "start_time": "2023-02-23T22:04:45.808Z"
   },
   {
    "duration": 13,
    "start_time": "2023-02-23T22:04:55.003Z"
   },
   {
    "duration": 13,
    "start_time": "2023-02-23T22:05:49.521Z"
   },
   {
    "duration": 501,
    "start_time": "2023-02-24T14:29:35.295Z"
   },
   {
    "duration": 16,
    "start_time": "2023-02-24T14:29:35.798Z"
   },
   {
    "duration": 8,
    "start_time": "2023-02-24T14:29:35.816Z"
   },
   {
    "duration": 7,
    "start_time": "2023-02-24T14:29:35.826Z"
   },
   {
    "duration": 17,
    "start_time": "2023-02-24T14:29:35.835Z"
   },
   {
    "duration": 5,
    "start_time": "2023-02-24T14:29:35.853Z"
   },
   {
    "duration": 14,
    "start_time": "2023-02-24T14:29:35.859Z"
   },
   {
    "duration": 22,
    "start_time": "2023-02-24T14:29:35.874Z"
   },
   {
    "duration": 6,
    "start_time": "2023-02-24T14:29:35.897Z"
   },
   {
    "duration": 11,
    "start_time": "2023-02-24T14:29:35.904Z"
   },
   {
    "duration": 4,
    "start_time": "2023-02-24T14:29:35.916Z"
   },
   {
    "duration": 7,
    "start_time": "2023-02-24T14:29:35.921Z"
   },
   {
    "duration": 5,
    "start_time": "2023-02-24T14:29:35.929Z"
   },
   {
    "duration": 4,
    "start_time": "2023-02-24T14:29:35.936Z"
   },
   {
    "duration": 6,
    "start_time": "2023-02-24T14:29:35.941Z"
   },
   {
    "duration": 6,
    "start_time": "2023-02-24T14:29:35.948Z"
   },
   {
    "duration": 5,
    "start_time": "2023-02-24T14:29:35.993Z"
   },
   {
    "duration": 8,
    "start_time": "2023-02-24T14:29:36.000Z"
   },
   {
    "duration": 14,
    "start_time": "2023-02-24T14:29:36.009Z"
   },
   {
    "duration": 494,
    "start_time": "2023-02-24T14:29:36.024Z"
   },
   {
    "duration": 9,
    "start_time": "2023-02-24T14:29:36.520Z"
   },
   {
    "duration": 16,
    "start_time": "2023-02-24T14:29:36.531Z"
   },
   {
    "duration": 10,
    "start_time": "2023-02-24T14:36:19.270Z"
   },
   {
    "duration": 74,
    "start_time": "2023-02-24T15:02:48.625Z"
   },
   {
    "duration": 64,
    "start_time": "2023-02-24T15:03:00.123Z"
   },
   {
    "duration": 60,
    "start_time": "2023-02-24T15:07:41.080Z"
   },
   {
    "duration": 24,
    "start_time": "2023-02-24T15:12:11.599Z"
   },
   {
    "duration": 7,
    "start_time": "2023-02-24T15:12:26.723Z"
   },
   {
    "duration": 56,
    "start_time": "2023-02-24T15:24:50.618Z"
   },
   {
    "duration": 65,
    "start_time": "2023-02-24T15:24:58.073Z"
   },
   {
    "duration": 13,
    "start_time": "2023-02-24T15:24:58.140Z"
   },
   {
    "duration": 11,
    "start_time": "2023-02-24T15:24:58.154Z"
   },
   {
    "duration": 7,
    "start_time": "2023-02-24T15:24:58.166Z"
   },
   {
    "duration": 22,
    "start_time": "2023-02-24T15:24:58.175Z"
   },
   {
    "duration": 4,
    "start_time": "2023-02-24T15:24:58.199Z"
   },
   {
    "duration": 15,
    "start_time": "2023-02-24T15:24:58.204Z"
   },
   {
    "duration": 4,
    "start_time": "2023-02-24T15:24:58.220Z"
   },
   {
    "duration": 6,
    "start_time": "2023-02-24T15:24:58.226Z"
   },
   {
    "duration": 10,
    "start_time": "2023-02-24T15:24:58.234Z"
   },
   {
    "duration": 4,
    "start_time": "2023-02-24T15:24:58.246Z"
   },
   {
    "duration": 5,
    "start_time": "2023-02-24T15:24:58.252Z"
   },
   {
    "duration": 6,
    "start_time": "2023-02-24T15:24:58.294Z"
   },
   {
    "duration": 4,
    "start_time": "2023-02-24T15:24:58.304Z"
   },
   {
    "duration": 4,
    "start_time": "2023-02-24T15:24:58.310Z"
   },
   {
    "duration": 6,
    "start_time": "2023-02-24T15:24:58.316Z"
   },
   {
    "duration": 7,
    "start_time": "2023-02-24T15:24:58.323Z"
   },
   {
    "duration": 17,
    "start_time": "2023-02-24T15:24:58.331Z"
   },
   {
    "duration": 51,
    "start_time": "2023-02-24T15:24:58.349Z"
   },
   {
    "duration": 152,
    "start_time": "2023-02-24T15:24:58.401Z"
   },
   {
    "duration": 7,
    "start_time": "2023-02-24T15:24:58.554Z"
   },
   {
    "duration": 13,
    "start_time": "2023-02-24T15:24:58.562Z"
   },
   {
    "duration": 69,
    "start_time": "2023-02-24T15:24:58.576Z"
   },
   {
    "duration": 43,
    "start_time": "2023-02-24T15:26:56.909Z"
   },
   {
    "duration": 51,
    "start_time": "2023-02-24T15:27:14.254Z"
   },
   {
    "duration": 42,
    "start_time": "2023-02-24T15:27:24.181Z"
   },
   {
    "duration": 48,
    "start_time": "2023-02-24T15:27:37.005Z"
   },
   {
    "duration": 766,
    "start_time": "2023-02-24T15:27:41.291Z"
   },
   {
    "duration": 816,
    "start_time": "2023-02-24T15:28:01.949Z"
   },
   {
    "duration": 537,
    "start_time": "2023-02-24T15:28:38.867Z"
   },
   {
    "duration": 545,
    "start_time": "2023-02-24T15:31:05.986Z"
   },
   {
    "duration": 499,
    "start_time": "2023-02-24T15:44:25.947Z"
   },
   {
    "duration": 534,
    "start_time": "2023-02-24T15:45:12.057Z"
   },
   {
    "duration": 4,
    "start_time": "2023-02-24T15:53:22.148Z"
   },
   {
    "duration": 14,
    "start_time": "2023-02-24T15:53:30.855Z"
   },
   {
    "duration": 61,
    "start_time": "2023-02-24T15:53:34.793Z"
   },
   {
    "duration": 12,
    "start_time": "2023-02-24T15:53:34.856Z"
   },
   {
    "duration": 10,
    "start_time": "2023-02-24T15:53:34.869Z"
   },
   {
    "duration": 8,
    "start_time": "2023-02-24T15:53:34.881Z"
   },
   {
    "duration": 9,
    "start_time": "2023-02-24T15:53:34.893Z"
   },
   {
    "duration": 5,
    "start_time": "2023-02-24T15:53:34.903Z"
   },
   {
    "duration": 13,
    "start_time": "2023-02-24T15:53:34.909Z"
   },
   {
    "duration": 12,
    "start_time": "2023-02-24T15:53:34.924Z"
   },
   {
    "duration": 5,
    "start_time": "2023-02-24T15:53:34.937Z"
   },
   {
    "duration": 6,
    "start_time": "2023-02-24T15:53:34.944Z"
   },
   {
    "duration": 46,
    "start_time": "2023-02-24T15:53:34.951Z"
   },
   {
    "duration": 8,
    "start_time": "2023-02-24T15:53:34.998Z"
   },
   {
    "duration": 8,
    "start_time": "2023-02-24T15:53:35.007Z"
   },
   {
    "duration": 6,
    "start_time": "2023-02-24T15:53:35.017Z"
   },
   {
    "duration": 7,
    "start_time": "2023-02-24T15:53:35.024Z"
   },
   {
    "duration": 6,
    "start_time": "2023-02-24T15:53:35.033Z"
   },
   {
    "duration": 6,
    "start_time": "2023-02-24T15:53:35.040Z"
   },
   {
    "duration": 5,
    "start_time": "2023-02-24T15:53:35.048Z"
   },
   {
    "duration": 7,
    "start_time": "2023-02-24T15:53:35.055Z"
   },
   {
    "duration": 16,
    "start_time": "2023-02-24T15:53:35.093Z"
   },
   {
    "duration": 160,
    "start_time": "2023-02-24T15:53:35.111Z"
   },
   {
    "duration": 8,
    "start_time": "2023-02-24T15:53:35.273Z"
   },
   {
    "duration": 21,
    "start_time": "2023-02-24T15:53:35.282Z"
   },
   {
    "duration": 579,
    "start_time": "2023-02-24T15:53:35.305Z"
   },
   {
    "duration": 17,
    "start_time": "2023-02-24T15:57:31.252Z"
   },
   {
    "duration": 21,
    "start_time": "2023-02-24T15:57:57.973Z"
   },
   {
    "duration": 12,
    "start_time": "2023-02-24T16:14:48.760Z"
   },
   {
    "duration": 21,
    "start_time": "2023-02-24T16:15:30.937Z"
   },
   {
    "duration": 8,
    "start_time": "2023-02-24T16:17:19.325Z"
   },
   {
    "duration": 61,
    "start_time": "2023-02-24T16:17:40.262Z"
   },
   {
    "duration": 14,
    "start_time": "2023-02-24T16:17:40.325Z"
   },
   {
    "duration": 17,
    "start_time": "2023-02-24T16:17:40.341Z"
   },
   {
    "duration": 25,
    "start_time": "2023-02-24T16:17:40.361Z"
   },
   {
    "duration": 12,
    "start_time": "2023-02-24T16:17:40.387Z"
   },
   {
    "duration": 14,
    "start_time": "2023-02-24T16:17:40.400Z"
   },
   {
    "duration": 14,
    "start_time": "2023-02-24T16:17:40.416Z"
   },
   {
    "duration": 29,
    "start_time": "2023-02-24T16:17:40.431Z"
   },
   {
    "duration": 4,
    "start_time": "2023-02-24T16:17:40.462Z"
   },
   {
    "duration": 27,
    "start_time": "2023-02-24T16:17:40.468Z"
   },
   {
    "duration": 19,
    "start_time": "2023-02-24T16:17:40.496Z"
   },
   {
    "duration": 25,
    "start_time": "2023-02-24T16:17:40.517Z"
   },
   {
    "duration": 138,
    "start_time": "2023-02-24T16:17:40.543Z"
   },
   {
    "duration": 45,
    "start_time": "2023-02-24T16:17:40.683Z"
   },
   {
    "duration": 19,
    "start_time": "2023-02-24T16:17:40.730Z"
   },
   {
    "duration": 12,
    "start_time": "2023-02-24T16:17:40.751Z"
   },
   {
    "duration": 23,
    "start_time": "2023-02-24T16:17:40.764Z"
   },
   {
    "duration": 7,
    "start_time": "2023-02-24T16:17:40.789Z"
   },
   {
    "duration": 14,
    "start_time": "2023-02-24T16:17:40.798Z"
   },
   {
    "duration": 19,
    "start_time": "2023-02-24T16:17:40.814Z"
   },
   {
    "duration": 140,
    "start_time": "2023-02-24T16:17:40.834Z"
   },
   {
    "duration": 6,
    "start_time": "2023-02-24T16:17:40.976Z"
   },
   {
    "duration": 12,
    "start_time": "2023-02-24T16:17:40.993Z"
   },
   {
    "duration": 8,
    "start_time": "2023-02-24T16:17:41.006Z"
   },
   {
    "duration": 528,
    "start_time": "2023-02-24T16:17:41.015Z"
   },
   {
    "duration": 19,
    "start_time": "2023-02-24T16:17:41.545Z"
   },
   {
    "duration": 2,
    "start_time": "2023-02-24T16:23:05.509Z"
   },
   {
    "duration": 20,
    "start_time": "2023-02-24T16:23:09.870Z"
   },
   {
    "duration": 8,
    "start_time": "2023-02-24T16:23:35.150Z"
   },
   {
    "duration": 7,
    "start_time": "2023-02-24T16:23:43.045Z"
   },
   {
    "duration": 6,
    "start_time": "2023-02-24T16:23:47.676Z"
   },
   {
    "duration": 8,
    "start_time": "2023-02-24T16:25:05.391Z"
   },
   {
    "duration": 737,
    "start_time": "2023-02-24T16:27:43.770Z"
   },
   {
    "duration": 11,
    "start_time": "2023-02-24T16:27:51.957Z"
   },
   {
    "duration": 9,
    "start_time": "2023-02-24T16:28:49.836Z"
   },
   {
    "duration": 8,
    "start_time": "2023-02-24T16:29:01.565Z"
   },
   {
    "duration": 10,
    "start_time": "2023-02-24T16:29:28.230Z"
   },
   {
    "duration": 12,
    "start_time": "2023-02-24T16:29:39.229Z"
   },
   {
    "duration": 13,
    "start_time": "2023-02-24T16:30:00.347Z"
   },
   {
    "duration": 2,
    "start_time": "2023-02-24T16:31:37.995Z"
   },
   {
    "duration": 4,
    "start_time": "2023-02-24T16:31:46.336Z"
   },
   {
    "duration": 9,
    "start_time": "2023-02-24T16:31:55.991Z"
   },
   {
    "duration": 67,
    "start_time": "2023-02-24T16:32:17.474Z"
   },
   {
    "duration": 15,
    "start_time": "2023-02-24T16:32:17.543Z"
   },
   {
    "duration": 10,
    "start_time": "2023-02-24T16:32:17.559Z"
   },
   {
    "duration": 8,
    "start_time": "2023-02-24T16:32:17.570Z"
   },
   {
    "duration": 11,
    "start_time": "2023-02-24T16:32:17.593Z"
   },
   {
    "duration": 20,
    "start_time": "2023-02-24T16:32:17.605Z"
   },
   {
    "duration": 107,
    "start_time": "2023-02-24T16:32:17.626Z"
   },
   {
    "duration": 22,
    "start_time": "2023-02-24T16:32:17.734Z"
   },
   {
    "duration": 4,
    "start_time": "2023-02-24T16:32:17.758Z"
   },
   {
    "duration": 11,
    "start_time": "2023-02-24T16:32:17.763Z"
   },
   {
    "duration": 13,
    "start_time": "2023-02-24T16:32:17.776Z"
   },
   {
    "duration": 4,
    "start_time": "2023-02-24T16:32:17.790Z"
   },
   {
    "duration": 5,
    "start_time": "2023-02-24T16:32:17.795Z"
   },
   {
    "duration": 9,
    "start_time": "2023-02-24T16:32:17.802Z"
   },
   {
    "duration": 5,
    "start_time": "2023-02-24T16:32:17.812Z"
   },
   {
    "duration": 5,
    "start_time": "2023-02-24T16:32:17.818Z"
   },
   {
    "duration": 6,
    "start_time": "2023-02-24T16:32:17.825Z"
   },
   {
    "duration": 6,
    "start_time": "2023-02-24T16:32:17.832Z"
   },
   {
    "duration": 8,
    "start_time": "2023-02-24T16:32:17.839Z"
   },
   {
    "duration": 46,
    "start_time": "2023-02-24T16:32:17.848Z"
   },
   {
    "duration": 140,
    "start_time": "2023-02-24T16:32:17.896Z"
   },
   {
    "duration": 7,
    "start_time": "2023-02-24T16:32:18.037Z"
   },
   {
    "duration": 12,
    "start_time": "2023-02-24T16:32:18.045Z"
   },
   {
    "duration": 4,
    "start_time": "2023-02-24T16:32:18.058Z"
   },
   {
    "duration": 32,
    "start_time": "2023-02-24T16:32:18.063Z"
   },
   {
    "duration": 520,
    "start_time": "2023-02-24T16:32:18.096Z"
   },
   {
    "duration": 20,
    "start_time": "2023-02-24T16:32:18.618Z"
   },
   {
    "duration": 4,
    "start_time": "2023-02-24T16:32:39.340Z"
   },
   {
    "duration": 21,
    "start_time": "2023-02-24T16:32:42.375Z"
   },
   {
    "duration": 413,
    "start_time": "2023-02-24T16:34:27.629Z"
   },
   {
    "duration": 6,
    "start_time": "2023-02-24T16:38:26.372Z"
   },
   {
    "duration": 11,
    "start_time": "2023-02-24T16:38:26.416Z"
   },
   {
    "duration": 12,
    "start_time": "2023-02-24T16:38:51.364Z"
   },
   {
    "duration": 5,
    "start_time": "2023-02-24T16:39:05.125Z"
   },
   {
    "duration": 23,
    "start_time": "2023-02-24T16:39:09.377Z"
   },
   {
    "duration": 405,
    "start_time": "2023-02-24T16:39:15.029Z"
   },
   {
    "duration": 20,
    "start_time": "2023-02-24T16:48:17.957Z"
   },
   {
    "duration": 387,
    "start_time": "2023-02-24T16:50:32.266Z"
   },
   {
    "duration": 12,
    "start_time": "2023-02-24T17:20:58.598Z"
   },
   {
    "duration": 103,
    "start_time": "2023-02-24T17:21:21.665Z"
   },
   {
    "duration": 94,
    "start_time": "2023-02-24T17:22:19.033Z"
   },
   {
    "duration": 87,
    "start_time": "2023-02-24T17:25:04.445Z"
   },
   {
    "duration": 95,
    "start_time": "2023-02-24T17:25:12.253Z"
   },
   {
    "duration": 86,
    "start_time": "2023-02-24T17:25:19.533Z"
   },
   {
    "duration": 100,
    "start_time": "2023-02-24T17:25:25.079Z"
   },
   {
    "duration": 32,
    "start_time": "2023-02-24T17:30:04.161Z"
   },
   {
    "duration": 118,
    "start_time": "2023-02-24T17:32:50.183Z"
   },
   {
    "duration": 44,
    "start_time": "2023-02-24T17:33:06.165Z"
   },
   {
    "duration": 10,
    "start_time": "2023-02-24T17:33:10.837Z"
   },
   {
    "duration": 25,
    "start_time": "2023-02-24T17:46:18.049Z"
   },
   {
    "duration": 24,
    "start_time": "2023-02-24T17:46:48.519Z"
   },
   {
    "duration": 16,
    "start_time": "2023-02-24T17:46:50.965Z"
   },
   {
    "duration": 23,
    "start_time": "2023-02-24T17:47:00.412Z"
   },
   {
    "duration": 23,
    "start_time": "2023-02-24T17:50:24.951Z"
   },
   {
    "duration": 60,
    "start_time": "2023-02-24T17:51:25.605Z"
   },
   {
    "duration": 20,
    "start_time": "2023-02-24T17:51:32.997Z"
   },
   {
    "duration": 116,
    "start_time": "2023-02-24T17:53:41.073Z"
   },
   {
    "duration": 117,
    "start_time": "2023-02-24T17:54:16.361Z"
   },
   {
    "duration": 46,
    "start_time": "2023-02-24T17:57:12.788Z"
   },
   {
    "duration": 51,
    "start_time": "2023-02-24T17:57:32.296Z"
   },
   {
    "duration": 42,
    "start_time": "2023-02-24T17:57:54.280Z"
   },
   {
    "duration": 53,
    "start_time": "2023-02-24T17:58:07.297Z"
   },
   {
    "duration": 44,
    "start_time": "2023-02-24T17:58:11.700Z"
   },
   {
    "duration": 49,
    "start_time": "2023-02-24T17:58:19.760Z"
   },
   {
    "duration": 820,
    "start_time": "2023-02-24T17:58:24.385Z"
   },
   {
    "duration": 18,
    "start_time": "2023-02-24T17:58:43.101Z"
   },
   {
    "duration": 46,
    "start_time": "2023-02-24T17:58:54.072Z"
   },
   {
    "duration": 46,
    "start_time": "2023-02-24T17:59:06.216Z"
   },
   {
    "duration": 40,
    "start_time": "2023-02-24T17:59:17.364Z"
   },
   {
    "duration": 14,
    "start_time": "2023-02-24T17:59:21.877Z"
   },
   {
    "duration": 17,
    "start_time": "2023-02-24T17:59:32.293Z"
   },
   {
    "duration": 149,
    "start_time": "2023-02-24T17:59:51.369Z"
   },
   {
    "duration": 18,
    "start_time": "2023-02-24T18:00:33.512Z"
   },
   {
    "duration": 764,
    "start_time": "2023-02-24T18:01:14.153Z"
   },
   {
    "duration": 16,
    "start_time": "2023-02-24T18:01:50.113Z"
   },
   {
    "duration": 10,
    "start_time": "2023-02-24T18:10:51.458Z"
   },
   {
    "duration": 11,
    "start_time": "2023-02-24T18:11:43.796Z"
   },
   {
    "duration": 15,
    "start_time": "2023-02-24T18:13:53.586Z"
   },
   {
    "duration": 17,
    "start_time": "2023-02-24T18:17:22.285Z"
   },
   {
    "duration": 15,
    "start_time": "2023-02-24T18:17:51.049Z"
   },
   {
    "duration": 11,
    "start_time": "2023-02-24T18:17:57.649Z"
   },
   {
    "duration": 10,
    "start_time": "2023-02-24T18:18:03.068Z"
   },
   {
    "duration": 16,
    "start_time": "2023-02-24T18:18:05.840Z"
   },
   {
    "duration": 44,
    "start_time": "2023-02-24T18:20:44.590Z"
   },
   {
    "duration": 41,
    "start_time": "2023-02-24T18:20:49.640Z"
   },
   {
    "duration": 43,
    "start_time": "2023-02-24T18:20:53.145Z"
   },
   {
    "duration": 17,
    "start_time": "2023-02-24T18:21:32.260Z"
   },
   {
    "duration": 130,
    "start_time": "2023-02-24T18:22:13.588Z"
   },
   {
    "duration": 17,
    "start_time": "2023-02-24T18:28:18.940Z"
   },
   {
    "duration": 53,
    "start_time": "2023-02-24T18:45:51.577Z"
   },
   {
    "duration": 791,
    "start_time": "2023-02-24T18:51:45.506Z"
   },
   {
    "duration": 22,
    "start_time": "2023-02-24T18:52:04.898Z"
   },
   {
    "duration": 496,
    "start_time": "2023-02-25T12:10:26.528Z"
   },
   {
    "duration": 19,
    "start_time": "2023-02-25T12:10:27.026Z"
   },
   {
    "duration": 10,
    "start_time": "2023-02-25T12:10:27.047Z"
   },
   {
    "duration": 13,
    "start_time": "2023-02-25T12:10:27.058Z"
   },
   {
    "duration": 14,
    "start_time": "2023-02-25T12:10:27.072Z"
   },
   {
    "duration": 9,
    "start_time": "2023-02-25T12:10:27.088Z"
   },
   {
    "duration": 23,
    "start_time": "2023-02-25T12:10:27.098Z"
   },
   {
    "duration": 14,
    "start_time": "2023-02-25T12:10:27.122Z"
   },
   {
    "duration": 4,
    "start_time": "2023-02-25T12:10:27.137Z"
   },
   {
    "duration": 6,
    "start_time": "2023-02-25T12:10:27.145Z"
   },
   {
    "duration": 50,
    "start_time": "2023-02-25T12:10:27.152Z"
   },
   {
    "duration": 9,
    "start_time": "2023-02-25T12:10:27.204Z"
   },
   {
    "duration": 7,
    "start_time": "2023-02-25T12:10:27.215Z"
   },
   {
    "duration": 7,
    "start_time": "2023-02-25T12:10:27.224Z"
   },
   {
    "duration": 10,
    "start_time": "2023-02-25T12:10:27.233Z"
   },
   {
    "duration": 13,
    "start_time": "2023-02-25T12:10:27.244Z"
   },
   {
    "duration": 13,
    "start_time": "2023-02-25T12:10:27.259Z"
   },
   {
    "duration": 17,
    "start_time": "2023-02-25T12:10:27.274Z"
   },
   {
    "duration": 8,
    "start_time": "2023-02-25T12:10:27.293Z"
   },
   {
    "duration": 14,
    "start_time": "2023-02-25T12:10:27.302Z"
   },
   {
    "duration": 556,
    "start_time": "2023-02-25T12:10:27.318Z"
   },
   {
    "duration": 13,
    "start_time": "2023-02-25T12:10:27.876Z"
   },
   {
    "duration": 8,
    "start_time": "2023-02-25T12:10:27.891Z"
   },
   {
    "duration": 13,
    "start_time": "2023-02-25T12:10:27.900Z"
   },
   {
    "duration": 4,
    "start_time": "2023-02-25T12:10:27.915Z"
   },
   {
    "duration": 24,
    "start_time": "2023-02-25T12:10:27.921Z"
   },
   {
    "duration": 530,
    "start_time": "2023-02-25T12:10:27.946Z"
   },
   {
    "duration": 25,
    "start_time": "2023-02-25T12:10:28.480Z"
   },
   {
    "duration": 345,
    "start_time": "2023-02-25T12:10:28.507Z"
   },
   {
    "duration": 164,
    "start_time": "2023-02-25T12:10:28.853Z"
   },
   {
    "duration": 12,
    "start_time": "2023-02-25T12:10:29.019Z"
   },
   {
    "duration": 155,
    "start_time": "2023-02-25T12:10:29.033Z"
   },
   {
    "duration": 145,
    "start_time": "2023-02-25T12:10:29.190Z"
   },
   {
    "duration": 61,
    "start_time": "2023-02-25T16:46:55.907Z"
   },
   {
    "duration": 134,
    "start_time": "2023-02-25T16:47:03.700Z"
   },
   {
    "duration": 172,
    "start_time": "2023-02-25T16:50:45.575Z"
   },
   {
    "duration": 121,
    "start_time": "2023-02-25T16:50:50.115Z"
   },
   {
    "duration": 116,
    "start_time": "2023-02-25T16:50:59.408Z"
   },
   {
    "duration": 6,
    "start_time": "2023-02-25T16:52:22.776Z"
   },
   {
    "duration": 6,
    "start_time": "2023-02-25T16:52:53.479Z"
   },
   {
    "duration": 70,
    "start_time": "2023-02-25T16:53:57.047Z"
   },
   {
    "duration": 5,
    "start_time": "2023-02-25T16:54:08.611Z"
   },
   {
    "duration": 221,
    "start_time": "2023-02-25T17:06:23.026Z"
   },
   {
    "duration": 402,
    "start_time": "2023-02-25T17:06:41.319Z"
   },
   {
    "duration": 346,
    "start_time": "2023-02-25T17:06:49.271Z"
   },
   {
    "duration": 431,
    "start_time": "2023-02-25T17:06:55.463Z"
   },
   {
    "duration": 44,
    "start_time": "2023-02-25T17:07:10.461Z"
   },
   {
    "duration": 350,
    "start_time": "2023-02-25T17:07:30.569Z"
   },
   {
    "duration": 147,
    "start_time": "2023-02-25T17:09:58.821Z"
   },
   {
    "duration": 440,
    "start_time": "2023-02-25T17:10:52.741Z"
   },
   {
    "duration": 354,
    "start_time": "2023-02-25T17:13:23.963Z"
   },
   {
    "duration": 8,
    "start_time": "2023-02-25T17:20:39.728Z"
   },
   {
    "duration": 11,
    "start_time": "2023-02-25T17:20:46.189Z"
   },
   {
    "duration": 49,
    "start_time": "2023-02-25T17:21:19.461Z"
   },
   {
    "duration": 10,
    "start_time": "2023-02-25T17:21:27.927Z"
   },
   {
    "duration": 10,
    "start_time": "2023-02-25T19:59:44.509Z"
   },
   {
    "duration": 11,
    "start_time": "2023-02-25T20:13:48.529Z"
   },
   {
    "duration": 11,
    "start_time": "2023-02-25T20:13:59.218Z"
   },
   {
    "duration": 9,
    "start_time": "2023-02-25T20:14:46.900Z"
   },
   {
    "duration": 13,
    "start_time": "2023-02-25T20:17:13.766Z"
   },
   {
    "duration": 14,
    "start_time": "2023-02-25T20:17:29.057Z"
   },
   {
    "duration": 17,
    "start_time": "2023-02-25T20:34:01.963Z"
   },
   {
    "duration": 357,
    "start_time": "2023-02-25T20:34:19.501Z"
   },
   {
    "duration": 151,
    "start_time": "2023-02-25T20:36:52.756Z"
   },
   {
    "duration": 161,
    "start_time": "2023-02-25T20:38:32.899Z"
   },
   {
    "duration": 257,
    "start_time": "2023-02-25T20:39:17.949Z"
   },
   {
    "duration": 263,
    "start_time": "2023-02-25T20:42:16.286Z"
   },
   {
    "duration": 19,
    "start_time": "2023-02-25T20:43:36.400Z"
   },
   {
    "duration": 260,
    "start_time": "2023-02-25T20:43:47.531Z"
   },
   {
    "duration": 277,
    "start_time": "2023-02-25T20:46:53.470Z"
   },
   {
    "duration": 14,
    "start_time": "2023-02-25T20:56:32.701Z"
   },
   {
    "duration": 61,
    "start_time": "2023-02-25T20:56:43.884Z"
   },
   {
    "duration": 14,
    "start_time": "2023-02-25T20:56:43.947Z"
   },
   {
    "duration": 29,
    "start_time": "2023-02-25T20:56:43.962Z"
   },
   {
    "duration": 12,
    "start_time": "2023-02-25T20:56:43.993Z"
   },
   {
    "duration": 9,
    "start_time": "2023-02-25T20:56:44.006Z"
   },
   {
    "duration": 18,
    "start_time": "2023-02-25T20:56:44.016Z"
   },
   {
    "duration": 20,
    "start_time": "2023-02-25T20:56:44.035Z"
   },
   {
    "duration": 14,
    "start_time": "2023-02-25T20:56:44.057Z"
   },
   {
    "duration": 15,
    "start_time": "2023-02-25T20:56:44.072Z"
   },
   {
    "duration": 5,
    "start_time": "2023-02-25T20:56:44.198Z"
   },
   {
    "duration": 18,
    "start_time": "2023-02-25T20:56:44.205Z"
   },
   {
    "duration": 4,
    "start_time": "2023-02-25T20:56:44.225Z"
   },
   {
    "duration": 13,
    "start_time": "2023-02-25T20:56:44.231Z"
   },
   {
    "duration": 5,
    "start_time": "2023-02-25T20:56:44.246Z"
   },
   {
    "duration": 6,
    "start_time": "2023-02-25T20:56:44.253Z"
   },
   {
    "duration": 29,
    "start_time": "2023-02-25T20:56:44.261Z"
   },
   {
    "duration": 17,
    "start_time": "2023-02-25T20:56:44.292Z"
   },
   {
    "duration": 9,
    "start_time": "2023-02-25T20:56:44.311Z"
   },
   {
    "duration": 15,
    "start_time": "2023-02-25T20:56:44.322Z"
   },
   {
    "duration": 21,
    "start_time": "2023-02-25T20:56:44.339Z"
   },
   {
    "duration": 163,
    "start_time": "2023-02-25T20:56:44.362Z"
   },
   {
    "duration": 12,
    "start_time": "2023-02-25T20:56:44.528Z"
   },
   {
    "duration": 11,
    "start_time": "2023-02-25T20:56:44.542Z"
   },
   {
    "duration": 33,
    "start_time": "2023-02-25T20:56:44.554Z"
   },
   {
    "duration": 5,
    "start_time": "2023-02-25T20:56:44.588Z"
   },
   {
    "duration": 43,
    "start_time": "2023-02-25T20:56:44.595Z"
   },
   {
    "duration": 410,
    "start_time": "2023-02-25T20:56:44.640Z"
   },
   {
    "duration": 36,
    "start_time": "2023-02-25T20:56:45.054Z"
   },
   {
    "duration": 314,
    "start_time": "2023-02-25T20:56:45.091Z"
   },
   {
    "duration": 139,
    "start_time": "2023-02-25T20:56:45.407Z"
   },
   {
    "duration": 16,
    "start_time": "2023-02-25T20:56:45.548Z"
   },
   {
    "duration": 236,
    "start_time": "2023-02-25T20:56:45.565Z"
   },
   {
    "duration": 7,
    "start_time": "2023-02-25T20:56:45.803Z"
   },
   {
    "duration": 147,
    "start_time": "2023-02-25T20:56:45.812Z"
   },
   {
    "duration": 4,
    "start_time": "2023-02-25T20:56:45.961Z"
   },
   {
    "duration": 404,
    "start_time": "2023-02-25T20:56:45.967Z"
   },
   {
    "duration": 149,
    "start_time": "2023-02-25T20:56:46.373Z"
   },
   {
    "duration": 322,
    "start_time": "2023-02-25T20:56:46.524Z"
   },
   {
    "duration": 11,
    "start_time": "2023-02-25T20:56:46.848Z"
   },
   {
    "duration": 288,
    "start_time": "2023-02-25T20:56:46.860Z"
   },
   {
    "duration": 306,
    "start_time": "2023-02-25T20:56:47.150Z"
   },
   {
    "duration": 404,
    "start_time": "2023-02-25T20:56:47.457Z"
   },
   {
    "duration": 281,
    "start_time": "2023-02-25T20:56:47.863Z"
   },
   {
    "duration": 101,
    "start_time": "2023-02-25T21:00:06.109Z"
   },
   {
    "duration": 128,
    "start_time": "2023-02-25T21:00:13.180Z"
   },
   {
    "duration": 148,
    "start_time": "2023-02-25T21:00:22.944Z"
   },
   {
    "duration": 292,
    "start_time": "2023-02-25T21:02:58.817Z"
   },
   {
    "duration": 125,
    "start_time": "2023-02-25T21:15:10.371Z"
   },
   {
    "duration": 180,
    "start_time": "2023-02-25T21:15:18.583Z"
   },
   {
    "duration": 142,
    "start_time": "2023-02-25T21:15:26.403Z"
   },
   {
    "duration": 154,
    "start_time": "2023-02-25T21:15:31.392Z"
   },
   {
    "duration": 594,
    "start_time": "2023-02-26T09:09:36.562Z"
   },
   {
    "duration": 22,
    "start_time": "2023-02-26T09:09:37.159Z"
   },
   {
    "duration": 10,
    "start_time": "2023-02-26T09:09:37.183Z"
   },
   {
    "duration": 9,
    "start_time": "2023-02-26T09:09:37.195Z"
   },
   {
    "duration": 10,
    "start_time": "2023-02-26T09:09:37.206Z"
   },
   {
    "duration": 40,
    "start_time": "2023-02-26T09:09:37.218Z"
   },
   {
    "duration": 22,
    "start_time": "2023-02-26T09:09:37.260Z"
   },
   {
    "duration": 21,
    "start_time": "2023-02-26T09:09:37.284Z"
   },
   {
    "duration": 8,
    "start_time": "2023-02-26T09:09:37.307Z"
   },
   {
    "duration": 36,
    "start_time": "2023-02-26T09:09:37.320Z"
   },
   {
    "duration": 20,
    "start_time": "2023-02-26T09:09:37.359Z"
   },
   {
    "duration": 6,
    "start_time": "2023-02-26T09:09:37.381Z"
   },
   {
    "duration": 8,
    "start_time": "2023-02-26T09:09:37.388Z"
   },
   {
    "duration": 15,
    "start_time": "2023-02-26T09:09:37.398Z"
   },
   {
    "duration": 16,
    "start_time": "2023-02-26T09:09:37.415Z"
   },
   {
    "duration": 39,
    "start_time": "2023-02-26T09:09:37.433Z"
   },
   {
    "duration": 15,
    "start_time": "2023-02-26T09:09:37.475Z"
   },
   {
    "duration": 20,
    "start_time": "2023-02-26T09:09:37.492Z"
   },
   {
    "duration": 16,
    "start_time": "2023-02-26T09:09:37.513Z"
   },
   {
    "duration": 28,
    "start_time": "2023-02-26T09:09:37.531Z"
   },
   {
    "duration": 616,
    "start_time": "2023-02-26T09:09:37.561Z"
   },
   {
    "duration": 8,
    "start_time": "2023-02-26T09:09:38.178Z"
   },
   {
    "duration": 11,
    "start_time": "2023-02-26T09:09:38.187Z"
   },
   {
    "duration": 13,
    "start_time": "2023-02-26T09:09:38.199Z"
   },
   {
    "duration": 4,
    "start_time": "2023-02-26T09:09:38.213Z"
   },
   {
    "duration": 48,
    "start_time": "2023-02-26T09:09:38.218Z"
   },
   {
    "duration": 482,
    "start_time": "2023-02-26T09:09:38.268Z"
   },
   {
    "duration": 23,
    "start_time": "2023-02-26T09:09:38.754Z"
   },
   {
    "duration": 356,
    "start_time": "2023-02-26T09:09:38.779Z"
   },
   {
    "duration": 173,
    "start_time": "2023-02-26T09:09:39.137Z"
   },
   {
    "duration": 14,
    "start_time": "2023-02-26T09:09:39.313Z"
   },
   {
    "duration": 181,
    "start_time": "2023-02-26T09:09:39.329Z"
   },
   {
    "duration": 5,
    "start_time": "2023-02-26T09:09:39.512Z"
   },
   {
    "duration": 179,
    "start_time": "2023-02-26T09:09:39.519Z"
   },
   {
    "duration": 5,
    "start_time": "2023-02-26T09:09:39.701Z"
   },
   {
    "duration": 419,
    "start_time": "2023-02-26T09:09:39.708Z"
   },
   {
    "duration": 157,
    "start_time": "2023-02-26T09:09:40.129Z"
   },
   {
    "duration": 326,
    "start_time": "2023-02-26T09:09:40.288Z"
   },
   {
    "duration": 11,
    "start_time": "2023-02-26T09:09:40.615Z"
   },
   {
    "duration": 164,
    "start_time": "2023-02-26T09:09:40.628Z"
   },
   {
    "duration": 159,
    "start_time": "2023-02-26T09:09:40.794Z"
   },
   {
    "duration": 160,
    "start_time": "2023-02-26T09:09:40.955Z"
   },
   {
    "duration": 228,
    "start_time": "2023-02-26T09:09:41.116Z"
   },
   {
    "duration": 155,
    "start_time": "2023-02-26T09:13:28.152Z"
   },
   {
    "duration": 157,
    "start_time": "2023-02-26T09:15:46.410Z"
   },
   {
    "duration": 147,
    "start_time": "2023-02-26T09:17:05.590Z"
   },
   {
    "duration": 162,
    "start_time": "2023-02-26T09:18:45.431Z"
   },
   {
    "duration": 187,
    "start_time": "2023-02-26T09:39:34.254Z"
   },
   {
    "duration": 127,
    "start_time": "2023-02-26T09:41:04.649Z"
   },
   {
    "duration": 65,
    "start_time": "2023-02-26T09:56:24.042Z"
   },
   {
    "duration": 70,
    "start_time": "2023-02-26T10:00:23.369Z"
   },
   {
    "duration": 14,
    "start_time": "2023-02-26T10:00:23.441Z"
   },
   {
    "duration": 23,
    "start_time": "2023-02-26T10:00:23.457Z"
   },
   {
    "duration": 22,
    "start_time": "2023-02-26T10:00:23.482Z"
   },
   {
    "duration": 27,
    "start_time": "2023-02-26T10:00:23.505Z"
   },
   {
    "duration": 8,
    "start_time": "2023-02-26T10:00:23.534Z"
   },
   {
    "duration": 19,
    "start_time": "2023-02-26T10:00:23.544Z"
   },
   {
    "duration": 20,
    "start_time": "2023-02-26T10:00:23.565Z"
   },
   {
    "duration": 5,
    "start_time": "2023-02-26T10:00:23.587Z"
   },
   {
    "duration": 7,
    "start_time": "2023-02-26T10:00:23.595Z"
   },
   {
    "duration": 12,
    "start_time": "2023-02-26T10:00:23.604Z"
   },
   {
    "duration": 9,
    "start_time": "2023-02-26T10:00:23.617Z"
   },
   {
    "duration": 6,
    "start_time": "2023-02-26T10:00:23.653Z"
   },
   {
    "duration": 13,
    "start_time": "2023-02-26T10:00:23.660Z"
   },
   {
    "duration": 6,
    "start_time": "2023-02-26T10:00:23.676Z"
   },
   {
    "duration": 12,
    "start_time": "2023-02-26T10:00:23.684Z"
   },
   {
    "duration": 11,
    "start_time": "2023-02-26T10:00:23.697Z"
   },
   {
    "duration": 8,
    "start_time": "2023-02-26T10:00:23.710Z"
   },
   {
    "duration": 38,
    "start_time": "2023-02-26T10:00:23.720Z"
   },
   {
    "duration": 22,
    "start_time": "2023-02-26T10:00:23.760Z"
   },
   {
    "duration": 182,
    "start_time": "2023-02-26T10:00:23.784Z"
   },
   {
    "duration": 8,
    "start_time": "2023-02-26T10:00:23.967Z"
   },
   {
    "duration": 9,
    "start_time": "2023-02-26T10:00:23.976Z"
   },
   {
    "duration": 14,
    "start_time": "2023-02-26T10:00:23.987Z"
   },
   {
    "duration": 5,
    "start_time": "2023-02-26T10:00:24.002Z"
   },
   {
    "duration": 47,
    "start_time": "2023-02-26T10:00:24.008Z"
   },
   {
    "duration": 502,
    "start_time": "2023-02-26T10:00:24.056Z"
   },
   {
    "duration": 23,
    "start_time": "2023-02-26T10:00:24.562Z"
   },
   {
    "duration": 362,
    "start_time": "2023-02-26T10:00:24.588Z"
   },
   {
    "duration": 125,
    "start_time": "2023-02-26T10:00:24.954Z"
   },
   {
    "duration": 15,
    "start_time": "2023-02-26T10:00:25.084Z"
   },
   {
    "duration": 178,
    "start_time": "2023-02-26T10:00:25.101Z"
   },
   {
    "duration": 6,
    "start_time": "2023-02-26T10:00:25.280Z"
   },
   {
    "duration": 180,
    "start_time": "2023-02-26T10:00:25.288Z"
   },
   {
    "duration": 5,
    "start_time": "2023-02-26T10:00:25.470Z"
   },
   {
    "duration": 430,
    "start_time": "2023-02-26T10:00:25.477Z"
   },
   {
    "duration": 166,
    "start_time": "2023-02-26T10:00:25.909Z"
   },
   {
    "duration": 395,
    "start_time": "2023-02-26T10:00:26.077Z"
   },
   {
    "duration": 14,
    "start_time": "2023-02-26T10:00:26.473Z"
   },
   {
    "duration": 185,
    "start_time": "2023-02-26T10:00:26.489Z"
   },
   {
    "duration": 164,
    "start_time": "2023-02-26T10:00:26.677Z"
   },
   {
    "duration": 415,
    "start_time": "2023-02-26T10:00:26.842Z"
   },
   {
    "duration": 201,
    "start_time": "2023-02-26T10:00:27.259Z"
   },
   {
    "duration": 211,
    "start_time": "2023-02-26T10:00:27.462Z"
   },
   {
    "duration": 176,
    "start_time": "2023-02-26T10:00:27.675Z"
   },
   {
    "duration": 164,
    "start_time": "2023-02-26T10:00:27.853Z"
   },
   {
    "duration": 180,
    "start_time": "2023-02-26T10:00:28.019Z"
   },
   {
    "duration": 7,
    "start_time": "2023-02-26T10:02:02.692Z"
   },
   {
    "duration": 0,
    "start_time": "2023-02-26T10:02:02.701Z"
   },
   {
    "duration": 143,
    "start_time": "2023-02-26T10:03:44.313Z"
   },
   {
    "duration": 139,
    "start_time": "2023-02-26T10:03:47.974Z"
   },
   {
    "duration": 268,
    "start_time": "2023-02-26T10:04:05.646Z"
   },
   {
    "duration": 44629,
    "start_time": "2023-02-26T10:05:19.883Z"
   },
   {
    "duration": 570,
    "start_time": "2023-02-26T14:57:41.801Z"
   },
   {
    "duration": 18,
    "start_time": "2023-02-26T14:57:42.373Z"
   },
   {
    "duration": 24,
    "start_time": "2023-02-26T14:57:42.393Z"
   },
   {
    "duration": 30,
    "start_time": "2023-02-26T14:57:42.419Z"
   },
   {
    "duration": 18,
    "start_time": "2023-02-26T14:57:42.450Z"
   },
   {
    "duration": 5,
    "start_time": "2023-02-26T14:57:42.470Z"
   },
   {
    "duration": 16,
    "start_time": "2023-02-26T14:57:42.476Z"
   },
   {
    "duration": 14,
    "start_time": "2023-02-26T14:57:42.493Z"
   },
   {
    "duration": 5,
    "start_time": "2023-02-26T14:57:42.509Z"
   },
   {
    "duration": 32,
    "start_time": "2023-02-26T14:57:42.517Z"
   },
   {
    "duration": 13,
    "start_time": "2023-02-26T14:57:42.551Z"
   },
   {
    "duration": 4,
    "start_time": "2023-02-26T14:57:42.566Z"
   },
   {
    "duration": 7,
    "start_time": "2023-02-26T14:57:42.571Z"
   },
   {
    "duration": 7,
    "start_time": "2023-02-26T14:57:42.580Z"
   },
   {
    "duration": 14,
    "start_time": "2023-02-26T14:57:42.588Z"
   },
   {
    "duration": 7,
    "start_time": "2023-02-26T14:57:42.603Z"
   },
   {
    "duration": 33,
    "start_time": "2023-02-26T14:57:42.611Z"
   },
   {
    "duration": 6,
    "start_time": "2023-02-26T14:57:42.646Z"
   },
   {
    "duration": 11,
    "start_time": "2023-02-26T14:57:42.653Z"
   },
   {
    "duration": 15,
    "start_time": "2023-02-26T14:57:42.666Z"
   },
   {
    "duration": 607,
    "start_time": "2023-02-26T14:57:42.682Z"
   },
   {
    "duration": 8,
    "start_time": "2023-02-26T14:57:43.292Z"
   },
   {
    "duration": 9,
    "start_time": "2023-02-26T14:57:43.301Z"
   },
   {
    "duration": 34,
    "start_time": "2023-02-26T14:57:43.311Z"
   },
   {
    "duration": 4,
    "start_time": "2023-02-26T14:57:43.346Z"
   },
   {
    "duration": 24,
    "start_time": "2023-02-26T14:57:43.352Z"
   },
   {
    "duration": 511,
    "start_time": "2023-02-26T14:57:43.377Z"
   },
   {
    "duration": 23,
    "start_time": "2023-02-26T14:57:43.892Z"
   },
   {
    "duration": 350,
    "start_time": "2023-02-26T14:57:43.917Z"
   },
   {
    "duration": 176,
    "start_time": "2023-02-26T14:57:44.269Z"
   },
   {
    "duration": 11,
    "start_time": "2023-02-26T14:57:44.446Z"
   },
   {
    "duration": 155,
    "start_time": "2023-02-26T14:57:44.459Z"
   },
   {
    "duration": 5,
    "start_time": "2023-02-26T14:57:44.615Z"
   },
   {
    "duration": 157,
    "start_time": "2023-02-26T14:57:44.622Z"
   },
   {
    "duration": 5,
    "start_time": "2023-02-26T14:57:44.780Z"
   },
   {
    "duration": 405,
    "start_time": "2023-02-26T14:57:44.787Z"
   },
   {
    "duration": 160,
    "start_time": "2023-02-26T14:57:45.194Z"
   },
   {
    "duration": 336,
    "start_time": "2023-02-26T14:57:45.356Z"
   },
   {
    "duration": 10,
    "start_time": "2023-02-26T14:57:45.694Z"
   },
   {
    "duration": 161,
    "start_time": "2023-02-26T14:57:45.706Z"
   },
   {
    "duration": 158,
    "start_time": "2023-02-26T14:57:45.868Z"
   },
   {
    "duration": 154,
    "start_time": "2023-02-26T14:57:46.028Z"
   },
   {
    "duration": 222,
    "start_time": "2023-02-26T14:57:46.184Z"
   },
   {
    "duration": 154,
    "start_time": "2023-02-26T14:57:46.408Z"
   },
   {
    "duration": 167,
    "start_time": "2023-02-26T14:57:46.564Z"
   },
   {
    "duration": 145,
    "start_time": "2023-02-26T14:57:46.733Z"
   },
   {
    "duration": 161,
    "start_time": "2023-02-26T14:57:46.880Z"
   },
   {
    "duration": 137,
    "start_time": "2023-02-26T14:57:47.044Z"
   },
   {
    "duration": 11,
    "start_time": "2023-02-26T15:08:19.663Z"
   },
   {
    "duration": 9,
    "start_time": "2023-02-26T15:10:23.510Z"
   },
   {
    "duration": 18,
    "start_time": "2023-02-26T15:11:29.061Z"
   },
   {
    "duration": 90,
    "start_time": "2023-02-26T15:47:41.002Z"
   },
   {
    "duration": 15,
    "start_time": "2023-02-26T15:47:41.093Z"
   },
   {
    "duration": 39,
    "start_time": "2023-02-26T15:47:41.110Z"
   },
   {
    "duration": 21,
    "start_time": "2023-02-26T15:47:41.151Z"
   },
   {
    "duration": 22,
    "start_time": "2023-02-26T15:47:41.174Z"
   },
   {
    "duration": 29,
    "start_time": "2023-02-26T15:47:41.198Z"
   },
   {
    "duration": 43,
    "start_time": "2023-02-26T15:47:41.229Z"
   },
   {
    "duration": 29,
    "start_time": "2023-02-26T15:47:41.274Z"
   },
   {
    "duration": 6,
    "start_time": "2023-02-26T15:47:41.305Z"
   },
   {
    "duration": 23,
    "start_time": "2023-02-26T15:47:41.314Z"
   },
   {
    "duration": 29,
    "start_time": "2023-02-26T15:47:41.339Z"
   },
   {
    "duration": 9,
    "start_time": "2023-02-26T15:47:41.370Z"
   },
   {
    "duration": 11,
    "start_time": "2023-02-26T15:47:41.381Z"
   },
   {
    "duration": 14,
    "start_time": "2023-02-26T15:47:41.394Z"
   },
   {
    "duration": 10,
    "start_time": "2023-02-26T15:47:41.409Z"
   },
   {
    "duration": 26,
    "start_time": "2023-02-26T15:47:41.421Z"
   },
   {
    "duration": 22,
    "start_time": "2023-02-26T15:47:41.449Z"
   },
   {
    "duration": 19,
    "start_time": "2023-02-26T15:47:41.473Z"
   },
   {
    "duration": 21,
    "start_time": "2023-02-26T15:47:41.493Z"
   },
   {
    "duration": 25,
    "start_time": "2023-02-26T15:47:41.515Z"
   },
   {
    "duration": 177,
    "start_time": "2023-02-26T15:47:41.542Z"
   },
   {
    "duration": 7,
    "start_time": "2023-02-26T15:47:41.721Z"
   },
   {
    "duration": 18,
    "start_time": "2023-02-26T15:47:41.729Z"
   },
   {
    "duration": 15,
    "start_time": "2023-02-26T15:47:41.749Z"
   },
   {
    "duration": 15,
    "start_time": "2023-02-26T15:47:41.766Z"
   },
   {
    "duration": 42,
    "start_time": "2023-02-26T15:47:41.783Z"
   },
   {
    "duration": 487,
    "start_time": "2023-02-26T15:47:41.827Z"
   },
   {
    "duration": 34,
    "start_time": "2023-02-26T15:47:42.317Z"
   },
   {
    "duration": 363,
    "start_time": "2023-02-26T15:47:42.353Z"
   },
   {
    "duration": 121,
    "start_time": "2023-02-26T15:47:42.718Z"
   },
   {
    "duration": 15,
    "start_time": "2023-02-26T15:47:42.845Z"
   },
   {
    "duration": 176,
    "start_time": "2023-02-26T15:47:42.861Z"
   },
   {
    "duration": 11,
    "start_time": "2023-02-26T15:47:43.039Z"
   },
   {
    "duration": 272,
    "start_time": "2023-02-26T15:47:43.058Z"
   },
   {
    "duration": 5,
    "start_time": "2023-02-26T15:47:43.331Z"
   },
   {
    "duration": 472,
    "start_time": "2023-02-26T15:47:43.337Z"
   },
   {
    "duration": 173,
    "start_time": "2023-02-26T15:47:43.811Z"
   },
   {
    "duration": 343,
    "start_time": "2023-02-26T15:47:43.986Z"
   },
   {
    "duration": 23,
    "start_time": "2023-02-26T15:47:44.331Z"
   },
   {
    "duration": 164,
    "start_time": "2023-02-26T15:47:44.356Z"
   },
   {
    "duration": 18,
    "start_time": "2023-02-26T15:47:44.522Z"
   },
   {
    "duration": 171,
    "start_time": "2023-02-26T15:47:44.547Z"
   },
   {
    "duration": 163,
    "start_time": "2023-02-26T15:47:44.720Z"
   },
   {
    "duration": 156,
    "start_time": "2023-02-26T15:47:44.885Z"
   },
   {
    "duration": 160,
    "start_time": "2023-02-26T15:47:45.044Z"
   },
   {
    "duration": 166,
    "start_time": "2023-02-26T15:47:45.206Z"
   },
   {
    "duration": 263,
    "start_time": "2023-02-26T15:47:45.374Z"
   },
   {
    "duration": 173,
    "start_time": "2023-02-26T15:47:45.646Z"
   },
   {
    "duration": 149,
    "start_time": "2023-02-26T15:47:45.821Z"
   },
   {
    "duration": 22,
    "start_time": "2023-02-26T15:56:04.571Z"
   },
   {
    "duration": 21,
    "start_time": "2023-02-26T15:57:04.947Z"
   },
   {
    "duration": 1438,
    "start_time": "2023-02-26T15:58:45.065Z"
   },
   {
    "duration": 20,
    "start_time": "2023-02-26T16:01:25.991Z"
   },
   {
    "duration": 40811,
    "start_time": "2023-02-26T16:04:35.740Z"
   },
   {
    "duration": 41381,
    "start_time": "2023-02-26T16:07:11.602Z"
   },
   {
    "duration": 10,
    "start_time": "2023-02-26T16:11:17.985Z"
   },
   {
    "duration": 22,
    "start_time": "2023-02-26T16:11:26.133Z"
   },
   {
    "duration": 24,
    "start_time": "2023-02-26T16:11:49.534Z"
   },
   {
    "duration": 19,
    "start_time": "2023-02-26T16:12:17.407Z"
   },
   {
    "duration": 20,
    "start_time": "2023-02-26T16:13:00.007Z"
   },
   {
    "duration": 21,
    "start_time": "2023-02-26T16:13:13.844Z"
   },
   {
    "duration": 11,
    "start_time": "2023-02-26T16:14:24.137Z"
   },
   {
    "duration": 23,
    "start_time": "2023-02-26T16:14:31.271Z"
   },
   {
    "duration": 25,
    "start_time": "2023-02-26T16:14:47.248Z"
   },
   {
    "duration": 21,
    "start_time": "2023-02-26T16:14:57.568Z"
   },
   {
    "duration": 17,
    "start_time": "2023-02-26T16:15:27.192Z"
   },
   {
    "duration": 205,
    "start_time": "2023-02-26T16:15:33.324Z"
   },
   {
    "duration": 255,
    "start_time": "2023-02-26T16:16:11.131Z"
   },
   {
    "duration": 294,
    "start_time": "2023-02-26T16:17:07.743Z"
   },
   {
    "duration": 273,
    "start_time": "2023-02-26T16:18:17.064Z"
   },
   {
    "duration": 280,
    "start_time": "2023-02-26T16:18:23.647Z"
   },
   {
    "duration": 281,
    "start_time": "2023-02-26T16:18:28.825Z"
   },
   {
    "duration": 3,
    "start_time": "2023-02-26T16:19:26.101Z"
   },
   {
    "duration": 2,
    "start_time": "2023-02-26T16:19:28.250Z"
   },
   {
    "duration": 2,
    "start_time": "2023-02-26T16:19:51.325Z"
   },
   {
    "duration": 2,
    "start_time": "2023-02-26T16:22:05.649Z"
   },
   {
    "duration": 2,
    "start_time": "2023-02-26T16:22:14.182Z"
   },
   {
    "duration": 323,
    "start_time": "2023-02-26T16:23:57.337Z"
   },
   {
    "duration": 2,
    "start_time": "2023-02-26T16:24:08.870Z"
   },
   {
    "duration": 3,
    "start_time": "2023-02-26T16:24:20.839Z"
   },
   {
    "duration": 2,
    "start_time": "2023-02-26T16:24:26.565Z"
   },
   {
    "duration": 2,
    "start_time": "2023-02-26T16:24:31.620Z"
   },
   {
    "duration": 2,
    "start_time": "2023-02-26T16:24:34.437Z"
   },
   {
    "duration": 232,
    "start_time": "2023-02-26T16:26:45.763Z"
   },
   {
    "duration": 152,
    "start_time": "2023-02-26T16:32:45.300Z"
   },
   {
    "duration": 150,
    "start_time": "2023-02-26T16:32:56.978Z"
   },
   {
    "duration": 3,
    "start_time": "2023-02-26T16:35:46.233Z"
   },
   {
    "duration": 168,
    "start_time": "2023-02-26T16:35:50.802Z"
   },
   {
    "duration": 3,
    "start_time": "2023-02-26T16:52:13.538Z"
   },
   {
    "duration": 145,
    "start_time": "2023-02-26T16:52:17.919Z"
   },
   {
    "duration": 143,
    "start_time": "2023-02-26T16:52:48.668Z"
   },
   {
    "duration": 3,
    "start_time": "2023-02-26T16:53:40.021Z"
   },
   {
    "duration": 152,
    "start_time": "2023-02-26T16:58:22.414Z"
   },
   {
    "duration": 162,
    "start_time": "2023-02-26T16:58:42.840Z"
   },
   {
    "duration": 2,
    "start_time": "2023-02-26T16:59:25.673Z"
   },
   {
    "duration": 6,
    "start_time": "2023-02-26T16:59:30.566Z"
   },
   {
    "duration": 152,
    "start_time": "2023-02-26T16:59:36.705Z"
   },
   {
    "duration": 156,
    "start_time": "2023-02-26T16:59:39.712Z"
   },
   {
    "duration": 4,
    "start_time": "2023-02-26T17:00:49.299Z"
   },
   {
    "duration": 2,
    "start_time": "2023-02-26T17:00:51.785Z"
   },
   {
    "duration": 2,
    "start_time": "2023-02-26T17:16:49.375Z"
   },
   {
    "duration": 11,
    "start_time": "2023-02-26T17:37:50.366Z"
   },
   {
    "duration": 445,
    "start_time": "2023-02-26T17:39:29.636Z"
   },
   {
    "duration": 49,
    "start_time": "2023-02-26T17:40:05.645Z"
   },
   {
    "duration": 19,
    "start_time": "2023-02-26T17:40:23.716Z"
   },
   {
    "duration": 12,
    "start_time": "2023-02-26T17:41:44.051Z"
   },
   {
    "duration": 19,
    "start_time": "2023-02-26T17:57:49.426Z"
   },
   {
    "duration": 8,
    "start_time": "2023-02-26T17:58:34.465Z"
   },
   {
    "duration": 13,
    "start_time": "2023-02-26T17:59:45.353Z"
   },
   {
    "duration": 10,
    "start_time": "2023-02-26T17:59:58.959Z"
   },
   {
    "duration": 10,
    "start_time": "2023-02-26T18:01:03.170Z"
   },
   {
    "duration": 8,
    "start_time": "2023-02-26T18:01:46.417Z"
   },
   {
    "duration": 7,
    "start_time": "2023-02-26T18:03:45.385Z"
   },
   {
    "duration": 7,
    "start_time": "2023-02-26T18:27:01.413Z"
   },
   {
    "duration": 7,
    "start_time": "2023-02-26T18:27:30.780Z"
   },
   {
    "duration": 9,
    "start_time": "2023-02-26T18:28:31.620Z"
   },
   {
    "duration": 9,
    "start_time": "2023-02-26T18:29:04.003Z"
   },
   {
    "duration": 7,
    "start_time": "2023-02-26T18:29:07.699Z"
   },
   {
    "duration": 630,
    "start_time": "2023-02-27T19:15:54.477Z"
   },
   {
    "duration": 20,
    "start_time": "2023-02-27T19:15:55.109Z"
   },
   {
    "duration": 9,
    "start_time": "2023-02-27T19:15:55.131Z"
   },
   {
    "duration": 10,
    "start_time": "2023-02-27T19:15:55.143Z"
   },
   {
    "duration": 38,
    "start_time": "2023-02-27T19:15:55.155Z"
   },
   {
    "duration": 6,
    "start_time": "2023-02-27T19:15:55.195Z"
   },
   {
    "duration": 34,
    "start_time": "2023-02-27T19:15:55.203Z"
   },
   {
    "duration": 17,
    "start_time": "2023-02-27T19:15:55.239Z"
   },
   {
    "duration": 10,
    "start_time": "2023-02-27T19:15:55.257Z"
   },
   {
    "duration": 22,
    "start_time": "2023-02-27T19:15:55.270Z"
   },
   {
    "duration": 12,
    "start_time": "2023-02-27T19:15:55.294Z"
   },
   {
    "duration": 11,
    "start_time": "2023-02-27T19:15:55.308Z"
   },
   {
    "duration": 4,
    "start_time": "2023-02-27T19:15:55.321Z"
   },
   {
    "duration": 15,
    "start_time": "2023-02-27T19:15:55.327Z"
   },
   {
    "duration": 9,
    "start_time": "2023-02-27T19:15:55.343Z"
   },
   {
    "duration": 10,
    "start_time": "2023-02-27T19:15:55.354Z"
   },
   {
    "duration": 31,
    "start_time": "2023-02-27T19:15:55.366Z"
   },
   {
    "duration": 15,
    "start_time": "2023-02-27T19:15:55.399Z"
   },
   {
    "duration": 10,
    "start_time": "2023-02-27T19:15:55.416Z"
   },
   {
    "duration": 17,
    "start_time": "2023-02-27T19:15:57.307Z"
   },
   {
    "duration": 598,
    "start_time": "2023-02-27T19:16:30.276Z"
   },
   {
    "duration": 15,
    "start_time": "2023-02-27T19:16:45.572Z"
   },
   {
    "duration": 382,
    "start_time": "2023-02-27T19:17:43.410Z"
   },
   {
    "duration": 416,
    "start_time": "2023-02-27T19:17:57.467Z"
   },
   {
    "duration": 239,
    "start_time": "2023-02-27T19:18:28.991Z"
   },
   {
    "duration": 267,
    "start_time": "2023-02-27T19:18:51.580Z"
   },
   {
    "duration": 82,
    "start_time": "2023-02-27T19:24:15.076Z"
   },
   {
    "duration": 78,
    "start_time": "2023-02-27T19:24:25.174Z"
   },
   {
    "duration": 20,
    "start_time": "2023-02-27T19:24:25.254Z"
   },
   {
    "duration": 20,
    "start_time": "2023-02-27T19:24:25.276Z"
   },
   {
    "duration": 15,
    "start_time": "2023-02-27T19:24:25.298Z"
   },
   {
    "duration": 22,
    "start_time": "2023-02-27T19:24:25.316Z"
   },
   {
    "duration": 14,
    "start_time": "2023-02-27T19:24:25.340Z"
   },
   {
    "duration": 21,
    "start_time": "2023-02-27T19:24:25.356Z"
   },
   {
    "duration": 21,
    "start_time": "2023-02-27T19:24:25.379Z"
   },
   {
    "duration": 7,
    "start_time": "2023-02-27T19:24:25.402Z"
   },
   {
    "duration": 17,
    "start_time": "2023-02-27T19:24:25.411Z"
   },
   {
    "duration": 14,
    "start_time": "2023-02-27T19:24:25.430Z"
   },
   {
    "duration": 7,
    "start_time": "2023-02-27T19:24:25.448Z"
   },
   {
    "duration": 38,
    "start_time": "2023-02-27T19:24:25.457Z"
   },
   {
    "duration": 27,
    "start_time": "2023-02-27T19:24:25.499Z"
   },
   {
    "duration": 13,
    "start_time": "2023-02-27T19:24:25.528Z"
   },
   {
    "duration": 47,
    "start_time": "2023-02-27T19:24:25.543Z"
   },
   {
    "duration": 16,
    "start_time": "2023-02-27T19:24:25.593Z"
   },
   {
    "duration": 12,
    "start_time": "2023-02-27T19:24:25.612Z"
   },
   {
    "duration": 16,
    "start_time": "2023-02-27T19:24:25.626Z"
   },
   {
    "duration": 29,
    "start_time": "2023-02-27T19:24:25.644Z"
   },
   {
    "duration": 188,
    "start_time": "2023-02-27T19:24:25.674Z"
   },
   {
    "duration": 9,
    "start_time": "2023-02-27T19:24:25.864Z"
   },
   {
    "duration": 41,
    "start_time": "2023-02-27T19:24:25.875Z"
   },
   {
    "duration": 297,
    "start_time": "2023-02-27T19:24:25.918Z"
   },
   {
    "duration": 5,
    "start_time": "2023-02-27T19:24:26.218Z"
   },
   {
    "duration": 49,
    "start_time": "2023-02-27T19:24:26.225Z"
   },
   {
    "duration": 508,
    "start_time": "2023-02-27T19:24:28.630Z"
   },
   {
    "duration": 11,
    "start_time": "2023-02-27T19:39:49.180Z"
   },
   {
    "duration": 92,
    "start_time": "2023-02-27T19:39:56.938Z"
   },
   {
    "duration": 22,
    "start_time": "2023-02-27T19:39:57.033Z"
   },
   {
    "duration": 38,
    "start_time": "2023-02-27T19:39:57.057Z"
   },
   {
    "duration": 8,
    "start_time": "2023-02-27T19:39:57.098Z"
   },
   {
    "duration": 15,
    "start_time": "2023-02-27T19:39:57.109Z"
   },
   {
    "duration": 27,
    "start_time": "2023-02-27T19:39:57.126Z"
   },
   {
    "duration": 22,
    "start_time": "2023-02-27T19:39:57.155Z"
   },
   {
    "duration": 21,
    "start_time": "2023-02-27T19:39:57.179Z"
   },
   {
    "duration": 17,
    "start_time": "2023-02-27T19:39:57.202Z"
   },
   {
    "duration": 22,
    "start_time": "2023-02-27T19:39:57.222Z"
   },
   {
    "duration": 25,
    "start_time": "2023-02-27T19:39:57.246Z"
   },
   {
    "duration": 12,
    "start_time": "2023-02-27T19:39:57.273Z"
   },
   {
    "duration": 9,
    "start_time": "2023-02-27T19:39:57.288Z"
   },
   {
    "duration": 14,
    "start_time": "2023-02-27T19:39:57.299Z"
   },
   {
    "duration": 10,
    "start_time": "2023-02-27T19:39:57.315Z"
   },
   {
    "duration": 10,
    "start_time": "2023-02-27T19:39:57.327Z"
   },
   {
    "duration": 11,
    "start_time": "2023-02-27T19:39:57.338Z"
   },
   {
    "duration": 11,
    "start_time": "2023-02-27T19:39:57.351Z"
   },
   {
    "duration": 14,
    "start_time": "2023-02-27T19:39:57.364Z"
   },
   {
    "duration": 25,
    "start_time": "2023-02-27T19:39:57.393Z"
   },
   {
    "duration": 202,
    "start_time": "2023-02-27T19:39:57.420Z"
   },
   {
    "duration": 9,
    "start_time": "2023-02-27T19:39:57.624Z"
   },
   {
    "duration": 18,
    "start_time": "2023-02-27T19:39:57.635Z"
   },
   {
    "duration": 359,
    "start_time": "2023-02-27T19:39:57.655Z"
   },
   {
    "duration": 7,
    "start_time": "2023-02-27T19:39:58.016Z"
   },
   {
    "duration": 48,
    "start_time": "2023-02-27T19:39:58.025Z"
   },
   {
    "duration": 870,
    "start_time": "2023-02-27T19:39:58.075Z"
   },
   {
    "duration": 57,
    "start_time": "2023-02-27T19:39:58.950Z"
   },
   {
    "duration": 455,
    "start_time": "2023-02-27T19:39:59.010Z"
   },
   {
    "duration": 714,
    "start_time": "2023-02-27T19:39:59.467Z"
   },
   {
    "duration": 13,
    "start_time": "2023-02-27T19:40:00.191Z"
   },
   {
    "duration": 388,
    "start_time": "2023-02-27T19:40:00.206Z"
   },
   {
    "duration": 8,
    "start_time": "2023-02-27T19:40:00.596Z"
   },
   {
    "duration": 271,
    "start_time": "2023-02-27T19:40:00.607Z"
   },
   {
    "duration": 15,
    "start_time": "2023-02-27T19:40:00.880Z"
   },
   {
    "duration": 544,
    "start_time": "2023-02-27T19:40:00.897Z"
   },
   {
    "duration": 231,
    "start_time": "2023-02-27T19:40:01.443Z"
   },
   {
    "duration": 443,
    "start_time": "2023-02-27T19:40:01.677Z"
   },
   {
    "duration": 15,
    "start_time": "2023-02-27T19:40:06.955Z"
   },
   {
    "duration": 15,
    "start_time": "2023-02-27T19:40:48.983Z"
   },
   {
    "duration": 16,
    "start_time": "2023-02-27T19:40:56.113Z"
   },
   {
    "duration": 4,
    "start_time": "2023-02-27T19:52:39.212Z"
   },
   {
    "duration": 76,
    "start_time": "2023-02-27T19:55:38.882Z"
   },
   {
    "duration": 199,
    "start_time": "2023-02-27T19:55:45.021Z"
   },
   {
    "duration": 218,
    "start_time": "2023-02-27T19:56:53.438Z"
   },
   {
    "duration": 180,
    "start_time": "2023-02-27T19:57:08.658Z"
   },
   {
    "duration": 178,
    "start_time": "2023-02-27T19:59:07.974Z"
   },
   {
    "duration": 218,
    "start_time": "2023-02-27T20:01:57.536Z"
   },
   {
    "duration": 256,
    "start_time": "2023-02-27T20:02:07.772Z"
   },
   {
    "duration": 17,
    "start_time": "2023-02-27T20:06:57.589Z"
   },
   {
    "duration": 4,
    "start_time": "2023-02-27T20:07:05.477Z"
   },
   {
    "duration": 87,
    "start_time": "2023-02-27T20:07:15.651Z"
   },
   {
    "duration": 14,
    "start_time": "2023-02-27T20:07:15.740Z"
   },
   {
    "duration": 14,
    "start_time": "2023-02-27T20:07:15.756Z"
   },
   {
    "duration": 28,
    "start_time": "2023-02-27T20:07:15.773Z"
   },
   {
    "duration": 31,
    "start_time": "2023-02-27T20:07:15.802Z"
   },
   {
    "duration": 11,
    "start_time": "2023-02-27T20:07:15.835Z"
   },
   {
    "duration": 6,
    "start_time": "2023-02-27T20:07:15.847Z"
   },
   {
    "duration": 15,
    "start_time": "2023-02-27T20:07:15.854Z"
   },
   {
    "duration": 23,
    "start_time": "2023-02-27T20:07:15.870Z"
   },
   {
    "duration": 32,
    "start_time": "2023-02-27T20:07:15.901Z"
   },
   {
    "duration": 7,
    "start_time": "2023-02-27T20:07:15.935Z"
   },
   {
    "duration": 14,
    "start_time": "2023-02-27T20:07:15.944Z"
   },
   {
    "duration": 7,
    "start_time": "2023-02-27T20:07:15.960Z"
   },
   {
    "duration": 10,
    "start_time": "2023-02-27T20:07:15.969Z"
   },
   {
    "duration": 8,
    "start_time": "2023-02-27T20:07:15.980Z"
   },
   {
    "duration": 7,
    "start_time": "2023-02-27T20:07:15.989Z"
   },
   {
    "duration": 57,
    "start_time": "2023-02-27T20:07:16.000Z"
   },
   {
    "duration": 16,
    "start_time": "2023-02-27T20:07:16.059Z"
   },
   {
    "duration": 12,
    "start_time": "2023-02-27T20:07:16.077Z"
   },
   {
    "duration": 17,
    "start_time": "2023-02-27T20:07:16.090Z"
   },
   {
    "duration": 43,
    "start_time": "2023-02-27T20:07:16.109Z"
   },
   {
    "duration": 202,
    "start_time": "2023-02-27T20:07:16.154Z"
   },
   {
    "duration": 9,
    "start_time": "2023-02-27T20:07:16.358Z"
   },
   {
    "duration": 10,
    "start_time": "2023-02-27T20:07:16.369Z"
   },
   {
    "duration": 297,
    "start_time": "2023-02-27T20:07:16.381Z"
   },
   {
    "duration": 4,
    "start_time": "2023-02-27T20:07:16.679Z"
   },
   {
    "duration": 31,
    "start_time": "2023-02-27T20:07:16.694Z"
   },
   {
    "duration": 526,
    "start_time": "2023-02-27T20:07:16.729Z"
   },
   {
    "duration": 28,
    "start_time": "2023-02-27T20:07:17.256Z"
   },
   {
    "duration": 377,
    "start_time": "2023-02-27T20:07:17.295Z"
   },
   {
    "duration": 3,
    "start_time": "2023-02-27T20:07:17.673Z"
   },
   {
    "duration": 136,
    "start_time": "2023-02-27T20:07:17.677Z"
   },
   {
    "duration": 200,
    "start_time": "2023-02-27T20:07:17.817Z"
   },
   {
    "duration": 145,
    "start_time": "2023-02-27T20:07:18.025Z"
   },
   {
    "duration": 2,
    "start_time": "2023-02-27T20:07:18.172Z"
   },
   {
    "duration": 20,
    "start_time": "2023-02-27T20:07:18.176Z"
   },
   {
    "duration": 176,
    "start_time": "2023-02-27T20:07:18.197Z"
   },
   {
    "duration": 5,
    "start_time": "2023-02-27T20:07:18.375Z"
   },
   {
    "duration": 179,
    "start_time": "2023-02-27T20:07:18.381Z"
   },
   {
    "duration": 5,
    "start_time": "2023-02-27T20:07:18.562Z"
   },
   {
    "duration": 476,
    "start_time": "2023-02-27T20:07:18.569Z"
   },
   {
    "duration": 332,
    "start_time": "2023-02-27T20:07:19.047Z"
   },
   {
    "duration": 404,
    "start_time": "2023-02-27T20:07:19.381Z"
   },
   {
    "duration": 17,
    "start_time": "2023-02-27T20:07:19.787Z"
   },
   {
    "duration": 40,
    "start_time": "2023-02-27T20:07:19.809Z"
   },
   {
    "duration": 7,
    "start_time": "2023-02-27T20:07:19.851Z"
   },
   {
    "duration": 338,
    "start_time": "2023-02-27T20:07:19.860Z"
   },
   {
    "duration": 5,
    "start_time": "2023-02-27T20:07:20.200Z"
   },
   {
    "duration": 22,
    "start_time": "2023-02-27T20:07:20.209Z"
   },
   {
    "duration": 12,
    "start_time": "2023-02-27T20:07:20.233Z"
   },
   {
    "duration": 328,
    "start_time": "2023-02-27T20:07:20.246Z"
   },
   {
    "duration": 3,
    "start_time": "2023-02-27T20:07:20.575Z"
   },
   {
    "duration": 17,
    "start_time": "2023-02-27T20:07:20.579Z"
   },
   {
    "duration": 23,
    "start_time": "2023-02-27T20:07:20.606Z"
   },
   {
    "duration": 7,
    "start_time": "2023-02-27T20:07:20.631Z"
   },
   {
    "duration": 19,
    "start_time": "2023-02-27T20:07:20.640Z"
   },
   {
    "duration": 262,
    "start_time": "2023-02-27T20:07:20.661Z"
   },
   {
    "duration": 7,
    "start_time": "2023-02-27T20:07:20.926Z"
   },
   {
    "duration": 15,
    "start_time": "2023-02-27T20:07:20.936Z"
   },
   {
    "duration": 93,
    "start_time": "2023-09-16T20:52:16.311Z"
   },
   {
    "duration": 114,
    "start_time": "2023-09-16T21:32:47.873Z"
   },
   {
    "duration": 4587,
    "start_time": "2023-09-16T21:33:45.524Z"
   },
   {
    "duration": 2846,
    "start_time": "2023-09-16T21:39:42.662Z"
   },
   {
    "duration": 2976,
    "start_time": "2023-09-16T21:40:00.919Z"
   },
   {
    "duration": 524,
    "start_time": "2023-09-16T21:40:03.898Z"
   },
   {
    "duration": 24,
    "start_time": "2023-09-16T21:40:04.427Z"
   },
   {
    "duration": 19,
    "start_time": "2023-09-16T21:40:04.453Z"
   },
   {
    "duration": 13,
    "start_time": "2023-09-16T21:40:04.474Z"
   },
   {
    "duration": 6,
    "start_time": "2023-09-16T21:40:04.488Z"
   },
   {
    "duration": 28,
    "start_time": "2023-09-16T21:40:04.496Z"
   },
   {
    "duration": 6,
    "start_time": "2023-09-16T21:40:04.525Z"
   },
   {
    "duration": 31,
    "start_time": "2023-09-16T21:40:04.533Z"
   },
   {
    "duration": 15,
    "start_time": "2023-09-16T21:40:04.568Z"
   },
   {
    "duration": 6,
    "start_time": "2023-09-16T21:40:04.585Z"
   },
   {
    "duration": 9,
    "start_time": "2023-09-16T21:40:04.593Z"
   },
   {
    "duration": 11,
    "start_time": "2023-09-16T21:40:04.606Z"
   },
   {
    "duration": 36,
    "start_time": "2023-09-16T21:40:04.619Z"
   },
   {
    "duration": 10,
    "start_time": "2023-09-16T21:40:04.660Z"
   },
   {
    "duration": 10,
    "start_time": "2023-09-16T21:40:04.672Z"
   },
   {
    "duration": 10,
    "start_time": "2023-09-16T21:40:04.684Z"
   },
   {
    "duration": 11,
    "start_time": "2023-09-16T21:40:04.696Z"
   },
   {
    "duration": 19,
    "start_time": "2023-09-16T21:40:04.709Z"
   },
   {
    "duration": 12,
    "start_time": "2023-09-16T21:40:04.729Z"
   },
   {
    "duration": 27,
    "start_time": "2023-09-16T21:40:04.742Z"
   },
   {
    "duration": 23,
    "start_time": "2023-09-16T21:40:04.771Z"
   },
   {
    "duration": 578,
    "start_time": "2023-09-16T21:40:04.796Z"
   },
   {
    "duration": 8,
    "start_time": "2023-09-16T21:40:05.376Z"
   },
   {
    "duration": 15,
    "start_time": "2023-09-16T21:40:05.385Z"
   },
   {
    "duration": 282,
    "start_time": "2023-09-16T21:40:05.401Z"
   },
   {
    "duration": 4,
    "start_time": "2023-09-16T21:40:05.685Z"
   },
   {
    "duration": 24,
    "start_time": "2023-09-16T21:40:05.691Z"
   },
   {
    "duration": 574,
    "start_time": "2023-09-16T21:40:05.717Z"
   },
   {
    "duration": 25,
    "start_time": "2023-09-16T21:40:06.293Z"
   },
   {
    "duration": 339,
    "start_time": "2023-09-16T21:40:06.320Z"
   },
   {
    "duration": 3,
    "start_time": "2023-09-16T21:40:06.660Z"
   },
   {
    "duration": 596,
    "start_time": "2023-09-16T21:40:06.665Z"
   },
   {
    "duration": 138,
    "start_time": "2023-09-16T21:40:07.263Z"
   },
   {
    "duration": 211,
    "start_time": "2023-09-16T21:40:07.403Z"
   },
   {
    "duration": 12,
    "start_time": "2023-09-16T21:40:07.616Z"
   },
   {
    "duration": 160,
    "start_time": "2023-09-16T21:40:07.629Z"
   },
   {
    "duration": 6,
    "start_time": "2023-09-16T21:40:07.791Z"
   },
   {
    "duration": 169,
    "start_time": "2023-09-16T21:40:07.798Z"
   },
   {
    "duration": 6,
    "start_time": "2023-09-16T21:40:07.970Z"
   },
   {
    "duration": 414,
    "start_time": "2023-09-16T21:40:07.977Z"
   },
   {
    "duration": 167,
    "start_time": "2023-09-16T21:40:08.393Z"
   },
   {
    "duration": 339,
    "start_time": "2023-09-16T21:40:08.562Z"
   },
   {
    "duration": 11,
    "start_time": "2023-09-16T21:40:08.902Z"
   },
   {
    "duration": 295,
    "start_time": "2023-09-16T21:40:08.914Z"
   },
   {
    "duration": 317,
    "start_time": "2023-09-16T21:40:09.210Z"
   },
   {
    "duration": 319,
    "start_time": "2023-09-16T21:40:09.528Z"
   },
   {
    "duration": 12,
    "start_time": "2023-09-16T21:40:09.849Z"
   },
   {
    "duration": 16,
    "start_time": "2023-09-16T21:40:09.863Z"
   },
   {
    "duration": 80,
    "start_time": "2023-09-16T21:45:04.770Z"
   }
  ],
  "kernelspec": {
   "display_name": "Python 3 (ipykernel)",
   "language": "python",
   "name": "python3"
  },
  "language_info": {
   "codemirror_mode": {
    "name": "ipython",
    "version": 3
   },
   "file_extension": ".py",
   "mimetype": "text/x-python",
   "name": "python",
   "nbconvert_exporter": "python",
   "pygments_lexer": "ipython3",
   "version": "3.9.5"
  },
  "toc": {
   "base_numbering": 1,
   "nav_menu": {},
   "number_sections": true,
   "sideBar": true,
   "skip_h1_title": true,
   "title_cell": "Table of Contents",
   "title_sidebar": "Contents",
   "toc_cell": false,
   "toc_position": {},
   "toc_section_display": true,
   "toc_window_display": false
  }
 },
 "nbformat": 4,
 "nbformat_minor": 2
}
